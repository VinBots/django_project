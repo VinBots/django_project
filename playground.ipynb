{
 "cells": [
  {
   "cell_type": "markdown",
   "metadata": {},
   "source": [
    "# Playground"
   ]
  },
  {
   "cell_type": "code",
   "execution_count": 112,
   "metadata": {},
   "outputs": [],
   "source": [
    "import datetime\n",
    "from datetime import datetime\n",
    "from csv import writer\n",
    "import csv\n",
    "import pandas as pd\n",
    "\n"
   ]
  },
  {
   "cell_type": "code",
   "execution_count": 113,
   "metadata": {},
   "outputs": [],
   "source": [
    "def convert_date(datetime_str):\n",
    "    format_str = \"%d-%b-%Y\"\n",
    "    datetime_obj = datetime.strptime(datetime_str, format_str)\n",
    "    return datetime_obj"
   ]
  },
  {
   "cell_type": "code",
   "execution_count": 229,
   "metadata": {},
   "outputs": [],
   "source": [
    "def create_csv(filename, header_list):\n",
    "    \"\"\"Initializes the log file\"\"\"\n",
    "    with open(filename, 'w', newline='') as file:\n",
    "        dw = csv.DictWriter(file, delimiter=',', \n",
    "                            fieldnames=header_list)\n",
    "        dw.writeheader()\n",
    "\n",
    "def add_to_csv(filename, record_list):\n",
    "    \"\"\"add a record to CSV file \"\"\"\n",
    "    with open(filename, 'a', newline='') as f:\n",
    "        writer_object = writer(f)\n",
    "        writer_object.writerow(record_list)\n",
    "\n",
    "def update_to_csv(filename, record, msg):\n",
    "    \"\"\"update a record in the CSV file\"\"\"\n",
    "    df = pd.read_csv(filename)\n",
    "    df.loc[df[\"date_str\"] == record[0],['last_update']]= msg\n",
    "    df.to_csv(filename, index=False)\n",
    "    \n",
    "def record_exist(record):\n",
    "    with open(filename) as file1:\n",
    "        #existing_lines = csv.reader(file1)\n",
    "        ex_lines = [line[0] for line in csv.reader(file1, delimiter=',')]\n",
    "        print (ex_lines)\n",
    "        test = record[0] in ex_lines\n",
    "    return test"
   ]
  },
  {
   "cell_type": "code",
   "execution_count": 230,
   "metadata": {},
   "outputs": [],
   "source": [
    "filename = 'co2_prices_log.csv'\n",
    "header_list = [\"date_str\", \"day\", \"month\", \"year\", \"co2_price\", \"last_update\"]\n",
    "create_csv(filename, header_list)\n"
   ]
  },
  {
   "cell_type": "code",
   "execution_count": 245,
   "metadata": {},
   "outputs": [
    {
     "name": "stdout",
     "output_type": "stream",
     "text": [
      "['date_str', '15-Dec-2021', '18-Dec-2021']\n"
     ]
    }
   ],
   "source": [
    "record_example = [\n",
    "    \"18-Dec-2021\",\n",
    "    \"10\",\n",
    "    \"12\",\n",
    "    \"2021\",\n",
    "    \"60.02\",\n",
    "    \"\"\n",
    "]\n",
    "if not record_exist(record_example):\n",
    "    add_to_csv(filename, record_example)\n",
    "else:\n",
    "    now = datetime.now() \n",
    "    date_time = now.strftime(\"%m/%d/%Y, %H:%M:%S\")\n",
    "    msg = f'last update: {date_time}'\n",
    "    update_to_csv(filename, record_example, msg)"
   ]
  },
  {
   "cell_type": "code",
   "execution_count": 246,
   "metadata": {},
   "outputs": [],
   "source": [
    "datetime_obj = convert_date(datetime_str)\n"
   ]
  },
  {
   "cell_type": "code",
   "execution_count": 252,
   "metadata": {},
   "outputs": [
    {
     "data": {
      "text/plain": [
       "12"
      ]
     },
     "execution_count": 252,
     "metadata": {},
     "output_type": "execute_result"
    }
   ],
   "source": [
    "datetime_obj.month"
   ]
  },
  {
   "cell_type": "code",
   "execution_count": 43,
   "metadata": {},
   "outputs": [
    {
     "name": "stdout",
     "output_type": "stream",
     "text": [
      "datetime string : 10-Dec-2021\n"
     ]
    }
   ],
   "source": [
    "print(\"datetime string : {}\".format(datetime_str))"
   ]
  },
  {
   "cell_type": "code",
   "execution_count": null,
   "metadata": {},
   "outputs": [],
   "source": []
  },
  {
   "cell_type": "code",
   "execution_count": 44,
   "metadata": {},
   "outputs": [
    {
     "data": {
      "text/plain": [
       "'Friday'"
      ]
     },
     "execution_count": 44,
     "metadata": {},
     "output_type": "execute_result"
    }
   ],
   "source": [
    "datetime_obj.strftime('%A')"
   ]
  },
  {
   "cell_type": "code",
   "execution_count": 45,
   "metadata": {},
   "outputs": [],
   "source": []
  },
  {
   "cell_type": "code",
   "execution_count": null,
   "metadata": {},
   "outputs": [],
   "source": []
  },
  {
   "cell_type": "code",
   "execution_count": null,
   "metadata": {},
   "outputs": [],
   "source": []
  }
 ],
 "metadata": {
  "interpreter": {
   "hash": "84b39baf505a8e38b7ec8824bbebc862e460fb036cb6aab4774c507962c1b49d"
  },
  "kernelspec": {
   "display_name": "Python 3.8.10 64-bit ('net0': conda)",
   "name": "python3"
  },
  "language_info": {
   "codemirror_mode": {
    "name": "ipython",
    "version": 3
   },
   "file_extension": ".py",
   "mimetype": "text/x-python",
   "name": "python",
   "nbconvert_exporter": "python",
   "pygments_lexer": "ipython3",
   "version": "3.6.13"
  }
 },
 "nbformat": 4,
 "nbformat_minor": 4
}
