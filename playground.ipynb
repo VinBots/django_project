{
 "cells": [
  {
   "cell_type": "markdown",
   "metadata": {},
   "source": [
    "# Playground"
   ]
  },
  {
   "cell_type": "code",
   "execution_count": null,
   "metadata": {},
   "outputs": [],
   "source": [
    "scope_12_best=125\n",
    "scope_3_best=None\n",
    "total = [scope_12_best,scope_3_best]\n",
    "total_reported = sum(list(filter(bool, total)))\n"
   ]
  },
  {
   "cell_type": "code",
   "execution_count": null,
   "metadata": {},
   "outputs": [],
   "source": [
    "total_reported"
   ]
  },
  {
   "cell_type": "code",
   "execution_count": null,
   "metadata": {},
   "outputs": [],
   "source": []
  },
  {
   "cell_type": "code",
   "execution_count": 1,
   "metadata": {},
   "outputs": [
    {
     "name": "stdout",
     "output_type": "stream",
     "text": [
      "Match 1 was found at 5-8: 4°C\n",
      "Group 1 found at 5-6: 4\n",
      "Group 2 found at 6-8: °C\n",
      "Match 2 was found at 9-14: 1.2°C\n",
      "Group 1 found at 9-12: 1.2\n",
      "Group 2 found at 12-14: °C\n",
      "Match 3 was found at 15-20: 2.5°C\n",
      "Group 1 found at 15-18: 2.5\n",
      "Group 2 found at 18-20: °C\n"
     ]
    }
   ],
   "source": [
    "import re\n",
    "\n",
    "regex = r\"(\\d.*d*)(°C)\"\n",
    "\n",
    "test_str = (\"over 4°C\\n\"\n",
    "\t\"1.2°C\\n\"\n",
    "\t\"2.5°C\\n\\n\")\n",
    "\n",
    "matches = re.finditer(regex, test_str)\n",
    "\n",
    "for matchNum, match in enumerate(matches, start=1):\n",
    "    \n",
    "    print (\"Match {matchNum} was found at {start}-{end}: {match}\".format(matchNum = matchNum, start = match.start(), end = match.end(), match = match.group()))\n",
    "    \n",
    "    for groupNum in range(0, len(match.groups())):\n",
    "        groupNum = groupNum + 1\n",
    "        \n",
    "        print (\"Group {groupNum} found at {start}-{end}: {group}\".format(groupNum = groupNum, start = match.start(groupNum), end = match.end(groupNum), group = match.group(groupNum)))"
   ]
  },
  {
   "cell_type": "code",
   "execution_count": 10,
   "metadata": {},
   "outputs": [
    {
     "name": "stdout",
     "output_type": "stream",
     "text": [
      "4.0\n",
      "1.2\n",
      "2.5\n"
     ]
    }
   ],
   "source": [
    "test_str = [\"over 4°C\", \"1.2°C\", \"2.5°C\"]\n",
    "for itr in test_str:\n",
    "    print (float(itr.replace(\"over\",'').replace(\"°C\", \"\")))\n"
   ]
  },
  {
   "cell_type": "code",
   "execution_count": 6,
   "metadata": {},
   "outputs": [
    {
     "name": "stdout",
     "output_type": "stream",
     "text": [
      " 4°C\n"
     ]
    }
   ],
   "source": [
    "print (itr)"
   ]
  },
  {
   "cell_type": "code",
   "execution_count": null,
   "metadata": {},
   "outputs": [],
   "source": []
  },
  {
   "cell_type": "code",
   "execution_count": 4,
   "metadata": {},
   "outputs": [],
   "source": [
    "from urllib.request import Request, urlopen\n",
    "url_path=\"https://sciencebasedtargets.org/download/excel\"\n",
    "\n",
    "def download_file(download_url, filename):\n",
    "    req = Request (download_url, headers={'User-Agent': 'Mozilla/5.0'})\n",
    "    response = urlopen(req, timeout=10)    \n",
    "    file = open(filename + \".xlsx\", 'wb')\n",
    "    file.write(response.read())\n",
    "    file.close()\n",
    "\n",
    "download_file(url_path, \"test\")"
   ]
  },
  {
   "cell_type": "code",
   "execution_count": null,
   "metadata": {},
   "outputs": [],
   "source": []
  },
  {
   "cell_type": "code",
   "execution_count": null,
   "metadata": {},
   "outputs": [],
   "source": [
    "import sys\n",
    "from decimal import Decimal, getcontext\n",
    "getcontext().prec=1\n",
    "a = float(1.0)\n",
    "b = Decimal (1.0)"
   ]
  },
  {
   "cell_type": "code",
   "execution_count": null,
   "metadata": {},
   "outputs": [],
   "source": [
    "print (sys.getsizeof(a))\n",
    "print (sys.getsizeof(b))"
   ]
  },
  {
   "cell_type": "code",
   "execution_count": 17,
   "metadata": {},
   "outputs": [],
   "source": [
    "import datetime\n",
    "from datetime import datetime\n",
    "from csv import writer\n",
    "import csv\n",
    "import pandas as pd\n",
    "\n"
   ]
  },
  {
   "cell_type": "code",
   "execution_count": 113,
   "metadata": {},
   "outputs": [],
   "source": [
    "def convert_date(datetime_str):\n",
    "    format_str = \"%d-%b-%Y\"\n",
    "    datetime_obj = datetime.strptime(datetime_str, format_str)\n",
    "    return datetime_obj"
   ]
  },
  {
   "cell_type": "code",
   "execution_count": 229,
   "metadata": {},
   "outputs": [],
   "source": [
    "def create_csv(filename, header_list):\n",
    "    \"\"\"Initializes the log file\"\"\"\n",
    "    with open(filename, 'w', newline='') as file:\n",
    "        dw = csv.DictWriter(file, delimiter=',', \n",
    "                            fieldnames=header_list)\n",
    "        dw.writeheader()\n",
    "\n",
    "def add_to_csv(filename, record_list):\n",
    "    \"\"\"add a record to CSV file \"\"\"\n",
    "    with open(filename, 'a', newline='') as f:\n",
    "        writer_object = writer(f)\n",
    "        writer_object.writerow(record_list)\n",
    "\n",
    "def update_to_csv(filename, record, msg):\n",
    "    \"\"\"update a record in the CSV file\"\"\"\n",
    "    df = pd.read_csv(filename)\n",
    "    df.loc[df[\"date_str\"] == record[0],['last_update']]= msg\n",
    "    df.to_csv(filename, index=False)\n",
    "    \n",
    "def record_exist(record):\n",
    "    with open(filename) as file1:\n",
    "        #existing_lines = csv.reader(file1)\n",
    "        ex_lines = [line[0] for line in csv.reader(file1, delimiter=',')]\n",
    "        print (ex_lines)\n",
    "        test = record[0] in ex_lines\n",
    "    return test"
   ]
  },
  {
   "cell_type": "code",
   "execution_count": 230,
   "metadata": {},
   "outputs": [],
   "source": [
    "filename = 'co2_prices_log.csv'\n",
    "header_list = [\"date_str\", \"day\", \"month\", \"year\", \"co2_price\", \"last_update\"]\n",
    "create_csv(filename, header_list)\n"
   ]
  },
  {
   "cell_type": "code",
   "execution_count": 245,
   "metadata": {},
   "outputs": [
    {
     "name": "stdout",
     "output_type": "stream",
     "text": [
      "['date_str', '15-Dec-2021', '18-Dec-2021']\n"
     ]
    }
   ],
   "source": [
    "record_example = [\n",
    "    \"18-Dec-2021\",\n",
    "    \"10\",\n",
    "    \"12\",\n",
    "    \"2021\",\n",
    "    \"60.02\",\n",
    "    \"\"\n",
    "]\n",
    "if not record_exist(record_example):\n",
    "    add_to_csv(filename, record_example)\n",
    "else:\n",
    "    now = datetime.now() \n",
    "    date_time = now.strftime(\"%m/%d/%Y, %H:%M:%S\")\n",
    "    msg = f'last update: {date_time}'\n",
    "    update_to_csv(filename, record_example, msg)"
   ]
  },
  {
   "cell_type": "code",
   "execution_count": 246,
   "metadata": {},
   "outputs": [],
   "source": [
    "datetime_obj = convert_date(datetime_str)\n"
   ]
  },
  {
   "cell_type": "code",
   "execution_count": 252,
   "metadata": {},
   "outputs": [
    {
     "data": {
      "text/plain": [
       "12"
      ]
     },
     "execution_count": 252,
     "metadata": {},
     "output_type": "execute_result"
    }
   ],
   "source": [
    "datetime_obj.month"
   ]
  },
  {
   "cell_type": "code",
   "execution_count": 43,
   "metadata": {},
   "outputs": [
    {
     "name": "stdout",
     "output_type": "stream",
     "text": [
      "datetime string : 10-Dec-2021\n"
     ]
    }
   ],
   "source": [
    "print(\"datetime string : {}\".format(datetime_str))"
   ]
  },
  {
   "cell_type": "code",
   "execution_count": null,
   "metadata": {},
   "outputs": [],
   "source": []
  },
  {
   "cell_type": "code",
   "execution_count": 44,
   "metadata": {},
   "outputs": [
    {
     "data": {
      "text/plain": [
       "'Friday'"
      ]
     },
     "execution_count": 44,
     "metadata": {},
     "output_type": "execute_result"
    }
   ],
   "source": [
    "datetime_obj.strftime('%A')"
   ]
  },
  {
   "cell_type": "code",
   "execution_count": null,
   "metadata": {},
   "outputs": [],
   "source": []
  },
  {
   "cell_type": "code",
   "execution_count": null,
   "metadata": {},
   "outputs": [],
   "source": []
  }
 ],
 "metadata": {
  "interpreter": {
   "hash": "3707c4344784f53afb337ee2cb97813e0334f8a254ce3c2a00080135d702d75d"
  },
  "kernelspec": {
   "display_name": "Python 3.8.10 ('django_web')",
   "language": "python",
   "name": "python3"
  },
  "language_info": {
   "codemirror_mode": {
    "name": "ipython",
    "version": 3
   },
   "file_extension": ".py",
   "mimetype": "text/x-python",
   "name": "python",
   "nbconvert_exporter": "python",
   "pygments_lexer": "ipython3",
   "version": "3.8.10"
  }
 },
 "nbformat": 4,
 "nbformat_minor": 4
}
