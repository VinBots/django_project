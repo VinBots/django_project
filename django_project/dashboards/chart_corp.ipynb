{
 "cells": [
  {
   "cell_type": "markdown",
   "metadata": {},
   "source": [
    "# Playground"
   ]
  },
  {
   "cell_type": "markdown",
   "metadata": {},
   "source": [
    "## Import Libraries"
   ]
  },
  {
   "cell_type": "code",
   "execution_count": 9,
   "metadata": {},
   "outputs": [],
   "source": [
    "import pandas as pd\n",
    "import plotly.graph_objs as go\n",
    "import plotly.offline as offline\n",
    "import os\n",
    "import numpy as np"
   ]
  },
  {
   "cell_type": "code",
   "execution_count": 2,
   "metadata": {},
   "outputs": [
    {
     "output_type": "display_data",
     "data": {
      "text/html": "        <script type=\"text/javascript\">\n        window.PlotlyConfig = {MathJaxConfig: 'local'};\n        if (window.MathJax) {MathJax.Hub.Config({SVG: {font: \"STIX-Web\"}});}\n        if (typeof require !== 'undefined') {\n        require.undef(\"plotly\");\n        requirejs.config({\n            paths: {\n                'plotly': ['https://cdn.plot.ly/plotly-latest.min']\n            }\n        });\n        require(['plotly'], function(Plotly) {\n            window._Plotly = Plotly;\n        });\n        }\n        </script>\n        "
     },
     "metadata": {}
    }
   ],
   "source": [
    "offline.init_notebook_mode(connected=True)"
   ]
  },
  {
   "cell_type": "code",
   "execution_count": 52,
   "metadata": {},
   "outputs": [
    {
     "output_type": "display_data",
     "data": {
      "application/vnd.plotly.v1+json": {
       "config": {
        "plotlyServerURL": "https://plot.ly"
       },
       "data": [
        {
         "delta": {
          "reference": 4.5
         },
         "domain": {
          "x": [
           0.25,
           1
          ],
          "y": [
           0.05,
           0.25
          ]
         },
         "gauge": {
          "axis": {
           "range": [
            null,
            5
           ]
          },
          "bar": {
           "color": "#003200",
           "thickness": 0.4
          },
          "shape": "bullet",
          "steps": [
           {
            "color": "#ed453b",
            "range": [
             0,
             2.5
            ]
           },
           {
            "color": "#ecb27e",
            "range": [
             2.5,
             4
            ]
           },
           {
            "color": "#e0e0a3",
            "range": [
             4,
             5
            ]
           }
          ],
          "threshold": {
           "line": {
            "color": "red",
            "width": 5
           },
           "thickness": 0.75,
           "value": 4.5
          }
         },
         "mode": "number+gauge+delta",
         "title": {
          "font": {
           "size": 15
          },
          "text": "<b>Momentum</b>"
         },
         "type": "indicator",
         "value": 3.5
        },
        {
         "delta": {
          "reference": 3.3
         },
         "domain": {
          "x": [
           0.25,
           1
          ],
          "y": [
           0.4,
           0.6
          ]
         },
         "gauge": {
          "axis": {
           "range": [
            null,
            5
           ]
          },
          "bar": {
           "color": "#003200",
           "thickness": 0.4
          },
          "shape": "bullet",
          "steps": [
           {
            "color": "#ed453b",
            "range": [
             0,
             2.5
            ]
           },
           {
            "color": "#ecb27e",
            "range": [
             2.5,
             4
            ]
           },
           {
            "color": "#e0e0a3",
            "range": [
             4,
             5
            ]
           }
          ],
          "threshold": {
           "line": {
            "color": "red",
            "width": 5
           },
           "thickness": 0.75,
           "value": 3.3
          }
         },
         "mode": "number+gauge+delta",
         "title": {
          "font": {
           "size": 15
          },
          "text": "<b>Seriousness</b>"
         },
         "type": "indicator",
         "value": 3.5
        },
        {
         "delta": {
          "reference": 4
         },
         "domain": {
          "x": [
           0.25,
           1
          ],
          "y": [
           0.7,
           0.9
          ]
         },
         "gauge": {
          "axis": {
           "range": [
            null,
            5
           ]
          },
          "bar": {
           "color": "#003200",
           "thickness": 0.4
          },
          "shape": "bullet",
          "steps": [
           {
            "color": "#ed453b",
            "range": [
             0,
             2.5
            ]
           },
           {
            "color": "#ecb27e",
            "range": [
             2.5,
             4
            ]
           },
           {
            "color": "#e0e0a3",
            "range": [
             4,
             5
            ]
           }
          ],
          "threshold": {
           "line": {
            "color": "red",
            "width": 5
           },
           "thickness": 0.75,
           "value": 4
          }
         },
         "mode": "number+gauge+delta",
         "title": {
          "font": {
           "size": 15
          },
          "text": "<b>Transparency</b>"
         },
         "type": "indicator",
         "value": 4.5
        }
       ],
       "layout": {
        "height": 300,
        "margin": {
         "b": 0,
         "l": 0,
         "t": 0
        },
        "template": {
         "data": {
          "bar": [
           {
            "error_x": {
             "color": "#2a3f5f"
            },
            "error_y": {
             "color": "#2a3f5f"
            },
            "marker": {
             "line": {
              "color": "#E5ECF6",
              "width": 0.5
             }
            },
            "type": "bar"
           }
          ],
          "barpolar": [
           {
            "marker": {
             "line": {
              "color": "#E5ECF6",
              "width": 0.5
             }
            },
            "type": "barpolar"
           }
          ],
          "carpet": [
           {
            "aaxis": {
             "endlinecolor": "#2a3f5f",
             "gridcolor": "white",
             "linecolor": "white",
             "minorgridcolor": "white",
             "startlinecolor": "#2a3f5f"
            },
            "baxis": {
             "endlinecolor": "#2a3f5f",
             "gridcolor": "white",
             "linecolor": "white",
             "minorgridcolor": "white",
             "startlinecolor": "#2a3f5f"
            },
            "type": "carpet"
           }
          ],
          "choropleth": [
           {
            "colorbar": {
             "outlinewidth": 0,
             "ticks": ""
            },
            "type": "choropleth"
           }
          ],
          "contour": [
           {
            "colorbar": {
             "outlinewidth": 0,
             "ticks": ""
            },
            "colorscale": [
             [
              0,
              "#0d0887"
             ],
             [
              0.1111111111111111,
              "#46039f"
             ],
             [
              0.2222222222222222,
              "#7201a8"
             ],
             [
              0.3333333333333333,
              "#9c179e"
             ],
             [
              0.4444444444444444,
              "#bd3786"
             ],
             [
              0.5555555555555556,
              "#d8576b"
             ],
             [
              0.6666666666666666,
              "#ed7953"
             ],
             [
              0.7777777777777778,
              "#fb9f3a"
             ],
             [
              0.8888888888888888,
              "#fdca26"
             ],
             [
              1,
              "#f0f921"
             ]
            ],
            "type": "contour"
           }
          ],
          "contourcarpet": [
           {
            "colorbar": {
             "outlinewidth": 0,
             "ticks": ""
            },
            "type": "contourcarpet"
           }
          ],
          "heatmap": [
           {
            "colorbar": {
             "outlinewidth": 0,
             "ticks": ""
            },
            "colorscale": [
             [
              0,
              "#0d0887"
             ],
             [
              0.1111111111111111,
              "#46039f"
             ],
             [
              0.2222222222222222,
              "#7201a8"
             ],
             [
              0.3333333333333333,
              "#9c179e"
             ],
             [
              0.4444444444444444,
              "#bd3786"
             ],
             [
              0.5555555555555556,
              "#d8576b"
             ],
             [
              0.6666666666666666,
              "#ed7953"
             ],
             [
              0.7777777777777778,
              "#fb9f3a"
             ],
             [
              0.8888888888888888,
              "#fdca26"
             ],
             [
              1,
              "#f0f921"
             ]
            ],
            "type": "heatmap"
           }
          ],
          "heatmapgl": [
           {
            "colorbar": {
             "outlinewidth": 0,
             "ticks": ""
            },
            "colorscale": [
             [
              0,
              "#0d0887"
             ],
             [
              0.1111111111111111,
              "#46039f"
             ],
             [
              0.2222222222222222,
              "#7201a8"
             ],
             [
              0.3333333333333333,
              "#9c179e"
             ],
             [
              0.4444444444444444,
              "#bd3786"
             ],
             [
              0.5555555555555556,
              "#d8576b"
             ],
             [
              0.6666666666666666,
              "#ed7953"
             ],
             [
              0.7777777777777778,
              "#fb9f3a"
             ],
             [
              0.8888888888888888,
              "#fdca26"
             ],
             [
              1,
              "#f0f921"
             ]
            ],
            "type": "heatmapgl"
           }
          ],
          "histogram": [
           {
            "marker": {
             "colorbar": {
              "outlinewidth": 0,
              "ticks": ""
             }
            },
            "type": "histogram"
           }
          ],
          "histogram2d": [
           {
            "colorbar": {
             "outlinewidth": 0,
             "ticks": ""
            },
            "colorscale": [
             [
              0,
              "#0d0887"
             ],
             [
              0.1111111111111111,
              "#46039f"
             ],
             [
              0.2222222222222222,
              "#7201a8"
             ],
             [
              0.3333333333333333,
              "#9c179e"
             ],
             [
              0.4444444444444444,
              "#bd3786"
             ],
             [
              0.5555555555555556,
              "#d8576b"
             ],
             [
              0.6666666666666666,
              "#ed7953"
             ],
             [
              0.7777777777777778,
              "#fb9f3a"
             ],
             [
              0.8888888888888888,
              "#fdca26"
             ],
             [
              1,
              "#f0f921"
             ]
            ],
            "type": "histogram2d"
           }
          ],
          "histogram2dcontour": [
           {
            "colorbar": {
             "outlinewidth": 0,
             "ticks": ""
            },
            "colorscale": [
             [
              0,
              "#0d0887"
             ],
             [
              0.1111111111111111,
              "#46039f"
             ],
             [
              0.2222222222222222,
              "#7201a8"
             ],
             [
              0.3333333333333333,
              "#9c179e"
             ],
             [
              0.4444444444444444,
              "#bd3786"
             ],
             [
              0.5555555555555556,
              "#d8576b"
             ],
             [
              0.6666666666666666,
              "#ed7953"
             ],
             [
              0.7777777777777778,
              "#fb9f3a"
             ],
             [
              0.8888888888888888,
              "#fdca26"
             ],
             [
              1,
              "#f0f921"
             ]
            ],
            "type": "histogram2dcontour"
           }
          ],
          "mesh3d": [
           {
            "colorbar": {
             "outlinewidth": 0,
             "ticks": ""
            },
            "type": "mesh3d"
           }
          ],
          "parcoords": [
           {
            "line": {
             "colorbar": {
              "outlinewidth": 0,
              "ticks": ""
             }
            },
            "type": "parcoords"
           }
          ],
          "pie": [
           {
            "automargin": true,
            "type": "pie"
           }
          ],
          "scatter": [
           {
            "marker": {
             "colorbar": {
              "outlinewidth": 0,
              "ticks": ""
             }
            },
            "type": "scatter"
           }
          ],
          "scatter3d": [
           {
            "line": {
             "colorbar": {
              "outlinewidth": 0,
              "ticks": ""
             }
            },
            "marker": {
             "colorbar": {
              "outlinewidth": 0,
              "ticks": ""
             }
            },
            "type": "scatter3d"
           }
          ],
          "scattercarpet": [
           {
            "marker": {
             "colorbar": {
              "outlinewidth": 0,
              "ticks": ""
             }
            },
            "type": "scattercarpet"
           }
          ],
          "scattergeo": [
           {
            "marker": {
             "colorbar": {
              "outlinewidth": 0,
              "ticks": ""
             }
            },
            "type": "scattergeo"
           }
          ],
          "scattergl": [
           {
            "marker": {
             "colorbar": {
              "outlinewidth": 0,
              "ticks": ""
             }
            },
            "type": "scattergl"
           }
          ],
          "scattermapbox": [
           {
            "marker": {
             "colorbar": {
              "outlinewidth": 0,
              "ticks": ""
             }
            },
            "type": "scattermapbox"
           }
          ],
          "scatterpolar": [
           {
            "marker": {
             "colorbar": {
              "outlinewidth": 0,
              "ticks": ""
             }
            },
            "type": "scatterpolar"
           }
          ],
          "scatterpolargl": [
           {
            "marker": {
             "colorbar": {
              "outlinewidth": 0,
              "ticks": ""
             }
            },
            "type": "scatterpolargl"
           }
          ],
          "scatterternary": [
           {
            "marker": {
             "colorbar": {
              "outlinewidth": 0,
              "ticks": ""
             }
            },
            "type": "scatterternary"
           }
          ],
          "surface": [
           {
            "colorbar": {
             "outlinewidth": 0,
             "ticks": ""
            },
            "colorscale": [
             [
              0,
              "#0d0887"
             ],
             [
              0.1111111111111111,
              "#46039f"
             ],
             [
              0.2222222222222222,
              "#7201a8"
             ],
             [
              0.3333333333333333,
              "#9c179e"
             ],
             [
              0.4444444444444444,
              "#bd3786"
             ],
             [
              0.5555555555555556,
              "#d8576b"
             ],
             [
              0.6666666666666666,
              "#ed7953"
             ],
             [
              0.7777777777777778,
              "#fb9f3a"
             ],
             [
              0.8888888888888888,
              "#fdca26"
             ],
             [
              1,
              "#f0f921"
             ]
            ],
            "type": "surface"
           }
          ],
          "table": [
           {
            "cells": {
             "fill": {
              "color": "#EBF0F8"
             },
             "line": {
              "color": "white"
             }
            },
            "header": {
             "fill": {
              "color": "#C8D4E3"
             },
             "line": {
              "color": "white"
             }
            },
            "type": "table"
           }
          ]
         },
         "layout": {
          "annotationdefaults": {
           "arrowcolor": "#2a3f5f",
           "arrowhead": 0,
           "arrowwidth": 1
          },
          "autotypenumbers": "strict",
          "coloraxis": {
           "colorbar": {
            "outlinewidth": 0,
            "ticks": ""
           }
          },
          "colorscale": {
           "diverging": [
            [
             0,
             "#8e0152"
            ],
            [
             0.1,
             "#c51b7d"
            ],
            [
             0.2,
             "#de77ae"
            ],
            [
             0.3,
             "#f1b6da"
            ],
            [
             0.4,
             "#fde0ef"
            ],
            [
             0.5,
             "#f7f7f7"
            ],
            [
             0.6,
             "#e6f5d0"
            ],
            [
             0.7,
             "#b8e186"
            ],
            [
             0.8,
             "#7fbc41"
            ],
            [
             0.9,
             "#4d9221"
            ],
            [
             1,
             "#276419"
            ]
           ],
           "sequential": [
            [
             0,
             "#0d0887"
            ],
            [
             0.1111111111111111,
             "#46039f"
            ],
            [
             0.2222222222222222,
             "#7201a8"
            ],
            [
             0.3333333333333333,
             "#9c179e"
            ],
            [
             0.4444444444444444,
             "#bd3786"
            ],
            [
             0.5555555555555556,
             "#d8576b"
            ],
            [
             0.6666666666666666,
             "#ed7953"
            ],
            [
             0.7777777777777778,
             "#fb9f3a"
            ],
            [
             0.8888888888888888,
             "#fdca26"
            ],
            [
             1,
             "#f0f921"
            ]
           ],
           "sequentialminus": [
            [
             0,
             "#0d0887"
            ],
            [
             0.1111111111111111,
             "#46039f"
            ],
            [
             0.2222222222222222,
             "#7201a8"
            ],
            [
             0.3333333333333333,
             "#9c179e"
            ],
            [
             0.4444444444444444,
             "#bd3786"
            ],
            [
             0.5555555555555556,
             "#d8576b"
            ],
            [
             0.6666666666666666,
             "#ed7953"
            ],
            [
             0.7777777777777778,
             "#fb9f3a"
            ],
            [
             0.8888888888888888,
             "#fdca26"
            ],
            [
             1,
             "#f0f921"
            ]
           ]
          },
          "colorway": [
           "#636efa",
           "#EF553B",
           "#00cc96",
           "#ab63fa",
           "#FFA15A",
           "#19d3f3",
           "#FF6692",
           "#B6E880",
           "#FF97FF",
           "#FECB52"
          ],
          "font": {
           "color": "#2a3f5f"
          },
          "geo": {
           "bgcolor": "white",
           "lakecolor": "white",
           "landcolor": "#E5ECF6",
           "showlakes": true,
           "showland": true,
           "subunitcolor": "white"
          },
          "hoverlabel": {
           "align": "left"
          },
          "hovermode": "closest",
          "mapbox": {
           "style": "light"
          },
          "paper_bgcolor": "white",
          "plot_bgcolor": "#E5ECF6",
          "polar": {
           "angularaxis": {
            "gridcolor": "white",
            "linecolor": "white",
            "ticks": ""
           },
           "bgcolor": "#E5ECF6",
           "radialaxis": {
            "gridcolor": "white",
            "linecolor": "white",
            "ticks": ""
           }
          },
          "scene": {
           "xaxis": {
            "backgroundcolor": "#E5ECF6",
            "gridcolor": "white",
            "gridwidth": 2,
            "linecolor": "white",
            "showbackground": true,
            "ticks": "",
            "zerolinecolor": "white"
           },
           "yaxis": {
            "backgroundcolor": "#E5ECF6",
            "gridcolor": "white",
            "gridwidth": 2,
            "linecolor": "white",
            "showbackground": true,
            "ticks": "",
            "zerolinecolor": "white"
           },
           "zaxis": {
            "backgroundcolor": "#E5ECF6",
            "gridcolor": "white",
            "gridwidth": 2,
            "linecolor": "white",
            "showbackground": true,
            "ticks": "",
            "zerolinecolor": "white"
           }
          },
          "shapedefaults": {
           "line": {
            "color": "#2a3f5f"
           }
          },
          "ternary": {
           "aaxis": {
            "gridcolor": "white",
            "linecolor": "white",
            "ticks": ""
           },
           "baxis": {
            "gridcolor": "white",
            "linecolor": "white",
            "ticks": ""
           },
           "bgcolor": "#E5ECF6",
           "caxis": {
            "gridcolor": "white",
            "linecolor": "white",
            "ticks": ""
           }
          },
          "title": {
           "x": 0.05
          },
          "xaxis": {
           "automargin": true,
           "gridcolor": "white",
           "linecolor": "white",
           "ticks": "",
           "title": {
            "standoff": 15
           },
           "zerolinecolor": "white",
           "zerolinewidth": 2
          },
          "yaxis": {
           "automargin": true,
           "gridcolor": "white",
           "linecolor": "white",
           "ticks": "",
           "title": {
            "standoff": 15
           },
           "zerolinecolor": "white",
           "zerolinewidth": 2
          }
         }
        }
       }
      }
     },
     "metadata": {}
    }
   ],
   "source": [
    "import plotly.graph_objects as go\n",
    "\n",
    "fig = go.Figure()\n",
    "\n",
    "fig.add_trace(go.Indicator(\n",
    "    mode = \"number+gauge+delta\", value = 3.5,\n",
    "    delta = {'reference': 4.5},\n",
    "    domain = {'x': [0.25, 1], 'y': [0.05, 0.25]},\n",
    "    title = {\n",
    "        'text': \"<b>Momentum</b>\",\n",
    "        'font': {'size': 15}\n",
    "    },\n",
    "    gauge = {\n",
    "        'shape': \"bullet\",\n",
    "        'axis': {'range': [None, 5]},\n",
    "        'threshold': {\n",
    "            'line': {'color': \"red\", 'width': 5},\n",
    "            'thickness': 0.75,\n",
    "            'value': 4.5},\n",
    "        'steps': [\n",
    "            {'range': [0, 2.5], 'color': \"#ed453b\"},\n",
    "            {'range': [2.5, 4.0], 'color': \"#ecb27e\"},\n",
    "            {'range': [4.0, 5.0], 'color':'#e0e0a3'}],\n",
    "        'bar': {'color': \"#003200\",\n",
    "                'thickness': 0.40\n",
    "                }}))\n",
    "\n",
    "fig.add_trace(go.Indicator(\n",
    "    mode = \"number+gauge+delta\", value = 3.5,\n",
    "    delta = {'reference': 3.3},\n",
    "    domain = {'x': [0.25, 1], 'y': [0.4, 0.6]},\n",
    "        title = {\n",
    "        'text': \"<b>Seriousness</b>\",\n",
    "        'font': {'size': 15}\n",
    "    },\n",
    "    gauge = {\n",
    "        'shape': \"bullet\",\n",
    "        'axis': {'range': [None, 5]},\n",
    "        'threshold': {\n",
    "            'line': {'color': \"red\", 'width': 5},\n",
    "            'thickness': 0.75,\n",
    "            'value': 3.3},\n",
    "        'steps': [\n",
    "            {'range': [0, 2.5], 'color': \"#ed453b\"},\n",
    "            {'range': [2.5, 4.0], 'color': \"#ecb27e\"},\n",
    "            {'range': [4.0, 5.0], 'color':'#e0e0a3'}],\n",
    "        'bar': {'color': \"#003200\",\n",
    "                'thickness': 0.40}}))\n",
    "\n",
    "fig.add_trace(go.Indicator(\n",
    "    mode = \"number+gauge+delta\", value = 4.5,\n",
    "    delta = {'reference': 4.0},\n",
    "    domain = {'x': [0.25, 1], 'y': [0.7, 0.9]},\n",
    "       title = {\n",
    "        'text': \"<b>Transparency</b>\",\n",
    "        'font': {'size': 15},\n",
    "    },\n",
    "    gauge = {\n",
    "        'shape': \"bullet\",\n",
    "        'axis': {'range': [None, 5]},\n",
    "        'threshold': {\n",
    "            'line': {'color': \"red\", 'width': 5},\n",
    "            'thickness': 0.75,\n",
    "            'value': 4.0},\n",
    "        'steps': [\n",
    "            {'range': [0, 2.5], 'color': \"#ed453b\"},\n",
    "            {'range': [2.5, 4.0], 'color': \"#ecb27e\"},\n",
    "            {'range': [4.0, 5.0], 'color':'#e0e0a3'}],\n",
    "        'bar': {'color': \"#003200\",\n",
    "                'thickness': 0.40}}))\n",
    "fig.update_layout(height = 300, margin = {'t':0, 'b':0, 'l':0})\n",
    "\n",
    "fig.show()"
   ]
  },
  {
   "cell_type": "code",
   "execution_count": 11,
   "metadata": {},
   "outputs": [],
   "source": [
    "html_file = offline.plot(fig, filename = \"../templates/django_project/corporates/content/corp_bullet.html\", output_type='file')"
   ]
  },
  {
   "cell_type": "code",
   "execution_count": 16,
   "metadata": {},
   "outputs": [
    {
     "output_type": "execute_result",
     "data": {
      "text/plain": [
       "'temp-plot.html'"
      ]
     },
     "metadata": {},
     "execution_count": 16
    }
   ],
   "source": [
    "\n",
    "fig = go.Figure()\n",
    "\n",
    "fig.add_trace(go.Indicator(\n",
    "    mode = \"number+gauge+delta\", value = 3.5,\n",
    "    delta = {'reference': 4.5},\n",
    "    domain = {'x': [0.25, 1], 'y': [0.05, 0.25]},\n",
    "    title = {\n",
    "        'text': \"<b>Momentum</b>\",\n",
    "        'font': {'size': 15}\n",
    "    },\n",
    "    gauge = {\n",
    "        'shape': \"bullet\",\n",
    "        'axis': {'range': [None, 5]},\n",
    "        'threshold': {\n",
    "            'line': {'color': \"red\", 'width': 5},\n",
    "            'thickness': 0.75,\n",
    "            'value': 4.5},\n",
    "        'steps': [\n",
    "            {'range': [0, 2.5], 'color': \"#ed453b\"},\n",
    "            {'range': [2.5, 4.0], 'color': \"#ecb27e\"},\n",
    "            {'range': [4.0, 5.0], 'color':'#e0e0a3'}],\n",
    "        'bar': {'color': \"#003200\",\n",
    "                'thickness': 0.40}}))\n",
    "\n",
    "fig.add_trace(go.Indicator(\n",
    "    mode = \"number+gauge+delta\", value = 3.5,\n",
    "    delta = {'reference': 3.3},\n",
    "    domain = {'x': [0.25, 1], 'y': [0.4, 0.6]},\n",
    "        title = {\n",
    "        'text': \"<b>Seriousness</b>\",\n",
    "        'font': {'size': 15}\n",
    "    },\n",
    "    gauge = {\n",
    "        'shape': \"bullet\",\n",
    "        'axis': {'range': [None, 5]},\n",
    "        'threshold': {\n",
    "            'line': {'color': \"red\", 'width': 5},\n",
    "            'thickness': 0.75,\n",
    "            'value': 3.3},\n",
    "        'steps': [\n",
    "            {'range': [0, 2.5], 'color': \"#ed453b\"},\n",
    "            {'range': [2.5, 4.0], 'color': \"#ecb27e\"},\n",
    "            {'range': [4.0, 5.0], 'color':'#e0e0a3'}],\n",
    "        'bar': {'color': \"#003200\",\n",
    "                'thickness': 0.40}}))\n",
    "\n",
    "fig.add_trace(go.Indicator(\n",
    "    mode = \"number+gauge+delta\", value = 4.5,\n",
    "    delta = {'reference': 4.0},\n",
    "    domain = {'x': [0.25, 1], 'y': [0.7, 0.9]},\n",
    "    title = {\n",
    "        'text': \"<b>Transparency</b>\",\n",
    "        'font': {'size': 15}\n",
    "    },\n",
    "    gauge = {\n",
    "        'shape': \"bullet\",\n",
    "        'axis': {'range': [None, 5]},\n",
    "        'threshold': {\n",
    "            'line': {'color': \"red\", 'width': 5},\n",
    "            'thickness': 0.75,\n",
    "            'value': 4.0},\n",
    "        'steps': [\n",
    "            {'range': [0, 2.5], 'color': \"#ed453b\"},\n",
    "            {'range': [2.5, 4.0], 'color': \"#ecb27e\"},\n",
    "            {'range': [4.0, 5.0], 'color':'#e0e0a3'}],\n",
    "        'bar': {'color': \"#003200\",\n",
    "                'thickness': 0.40}}))\n",
    "fig.update_layout(height = 600, margin = {'t':0, 'b':0, 'l':0})\n",
    "offline.plot(fig, include_plotlyjs = True)\n",
    "#div_chart = offline.plot(\n",
    "    #fig,\n",
    "    #output_type='div',\n",
    "    #include_plotlyjs=False)"
   ]
  },
  {
   "cell_type": "code",
   "execution_count": 21,
   "metadata": {},
   "outputs": [],
   "source": [
    "import plotly.figure_factory as ff"
   ]
  },
  {
   "cell_type": "code",
   "execution_count": 23,
   "metadata": {},
   "outputs": [
    {
     "output_type": "stream",
     "name": "stdout",
     "text": [
      "Help on module plotly.figure_factory._bullet in plotly.figure_factory:\n\nNAME\n    plotly.figure_factory._bullet\n\nFUNCTIONS\n    create_bullet(data, markers=None, measures=None, ranges=None, subtitles=None, titles=None, orientation='h', range_colors=('rgb(200, 200, 200)', 'rgb(245, 245, 245)'), measure_colors=('rgb(31, 119, 180)', 'rgb(176, 196, 221)'), horizontal_spacing=None, vertical_spacing=None, scatter_options={}, **layout_options)\n        **deprecated**, use instead the plotly.graph_objects trace\n        :class:`plotly.graph_objects.Indicator`.\n        \n        :param (pd.DataFrame | list | tuple) data: either a list/tuple of\n            dictionaries or a pandas DataFrame.\n        :param (str) markers: the column name or dictionary key for the markers in\n            each subplot.\n        :param (str) measures: the column name or dictionary key for the measure\n            bars in each subplot. This bar usually represents the quantitative\n            measure of performance, usually a list of two values [a, b] and are\n            the blue bars in the foreground of each subplot by default.\n        :param (str) ranges: the column name or dictionary key for the qualitative\n            ranges of performance, usually a 3-item list [bad, okay, good]. They\n            correspond to the grey bars in the background of each chart.\n        :param (str) subtitles: the column name or dictionary key for the subtitle\n            of each subplot chart. The subplots are displayed right underneath\n            each title.\n        :param (str) titles: the column name or dictionary key for the main label\n            of each subplot chart.\n        :param (bool) orientation: if 'h', the bars are placed horizontally as\n            rows. If 'v' the bars are placed vertically in the chart.\n        :param (list) range_colors: a tuple of two colors between which all\n            the rectangles for the range are drawn. These rectangles are meant to\n            be qualitative indicators against which the marker and measure bars\n            are compared.\n            Default=('rgb(200, 200, 200)', 'rgb(245, 245, 245)')\n        :param (list) measure_colors: a tuple of two colors which is used to color\n            the thin quantitative bars in the bullet chart.\n            Default=('rgb(31, 119, 180)', 'rgb(176, 196, 221)')\n        :param (float) horizontal_spacing: see the 'horizontal_spacing' param in\n            plotly.tools.make_subplots. Ranges between 0 and 1.\n        :param (float) vertical_spacing: see the 'vertical_spacing' param in\n            plotly.tools.make_subplots. Ranges between 0 and 1.\n        :param (dict) scatter_options: describes attributes for the scatter trace\n            in each subplot such as name and marker size. Call\n            help(plotly.graph_objs.Scatter) for more information on valid params.\n        :param layout_options: describes attributes for the layout of the figure\n            such as title, height and width. Call help(plotly.graph_objs.Layout)\n            for more information on valid params.\n        \n        Example 1: Use a Dictionary\n        \n        >>> import plotly.figure_factory as ff\n        \n        >>> data = [\n        ...   {\"label\": \"revenue\", \"sublabel\": \"us$, in thousands\",\n        ...    \"range\": [150, 225, 300], \"performance\": [220,270], \"point\": [250]},\n        ...   {\"label\": \"Profit\", \"sublabel\": \"%\", \"range\": [20, 25, 30],\n        ...    \"performance\": [21, 23], \"point\": [26]},\n        ...   {\"label\": \"Order Size\", \"sublabel\":\"US$, average\",\"range\": [350, 500, 600],\n        ...    \"performance\": [100,320],\"point\": [550]},\n        ...   {\"label\": \"New Customers\", \"sublabel\": \"count\", \"range\": [1400, 2000, 2500],\n        ...    \"performance\": [1000, 1650],\"point\": [2100]},\n        ...   {\"label\": \"Satisfaction\", \"sublabel\": \"out of 5\",\"range\": [3.5, 4.25, 5],\n        ...    \"performance\": [3.2, 4.7], \"point\": [4.4]}\n        ... ]\n        \n        >>> fig = ff.create_bullet(\n        ...     data, titles='label', subtitles='sublabel', markers='point',\n        ...     measures='performance', ranges='range', orientation='h',\n        ...     title='my simple bullet chart'\n        ... )\n        >>> fig.show()\n        \n        Example 2: Use a DataFrame with Custom Colors\n        \n        >>> import plotly.figure_factory as ff\n        >>> import pandas as pd\n        >>> data = pd.read_json('https://cdn.rawgit.com/plotly/datasets/master/BulletData.json')\n        \n        >>> fig = ff.create_bullet(\n        ...     data, titles='title', markers='markers', measures='measures',\n        ...     orientation='v', measure_colors=['rgb(14, 52, 75)', 'rgb(31, 141, 127)'],\n        ...     scatter_options={'marker': {'symbol': 'circle'}}, width=700)\n        >>> fig.show()\n\nDATA\n    absolute_import = _Feature((2, 5, 0, 'alpha', 1), (3, 0, 0, 'alpha', 0...\n\nFILE\n    c:\\users\\vince\\anaconda3\\envs\\cnext\\lib\\site-packages\\plotly\\figure_factory\\_bullet.py\n\n\n"
     ]
    }
   ],
   "source": [
    "help(ff._bullet)"
   ]
  },
  {
   "cell_type": "code",
   "execution_count": 26,
   "metadata": {},
   "outputs": [],
   "source": [
    "import plotly.figure_factory as ff"
   ]
  },
  {
   "cell_type": "code",
   "execution_count": 27,
   "metadata": {},
   "outputs": [],
   "source": [
    "data = [\n",
    "  {\"label\": \"revenue\", \"sublabel\": \"us$, in thousands\",\n",
    "   \"range\": [150, 225, 300], \"performance\": [220,270], \"point\": [250]},\n",
    "  {\"label\": \"Profit\", \"sublabel\": \"%\", \"range\": [20, 25, 30],\n",
    "   \"performance\": [21, 23], \"point\": [26]},\n",
    "  {\"label\": \"Order Size\", \"sublabel\":\"US$, average\",\"range\": [350, 500, 600],\n",
    "   \"performance\": [100,320],\"point\": [550]},\n",
    "  {\"label\": \"New Customers\", \"sublabel\": \"count\", \"range\": [1400, 2000, 2500],\n",
    "   \"performance\": [1000, 1650],\"point\": [2100]},\n",
    "  {\"label\": \"Satisfaction\", \"sublabel\": \"out of 5\",\"range\": [3.5, 4.25, 5],\n",
    "   \"performance\": [3.2, 4.7], \"point\": [4.4]}\n",
    "]"
   ]
  },
  {
   "cell_type": "code",
   "execution_count": 29,
   "metadata": {},
   "outputs": [
    {
     "output_type": "display_data",
     "data": {
      "application/vnd.plotly.v1+json": {
       "config": {
        "plotlyServerURL": "https://plot.ly"
       },
       "data": [
        {
         "base": 0,
         "hoverinfo": "y",
         "marker": {
          "color": "rgb(245.0, 245.0, 245.0)"
         },
         "name": "ranges",
         "orientation": "v",
         "type": "bar",
         "width": 2,
         "x": [
          0
         ],
         "xaxis": "x",
         "y": [
          300
         ],
         "yaxis": "y"
        },
        {
         "base": 0,
         "hoverinfo": "y",
         "marker": {
          "color": "rgb(222.5, 222.5, 222.5)"
         },
         "name": "ranges",
         "orientation": "v",
         "type": "bar",
         "width": 2,
         "x": [
          0
         ],
         "xaxis": "x",
         "y": [
          225
         ],
         "yaxis": "y"
        },
        {
         "base": 0,
         "hoverinfo": "y",
         "marker": {
          "color": "rgb(200.0, 200.0, 200.0)"
         },
         "name": "ranges",
         "orientation": "v",
         "type": "bar",
         "width": 2,
         "x": [
          0
         ],
         "xaxis": "x",
         "y": [
          150
         ],
         "yaxis": "y"
        },
        {
         "base": 0,
         "hoverinfo": "y",
         "marker": {
          "color": "rgb(176.0, 196.0, 221.0)"
         },
         "name": "measures",
         "orientation": "v",
         "type": "bar",
         "width": 0.4,
         "x": [
          0.5
         ],
         "xaxis": "x",
         "y": [
          270
         ],
         "yaxis": "y"
        },
        {
         "base": 0,
         "hoverinfo": "y",
         "marker": {
          "color": "rgb(31.0, 119.0, 180.0)"
         },
         "name": "measures",
         "orientation": "v",
         "type": "bar",
         "width": 0.4,
         "x": [
          0.5
         ],
         "xaxis": "x",
         "y": [
          220
         ],
         "yaxis": "y"
        },
        {
         "hoverinfo": "y",
         "marker": {
          "color": "rgb(0, 0, 0)",
          "size": 12,
          "symbol": "diamond-tall"
         },
         "name": "markers",
         "type": "scatter",
         "x": [
          0.5
         ],
         "xaxis": "x",
         "y": [
          250
         ],
         "yaxis": "y"
        },
        {
         "base": 0,
         "hoverinfo": "y",
         "marker": {
          "color": "rgb(245.0, 245.0, 245.0)"
         },
         "name": "ranges",
         "orientation": "v",
         "type": "bar",
         "width": 2,
         "x": [
          0
         ],
         "xaxis": "x2",
         "y": [
          30
         ],
         "yaxis": "y2"
        },
        {
         "base": 0,
         "hoverinfo": "y",
         "marker": {
          "color": "rgb(222.5, 222.5, 222.5)"
         },
         "name": "ranges",
         "orientation": "v",
         "type": "bar",
         "width": 2,
         "x": [
          0
         ],
         "xaxis": "x2",
         "y": [
          25
         ],
         "yaxis": "y2"
        },
        {
         "base": 0,
         "hoverinfo": "y",
         "marker": {
          "color": "rgb(200.0, 200.0, 200.0)"
         },
         "name": "ranges",
         "orientation": "v",
         "type": "bar",
         "width": 2,
         "x": [
          0
         ],
         "xaxis": "x2",
         "y": [
          20
         ],
         "yaxis": "y2"
        },
        {
         "base": 0,
         "hoverinfo": "y",
         "marker": {
          "color": "rgb(176.0, 196.0, 221.0)"
         },
         "name": "measures",
         "orientation": "v",
         "type": "bar",
         "width": 0.4,
         "x": [
          0.5
         ],
         "xaxis": "x2",
         "y": [
          23
         ],
         "yaxis": "y2"
        },
        {
         "base": 0,
         "hoverinfo": "y",
         "marker": {
          "color": "rgb(31.0, 119.0, 180.0)"
         },
         "name": "measures",
         "orientation": "v",
         "type": "bar",
         "width": 0.4,
         "x": [
          0.5
         ],
         "xaxis": "x2",
         "y": [
          21
         ],
         "yaxis": "y2"
        },
        {
         "hoverinfo": "y",
         "marker": {
          "color": "rgb(0, 0, 0)",
          "size": 12,
          "symbol": "diamond-tall"
         },
         "name": "markers",
         "type": "scatter",
         "x": [
          0.5
         ],
         "xaxis": "x2",
         "y": [
          26
         ],
         "yaxis": "y2"
        },
        {
         "base": 0,
         "hoverinfo": "y",
         "marker": {
          "color": "rgb(245.0, 245.0, 245.0)"
         },
         "name": "ranges",
         "orientation": "v",
         "type": "bar",
         "width": 2,
         "x": [
          0
         ],
         "xaxis": "x3",
         "y": [
          600
         ],
         "yaxis": "y3"
        },
        {
         "base": 0,
         "hoverinfo": "y",
         "marker": {
          "color": "rgb(222.5, 222.5, 222.5)"
         },
         "name": "ranges",
         "orientation": "v",
         "type": "bar",
         "width": 2,
         "x": [
          0
         ],
         "xaxis": "x3",
         "y": [
          500
         ],
         "yaxis": "y3"
        },
        {
         "base": 0,
         "hoverinfo": "y",
         "marker": {
          "color": "rgb(200.0, 200.0, 200.0)"
         },
         "name": "ranges",
         "orientation": "v",
         "type": "bar",
         "width": 2,
         "x": [
          0
         ],
         "xaxis": "x3",
         "y": [
          350
         ],
         "yaxis": "y3"
        },
        {
         "base": 0,
         "hoverinfo": "y",
         "marker": {
          "color": "rgb(176.0, 196.0, 221.0)"
         },
         "name": "measures",
         "orientation": "v",
         "type": "bar",
         "width": 0.4,
         "x": [
          0.5
         ],
         "xaxis": "x3",
         "y": [
          320
         ],
         "yaxis": "y3"
        },
        {
         "base": 0,
         "hoverinfo": "y",
         "marker": {
          "color": "rgb(31.0, 119.0, 180.0)"
         },
         "name": "measures",
         "orientation": "v",
         "type": "bar",
         "width": 0.4,
         "x": [
          0.5
         ],
         "xaxis": "x3",
         "y": [
          100
         ],
         "yaxis": "y3"
        },
        {
         "hoverinfo": "y",
         "marker": {
          "color": "rgb(0, 0, 0)",
          "size": 12,
          "symbol": "diamond-tall"
         },
         "name": "markers",
         "type": "scatter",
         "x": [
          0.5
         ],
         "xaxis": "x3",
         "y": [
          550
         ],
         "yaxis": "y3"
        },
        {
         "base": 0,
         "hoverinfo": "y",
         "marker": {
          "color": "rgb(245.0, 245.0, 245.0)"
         },
         "name": "ranges",
         "orientation": "v",
         "type": "bar",
         "width": 2,
         "x": [
          0
         ],
         "xaxis": "x4",
         "y": [
          2500
         ],
         "yaxis": "y4"
        },
        {
         "base": 0,
         "hoverinfo": "y",
         "marker": {
          "color": "rgb(222.5, 222.5, 222.5)"
         },
         "name": "ranges",
         "orientation": "v",
         "type": "bar",
         "width": 2,
         "x": [
          0
         ],
         "xaxis": "x4",
         "y": [
          2000
         ],
         "yaxis": "y4"
        },
        {
         "base": 0,
         "hoverinfo": "y",
         "marker": {
          "color": "rgb(200.0, 200.0, 200.0)"
         },
         "name": "ranges",
         "orientation": "v",
         "type": "bar",
         "width": 2,
         "x": [
          0
         ],
         "xaxis": "x4",
         "y": [
          1400
         ],
         "yaxis": "y4"
        },
        {
         "base": 0,
         "hoverinfo": "y",
         "marker": {
          "color": "rgb(176.0, 196.0, 221.0)"
         },
         "name": "measures",
         "orientation": "v",
         "type": "bar",
         "width": 0.4,
         "x": [
          0.5
         ],
         "xaxis": "x4",
         "y": [
          1650
         ],
         "yaxis": "y4"
        },
        {
         "base": 0,
         "hoverinfo": "y",
         "marker": {
          "color": "rgb(31.0, 119.0, 180.0)"
         },
         "name": "measures",
         "orientation": "v",
         "type": "bar",
         "width": 0.4,
         "x": [
          0.5
         ],
         "xaxis": "x4",
         "y": [
          1000
         ],
         "yaxis": "y4"
        },
        {
         "hoverinfo": "y",
         "marker": {
          "color": "rgb(0, 0, 0)",
          "size": 12,
          "symbol": "diamond-tall"
         },
         "name": "markers",
         "type": "scatter",
         "x": [
          0.5
         ],
         "xaxis": "x4",
         "y": [
          2100
         ],
         "yaxis": "y4"
        },
        {
         "base": 0,
         "hoverinfo": "y",
         "marker": {
          "color": "rgb(245.0, 245.0, 245.0)"
         },
         "name": "ranges",
         "orientation": "v",
         "type": "bar",
         "width": 2,
         "x": [
          0
         ],
         "xaxis": "x5",
         "y": [
          5
         ],
         "yaxis": "y5"
        },
        {
         "base": 0,
         "hoverinfo": "y",
         "marker": {
          "color": "rgb(222.5, 222.5, 222.5)"
         },
         "name": "ranges",
         "orientation": "v",
         "type": "bar",
         "width": 2,
         "x": [
          0
         ],
         "xaxis": "x5",
         "y": [
          4.25
         ],
         "yaxis": "y5"
        },
        {
         "base": 0,
         "hoverinfo": "y",
         "marker": {
          "color": "rgb(200.0, 200.0, 200.0)"
         },
         "name": "ranges",
         "orientation": "v",
         "type": "bar",
         "width": 2,
         "x": [
          0
         ],
         "xaxis": "x5",
         "y": [
          3.5
         ],
         "yaxis": "y5"
        },
        {
         "base": 0,
         "hoverinfo": "y",
         "marker": {
          "color": "rgb(176.0, 196.0, 221.0)"
         },
         "name": "measures",
         "orientation": "v",
         "type": "bar",
         "width": 0.4,
         "x": [
          0.5
         ],
         "xaxis": "x5",
         "y": [
          4.7
         ],
         "yaxis": "y5"
        },
        {
         "base": 0,
         "hoverinfo": "y",
         "marker": {
          "color": "rgb(31.0, 119.0, 180.0)"
         },
         "name": "measures",
         "orientation": "v",
         "type": "bar",
         "width": 0.4,
         "x": [
          0.5
         ],
         "xaxis": "x5",
         "y": [
          3.2
         ],
         "yaxis": "y5"
        },
        {
         "hoverinfo": "y",
         "marker": {
          "color": "rgb(0, 0, 0)",
          "size": 12,
          "symbol": "diamond-tall"
         },
         "name": "markers",
         "type": "scatter",
         "x": [
          0.5
         ],
         "xaxis": "x5",
         "y": [
          4.4
         ],
         "yaxis": "y5"
        }
       ],
       "layout": {
        "annotations": [
         {
          "font": {
           "color": "#0f0f0f",
           "size": 13
          },
          "showarrow": false,
          "text": "<b>revenue</b>",
          "textangle": 0,
          "x": 0.019999999999999997,
          "xanchor": "center",
          "xref": "paper",
          "y": 1.03,
          "yanchor": "middle",
          "yref": "paper"
         },
         {
          "font": {
           "color": "#0f0f0f",
           "size": 13
          },
          "showarrow": false,
          "text": "<b>Profit</b>",
          "textangle": 0,
          "x": 0.26,
          "xanchor": "center",
          "xref": "paper",
          "y": 1.03,
          "yanchor": "middle",
          "yref": "paper"
         },
         {
          "font": {
           "color": "#0f0f0f",
           "size": 13
          },
          "showarrow": false,
          "text": "<b>Order Size</b>",
          "textangle": 0,
          "x": 0.5,
          "xanchor": "center",
          "xref": "paper",
          "y": 1.03,
          "yanchor": "middle",
          "yref": "paper"
         },
         {
          "font": {
           "color": "#0f0f0f",
           "size": 13
          },
          "showarrow": false,
          "text": "<b>New Customers</b>",
          "textangle": 0,
          "x": 0.74,
          "xanchor": "center",
          "xref": "paper",
          "y": 1.03,
          "yanchor": "middle",
          "yref": "paper"
         },
         {
          "font": {
           "color": "#0f0f0f",
           "size": 13
          },
          "showarrow": false,
          "text": "<b>Satisfaction</b>",
          "textangle": 0,
          "x": 0.98,
          "xanchor": "center",
          "xref": "paper",
          "y": 1.03,
          "yanchor": "middle",
          "yref": "paper"
         }
        ],
        "barmode": "stack",
        "height": 600,
        "margin": {
         "l": 80
        },
        "showlegend": false,
        "template": {
         "data": {
          "bar": [
           {
            "error_x": {
             "color": "#2a3f5f"
            },
            "error_y": {
             "color": "#2a3f5f"
            },
            "marker": {
             "line": {
              "color": "#E5ECF6",
              "width": 0.5
             }
            },
            "type": "bar"
           }
          ],
          "barpolar": [
           {
            "marker": {
             "line": {
              "color": "#E5ECF6",
              "width": 0.5
             }
            },
            "type": "barpolar"
           }
          ],
          "carpet": [
           {
            "aaxis": {
             "endlinecolor": "#2a3f5f",
             "gridcolor": "white",
             "linecolor": "white",
             "minorgridcolor": "white",
             "startlinecolor": "#2a3f5f"
            },
            "baxis": {
             "endlinecolor": "#2a3f5f",
             "gridcolor": "white",
             "linecolor": "white",
             "minorgridcolor": "white",
             "startlinecolor": "#2a3f5f"
            },
            "type": "carpet"
           }
          ],
          "choropleth": [
           {
            "colorbar": {
             "outlinewidth": 0,
             "ticks": ""
            },
            "type": "choropleth"
           }
          ],
          "contour": [
           {
            "colorbar": {
             "outlinewidth": 0,
             "ticks": ""
            },
            "colorscale": [
             [
              0,
              "#0d0887"
             ],
             [
              0.1111111111111111,
              "#46039f"
             ],
             [
              0.2222222222222222,
              "#7201a8"
             ],
             [
              0.3333333333333333,
              "#9c179e"
             ],
             [
              0.4444444444444444,
              "#bd3786"
             ],
             [
              0.5555555555555556,
              "#d8576b"
             ],
             [
              0.6666666666666666,
              "#ed7953"
             ],
             [
              0.7777777777777778,
              "#fb9f3a"
             ],
             [
              0.8888888888888888,
              "#fdca26"
             ],
             [
              1,
              "#f0f921"
             ]
            ],
            "type": "contour"
           }
          ],
          "contourcarpet": [
           {
            "colorbar": {
             "outlinewidth": 0,
             "ticks": ""
            },
            "type": "contourcarpet"
           }
          ],
          "heatmap": [
           {
            "colorbar": {
             "outlinewidth": 0,
             "ticks": ""
            },
            "colorscale": [
             [
              0,
              "#0d0887"
             ],
             [
              0.1111111111111111,
              "#46039f"
             ],
             [
              0.2222222222222222,
              "#7201a8"
             ],
             [
              0.3333333333333333,
              "#9c179e"
             ],
             [
              0.4444444444444444,
              "#bd3786"
             ],
             [
              0.5555555555555556,
              "#d8576b"
             ],
             [
              0.6666666666666666,
              "#ed7953"
             ],
             [
              0.7777777777777778,
              "#fb9f3a"
             ],
             [
              0.8888888888888888,
              "#fdca26"
             ],
             [
              1,
              "#f0f921"
             ]
            ],
            "type": "heatmap"
           }
          ],
          "heatmapgl": [
           {
            "colorbar": {
             "outlinewidth": 0,
             "ticks": ""
            },
            "colorscale": [
             [
              0,
              "#0d0887"
             ],
             [
              0.1111111111111111,
              "#46039f"
             ],
             [
              0.2222222222222222,
              "#7201a8"
             ],
             [
              0.3333333333333333,
              "#9c179e"
             ],
             [
              0.4444444444444444,
              "#bd3786"
             ],
             [
              0.5555555555555556,
              "#d8576b"
             ],
             [
              0.6666666666666666,
              "#ed7953"
             ],
             [
              0.7777777777777778,
              "#fb9f3a"
             ],
             [
              0.8888888888888888,
              "#fdca26"
             ],
             [
              1,
              "#f0f921"
             ]
            ],
            "type": "heatmapgl"
           }
          ],
          "histogram": [
           {
            "marker": {
             "colorbar": {
              "outlinewidth": 0,
              "ticks": ""
             }
            },
            "type": "histogram"
           }
          ],
          "histogram2d": [
           {
            "colorbar": {
             "outlinewidth": 0,
             "ticks": ""
            },
            "colorscale": [
             [
              0,
              "#0d0887"
             ],
             [
              0.1111111111111111,
              "#46039f"
             ],
             [
              0.2222222222222222,
              "#7201a8"
             ],
             [
              0.3333333333333333,
              "#9c179e"
             ],
             [
              0.4444444444444444,
              "#bd3786"
             ],
             [
              0.5555555555555556,
              "#d8576b"
             ],
             [
              0.6666666666666666,
              "#ed7953"
             ],
             [
              0.7777777777777778,
              "#fb9f3a"
             ],
             [
              0.8888888888888888,
              "#fdca26"
             ],
             [
              1,
              "#f0f921"
             ]
            ],
            "type": "histogram2d"
           }
          ],
          "histogram2dcontour": [
           {
            "colorbar": {
             "outlinewidth": 0,
             "ticks": ""
            },
            "colorscale": [
             [
              0,
              "#0d0887"
             ],
             [
              0.1111111111111111,
              "#46039f"
             ],
             [
              0.2222222222222222,
              "#7201a8"
             ],
             [
              0.3333333333333333,
              "#9c179e"
             ],
             [
              0.4444444444444444,
              "#bd3786"
             ],
             [
              0.5555555555555556,
              "#d8576b"
             ],
             [
              0.6666666666666666,
              "#ed7953"
             ],
             [
              0.7777777777777778,
              "#fb9f3a"
             ],
             [
              0.8888888888888888,
              "#fdca26"
             ],
             [
              1,
              "#f0f921"
             ]
            ],
            "type": "histogram2dcontour"
           }
          ],
          "mesh3d": [
           {
            "colorbar": {
             "outlinewidth": 0,
             "ticks": ""
            },
            "type": "mesh3d"
           }
          ],
          "parcoords": [
           {
            "line": {
             "colorbar": {
              "outlinewidth": 0,
              "ticks": ""
             }
            },
            "type": "parcoords"
           }
          ],
          "pie": [
           {
            "automargin": true,
            "type": "pie"
           }
          ],
          "scatter": [
           {
            "marker": {
             "colorbar": {
              "outlinewidth": 0,
              "ticks": ""
             }
            },
            "type": "scatter"
           }
          ],
          "scatter3d": [
           {
            "line": {
             "colorbar": {
              "outlinewidth": 0,
              "ticks": ""
             }
            },
            "marker": {
             "colorbar": {
              "outlinewidth": 0,
              "ticks": ""
             }
            },
            "type": "scatter3d"
           }
          ],
          "scattercarpet": [
           {
            "marker": {
             "colorbar": {
              "outlinewidth": 0,
              "ticks": ""
             }
            },
            "type": "scattercarpet"
           }
          ],
          "scattergeo": [
           {
            "marker": {
             "colorbar": {
              "outlinewidth": 0,
              "ticks": ""
             }
            },
            "type": "scattergeo"
           }
          ],
          "scattergl": [
           {
            "marker": {
             "colorbar": {
              "outlinewidth": 0,
              "ticks": ""
             }
            },
            "type": "scattergl"
           }
          ],
          "scattermapbox": [
           {
            "marker": {
             "colorbar": {
              "outlinewidth": 0,
              "ticks": ""
             }
            },
            "type": "scattermapbox"
           }
          ],
          "scatterpolar": [
           {
            "marker": {
             "colorbar": {
              "outlinewidth": 0,
              "ticks": ""
             }
            },
            "type": "scatterpolar"
           }
          ],
          "scatterpolargl": [
           {
            "marker": {
             "colorbar": {
              "outlinewidth": 0,
              "ticks": ""
             }
            },
            "type": "scatterpolargl"
           }
          ],
          "scatterternary": [
           {
            "marker": {
             "colorbar": {
              "outlinewidth": 0,
              "ticks": ""
             }
            },
            "type": "scatterternary"
           }
          ],
          "surface": [
           {
            "colorbar": {
             "outlinewidth": 0,
             "ticks": ""
            },
            "colorscale": [
             [
              0,
              "#0d0887"
             ],
             [
              0.1111111111111111,
              "#46039f"
             ],
             [
              0.2222222222222222,
              "#7201a8"
             ],
             [
              0.3333333333333333,
              "#9c179e"
             ],
             [
              0.4444444444444444,
              "#bd3786"
             ],
             [
              0.5555555555555556,
              "#d8576b"
             ],
             [
              0.6666666666666666,
              "#ed7953"
             ],
             [
              0.7777777777777778,
              "#fb9f3a"
             ],
             [
              0.8888888888888888,
              "#fdca26"
             ],
             [
              1,
              "#f0f921"
             ]
            ],
            "type": "surface"
           }
          ],
          "table": [
           {
            "cells": {
             "fill": {
              "color": "#EBF0F8"
             },
             "line": {
              "color": "white"
             }
            },
            "header": {
             "fill": {
              "color": "#C8D4E3"
             },
             "line": {
              "color": "white"
             }
            },
            "type": "table"
           }
          ]
         },
         "layout": {
          "annotationdefaults": {
           "arrowcolor": "#2a3f5f",
           "arrowhead": 0,
           "arrowwidth": 1
          },
          "autotypenumbers": "strict",
          "coloraxis": {
           "colorbar": {
            "outlinewidth": 0,
            "ticks": ""
           }
          },
          "colorscale": {
           "diverging": [
            [
             0,
             "#8e0152"
            ],
            [
             0.1,
             "#c51b7d"
            ],
            [
             0.2,
             "#de77ae"
            ],
            [
             0.3,
             "#f1b6da"
            ],
            [
             0.4,
             "#fde0ef"
            ],
            [
             0.5,
             "#f7f7f7"
            ],
            [
             0.6,
             "#e6f5d0"
            ],
            [
             0.7,
             "#b8e186"
            ],
            [
             0.8,
             "#7fbc41"
            ],
            [
             0.9,
             "#4d9221"
            ],
            [
             1,
             "#276419"
            ]
           ],
           "sequential": [
            [
             0,
             "#0d0887"
            ],
            [
             0.1111111111111111,
             "#46039f"
            ],
            [
             0.2222222222222222,
             "#7201a8"
            ],
            [
             0.3333333333333333,
             "#9c179e"
            ],
            [
             0.4444444444444444,
             "#bd3786"
            ],
            [
             0.5555555555555556,
             "#d8576b"
            ],
            [
             0.6666666666666666,
             "#ed7953"
            ],
            [
             0.7777777777777778,
             "#fb9f3a"
            ],
            [
             0.8888888888888888,
             "#fdca26"
            ],
            [
             1,
             "#f0f921"
            ]
           ],
           "sequentialminus": [
            [
             0,
             "#0d0887"
            ],
            [
             0.1111111111111111,
             "#46039f"
            ],
            [
             0.2222222222222222,
             "#7201a8"
            ],
            [
             0.3333333333333333,
             "#9c179e"
            ],
            [
             0.4444444444444444,
             "#bd3786"
            ],
            [
             0.5555555555555556,
             "#d8576b"
            ],
            [
             0.6666666666666666,
             "#ed7953"
            ],
            [
             0.7777777777777778,
             "#fb9f3a"
            ],
            [
             0.8888888888888888,
             "#fdca26"
            ],
            [
             1,
             "#f0f921"
            ]
           ]
          },
          "colorway": [
           "#636efa",
           "#EF553B",
           "#00cc96",
           "#ab63fa",
           "#FFA15A",
           "#19d3f3",
           "#FF6692",
           "#B6E880",
           "#FF97FF",
           "#FECB52"
          ],
          "font": {
           "color": "#2a3f5f"
          },
          "geo": {
           "bgcolor": "white",
           "lakecolor": "white",
           "landcolor": "#E5ECF6",
           "showlakes": true,
           "showland": true,
           "subunitcolor": "white"
          },
          "hoverlabel": {
           "align": "left"
          },
          "hovermode": "closest",
          "mapbox": {
           "style": "light"
          },
          "paper_bgcolor": "white",
          "plot_bgcolor": "#E5ECF6",
          "polar": {
           "angularaxis": {
            "gridcolor": "white",
            "linecolor": "white",
            "ticks": ""
           },
           "bgcolor": "#E5ECF6",
           "radialaxis": {
            "gridcolor": "white",
            "linecolor": "white",
            "ticks": ""
           }
          },
          "scene": {
           "xaxis": {
            "backgroundcolor": "#E5ECF6",
            "gridcolor": "white",
            "gridwidth": 2,
            "linecolor": "white",
            "showbackground": true,
            "ticks": "",
            "zerolinecolor": "white"
           },
           "yaxis": {
            "backgroundcolor": "#E5ECF6",
            "gridcolor": "white",
            "gridwidth": 2,
            "linecolor": "white",
            "showbackground": true,
            "ticks": "",
            "zerolinecolor": "white"
           },
           "zaxis": {
            "backgroundcolor": "#E5ECF6",
            "gridcolor": "white",
            "gridwidth": 2,
            "linecolor": "white",
            "showbackground": true,
            "ticks": "",
            "zerolinecolor": "white"
           }
          },
          "shapedefaults": {
           "line": {
            "color": "#2a3f5f"
           }
          },
          "ternary": {
           "aaxis": {
            "gridcolor": "white",
            "linecolor": "white",
            "ticks": ""
           },
           "baxis": {
            "gridcolor": "white",
            "linecolor": "white",
            "ticks": ""
           },
           "bgcolor": "#E5ECF6",
           "caxis": {
            "gridcolor": "white",
            "linecolor": "white",
            "ticks": ""
           }
          },
          "title": {
           "x": 0.05
          },
          "xaxis": {
           "automargin": true,
           "gridcolor": "white",
           "linecolor": "white",
           "ticks": "",
           "title": {
            "standoff": 15
           },
           "zerolinecolor": "white",
           "zerolinewidth": 2
          },
          "yaxis": {
           "automargin": true,
           "gridcolor": "white",
           "linecolor": "white",
           "ticks": "",
           "title": {
            "standoff": 15
           },
           "zerolinecolor": "white",
           "zerolinewidth": 2
          }
         }
        },
        "title": {
         "text": "my simple bullet chart"
        },
        "width": 1000,
        "xaxis": {
         "anchor": "y",
         "domain": [
          0,
          0.039999999999999994
         ],
         "range": [
          0,
          1
         ],
         "showgrid": false,
         "showticklabels": false,
         "zeroline": false
        },
        "xaxis2": {
         "anchor": "y2",
         "domain": [
          0.24,
          0.27999999999999997
         ],
         "range": [
          0,
          1
         ],
         "showgrid": false,
         "showticklabels": false,
         "zeroline": false
        },
        "xaxis3": {
         "anchor": "y3",
         "domain": [
          0.48,
          0.52
         ],
         "range": [
          0,
          1
         ],
         "showgrid": false,
         "showticklabels": false,
         "zeroline": false
        },
        "xaxis4": {
         "anchor": "y4",
         "domain": [
          0.7200000000000001,
          0.7600000000000001
         ],
         "range": [
          0,
          1
         ],
         "showgrid": false,
         "showticklabels": false,
         "zeroline": false
        },
        "xaxis5": {
         "anchor": "y5",
         "domain": [
          0.96,
          1
         ],
         "range": [
          0,
          1
         ],
         "showgrid": false,
         "showticklabels": false,
         "zeroline": false
        },
        "yaxis": {
         "anchor": "x",
         "domain": [
          0,
          1
         ],
         "showgrid": false,
         "tickwidth": 1,
         "zeroline": false
        },
        "yaxis2": {
         "anchor": "x2",
         "domain": [
          0,
          1
         ],
         "showgrid": false,
         "tickwidth": 1,
         "zeroline": false
        },
        "yaxis3": {
         "anchor": "x3",
         "domain": [
          0,
          1
         ],
         "showgrid": false,
         "tickwidth": 1,
         "zeroline": false
        },
        "yaxis4": {
         "anchor": "x4",
         "domain": [
          0,
          1
         ],
         "showgrid": false,
         "tickwidth": 1,
         "zeroline": false
        },
        "yaxis5": {
         "anchor": "x5",
         "domain": [
          0,
          1
         ],
         "showgrid": false,
         "tickwidth": 1,
         "zeroline": false
        }
       }
      }
     },
     "metadata": {}
    }
   ],
   "source": [
    "fig = ff.create_bullet(\n",
    "    data, titles='label', subtitles='sublabel', markers='point',\n",
    "    measures='performance', ranges='range', orientation='v',\n",
    "    title='my simple bullet chart'\n",
    ")\n",
    "fig.show()"
   ]
  },
  {
   "cell_type": "code",
   "execution_count": 42,
   "metadata": {},
   "outputs": [
    {
     "output_type": "error",
     "ename": "PlotlyError",
     "evalue": "Both 'range_colors' or 'measure_colors' must be a list of two valid colors.",
     "traceback": [
      "\u001b[1;31m---------------------------------------------------------------------------\u001b[0m",
      "\u001b[1;31mPlotlyError\u001b[0m                               Traceback (most recent call last)",
      "\u001b[1;32m<ipython-input-42-8ee61c04ad07>\u001b[0m in \u001b[0;36m<module>\u001b[1;34m\u001b[0m\n\u001b[0;32m     94\u001b[0m     \u001b[0mmeasure_colors\u001b[0m\u001b[1;33m=\u001b[0m\u001b[1;33m[\u001b[0m\u001b[1;34m\"#ed453b\"\u001b[0m\u001b[1;33m,\u001b[0m  \u001b[1;34m\"#ecb27e\"\u001b[0m\u001b[1;33m,\u001b[0m \u001b[1;34m\"#e0e0a3\"\u001b[0m\u001b[1;33m]\u001b[0m\u001b[1;33m,\u001b[0m\u001b[1;33m\u001b[0m\u001b[1;33m\u001b[0m\u001b[0m\n\u001b[0;32m     95\u001b[0m     \u001b[0mscatter_options\u001b[0m\u001b[1;33m=\u001b[0m\u001b[1;33m{\u001b[0m\u001b[1;34m'marker'\u001b[0m\u001b[1;33m:\u001b[0m \u001b[1;33m{\u001b[0m\u001b[1;34m'symbol'\u001b[0m\u001b[1;33m:\u001b[0m \u001b[1;34m'circle'\u001b[0m\u001b[1;33m}\u001b[0m\u001b[1;33m}\u001b[0m\u001b[1;33m,\u001b[0m\u001b[1;33m\u001b[0m\u001b[1;33m\u001b[0m\u001b[0m\n\u001b[1;32m---> 96\u001b[1;33m   width=400)\n\u001b[0m\u001b[0;32m     97\u001b[0m \u001b[1;33m\u001b[0m\u001b[0m\n\u001b[0;32m     98\u001b[0m \u001b[0mfig\u001b[0m\u001b[1;33m.\u001b[0m\u001b[0mshow\u001b[0m\u001b[1;33m(\u001b[0m\u001b[1;33m)\u001b[0m\u001b[1;33m\u001b[0m\u001b[1;33m\u001b[0m\u001b[0m\n",
      "\u001b[1;32m~\\anaconda3\\envs\\cnext\\lib\\site-packages\\plotly\\figure_factory\\_bullet.py\u001b[0m in \u001b[0;36mcreate_bullet\u001b[1;34m(data, markers, measures, ranges, subtitles, titles, orientation, range_colors, measure_colors, horizontal_spacing, vertical_spacing, scatter_options, **layout_options)\u001b[0m\n\u001b[0;32m    332\u001b[0m             \u001b[1;32mif\u001b[0m \u001b[0mlen\u001b[0m\u001b[1;33m(\u001b[0m\u001b[0mcolors_list\u001b[0m\u001b[1;33m)\u001b[0m \u001b[1;33m!=\u001b[0m \u001b[1;36m2\u001b[0m\u001b[1;33m:\u001b[0m\u001b[1;33m\u001b[0m\u001b[1;33m\u001b[0m\u001b[0m\n\u001b[0;32m    333\u001b[0m                 raise exceptions.PlotlyError(\n\u001b[1;32m--> 334\u001b[1;33m                     \u001b[1;34m\"Both 'range_colors' or 'measure_colors' must be a list \"\u001b[0m\u001b[1;33m\u001b[0m\u001b[1;33m\u001b[0m\u001b[0m\n\u001b[0m\u001b[0;32m    335\u001b[0m                     \u001b[1;34m\"of two valid colors.\"\u001b[0m\u001b[1;33m\u001b[0m\u001b[1;33m\u001b[0m\u001b[0m\n\u001b[0;32m    336\u001b[0m                 )\n",
      "\u001b[1;31mPlotlyError\u001b[0m: Both 'range_colors' or 'measure_colors' must be a list of two valid colors."
     ]
    }
   ],
   "source": [
    "import plotly.figure_factory as ff\n",
    "import pandas as pd\n",
    "\n",
    "data = [\n",
    "    {\"title\": \"Momentum\",\n",
    "    \"ranges\": [2.5, 3.5, 6],\n",
    "    \"measures\":[3.5, 4],\n",
    "    \"markers\":[3.7]},\n",
    "    {\"title\": \"Seriousness\",\n",
    "    \"ranges\": [2.5, 3.5, 6],\n",
    "    \"measures\":[3.5, 4],\n",
    "    \"markers\":[3.7]},\n",
    "    {\"title\": \"Transparency\",\n",
    "    \"ranges\": [2.5, 3.5, 6],\n",
    "    \"measures\":[3.5, 4],\n",
    "    \"markers\":[3.7]},\n",
    "]\n",
    "\n",
    "\"\"\"\n",
    "fig = go.Figure()\n",
    "\n",
    "fig.add_trace(go.Indicator(\n",
    "    mode = \"number+gauge+delta\", value = 3.5,\n",
    "    delta = {'reference': 4.5},\n",
    "    domain = {'x': [0.2, 0.4], 'y': [0.10, 0.90]},\n",
    "    title = {\n",
    "        'text': \"<b>Momentum</b>\",\n",
    "        'font': {'size': 15}\n",
    "    },\n",
    "    gauge = {\n",
    "        'shape': \"bullet\",\n",
    "        'axis': {'range': [None, 5]},\n",
    "        'threshold': {\n",
    "            'line': {'color': \"red\", 'width': 5},\n",
    "            'thickness': 0.75,\n",
    "            'value': 4.5},\n",
    "        'steps': [\n",
    "            {'range': [0, 2.5], 'color': \"#ed453b\"},\n",
    "            {'range': [2.5, 4.0], 'color': \"#ecb27e\"},\n",
    "            {'range': [4.0, 5.0], 'color':'#e0e0a3'}],\n",
    "        'bar': {'color': \"#003200\",\n",
    "                'thickness': 0.40\n",
    "                }}))\n",
    "\n",
    "fig.add_trace(go.Indicator(\n",
    "    mode = \"number+gauge+delta\", value = 3.5,\n",
    "    delta = {'reference': 3.3},\n",
    "    domain = {'x': [0.5, 0.7], 'y': [0.10, 0.90]},\n",
    "        title = {\n",
    "        'text': \"<b>Seriousness</b>\",\n",
    "        'font': {'size': 15}\n",
    "    },\n",
    "    gauge = {\n",
    "        'shape': \"bullet\",\n",
    "        'axis': {'range': [None, 5]},\n",
    "        'threshold': {\n",
    "            'line': {'color': \"red\", 'width': 5},\n",
    "            'thickness': 0.75,\n",
    "            'value': 3.3},\n",
    "        'steps': [\n",
    "            {'range': [0, 2.5], 'color': \"#ed453b\"},\n",
    "            {'range': [2.5, 4.0], 'color': \"#ecb27e\"},\n",
    "            {'range': [4.0, 5.0], 'color':'#e0e0a3'}],\n",
    "        'bar': {'color': \"#003200\",\n",
    "                'thickness': 0.40}}))\n",
    "\n",
    "fig.add_trace(go.Indicator(\n",
    "    mode = \"number+gauge+delta\", value = 4.5,\n",
    "    delta = {'reference': 4.0},\n",
    "    domain = {'x': [0.8, 1], 'y': [0.1, 0.9]},\n",
    "       title = {\n",
    "        'text': \"<b>Transparency</b>\",\n",
    "        'font': {'size': 15},\n",
    "    },\n",
    "    gauge = {\n",
    "        'shape': \"bullet\",\n",
    "        'axis': {'range': [None, 5]},\n",
    "        'threshold': {\n",
    "            'line': {'color': \"red\", 'width': 5},\n",
    "            'thickness': 0.75,\n",
    "            'value': 4.0},\n",
    "        'steps': [\n",
    "            {'range': [0, 2.5], 'color': \"#ed453b\"},\n",
    "            {'range': [2.5, 4.0], 'color': \"#ecb27e\"},\n",
    "            {'range': [4.0, 5.0], 'color':'#e0e0a3'}],\n",
    "        'bar': {'color': \"#003200\",\n",
    "                'thickness': 0.40}}))\n",
    "\"\"\"\n",
    "fig = ff.create_bullet(\n",
    "    data, titles='title', \n",
    "    markers='markers',\n",
    "    measures='measures',\n",
    "    orientation='v',\n",
    "    measure_colors=[\"#ed453b\",  \"#ecb27e\", \"#e0e0a3\"],\n",
    "    scatter_options={'marker': {'symbol': 'circle'}},\n",
    "  width=400)\n",
    "\n",
    "fig.show()"
   ]
  },
  {
   "cell_type": "code",
   "execution_count": 50,
   "metadata": {},
   "outputs": [
    {
     "output_type": "error",
     "ename": "ValueError",
     "evalue": "Invalid property specified for object of type plotly.graph_objs.indicator.gauge.Axis: 'orientation'\n\nDid you mean \"dtick\"?\n\n    Valid properties:\n        dtick\n            Sets the step in-between ticks on this axis. Use with\n            `tick0`. Must be a positive number, or special strings\n            available to \"log\" and \"date\" axes. If the axis `type`\n            is \"log\", then ticks are set every 10^(n*dtick) where n\n            is the tick number. For example, to set a tick mark at\n            1, 10, 100, 1000, ... set dtick to 1. To set tick marks\n            at 1, 100, 10000, ... set dtick to 2. To set tick marks\n            at 1, 5, 25, 125, 625, 3125, ... set dtick to\n            log_10(5), or 0.69897000433. \"log\" has several special\n            values; \"L<f>\", where `f` is a positive number, gives\n            ticks linearly spaced in value (but not position). For\n            example `tick0` = 0.1, `dtick` = \"L0.5\" will put ticks\n            at 0.1, 0.6, 1.1, 1.6 etc. To show powers of 10 plus\n            small digits between, use \"D1\" (all digits) or \"D2\"\n            (only 2 and 5). `tick0` is ignored for \"D1\" and \"D2\".\n            If the axis `type` is \"date\", then you must convert the\n            time to milliseconds. For example, to set the interval\n            between ticks to one day, set `dtick` to 86400000.0.\n            \"date\" also has special values \"M<n>\" gives ticks\n            spaced by a number of months. `n` must be a positive\n            integer. To set ticks on the 15th of every third month,\n            set `tick0` to \"2000-01-15\" and `dtick` to \"M3\". To set\n            ticks every 4 years, set `dtick` to \"M48\"\n        exponentformat\n            Determines a formatting rule for the tick exponents.\n            For example, consider the number 1,000,000,000. If\n            \"none\", it appears as 1,000,000,000. If \"e\", 1e+9. If\n            \"E\", 1E+9. If \"power\", 1x10^9 (with 9 in a super\n            script). If \"SI\", 1G. If \"B\", 1B.\n        minexponent\n            Hide SI prefix for 10^n if |n| is below this number.\n            This only has an effect when `tickformat` is \"SI\" or\n            \"B\".\n        nticks\n            Specifies the maximum number of ticks for the\n            particular axis. The actual number of ticks will be\n            chosen automatically to be less than or equal to\n            `nticks`. Has an effect only if `tickmode` is set to\n            \"auto\".\n        range\n            Sets the range of this axis.\n        separatethousands\n            If \"true\", even 4-digit integers are separated\n        showexponent\n            If \"all\", all exponents are shown besides their\n            significands. If \"first\", only the exponent of the\n            first tick is shown. If \"last\", only the exponent of\n            the last tick is shown. If \"none\", no exponents appear.\n        showticklabels\n            Determines whether or not the tick labels are drawn.\n        showtickprefix\n            If \"all\", all tick labels are displayed with a prefix.\n            If \"first\", only the first tick is displayed with a\n            prefix. If \"last\", only the last tick is displayed with\n            a suffix. If \"none\", tick prefixes are hidden.\n        showticksuffix\n            Same as `showtickprefix` but for tick suffixes.\n        tick0\n            Sets the placement of the first tick on this axis. Use\n            with `dtick`. If the axis `type` is \"log\", then you\n            must take the log of your starting tick (e.g. to set\n            the starting tick to 100, set the `tick0` to 2) except\n            when `dtick`=*L<f>* (see `dtick` for more info). If the\n            axis `type` is \"date\", it should be a date string, like\n            date data. If the axis `type` is \"category\", it should\n            be a number, using the scale where each category is\n            assigned a serial number from zero in the order it\n            appears.\n        tickangle\n            Sets the angle of the tick labels with respect to the\n            horizontal. For example, a `tickangle` of -90 draws the\n            tick labels vertically.\n        tickcolor\n            Sets the tick color.\n        tickfont\n            Sets the color bar's tick label font\n        tickformat\n            Sets the tick label formatting rule using d3 formatting\n            mini-languages which are very similar to those in\n            Python. For numbers, see:\n            https://github.com/d3/d3-3.x-api-\n            reference/blob/master/Formatting.md#d3_format And for\n            dates see: https://github.com/d3/d3-time-\n            format#locale_format We add one item to d3's date\n            formatter: \"%{n}f\" for fractional seconds with n\n            digits. For example, *2016-10-13 09:15:23.456* with\n            tickformat \"%H~%M~%S.%2f\" would display \"09~15~23.46\"\n        tickformatstops\n            A tuple of :class:`plotly.graph_objects.indicator.gauge\n            .axis.Tickformatstop` instances or dicts with\n            compatible properties\n        tickformatstopdefaults\n            When used in a template (as layout.template.data.indica\n            tor.gauge.axis.tickformatstopdefaults), sets the\n            default property values to use for elements of\n            indicator.gauge.axis.tickformatstops\n        ticklen\n            Sets the tick length (in px).\n        tickmode\n            Sets the tick mode for this axis. If \"auto\", the number\n            of ticks is set via `nticks`. If \"linear\", the\n            placement of the ticks is determined by a starting\n            position `tick0` and a tick step `dtick` (\"linear\" is\n            the default value if `tick0` and `dtick` are provided).\n            If \"array\", the placement of the ticks is set via\n            `tickvals` and the tick text is `ticktext`. (\"array\" is\n            the default value if `tickvals` is provided).\n        tickprefix\n            Sets a tick label prefix.\n        ticks\n            Determines whether ticks are drawn or not. If \"\", this\n            axis' ticks are not drawn. If \"outside\" (\"inside\"),\n            this axis' are drawn outside (inside) the axis lines.\n        ticksuffix\n            Sets a tick label suffix.\n        ticktext\n            Sets the text displayed at the ticks position via\n            `tickvals`. Only has an effect if `tickmode` is set to\n            \"array\". Used with `tickvals`.\n        ticktextsrc\n            Sets the source reference on Chart Studio Cloud for\n            ticktext .\n        tickvals\n            Sets the values at which ticks on this axis appear.\n            Only has an effect if `tickmode` is set to \"array\".\n            Used with `ticktext`.\n        tickvalssrc\n            Sets the source reference on Chart Studio Cloud for\n            tickvals .\n        tickwidth\n            Sets the tick width (in px).\n        visible\n            A single toggle to hide the axis while preserving\n            interaction like dragging. Default is true when a\n            cheater plot is present on the axis, otherwise false\n        \nDid you mean \"dtick\"?\n\nBad property path:\norientation\n^^^^^^^^^^^",
     "traceback": [
      "\u001b[1;31m---------------------------------------------------------------------------\u001b[0m",
      "\u001b[1;31mValueError\u001b[0m                                Traceback (most recent call last)",
      "\u001b[1;32m<ipython-input-50-c381f020969d>\u001b[0m in \u001b[0;36m<module>\u001b[1;34m\u001b[0m\n\u001b[0;32m     12\u001b[0m         \u001b[0mvalue\u001b[0m \u001b[1;33m=\u001b[0m \u001b[1;36m220\u001b[0m\u001b[1;33m,\u001b[0m\u001b[1;33m\u001b[0m\u001b[1;33m\u001b[0m\u001b[0m\n\u001b[0;32m     13\u001b[0m         \u001b[0mdomain\u001b[0m \u001b[1;33m=\u001b[0m \u001b[1;33m{\u001b[0m\u001b[1;34m'x'\u001b[0m\u001b[1;33m:\u001b[0m \u001b[1;33m[\u001b[0m\u001b[1;36m0.1\u001b[0m\u001b[1;33m,\u001b[0m \u001b[1;36m1\u001b[0m\u001b[1;33m]\u001b[0m\u001b[1;33m,\u001b[0m \u001b[1;34m'y'\u001b[0m\u001b[1;33m:\u001b[0m \u001b[1;33m[\u001b[0m\u001b[1;36m0.2\u001b[0m\u001b[1;33m,\u001b[0m \u001b[1;36m0.9\u001b[0m\u001b[1;33m]\u001b[0m\u001b[1;33m}\u001b[0m\u001b[1;33m,\u001b[0m\u001b[1;33m\u001b[0m\u001b[1;33m\u001b[0m\u001b[0m\n\u001b[1;32m---> 14\u001b[1;33m         title = {'text': \"Avg order size\"}),\n\u001b[0m\u001b[0;32m     15\u001b[0m     )\n\u001b[0;32m     16\u001b[0m \u001b[1;33m\u001b[0m\u001b[0m\n",
      "\u001b[1;32m~\\anaconda3\\envs\\cnext\\lib\\site-packages\\plotly\\graph_objs\\_indicator.py\u001b[0m in \u001b[0;36m__init__\u001b[1;34m(self, arg, align, customdata, customdatasrc, delta, domain, gauge, ids, idssrc, meta, metasrc, mode, name, number, stream, title, uid, uirevision, value, visible, **kwargs)\u001b[0m\n\u001b[0;32m    865\u001b[0m         \u001b[0m_v\u001b[0m \u001b[1;33m=\u001b[0m \u001b[0mgauge\u001b[0m \u001b[1;32mif\u001b[0m \u001b[0mgauge\u001b[0m \u001b[1;32mis\u001b[0m \u001b[1;32mnot\u001b[0m \u001b[1;32mNone\u001b[0m \u001b[1;32melse\u001b[0m \u001b[0m_v\u001b[0m\u001b[1;33m\u001b[0m\u001b[1;33m\u001b[0m\u001b[0m\n\u001b[0;32m    866\u001b[0m         \u001b[1;32mif\u001b[0m \u001b[0m_v\u001b[0m \u001b[1;32mis\u001b[0m \u001b[1;32mnot\u001b[0m \u001b[1;32mNone\u001b[0m\u001b[1;33m:\u001b[0m\u001b[1;33m\u001b[0m\u001b[1;33m\u001b[0m\u001b[0m\n\u001b[1;32m--> 867\u001b[1;33m             \u001b[0mself\u001b[0m\u001b[1;33m[\u001b[0m\u001b[1;34m\"gauge\"\u001b[0m\u001b[1;33m]\u001b[0m \u001b[1;33m=\u001b[0m \u001b[0m_v\u001b[0m\u001b[1;33m\u001b[0m\u001b[1;33m\u001b[0m\u001b[0m\n\u001b[0m\u001b[0;32m    868\u001b[0m         \u001b[0m_v\u001b[0m \u001b[1;33m=\u001b[0m \u001b[0marg\u001b[0m\u001b[1;33m.\u001b[0m\u001b[0mpop\u001b[0m\u001b[1;33m(\u001b[0m\u001b[1;34m\"ids\"\u001b[0m\u001b[1;33m,\u001b[0m \u001b[1;32mNone\u001b[0m\u001b[1;33m)\u001b[0m\u001b[1;33m\u001b[0m\u001b[1;33m\u001b[0m\u001b[0m\n\u001b[0;32m    869\u001b[0m         \u001b[0m_v\u001b[0m \u001b[1;33m=\u001b[0m \u001b[0mids\u001b[0m \u001b[1;32mif\u001b[0m \u001b[0mids\u001b[0m \u001b[1;32mis\u001b[0m \u001b[1;32mnot\u001b[0m \u001b[1;32mNone\u001b[0m \u001b[1;32melse\u001b[0m \u001b[0m_v\u001b[0m\u001b[1;33m\u001b[0m\u001b[1;33m\u001b[0m\u001b[0m\n",
      "\u001b[1;32m~\\anaconda3\\envs\\cnext\\lib\\site-packages\\plotly\\basedatatypes.py\u001b[0m in \u001b[0;36m__setitem__\u001b[1;34m(self, prop, value)\u001b[0m\n\u001b[0;32m   4794\u001b[0m                 \u001b[1;31m# ### Handle compound property ###\u001b[0m\u001b[1;33m\u001b[0m\u001b[1;33m\u001b[0m\u001b[1;33m\u001b[0m\u001b[0m\n\u001b[0;32m   4795\u001b[0m                 \u001b[1;32mif\u001b[0m \u001b[0misinstance\u001b[0m\u001b[1;33m(\u001b[0m\u001b[0mvalidator\u001b[0m\u001b[1;33m,\u001b[0m \u001b[0mCompoundValidator\u001b[0m\u001b[1;33m)\u001b[0m\u001b[1;33m:\u001b[0m\u001b[1;33m\u001b[0m\u001b[1;33m\u001b[0m\u001b[0m\n\u001b[1;32m-> 4796\u001b[1;33m                     \u001b[0mself\u001b[0m\u001b[1;33m.\u001b[0m\u001b[0m_set_compound_prop\u001b[0m\u001b[1;33m(\u001b[0m\u001b[0mprop\u001b[0m\u001b[1;33m,\u001b[0m \u001b[0mvalue\u001b[0m\u001b[1;33m)\u001b[0m\u001b[1;33m\u001b[0m\u001b[1;33m\u001b[0m\u001b[0m\n\u001b[0m\u001b[0;32m   4797\u001b[0m \u001b[1;33m\u001b[0m\u001b[0m\n\u001b[0;32m   4798\u001b[0m                 \u001b[1;31m# ### Handle compound array property ###\u001b[0m\u001b[1;33m\u001b[0m\u001b[1;33m\u001b[0m\u001b[1;33m\u001b[0m\u001b[0m\n",
      "\u001b[1;32m~\\anaconda3\\envs\\cnext\\lib\\site-packages\\plotly\\basedatatypes.py\u001b[0m in \u001b[0;36m_set_compound_prop\u001b[1;34m(self, prop, val)\u001b[0m\n\u001b[0;32m   5205\u001b[0m         \u001b[1;31m# ------------\u001b[0m\u001b[1;33m\u001b[0m\u001b[1;33m\u001b[0m\u001b[1;33m\u001b[0m\u001b[0m\n\u001b[0;32m   5206\u001b[0m         \u001b[0mvalidator\u001b[0m \u001b[1;33m=\u001b[0m \u001b[0mself\u001b[0m\u001b[1;33m.\u001b[0m\u001b[0m_get_validator\u001b[0m\u001b[1;33m(\u001b[0m\u001b[0mprop\u001b[0m\u001b[1;33m)\u001b[0m\u001b[1;33m\u001b[0m\u001b[1;33m\u001b[0m\u001b[0m\n\u001b[1;32m-> 5207\u001b[1;33m         \u001b[0mval\u001b[0m \u001b[1;33m=\u001b[0m \u001b[0mvalidator\u001b[0m\u001b[1;33m.\u001b[0m\u001b[0mvalidate_coerce\u001b[0m\u001b[1;33m(\u001b[0m\u001b[0mval\u001b[0m\u001b[1;33m,\u001b[0m \u001b[0mskip_invalid\u001b[0m\u001b[1;33m=\u001b[0m\u001b[0mself\u001b[0m\u001b[1;33m.\u001b[0m\u001b[0m_skip_invalid\u001b[0m\u001b[1;33m)\u001b[0m\u001b[1;33m\u001b[0m\u001b[1;33m\u001b[0m\u001b[0m\n\u001b[0m\u001b[0;32m   5208\u001b[0m \u001b[1;33m\u001b[0m\u001b[0m\n\u001b[0;32m   5209\u001b[0m         \u001b[1;31m# Save deep copies of current and new states\u001b[0m\u001b[1;33m\u001b[0m\u001b[1;33m\u001b[0m\u001b[1;33m\u001b[0m\u001b[0m\n",
      "\u001b[1;32m~\\anaconda3\\envs\\cnext\\lib\\site-packages\\_plotly_utils\\basevalidators.py\u001b[0m in \u001b[0;36mvalidate_coerce\u001b[1;34m(self, v, skip_invalid, _validate)\u001b[0m\n\u001b[0;32m   2448\u001b[0m \u001b[1;33m\u001b[0m\u001b[0m\n\u001b[0;32m   2449\u001b[0m         \u001b[1;32melif\u001b[0m \u001b[0misinstance\u001b[0m\u001b[1;33m(\u001b[0m\u001b[0mv\u001b[0m\u001b[1;33m,\u001b[0m \u001b[0mdict\u001b[0m\u001b[1;33m)\u001b[0m\u001b[1;33m:\u001b[0m\u001b[1;33m\u001b[0m\u001b[1;33m\u001b[0m\u001b[0m\n\u001b[1;32m-> 2450\u001b[1;33m             \u001b[0mv\u001b[0m \u001b[1;33m=\u001b[0m \u001b[0mself\u001b[0m\u001b[1;33m.\u001b[0m\u001b[0mdata_class\u001b[0m\u001b[1;33m(\u001b[0m\u001b[0mv\u001b[0m\u001b[1;33m,\u001b[0m \u001b[0mskip_invalid\u001b[0m\u001b[1;33m=\u001b[0m\u001b[0mskip_invalid\u001b[0m\u001b[1;33m,\u001b[0m \u001b[0m_validate\u001b[0m\u001b[1;33m=\u001b[0m\u001b[0m_validate\u001b[0m\u001b[1;33m)\u001b[0m\u001b[1;33m\u001b[0m\u001b[1;33m\u001b[0m\u001b[0m\n\u001b[0m\u001b[0;32m   2451\u001b[0m \u001b[1;33m\u001b[0m\u001b[0m\n\u001b[0;32m   2452\u001b[0m         \u001b[1;32melif\u001b[0m \u001b[0misinstance\u001b[0m\u001b[1;33m(\u001b[0m\u001b[0mv\u001b[0m\u001b[1;33m,\u001b[0m \u001b[0mself\u001b[0m\u001b[1;33m.\u001b[0m\u001b[0mdata_class\u001b[0m\u001b[1;33m)\u001b[0m\u001b[1;33m:\u001b[0m\u001b[1;33m\u001b[0m\u001b[1;33m\u001b[0m\u001b[0m\n",
      "\u001b[1;32m~\\anaconda3\\envs\\cnext\\lib\\site-packages\\plotly\\graph_objs\\indicator\\_gauge.py\u001b[0m in \u001b[0;36m__init__\u001b[1;34m(self, arg, axis, bar, bgcolor, bordercolor, borderwidth, shape, steps, stepdefaults, threshold, **kwargs)\u001b[0m\n\u001b[0;32m    630\u001b[0m         \u001b[0m_v\u001b[0m \u001b[1;33m=\u001b[0m \u001b[0maxis\u001b[0m \u001b[1;32mif\u001b[0m \u001b[0maxis\u001b[0m \u001b[1;32mis\u001b[0m \u001b[1;32mnot\u001b[0m \u001b[1;32mNone\u001b[0m \u001b[1;32melse\u001b[0m \u001b[0m_v\u001b[0m\u001b[1;33m\u001b[0m\u001b[1;33m\u001b[0m\u001b[0m\n\u001b[0;32m    631\u001b[0m         \u001b[1;32mif\u001b[0m \u001b[0m_v\u001b[0m \u001b[1;32mis\u001b[0m \u001b[1;32mnot\u001b[0m \u001b[1;32mNone\u001b[0m\u001b[1;33m:\u001b[0m\u001b[1;33m\u001b[0m\u001b[1;33m\u001b[0m\u001b[0m\n\u001b[1;32m--> 632\u001b[1;33m             \u001b[0mself\u001b[0m\u001b[1;33m[\u001b[0m\u001b[1;34m\"axis\"\u001b[0m\u001b[1;33m]\u001b[0m \u001b[1;33m=\u001b[0m \u001b[0m_v\u001b[0m\u001b[1;33m\u001b[0m\u001b[1;33m\u001b[0m\u001b[0m\n\u001b[0m\u001b[0;32m    633\u001b[0m         \u001b[0m_v\u001b[0m \u001b[1;33m=\u001b[0m \u001b[0marg\u001b[0m\u001b[1;33m.\u001b[0m\u001b[0mpop\u001b[0m\u001b[1;33m(\u001b[0m\u001b[1;34m\"bar\"\u001b[0m\u001b[1;33m,\u001b[0m \u001b[1;32mNone\u001b[0m\u001b[1;33m)\u001b[0m\u001b[1;33m\u001b[0m\u001b[1;33m\u001b[0m\u001b[0m\n\u001b[0;32m    634\u001b[0m         \u001b[0m_v\u001b[0m \u001b[1;33m=\u001b[0m \u001b[0mbar\u001b[0m \u001b[1;32mif\u001b[0m \u001b[0mbar\u001b[0m \u001b[1;32mis\u001b[0m \u001b[1;32mnot\u001b[0m \u001b[1;32mNone\u001b[0m \u001b[1;32melse\u001b[0m \u001b[0m_v\u001b[0m\u001b[1;33m\u001b[0m\u001b[1;33m\u001b[0m\u001b[0m\n",
      "\u001b[1;32m~\\anaconda3\\envs\\cnext\\lib\\site-packages\\plotly\\basedatatypes.py\u001b[0m in \u001b[0;36m__setitem__\u001b[1;34m(self, prop, value)\u001b[0m\n\u001b[0;32m   4794\u001b[0m                 \u001b[1;31m# ### Handle compound property ###\u001b[0m\u001b[1;33m\u001b[0m\u001b[1;33m\u001b[0m\u001b[1;33m\u001b[0m\u001b[0m\n\u001b[0;32m   4795\u001b[0m                 \u001b[1;32mif\u001b[0m \u001b[0misinstance\u001b[0m\u001b[1;33m(\u001b[0m\u001b[0mvalidator\u001b[0m\u001b[1;33m,\u001b[0m \u001b[0mCompoundValidator\u001b[0m\u001b[1;33m)\u001b[0m\u001b[1;33m:\u001b[0m\u001b[1;33m\u001b[0m\u001b[1;33m\u001b[0m\u001b[0m\n\u001b[1;32m-> 4796\u001b[1;33m                     \u001b[0mself\u001b[0m\u001b[1;33m.\u001b[0m\u001b[0m_set_compound_prop\u001b[0m\u001b[1;33m(\u001b[0m\u001b[0mprop\u001b[0m\u001b[1;33m,\u001b[0m \u001b[0mvalue\u001b[0m\u001b[1;33m)\u001b[0m\u001b[1;33m\u001b[0m\u001b[1;33m\u001b[0m\u001b[0m\n\u001b[0m\u001b[0;32m   4797\u001b[0m \u001b[1;33m\u001b[0m\u001b[0m\n\u001b[0;32m   4798\u001b[0m                 \u001b[1;31m# ### Handle compound array property ###\u001b[0m\u001b[1;33m\u001b[0m\u001b[1;33m\u001b[0m\u001b[1;33m\u001b[0m\u001b[0m\n",
      "\u001b[1;32m~\\anaconda3\\envs\\cnext\\lib\\site-packages\\plotly\\basedatatypes.py\u001b[0m in \u001b[0;36m_set_compound_prop\u001b[1;34m(self, prop, val)\u001b[0m\n\u001b[0;32m   5205\u001b[0m         \u001b[1;31m# ------------\u001b[0m\u001b[1;33m\u001b[0m\u001b[1;33m\u001b[0m\u001b[1;33m\u001b[0m\u001b[0m\n\u001b[0;32m   5206\u001b[0m         \u001b[0mvalidator\u001b[0m \u001b[1;33m=\u001b[0m \u001b[0mself\u001b[0m\u001b[1;33m.\u001b[0m\u001b[0m_get_validator\u001b[0m\u001b[1;33m(\u001b[0m\u001b[0mprop\u001b[0m\u001b[1;33m)\u001b[0m\u001b[1;33m\u001b[0m\u001b[1;33m\u001b[0m\u001b[0m\n\u001b[1;32m-> 5207\u001b[1;33m         \u001b[0mval\u001b[0m \u001b[1;33m=\u001b[0m \u001b[0mvalidator\u001b[0m\u001b[1;33m.\u001b[0m\u001b[0mvalidate_coerce\u001b[0m\u001b[1;33m(\u001b[0m\u001b[0mval\u001b[0m\u001b[1;33m,\u001b[0m \u001b[0mskip_invalid\u001b[0m\u001b[1;33m=\u001b[0m\u001b[0mself\u001b[0m\u001b[1;33m.\u001b[0m\u001b[0m_skip_invalid\u001b[0m\u001b[1;33m)\u001b[0m\u001b[1;33m\u001b[0m\u001b[1;33m\u001b[0m\u001b[0m\n\u001b[0m\u001b[0;32m   5208\u001b[0m \u001b[1;33m\u001b[0m\u001b[0m\n\u001b[0;32m   5209\u001b[0m         \u001b[1;31m# Save deep copies of current and new states\u001b[0m\u001b[1;33m\u001b[0m\u001b[1;33m\u001b[0m\u001b[1;33m\u001b[0m\u001b[0m\n",
      "\u001b[1;32m~\\anaconda3\\envs\\cnext\\lib\\site-packages\\_plotly_utils\\basevalidators.py\u001b[0m in \u001b[0;36mvalidate_coerce\u001b[1;34m(self, v, skip_invalid, _validate)\u001b[0m\n\u001b[0;32m   2448\u001b[0m \u001b[1;33m\u001b[0m\u001b[0m\n\u001b[0;32m   2449\u001b[0m         \u001b[1;32melif\u001b[0m \u001b[0misinstance\u001b[0m\u001b[1;33m(\u001b[0m\u001b[0mv\u001b[0m\u001b[1;33m,\u001b[0m \u001b[0mdict\u001b[0m\u001b[1;33m)\u001b[0m\u001b[1;33m:\u001b[0m\u001b[1;33m\u001b[0m\u001b[1;33m\u001b[0m\u001b[0m\n\u001b[1;32m-> 2450\u001b[1;33m             \u001b[0mv\u001b[0m \u001b[1;33m=\u001b[0m \u001b[0mself\u001b[0m\u001b[1;33m.\u001b[0m\u001b[0mdata_class\u001b[0m\u001b[1;33m(\u001b[0m\u001b[0mv\u001b[0m\u001b[1;33m,\u001b[0m \u001b[0mskip_invalid\u001b[0m\u001b[1;33m=\u001b[0m\u001b[0mskip_invalid\u001b[0m\u001b[1;33m,\u001b[0m \u001b[0m_validate\u001b[0m\u001b[1;33m=\u001b[0m\u001b[0m_validate\u001b[0m\u001b[1;33m)\u001b[0m\u001b[1;33m\u001b[0m\u001b[1;33m\u001b[0m\u001b[0m\n\u001b[0m\u001b[0;32m   2451\u001b[0m \u001b[1;33m\u001b[0m\u001b[0m\n\u001b[0;32m   2452\u001b[0m         \u001b[1;32melif\u001b[0m \u001b[0misinstance\u001b[0m\u001b[1;33m(\u001b[0m\u001b[0mv\u001b[0m\u001b[1;33m,\u001b[0m \u001b[0mself\u001b[0m\u001b[1;33m.\u001b[0m\u001b[0mdata_class\u001b[0m\u001b[1;33m)\u001b[0m\u001b[1;33m:\u001b[0m\u001b[1;33m\u001b[0m\u001b[1;33m\u001b[0m\u001b[0m\n",
      "\u001b[1;32m~\\anaconda3\\envs\\cnext\\lib\\site-packages\\plotly\\graph_objs\\indicator\\gauge\\_axis.py\u001b[0m in \u001b[0;36m__init__\u001b[1;34m(self, arg, dtick, exponentformat, minexponent, nticks, range, separatethousands, showexponent, showticklabels, showtickprefix, showticksuffix, tick0, tickangle, tickcolor, tickfont, tickformat, tickformatstops, tickformatstopdefaults, ticklen, tickmode, tickprefix, ticks, ticksuffix, ticktext, ticktextsrc, tickvals, tickvalssrc, tickwidth, visible, **kwargs)\u001b[0m\n\u001b[0;32m   1258\u001b[0m         \u001b[1;31m# Process unknown kwargs\u001b[0m\u001b[1;33m\u001b[0m\u001b[1;33m\u001b[0m\u001b[1;33m\u001b[0m\u001b[0m\n\u001b[0;32m   1259\u001b[0m         \u001b[1;31m# ----------------------\u001b[0m\u001b[1;33m\u001b[0m\u001b[1;33m\u001b[0m\u001b[1;33m\u001b[0m\u001b[0m\n\u001b[1;32m-> 1260\u001b[1;33m         \u001b[0mself\u001b[0m\u001b[1;33m.\u001b[0m\u001b[0m_process_kwargs\u001b[0m\u001b[1;33m(\u001b[0m\u001b[1;33m**\u001b[0m\u001b[0mdict\u001b[0m\u001b[1;33m(\u001b[0m\u001b[0marg\u001b[0m\u001b[1;33m,\u001b[0m \u001b[1;33m**\u001b[0m\u001b[0mkwargs\u001b[0m\u001b[1;33m)\u001b[0m\u001b[1;33m)\u001b[0m\u001b[1;33m\u001b[0m\u001b[1;33m\u001b[0m\u001b[0m\n\u001b[0m\u001b[0;32m   1261\u001b[0m \u001b[1;33m\u001b[0m\u001b[0m\n\u001b[0;32m   1262\u001b[0m         \u001b[1;31m# Reset skip_invalid\u001b[0m\u001b[1;33m\u001b[0m\u001b[1;33m\u001b[0m\u001b[1;33m\u001b[0m\u001b[0m\n",
      "\u001b[1;32m~\\anaconda3\\envs\\cnext\\lib\\site-packages\\plotly\\basedatatypes.py\u001b[0m in \u001b[0;36m_process_kwargs\u001b[1;34m(self, **kwargs)\u001b[0m\n\u001b[0;32m   4320\u001b[0m                 \u001b[0mself\u001b[0m\u001b[1;33m[\u001b[0m\u001b[0mk\u001b[0m\u001b[1;33m]\u001b[0m \u001b[1;33m=\u001b[0m \u001b[0mv\u001b[0m\u001b[1;33m\u001b[0m\u001b[1;33m\u001b[0m\u001b[0m\n\u001b[0;32m   4321\u001b[0m             \u001b[1;32melif\u001b[0m \u001b[1;32mnot\u001b[0m \u001b[0mself\u001b[0m\u001b[1;33m.\u001b[0m\u001b[0m_skip_invalid\u001b[0m\u001b[1;33m:\u001b[0m\u001b[1;33m\u001b[0m\u001b[1;33m\u001b[0m\u001b[0m\n\u001b[1;32m-> 4322\u001b[1;33m                 \u001b[1;32mraise\u001b[0m \u001b[0merr\u001b[0m\u001b[1;33m\u001b[0m\u001b[1;33m\u001b[0m\u001b[0m\n\u001b[0m\u001b[0;32m   4323\u001b[0m         \u001b[1;31m# No need to call _raise_on_invalid_property_error here,\u001b[0m\u001b[1;33m\u001b[0m\u001b[1;33m\u001b[0m\u001b[1;33m\u001b[0m\u001b[0m\n\u001b[0;32m   4324\u001b[0m         \u001b[1;31m# because we have it set up so that the singular case of calling\u001b[0m\u001b[1;33m\u001b[0m\u001b[1;33m\u001b[0m\u001b[1;33m\u001b[0m\u001b[0m\n",
      "\u001b[1;31mValueError\u001b[0m: Invalid property specified for object of type plotly.graph_objs.indicator.gauge.Axis: 'orientation'\n\nDid you mean \"dtick\"?\n\n    Valid properties:\n        dtick\n            Sets the step in-between ticks on this axis. Use with\n            `tick0`. Must be a positive number, or special strings\n            available to \"log\" and \"date\" axes. If the axis `type`\n            is \"log\", then ticks are set every 10^(n*dtick) where n\n            is the tick number. For example, to set a tick mark at\n            1, 10, 100, 1000, ... set dtick to 1. To set tick marks\n            at 1, 100, 10000, ... set dtick to 2. To set tick marks\n            at 1, 5, 25, 125, 625, 3125, ... set dtick to\n            log_10(5), or 0.69897000433. \"log\" has several special\n            values; \"L<f>\", where `f` is a positive number, gives\n            ticks linearly spaced in value (but not position). For\n            example `tick0` = 0.1, `dtick` = \"L0.5\" will put ticks\n            at 0.1, 0.6, 1.1, 1.6 etc. To show powers of 10 plus\n            small digits between, use \"D1\" (all digits) or \"D2\"\n            (only 2 and 5). `tick0` is ignored for \"D1\" and \"D2\".\n            If the axis `type` is \"date\", then you must convert the\n            time to milliseconds. For example, to set the interval\n            between ticks to one day, set `dtick` to 86400000.0.\n            \"date\" also has special values \"M<n>\" gives ticks\n            spaced by a number of months. `n` must be a positive\n            integer. To set ticks on the 15th of every third month,\n            set `tick0` to \"2000-01-15\" and `dtick` to \"M3\". To set\n            ticks every 4 years, set `dtick` to \"M48\"\n        exponentformat\n            Determines a formatting rule for the tick exponents.\n            For example, consider the number 1,000,000,000. If\n            \"none\", it appears as 1,000,000,000. If \"e\", 1e+9. If\n            \"E\", 1E+9. If \"power\", 1x10^9 (with 9 in a super\n            script). If \"SI\", 1G. If \"B\", 1B.\n        minexponent\n            Hide SI prefix for 10^n if |n| is below this number.\n            This only has an effect when `tickformat` is \"SI\" or\n            \"B\".\n        nticks\n            Specifies the maximum number of ticks for the\n            particular axis. The actual number of ticks will be\n            chosen automatically to be less than or equal to\n            `nticks`. Has an effect only if `tickmode` is set to\n            \"auto\".\n        range\n            Sets the range of this axis.\n        separatethousands\n            If \"true\", even 4-digit integers are separated\n        showexponent\n            If \"all\", all exponents are shown besides their\n            significands. If \"first\", only the exponent of the\n            first tick is shown. If \"last\", only the exponent of\n            the last tick is shown. If \"none\", no exponents appear.\n        showticklabels\n            Determines whether or not the tick labels are drawn.\n        showtickprefix\n            If \"all\", all tick labels are displayed with a prefix.\n            If \"first\", only the first tick is displayed with a\n            prefix. If \"last\", only the last tick is displayed with\n            a suffix. If \"none\", tick prefixes are hidden.\n        showticksuffix\n            Same as `showtickprefix` but for tick suffixes.\n        tick0\n            Sets the placement of the first tick on this axis. Use\n            with `dtick`. If the axis `type` is \"log\", then you\n            must take the log of your starting tick (e.g. to set\n            the starting tick to 100, set the `tick0` to 2) except\n            when `dtick`=*L<f>* (see `dtick` for more info). If the\n            axis `type` is \"date\", it should be a date string, like\n            date data. If the axis `type` is \"category\", it should\n            be a number, using the scale where each category is\n            assigned a serial number from zero in the order it\n            appears.\n        tickangle\n            Sets the angle of the tick labels with respect to the\n            horizontal. For example, a `tickangle` of -90 draws the\n            tick labels vertically.\n        tickcolor\n            Sets the tick color.\n        tickfont\n            Sets the color bar's tick label font\n        tickformat\n            Sets the tick label formatting rule using d3 formatting\n            mini-languages which are very similar to those in\n            Python. For numbers, see:\n            https://github.com/d3/d3-3.x-api-\n            reference/blob/master/Formatting.md#d3_format And for\n            dates see: https://github.com/d3/d3-time-\n            format#locale_format We add one item to d3's date\n            formatter: \"%{n}f\" for fractional seconds with n\n            digits. For example, *2016-10-13 09:15:23.456* with\n            tickformat \"%H~%M~%S.%2f\" would display \"09~15~23.46\"\n        tickformatstops\n            A tuple of :class:`plotly.graph_objects.indicator.gauge\n            .axis.Tickformatstop` instances or dicts with\n            compatible properties\n        tickformatstopdefaults\n            When used in a template (as layout.template.data.indica\n            tor.gauge.axis.tickformatstopdefaults), sets the\n            default property values to use for elements of\n            indicator.gauge.axis.tickformatstops\n        ticklen\n            Sets the tick length (in px).\n        tickmode\n            Sets the tick mode for this axis. If \"auto\", the number\n            of ticks is set via `nticks`. If \"linear\", the\n            placement of the ticks is determined by a starting\n            position `tick0` and a tick step `dtick` (\"linear\" is\n            the default value if `tick0` and `dtick` are provided).\n            If \"array\", the placement of the ticks is set via\n            `tickvals` and the tick text is `ticktext`. (\"array\" is\n            the default value if `tickvals` is provided).\n        tickprefix\n            Sets a tick label prefix.\n        ticks\n            Determines whether ticks are drawn or not. If \"\", this\n            axis' ticks are not drawn. If \"outside\" (\"inside\"),\n            this axis' are drawn outside (inside) the axis lines.\n        ticksuffix\n            Sets a tick label suffix.\n        ticktext\n            Sets the text displayed at the ticks position via\n            `tickvals`. Only has an effect if `tickmode` is set to\n            \"array\". Used with `tickvals`.\n        ticktextsrc\n            Sets the source reference on Chart Studio Cloud for\n            ticktext .\n        tickvals\n            Sets the values at which ticks on this axis appear.\n            Only has an effect if `tickmode` is set to \"array\".\n            Used with `ticktext`.\n        tickvalssrc\n            Sets the source reference on Chart Studio Cloud for\n            tickvals .\n        tickwidth\n            Sets the tick width (in px).\n        visible\n            A single toggle to hide the axis while preserving\n            interaction like dragging. Default is true when a\n            cheater plot is present on the axis, otherwise false\n        \nDid you mean \"dtick\"?\n\nBad property path:\norientation\n^^^^^^^^^^^"
     ]
    }
   ],
   "source": [
    "import plotly.graph_objects as go\n",
    "\n",
    "fig = go.Figure(\n",
    "    go.Indicator(\n",
    "        mode = \"number+gauge+delta\",\n",
    "        gauge = {\n",
    "            'shape': \"bullet\",\n",
    "            'axis':{\n",
    "                'visible': False,\n",
    "                'orientation': 'v'}},\n",
    "        delta = {'reference': 300},\n",
    "        value = 220,\n",
    "        domain = {'x': [0.1, 1], 'y': [0.2, 0.9]},\n",
    "        title = {'text': \"Avg order size\"}),\n",
    "    )\n",
    "\n",
    "fig.show()"
   ]
  },
  {
   "cell_type": "code",
   "execution_count": 54,
   "metadata": {},
   "outputs": [],
   "source": [
    "    results = {\n",
    "        \"ind1\":{\n",
    "            \"name\":\"Transparency\",\n",
    "            \"score\": 4.5,\n",
    "            \"sector_score\": 4.2,\n",
    "            },\n",
    "        \"ind2\":{\n",
    "            \"name\":\"Seriousness\",\n",
    "            \"score\": 3.5,\n",
    "            \"sector_score\": 4.2,\n",
    "            },\n",
    "        \"ind3\":{\n",
    "            \"name\":\"Momentum\",\n",
    "            \"score\": 2.5,\n",
    "            \"sector_score\": 4.2,\n",
    "            },\n",
    "    }"
   ]
  },
  {
   "cell_type": "code",
   "execution_count": 61,
   "metadata": {},
   "outputs": [
    {
     "output_type": "execute_result",
     "data": {
      "text/plain": [
       "'Transparency'"
      ]
     },
     "metadata": {},
     "execution_count": 61
    }
   ],
   "source": [
    "results['ind1']['name']"
   ]
  },
  {
   "cell_type": "code",
   "execution_count": null,
   "metadata": {},
   "outputs": [],
   "source": []
  }
 ],
 "metadata": {
  "kernelspec": {
   "name": "python3",
   "display_name": "Python 3.6.13 64-bit ('cnext': conda)"
  },
  "language_info": {
   "codemirror_mode": {
    "name": "ipython",
    "version": 3
   },
   "file_extension": ".py",
   "mimetype": "text/x-python",
   "name": "python",
   "nbconvert_exporter": "python",
   "pygments_lexer": "ipython3",
   "version": "3.6.13"
  },
  "interpreter": {
   "hash": "2763097f05fa0e79020cf579cd98f61c1a12f2eb3c0b21888a5c169647c48c37"
  }
 },
 "nbformat": 4,
 "nbformat_minor": 4
}