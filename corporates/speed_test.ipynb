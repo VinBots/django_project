{
 "cells": [
  {
   "cell_type": "code",
   "execution_count": 1,
   "source": [
    "from utilities import get_ghg, get_score_data, get_scores_summary, get_targets, get_data\n",
    "from pathlib import Path\n",
    "import os\n",
    "import pandas as pd"
   ],
   "outputs": [],
   "metadata": {}
  },
  {
   "cell_type": "code",
   "execution_count": 2,
   "source": [
    "company_id = 25"
   ],
   "outputs": [],
   "metadata": {}
  },
  {
   "cell_type": "code",
   "execution_count": 16,
   "source": [
    "BASE_DIR_XL_DB = '/Users/vincentmanier/Documents/django_project/'\n",
    "xlsx_path = os.path.join (BASE_DIR_XL_DB, 'sp100.xlsx')\n",
    "sheet_names =['ghg_quant', 'corp_scores', 'score_summary', 'targets_quant']\n",
    "#COLS_TO_USE = ['company_id', 'target_type','scope', 'cov_s3', 'reduction_obj', 'base_year', 'target_year','source']\n",
    "#COLS_TO_USE = ['company_id', 'Source']\n",
    "all_data = pd.read_excel(  \n",
    "  xlsx_path,\n",
    "  sheet_name=sheet_names,\n",
    "  engine = 'openpyxl'\n",
    "  )\n",
    "\n",
    "xls_corp = {\n",
    "      'ghg': get_ghg(company_id=company_id, all_data = all_data['ghg_quant']),\n",
    "      'score_data': get_score_data(company_id=company_id, all_data = all_data['corp_scores']),\n",
    "      'corp_scores_summary': get_scores_summary(company_id=company_id, all_data = all_data['score_summary']),\n",
    "      'targets': get_targets(company_id=company_id, all_data = all_data['targets_quant']),\n",
    "    }    "
   ],
   "outputs": [],
   "metadata": {}
  },
  {
   "cell_type": "code",
   "execution_count": null,
   "source": [],
   "outputs": [],
   "metadata": {}
  },
  {
   "cell_type": "code",
   "execution_count": 31,
   "source": [
    "    \n",
    "all_data = get_data(\n",
    "    xlsx_path,\n",
    "    'ghg_quant',\n",
    "    None,\n",
    ")"
   ],
   "outputs": [],
   "metadata": {}
  },
  {
   "cell_type": "code",
   "execution_count": 33,
   "source": [
    "def get_csv(xlsx_path, sheetname, cols_to_use):\n",
    "\n",
    "    return pd.read_csv(\n",
    "        xlsx_path\n",
    "        )"
   ],
   "outputs": [],
   "metadata": {}
  },
  {
   "cell_type": "code",
   "execution_count": 37,
   "source": [
    "all_data = get_data(\n",
    "    xlsx_path,\n",
    "    'ghg_quant',\n",
    "    None,\n",
    ")"
   ],
   "outputs": [],
   "metadata": {}
  },
  {
   "cell_type": "code",
   "execution_count": 38,
   "source": [
    "csv_path = os.path.join (BASE_DIR_XL_DB, 'test_csv - ghg_quant.csv')\n",
    "\n",
    "all_data = get_csv(\n",
    "    csv_path,\n",
    "    'ghg_quant',\n",
    "    None,\n",
    ")"
   ],
   "outputs": [],
   "metadata": {}
  },
  {
   "cell_type": "code",
   "execution_count": null,
   "source": [
    "def get_all_data_from_csv():\n",
    "    pd_dict = {}\n",
    "    prefix = 'sp100_data.xlsx - '\n",
    "    sheet_names =['ghg_quant', 'corp_scores', 'score_summary', 'targets_quant']\n",
    "    for sheetname in sheet_names:\n",
    "        csv_path = os.path.join (BASE_DIR_XL_DB, prefix + sheetname + '.csv')\n",
    "        pd_dict[] = pd.read_csv (csv_path)\n",
    "    return pd_dict"
   ],
   "outputs": [],
   "metadata": {}
  }
 ],
 "metadata": {
  "orig_nbformat": 4,
  "language_info": {
   "name": "python",
   "version": "3.8.10",
   "mimetype": "text/x-python",
   "codemirror_mode": {
    "name": "ipython",
    "version": 3
   },
   "pygments_lexer": "ipython3",
   "nbconvert_exporter": "python",
   "file_extension": ".py"
  },
  "kernelspec": {
   "name": "python3",
   "display_name": "Python 3.8.10 64-bit ('net0': conda)"
  },
  "interpreter": {
   "hash": "84b39baf505a8e38b7ec8824bbebc862e460fb036cb6aab4774c507962c1b49d"
  }
 },
 "nbformat": 4,
 "nbformat_minor": 2
}