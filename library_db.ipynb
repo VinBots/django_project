{
 "cells": [
  {
   "cell_type": "code",
   "execution_count": 31,
   "metadata": {},
   "outputs": [],
   "source": [
    "import os\n",
    "import pandas as pd\n",
    "from os import listdir\n",
    "from os.path import isfile, join\n",
    "import pathlib\n",
    "path = pathlib.Path().resolve()\n",
    "import csv\n"
   ]
  },
  {
   "cell_type": "code",
   "execution_count": 32,
   "metadata": {},
   "outputs": [],
   "source": [
    "def write_data(record, mode, csv_file_name = \"library_db.csv\"):\n",
    "    if mode == \"new\":\n",
    "        mode_arg = \"w\"\n",
    "    else:\n",
    "        mode_arg = \"a\"\n",
    "    with open(csv_file_name, mode_arg, newline='') as csvfile:\n",
    "        csvwriter = csv.writer(csvfile)\n",
    "        csvwriter.writerow(record)\n",
    "        csvfile.close()"
   ]
  },
  {
   "cell_type": "code",
   "execution_count": 33,
   "metadata": {},
   "outputs": [],
   "source": [
    "def parse(file_name):\n",
    "    parsed_filename = file_name.split(\"_\")\n",
    "    parsed_filename[-1] = parsed_filename[-1].split(\".\")[0]\n",
    "    return parsed_filename"
   ]
  },
  {
   "cell_type": "code",
   "execution_count": 50,
   "metadata": {},
   "outputs": [],
   "source": [
    "fields = [\"id\", \"location\", \"filename\", \"company_id\", \"category\", \"year\", \"part\", \"desc\"]\n",
    "write_data (fields, mode=\"new\")\n",
    "folders_list = [\n",
    "    ['ghg','GHG data'],\n",
    "    ['cdp','CDP report'],\n",
    "    ['sust_report', 'Sustainability Reporting'],\n",
    "    ['targets','Targets reporting'],\n",
    "    ['verification', 'Verification']\n",
    "]\n",
    "idx = 0\n",
    "for folder_name, category in folders_list:\n",
    "    mypath = join(path.parent.parent, 'net0_docs', 'reports', folder_name)\n",
    "    all_files = [f for f in listdir(mypath) if isfile(join(mypath,f))]\n",
    "    for file_name in all_files:\n",
    "        parsed_file_name = parse(file_name)\n",
    "        part = 0\n",
    "        if len(parsed_file_name)>2:\n",
    "            part = parsed_file_name[2]\n",
    "        test1 = test2 = test3 = False\n",
    "        test1 = len(parsed_file_name)>1\n",
    "        if test1:\n",
    "            test2 = parsed_file_name[0].isdigit()\n",
    "            test3 = parsed_file_name[1].isdigit()\n",
    "        test_record = test1 & test2 & test3 \n",
    "        if test_record:\n",
    "            idx += 1\n",
    "            if part == 0:\n",
    "                part_text = ''\n",
    "            else:\n",
    "                part_text = ' - doc' + str(part)\n",
    "            desc = 'Year ' + parsed_file_name[0] + ' - ' + category + part_text\n",
    "            records = [\n",
    "                str(idx),\n",
    "                category,\n",
    "                file_name,\n",
    "                parsed_file_name[1],\n",
    "                folder_name,\n",
    "                parsed_file_name[0],\n",
    "                part,\n",
    "                desc\n",
    "                ]\n",
    "            write_data(records, mode=\"add\")"
   ]
  },
  {
   "cell_type": "markdown",
   "metadata": {},
   "source": [
    "# EXTRACT DATA"
   ]
  },
  {
   "cell_type": "code",
   "execution_count": 35,
   "metadata": {},
   "outputs": [],
   "source": [
    "csv_path = \"library_db.csv\"\n",
    "df = pd.read_csv (csv_path)"
   ]
  },
  {
   "cell_type": "code",
   "execution_count": 36,
   "metadata": {},
   "outputs": [],
   "source": [
    "cond1 = df['category']=='ghg'\n",
    "cond2 = df['company_id']== 66\n",
    "filter_conditions = cond1 & cond2\n",
    "record_data=df.loc[filter_conditions].sort_values('part', ascending=True)\n"
   ]
  },
  {
   "cell_type": "code",
   "execution_count": 43,
   "metadata": {},
   "outputs": [
    {
     "data": {
      "text/plain": [
       "{'index': {0: 159, 1: 160, 2: 161},\n",
       " 'filename': {0: '2020_66.png', 1: '2020_66_1.png', 2: '2020_66_2.png'},\n",
       " 'category': {0: 'ghg', 1: 'ghg', 2: 'ghg'},\n",
       " 'year': {0: 2020, 1: 2020, 2: 2020}}"
      ]
     },
     "execution_count": 43,
     "metadata": {},
     "output_type": "execute_result"
    }
   ],
   "source": [
    "fields = ['filename','category','year']\n",
    "record_data[fields].reset_index().to_dict()"
   ]
  },
  {
   "cell_type": "code",
   "execution_count": 38,
   "metadata": {},
   "outputs": [],
   "source": [
    "mypath = 'ghg'\n",
    "f = '2020_66.png'\n",
    "newpath = join(mypath,f)"
   ]
  },
  {
   "cell_type": "code",
   "execution_count": 39,
   "metadata": {},
   "outputs": [
    {
     "data": {
      "text/plain": [
       "'ghg\\\\2020_66.png'"
      ]
     },
     "execution_count": 39,
     "metadata": {},
     "output_type": "execute_result"
    }
   ],
   "source": [
    "newpath"
   ]
  },
  {
   "cell_type": "code",
   "execution_count": null,
   "metadata": {},
   "outputs": [],
   "source": []
  }
 ],
 "metadata": {
  "interpreter": {
   "hash": "8c1b4a16bc490c334b296cf1ee4afba1a9df28c7095a4b0d9fe49c2f2d6e38a6"
  },
  "kernelspec": {
   "display_name": "Python 3.8.10 64-bit ('django_web': conda)",
   "language": "python",
   "name": "python3"
  },
  "language_info": {
   "codemirror_mode": {
    "name": "ipython",
    "version": 3
   },
   "file_extension": ".py",
   "mimetype": "text/x-python",
   "name": "python",
   "nbconvert_exporter": "python",
   "pygments_lexer": "ipython3",
   "version": "3.6.13"
  },
  "orig_nbformat": 4
 },
 "nbformat": 4,
 "nbformat_minor": 2
}
