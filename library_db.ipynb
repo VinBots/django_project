{
 "cells": [
  {
   "cell_type": "code",
   "execution_count": 1,
   "metadata": {},
   "outputs": [],
   "source": [
    "import os\n",
    "import pandas as pd\n",
    "from os import listdir\n",
    "from os.path import isfile, join\n",
    "import pathlib\n",
    "path = pathlib.Path().resolve()\n",
    "import csv\n"
   ]
  },
  {
   "cell_type": "code",
   "execution_count": 15,
   "metadata": {},
   "outputs": [],
   "source": [
    "def write_data(record, mode, csv_file_name = \"library_db.csv\"):\n",
    "    if mode == \"new\":\n",
    "        mode_arg = \"w\"\n",
    "    else:\n",
    "        mode_arg = \"a\"\n",
    "    with open(csv_file_name, mode_arg, newline='') as csvfile:\n",
    "        csvwriter = csv.writer(csvfile)\n",
    "        csvwriter.writerow(record)\n",
    "        csvfile.close()"
   ]
  },
  {
   "cell_type": "code",
   "execution_count": 16,
   "metadata": {},
   "outputs": [],
   "source": [
    "def parse(file_name):\n",
    "    parsed_filename = file_name.split(\"_\")\n",
    "    parsed_filename[-1] = parsed_filename[-1].split(\".\")[0]\n",
    "    return parsed_filename"
   ]
  },
  {
   "cell_type": "code",
   "execution_count": 17,
   "metadata": {},
   "outputs": [],
   "source": [
    "fields = [\"id\", \"folder_name\", \"filename\", \"company_id\", \"category\", \"year\", \"part\", \"desc\"]\n",
    "write_data (fields, mode=\"new\")\n",
    "\n",
    "folders_list = [\n",
    "    ['ghg','GHG data'],\n",
    "    ['cdp','CDP report'],\n",
    "    ['sust_report', 'Sustainability Reporting'],\n",
    "    ['targets','Targets reporting'],\n",
    "    ['verification', 'Verification']\n",
    "]\n",
    "idx = 0\n",
    "for folder_name, category in folders_list:\n",
    "    mypath = join(path.parent.parent, 'net0_docs', 'reports', folder_name)\n",
    "    all_files = [f for f in listdir(mypath) if isfile(join(mypath,f))]\n",
    "    for file_name in all_files:\n",
    "        parsed_file_name = parse(file_name)\n",
    "        part = 0\n",
    "        if len(parsed_file_name)>2:\n",
    "            part = parsed_file_name[2]\n",
    "        test1 = test2 = test3 = False\n",
    "        test1 = len(parsed_file_name)>1\n",
    "        if test1:\n",
    "            test2 = parsed_file_name[0].isdigit()\n",
    "            test3 = parsed_file_name[1].isdigit()\n",
    "        test_record = test1 & test2 & test3 \n",
    "        if test_record:\n",
    "            idx += 1\n",
    "            if part == 0:\n",
    "                part_text = ''\n",
    "            else:\n",
    "                part_text = ' - doc' + str(part)\n",
    "            desc = 'Year ' + parsed_file_name[0] + ' - ' + category + part_text\n",
    "            records = [\n",
    "                str(idx),\n",
    "                folder_name,\n",
    "                file_name,\n",
    "                parsed_file_name[1],\n",
    "                category,\n",
    "                parsed_file_name[0],\n",
    "                part,\n",
    "                desc\n",
    "                ]\n",
    "            write_data(records, mode=\"add\")"
   ]
  },
  {
   "cell_type": "markdown",
   "metadata": {},
   "source": [
    "# EXTRACT DATA"
   ]
  },
  {
   "cell_type": "code",
   "execution_count": 18,
   "metadata": {},
   "outputs": [],
   "source": [
    "csv_path = \"library_db.csv\"\n",
    "df = pd.read_csv (csv_path)"
   ]
  },
  {
   "cell_type": "code",
   "execution_count": 3,
   "metadata": {},
   "outputs": [],
   "source": [
    "cond1 = df['category']=='ghg'\n",
    "cond2 = df['company_id']== 66\n",
    "filter_conditions = cond1 & cond2\n",
    "record_data=df.loc[filter_conditions].sort_values('part', ascending=True)\n"
   ]
  },
  {
   "cell_type": "code",
   "execution_count": 19,
   "metadata": {},
   "outputs": [],
   "source": [
    "dict ={}\n",
    "cond2 = df['company_id']== 66\n",
    "\n",
    "for folder_name, category in folders_list:\n",
    "    cond1 = df['folder_name']==folder_name\n",
    "    filter_conditions = cond1 & cond2\n",
    "    record_data=df.loc[filter_conditions].sort_values('part', ascending=True)\n",
    "    dict[category] = record_data[fields].reset_index().to_dict('records')"
   ]
  },
  {
   "cell_type": "code",
   "execution_count": 20,
   "metadata": {},
   "outputs": [
    {
     "data": {
      "text/plain": [
       "{'GHG data': [{'index': 159,\n",
       "   'id': 160,\n",
       "   'folder_name': 'ghg',\n",
       "   'filename': '2020_66.png',\n",
       "   'company_id': 66,\n",
       "   'category': 'GHG data',\n",
       "   'year': 2020,\n",
       "   'part': '0',\n",
       "   'desc': 'Year 2020 - GHG data'},\n",
       "  {'index': 160,\n",
       "   'id': 161,\n",
       "   'folder_name': 'ghg',\n",
       "   'filename': '2020_66_1.png',\n",
       "   'company_id': 66,\n",
       "   'category': 'GHG data',\n",
       "   'year': 2020,\n",
       "   'part': '1',\n",
       "   'desc': 'Year 2020 - GHG data - doc1'},\n",
       "  {'index': 161,\n",
       "   'id': 162,\n",
       "   'folder_name': 'ghg',\n",
       "   'filename': '2020_66_2.png',\n",
       "   'company_id': 66,\n",
       "   'category': 'GHG data',\n",
       "   'year': 2020,\n",
       "   'part': '2',\n",
       "   'desc': 'Year 2020 - GHG data - doc2'}],\n",
       " 'CDP report': [{'index': 225,\n",
       "   'id': 226,\n",
       "   'folder_name': 'cdp',\n",
       "   'filename': '2018_66.pdf',\n",
       "   'company_id': 66,\n",
       "   'category': 'CDP report',\n",
       "   'year': 2018,\n",
       "   'part': '0',\n",
       "   'desc': 'Year 2018 - CDP report'},\n",
       "  {'index': 287,\n",
       "   'id': 288,\n",
       "   'folder_name': 'cdp',\n",
       "   'filename': '2019_66.pdf',\n",
       "   'company_id': 66,\n",
       "   'category': 'CDP report',\n",
       "   'year': 2019,\n",
       "   'part': '0',\n",
       "   'desc': 'Year 2019 - CDP report'}],\n",
       " 'Sustainability Reporting': [{'index': 432,\n",
       "   'id': 433,\n",
       "   'folder_name': 'sust_report',\n",
       "   'filename': '2020_66.pdf',\n",
       "   'company_id': 66,\n",
       "   'category': 'Sustainability Reporting',\n",
       "   'year': 2020,\n",
       "   'part': '0',\n",
       "   'desc': 'Year 2020 - Sustainability Reporting'},\n",
       "  {'index': 470,\n",
       "   'id': 471,\n",
       "   'folder_name': 'sust_report',\n",
       "   'filename': '2021_66_01.pdf',\n",
       "   'company_id': 66,\n",
       "   'category': 'Sustainability Reporting',\n",
       "   'year': 2021,\n",
       "   'part': '01',\n",
       "   'desc': 'Year 2021 - Sustainability Reporting - doc01'}],\n",
       " 'Targets reporting': [{'index': 485,\n",
       "   'id': 486,\n",
       "   'folder_name': 'targets',\n",
       "   'filename': '2019_66.png',\n",
       "   'company_id': 66,\n",
       "   'category': 'Targets reporting',\n",
       "   'year': 2019,\n",
       "   'part': '0',\n",
       "   'desc': 'Year 2019 - Targets reporting'},\n",
       "  {'index': 589,\n",
       "   'id': 590,\n",
       "   'folder_name': 'targets',\n",
       "   'filename': '2020_66.pdf',\n",
       "   'company_id': 66,\n",
       "   'category': 'Targets reporting',\n",
       "   'year': 2020,\n",
       "   'part': '0',\n",
       "   'desc': 'Year 2020 - Targets reporting'},\n",
       "  {'index': 590,\n",
       "   'id': 591,\n",
       "   'folder_name': 'targets',\n",
       "   'filename': '2020_66.png',\n",
       "   'company_id': 66,\n",
       "   'category': 'Targets reporting',\n",
       "   'year': 2020,\n",
       "   'part': '0',\n",
       "   'desc': 'Year 2020 - Targets reporting'}],\n",
       " 'Verification': [{'index': 685,\n",
       "   'id': 686,\n",
       "   'folder_name': 'verification',\n",
       "   'filename': '2019_66.pdf',\n",
       "   'company_id': 66,\n",
       "   'category': 'Verification',\n",
       "   'year': 2019,\n",
       "   'part': '0',\n",
       "   'desc': 'Year 2019 - Verification'},\n",
       "  {'index': 745,\n",
       "   'id': 746,\n",
       "   'folder_name': 'verification',\n",
       "   'filename': '2020_66.pdf',\n",
       "   'company_id': 66,\n",
       "   'category': 'Verification',\n",
       "   'year': 2020,\n",
       "   'part': '0',\n",
       "   'desc': 'Year 2020 - Verification'},\n",
       "  {'index': 746,\n",
       "   'id': 747,\n",
       "   'folder_name': 'verification',\n",
       "   'filename': '2020_66.png',\n",
       "   'company_id': 66,\n",
       "   'category': 'Verification',\n",
       "   'year': 2020,\n",
       "   'part': '0',\n",
       "   'desc': 'Year 2020 - Verification'}]}"
      ]
     },
     "execution_count": 20,
     "metadata": {},
     "output_type": "execute_result"
    }
   ],
   "source": [
    "dict"
   ]
  },
  {
   "cell_type": "code",
   "execution_count": 21,
   "metadata": {},
   "outputs": [
    {
     "data": {
      "text/plain": [
       "WindowsPath('C:/Users/vince/Documents/django/django_project')"
      ]
     },
     "execution_count": 21,
     "metadata": {},
     "output_type": "execute_result"
    }
   ],
   "source": [
    "path"
   ]
  },
  {
   "cell_type": "code",
   "execution_count": 22,
   "metadata": {},
   "outputs": [
    {
     "data": {
      "text/plain": [
       "WindowsPath('C:/Users/vince/Documents')"
      ]
     },
     "execution_count": 22,
     "metadata": {},
     "output_type": "execute_result"
    }
   ],
   "source": [
    "path.parent.parent"
   ]
  },
  {
   "cell_type": "code",
   "execution_count": null,
   "metadata": {},
   "outputs": [],
   "source": []
  }
 ],
 "metadata": {
  "interpreter": {
   "hash": "8c1b4a16bc490c334b296cf1ee4afba1a9df28c7095a4b0d9fe49c2f2d6e38a6"
  },
  "kernelspec": {
   "display_name": "Python 3.8.10 64-bit ('django_web': conda)",
   "language": "python",
   "name": "python3"
  },
  "language_info": {
   "codemirror_mode": {
    "name": "ipython",
    "version": 3
   },
   "file_extension": ".py",
   "mimetype": "text/x-python",
   "name": "python",
   "nbconvert_exporter": "python",
   "pygments_lexer": "ipython3",
   "version": "3.6.13"
  },
  "orig_nbformat": 4
 },
 "nbformat": 4,
 "nbformat_minor": 2
}
