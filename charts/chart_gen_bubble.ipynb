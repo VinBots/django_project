{
 "cells": [
  {
   "cell_type": "markdown",
   "metadata": {},
   "source": [
    "# Chart generations Notebook"
   ]
  },
  {
   "cell_type": "markdown",
   "metadata": {},
   "source": [
    "## Import Libraries"
   ]
  },
  {
   "cell_type": "code",
   "execution_count": 1,
   "metadata": {},
   "outputs": [],
   "source": [
    "import pandas as pd\n",
    "import plotly.graph_objs as go\n",
    "import plotly.offline as offline\n",
    "import os\n",
    "import numpy as np\n",
    "from plotly.offline import plot"
   ]
  },
  {
   "cell_type": "code",
   "execution_count": 2,
   "metadata": {},
   "outputs": [
    {
     "output_type": "display_data",
     "data": {
      "text/html": "        <script type=\"text/javascript\">\n        window.PlotlyConfig = {MathJaxConfig: 'local'};\n        if (window.MathJax) {MathJax.Hub.Config({SVG: {font: \"STIX-Web\"}});}\n        if (typeof require !== 'undefined') {\n        require.undef(\"plotly\");\n        requirejs.config({\n            paths: {\n                'plotly': ['https://cdn.plot.ly/plotly-latest.min']\n            }\n        });\n        require(['plotly'], function(Plotly) {\n            window._Plotly = Plotly;\n        });\n        }\n        </script>\n        "
     },
     "metadata": {}
    }
   ],
   "source": [
    "offline.init_notebook_mode(connected=True)"
   ]
  },
  {
   "cell_type": "markdown",
   "metadata": {},
   "source": [
    "## Bubble Chart for Emissions Intensity\n"
   ]
  },
  {
   "cell_type": "code",
   "execution_count": 3,
   "metadata": {},
   "outputs": [],
   "source": [
    "corp_name = \"3M\""
   ]
  },
  {
   "cell_type": "code",
   "execution_count": 4,
   "metadata": {},
   "outputs": [],
   "source": [
    "XLSX_PATH = os.path.join ('../django_project/static/django_project', 'data', 'sp100_ghg.xlsx')\n",
    "COLS_TO_USE = ['Company Name', 'Sector', 'Size (2019 Revenue)', '2019 Net Scope 1 + 2 Emissions']\n",
    "all_data = pd.read_excel(XLSX_PATH, engine = 'openpyxl', usecols = COLS_TO_USE)\n",
    "#all_data.to_pickle (os.path.join ('..','data_frame.pickle'))\n"
   ]
  },
  {
   "cell_type": "code",
   "execution_count": 5,
   "metadata": {},
   "outputs": [
    {
     "output_type": "execute_result",
     "data": {
      "text/plain": [
       "            Company Name       Sector  Size (2019 Revenue)  \\\n",
       "0                     3M  Industrials         3.213600e+10   \n",
       "1    Abbott Laboratories   Healthcare         3.190400e+10   \n",
       "2            AbbVie Inc.   Healthcare         3.326600e+10   \n",
       "3              Accenture   Technology         4.320000e+10   \n",
       "4             Adobe Inc.   Technology         1.117100e+10   \n",
       "..                   ...          ...                  ...   \n",
       "175                  NaN          NaN                  NaN   \n",
       "176                  NaN          NaN                  NaN   \n",
       "177                  NaN          NaN                  NaN   \n",
       "178                  NaN          NaN                  NaN   \n",
       "179                  NaN          NaN                  NaN   \n",
       "\n",
       "     2019 Net Scope 1 + 2 Emissions  \n",
       "0                         5370000.0  \n",
       "1                          972000.0  \n",
       "2                          564198.0  \n",
       "3                          233603.0  \n",
       "4                           55342.0  \n",
       "..                              ...  \n",
       "175                             NaN  \n",
       "176                             NaN  \n",
       "177                             NaN  \n",
       "178                             NaN  \n",
       "179                             NaN  \n",
       "\n",
       "[180 rows x 4 columns]"
      ],
      "text/html": "<div>\n<style scoped>\n    .dataframe tbody tr th:only-of-type {\n        vertical-align: middle;\n    }\n\n    .dataframe tbody tr th {\n        vertical-align: top;\n    }\n\n    .dataframe thead th {\n        text-align: right;\n    }\n</style>\n<table border=\"1\" class=\"dataframe\">\n  <thead>\n    <tr style=\"text-align: right;\">\n      <th></th>\n      <th>Company Name</th>\n      <th>Sector</th>\n      <th>Size (2019 Revenue)</th>\n      <th>2019 Net Scope 1 + 2 Emissions</th>\n    </tr>\n  </thead>\n  <tbody>\n    <tr>\n      <th>0</th>\n      <td>3M</td>\n      <td>Industrials</td>\n      <td>3.213600e+10</td>\n      <td>5370000.0</td>\n    </tr>\n    <tr>\n      <th>1</th>\n      <td>Abbott Laboratories</td>\n      <td>Healthcare</td>\n      <td>3.190400e+10</td>\n      <td>972000.0</td>\n    </tr>\n    <tr>\n      <th>2</th>\n      <td>AbbVie Inc.</td>\n      <td>Healthcare</td>\n      <td>3.326600e+10</td>\n      <td>564198.0</td>\n    </tr>\n    <tr>\n      <th>3</th>\n      <td>Accenture</td>\n      <td>Technology</td>\n      <td>4.320000e+10</td>\n      <td>233603.0</td>\n    </tr>\n    <tr>\n      <th>4</th>\n      <td>Adobe Inc.</td>\n      <td>Technology</td>\n      <td>1.117100e+10</td>\n      <td>55342.0</td>\n    </tr>\n    <tr>\n      <th>...</th>\n      <td>...</td>\n      <td>...</td>\n      <td>...</td>\n      <td>...</td>\n    </tr>\n    <tr>\n      <th>175</th>\n      <td>NaN</td>\n      <td>NaN</td>\n      <td>NaN</td>\n      <td>NaN</td>\n    </tr>\n    <tr>\n      <th>176</th>\n      <td>NaN</td>\n      <td>NaN</td>\n      <td>NaN</td>\n      <td>NaN</td>\n    </tr>\n    <tr>\n      <th>177</th>\n      <td>NaN</td>\n      <td>NaN</td>\n      <td>NaN</td>\n      <td>NaN</td>\n    </tr>\n    <tr>\n      <th>178</th>\n      <td>NaN</td>\n      <td>NaN</td>\n      <td>NaN</td>\n      <td>NaN</td>\n    </tr>\n    <tr>\n      <th>179</th>\n      <td>NaN</td>\n      <td>NaN</td>\n      <td>NaN</td>\n      <td>NaN</td>\n    </tr>\n  </tbody>\n</table>\n<p>180 rows × 4 columns</p>\n</div>"
     },
     "metadata": {},
     "execution_count": 5
    }
   ],
   "source": [
    "all_data"
   ]
  },
  {
   "cell_type": "code",
   "execution_count": 29,
   "metadata": {},
   "outputs": [],
   "source": []
  },
  {
   "cell_type": "code",
   "execution_count": 6,
   "metadata": {},
   "outputs": [],
   "source": [
    "sector = all_data[all_data['Company Name']==corp_name]['Sector'].iloc[0]"
   ]
  },
  {
   "cell_type": "code",
   "execution_count": 7,
   "metadata": {},
   "outputs": [
    {
     "output_type": "execute_result",
     "data": {
      "text/plain": [
       "'Industrials'"
      ]
     },
     "metadata": {},
     "execution_count": 7
    }
   ],
   "source": [
    "sector"
   ]
  },
  {
   "cell_type": "code",
   "execution_count": 8,
   "metadata": {},
   "outputs": [],
   "source": [
    "all_data = all_data[all_data['Sector']==sector]"
   ]
  },
  {
   "cell_type": "code",
   "execution_count": 9,
   "metadata": {},
   "outputs": [
    {
     "output_type": "execute_result",
     "data": {
      "text/plain": [
       "             Company Name       Sector  Size (2019 Revenue)  \\\n",
       "0                      3M  Industrials         3.213600e+10   \n",
       "19                 Boeing  Industrials         7.655900e+10   \n",
       "23       Caterpillar Inc.  Industrials         5.380000e+10   \n",
       "39       Emerson Electric  Industrials         1.837200e+10   \n",
       "43                  FedEx  Industrials         6.969300e+10   \n",
       "45       General Dynamics  Industrials         3.935000e+10   \n",
       "46       General Electric  Industrials         9.521400e+10   \n",
       "51         Honeywell Inc.  Industrials         3.670900e+10   \n",
       "58  Lockheed Martin Corp.  Industrials         5.981000e+10   \n",
       "80  Raytheon Technologies  Industrials         2.917600e+10   \n",
       "91     Union Pacific Corp  Industrials         2.170000e+10   \n",
       "93  United Parcel Service  Industrials         7.409400e+10   \n",
       "\n",
       "    2019 Net Scope 1 + 2 Emissions  \n",
       "0                        5370000.0  \n",
       "19                       1346000.0  \n",
       "23                       1774000.0  \n",
       "39                        863684.0  \n",
       "43                      16402161.0  \n",
       "45                        762200.0  \n",
       "46                       2390000.0  \n",
       "51                       2024133.0  \n",
       "58                        771435.0  \n",
       "80                       1726534.0  \n",
       "91                      10415469.0  \n",
       "93                      14954000.0  "
      ],
      "text/html": "<div>\n<style scoped>\n    .dataframe tbody tr th:only-of-type {\n        vertical-align: middle;\n    }\n\n    .dataframe tbody tr th {\n        vertical-align: top;\n    }\n\n    .dataframe thead th {\n        text-align: right;\n    }\n</style>\n<table border=\"1\" class=\"dataframe\">\n  <thead>\n    <tr style=\"text-align: right;\">\n      <th></th>\n      <th>Company Name</th>\n      <th>Sector</th>\n      <th>Size (2019 Revenue)</th>\n      <th>2019 Net Scope 1 + 2 Emissions</th>\n    </tr>\n  </thead>\n  <tbody>\n    <tr>\n      <th>0</th>\n      <td>3M</td>\n      <td>Industrials</td>\n      <td>3.213600e+10</td>\n      <td>5370000.0</td>\n    </tr>\n    <tr>\n      <th>19</th>\n      <td>Boeing</td>\n      <td>Industrials</td>\n      <td>7.655900e+10</td>\n      <td>1346000.0</td>\n    </tr>\n    <tr>\n      <th>23</th>\n      <td>Caterpillar Inc.</td>\n      <td>Industrials</td>\n      <td>5.380000e+10</td>\n      <td>1774000.0</td>\n    </tr>\n    <tr>\n      <th>39</th>\n      <td>Emerson Electric</td>\n      <td>Industrials</td>\n      <td>1.837200e+10</td>\n      <td>863684.0</td>\n    </tr>\n    <tr>\n      <th>43</th>\n      <td>FedEx</td>\n      <td>Industrials</td>\n      <td>6.969300e+10</td>\n      <td>16402161.0</td>\n    </tr>\n    <tr>\n      <th>45</th>\n      <td>General Dynamics</td>\n      <td>Industrials</td>\n      <td>3.935000e+10</td>\n      <td>762200.0</td>\n    </tr>\n    <tr>\n      <th>46</th>\n      <td>General Electric</td>\n      <td>Industrials</td>\n      <td>9.521400e+10</td>\n      <td>2390000.0</td>\n    </tr>\n    <tr>\n      <th>51</th>\n      <td>Honeywell Inc.</td>\n      <td>Industrials</td>\n      <td>3.670900e+10</td>\n      <td>2024133.0</td>\n    </tr>\n    <tr>\n      <th>58</th>\n      <td>Lockheed Martin Corp.</td>\n      <td>Industrials</td>\n      <td>5.981000e+10</td>\n      <td>771435.0</td>\n    </tr>\n    <tr>\n      <th>80</th>\n      <td>Raytheon Technologies</td>\n      <td>Industrials</td>\n      <td>2.917600e+10</td>\n      <td>1726534.0</td>\n    </tr>\n    <tr>\n      <th>91</th>\n      <td>Union Pacific Corp</td>\n      <td>Industrials</td>\n      <td>2.170000e+10</td>\n      <td>10415469.0</td>\n    </tr>\n    <tr>\n      <th>93</th>\n      <td>United Parcel Service</td>\n      <td>Industrials</td>\n      <td>7.409400e+10</td>\n      <td>14954000.0</td>\n    </tr>\n  </tbody>\n</table>\n</div>"
     },
     "metadata": {},
     "execution_count": 9
    }
   ],
   "source": [
    "all_data"
   ]
  },
  {
   "cell_type": "code",
   "execution_count": 10,
   "metadata": {},
   "outputs": [
    {
     "output_type": "stream",
     "name": "stderr",
     "text": [
      "C:\\Users\\vince\\AppData\\Roaming\\Python\\Python36\\site-packages\\ipykernel_launcher.py:1: SettingWithCopyWarning:\n\n\nA value is trying to be set on a copy of a slice from a DataFrame.\nTry using .loc[row_indexer,col_indexer] = value instead\n\nSee the caveats in the documentation: https://pandas.pydata.org/pandas-docs/stable/user_guide/indexing.html#returning-a-view-versus-a-copy\n\n"
     ]
    }
   ],
   "source": [
    "all_data[\"intensity\"] = all_data['Size (2019 Revenue)'] /  all_data['2019 Net Scope 1 + 2 Emissions']"
   ]
  },
  {
   "cell_type": "code",
   "execution_count": 11,
   "metadata": {},
   "outputs": [],
   "source": [
    "corp_x = [all_data[all_data['Company Name']==corp_name]['2019 Net Scope 1 + 2 Emissions'][0]]\n",
    "corp_y = [all_data[all_data['Company Name']==corp_name]['Size (2019 Revenue)'][0]]"
   ]
  },
  {
   "cell_type": "code",
   "execution_count": 12,
   "metadata": {},
   "outputs": [
    {
     "output_type": "execute_result",
     "data": {
      "text/plain": [
       "             Company Name       Sector  Size (2019 Revenue)  \\\n",
       "0                      3M  Industrials         3.213600e+10   \n",
       "19                 Boeing  Industrials         7.655900e+10   \n",
       "23       Caterpillar Inc.  Industrials         5.380000e+10   \n",
       "39       Emerson Electric  Industrials         1.837200e+10   \n",
       "43                  FedEx  Industrials         6.969300e+10   \n",
       "45       General Dynamics  Industrials         3.935000e+10   \n",
       "46       General Electric  Industrials         9.521400e+10   \n",
       "51         Honeywell Inc.  Industrials         3.670900e+10   \n",
       "58  Lockheed Martin Corp.  Industrials         5.981000e+10   \n",
       "80  Raytheon Technologies  Industrials         2.917600e+10   \n",
       "91     Union Pacific Corp  Industrials         2.170000e+10   \n",
       "93  United Parcel Service  Industrials         7.409400e+10   \n",
       "\n",
       "    2019 Net Scope 1 + 2 Emissions     intensity  \n",
       "0                        5370000.0   5984.357542  \n",
       "19                       1346000.0  56878.900446  \n",
       "23                       1774000.0  30326.944758  \n",
       "39                        863684.0  21271.668805  \n",
       "43                      16402161.0   4249.013286  \n",
       "45                        762200.0  51626.869588  \n",
       "46                       2390000.0  39838.493724  \n",
       "51                       2024133.0  18135.665986  \n",
       "58                        771435.0  77530.835391  \n",
       "80                       1726534.0  16898.595684  \n",
       "91                      10415469.0   2083.439546  \n",
       "93                      14954000.0   4954.794704  "
      ],
      "text/html": "<div>\n<style scoped>\n    .dataframe tbody tr th:only-of-type {\n        vertical-align: middle;\n    }\n\n    .dataframe tbody tr th {\n        vertical-align: top;\n    }\n\n    .dataframe thead th {\n        text-align: right;\n    }\n</style>\n<table border=\"1\" class=\"dataframe\">\n  <thead>\n    <tr style=\"text-align: right;\">\n      <th></th>\n      <th>Company Name</th>\n      <th>Sector</th>\n      <th>Size (2019 Revenue)</th>\n      <th>2019 Net Scope 1 + 2 Emissions</th>\n      <th>intensity</th>\n    </tr>\n  </thead>\n  <tbody>\n    <tr>\n      <th>0</th>\n      <td>3M</td>\n      <td>Industrials</td>\n      <td>3.213600e+10</td>\n      <td>5370000.0</td>\n      <td>5984.357542</td>\n    </tr>\n    <tr>\n      <th>19</th>\n      <td>Boeing</td>\n      <td>Industrials</td>\n      <td>7.655900e+10</td>\n      <td>1346000.0</td>\n      <td>56878.900446</td>\n    </tr>\n    <tr>\n      <th>23</th>\n      <td>Caterpillar Inc.</td>\n      <td>Industrials</td>\n      <td>5.380000e+10</td>\n      <td>1774000.0</td>\n      <td>30326.944758</td>\n    </tr>\n    <tr>\n      <th>39</th>\n      <td>Emerson Electric</td>\n      <td>Industrials</td>\n      <td>1.837200e+10</td>\n      <td>863684.0</td>\n      <td>21271.668805</td>\n    </tr>\n    <tr>\n      <th>43</th>\n      <td>FedEx</td>\n      <td>Industrials</td>\n      <td>6.969300e+10</td>\n      <td>16402161.0</td>\n      <td>4249.013286</td>\n    </tr>\n    <tr>\n      <th>45</th>\n      <td>General Dynamics</td>\n      <td>Industrials</td>\n      <td>3.935000e+10</td>\n      <td>762200.0</td>\n      <td>51626.869588</td>\n    </tr>\n    <tr>\n      <th>46</th>\n      <td>General Electric</td>\n      <td>Industrials</td>\n      <td>9.521400e+10</td>\n      <td>2390000.0</td>\n      <td>39838.493724</td>\n    </tr>\n    <tr>\n      <th>51</th>\n      <td>Honeywell Inc.</td>\n      <td>Industrials</td>\n      <td>3.670900e+10</td>\n      <td>2024133.0</td>\n      <td>18135.665986</td>\n    </tr>\n    <tr>\n      <th>58</th>\n      <td>Lockheed Martin Corp.</td>\n      <td>Industrials</td>\n      <td>5.981000e+10</td>\n      <td>771435.0</td>\n      <td>77530.835391</td>\n    </tr>\n    <tr>\n      <th>80</th>\n      <td>Raytheon Technologies</td>\n      <td>Industrials</td>\n      <td>2.917600e+10</td>\n      <td>1726534.0</td>\n      <td>16898.595684</td>\n    </tr>\n    <tr>\n      <th>91</th>\n      <td>Union Pacific Corp</td>\n      <td>Industrials</td>\n      <td>2.170000e+10</td>\n      <td>10415469.0</td>\n      <td>2083.439546</td>\n    </tr>\n    <tr>\n      <th>93</th>\n      <td>United Parcel Service</td>\n      <td>Industrials</td>\n      <td>7.409400e+10</td>\n      <td>14954000.0</td>\n      <td>4954.794704</td>\n    </tr>\n  </tbody>\n</table>\n</div>"
     },
     "metadata": {},
     "execution_count": 12
    }
   ],
   "source": [
    "all_data"
   ]
  },
  {
   "cell_type": "code",
   "execution_count": 13,
   "metadata": {},
   "outputs": [],
   "source": [
    "x0 = all_data['2019 Net Scope 1 + 2 Emissions']"
   ]
  },
  {
   "cell_type": "code",
   "execution_count": 14,
   "metadata": {},
   "outputs": [],
   "source": [
    "y0 = all_data['Size (2019 Revenue)']"
   ]
  },
  {
   "cell_type": "code",
   "execution_count": 105,
   "metadata": {},
   "outputs": [],
   "source": []
  },
  {
   "cell_type": "code",
   "execution_count": 12,
   "metadata": {},
   "outputs": [
    {
     "output_type": "execute_result",
     "data": {
      "text/plain": [
       "array(['Industrials', 'Healthcare', 'Technology', 'Financial Services',\n",
       "       'Communication Services', 'Consumer Staples',\n",
       "       'Consumer Discretionary', 'Real Estate', 'Energy', 'Materials',\n",
       "       'Utilities', nan], dtype=object)"
      ]
     },
     "metadata": {},
     "execution_count": 12
    }
   ],
   "source": []
  },
  {
   "cell_type": "code",
   "execution_count": 106,
   "metadata": {},
   "outputs": [],
   "source": []
  },
  {
   "cell_type": "code",
   "execution_count": 15,
   "metadata": {},
   "outputs": [
    {
     "output_type": "execute_result",
     "data": {
      "text/plain": [
       "'\\nupper_left_ann = dict (xref=\"x domain\",\\n                       yref=\"paper\",\\n                       x=0.10,\\n                       y=1.10,\\n                       text=\"<b>Corporate Behemoths</b> <br> High Revenue, High Emissions\",\\n                       showarrow = False,\\n                       bgcolor = \\'blue\\',\\n                       font = {\\'color\\':\\'white\\'},\\n                       opacity = 0.5\\n                      )\\nupper_right_ann = dict (xref=\"x domain\",\\n                       yref=\"paper\",\\n                       x=0.90,\\n                       y=1.10,\\n                       text=\"<b>Sustainability Leaders</b> <br> High Revenue, Low Emissions\",\\n                       showarrow = False,\\n                       bgcolor = \\'blue\\',\\n                       font = {\\'color\\':\\'white\\'},\\n                       opacity = 0.5\\n                       )\\nlower_right_ann = dict (xref=\"x domain\",\\n                       yref=\"paper\",\\n                       x=0.90,\\n                       y=-0.15,\\n                       text=\"<b>Small Players</b> <br> Low Revenue, Low Emissions\",\\n                       showarrow = False,\\n                       bgcolor = \\'blue\\',\\n                       font = {\\'color\\':\\'white\\'},\\n                       opacity = 0.5\\n                       )\\nlower_left_ann = dict (xref=\"x domain\",\\n                       yref=\"paper\",\\n                       x=0.10,\\n                       y=-0.15,\\n                       text=\"<b>Worst Offenders</b> <br> Low Revenue, High Emissions\",\\n                       showarrow = False,\\n                      bgcolor = \\'blue\\',\\n                       font = {\\'color\\':\\'white\\'},\\n                       opacity = 0.5\\n                      )\\n'"
      ]
     },
     "metadata": {},
     "execution_count": 15
    }
   ],
   "source": [
    "\"\"\"\n",
    "upper_left_ann = dict (xref=\"x domain\",\n",
    "                       yref=\"paper\",\n",
    "                       x=0.10,\n",
    "                       y=1.10,\n",
    "                       text=\"<b>Corporate Behemoths</b> <br> High Revenue, High Emissions\",\n",
    "                       showarrow = False,\n",
    "                       bgcolor = 'blue',\n",
    "                       font = {'color':'white'},\n",
    "                       opacity = 0.5\n",
    "                      )\n",
    "upper_right_ann = dict (xref=\"x domain\",\n",
    "                       yref=\"paper\",\n",
    "                       x=0.90,\n",
    "                       y=1.10,\n",
    "                       text=\"<b>Sustainability Leaders</b> <br> High Revenue, Low Emissions\",\n",
    "                       showarrow = False,\n",
    "                       bgcolor = 'blue',\n",
    "                       font = {'color':'white'},\n",
    "                       opacity = 0.5\n",
    "                       )\n",
    "lower_right_ann = dict (xref=\"x domain\",\n",
    "                       yref=\"paper\",\n",
    "                       x=0.90,\n",
    "                       y=-0.15,\n",
    "                       text=\"<b>Small Players</b> <br> Low Revenue, Low Emissions\",\n",
    "                       showarrow = False,\n",
    "                       bgcolor = 'blue',\n",
    "                       font = {'color':'white'},\n",
    "                       opacity = 0.5\n",
    "                       )\n",
    "lower_left_ann = dict (xref=\"x domain\",\n",
    "                       yref=\"paper\",\n",
    "                       x=0.10,\n",
    "                       y=-0.15,\n",
    "                       text=\"<b>Worst Offenders</b> <br> Low Revenue, High Emissions\",\n",
    "                       showarrow = False,\n",
    "                      bgcolor = 'blue',\n",
    "                       font = {'color':'white'},\n",
    "                       opacity = 0.5\n",
    "                      )\n",
    "\"\"\""
   ]
  },
  {
   "cell_type": "code",
   "execution_count": 16,
   "metadata": {},
   "outputs": [],
   "source": [
    "layout = go.Layout (\n",
    "    title = 'GHG Emissions Intensity',\n",
    "    title_x = 0.5,\n",
    "    titlefont = dict(family = 'Arial', size = 25),\n",
    "    plot_bgcolor = 'antiquewhite',\n",
    "    xaxis =  dict(autorange = \"reversed\", type = 'log'),\n",
    "    yaxis = dict(type = 'log'),\n",
    "    #annotations = [upper_left_ann, upper_right_ann, lower_left_ann, lower_right_ann]\n",
    ")"
   ]
  },
  {
   "cell_type": "code",
   "execution_count": 17,
   "metadata": {},
   "outputs": [],
   "source": [
    "x_median_x = [x0.min(), x0.max()]\n",
    "y_median_x = [y0.median(), y0.median()]\n",
    "x_median_y = [x0.median(), x0.median()]\n",
    "y_median_y = [y0.min(), y0.max()]"
   ]
  },
  {
   "cell_type": "code",
   "execution_count": 18,
   "metadata": {},
   "outputs": [
    {
     "output_type": "stream",
     "name": "stderr",
     "text": [
      "C:\\Users\\vince\\anaconda3\\envs\\cnext\\lib\\site-packages\\pandas\\core\\frame.py:4170: SettingWithCopyWarning:\n\n\nA value is trying to be set on a copy of a slice from a DataFrame\n\nSee the caveats in the documentation: https://pandas.pydata.org/pandas-docs/stable/user_guide/indexing.html#returning-a-view-versus-a-copy\n\n"
     ]
    }
   ],
   "source": [
    "index = all_data[all_data['Company Name'] == corp_name].index\n",
    " \n",
    "# Delete these row indexes from dataFrame\n",
    "all_data.drop(index , inplace=True)"
   ]
  },
  {
   "cell_type": "code",
   "execution_count": 19,
   "metadata": {
    "scrolled": true
   },
   "outputs": [],
   "source": [
    "trace1 = go.Scatter(x=x_median_y, \n",
    "                    y=y_median_y, \n",
    "                    showlegend = False, \n",
    "                    name='Median y',\n",
    "                    mode = \"lines\",\n",
    "                    line = dict(color='gray', \n",
    "                                width=2, \n",
    "                                dash='dash'))\n",
    "\n",
    "trace2 = go.Scatter(x=x_median_x, \n",
    "                         y=y_median_x, \n",
    "                         showlegend = False, \n",
    "                         name='Median x', \n",
    "                         mode = \"lines\",\n",
    "                         line = {'color':'gray', \n",
    "                                 'width':2, \n",
    "                                 'dash':'dash'}\n",
    "                        )\n",
    "\n",
    "trace3 = go.Scatter(\n",
    "    x=all_data['2019 Net Scope 1 + 2 Emissions'], \n",
    "    y=all_data['Size (2019 Revenue)'],\n",
    "    showlegend = False,\n",
    "    name=\"benchmark\", \n",
    "    text=all_data['Company Name'],\n",
    "    mode = 'markers+text',\n",
    "    line = {'color':'black'}, \n",
    "    marker = {\n",
    "        'color': 'blue',\n",
    "        'opacity': 0.5,\n",
    "        'size':20\n",
    "    },\n",
    "    textposition='top center'\n",
    "    )\n",
    "trace4 = go.Scatter(\n",
    "    x=corp_x, \n",
    "    y=corp_y,\n",
    "    showlegend = False,\n",
    "    name=corp_name, \n",
    "    text=corp_name,\n",
    "    mode = 'markers+text',\n",
    "    line = {'color':'black'}, \n",
    "    marker = {\n",
    "        'color': 'red',\n",
    "        'opacity': 1,\n",
    "        'size':20\n",
    "    },\n",
    "    textposition='top center'\n",
    "    )\n",
    "\n",
    "fig = go.Figure(data = [trace1, trace2, trace3, trace4], \n",
    "                layout = layout)\n",
    "                \n",
    "fig.update_layout(\n",
    "    autosize=False,\n",
    "    width=500,\n",
    "    height=500,\n",
    "    margin=dict(\n",
    "        l=50,\n",
    "        r=50,\n",
    "        b=100,\n",
    "        t=100,\n",
    "        pad=4\n",
    "    ),\n",
    "    paper_bgcolor=\"LightSteelBlue\",\n",
    ")\n",
    "config = {'displaylogo': False}\n"
   ]
  },
  {
   "cell_type": "code",
   "execution_count": 20,
   "metadata": {},
   "outputs": [],
   "source": [
    "#num_traces_no_markers = 2\n",
    "#indexes = list(range(num_traces_no_markers,len(sector_names) + num_traces_no_markers - 1))\n"
   ]
  },
  {
   "cell_type": "code",
   "execution_count": 21,
   "metadata": {},
   "outputs": [
    {
     "output_type": "display_data",
     "data": {
      "application/vnd.plotly.v1+json": {
       "config": {
        "displaylogo": false,
        "linkText": "Export to plot.ly",
        "plotlyServerURL": "https://plot.ly",
        "showLink": false
       },
       "data": [
        {
         "line": {
          "color": "gray",
          "dash": "dash",
          "width": 2
         },
         "mode": "lines",
         "name": "Median y",
         "showlegend": false,
         "type": "scatter",
         "x": [
          1899066.5,
          1899066.5
         ],
         "y": [
          18372000000,
          95214000000
         ]
        },
        {
         "line": {
          "color": "gray",
          "dash": "dash",
          "width": 2
         },
         "mode": "lines",
         "name": "Median x",
         "showlegend": false,
         "type": "scatter",
         "x": [
          762200,
          16402161
         ],
         "y": [
          46575000000,
          46575000000
         ]
        },
        {
         "line": {
          "color": "black"
         },
         "marker": {
          "color": "blue",
          "opacity": 0.5,
          "size": 20
         },
         "mode": "markers+text",
         "name": "benchmark",
         "showlegend": false,
         "text": [
          "Boeing",
          "Caterpillar Inc.",
          "Emerson Electric",
          "FedEx",
          "General Dynamics",
          "General Electric",
          "Honeywell Inc.",
          "Lockheed Martin Corp.",
          "Raytheon Technologies",
          "Union Pacific Corp",
          "United Parcel Service"
         ],
         "textposition": "top center",
         "type": "scatter",
         "x": [
          1346000,
          1774000,
          863684,
          16402161,
          762200,
          2390000,
          2024133,
          771435,
          1726534,
          10415469,
          14954000
         ],
         "y": [
          76559000000,
          53800000000,
          18372000000,
          69693000000,
          39350000000,
          95214000000,
          36709000000,
          59810000000,
          29176000000,
          21700000000,
          74094000000
         ]
        },
        {
         "line": {
          "color": "black"
         },
         "marker": {
          "color": "red",
          "opacity": 1,
          "size": 20
         },
         "mode": "markers+text",
         "name": "3M",
         "showlegend": false,
         "text": "3M",
         "textposition": "top center",
         "type": "scatter",
         "x": [
          5370000
         ],
         "y": [
          32136000000
         ]
        }
       ],
       "layout": {
        "autosize": false,
        "height": 500,
        "margin": {
         "b": 100,
         "l": 50,
         "pad": 4,
         "r": 50,
         "t": 100
        },
        "paper_bgcolor": "LightSteelBlue",
        "plot_bgcolor": "antiquewhite",
        "template": {
         "data": {
          "bar": [
           {
            "error_x": {
             "color": "#2a3f5f"
            },
            "error_y": {
             "color": "#2a3f5f"
            },
            "marker": {
             "line": {
              "color": "#E5ECF6",
              "width": 0.5
             }
            },
            "type": "bar"
           }
          ],
          "barpolar": [
           {
            "marker": {
             "line": {
              "color": "#E5ECF6",
              "width": 0.5
             }
            },
            "type": "barpolar"
           }
          ],
          "carpet": [
           {
            "aaxis": {
             "endlinecolor": "#2a3f5f",
             "gridcolor": "white",
             "linecolor": "white",
             "minorgridcolor": "white",
             "startlinecolor": "#2a3f5f"
            },
            "baxis": {
             "endlinecolor": "#2a3f5f",
             "gridcolor": "white",
             "linecolor": "white",
             "minorgridcolor": "white",
             "startlinecolor": "#2a3f5f"
            },
            "type": "carpet"
           }
          ],
          "choropleth": [
           {
            "colorbar": {
             "outlinewidth": 0,
             "ticks": ""
            },
            "type": "choropleth"
           }
          ],
          "contour": [
           {
            "colorbar": {
             "outlinewidth": 0,
             "ticks": ""
            },
            "colorscale": [
             [
              0,
              "#0d0887"
             ],
             [
              0.1111111111111111,
              "#46039f"
             ],
             [
              0.2222222222222222,
              "#7201a8"
             ],
             [
              0.3333333333333333,
              "#9c179e"
             ],
             [
              0.4444444444444444,
              "#bd3786"
             ],
             [
              0.5555555555555556,
              "#d8576b"
             ],
             [
              0.6666666666666666,
              "#ed7953"
             ],
             [
              0.7777777777777778,
              "#fb9f3a"
             ],
             [
              0.8888888888888888,
              "#fdca26"
             ],
             [
              1,
              "#f0f921"
             ]
            ],
            "type": "contour"
           }
          ],
          "contourcarpet": [
           {
            "colorbar": {
             "outlinewidth": 0,
             "ticks": ""
            },
            "type": "contourcarpet"
           }
          ],
          "heatmap": [
           {
            "colorbar": {
             "outlinewidth": 0,
             "ticks": ""
            },
            "colorscale": [
             [
              0,
              "#0d0887"
             ],
             [
              0.1111111111111111,
              "#46039f"
             ],
             [
              0.2222222222222222,
              "#7201a8"
             ],
             [
              0.3333333333333333,
              "#9c179e"
             ],
             [
              0.4444444444444444,
              "#bd3786"
             ],
             [
              0.5555555555555556,
              "#d8576b"
             ],
             [
              0.6666666666666666,
              "#ed7953"
             ],
             [
              0.7777777777777778,
              "#fb9f3a"
             ],
             [
              0.8888888888888888,
              "#fdca26"
             ],
             [
              1,
              "#f0f921"
             ]
            ],
            "type": "heatmap"
           }
          ],
          "heatmapgl": [
           {
            "colorbar": {
             "outlinewidth": 0,
             "ticks": ""
            },
            "colorscale": [
             [
              0,
              "#0d0887"
             ],
             [
              0.1111111111111111,
              "#46039f"
             ],
             [
              0.2222222222222222,
              "#7201a8"
             ],
             [
              0.3333333333333333,
              "#9c179e"
             ],
             [
              0.4444444444444444,
              "#bd3786"
             ],
             [
              0.5555555555555556,
              "#d8576b"
             ],
             [
              0.6666666666666666,
              "#ed7953"
             ],
             [
              0.7777777777777778,
              "#fb9f3a"
             ],
             [
              0.8888888888888888,
              "#fdca26"
             ],
             [
              1,
              "#f0f921"
             ]
            ],
            "type": "heatmapgl"
           }
          ],
          "histogram": [
           {
            "marker": {
             "colorbar": {
              "outlinewidth": 0,
              "ticks": ""
             }
            },
            "type": "histogram"
           }
          ],
          "histogram2d": [
           {
            "colorbar": {
             "outlinewidth": 0,
             "ticks": ""
            },
            "colorscale": [
             [
              0,
              "#0d0887"
             ],
             [
              0.1111111111111111,
              "#46039f"
             ],
             [
              0.2222222222222222,
              "#7201a8"
             ],
             [
              0.3333333333333333,
              "#9c179e"
             ],
             [
              0.4444444444444444,
              "#bd3786"
             ],
             [
              0.5555555555555556,
              "#d8576b"
             ],
             [
              0.6666666666666666,
              "#ed7953"
             ],
             [
              0.7777777777777778,
              "#fb9f3a"
             ],
             [
              0.8888888888888888,
              "#fdca26"
             ],
             [
              1,
              "#f0f921"
             ]
            ],
            "type": "histogram2d"
           }
          ],
          "histogram2dcontour": [
           {
            "colorbar": {
             "outlinewidth": 0,
             "ticks": ""
            },
            "colorscale": [
             [
              0,
              "#0d0887"
             ],
             [
              0.1111111111111111,
              "#46039f"
             ],
             [
              0.2222222222222222,
              "#7201a8"
             ],
             [
              0.3333333333333333,
              "#9c179e"
             ],
             [
              0.4444444444444444,
              "#bd3786"
             ],
             [
              0.5555555555555556,
              "#d8576b"
             ],
             [
              0.6666666666666666,
              "#ed7953"
             ],
             [
              0.7777777777777778,
              "#fb9f3a"
             ],
             [
              0.8888888888888888,
              "#fdca26"
             ],
             [
              1,
              "#f0f921"
             ]
            ],
            "type": "histogram2dcontour"
           }
          ],
          "mesh3d": [
           {
            "colorbar": {
             "outlinewidth": 0,
             "ticks": ""
            },
            "type": "mesh3d"
           }
          ],
          "parcoords": [
           {
            "line": {
             "colorbar": {
              "outlinewidth": 0,
              "ticks": ""
             }
            },
            "type": "parcoords"
           }
          ],
          "pie": [
           {
            "automargin": true,
            "type": "pie"
           }
          ],
          "scatter": [
           {
            "marker": {
             "colorbar": {
              "outlinewidth": 0,
              "ticks": ""
             }
            },
            "type": "scatter"
           }
          ],
          "scatter3d": [
           {
            "line": {
             "colorbar": {
              "outlinewidth": 0,
              "ticks": ""
             }
            },
            "marker": {
             "colorbar": {
              "outlinewidth": 0,
              "ticks": ""
             }
            },
            "type": "scatter3d"
           }
          ],
          "scattercarpet": [
           {
            "marker": {
             "colorbar": {
              "outlinewidth": 0,
              "ticks": ""
             }
            },
            "type": "scattercarpet"
           }
          ],
          "scattergeo": [
           {
            "marker": {
             "colorbar": {
              "outlinewidth": 0,
              "ticks": ""
             }
            },
            "type": "scattergeo"
           }
          ],
          "scattergl": [
           {
            "marker": {
             "colorbar": {
              "outlinewidth": 0,
              "ticks": ""
             }
            },
            "type": "scattergl"
           }
          ],
          "scattermapbox": [
           {
            "marker": {
             "colorbar": {
              "outlinewidth": 0,
              "ticks": ""
             }
            },
            "type": "scattermapbox"
           }
          ],
          "scatterpolar": [
           {
            "marker": {
             "colorbar": {
              "outlinewidth": 0,
              "ticks": ""
             }
            },
            "type": "scatterpolar"
           }
          ],
          "scatterpolargl": [
           {
            "marker": {
             "colorbar": {
              "outlinewidth": 0,
              "ticks": ""
             }
            },
            "type": "scatterpolargl"
           }
          ],
          "scatterternary": [
           {
            "marker": {
             "colorbar": {
              "outlinewidth": 0,
              "ticks": ""
             }
            },
            "type": "scatterternary"
           }
          ],
          "surface": [
           {
            "colorbar": {
             "outlinewidth": 0,
             "ticks": ""
            },
            "colorscale": [
             [
              0,
              "#0d0887"
             ],
             [
              0.1111111111111111,
              "#46039f"
             ],
             [
              0.2222222222222222,
              "#7201a8"
             ],
             [
              0.3333333333333333,
              "#9c179e"
             ],
             [
              0.4444444444444444,
              "#bd3786"
             ],
             [
              0.5555555555555556,
              "#d8576b"
             ],
             [
              0.6666666666666666,
              "#ed7953"
             ],
             [
              0.7777777777777778,
              "#fb9f3a"
             ],
             [
              0.8888888888888888,
              "#fdca26"
             ],
             [
              1,
              "#f0f921"
             ]
            ],
            "type": "surface"
           }
          ],
          "table": [
           {
            "cells": {
             "fill": {
              "color": "#EBF0F8"
             },
             "line": {
              "color": "white"
             }
            },
            "header": {
             "fill": {
              "color": "#C8D4E3"
             },
             "line": {
              "color": "white"
             }
            },
            "type": "table"
           }
          ]
         },
         "layout": {
          "annotationdefaults": {
           "arrowcolor": "#2a3f5f",
           "arrowhead": 0,
           "arrowwidth": 1
          },
          "autotypenumbers": "strict",
          "coloraxis": {
           "colorbar": {
            "outlinewidth": 0,
            "ticks": ""
           }
          },
          "colorscale": {
           "diverging": [
            [
             0,
             "#8e0152"
            ],
            [
             0.1,
             "#c51b7d"
            ],
            [
             0.2,
             "#de77ae"
            ],
            [
             0.3,
             "#f1b6da"
            ],
            [
             0.4,
             "#fde0ef"
            ],
            [
             0.5,
             "#f7f7f7"
            ],
            [
             0.6,
             "#e6f5d0"
            ],
            [
             0.7,
             "#b8e186"
            ],
            [
             0.8,
             "#7fbc41"
            ],
            [
             0.9,
             "#4d9221"
            ],
            [
             1,
             "#276419"
            ]
           ],
           "sequential": [
            [
             0,
             "#0d0887"
            ],
            [
             0.1111111111111111,
             "#46039f"
            ],
            [
             0.2222222222222222,
             "#7201a8"
            ],
            [
             0.3333333333333333,
             "#9c179e"
            ],
            [
             0.4444444444444444,
             "#bd3786"
            ],
            [
             0.5555555555555556,
             "#d8576b"
            ],
            [
             0.6666666666666666,
             "#ed7953"
            ],
            [
             0.7777777777777778,
             "#fb9f3a"
            ],
            [
             0.8888888888888888,
             "#fdca26"
            ],
            [
             1,
             "#f0f921"
            ]
           ],
           "sequentialminus": [
            [
             0,
             "#0d0887"
            ],
            [
             0.1111111111111111,
             "#46039f"
            ],
            [
             0.2222222222222222,
             "#7201a8"
            ],
            [
             0.3333333333333333,
             "#9c179e"
            ],
            [
             0.4444444444444444,
             "#bd3786"
            ],
            [
             0.5555555555555556,
             "#d8576b"
            ],
            [
             0.6666666666666666,
             "#ed7953"
            ],
            [
             0.7777777777777778,
             "#fb9f3a"
            ],
            [
             0.8888888888888888,
             "#fdca26"
            ],
            [
             1,
             "#f0f921"
            ]
           ]
          },
          "colorway": [
           "#636efa",
           "#EF553B",
           "#00cc96",
           "#ab63fa",
           "#FFA15A",
           "#19d3f3",
           "#FF6692",
           "#B6E880",
           "#FF97FF",
           "#FECB52"
          ],
          "font": {
           "color": "#2a3f5f"
          },
          "geo": {
           "bgcolor": "white",
           "lakecolor": "white",
           "landcolor": "#E5ECF6",
           "showlakes": true,
           "showland": true,
           "subunitcolor": "white"
          },
          "hoverlabel": {
           "align": "left"
          },
          "hovermode": "closest",
          "mapbox": {
           "style": "light"
          },
          "paper_bgcolor": "white",
          "plot_bgcolor": "#E5ECF6",
          "polar": {
           "angularaxis": {
            "gridcolor": "white",
            "linecolor": "white",
            "ticks": ""
           },
           "bgcolor": "#E5ECF6",
           "radialaxis": {
            "gridcolor": "white",
            "linecolor": "white",
            "ticks": ""
           }
          },
          "scene": {
           "xaxis": {
            "backgroundcolor": "#E5ECF6",
            "gridcolor": "white",
            "gridwidth": 2,
            "linecolor": "white",
            "showbackground": true,
            "ticks": "",
            "zerolinecolor": "white"
           },
           "yaxis": {
            "backgroundcolor": "#E5ECF6",
            "gridcolor": "white",
            "gridwidth": 2,
            "linecolor": "white",
            "showbackground": true,
            "ticks": "",
            "zerolinecolor": "white"
           },
           "zaxis": {
            "backgroundcolor": "#E5ECF6",
            "gridcolor": "white",
            "gridwidth": 2,
            "linecolor": "white",
            "showbackground": true,
            "ticks": "",
            "zerolinecolor": "white"
           }
          },
          "shapedefaults": {
           "line": {
            "color": "#2a3f5f"
           }
          },
          "ternary": {
           "aaxis": {
            "gridcolor": "white",
            "linecolor": "white",
            "ticks": ""
           },
           "baxis": {
            "gridcolor": "white",
            "linecolor": "white",
            "ticks": ""
           },
           "bgcolor": "#E5ECF6",
           "caxis": {
            "gridcolor": "white",
            "linecolor": "white",
            "ticks": ""
           }
          },
          "title": {
           "x": 0.05
          },
          "xaxis": {
           "automargin": true,
           "gridcolor": "white",
           "linecolor": "white",
           "ticks": "",
           "title": {
            "standoff": 15
           },
           "zerolinecolor": "white",
           "zerolinewidth": 2
          },
          "yaxis": {
           "automargin": true,
           "gridcolor": "white",
           "linecolor": "white",
           "ticks": "",
           "title": {
            "standoff": 15
           },
           "zerolinecolor": "white",
           "zerolinewidth": 2
          }
         }
        },
        "title": {
         "font": {
          "family": "Arial",
          "size": 25
         },
         "text": "GHG Emissions Intensity",
         "x": 0.5
        },
        "width": 500,
        "xaxis": {
         "autorange": "reversed",
         "type": "log"
        },
        "yaxis": {
         "type": "log"
        }
       }
      },
      "text/html": "<div>                            <div id=\"f4a1e61f-7b97-4b87-b5ba-3fbf3352ce5b\" class=\"plotly-graph-div\" style=\"height:500px; width:500px;\"></div>            <script type=\"text/javascript\">                require([\"plotly\"], function(Plotly) {                    window.PLOTLYENV=window.PLOTLYENV || {};                                    if (document.getElementById(\"f4a1e61f-7b97-4b87-b5ba-3fbf3352ce5b\")) {                    Plotly.newPlot(                        \"f4a1e61f-7b97-4b87-b5ba-3fbf3352ce5b\",                        [{\"line\": {\"color\": \"gray\", \"dash\": \"dash\", \"width\": 2}, \"mode\": \"lines\", \"name\": \"Median y\", \"showlegend\": false, \"type\": \"scatter\", \"x\": [1899066.5, 1899066.5], \"y\": [18372000000.0, 95214000000.0]}, {\"line\": {\"color\": \"gray\", \"dash\": \"dash\", \"width\": 2}, \"mode\": \"lines\", \"name\": \"Median x\", \"showlegend\": false, \"type\": \"scatter\", \"x\": [762200.0, 16402161.0], \"y\": [46575000000.0, 46575000000.0]}, {\"line\": {\"color\": \"black\"}, \"marker\": {\"color\": \"blue\", \"opacity\": 0.5, \"size\": 20}, \"mode\": \"markers+text\", \"name\": \"benchmark\", \"showlegend\": false, \"text\": [\"Boeing\", \"Caterpillar Inc.\", \"Emerson Electric\", \"FedEx\", \"General Dynamics\", \"General Electric\", \"Honeywell Inc.\", \"Lockheed Martin Corp.\", \"Raytheon Technologies\", \"Union Pacific Corp\", \"United Parcel Service\"], \"textposition\": \"top center\", \"type\": \"scatter\", \"x\": [1346000.0, 1774000.0, 863684.0, 16402161.0, 762200.0, 2390000.0, 2024133.0, 771435.0, 1726534.0, 10415469.0, 14954000.0], \"y\": [76559000000.0, 53800000000.0, 18372000000.0, 69693000000.0, 39350000000.0, 95214000000.0, 36709000000.0, 59810000000.0, 29176000000.0, 21700000000.0, 74094000000.0]}, {\"line\": {\"color\": \"black\"}, \"marker\": {\"color\": \"red\", \"opacity\": 1, \"size\": 20}, \"mode\": \"markers+text\", \"name\": \"3M\", \"showlegend\": false, \"text\": \"3M\", \"textposition\": \"top center\", \"type\": \"scatter\", \"x\": [5370000.0], \"y\": [32136000000.0]}],                        {\"autosize\": false, \"height\": 500, \"margin\": {\"b\": 100, \"l\": 50, \"pad\": 4, \"r\": 50, \"t\": 100}, \"paper_bgcolor\": \"LightSteelBlue\", \"plot_bgcolor\": \"antiquewhite\", \"template\": {\"data\": {\"bar\": [{\"error_x\": {\"color\": \"#2a3f5f\"}, \"error_y\": {\"color\": \"#2a3f5f\"}, \"marker\": {\"line\": {\"color\": \"#E5ECF6\", \"width\": 0.5}}, \"type\": \"bar\"}], \"barpolar\": [{\"marker\": {\"line\": {\"color\": \"#E5ECF6\", \"width\": 0.5}}, \"type\": \"barpolar\"}], \"carpet\": [{\"aaxis\": {\"endlinecolor\": \"#2a3f5f\", \"gridcolor\": \"white\", \"linecolor\": \"white\", \"minorgridcolor\": \"white\", \"startlinecolor\": \"#2a3f5f\"}, \"baxis\": {\"endlinecolor\": \"#2a3f5f\", \"gridcolor\": \"white\", \"linecolor\": \"white\", \"minorgridcolor\": \"white\", \"startlinecolor\": \"#2a3f5f\"}, \"type\": \"carpet\"}], \"choropleth\": [{\"colorbar\": {\"outlinewidth\": 0, \"ticks\": \"\"}, \"type\": \"choropleth\"}], \"contour\": [{\"colorbar\": {\"outlinewidth\": 0, \"ticks\": \"\"}, \"colorscale\": [[0.0, \"#0d0887\"], [0.1111111111111111, \"#46039f\"], [0.2222222222222222, \"#7201a8\"], [0.3333333333333333, \"#9c179e\"], [0.4444444444444444, \"#bd3786\"], [0.5555555555555556, \"#d8576b\"], [0.6666666666666666, \"#ed7953\"], [0.7777777777777778, \"#fb9f3a\"], [0.8888888888888888, \"#fdca26\"], [1.0, \"#f0f921\"]], \"type\": \"contour\"}], \"contourcarpet\": [{\"colorbar\": {\"outlinewidth\": 0, \"ticks\": \"\"}, \"type\": \"contourcarpet\"}], \"heatmap\": [{\"colorbar\": {\"outlinewidth\": 0, \"ticks\": \"\"}, \"colorscale\": [[0.0, \"#0d0887\"], [0.1111111111111111, \"#46039f\"], [0.2222222222222222, \"#7201a8\"], [0.3333333333333333, \"#9c179e\"], [0.4444444444444444, \"#bd3786\"], [0.5555555555555556, \"#d8576b\"], [0.6666666666666666, \"#ed7953\"], [0.7777777777777778, \"#fb9f3a\"], [0.8888888888888888, \"#fdca26\"], [1.0, \"#f0f921\"]], \"type\": \"heatmap\"}], \"heatmapgl\": [{\"colorbar\": {\"outlinewidth\": 0, \"ticks\": \"\"}, \"colorscale\": [[0.0, \"#0d0887\"], [0.1111111111111111, \"#46039f\"], [0.2222222222222222, \"#7201a8\"], [0.3333333333333333, \"#9c179e\"], [0.4444444444444444, \"#bd3786\"], [0.5555555555555556, \"#d8576b\"], [0.6666666666666666, \"#ed7953\"], [0.7777777777777778, \"#fb9f3a\"], [0.8888888888888888, \"#fdca26\"], [1.0, \"#f0f921\"]], \"type\": \"heatmapgl\"}], \"histogram\": [{\"marker\": {\"colorbar\": {\"outlinewidth\": 0, \"ticks\": \"\"}}, \"type\": \"histogram\"}], \"histogram2d\": [{\"colorbar\": {\"outlinewidth\": 0, \"ticks\": \"\"}, \"colorscale\": [[0.0, \"#0d0887\"], [0.1111111111111111, \"#46039f\"], [0.2222222222222222, \"#7201a8\"], [0.3333333333333333, \"#9c179e\"], [0.4444444444444444, \"#bd3786\"], [0.5555555555555556, \"#d8576b\"], [0.6666666666666666, \"#ed7953\"], [0.7777777777777778, \"#fb9f3a\"], [0.8888888888888888, \"#fdca26\"], [1.0, \"#f0f921\"]], \"type\": \"histogram2d\"}], \"histogram2dcontour\": [{\"colorbar\": {\"outlinewidth\": 0, \"ticks\": \"\"}, \"colorscale\": [[0.0, \"#0d0887\"], [0.1111111111111111, \"#46039f\"], [0.2222222222222222, \"#7201a8\"], [0.3333333333333333, \"#9c179e\"], [0.4444444444444444, \"#bd3786\"], [0.5555555555555556, \"#d8576b\"], [0.6666666666666666, \"#ed7953\"], [0.7777777777777778, \"#fb9f3a\"], [0.8888888888888888, \"#fdca26\"], [1.0, \"#f0f921\"]], \"type\": \"histogram2dcontour\"}], \"mesh3d\": [{\"colorbar\": {\"outlinewidth\": 0, \"ticks\": \"\"}, \"type\": \"mesh3d\"}], \"parcoords\": [{\"line\": {\"colorbar\": {\"outlinewidth\": 0, \"ticks\": \"\"}}, \"type\": \"parcoords\"}], \"pie\": [{\"automargin\": true, \"type\": \"pie\"}], \"scatter\": [{\"marker\": {\"colorbar\": {\"outlinewidth\": 0, \"ticks\": \"\"}}, \"type\": \"scatter\"}], \"scatter3d\": [{\"line\": {\"colorbar\": {\"outlinewidth\": 0, \"ticks\": \"\"}}, \"marker\": {\"colorbar\": {\"outlinewidth\": 0, \"ticks\": \"\"}}, \"type\": \"scatter3d\"}], \"scattercarpet\": [{\"marker\": {\"colorbar\": {\"outlinewidth\": 0, \"ticks\": \"\"}}, \"type\": \"scattercarpet\"}], \"scattergeo\": [{\"marker\": {\"colorbar\": {\"outlinewidth\": 0, \"ticks\": \"\"}}, \"type\": \"scattergeo\"}], \"scattergl\": [{\"marker\": {\"colorbar\": {\"outlinewidth\": 0, \"ticks\": \"\"}}, \"type\": \"scattergl\"}], \"scattermapbox\": [{\"marker\": {\"colorbar\": {\"outlinewidth\": 0, \"ticks\": \"\"}}, \"type\": \"scattermapbox\"}], \"scatterpolar\": [{\"marker\": {\"colorbar\": {\"outlinewidth\": 0, \"ticks\": \"\"}}, \"type\": \"scatterpolar\"}], \"scatterpolargl\": [{\"marker\": {\"colorbar\": {\"outlinewidth\": 0, \"ticks\": \"\"}}, \"type\": \"scatterpolargl\"}], \"scatterternary\": [{\"marker\": {\"colorbar\": {\"outlinewidth\": 0, \"ticks\": \"\"}}, \"type\": \"scatterternary\"}], \"surface\": [{\"colorbar\": {\"outlinewidth\": 0, \"ticks\": \"\"}, \"colorscale\": [[0.0, \"#0d0887\"], [0.1111111111111111, \"#46039f\"], [0.2222222222222222, \"#7201a8\"], [0.3333333333333333, \"#9c179e\"], [0.4444444444444444, \"#bd3786\"], [0.5555555555555556, \"#d8576b\"], [0.6666666666666666, \"#ed7953\"], [0.7777777777777778, \"#fb9f3a\"], [0.8888888888888888, \"#fdca26\"], [1.0, \"#f0f921\"]], \"type\": \"surface\"}], \"table\": [{\"cells\": {\"fill\": {\"color\": \"#EBF0F8\"}, \"line\": {\"color\": \"white\"}}, \"header\": {\"fill\": {\"color\": \"#C8D4E3\"}, \"line\": {\"color\": \"white\"}}, \"type\": \"table\"}]}, \"layout\": {\"annotationdefaults\": {\"arrowcolor\": \"#2a3f5f\", \"arrowhead\": 0, \"arrowwidth\": 1}, \"autotypenumbers\": \"strict\", \"coloraxis\": {\"colorbar\": {\"outlinewidth\": 0, \"ticks\": \"\"}}, \"colorscale\": {\"diverging\": [[0, \"#8e0152\"], [0.1, \"#c51b7d\"], [0.2, \"#de77ae\"], [0.3, \"#f1b6da\"], [0.4, \"#fde0ef\"], [0.5, \"#f7f7f7\"], [0.6, \"#e6f5d0\"], [0.7, \"#b8e186\"], [0.8, \"#7fbc41\"], [0.9, \"#4d9221\"], [1, \"#276419\"]], \"sequential\": [[0.0, \"#0d0887\"], [0.1111111111111111, \"#46039f\"], [0.2222222222222222, \"#7201a8\"], [0.3333333333333333, \"#9c179e\"], [0.4444444444444444, \"#bd3786\"], [0.5555555555555556, \"#d8576b\"], [0.6666666666666666, \"#ed7953\"], [0.7777777777777778, \"#fb9f3a\"], [0.8888888888888888, \"#fdca26\"], [1.0, \"#f0f921\"]], \"sequentialminus\": [[0.0, \"#0d0887\"], [0.1111111111111111, \"#46039f\"], [0.2222222222222222, \"#7201a8\"], [0.3333333333333333, \"#9c179e\"], [0.4444444444444444, \"#bd3786\"], [0.5555555555555556, \"#d8576b\"], [0.6666666666666666, \"#ed7953\"], [0.7777777777777778, \"#fb9f3a\"], [0.8888888888888888, \"#fdca26\"], [1.0, \"#f0f921\"]]}, \"colorway\": [\"#636efa\", \"#EF553B\", \"#00cc96\", \"#ab63fa\", \"#FFA15A\", \"#19d3f3\", \"#FF6692\", \"#B6E880\", \"#FF97FF\", \"#FECB52\"], \"font\": {\"color\": \"#2a3f5f\"}, \"geo\": {\"bgcolor\": \"white\", \"lakecolor\": \"white\", \"landcolor\": \"#E5ECF6\", \"showlakes\": true, \"showland\": true, \"subunitcolor\": \"white\"}, \"hoverlabel\": {\"align\": \"left\"}, \"hovermode\": \"closest\", \"mapbox\": {\"style\": \"light\"}, \"paper_bgcolor\": \"white\", \"plot_bgcolor\": \"#E5ECF6\", \"polar\": {\"angularaxis\": {\"gridcolor\": \"white\", \"linecolor\": \"white\", \"ticks\": \"\"}, \"bgcolor\": \"#E5ECF6\", \"radialaxis\": {\"gridcolor\": \"white\", \"linecolor\": \"white\", \"ticks\": \"\"}}, \"scene\": {\"xaxis\": {\"backgroundcolor\": \"#E5ECF6\", \"gridcolor\": \"white\", \"gridwidth\": 2, \"linecolor\": \"white\", \"showbackground\": true, \"ticks\": \"\", \"zerolinecolor\": \"white\"}, \"yaxis\": {\"backgroundcolor\": \"#E5ECF6\", \"gridcolor\": \"white\", \"gridwidth\": 2, \"linecolor\": \"white\", \"showbackground\": true, \"ticks\": \"\", \"zerolinecolor\": \"white\"}, \"zaxis\": {\"backgroundcolor\": \"#E5ECF6\", \"gridcolor\": \"white\", \"gridwidth\": 2, \"linecolor\": \"white\", \"showbackground\": true, \"ticks\": \"\", \"zerolinecolor\": \"white\"}}, \"shapedefaults\": {\"line\": {\"color\": \"#2a3f5f\"}}, \"ternary\": {\"aaxis\": {\"gridcolor\": \"white\", \"linecolor\": \"white\", \"ticks\": \"\"}, \"baxis\": {\"gridcolor\": \"white\", \"linecolor\": \"white\", \"ticks\": \"\"}, \"bgcolor\": \"#E5ECF6\", \"caxis\": {\"gridcolor\": \"white\", \"linecolor\": \"white\", \"ticks\": \"\"}}, \"title\": {\"x\": 0.05}, \"xaxis\": {\"automargin\": true, \"gridcolor\": \"white\", \"linecolor\": \"white\", \"ticks\": \"\", \"title\": {\"standoff\": 15}, \"zerolinecolor\": \"white\", \"zerolinewidth\": 2}, \"yaxis\": {\"automargin\": true, \"gridcolor\": \"white\", \"linecolor\": \"white\", \"ticks\": \"\", \"title\": {\"standoff\": 15}, \"zerolinecolor\": \"white\", \"zerolinewidth\": 2}}}, \"title\": {\"font\": {\"family\": \"Arial\", \"size\": 25}, \"text\": \"GHG Emissions Intensity\", \"x\": 0.5}, \"width\": 500, \"xaxis\": {\"autorange\": \"reversed\", \"type\": \"log\"}, \"yaxis\": {\"type\": \"log\"}},                        {\"displaylogo\": false, \"responsive\": true}                    ).then(function(){\n                            \nvar gd = document.getElementById('f4a1e61f-7b97-4b87-b5ba-3fbf3352ce5b');\nvar x = new MutationObserver(function (mutations, observer) {{\n        var display = window.getComputedStyle(gd).display;\n        if (!display || display === 'none') {{\n            console.log([gd, 'removed!']);\n            Plotly.purge(gd);\n            observer.disconnect();\n        }}\n}});\n\n// Listen for the removal of the full notebook cells\nvar notebookContainer = gd.closest('#notebook-container');\nif (notebookContainer) {{\n    x.observe(notebookContainer, {childList: true});\n}}\n\n// Listen for the clearing of the current output cell\nvar outputEl = gd.closest('.output');\nif (outputEl) {{\n    x.observe(outputEl, {childList: true});\n}}\n\n                        })                };                });            </script>        </div>"
     },
     "metadata": {}
    }
   ],
   "source": [
    "# Add dropdown\n",
    "\"\"\"\n",
    "fig.update_layout(\n",
    "    updatemenus=[\n",
    "        dict(\n",
    "            type = \"buttons\",\n",
    "            direction = \"left\",\n",
    "            buttons=list([\n",
    "                dict(\n",
    "                    args=[\"mode\", \"markers\", indexes],\n",
    "                    label=\"Hide names\",\n",
    "                    method=\"restyle\"\n",
    "                ),\n",
    "                dict(\n",
    "                    args=[\"mode\", \"markers+text\", indexes],\n",
    "                    label=\"Show names\",\n",
    "                    method=\"restyle\"\n",
    "                )\n",
    "            ]),\n",
    "            pad={\"r\": 10, \"t\": 10},\n",
    "            showactive=True,\n",
    "            x=1.0,\n",
    "            xanchor=\"left\",\n",
    "            y=1.25,\n",
    "            yanchor=\"top\"\n",
    "        ),\n",
    "    ]\n",
    ")\n",
    "\"\"\"\n",
    "offline.iplot(fig, config = config)\n"
   ]
  },
  {
   "cell_type": "code",
   "execution_count": 22,
   "metadata": {},
   "outputs": [
    {
     "output_type": "execute_result",
     "data": {
      "text/plain": [
       "'../django_project/static/django_project/images/html_exports/bubble_intensity_3M.html'"
      ]
     },
     "metadata": {},
     "execution_count": 22
    }
   ],
   "source": [
    "name_fig = \"bubble_intensity_{}\".format(corp_name)\n",
    "fig.write_image(\"../django_project/static/django_project/images/charts/{}.svg\".format(name_fig), scale=3, height = 300)\n",
    "plot(fig, config=config, filename = '../django_project/static/django_project/images/html_exports/{}.html'.format(name_fig), auto_open=False)"
   ]
  },
  {
   "cell_type": "code",
   "execution_count": null,
   "metadata": {},
   "outputs": [],
   "source": []
  },
  {
   "cell_type": "code",
   "execution_count": null,
   "metadata": {},
   "outputs": [],
   "source": []
  },
  {
   "cell_type": "code",
   "execution_count": null,
   "metadata": {},
   "outputs": [],
   "source": []
  },
  {
   "cell_type": "code",
   "execution_count": null,
   "metadata": {},
   "outputs": [],
   "source": []
  }
 ],
 "metadata": {
  "kernelspec": {
   "name": "python3",
   "display_name": "Python 3.6.13 64-bit ('cnext': conda)"
  },
  "language_info": {
   "codemirror_mode": {
    "name": "ipython",
    "version": 3
   },
   "file_extension": ".py",
   "mimetype": "text/x-python",
   "name": "python",
   "nbconvert_exporter": "python",
   "pygments_lexer": "ipython3",
   "version": "3.6.13"
  },
  "interpreter": {
   "hash": "2763097f05fa0e79020cf579cd98f61c1a12f2eb3c0b21888a5c169647c48c37"
  }
 },
 "nbformat": 4,
 "nbformat_minor": 4
}