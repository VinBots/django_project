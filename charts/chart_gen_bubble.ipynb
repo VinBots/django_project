{
 "cells": [
  {
   "cell_type": "markdown",
   "metadata": {},
   "source": [
    "# Chart generations Notebook"
   ]
  },
  {
   "cell_type": "markdown",
   "metadata": {},
   "source": [
    "## Import Libraries"
   ]
  },
  {
   "cell_type": "code",
   "execution_count": 4,
   "metadata": {},
   "outputs": [],
   "source": [
    "import pandas as pd\n",
    "import plotly.graph_objs as go\n",
    "import plotly.offline as offline\n",
    "import os\n",
    "import numpy as np"
   ]
  },
  {
   "cell_type": "code",
   "execution_count": 5,
   "metadata": {},
   "outputs": [
    {
     "output_type": "display_data",
     "data": {
      "text/html": "        <script type=\"text/javascript\">\n        window.PlotlyConfig = {MathJaxConfig: 'local'};\n        if (window.MathJax) {MathJax.Hub.Config({SVG: {font: \"STIX-Web\"}});}\n        if (typeof require !== 'undefined') {\n        require.undef(\"plotly\");\n        requirejs.config({\n            paths: {\n                'plotly': ['https://cdn.plot.ly/plotly-latest.min']\n            }\n        });\n        require(['plotly'], function(Plotly) {\n            window._Plotly = Plotly;\n        });\n        }\n        </script>\n        "
     },
     "metadata": {}
    }
   ],
   "source": [
    "offline.init_notebook_mode(connected=True)"
   ]
  },
  {
   "cell_type": "markdown",
   "metadata": {},
   "source": [
    "## Bubble Chart for Emissions Intensity\n"
   ]
  },
  {
   "cell_type": "code",
   "execution_count": 6,
   "metadata": {},
   "outputs": [],
   "source": [
    "#XLSX_PATH = os.path.join ('..', 'data', 'sp100_ghg.xlsx')\n",
    "XLSX_PATH = os.path.join ('../django_project/static/django_project', 'data', 'sp100_ghg.xlsx')   \n",
    "all_data = pd.read_excel(XLSX_PATH, engine = 'openpyxl')"
   ]
  },
  {
   "cell_type": "code",
   "execution_count": 7,
   "metadata": {},
   "outputs": [
    {
     "output_type": "execute_result",
     "data": {
      "text/plain": [
       "Index(['Company Name', 'Shorthand Company Name', 'Sector', 'Industry',\n",
       "       'Size (2019 Revenue)', 'Net Earnings/Income (2019)', 'IPO Year',\n",
       "       'S&P 100? (Y/N)', 'Carbon Neutral Goal? (Y/N)',\n",
       "       'Science-Based Target? (Y/N)', 'Carbon Neutral by.... (year)',\n",
       "       'Carbon Neutral Announcement (year)', 'Carbon Goal (if non-zero)',\n",
       "       'Reliance on Offsets? (Y/N)', 'RE100 Commitment? (Y/N)',\n",
       "       '100% Renewable Energy by... (year)', '2019 Scope 1 (MeT Co2)',\n",
       "       '2019 Scope 2 ', '2019 Offsets Purchased',\n",
       "       '2019 Net Scope 1 + 2 Emissions', '2019 Scope 3 ',\n",
       "       '2019 Total Scope 1, 2 + 3', '2018 Scope 1', '2018 Scope 2',\n",
       "       '2018 Offsets Purchased', '2018 Net Scope 1 + 2 Emissions',\n",
       "       '2018 Scope 3', '2018 Total Scope 1, 2 + Scope 3', '2017 Scope 1',\n",
       "       '2017 Scope 2', '2017 Offsets Purchased',\n",
       "       '2017 Net Scope 1 + 2 Emissions', '2017 Scope 3',\n",
       "       '2017 Total Scope 1, 2 + 3', '2016 Scope 1', '2016 Scope 2',\n",
       "       '2016 Offsets Purchased', '2016 Net Scope 1 + 2 Emissions',\n",
       "       '2016 Scope 3', '2016 Total Scope 1, 2 + 3', '2015 Scope 1',\n",
       "       '2015 Scope 2', '2015 Offsets Purchased',\n",
       "       '2015 Net Scope 1 + 2 Emissions', '2015 Scope 3',\n",
       "       '2015 Total Scope 1, 2 + 3', 'Policy Arm?',\n",
       "       'Initiatives for Carbon Neutrality', 'Notes', 'Sources'],\n",
       "      dtype='object')"
      ]
     },
     "metadata": {},
     "execution_count": 7
    }
   ],
   "source": [
    "all_data.columns"
   ]
  },
  {
   "cell_type": "code",
   "execution_count": 5,
   "metadata": {},
   "outputs": [],
   "source": [
    "XLSX_PATH = os.path.join ('..', 'data', 'sp100_ghg.xlsx')\n",
    "COLS_TO_USE = ['Company Name', 'Sector', 'Size (2019 Revenue)', '2019 Net Scope 1 + 2 Emissions']\n",
    "all_data = pd.read_excel(XLSX_PATH, engine = 'openpyxl', usecols = COLS_TO_USE)\n",
    "all_data.to_pickle (os.path.join ('..','data_frame.pickle'))"
   ]
  },
  {
   "cell_type": "code",
   "execution_count": 6,
   "metadata": {},
   "outputs": [],
   "source": [
    "all_data[\"intensity\"] = all_data['Size (2019 Revenue)'] /  all_data['2019 Net Scope 1 + 2 Emissions']"
   ]
  },
  {
   "cell_type": "code",
   "execution_count": null,
   "metadata": {},
   "outputs": [],
   "source": []
  },
  {
   "cell_type": "code",
   "execution_count": 7,
   "metadata": {},
   "outputs": [],
   "source": [
    "#all_data = all_data[all_data['Company Name'] != 'Walmart']\n"
   ]
  },
  {
   "cell_type": "code",
   "execution_count": null,
   "metadata": {},
   "outputs": [],
   "source": []
  },
  {
   "cell_type": "code",
   "execution_count": 8,
   "metadata": {},
   "outputs": [
    {
     "output_type": "execute_result",
     "data": {
      "text/plain": [
       "            Company Name       Sector  Size (2019 Revenue)  \\\n",
       "0                     3M  Industrials         3.213600e+10   \n",
       "1    Abbott Laboratories   Healthcare         3.190400e+10   \n",
       "2            AbbVie Inc.   Healthcare         3.326600e+10   \n",
       "3              Accenture   Technology         4.320000e+10   \n",
       "4             Adobe Inc.   Technology         1.117100e+10   \n",
       "..                   ...          ...                  ...   \n",
       "175                  NaN          NaN                  NaN   \n",
       "176                  NaN          NaN                  NaN   \n",
       "177                  NaN          NaN                  NaN   \n",
       "178                  NaN          NaN                  NaN   \n",
       "179                  NaN          NaN                  NaN   \n",
       "\n",
       "     2019 Net Scope 1 + 2 Emissions      intensity  \n",
       "0                         5370000.0    5984.357542  \n",
       "1                          972000.0   32823.045267  \n",
       "2                          564198.0   58961.570229  \n",
       "3                          233603.0  184929.131903  \n",
       "4                           55342.0  201853.926493  \n",
       "..                              ...            ...  \n",
       "175                             NaN            NaN  \n",
       "176                             NaN            NaN  \n",
       "177                             NaN            NaN  \n",
       "178                             NaN            NaN  \n",
       "179                             NaN            NaN  \n",
       "\n",
       "[180 rows x 5 columns]"
      ],
      "text/html": "<div>\n<style scoped>\n    .dataframe tbody tr th:only-of-type {\n        vertical-align: middle;\n    }\n\n    .dataframe tbody tr th {\n        vertical-align: top;\n    }\n\n    .dataframe thead th {\n        text-align: right;\n    }\n</style>\n<table border=\"1\" class=\"dataframe\">\n  <thead>\n    <tr style=\"text-align: right;\">\n      <th></th>\n      <th>Company Name</th>\n      <th>Sector</th>\n      <th>Size (2019 Revenue)</th>\n      <th>2019 Net Scope 1 + 2 Emissions</th>\n      <th>intensity</th>\n    </tr>\n  </thead>\n  <tbody>\n    <tr>\n      <th>0</th>\n      <td>3M</td>\n      <td>Industrials</td>\n      <td>3.213600e+10</td>\n      <td>5370000.0</td>\n      <td>5984.357542</td>\n    </tr>\n    <tr>\n      <th>1</th>\n      <td>Abbott Laboratories</td>\n      <td>Healthcare</td>\n      <td>3.190400e+10</td>\n      <td>972000.0</td>\n      <td>32823.045267</td>\n    </tr>\n    <tr>\n      <th>2</th>\n      <td>AbbVie Inc.</td>\n      <td>Healthcare</td>\n      <td>3.326600e+10</td>\n      <td>564198.0</td>\n      <td>58961.570229</td>\n    </tr>\n    <tr>\n      <th>3</th>\n      <td>Accenture</td>\n      <td>Technology</td>\n      <td>4.320000e+10</td>\n      <td>233603.0</td>\n      <td>184929.131903</td>\n    </tr>\n    <tr>\n      <th>4</th>\n      <td>Adobe Inc.</td>\n      <td>Technology</td>\n      <td>1.117100e+10</td>\n      <td>55342.0</td>\n      <td>201853.926493</td>\n    </tr>\n    <tr>\n      <th>...</th>\n      <td>...</td>\n      <td>...</td>\n      <td>...</td>\n      <td>...</td>\n      <td>...</td>\n    </tr>\n    <tr>\n      <th>175</th>\n      <td>NaN</td>\n      <td>NaN</td>\n      <td>NaN</td>\n      <td>NaN</td>\n      <td>NaN</td>\n    </tr>\n    <tr>\n      <th>176</th>\n      <td>NaN</td>\n      <td>NaN</td>\n      <td>NaN</td>\n      <td>NaN</td>\n      <td>NaN</td>\n    </tr>\n    <tr>\n      <th>177</th>\n      <td>NaN</td>\n      <td>NaN</td>\n      <td>NaN</td>\n      <td>NaN</td>\n      <td>NaN</td>\n    </tr>\n    <tr>\n      <th>178</th>\n      <td>NaN</td>\n      <td>NaN</td>\n      <td>NaN</td>\n      <td>NaN</td>\n      <td>NaN</td>\n    </tr>\n    <tr>\n      <th>179</th>\n      <td>NaN</td>\n      <td>NaN</td>\n      <td>NaN</td>\n      <td>NaN</td>\n      <td>NaN</td>\n    </tr>\n  </tbody>\n</table>\n<p>180 rows × 5 columns</p>\n</div>"
     },
     "metadata": {},
     "execution_count": 8
    }
   ],
   "source": [
    "all_data"
   ]
  },
  {
   "cell_type": "code",
   "execution_count": 9,
   "metadata": {},
   "outputs": [],
   "source": [
    "x0 = all_data['2019 Net Scope 1 + 2 Emissions']"
   ]
  },
  {
   "cell_type": "code",
   "execution_count": 10,
   "metadata": {},
   "outputs": [],
   "source": [
    "y0 = all_data['Size (2019 Revenue)']"
   ]
  },
  {
   "cell_type": "code",
   "execution_count": 11,
   "metadata": {},
   "outputs": [],
   "source": [
    "sector_names = all_data['Sector'].unique()"
   ]
  },
  {
   "cell_type": "code",
   "execution_count": 12,
   "metadata": {},
   "outputs": [
    {
     "output_type": "execute_result",
     "data": {
      "text/plain": [
       "array(['Industrials', 'Healthcare', 'Technology', 'Financial Services',\n",
       "       'Communication Services', 'Consumer Staples',\n",
       "       'Consumer Discretionary', 'Real Estate', 'Energy', 'Materials',\n",
       "       'Utilities', nan], dtype=object)"
      ]
     },
     "metadata": {},
     "execution_count": 12
    }
   ],
   "source": [
    "sector_names"
   ]
  },
  {
   "cell_type": "code",
   "execution_count": 13,
   "metadata": {},
   "outputs": [],
   "source": [
    "sector_data = {sector:all_data.query(\"Sector == '%s'\" %sector) for sector in sector_names}"
   ]
  },
  {
   "cell_type": "code",
   "execution_count": 14,
   "metadata": {},
   "outputs": [],
   "source": [
    "upper_left_ann = dict (xref=\"x domain\",\n",
    "                       yref=\"paper\",\n",
    "                       x=0.10,\n",
    "                       y=1.10,\n",
    "                       text=\"<b>Corporate Behemoths</b> <br> High Revenue, High Emissions\",\n",
    "                       showarrow = False,\n",
    "                       bgcolor = 'blue',\n",
    "                       font = {'color':'white'},\n",
    "                       opacity = 0.5\n",
    "                      )\n",
    "upper_right_ann = dict (xref=\"x domain\",\n",
    "                       yref=\"paper\",\n",
    "                       x=0.90,\n",
    "                       y=1.10,\n",
    "                       text=\"<b>Sustainability Leaders</b> <br> High Revenue, Low Emissions\",\n",
    "                       showarrow = False,\n",
    "                       bgcolor = 'blue',\n",
    "                       font = {'color':'white'},\n",
    "                       opacity = 0.5\n",
    "                       )\n",
    "lower_right_ann = dict (xref=\"x domain\",\n",
    "                       yref=\"paper\",\n",
    "                       x=0.90,\n",
    "                       y=-0.15,\n",
    "                       text=\"<b>Small Players</b> <br> Low Revenue, Low Emissions\",\n",
    "                       showarrow = False,\n",
    "                       bgcolor = 'blue',\n",
    "                       font = {'color':'white'},\n",
    "                       opacity = 0.5\n",
    "                       )\n",
    "lower_left_ann = dict (xref=\"x domain\",\n",
    "                       yref=\"paper\",\n",
    "                       x=0.10,\n",
    "                       y=-0.15,\n",
    "                       text=\"<b>Worst Offenders</b> <br> Low Revenue, High Emissions\",\n",
    "                       showarrow = False,\n",
    "                      bgcolor = 'blue',\n",
    "                       font = {'color':'white'},\n",
    "                       opacity = 0.5\n",
    "                      )"
   ]
  },
  {
   "cell_type": "code",
   "execution_count": 15,
   "metadata": {},
   "outputs": [],
   "source": [
    "layout = go.Layout (\n",
    "    title = 'GHG Emissions Intensity',\n",
    "    title_x = 0.5,\n",
    "    titlefont = dict(family = 'Arial', size = 25),\n",
    "    plot_bgcolor = 'antiquewhite',\n",
    "    xaxis =  dict(autorange = \"reversed\", type = 'log'),\n",
    "    yaxis = dict(type = 'log'),\n",
    "    annotations = [upper_left_ann, upper_right_ann, lower_left_ann, lower_right_ann]\n",
    ")"
   ]
  },
  {
   "cell_type": "code",
   "execution_count": 16,
   "metadata": {},
   "outputs": [],
   "source": [
    "x_median_x = [x0.min(), x0.max()]\n",
    "y_median_x = [y0.median(), y0.median()]\n",
    "x_median_y = [x0.median(), x0.median()]\n",
    "y_median_y = [y0.min(), y0.max()]"
   ]
  },
  {
   "cell_type": "code",
   "execution_count": 17,
   "metadata": {
    "scrolled": true
   },
   "outputs": [],
   "source": [
    "trace1 = go.Scatter(x=x_median_y, \n",
    "                    y=y_median_y, \n",
    "                    showlegend = False, \n",
    "                    name='Median y',\n",
    "                    mode = \"lines\",\n",
    "                    line = dict(color='gray', \n",
    "                                width=2, \n",
    "                                dash='dash'))\n",
    "\n",
    "trace2 = go.Scatter(x=x_median_x, \n",
    "                         y=y_median_x, \n",
    "                         showlegend = False, \n",
    "                         name='Median x', \n",
    "                         mode = \"lines\",\n",
    "                         line = {'color':'gray', \n",
    "                                 'width':2, \n",
    "                                 'dash':'dash'}\n",
    "                        )\n",
    "\n",
    "\n",
    "fig = go.Figure(data = [trace1, trace2], \n",
    "                layout = layout)\n",
    "\n",
    "for sector_name, sector in sector_data.items():\n",
    "    fig.add_trace(go.Scatter(\n",
    "        x=sector['2019 Net Scope 1 + 2 Emissions'], y=sector['Size (2019 Revenue)'],\n",
    "        name=sector_name, \n",
    "        text=sector['Company Name'],\n",
    "        mode = 'markers',\n",
    "        marker_size=10,\n",
    "        textposition='top center'\n",
    "        ))\n",
    "    \n"
   ]
  },
  {
   "cell_type": "code",
   "execution_count": 18,
   "metadata": {},
   "outputs": [],
   "source": [
    "num_traces_no_markers = 2\n",
    "indexes = list(range(num_traces_no_markers,len(sector_names) + num_traces_no_markers - 1))\n"
   ]
  },
  {
   "cell_type": "code",
   "execution_count": 19,
   "metadata": {},
   "outputs": [
    {
     "output_type": "display_data",
     "data": {
      "application/vnd.plotly.v1+json": {
       "config": {
        "linkText": "Export to plot.ly",
        "plotlyServerURL": "https://plot.ly",
        "showLink": false
       },
       "data": [
        {
         "line": {
          "color": "gray",
          "dash": "dash",
          "width": 2
         },
         "mode": "lines",
         "name": "Median y",
         "showlegend": false,
         "type": "scatter",
         "x": [
          898818,
          898818
         ],
         "y": [
          5755000000,
          524000000000
         ]
        },
        {
         "line": {
          "color": "gray",
          "dash": "dash",
          "width": 2
         },
         "mode": "lines",
         "name": "Median x",
         "showlegend": false,
         "type": "scatter",
         "x": [
          -19958,
          107082396
         ],
         "y": [
          39425000000,
          39425000000
         ]
        },
        {
         "marker": {
          "size": 10
         },
         "mode": "markers",
         "name": "Industrials",
         "text": [
          "3M",
          "Boeing",
          "Caterpillar Inc.",
          "Emerson Electric",
          "FedEx",
          "General Dynamics",
          "General Electric",
          "Honeywell Inc.",
          "Lockheed Martin Corp.",
          "Raytheon Technologies",
          "Union Pacific Corp",
          "United Parcel Service"
         ],
         "textposition": "top center",
         "type": "scatter",
         "x": [
          5370000,
          1346000,
          1774000,
          863684,
          16402161,
          762200,
          2390000,
          2024133,
          771435,
          1726534,
          10415469,
          14954000
         ],
         "y": [
          32136000000,
          76559000000,
          53800000000,
          18372000000,
          69693000000,
          39350000000,
          95214000000,
          36709000000,
          59810000000,
          29176000000,
          21700000000,
          74094000000
         ]
        },
        {
         "marker": {
          "size": 10
         },
         "mode": "markers",
         "name": "Healthcare",
         "text": [
          "Abbott Laboratories",
          "AbbVie Inc.",
          "Amgen Inc.",
          "Biogen Inc.",
          "Bristol Myers Squibb",
          "CVS Health",
          "Danaher",
          "Eli Lilly",
          "Gilead Sciences Inc.",
          "Johnson & Johnson",
          "Medtronic",
          "Merck & Co.",
          "Pfizer Inc.",
          "Thermo Fisher Scientific",
          "United Health Group",
          "Walgreens Boots Alliance"
         ],
         "textposition": "top center",
         "type": "scatter",
         "x": [
          972000,
          564198,
          296314,
          67137,
          null,
          1181796,
          null,
          864000,
          73735,
          933636,
          288772,
          1071970,
          1368843,
          null,
          167127,
          2034000
         ],
         "y": [
          31904000000,
          33266000000,
          23400000000,
          13500000000,
          26145000000,
          256776000000,
          17910000000,
          22320000000,
          22449000000,
          82060000000,
          30557000000,
          42290000000,
          51750000000,
          25540000000,
          242200000000,
          136900000000
         ]
        },
        {
         "marker": {
          "size": 10
         },
         "mode": "markers",
         "name": "Technology",
         "text": [
          "Accenture",
          "Adobe Inc.",
          "Apple Inc.",
          "Cisco Systems",
          "IBM Corp.",
          "Intel Corp.",
          "Microsoft Corp.",
          "Nvidia",
          "Oracle",
          "QUALCOMM Inc.",
          "Salesforce",
          "Texas Instruments"
         ],
         "textposition": "top center",
         "type": "scatter",
         "x": [
          233603,
          55342,
          50549,
          228609,
          937256,
          2788000,
          388787,
          62788,
          365542,
          189350,
          0,
          980009
         ],
         "y": [
          43200000000,
          11171000000,
          260174000000,
          51900000000,
          77140000000,
          71900000000,
          125800000000,
          11720000000,
          39500000000,
          24270000000,
          13280000000,
          14318000000
         ]
        },
        {
         "marker": {
          "size": 10
         },
         "mode": "markers",
         "name": "Financial Services",
         "text": [
          "Allstate Corp",
          "American Express",
          "American International Group (AIG)",
          "Bank of America",
          "Berkshire Hathaway Inc.",
          "BlackRock Inc.",
          "Capital One Financial",
          "Citigroup Inc.",
          "Goldman Sachs Group",
          "JPMorgan Chase & Co.",
          "MasterCard Inc.",
          "MetLife Inc.",
          "Morgan Stanley",
          "PayPal",
          "The Bank of New York Mellon",
          "US Bancorp",
          "Visa Inc.",
          "Wells Fargo"
         ],
         "textposition": "top center",
         "type": "scatter",
         "x": [
          113460,
          27516,
          110902,
          80162,
          null,
          5589,
          9630,
          616900,
          21782,
          637797,
          4920.4,
          13613,
          204500,
          56900,
          -19958,
          232929,
          60008,
          96981
         ],
         "y": [
          44675000000,
          43556000000,
          49750000000,
          91240000000,
          254616000000,
          14539000000,
          28600000000,
          103449000000,
          36546000000,
          115600000000,
          16883000000,
          67941000000,
          41419000000,
          17770000000,
          20820000000,
          25775000000,
          23000000000,
          85060000000
         ]
        },
        {
         "marker": {
          "size": 10
         },
         "mode": "markers",
         "name": "Communication Services",
         "text": [
          "Alphabet Inc. / Google",
          "AT&T Inc.",
          "Charter Communications Inc.",
          "Comcast",
          "Facebook, Inc.",
          "Netflix Inc.",
          "The Walt Disney Company",
          "Verizon Communications"
         ],
         "textposition": "top center",
         "type": "scatter",
         "x": [
          860953,
          6520000,
          null,
          1995226,
          251000,
          null,
          1786617,
          4341366
         ],
         "y": [
          161857000000,
          181200000000,
          45764000000,
          108942000000,
          70697000000,
          20160000000,
          69570000000,
          131860000000
         ]
        },
        {
         "marker": {
          "size": 10
         },
         "mode": "markers",
         "name": "Consumer Staples",
         "text": [
          "Altria Group Inc",
          "Coca-Cola",
          "Colgate-Palmolive",
          "Costco",
          "Kraft Heinz Co",
          "Mondelez International",
          "PepsiCo Inc.",
          "Philip Morris International",
          "Procter & Gamble",
          "Target Corp.",
          "Walmart"
         ],
         "textposition": "top center",
         "type": "scatter",
         "x": [
          301416,
          5560000,
          474000,
          2582436.41,
          1422322,
          1762939,
          4977670,
          557158,
          4050000,
          2298450,
          17563596
         ],
         "y": [
          25364000000,
          37266000000,
          15693000000,
          152703000000,
          24970000000,
          25870000000,
          67160000000,
          79820000000,
          67680000000,
          78100000000,
          524000000000
         ]
        },
        {
         "marker": {
          "size": 10
         },
         "mode": "markers",
         "name": "Consumer Discretionary",
         "text": [
          "Amazon.com Inc.",
          "Booking Holdings Inc.",
          "Ford Motor Company",
          "General Motors",
          "Home Depot",
          "Lowe's Companies, Inc.",
          "McDonald's Corp.",
          "Nike Inc.",
          "Starbucks Corp."
         ],
         "textposition": "top center",
         "type": "scatter",
         "x": [
          11260000,
          null,
          4520129,
          5311575,
          1856965,
          2108505,
          599148.83,
          255779,
          662899.5
         ],
         "y": [
          280000000000,
          15066000000,
          155900000000,
          137237000000,
          110200000000,
          71300000000,
          21076000000,
          39100000000,
          26510000000
         ]
        },
        {
         "marker": {
          "size": 10
         },
         "mode": "markers",
         "name": "Real Estate",
         "text": [
          "American Tower",
          "Simon Property Group Inc."
         ],
         "textposition": "top center",
         "type": "scatter",
         "x": [
          2244757,
          266578.006
         ],
         "y": [
          7580000000,
          5755000000
         ]
        },
        {
         "marker": {
          "size": 10
         },
         "mode": "markers",
         "name": "Energy",
         "text": [
          "Chevron",
          "ConocoPhillips",
          "Exxon Mobil",
          "Kinder Morgan Inc.",
          "Occidental Petroleum",
          "Schlumberger Ltd."
         ],
         "textposition": "top center",
         "type": "scatter",
         "x": [
          57000000,
          20500000,
          null,
          null,
          28850197,
          null
         ],
         "y": [
          146516000000,
          36670000000,
          264938000000,
          13209000000,
          21230000000,
          32900000000
         ]
        },
        {
         "marker": {
          "size": 10
         },
         "mode": "markers",
         "name": "Materials",
         "text": [
          "Dow Inc.",
          "DuPont"
         ],
         "textposition": "top center",
         "type": "scatter",
         "x": [
          33650000,
          5380000
         ],
         "y": [
          42951000000,
          21570000000
         ]
        },
        {
         "marker": {
          "size": 10
         },
         "mode": "markers",
         "name": "Utilities",
         "text": [
          "Duke Energy",
          "Exelon",
          "Nextera Energy Inc.",
          "Southern Company"
         ],
         "textposition": "top center",
         "type": "scatter",
         "x": [
          104122000,
          14309000,
          107082396,
          88249133
         ],
         "y": [
          25079000000,
          34438000000,
          19204000000,
          21419000000
         ]
        },
        {
         "marker": {
          "size": 10
         },
         "mode": "markers",
         "name": "nan",
         "text": [],
         "textposition": "top center",
         "type": "scatter",
         "x": [],
         "y": []
        }
       ],
       "layout": {
        "annotations": [
         {
          "bgcolor": "blue",
          "font": {
           "color": "white"
          },
          "opacity": 0.5,
          "showarrow": false,
          "text": "<b>Corporate Behemoths</b> <br> High Revenue, High Emissions",
          "x": 0.1,
          "xref": "x domain",
          "y": 1.1,
          "yref": "paper"
         },
         {
          "bgcolor": "blue",
          "font": {
           "color": "white"
          },
          "opacity": 0.5,
          "showarrow": false,
          "text": "<b>Sustainability Leaders</b> <br> High Revenue, Low Emissions",
          "x": 0.9,
          "xref": "x domain",
          "y": 1.1,
          "yref": "paper"
         },
         {
          "bgcolor": "blue",
          "font": {
           "color": "white"
          },
          "opacity": 0.5,
          "showarrow": false,
          "text": "<b>Worst Offenders</b> <br> Low Revenue, High Emissions",
          "x": 0.1,
          "xref": "x domain",
          "y": -0.15,
          "yref": "paper"
         },
         {
          "bgcolor": "blue",
          "font": {
           "color": "white"
          },
          "opacity": 0.5,
          "showarrow": false,
          "text": "<b>Small Players</b> <br> Low Revenue, Low Emissions",
          "x": 0.9,
          "xref": "x domain",
          "y": -0.15,
          "yref": "paper"
         }
        ],
        "plot_bgcolor": "antiquewhite",
        "template": {
         "data": {
          "bar": [
           {
            "error_x": {
             "color": "#2a3f5f"
            },
            "error_y": {
             "color": "#2a3f5f"
            },
            "marker": {
             "line": {
              "color": "#E5ECF6",
              "width": 0.5
             }
            },
            "type": "bar"
           }
          ],
          "barpolar": [
           {
            "marker": {
             "line": {
              "color": "#E5ECF6",
              "width": 0.5
             }
            },
            "type": "barpolar"
           }
          ],
          "carpet": [
           {
            "aaxis": {
             "endlinecolor": "#2a3f5f",
             "gridcolor": "white",
             "linecolor": "white",
             "minorgridcolor": "white",
             "startlinecolor": "#2a3f5f"
            },
            "baxis": {
             "endlinecolor": "#2a3f5f",
             "gridcolor": "white",
             "linecolor": "white",
             "minorgridcolor": "white",
             "startlinecolor": "#2a3f5f"
            },
            "type": "carpet"
           }
          ],
          "choropleth": [
           {
            "colorbar": {
             "outlinewidth": 0,
             "ticks": ""
            },
            "type": "choropleth"
           }
          ],
          "contour": [
           {
            "colorbar": {
             "outlinewidth": 0,
             "ticks": ""
            },
            "colorscale": [
             [
              0,
              "#0d0887"
             ],
             [
              0.1111111111111111,
              "#46039f"
             ],
             [
              0.2222222222222222,
              "#7201a8"
             ],
             [
              0.3333333333333333,
              "#9c179e"
             ],
             [
              0.4444444444444444,
              "#bd3786"
             ],
             [
              0.5555555555555556,
              "#d8576b"
             ],
             [
              0.6666666666666666,
              "#ed7953"
             ],
             [
              0.7777777777777778,
              "#fb9f3a"
             ],
             [
              0.8888888888888888,
              "#fdca26"
             ],
             [
              1,
              "#f0f921"
             ]
            ],
            "type": "contour"
           }
          ],
          "contourcarpet": [
           {
            "colorbar": {
             "outlinewidth": 0,
             "ticks": ""
            },
            "type": "contourcarpet"
           }
          ],
          "heatmap": [
           {
            "colorbar": {
             "outlinewidth": 0,
             "ticks": ""
            },
            "colorscale": [
             [
              0,
              "#0d0887"
             ],
             [
              0.1111111111111111,
              "#46039f"
             ],
             [
              0.2222222222222222,
              "#7201a8"
             ],
             [
              0.3333333333333333,
              "#9c179e"
             ],
             [
              0.4444444444444444,
              "#bd3786"
             ],
             [
              0.5555555555555556,
              "#d8576b"
             ],
             [
              0.6666666666666666,
              "#ed7953"
             ],
             [
              0.7777777777777778,
              "#fb9f3a"
             ],
             [
              0.8888888888888888,
              "#fdca26"
             ],
             [
              1,
              "#f0f921"
             ]
            ],
            "type": "heatmap"
           }
          ],
          "heatmapgl": [
           {
            "colorbar": {
             "outlinewidth": 0,
             "ticks": ""
            },
            "colorscale": [
             [
              0,
              "#0d0887"
             ],
             [
              0.1111111111111111,
              "#46039f"
             ],
             [
              0.2222222222222222,
              "#7201a8"
             ],
             [
              0.3333333333333333,
              "#9c179e"
             ],
             [
              0.4444444444444444,
              "#bd3786"
             ],
             [
              0.5555555555555556,
              "#d8576b"
             ],
             [
              0.6666666666666666,
              "#ed7953"
             ],
             [
              0.7777777777777778,
              "#fb9f3a"
             ],
             [
              0.8888888888888888,
              "#fdca26"
             ],
             [
              1,
              "#f0f921"
             ]
            ],
            "type": "heatmapgl"
           }
          ],
          "histogram": [
           {
            "marker": {
             "colorbar": {
              "outlinewidth": 0,
              "ticks": ""
             }
            },
            "type": "histogram"
           }
          ],
          "histogram2d": [
           {
            "colorbar": {
             "outlinewidth": 0,
             "ticks": ""
            },
            "colorscale": [
             [
              0,
              "#0d0887"
             ],
             [
              0.1111111111111111,
              "#46039f"
             ],
             [
              0.2222222222222222,
              "#7201a8"
             ],
             [
              0.3333333333333333,
              "#9c179e"
             ],
             [
              0.4444444444444444,
              "#bd3786"
             ],
             [
              0.5555555555555556,
              "#d8576b"
             ],
             [
              0.6666666666666666,
              "#ed7953"
             ],
             [
              0.7777777777777778,
              "#fb9f3a"
             ],
             [
              0.8888888888888888,
              "#fdca26"
             ],
             [
              1,
              "#f0f921"
             ]
            ],
            "type": "histogram2d"
           }
          ],
          "histogram2dcontour": [
           {
            "colorbar": {
             "outlinewidth": 0,
             "ticks": ""
            },
            "colorscale": [
             [
              0,
              "#0d0887"
             ],
             [
              0.1111111111111111,
              "#46039f"
             ],
             [
              0.2222222222222222,
              "#7201a8"
             ],
             [
              0.3333333333333333,
              "#9c179e"
             ],
             [
              0.4444444444444444,
              "#bd3786"
             ],
             [
              0.5555555555555556,
              "#d8576b"
             ],
             [
              0.6666666666666666,
              "#ed7953"
             ],
             [
              0.7777777777777778,
              "#fb9f3a"
             ],
             [
              0.8888888888888888,
              "#fdca26"
             ],
             [
              1,
              "#f0f921"
             ]
            ],
            "type": "histogram2dcontour"
           }
          ],
          "mesh3d": [
           {
            "colorbar": {
             "outlinewidth": 0,
             "ticks": ""
            },
            "type": "mesh3d"
           }
          ],
          "parcoords": [
           {
            "line": {
             "colorbar": {
              "outlinewidth": 0,
              "ticks": ""
             }
            },
            "type": "parcoords"
           }
          ],
          "pie": [
           {
            "automargin": true,
            "type": "pie"
           }
          ],
          "scatter": [
           {
            "marker": {
             "colorbar": {
              "outlinewidth": 0,
              "ticks": ""
             }
            },
            "type": "scatter"
           }
          ],
          "scatter3d": [
           {
            "line": {
             "colorbar": {
              "outlinewidth": 0,
              "ticks": ""
             }
            },
            "marker": {
             "colorbar": {
              "outlinewidth": 0,
              "ticks": ""
             }
            },
            "type": "scatter3d"
           }
          ],
          "scattercarpet": [
           {
            "marker": {
             "colorbar": {
              "outlinewidth": 0,
              "ticks": ""
             }
            },
            "type": "scattercarpet"
           }
          ],
          "scattergeo": [
           {
            "marker": {
             "colorbar": {
              "outlinewidth": 0,
              "ticks": ""
             }
            },
            "type": "scattergeo"
           }
          ],
          "scattergl": [
           {
            "marker": {
             "colorbar": {
              "outlinewidth": 0,
              "ticks": ""
             }
            },
            "type": "scattergl"
           }
          ],
          "scattermapbox": [
           {
            "marker": {
             "colorbar": {
              "outlinewidth": 0,
              "ticks": ""
             }
            },
            "type": "scattermapbox"
           }
          ],
          "scatterpolar": [
           {
            "marker": {
             "colorbar": {
              "outlinewidth": 0,
              "ticks": ""
             }
            },
            "type": "scatterpolar"
           }
          ],
          "scatterpolargl": [
           {
            "marker": {
             "colorbar": {
              "outlinewidth": 0,
              "ticks": ""
             }
            },
            "type": "scatterpolargl"
           }
          ],
          "scatterternary": [
           {
            "marker": {
             "colorbar": {
              "outlinewidth": 0,
              "ticks": ""
             }
            },
            "type": "scatterternary"
           }
          ],
          "surface": [
           {
            "colorbar": {
             "outlinewidth": 0,
             "ticks": ""
            },
            "colorscale": [
             [
              0,
              "#0d0887"
             ],
             [
              0.1111111111111111,
              "#46039f"
             ],
             [
              0.2222222222222222,
              "#7201a8"
             ],
             [
              0.3333333333333333,
              "#9c179e"
             ],
             [
              0.4444444444444444,
              "#bd3786"
             ],
             [
              0.5555555555555556,
              "#d8576b"
             ],
             [
              0.6666666666666666,
              "#ed7953"
             ],
             [
              0.7777777777777778,
              "#fb9f3a"
             ],
             [
              0.8888888888888888,
              "#fdca26"
             ],
             [
              1,
              "#f0f921"
             ]
            ],
            "type": "surface"
           }
          ],
          "table": [
           {
            "cells": {
             "fill": {
              "color": "#EBF0F8"
             },
             "line": {
              "color": "white"
             }
            },
            "header": {
             "fill": {
              "color": "#C8D4E3"
             },
             "line": {
              "color": "white"
             }
            },
            "type": "table"
           }
          ]
         },
         "layout": {
          "annotationdefaults": {
           "arrowcolor": "#2a3f5f",
           "arrowhead": 0,
           "arrowwidth": 1
          },
          "autotypenumbers": "strict",
          "coloraxis": {
           "colorbar": {
            "outlinewidth": 0,
            "ticks": ""
           }
          },
          "colorscale": {
           "diverging": [
            [
             0,
             "#8e0152"
            ],
            [
             0.1,
             "#c51b7d"
            ],
            [
             0.2,
             "#de77ae"
            ],
            [
             0.3,
             "#f1b6da"
            ],
            [
             0.4,
             "#fde0ef"
            ],
            [
             0.5,
             "#f7f7f7"
            ],
            [
             0.6,
             "#e6f5d0"
            ],
            [
             0.7,
             "#b8e186"
            ],
            [
             0.8,
             "#7fbc41"
            ],
            [
             0.9,
             "#4d9221"
            ],
            [
             1,
             "#276419"
            ]
           ],
           "sequential": [
            [
             0,
             "#0d0887"
            ],
            [
             0.1111111111111111,
             "#46039f"
            ],
            [
             0.2222222222222222,
             "#7201a8"
            ],
            [
             0.3333333333333333,
             "#9c179e"
            ],
            [
             0.4444444444444444,
             "#bd3786"
            ],
            [
             0.5555555555555556,
             "#d8576b"
            ],
            [
             0.6666666666666666,
             "#ed7953"
            ],
            [
             0.7777777777777778,
             "#fb9f3a"
            ],
            [
             0.8888888888888888,
             "#fdca26"
            ],
            [
             1,
             "#f0f921"
            ]
           ],
           "sequentialminus": [
            [
             0,
             "#0d0887"
            ],
            [
             0.1111111111111111,
             "#46039f"
            ],
            [
             0.2222222222222222,
             "#7201a8"
            ],
            [
             0.3333333333333333,
             "#9c179e"
            ],
            [
             0.4444444444444444,
             "#bd3786"
            ],
            [
             0.5555555555555556,
             "#d8576b"
            ],
            [
             0.6666666666666666,
             "#ed7953"
            ],
            [
             0.7777777777777778,
             "#fb9f3a"
            ],
            [
             0.8888888888888888,
             "#fdca26"
            ],
            [
             1,
             "#f0f921"
            ]
           ]
          },
          "colorway": [
           "#636efa",
           "#EF553B",
           "#00cc96",
           "#ab63fa",
           "#FFA15A",
           "#19d3f3",
           "#FF6692",
           "#B6E880",
           "#FF97FF",
           "#FECB52"
          ],
          "font": {
           "color": "#2a3f5f"
          },
          "geo": {
           "bgcolor": "white",
           "lakecolor": "white",
           "landcolor": "#E5ECF6",
           "showlakes": true,
           "showland": true,
           "subunitcolor": "white"
          },
          "hoverlabel": {
           "align": "left"
          },
          "hovermode": "closest",
          "mapbox": {
           "style": "light"
          },
          "paper_bgcolor": "white",
          "plot_bgcolor": "#E5ECF6",
          "polar": {
           "angularaxis": {
            "gridcolor": "white",
            "linecolor": "white",
            "ticks": ""
           },
           "bgcolor": "#E5ECF6",
           "radialaxis": {
            "gridcolor": "white",
            "linecolor": "white",
            "ticks": ""
           }
          },
          "scene": {
           "xaxis": {
            "backgroundcolor": "#E5ECF6",
            "gridcolor": "white",
            "gridwidth": 2,
            "linecolor": "white",
            "showbackground": true,
            "ticks": "",
            "zerolinecolor": "white"
           },
           "yaxis": {
            "backgroundcolor": "#E5ECF6",
            "gridcolor": "white",
            "gridwidth": 2,
            "linecolor": "white",
            "showbackground": true,
            "ticks": "",
            "zerolinecolor": "white"
           },
           "zaxis": {
            "backgroundcolor": "#E5ECF6",
            "gridcolor": "white",
            "gridwidth": 2,
            "linecolor": "white",
            "showbackground": true,
            "ticks": "",
            "zerolinecolor": "white"
           }
          },
          "shapedefaults": {
           "line": {
            "color": "#2a3f5f"
           }
          },
          "ternary": {
           "aaxis": {
            "gridcolor": "white",
            "linecolor": "white",
            "ticks": ""
           },
           "baxis": {
            "gridcolor": "white",
            "linecolor": "white",
            "ticks": ""
           },
           "bgcolor": "#E5ECF6",
           "caxis": {
            "gridcolor": "white",
            "linecolor": "white",
            "ticks": ""
           }
          },
          "title": {
           "x": 0.05
          },
          "xaxis": {
           "automargin": true,
           "gridcolor": "white",
           "linecolor": "white",
           "ticks": "",
           "title": {
            "standoff": 15
           },
           "zerolinecolor": "white",
           "zerolinewidth": 2
          },
          "yaxis": {
           "automargin": true,
           "gridcolor": "white",
           "linecolor": "white",
           "ticks": "",
           "title": {
            "standoff": 15
           },
           "zerolinecolor": "white",
           "zerolinewidth": 2
          }
         }
        },
        "title": {
         "font": {
          "family": "Arial",
          "size": 25
         },
         "text": "GHG Emissions Intensity",
         "x": 0.5
        },
        "updatemenus": [
         {
          "buttons": [
           {
            "args": [
             "mode",
             "markers",
             [
              2,
              3,
              4,
              5,
              6,
              7,
              8,
              9,
              10,
              11,
              12
             ]
            ],
            "label": "Hide names",
            "method": "restyle"
           },
           {
            "args": [
             "mode",
             "markers+text",
             [
              2,
              3,
              4,
              5,
              6,
              7,
              8,
              9,
              10,
              11,
              12
             ]
            ],
            "label": "Show names",
            "method": "restyle"
           }
          ],
          "direction": "left",
          "pad": {
           "r": 10,
           "t": 10
          },
          "showactive": true,
          "type": "buttons",
          "x": 1,
          "xanchor": "left",
          "y": 1.25,
          "yanchor": "top"
         }
        ],
        "xaxis": {
         "autorange": "reversed",
         "type": "log"
        },
        "yaxis": {
         "type": "log"
        }
       }
      },
      "text/html": "<div>                            <div id=\"9f3ad853-dbab-47c6-a989-3217892b0c94\" class=\"plotly-graph-div\" style=\"height:525px; width:100%;\"></div>            <script type=\"text/javascript\">                require([\"plotly\"], function(Plotly) {                    window.PLOTLYENV=window.PLOTLYENV || {};                                    if (document.getElementById(\"9f3ad853-dbab-47c6-a989-3217892b0c94\")) {                    Plotly.newPlot(                        \"9f3ad853-dbab-47c6-a989-3217892b0c94\",                        [{\"line\": {\"color\": \"gray\", \"dash\": \"dash\", \"width\": 2}, \"mode\": \"lines\", \"name\": \"Median y\", \"showlegend\": false, \"type\": \"scatter\", \"x\": [898818.0, 898818.0], \"y\": [5755000000.0, 524000000000.0]}, {\"line\": {\"color\": \"gray\", \"dash\": \"dash\", \"width\": 2}, \"mode\": \"lines\", \"name\": \"Median x\", \"showlegend\": false, \"type\": \"scatter\", \"x\": [-19958.0, 107082396.0], \"y\": [39425000000.0, 39425000000.0]}, {\"marker\": {\"size\": 10}, \"mode\": \"markers\", \"name\": \"Industrials\", \"text\": [\"3M\", \"Boeing\", \"Caterpillar Inc.\", \"Emerson Electric\", \"FedEx\", \"General Dynamics\", \"General Electric\", \"Honeywell Inc.\", \"Lockheed Martin Corp.\", \"Raytheon Technologies\", \"Union Pacific Corp\", \"United Parcel Service\"], \"textposition\": \"top center\", \"type\": \"scatter\", \"x\": [5370000.0, 1346000.0, 1774000.0, 863684.0, 16402161.0, 762200.0, 2390000.0, 2024133.0, 771435.0, 1726534.0, 10415469.0, 14954000.0], \"y\": [32136000000.0, 76559000000.0, 53800000000.0, 18372000000.0, 69693000000.0, 39350000000.0, 95214000000.0, 36709000000.0, 59810000000.0, 29176000000.0, 21700000000.0, 74094000000.0]}, {\"marker\": {\"size\": 10}, \"mode\": \"markers\", \"name\": \"Healthcare\", \"text\": [\"Abbott Laboratories\", \"AbbVie Inc.\", \"Amgen Inc.\", \"Biogen Inc.\", \"Bristol Myers Squibb\", \"CVS Health\", \"Danaher\", \"Eli Lilly\", \"Gilead Sciences Inc.\", \"Johnson & Johnson\", \"Medtronic\", \"Merck & Co.\", \"Pfizer Inc.\", \"Thermo Fisher Scientific\", \"United Health Group\", \"Walgreens Boots Alliance\"], \"textposition\": \"top center\", \"type\": \"scatter\", \"x\": [972000.0, 564198.0, 296314.0, 67137.0, null, 1181796.0, null, 864000.0, 73735.0, 933636.0, 288772.0, 1071970.0, 1368843.0, null, 167127.0, 2034000.0], \"y\": [31904000000.0, 33266000000.0, 23400000000.0, 13500000000.0, 26145000000.0, 256776000000.0, 17910000000.0, 22320000000.0, 22449000000.0, 82060000000.0, 30557000000.0, 42290000000.0, 51750000000.0, 25540000000.0, 242200000000.0, 136900000000.0]}, {\"marker\": {\"size\": 10}, \"mode\": \"markers\", \"name\": \"Technology\", \"text\": [\"Accenture\", \"Adobe Inc.\", \"Apple Inc.\", \"Cisco Systems\", \"IBM Corp.\", \"Intel Corp.\", \"Microsoft Corp.\", \"Nvidia\", \"Oracle\", \"QUALCOMM Inc.\", \"Salesforce\", \"Texas Instruments\"], \"textposition\": \"top center\", \"type\": \"scatter\", \"x\": [233603.0, 55342.0, 50549.0, 228609.0, 937256.0, 2788000.0, 388787.0, 62788.0, 365542.0, 189350.0, 0.0, 980009.0], \"y\": [43200000000.0, 11171000000.0, 260174000000.0, 51900000000.0, 77140000000.0, 71900000000.0, 125800000000.0, 11720000000.0, 39500000000.0, 24270000000.0, 13280000000.0, 14318000000.0]}, {\"marker\": {\"size\": 10}, \"mode\": \"markers\", \"name\": \"Financial Services\", \"text\": [\"Allstate Corp\", \"American Express\", \"American International Group (AIG)\", \"Bank of America\", \"Berkshire Hathaway Inc.\", \"BlackRock Inc.\", \"Capital One Financial\", \"Citigroup Inc.\", \"Goldman Sachs Group\", \"JPMorgan Chase & Co.\", \"MasterCard Inc.\", \"MetLife Inc.\", \"Morgan Stanley\", \"PayPal\", \"The Bank of New York Mellon\", \"US Bancorp\", \"Visa Inc.\", \"Wells Fargo\"], \"textposition\": \"top center\", \"type\": \"scatter\", \"x\": [113460.0, 27516.0, 110902.0, 80162.0, null, 5589.0, 9630.0, 616900.0, 21782.0, 637797.0, 4920.4, 13613.0, 204500.0, 56900.0, -19958.0, 232929.0, 60008.0, 96981.0], \"y\": [44675000000.0, 43556000000.0, 49750000000.0, 91240000000.0, 254616000000.0, 14539000000.0, 28600000000.0, 103449000000.0, 36546000000.0, 115600000000.0, 16883000000.0, 67941000000.0, 41419000000.0, 17770000000.0, 20820000000.0, 25775000000.0, 23000000000.0, 85060000000.0]}, {\"marker\": {\"size\": 10}, \"mode\": \"markers\", \"name\": \"Communication Services\", \"text\": [\"Alphabet Inc. / Google\", \"AT&T Inc.\", \"Charter Communications Inc.\", \"Comcast\", \"Facebook, Inc.\", \"Netflix Inc.\", \"The Walt Disney Company\", \"Verizon Communications\"], \"textposition\": \"top center\", \"type\": \"scatter\", \"x\": [860953.0, 6520000.0, null, 1995226.0, 251000.0, null, 1786617.0, 4341366.0], \"y\": [161857000000.0, 181200000000.0, 45764000000.0, 108942000000.0, 70697000000.0, 20160000000.0, 69570000000.0, 131860000000.0]}, {\"marker\": {\"size\": 10}, \"mode\": \"markers\", \"name\": \"Consumer Staples\", \"text\": [\"Altria Group Inc\", \"Coca-Cola\", \"Colgate-Palmolive\", \"Costco\", \"Kraft Heinz Co\", \"Mondelez International\", \"PepsiCo Inc.\", \"Philip Morris International\", \"Procter & Gamble\", \"Target Corp.\", \"Walmart\"], \"textposition\": \"top center\", \"type\": \"scatter\", \"x\": [301416.0, 5560000.0, 474000.0, 2582436.41, 1422322.0, 1762939.0, 4977670.0, 557158.0, 4050000.0, 2298450.0, 17563596.0], \"y\": [25364000000.0, 37266000000.0, 15693000000.0, 152703000000.0, 24970000000.0, 25870000000.0, 67160000000.0, 79820000000.0, 67680000000.0, 78100000000.0, 524000000000.0]}, {\"marker\": {\"size\": 10}, \"mode\": \"markers\", \"name\": \"Consumer Discretionary\", \"text\": [\"Amazon.com Inc.\", \"Booking Holdings Inc.\", \"Ford Motor Company\", \"General Motors\", \"Home Depot\", \"Lowe's Companies, Inc.\", \"McDonald's Corp.\", \"Nike Inc.\", \"Starbucks Corp.\"], \"textposition\": \"top center\", \"type\": \"scatter\", \"x\": [11260000.0, null, 4520129.0, 5311575.0, 1856965.0, 2108505.0, 599148.83, 255779.0, 662899.5], \"y\": [280000000000.0, 15066000000.0, 155900000000.0, 137237000000.0, 110200000000.0, 71300000000.0, 21076000000.0, 39100000000.0, 26510000000.0]}, {\"marker\": {\"size\": 10}, \"mode\": \"markers\", \"name\": \"Real Estate\", \"text\": [\"American Tower\", \"Simon Property Group Inc.\"], \"textposition\": \"top center\", \"type\": \"scatter\", \"x\": [2244757.0, 266578.006], \"y\": [7580000000.0, 5755000000.0]}, {\"marker\": {\"size\": 10}, \"mode\": \"markers\", \"name\": \"Energy\", \"text\": [\"Chevron\", \"ConocoPhillips\", \"Exxon Mobil\", \"Kinder Morgan Inc.\", \"Occidental Petroleum\", \"Schlumberger Ltd.\"], \"textposition\": \"top center\", \"type\": \"scatter\", \"x\": [57000000.0, 20500000.0, null, null, 28850197.0, null], \"y\": [146516000000.0, 36670000000.0, 264938000000.0, 13209000000.0, 21230000000.0, 32900000000.0]}, {\"marker\": {\"size\": 10}, \"mode\": \"markers\", \"name\": \"Materials\", \"text\": [\"Dow Inc.\", \"DuPont\"], \"textposition\": \"top center\", \"type\": \"scatter\", \"x\": [33650000.0, 5380000.0], \"y\": [42951000000.0, 21570000000.0]}, {\"marker\": {\"size\": 10}, \"mode\": \"markers\", \"name\": \"Utilities\", \"text\": [\"Duke Energy\", \"Exelon\", \"Nextera Energy Inc.\", \"Southern Company\"], \"textposition\": \"top center\", \"type\": \"scatter\", \"x\": [104122000.0, 14309000.0, 107082396.0, 88249133.0], \"y\": [25079000000.0, 34438000000.0, 19204000000.0, 21419000000.0]}, {\"marker\": {\"size\": 10}, \"mode\": \"markers\", \"name\": \"nan\", \"text\": [], \"textposition\": \"top center\", \"type\": \"scatter\", \"x\": [], \"y\": []}],                        {\"annotations\": [{\"bgcolor\": \"blue\", \"font\": {\"color\": \"white\"}, \"opacity\": 0.5, \"showarrow\": false, \"text\": \"<b>Corporate Behemoths</b> <br> High Revenue, High Emissions\", \"x\": 0.1, \"xref\": \"x domain\", \"y\": 1.1, \"yref\": \"paper\"}, {\"bgcolor\": \"blue\", \"font\": {\"color\": \"white\"}, \"opacity\": 0.5, \"showarrow\": false, \"text\": \"<b>Sustainability Leaders</b> <br> High Revenue, Low Emissions\", \"x\": 0.9, \"xref\": \"x domain\", \"y\": 1.1, \"yref\": \"paper\"}, {\"bgcolor\": \"blue\", \"font\": {\"color\": \"white\"}, \"opacity\": 0.5, \"showarrow\": false, \"text\": \"<b>Worst Offenders</b> <br> Low Revenue, High Emissions\", \"x\": 0.1, \"xref\": \"x domain\", \"y\": -0.15, \"yref\": \"paper\"}, {\"bgcolor\": \"blue\", \"font\": {\"color\": \"white\"}, \"opacity\": 0.5, \"showarrow\": false, \"text\": \"<b>Small Players</b> <br> Low Revenue, Low Emissions\", \"x\": 0.9, \"xref\": \"x domain\", \"y\": -0.15, \"yref\": \"paper\"}], \"plot_bgcolor\": \"antiquewhite\", \"template\": {\"data\": {\"bar\": [{\"error_x\": {\"color\": \"#2a3f5f\"}, \"error_y\": {\"color\": \"#2a3f5f\"}, \"marker\": {\"line\": {\"color\": \"#E5ECF6\", \"width\": 0.5}}, \"type\": \"bar\"}], \"barpolar\": [{\"marker\": {\"line\": {\"color\": \"#E5ECF6\", \"width\": 0.5}}, \"type\": \"barpolar\"}], \"carpet\": [{\"aaxis\": {\"endlinecolor\": \"#2a3f5f\", \"gridcolor\": \"white\", \"linecolor\": \"white\", \"minorgridcolor\": \"white\", \"startlinecolor\": \"#2a3f5f\"}, \"baxis\": {\"endlinecolor\": \"#2a3f5f\", \"gridcolor\": \"white\", \"linecolor\": \"white\", \"minorgridcolor\": \"white\", \"startlinecolor\": \"#2a3f5f\"}, \"type\": \"carpet\"}], \"choropleth\": [{\"colorbar\": {\"outlinewidth\": 0, \"ticks\": \"\"}, \"type\": \"choropleth\"}], \"contour\": [{\"colorbar\": {\"outlinewidth\": 0, \"ticks\": \"\"}, \"colorscale\": [[0.0, \"#0d0887\"], [0.1111111111111111, \"#46039f\"], [0.2222222222222222, \"#7201a8\"], [0.3333333333333333, \"#9c179e\"], [0.4444444444444444, \"#bd3786\"], [0.5555555555555556, \"#d8576b\"], [0.6666666666666666, \"#ed7953\"], [0.7777777777777778, \"#fb9f3a\"], [0.8888888888888888, \"#fdca26\"], [1.0, \"#f0f921\"]], \"type\": \"contour\"}], \"contourcarpet\": [{\"colorbar\": {\"outlinewidth\": 0, \"ticks\": \"\"}, \"type\": \"contourcarpet\"}], \"heatmap\": [{\"colorbar\": {\"outlinewidth\": 0, \"ticks\": \"\"}, \"colorscale\": [[0.0, \"#0d0887\"], [0.1111111111111111, \"#46039f\"], [0.2222222222222222, \"#7201a8\"], [0.3333333333333333, \"#9c179e\"], [0.4444444444444444, \"#bd3786\"], [0.5555555555555556, \"#d8576b\"], [0.6666666666666666, \"#ed7953\"], [0.7777777777777778, \"#fb9f3a\"], [0.8888888888888888, \"#fdca26\"], [1.0, \"#f0f921\"]], \"type\": \"heatmap\"}], \"heatmapgl\": [{\"colorbar\": {\"outlinewidth\": 0, \"ticks\": \"\"}, \"colorscale\": [[0.0, \"#0d0887\"], [0.1111111111111111, \"#46039f\"], [0.2222222222222222, \"#7201a8\"], [0.3333333333333333, \"#9c179e\"], [0.4444444444444444, \"#bd3786\"], [0.5555555555555556, \"#d8576b\"], [0.6666666666666666, \"#ed7953\"], [0.7777777777777778, \"#fb9f3a\"], [0.8888888888888888, \"#fdca26\"], [1.0, \"#f0f921\"]], \"type\": \"heatmapgl\"}], \"histogram\": [{\"marker\": {\"colorbar\": {\"outlinewidth\": 0, \"ticks\": \"\"}}, \"type\": \"histogram\"}], \"histogram2d\": [{\"colorbar\": {\"outlinewidth\": 0, \"ticks\": \"\"}, \"colorscale\": [[0.0, \"#0d0887\"], [0.1111111111111111, \"#46039f\"], [0.2222222222222222, \"#7201a8\"], [0.3333333333333333, \"#9c179e\"], [0.4444444444444444, \"#bd3786\"], [0.5555555555555556, \"#d8576b\"], [0.6666666666666666, \"#ed7953\"], [0.7777777777777778, \"#fb9f3a\"], [0.8888888888888888, \"#fdca26\"], [1.0, \"#f0f921\"]], \"type\": \"histogram2d\"}], \"histogram2dcontour\": [{\"colorbar\": {\"outlinewidth\": 0, \"ticks\": \"\"}, \"colorscale\": [[0.0, \"#0d0887\"], [0.1111111111111111, \"#46039f\"], [0.2222222222222222, \"#7201a8\"], [0.3333333333333333, \"#9c179e\"], [0.4444444444444444, \"#bd3786\"], [0.5555555555555556, \"#d8576b\"], [0.6666666666666666, \"#ed7953\"], [0.7777777777777778, \"#fb9f3a\"], [0.8888888888888888, \"#fdca26\"], [1.0, \"#f0f921\"]], \"type\": \"histogram2dcontour\"}], \"mesh3d\": [{\"colorbar\": {\"outlinewidth\": 0, \"ticks\": \"\"}, \"type\": \"mesh3d\"}], \"parcoords\": [{\"line\": {\"colorbar\": {\"outlinewidth\": 0, \"ticks\": \"\"}}, \"type\": \"parcoords\"}], \"pie\": [{\"automargin\": true, \"type\": \"pie\"}], \"scatter\": [{\"marker\": {\"colorbar\": {\"outlinewidth\": 0, \"ticks\": \"\"}}, \"type\": \"scatter\"}], \"scatter3d\": [{\"line\": {\"colorbar\": {\"outlinewidth\": 0, \"ticks\": \"\"}}, \"marker\": {\"colorbar\": {\"outlinewidth\": 0, \"ticks\": \"\"}}, \"type\": \"scatter3d\"}], \"scattercarpet\": [{\"marker\": {\"colorbar\": {\"outlinewidth\": 0, \"ticks\": \"\"}}, \"type\": \"scattercarpet\"}], \"scattergeo\": [{\"marker\": {\"colorbar\": {\"outlinewidth\": 0, \"ticks\": \"\"}}, \"type\": \"scattergeo\"}], \"scattergl\": [{\"marker\": {\"colorbar\": {\"outlinewidth\": 0, \"ticks\": \"\"}}, \"type\": \"scattergl\"}], \"scattermapbox\": [{\"marker\": {\"colorbar\": {\"outlinewidth\": 0, \"ticks\": \"\"}}, \"type\": \"scattermapbox\"}], \"scatterpolar\": [{\"marker\": {\"colorbar\": {\"outlinewidth\": 0, \"ticks\": \"\"}}, \"type\": \"scatterpolar\"}], \"scatterpolargl\": [{\"marker\": {\"colorbar\": {\"outlinewidth\": 0, \"ticks\": \"\"}}, \"type\": \"scatterpolargl\"}], \"scatterternary\": [{\"marker\": {\"colorbar\": {\"outlinewidth\": 0, \"ticks\": \"\"}}, \"type\": \"scatterternary\"}], \"surface\": [{\"colorbar\": {\"outlinewidth\": 0, \"ticks\": \"\"}, \"colorscale\": [[0.0, \"#0d0887\"], [0.1111111111111111, \"#46039f\"], [0.2222222222222222, \"#7201a8\"], [0.3333333333333333, \"#9c179e\"], [0.4444444444444444, \"#bd3786\"], [0.5555555555555556, \"#d8576b\"], [0.6666666666666666, \"#ed7953\"], [0.7777777777777778, \"#fb9f3a\"], [0.8888888888888888, \"#fdca26\"], [1.0, \"#f0f921\"]], \"type\": \"surface\"}], \"table\": [{\"cells\": {\"fill\": {\"color\": \"#EBF0F8\"}, \"line\": {\"color\": \"white\"}}, \"header\": {\"fill\": {\"color\": \"#C8D4E3\"}, \"line\": {\"color\": \"white\"}}, \"type\": \"table\"}]}, \"layout\": {\"annotationdefaults\": {\"arrowcolor\": \"#2a3f5f\", \"arrowhead\": 0, \"arrowwidth\": 1}, \"autotypenumbers\": \"strict\", \"coloraxis\": {\"colorbar\": {\"outlinewidth\": 0, \"ticks\": \"\"}}, \"colorscale\": {\"diverging\": [[0, \"#8e0152\"], [0.1, \"#c51b7d\"], [0.2, \"#de77ae\"], [0.3, \"#f1b6da\"], [0.4, \"#fde0ef\"], [0.5, \"#f7f7f7\"], [0.6, \"#e6f5d0\"], [0.7, \"#b8e186\"], [0.8, \"#7fbc41\"], [0.9, \"#4d9221\"], [1, \"#276419\"]], \"sequential\": [[0.0, \"#0d0887\"], [0.1111111111111111, \"#46039f\"], [0.2222222222222222, \"#7201a8\"], [0.3333333333333333, \"#9c179e\"], [0.4444444444444444, \"#bd3786\"], [0.5555555555555556, \"#d8576b\"], [0.6666666666666666, \"#ed7953\"], [0.7777777777777778, \"#fb9f3a\"], [0.8888888888888888, \"#fdca26\"], [1.0, \"#f0f921\"]], \"sequentialminus\": [[0.0, \"#0d0887\"], [0.1111111111111111, \"#46039f\"], [0.2222222222222222, \"#7201a8\"], [0.3333333333333333, \"#9c179e\"], [0.4444444444444444, \"#bd3786\"], [0.5555555555555556, \"#d8576b\"], [0.6666666666666666, \"#ed7953\"], [0.7777777777777778, \"#fb9f3a\"], [0.8888888888888888, \"#fdca26\"], [1.0, \"#f0f921\"]]}, \"colorway\": [\"#636efa\", \"#EF553B\", \"#00cc96\", \"#ab63fa\", \"#FFA15A\", \"#19d3f3\", \"#FF6692\", \"#B6E880\", \"#FF97FF\", \"#FECB52\"], \"font\": {\"color\": \"#2a3f5f\"}, \"geo\": {\"bgcolor\": \"white\", \"lakecolor\": \"white\", \"landcolor\": \"#E5ECF6\", \"showlakes\": true, \"showland\": true, \"subunitcolor\": \"white\"}, \"hoverlabel\": {\"align\": \"left\"}, \"hovermode\": \"closest\", \"mapbox\": {\"style\": \"light\"}, \"paper_bgcolor\": \"white\", \"plot_bgcolor\": \"#E5ECF6\", \"polar\": {\"angularaxis\": {\"gridcolor\": \"white\", \"linecolor\": \"white\", \"ticks\": \"\"}, \"bgcolor\": \"#E5ECF6\", \"radialaxis\": {\"gridcolor\": \"white\", \"linecolor\": \"white\", \"ticks\": \"\"}}, \"scene\": {\"xaxis\": {\"backgroundcolor\": \"#E5ECF6\", \"gridcolor\": \"white\", \"gridwidth\": 2, \"linecolor\": \"white\", \"showbackground\": true, \"ticks\": \"\", \"zerolinecolor\": \"white\"}, \"yaxis\": {\"backgroundcolor\": \"#E5ECF6\", \"gridcolor\": \"white\", \"gridwidth\": 2, \"linecolor\": \"white\", \"showbackground\": true, \"ticks\": \"\", \"zerolinecolor\": \"white\"}, \"zaxis\": {\"backgroundcolor\": \"#E5ECF6\", \"gridcolor\": \"white\", \"gridwidth\": 2, \"linecolor\": \"white\", \"showbackground\": true, \"ticks\": \"\", \"zerolinecolor\": \"white\"}}, \"shapedefaults\": {\"line\": {\"color\": \"#2a3f5f\"}}, \"ternary\": {\"aaxis\": {\"gridcolor\": \"white\", \"linecolor\": \"white\", \"ticks\": \"\"}, \"baxis\": {\"gridcolor\": \"white\", \"linecolor\": \"white\", \"ticks\": \"\"}, \"bgcolor\": \"#E5ECF6\", \"caxis\": {\"gridcolor\": \"white\", \"linecolor\": \"white\", \"ticks\": \"\"}}, \"title\": {\"x\": 0.05}, \"xaxis\": {\"automargin\": true, \"gridcolor\": \"white\", \"linecolor\": \"white\", \"ticks\": \"\", \"title\": {\"standoff\": 15}, \"zerolinecolor\": \"white\", \"zerolinewidth\": 2}, \"yaxis\": {\"automargin\": true, \"gridcolor\": \"white\", \"linecolor\": \"white\", \"ticks\": \"\", \"title\": {\"standoff\": 15}, \"zerolinecolor\": \"white\", \"zerolinewidth\": 2}}}, \"title\": {\"font\": {\"family\": \"Arial\", \"size\": 25}, \"text\": \"GHG Emissions Intensity\", \"x\": 0.5}, \"updatemenus\": [{\"buttons\": [{\"args\": [\"mode\", \"markers\", [2, 3, 4, 5, 6, 7, 8, 9, 10, 11, 12]], \"label\": \"Hide names\", \"method\": \"restyle\"}, {\"args\": [\"mode\", \"markers+text\", [2, 3, 4, 5, 6, 7, 8, 9, 10, 11, 12]], \"label\": \"Show names\", \"method\": \"restyle\"}], \"direction\": \"left\", \"pad\": {\"r\": 10, \"t\": 10}, \"showactive\": true, \"type\": \"buttons\", \"x\": 1.0, \"xanchor\": \"left\", \"y\": 1.25, \"yanchor\": \"top\"}], \"xaxis\": {\"autorange\": \"reversed\", \"type\": \"log\"}, \"yaxis\": {\"type\": \"log\"}},                        {\"responsive\": true}                    ).then(function(){\n                            \nvar gd = document.getElementById('9f3ad853-dbab-47c6-a989-3217892b0c94');\nvar x = new MutationObserver(function (mutations, observer) {{\n        var display = window.getComputedStyle(gd).display;\n        if (!display || display === 'none') {{\n            console.log([gd, 'removed!']);\n            Plotly.purge(gd);\n            observer.disconnect();\n        }}\n}});\n\n// Listen for the removal of the full notebook cells\nvar notebookContainer = gd.closest('#notebook-container');\nif (notebookContainer) {{\n    x.observe(notebookContainer, {childList: true});\n}}\n\n// Listen for the clearing of the current output cell\nvar outputEl = gd.closest('.output');\nif (outputEl) {{\n    x.observe(outputEl, {childList: true});\n}}\n\n                        })                };                });            </script>        </div>"
     },
     "metadata": {}
    }
   ],
   "source": [
    "# Add dropdown\n",
    "fig.update_layout(\n",
    "    updatemenus=[\n",
    "        dict(\n",
    "            type = \"buttons\",\n",
    "            direction = \"left\",\n",
    "            buttons=list([\n",
    "                dict(\n",
    "                    args=[\"mode\", \"markers\", indexes],\n",
    "                    label=\"Hide names\",\n",
    "                    method=\"restyle\"\n",
    "                ),\n",
    "                dict(\n",
    "                    args=[\"mode\", \"markers+text\", indexes],\n",
    "                    label=\"Show names\",\n",
    "                    method=\"restyle\"\n",
    "                )\n",
    "            ]),\n",
    "            pad={\"r\": 10, \"t\": 10},\n",
    "            showactive=True,\n",
    "            x=1.0,\n",
    "            xanchor=\"left\",\n",
    "            y=1.25,\n",
    "            yanchor=\"top\"\n",
    "        ),\n",
    "    ]\n",
    ")\n",
    "\n",
    "offline.iplot(fig)"
   ]
  },
  {
   "cell_type": "code",
   "execution_count": 22,
   "metadata": {},
   "outputs": [
    {
     "output_type": "execute_result",
     "data": {
      "text/plain": [
       "'<div>                            <div id=\"a241e4cf-0110-42ca-a0bc-7956f65b88e3\" class=\"plotly-graph-div\" style=\"height:100%; width:100%;\"></div>            <script type=\"text/javascript\">                                    window.PLOTLYENV=window.PLOTLYENV || {};                                    if (document.getElementById(\"a241e4cf-0110-42ca-a0bc-7956f65b88e3\")) {                    Plotly.newPlot(                        \"a241e4cf-0110-42ca-a0bc-7956f65b88e3\",                        [{\"line\": {\"color\": \"gray\", \"dash\": \"dash\", \"width\": 2}, \"mode\": \"lines\", \"name\": \"Median y\", \"showlegend\": false, \"type\": \"scatter\", \"x\": [898818.0, 898818.0], \"y\": [5755000000.0, 524000000000.0]}, {\"line\": {\"color\": \"gray\", \"dash\": \"dash\", \"width\": 2}, \"mode\": \"lines\", \"name\": \"Median x\", \"showlegend\": false, \"type\": \"scatter\", \"x\": [-19958.0, 107082396.0], \"y\": [39425000000.0, 39425000000.0]}, {\"marker\": {\"size\": 10}, \"mode\": \"markers\", \"name\": \"Industrials\", \"text\": [\"3M\", \"Boeing\", \"Caterpillar Inc.\", \"Emerson Electric\", \"FedEx\", \"General Dynamics\", \"General Electric\", \"Honeywell Inc.\", \"Lockheed Martin Corp.\", \"Raytheon Technologies\", \"Union Pacific Corp\", \"United Parcel Service\"], \"textposition\": \"top center\", \"type\": \"scatter\", \"x\": [5370000.0, 1346000.0, 1774000.0, 863684.0, 16402161.0, 762200.0, 2390000.0, 2024133.0, 771435.0, 1726534.0, 10415469.0, 14954000.0], \"y\": [32136000000.0, 76559000000.0, 53800000000.0, 18372000000.0, 69693000000.0, 39350000000.0, 95214000000.0, 36709000000.0, 59810000000.0, 29176000000.0, 21700000000.0, 74094000000.0]}, {\"marker\": {\"size\": 10}, \"mode\": \"markers\", \"name\": \"Healthcare\", \"text\": [\"Abbott Laboratories\", \"AbbVie Inc.\", \"Amgen Inc.\", \"Biogen Inc.\", \"Bristol Myers Squibb\", \"CVS Health\", \"Danaher\", \"Eli Lilly\", \"Gilead Sciences Inc.\", \"Johnson & Johnson\", \"Medtronic\", \"Merck & Co.\", \"Pfizer Inc.\", \"Thermo Fisher Scientific\", \"United Health Group\", \"Walgreens Boots Alliance\"], \"textposition\": \"top center\", \"type\": \"scatter\", \"x\": [972000.0, 564198.0, 296314.0, 67137.0, null, 1181796.0, null, 864000.0, 73735.0, 933636.0, 288772.0, 1071970.0, 1368843.0, null, 167127.0, 2034000.0], \"y\": [31904000000.0, 33266000000.0, 23400000000.0, 13500000000.0, 26145000000.0, 256776000000.0, 17910000000.0, 22320000000.0, 22449000000.0, 82060000000.0, 30557000000.0, 42290000000.0, 51750000000.0, 25540000000.0, 242200000000.0, 136900000000.0]}, {\"marker\": {\"size\": 10}, \"mode\": \"markers\", \"name\": \"Technology\", \"text\": [\"Accenture\", \"Adobe Inc.\", \"Apple Inc.\", \"Cisco Systems\", \"IBM Corp.\", \"Intel Corp.\", \"Microsoft Corp.\", \"Nvidia\", \"Oracle\", \"QUALCOMM Inc.\", \"Salesforce\", \"Texas Instruments\"], \"textposition\": \"top center\", \"type\": \"scatter\", \"x\": [233603.0, 55342.0, 50549.0, 228609.0, 937256.0, 2788000.0, 388787.0, 62788.0, 365542.0, 189350.0, 0.0, 980009.0], \"y\": [43200000000.0, 11171000000.0, 260174000000.0, 51900000000.0, 77140000000.0, 71900000000.0, 125800000000.0, 11720000000.0, 39500000000.0, 24270000000.0, 13280000000.0, 14318000000.0]}, {\"marker\": {\"size\": 10}, \"mode\": \"markers\", \"name\": \"Financial Services\", \"text\": [\"Allstate Corp\", \"American Express\", \"American International Group (AIG)\", \"Bank of America\", \"Berkshire Hathaway Inc.\", \"BlackRock Inc.\", \"Capital One Financial\", \"Citigroup Inc.\", \"Goldman Sachs Group\", \"JPMorgan Chase & Co.\", \"MasterCard Inc.\", \"MetLife Inc.\", \"Morgan Stanley\", \"PayPal\", \"The Bank of New York Mellon\", \"US Bancorp\", \"Visa Inc.\", \"Wells Fargo\"], \"textposition\": \"top center\", \"type\": \"scatter\", \"x\": [113460.0, 27516.0, 110902.0, 80162.0, null, 5589.0, 9630.0, 616900.0, 21782.0, 637797.0, 4920.4, 13613.0, 204500.0, 56900.0, -19958.0, 232929.0, 60008.0, 96981.0], \"y\": [44675000000.0, 43556000000.0, 49750000000.0, 91240000000.0, 254616000000.0, 14539000000.0, 28600000000.0, 103449000000.0, 36546000000.0, 115600000000.0, 16883000000.0, 67941000000.0, 41419000000.0, 17770000000.0, 20820000000.0, 25775000000.0, 23000000000.0, 85060000000.0]}, {\"marker\": {\"size\": 10}, \"mode\": \"markers\", \"name\": \"Communication Services\", \"text\": [\"Alphabet Inc. / Google\", \"AT&T Inc.\", \"Charter Communications Inc.\", \"Comcast\", \"Facebook, Inc.\", \"Netflix Inc.\", \"The Walt Disney Company\", \"Verizon Communications\"], \"textposition\": \"top center\", \"type\": \"scatter\", \"x\": [860953.0, 6520000.0, null, 1995226.0, 251000.0, null, 1786617.0, 4341366.0], \"y\": [161857000000.0, 181200000000.0, 45764000000.0, 108942000000.0, 70697000000.0, 20160000000.0, 69570000000.0, 131860000000.0]}, {\"marker\": {\"size\": 10}, \"mode\": \"markers\", \"name\": \"Consumer Staples\", \"text\": [\"Altria Group Inc\", \"Coca-Cola\", \"Colgate-Palmolive\", \"Costco\", \"Kraft Heinz Co\", \"Mondelez International\", \"PepsiCo Inc.\", \"Philip Morris International\", \"Procter & Gamble\", \"Target Corp.\", \"Walmart\"], \"textposition\": \"top center\", \"type\": \"scatter\", \"x\": [301416.0, 5560000.0, 474000.0, 2582436.41, 1422322.0, 1762939.0, 4977670.0, 557158.0, 4050000.0, 2298450.0, 17563596.0], \"y\": [25364000000.0, 37266000000.0, 15693000000.0, 152703000000.0, 24970000000.0, 25870000000.0, 67160000000.0, 79820000000.0, 67680000000.0, 78100000000.0, 524000000000.0]}, {\"marker\": {\"size\": 10}, \"mode\": \"markers\", \"name\": \"Consumer Discretionary\", \"text\": [\"Amazon.com Inc.\", \"Booking Holdings Inc.\", \"Ford Motor Company\", \"General Motors\", \"Home Depot\", \"Lowe\\'s Companies, Inc.\", \"McDonald\\'s Corp.\", \"Nike Inc.\", \"Starbucks Corp.\"], \"textposition\": \"top center\", \"type\": \"scatter\", \"x\": [11260000.0, null, 4520129.0, 5311575.0, 1856965.0, 2108505.0, 599148.83, 255779.0, 662899.5], \"y\": [280000000000.0, 15066000000.0, 155900000000.0, 137237000000.0, 110200000000.0, 71300000000.0, 21076000000.0, 39100000000.0, 26510000000.0]}, {\"marker\": {\"size\": 10}, \"mode\": \"markers\", \"name\": \"Real Estate\", \"text\": [\"American Tower\", \"Simon Property Group Inc.\"], \"textposition\": \"top center\", \"type\": \"scatter\", \"x\": [2244757.0, 266578.006], \"y\": [7580000000.0, 5755000000.0]}, {\"marker\": {\"size\": 10}, \"mode\": \"markers\", \"name\": \"Energy\", \"text\": [\"Chevron\", \"ConocoPhillips\", \"Exxon Mobil\", \"Kinder Morgan Inc.\", \"Occidental Petroleum\", \"Schlumberger Ltd.\"], \"textposition\": \"top center\", \"type\": \"scatter\", \"x\": [57000000.0, 20500000.0, null, null, 28850197.0, null], \"y\": [146516000000.0, 36670000000.0, 264938000000.0, 13209000000.0, 21230000000.0, 32900000000.0]}, {\"marker\": {\"size\": 10}, \"mode\": \"markers\", \"name\": \"Materials\", \"text\": [\"Dow Inc.\", \"DuPont\"], \"textposition\": \"top center\", \"type\": \"scatter\", \"x\": [33650000.0, 5380000.0], \"y\": [42951000000.0, 21570000000.0]}, {\"marker\": {\"size\": 10}, \"mode\": \"markers\", \"name\": \"Utilities\", \"text\": [\"Duke Energy\", \"Exelon\", \"Nextera Energy Inc.\", \"Southern Company\"], \"textposition\": \"top center\", \"type\": \"scatter\", \"x\": [104122000.0, 14309000.0, 107082396.0, 88249133.0], \"y\": [25079000000.0, 34438000000.0, 19204000000.0, 21419000000.0]}, {\"marker\": {\"size\": 10}, \"mode\": \"markers\", \"name\": \"nan\", \"text\": [], \"textposition\": \"top center\", \"type\": \"scatter\", \"x\": [], \"y\": []}],                        {\"annotations\": [{\"bgcolor\": \"blue\", \"font\": {\"color\": \"white\"}, \"opacity\": 0.5, \"showarrow\": false, \"text\": \"<b>Corporate Behemoths</b> <br> High Revenue, High Emissions\", \"x\": 0.1, \"xref\": \"x domain\", \"y\": 1.1, \"yref\": \"paper\"}, {\"bgcolor\": \"blue\", \"font\": {\"color\": \"white\"}, \"opacity\": 0.5, \"showarrow\": false, \"text\": \"<b>Sustainability Leaders</b> <br> High Revenue, Low Emissions\", \"x\": 0.9, \"xref\": \"x domain\", \"y\": 1.1, \"yref\": \"paper\"}, {\"bgcolor\": \"blue\", \"font\": {\"color\": \"white\"}, \"opacity\": 0.5, \"showarrow\": false, \"text\": \"<b>Worst Offenders</b> <br> Low Revenue, High Emissions\", \"x\": 0.1, \"xref\": \"x domain\", \"y\": -0.15, \"yref\": \"paper\"}, {\"bgcolor\": \"blue\", \"font\": {\"color\": \"white\"}, \"opacity\": 0.5, \"showarrow\": false, \"text\": \"<b>Small Players</b> <br> Low Revenue, Low Emissions\", \"x\": 0.9, \"xref\": \"x domain\", \"y\": -0.15, \"yref\": \"paper\"}], \"plot_bgcolor\": \"antiquewhite\", \"template\": {\"data\": {\"bar\": [{\"error_x\": {\"color\": \"#2a3f5f\"}, \"error_y\": {\"color\": \"#2a3f5f\"}, \"marker\": {\"line\": {\"color\": \"#E5ECF6\", \"width\": 0.5}}, \"type\": \"bar\"}], \"barpolar\": [{\"marker\": {\"line\": {\"color\": \"#E5ECF6\", \"width\": 0.5}}, \"type\": \"barpolar\"}], \"carpet\": [{\"aaxis\": {\"endlinecolor\": \"#2a3f5f\", \"gridcolor\": \"white\", \"linecolor\": \"white\", \"minorgridcolor\": \"white\", \"startlinecolor\": \"#2a3f5f\"}, \"baxis\": {\"endlinecolor\": \"#2a3f5f\", \"gridcolor\": \"white\", \"linecolor\": \"white\", \"minorgridcolor\": \"white\", \"startlinecolor\": \"#2a3f5f\"}, \"type\": \"carpet\"}], \"choropleth\": [{\"colorbar\": {\"outlinewidth\": 0, \"ticks\": \"\"}, \"type\": \"choropleth\"}], \"contour\": [{\"colorbar\": {\"outlinewidth\": 0, \"ticks\": \"\"}, \"colorscale\": [[0.0, \"#0d0887\"], [0.1111111111111111, \"#46039f\"], [0.2222222222222222, \"#7201a8\"], [0.3333333333333333, \"#9c179e\"], [0.4444444444444444, \"#bd3786\"], [0.5555555555555556, \"#d8576b\"], [0.6666666666666666, \"#ed7953\"], [0.7777777777777778, \"#fb9f3a\"], [0.8888888888888888, \"#fdca26\"], [1.0, \"#f0f921\"]], \"type\": \"contour\"}], \"contourcarpet\": [{\"colorbar\": {\"outlinewidth\": 0, \"ticks\": \"\"}, \"type\": \"contourcarpet\"}], \"heatmap\": [{\"colorbar\": {\"outlinewidth\": 0, \"ticks\": \"\"}, \"colorscale\": [[0.0, \"#0d0887\"], [0.1111111111111111, \"#46039f\"], [0.2222222222222222, \"#7201a8\"], [0.3333333333333333, \"#9c179e\"], [0.4444444444444444, \"#bd3786\"], [0.5555555555555556, \"#d8576b\"], [0.6666666666666666, \"#ed7953\"], [0.7777777777777778, \"#fb9f3a\"], [0.8888888888888888, \"#fdca26\"], [1.0, \"#f0f921\"]], \"type\": \"heatmap\"}], \"heatmapgl\": [{\"colorbar\": {\"outlinewidth\": 0, \"ticks\": \"\"}, \"colorscale\": [[0.0, \"#0d0887\"], [0.1111111111111111, \"#46039f\"], [0.2222222222222222, \"#7201a8\"], [0.3333333333333333, \"#9c179e\"], [0.4444444444444444, \"#bd3786\"], [0.5555555555555556, \"#d8576b\"], [0.6666666666666666, \"#ed7953\"], [0.7777777777777778, \"#fb9f3a\"], [0.8888888888888888, \"#fdca26\"], [1.0, \"#f0f921\"]], \"type\": \"heatmapgl\"}], \"histogram\": [{\"marker\": {\"colorbar\": {\"outlinewidth\": 0, \"ticks\": \"\"}}, \"type\": \"histogram\"}], \"histogram2d\": [{\"colorbar\": {\"outlinewidth\": 0, \"ticks\": \"\"}, \"colorscale\": [[0.0, \"#0d0887\"], [0.1111111111111111, \"#46039f\"], [0.2222222222222222, \"#7201a8\"], [0.3333333333333333, \"#9c179e\"], [0.4444444444444444, \"#bd3786\"], [0.5555555555555556, \"#d8576b\"], [0.6666666666666666, \"#ed7953\"], [0.7777777777777778, \"#fb9f3a\"], [0.8888888888888888, \"#fdca26\"], [1.0, \"#f0f921\"]], \"type\": \"histogram2d\"}], \"histogram2dcontour\": [{\"colorbar\": {\"outlinewidth\": 0, \"ticks\": \"\"}, \"colorscale\": [[0.0, \"#0d0887\"], [0.1111111111111111, \"#46039f\"], [0.2222222222222222, \"#7201a8\"], [0.3333333333333333, \"#9c179e\"], [0.4444444444444444, \"#bd3786\"], [0.5555555555555556, \"#d8576b\"], [0.6666666666666666, \"#ed7953\"], [0.7777777777777778, \"#fb9f3a\"], [0.8888888888888888, \"#fdca26\"], [1.0, \"#f0f921\"]], \"type\": \"histogram2dcontour\"}], \"mesh3d\": [{\"colorbar\": {\"outlinewidth\": 0, \"ticks\": \"\"}, \"type\": \"mesh3d\"}], \"parcoords\": [{\"line\": {\"colorbar\": {\"outlinewidth\": 0, \"ticks\": \"\"}}, \"type\": \"parcoords\"}], \"pie\": [{\"automargin\": true, \"type\": \"pie\"}], \"scatter\": [{\"marker\": {\"colorbar\": {\"outlinewidth\": 0, \"ticks\": \"\"}}, \"type\": \"scatter\"}], \"scatter3d\": [{\"line\": {\"colorbar\": {\"outlinewidth\": 0, \"ticks\": \"\"}}, \"marker\": {\"colorbar\": {\"outlinewidth\": 0, \"ticks\": \"\"}}, \"type\": \"scatter3d\"}], \"scattercarpet\": [{\"marker\": {\"colorbar\": {\"outlinewidth\": 0, \"ticks\": \"\"}}, \"type\": \"scattercarpet\"}], \"scattergeo\": [{\"marker\": {\"colorbar\": {\"outlinewidth\": 0, \"ticks\": \"\"}}, \"type\": \"scattergeo\"}], \"scattergl\": [{\"marker\": {\"colorbar\": {\"outlinewidth\": 0, \"ticks\": \"\"}}, \"type\": \"scattergl\"}], \"scattermapbox\": [{\"marker\": {\"colorbar\": {\"outlinewidth\": 0, \"ticks\": \"\"}}, \"type\": \"scattermapbox\"}], \"scatterpolar\": [{\"marker\": {\"colorbar\": {\"outlinewidth\": 0, \"ticks\": \"\"}}, \"type\": \"scatterpolar\"}], \"scatterpolargl\": [{\"marker\": {\"colorbar\": {\"outlinewidth\": 0, \"ticks\": \"\"}}, \"type\": \"scatterpolargl\"}], \"scatterternary\": [{\"marker\": {\"colorbar\": {\"outlinewidth\": 0, \"ticks\": \"\"}}, \"type\": \"scatterternary\"}], \"surface\": [{\"colorbar\": {\"outlinewidth\": 0, \"ticks\": \"\"}, \"colorscale\": [[0.0, \"#0d0887\"], [0.1111111111111111, \"#46039f\"], [0.2222222222222222, \"#7201a8\"], [0.3333333333333333, \"#9c179e\"], [0.4444444444444444, \"#bd3786\"], [0.5555555555555556, \"#d8576b\"], [0.6666666666666666, \"#ed7953\"], [0.7777777777777778, \"#fb9f3a\"], [0.8888888888888888, \"#fdca26\"], [1.0, \"#f0f921\"]], \"type\": \"surface\"}], \"table\": [{\"cells\": {\"fill\": {\"color\": \"#EBF0F8\"}, \"line\": {\"color\": \"white\"}}, \"header\": {\"fill\": {\"color\": \"#C8D4E3\"}, \"line\": {\"color\": \"white\"}}, \"type\": \"table\"}]}, \"layout\": {\"annotationdefaults\": {\"arrowcolor\": \"#2a3f5f\", \"arrowhead\": 0, \"arrowwidth\": 1}, \"autotypenumbers\": \"strict\", \"coloraxis\": {\"colorbar\": {\"outlinewidth\": 0, \"ticks\": \"\"}}, \"colorscale\": {\"diverging\": [[0, \"#8e0152\"], [0.1, \"#c51b7d\"], [0.2, \"#de77ae\"], [0.3, \"#f1b6da\"], [0.4, \"#fde0ef\"], [0.5, \"#f7f7f7\"], [0.6, \"#e6f5d0\"], [0.7, \"#b8e186\"], [0.8, \"#7fbc41\"], [0.9, \"#4d9221\"], [1, \"#276419\"]], \"sequential\": [[0.0, \"#0d0887\"], [0.1111111111111111, \"#46039f\"], [0.2222222222222222, \"#7201a8\"], [0.3333333333333333, \"#9c179e\"], [0.4444444444444444, \"#bd3786\"], [0.5555555555555556, \"#d8576b\"], [0.6666666666666666, \"#ed7953\"], [0.7777777777777778, \"#fb9f3a\"], [0.8888888888888888, \"#fdca26\"], [1.0, \"#f0f921\"]], \"sequentialminus\": [[0.0, \"#0d0887\"], [0.1111111111111111, \"#46039f\"], [0.2222222222222222, \"#7201a8\"], [0.3333333333333333, \"#9c179e\"], [0.4444444444444444, \"#bd3786\"], [0.5555555555555556, \"#d8576b\"], [0.6666666666666666, \"#ed7953\"], [0.7777777777777778, \"#fb9f3a\"], [0.8888888888888888, \"#fdca26\"], [1.0, \"#f0f921\"]]}, \"colorway\": [\"#636efa\", \"#EF553B\", \"#00cc96\", \"#ab63fa\", \"#FFA15A\", \"#19d3f3\", \"#FF6692\", \"#B6E880\", \"#FF97FF\", \"#FECB52\"], \"font\": {\"color\": \"#2a3f5f\"}, \"geo\": {\"bgcolor\": \"white\", \"lakecolor\": \"white\", \"landcolor\": \"#E5ECF6\", \"showlakes\": true, \"showland\": true, \"subunitcolor\": \"white\"}, \"hoverlabel\": {\"align\": \"left\"}, \"hovermode\": \"closest\", \"mapbox\": {\"style\": \"light\"}, \"paper_bgcolor\": \"white\", \"plot_bgcolor\": \"#E5ECF6\", \"polar\": {\"angularaxis\": {\"gridcolor\": \"white\", \"linecolor\": \"white\", \"ticks\": \"\"}, \"bgcolor\": \"#E5ECF6\", \"radialaxis\": {\"gridcolor\": \"white\", \"linecolor\": \"white\", \"ticks\": \"\"}}, \"scene\": {\"xaxis\": {\"backgroundcolor\": \"#E5ECF6\", \"gridcolor\": \"white\", \"gridwidth\": 2, \"linecolor\": \"white\", \"showbackground\": true, \"ticks\": \"\", \"zerolinecolor\": \"white\"}, \"yaxis\": {\"backgroundcolor\": \"#E5ECF6\", \"gridcolor\": \"white\", \"gridwidth\": 2, \"linecolor\": \"white\", \"showbackground\": true, \"ticks\": \"\", \"zerolinecolor\": \"white\"}, \"zaxis\": {\"backgroundcolor\": \"#E5ECF6\", \"gridcolor\": \"white\", \"gridwidth\": 2, \"linecolor\": \"white\", \"showbackground\": true, \"ticks\": \"\", \"zerolinecolor\": \"white\"}}, \"shapedefaults\": {\"line\": {\"color\": \"#2a3f5f\"}}, \"ternary\": {\"aaxis\": {\"gridcolor\": \"white\", \"linecolor\": \"white\", \"ticks\": \"\"}, \"baxis\": {\"gridcolor\": \"white\", \"linecolor\": \"white\", \"ticks\": \"\"}, \"bgcolor\": \"#E5ECF6\", \"caxis\": {\"gridcolor\": \"white\", \"linecolor\": \"white\", \"ticks\": \"\"}}, \"title\": {\"x\": 0.05}, \"xaxis\": {\"automargin\": true, \"gridcolor\": \"white\", \"linecolor\": \"white\", \"ticks\": \"\", \"title\": {\"standoff\": 15}, \"zerolinecolor\": \"white\", \"zerolinewidth\": 2}, \"yaxis\": {\"automargin\": true, \"gridcolor\": \"white\", \"linecolor\": \"white\", \"ticks\": \"\", \"title\": {\"standoff\": 15}, \"zerolinecolor\": \"white\", \"zerolinewidth\": 2}}}, \"title\": {\"font\": {\"family\": \"Arial\", \"size\": 25}, \"text\": \"GHG Emissions Intensity\", \"x\": 0.5}, \"updatemenus\": [{\"buttons\": [{\"args\": [\"mode\", \"markers\", [2, 3, 4, 5, 6, 7, 8, 9, 10, 11, 12]], \"label\": \"Hide names\", \"method\": \"restyle\"}, {\"args\": [\"mode\", \"markers+text\", [2, 3, 4, 5, 6, 7, 8, 9, 10, 11, 12]], \"label\": \"Show names\", \"method\": \"restyle\"}], \"direction\": \"left\", \"pad\": {\"r\": 10, \"t\": 10}, \"showactive\": true, \"type\": \"buttons\", \"x\": 1.0, \"xanchor\": \"left\", \"y\": 1.25, \"yanchor\": \"top\"}], \"xaxis\": {\"autorange\": \"reversed\", \"type\": \"log\"}, \"yaxis\": {\"type\": \"log\"}},                        {\"responsive\": true}                    )                };                            </script>        </div>'"
      ]
     },
     "metadata": {},
     "execution_count": 22
    }
   ],
   "source": [
    "offline.plot(fig, include_plotlyjs=False, output_type='div')"
   ]
  },
  {
   "cell_type": "code",
   "execution_count": null,
   "metadata": {},
   "outputs": [],
   "source": []
  },
  {
   "cell_type": "code",
   "execution_count": null,
   "metadata": {},
   "outputs": [],
   "source": []
  },
  {
   "cell_type": "code",
   "execution_count": null,
   "metadata": {},
   "outputs": [],
   "source": []
  },
  {
   "cell_type": "code",
   "execution_count": null,
   "metadata": {},
   "outputs": [],
   "source": []
  },
  {
   "cell_type": "code",
   "execution_count": null,
   "metadata": {},
   "outputs": [],
   "source": []
  }
 ],
 "metadata": {
  "kernelspec": {
   "name": "python3",
   "display_name": "Python 3.6.13 64-bit ('cnext': conda)"
  },
  "language_info": {
   "codemirror_mode": {
    "name": "ipython",
    "version": 3
   },
   "file_extension": ".py",
   "mimetype": "text/x-python",
   "name": "python",
   "nbconvert_exporter": "python",
   "pygments_lexer": "ipython3",
   "version": "3.6.13"
  },
  "interpreter": {
   "hash": "2763097f05fa0e79020cf579cd98f61c1a12f2eb3c0b21888a5c169647c48c37"
  }
 },
 "nbformat": 4,
 "nbformat_minor": 4
}