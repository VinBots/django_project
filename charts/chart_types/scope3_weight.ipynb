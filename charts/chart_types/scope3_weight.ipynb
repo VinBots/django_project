{
 "cells": [
  {
   "cell_type": "markdown",
   "source": [
    "# Playground"
   ],
   "metadata": {}
  },
  {
   "cell_type": "markdown",
   "source": [
    "## Import Libraries"
   ],
   "metadata": {}
  },
  {
   "cell_type": "code",
   "execution_count": 1,
   "source": [
    "import pandas as pd\n",
    "import plotly.graph_objs as go\n",
    "import plotly.offline as offline\n",
    "import os\n",
    "import numpy as np\n",
    "from plotly.offline import plot\n",
    "from pathlib import Path"
   ],
   "outputs": [],
   "metadata": {}
  },
  {
   "cell_type": "code",
   "execution_count": 2,
   "source": [
    "offline.init_notebook_mode(connected=True)"
   ],
   "outputs": [
    {
     "output_type": "display_data",
     "data": {
      "text/html": [
       "        <script type=\"text/javascript\">\n",
       "        window.PlotlyConfig = {MathJaxConfig: 'local'};\n",
       "        if (window.MathJax) {MathJax.Hub.Config({SVG: {font: \"STIX-Web\"}});}\n",
       "        if (typeof require !== 'undefined') {\n",
       "        require.undef(\"plotly\");\n",
       "        requirejs.config({\n",
       "            paths: {\n",
       "                'plotly': ['https://cdn.plot.ly/plotly-2.2.0.min']\n",
       "            }\n",
       "        });\n",
       "        require(['plotly'], function(Plotly) {\n",
       "            window._Plotly = Plotly;\n",
       "        });\n",
       "        }\n",
       "        </script>\n",
       "        "
      ]
     },
     "metadata": {}
    }
   ],
   "metadata": {}
  },
  {
   "cell_type": "markdown",
   "source": [
    "# Heatmap of GHG Emissions Scopes by Sector"
   ],
   "metadata": {}
  },
  {
   "cell_type": "code",
   "execution_count": 3,
   "source": [
    "scope3_completeness = False"
   ],
   "outputs": [],
   "metadata": {}
  },
  {
   "cell_type": "code",
   "execution_count": 4,
   "source": [
    "path = Path(os.path.dirname (os.getcwd()))\n",
    "XLSX_PATH = os.path.join(path.parent.parent, 'sp100.xlsx')\n",
    "\n",
    "COLS_TO_USE = {\n",
    "'ghg_quant':['company_id', 'ghg_scope_1','ghg_loc_scope_2','ghg_mkt_scope_2', 'ghg_scope3_total', 'reporting_year', \"Source\"],\n",
    "'grouping':['company_id', 'Sector1'],\n",
    "'companies':['company_id', 'SP100'],\n",
    "'ghg_qual':['company_id', 'scope3_completeness']\n",
    "}\n",
    "\n",
    "all_df = []\n",
    "for sheetname, cols in COLS_TO_USE.items():\n",
    "    all_df.append(pd.read_excel(\n",
    "        XLSX_PATH, \n",
    "        sheet_name = sheetname,\n",
    "        engine = 'openpyxl', \n",
    "        usecols = cols\n",
    "        ))\n",
    "merged_df = all_df[0]\n",
    "for i in range(len(COLS_TO_USE) - 1):\n",
    "    merged_df = pd.merge(\n",
    "        left = merged_df,\n",
    "        right = all_df[i+1],\n",
    "        how=\"left\",\n",
    "        on=\"company_id\"\n",
    "    )\n",
    "# Select Final Figures and Year 2019\n",
    "cond1 = (merged_df['reporting_year'] == 2019)\n",
    "cond2 = (merged_df['Source']== 'Final')\n",
    "cond3 = (merged_df['SP100'] == 1)\n",
    "filter_cond = cond1 & cond2 & cond3\n",
    "if scope3_completeness : \n",
    "    cond4 = (merged_df['scope3_completeness'] == \"full\")\n",
    "    filter_cond = filter_cond & cond4\n",
    "\n",
    "merged_df = merged_df.loc[filter_cond]\n",
    "\n",
    "#a =  merged_df[merged_df['company_id']==company_id]['Sector1']"
   ],
   "outputs": [],
   "metadata": {}
  },
  {
   "cell_type": "code",
   "execution_count": 5,
   "source": [
    "merged_df"
   ],
   "outputs": [
    {
     "output_type": "execute_result",
     "data": {
      "text/html": [
       "<div>\n",
       "<style scoped>\n",
       "    .dataframe tbody tr th:only-of-type {\n",
       "        vertical-align: middle;\n",
       "    }\n",
       "\n",
       "    .dataframe tbody tr th {\n",
       "        vertical-align: top;\n",
       "    }\n",
       "\n",
       "    .dataframe thead th {\n",
       "        text-align: right;\n",
       "    }\n",
       "</style>\n",
       "<table border=\"1\" class=\"dataframe\">\n",
       "  <thead>\n",
       "    <tr style=\"text-align: right;\">\n",
       "      <th></th>\n",
       "      <th>company_id</th>\n",
       "      <th>Source</th>\n",
       "      <th>reporting_year</th>\n",
       "      <th>ghg_scope_1</th>\n",
       "      <th>ghg_loc_scope_2</th>\n",
       "      <th>ghg_mkt_scope_2</th>\n",
       "      <th>ghg_scope3_total</th>\n",
       "      <th>Sector1</th>\n",
       "      <th>SP100</th>\n",
       "      <th>scope3_completeness</th>\n",
       "    </tr>\n",
       "  </thead>\n",
       "  <tbody>\n",
       "    <tr>\n",
       "      <th>6</th>\n",
       "      <td>1.0</td>\n",
       "      <td>Final</td>\n",
       "      <td>2019.0</td>\n",
       "      <td>4050000</td>\n",
       "      <td>1780000</td>\n",
       "      <td>1320000</td>\n",
       "      <td>8925800.0</td>\n",
       "      <td>Industrials</td>\n",
       "      <td>1.0</td>\n",
       "      <td>full</td>\n",
       "    </tr>\n",
       "    <tr>\n",
       "      <th>18</th>\n",
       "      <td>2.0</td>\n",
       "      <td>Final</td>\n",
       "      <td>2019.0</td>\n",
       "      <td>533000</td>\n",
       "      <td>518000</td>\n",
       "      <td>439000</td>\n",
       "      <td>14073000.0</td>\n",
       "      <td>Healthcare</td>\n",
       "      <td>1.0</td>\n",
       "      <td>full</td>\n",
       "    </tr>\n",
       "    <tr>\n",
       "      <th>30</th>\n",
       "      <td>3.0</td>\n",
       "      <td>Final</td>\n",
       "      <td>2019.0</td>\n",
       "      <td>314421</td>\n",
       "      <td>308204</td>\n",
       "      <td>249777</td>\n",
       "      <td>1334209.0</td>\n",
       "      <td>Healthcare</td>\n",
       "      <td>1.0</td>\n",
       "      <td>no</td>\n",
       "    </tr>\n",
       "    <tr>\n",
       "      <th>42</th>\n",
       "      <td>4.0</td>\n",
       "      <td>Final</td>\n",
       "      <td>2019.0</td>\n",
       "      <td>18923</td>\n",
       "      <td>281489</td>\n",
       "      <td>214680</td>\n",
       "      <td>932653.0</td>\n",
       "      <td>Technology</td>\n",
       "      <td>1.0</td>\n",
       "      <td>full</td>\n",
       "    </tr>\n",
       "    <tr>\n",
       "      <th>54</th>\n",
       "      <td>5.0</td>\n",
       "      <td>Final</td>\n",
       "      <td>2019.0</td>\n",
       "      <td>11816</td>\n",
       "      <td>56113</td>\n",
       "      <td>43526</td>\n",
       "      <td>544093.0</td>\n",
       "      <td>Technology</td>\n",
       "      <td>1.0</td>\n",
       "      <td>full</td>\n",
       "    </tr>\n",
       "    <tr>\n",
       "      <th>...</th>\n",
       "      <td>...</td>\n",
       "      <td>...</td>\n",
       "      <td>...</td>\n",
       "      <td>...</td>\n",
       "      <td>...</td>\n",
       "      <td>...</td>\n",
       "      <td>...</td>\n",
       "      <td>...</td>\n",
       "      <td>...</td>\n",
       "      <td>...</td>\n",
       "    </tr>\n",
       "    <tr>\n",
       "      <th>1194</th>\n",
       "      <td>100.0</td>\n",
       "      <td>Final</td>\n",
       "      <td>2019.0</td>\n",
       "      <td>91993</td>\n",
       "      <td>771327</td>\n",
       "      <td>4988</td>\n",
       "      <td>3610451.0</td>\n",
       "      <td>Financial Services</td>\n",
       "      <td>1.0</td>\n",
       "      <td>full</td>\n",
       "    </tr>\n",
       "    <tr>\n",
       "      <th>1206</th>\n",
       "      <td>101.0</td>\n",
       "      <td>Final</td>\n",
       "      <td>2019.0</td>\n",
       "      <td>0</td>\n",
       "      <td>0</td>\n",
       "      <td>0</td>\n",
       "      <td>0.0</td>\n",
       "      <td>Consumer Discretionary</td>\n",
       "      <td>1.0</td>\n",
       "      <td>no</td>\n",
       "    </tr>\n",
       "    <tr>\n",
       "      <th>1242</th>\n",
       "      <td>104.0</td>\n",
       "      <td>Final</td>\n",
       "      <td>2019.0</td>\n",
       "      <td>0</td>\n",
       "      <td>0</td>\n",
       "      <td>0</td>\n",
       "      <td>0.0</td>\n",
       "      <td>Technology</td>\n",
       "      <td>1.0</td>\n",
       "      <td>no</td>\n",
       "    </tr>\n",
       "    <tr>\n",
       "      <th>1338</th>\n",
       "      <td>112.0</td>\n",
       "      <td>Final</td>\n",
       "      <td>2019.0</td>\n",
       "      <td>37175</td>\n",
       "      <td>1393730</td>\n",
       "      <td>729490</td>\n",
       "      <td>3725393.0</td>\n",
       "      <td>Communication Services</td>\n",
       "      <td>1.0</td>\n",
       "      <td>full</td>\n",
       "    </tr>\n",
       "    <tr>\n",
       "      <th>1350</th>\n",
       "      <td>113.0</td>\n",
       "      <td>Final</td>\n",
       "      <td>2019.0</td>\n",
       "      <td>16461000</td>\n",
       "      <td>19900000</td>\n",
       "      <td>22250000</td>\n",
       "      <td>15148300.0</td>\n",
       "      <td>Materials</td>\n",
       "      <td>1.0</td>\n",
       "      <td>full</td>\n",
       "    </tr>\n",
       "  </tbody>\n",
       "</table>\n",
       "<p>100 rows × 10 columns</p>\n",
       "</div>"
      ],
      "text/plain": [
       "      company_id Source  reporting_year ghg_scope_1 ghg_loc_scope_2  \\\n",
       "6            1.0  Final          2019.0     4050000         1780000   \n",
       "18           2.0  Final          2019.0      533000          518000   \n",
       "30           3.0  Final          2019.0      314421          308204   \n",
       "42           4.0  Final          2019.0       18923          281489   \n",
       "54           5.0  Final          2019.0       11816           56113   \n",
       "...          ...    ...             ...         ...             ...   \n",
       "1194       100.0  Final          2019.0       91993          771327   \n",
       "1206       101.0  Final          2019.0           0               0   \n",
       "1242       104.0  Final          2019.0           0               0   \n",
       "1338       112.0  Final          2019.0       37175         1393730   \n",
       "1350       113.0  Final          2019.0    16461000        19900000   \n",
       "\n",
       "     ghg_mkt_scope_2  ghg_scope3_total                 Sector1  SP100  \\\n",
       "6            1320000         8925800.0             Industrials    1.0   \n",
       "18            439000        14073000.0              Healthcare    1.0   \n",
       "30            249777         1334209.0              Healthcare    1.0   \n",
       "42            214680          932653.0              Technology    1.0   \n",
       "54             43526          544093.0              Technology    1.0   \n",
       "...              ...               ...                     ...    ...   \n",
       "1194            4988         3610451.0      Financial Services    1.0   \n",
       "1206               0               0.0  Consumer Discretionary    1.0   \n",
       "1242               0               0.0              Technology    1.0   \n",
       "1338          729490         3725393.0  Communication Services    1.0   \n",
       "1350        22250000        15148300.0               Materials    1.0   \n",
       "\n",
       "     scope3_completeness  \n",
       "6                   full  \n",
       "18                  full  \n",
       "30                    no  \n",
       "42                  full  \n",
       "54                  full  \n",
       "...                  ...  \n",
       "1194                full  \n",
       "1206                  no  \n",
       "1242                  no  \n",
       "1338                full  \n",
       "1350                full  \n",
       "\n",
       "[100 rows x 10 columns]"
      ]
     },
     "metadata": {},
     "execution_count": 5
    }
   ],
   "metadata": {}
  },
  {
   "cell_type": "code",
   "execution_count": 6,
   "source": [
    "scope1 = pd.to_numeric(merged_df['ghg_scope_1'], errors = 'coerce')\n",
    "\n",
    "merged_df['ghg_loc_scope_2'] = pd.to_numeric(merged_df['ghg_loc_scope_2'], errors = 'coerce')\n",
    "merged_df['ghg_mkt_scope_2'] = pd.to_numeric(merged_df['ghg_mkt_scope_2'], errors = 'coerce')\n",
    "scope2 = merged_df[['ghg_loc_scope_2','ghg_mkt_scope_2']].min(axis=1)\n",
    "#merged_df = merged_df.assign(ghg_scope_2 = scope2)\n",
    "scope3 = merged_df['ghg_scope3_total']\n",
    "\n",
    "total_scope = scope1 + scope2 + scope3\n",
    "\n",
    "scope1_dist = scope1 / total_scope\n",
    "scope2_dist = scope2 / total_scope\n",
    "scope3_dist = scope3 / total_scope\n",
    "\n",
    "#total_scope = merged_df.assign(ghg_total_scope = merged_df['ghg_scope_1'] + scope2 + merged_df['ghg_scope3_total'])\n",
    "merged_df = merged_df.assign(scope1_dist = scope1_dist)\n",
    "merged_df = merged_df.assign(scope2_dist = scope2_dist)\n",
    "merged_df = merged_df.assign(scope3_dist = scope3_dist)\n",
    "\n"
   ],
   "outputs": [],
   "metadata": {}
  },
  {
   "cell_type": "code",
   "execution_count": 7,
   "source": [
    "fields = ['scope1_dist','scope2_dist', 'scope3_dist', 'Sector1']\n",
    "scope_by_sector_df = merged_df [fields]\n",
    "\n",
    "scope_by_sector_df = scope_by_sector_df.dropna()\n"
   ],
   "outputs": [],
   "metadata": {}
  },
  {
   "cell_type": "code",
   "execution_count": 8,
   "source": [
    "scope_by_sector_df"
   ],
   "outputs": [
    {
     "output_type": "execute_result",
     "data": {
      "text/html": [
       "<div>\n",
       "<style scoped>\n",
       "    .dataframe tbody tr th:only-of-type {\n",
       "        vertical-align: middle;\n",
       "    }\n",
       "\n",
       "    .dataframe tbody tr th {\n",
       "        vertical-align: top;\n",
       "    }\n",
       "\n",
       "    .dataframe thead th {\n",
       "        text-align: right;\n",
       "    }\n",
       "</style>\n",
       "<table border=\"1\" class=\"dataframe\">\n",
       "  <thead>\n",
       "    <tr style=\"text-align: right;\">\n",
       "      <th></th>\n",
       "      <th>scope1_dist</th>\n",
       "      <th>scope2_dist</th>\n",
       "      <th>scope3_dist</th>\n",
       "      <th>Sector1</th>\n",
       "    </tr>\n",
       "  </thead>\n",
       "  <tbody>\n",
       "    <tr>\n",
       "      <th>6</th>\n",
       "      <td>0.283300</td>\n",
       "      <td>0.092335</td>\n",
       "      <td>0.624365</td>\n",
       "      <td>Industrials</td>\n",
       "    </tr>\n",
       "    <tr>\n",
       "      <th>18</th>\n",
       "      <td>0.035427</td>\n",
       "      <td>0.029179</td>\n",
       "      <td>0.935394</td>\n",
       "      <td>Healthcare</td>\n",
       "    </tr>\n",
       "    <tr>\n",
       "      <th>30</th>\n",
       "      <td>0.165624</td>\n",
       "      <td>0.131572</td>\n",
       "      <td>0.702805</td>\n",
       "      <td>Healthcare</td>\n",
       "    </tr>\n",
       "    <tr>\n",
       "      <th>42</th>\n",
       "      <td>0.016225</td>\n",
       "      <td>0.184076</td>\n",
       "      <td>0.799698</td>\n",
       "      <td>Technology</td>\n",
       "    </tr>\n",
       "    <tr>\n",
       "      <th>54</th>\n",
       "      <td>0.019712</td>\n",
       "      <td>0.072612</td>\n",
       "      <td>0.907676</td>\n",
       "      <td>Technology</td>\n",
       "    </tr>\n",
       "    <tr>\n",
       "      <th>...</th>\n",
       "      <td>...</td>\n",
       "      <td>...</td>\n",
       "      <td>...</td>\n",
       "      <td>...</td>\n",
       "    </tr>\n",
       "    <tr>\n",
       "      <th>1170</th>\n",
       "      <td>0.010632</td>\n",
       "      <td>0.039776</td>\n",
       "      <td>0.949592</td>\n",
       "      <td>Healthcare</td>\n",
       "    </tr>\n",
       "    <tr>\n",
       "      <th>1182</th>\n",
       "      <td>0.032632</td>\n",
       "      <td>0.055752</td>\n",
       "      <td>0.911615</td>\n",
       "      <td>Consumer Staples</td>\n",
       "    </tr>\n",
       "    <tr>\n",
       "      <th>1194</th>\n",
       "      <td>0.024813</td>\n",
       "      <td>0.001345</td>\n",
       "      <td>0.973841</td>\n",
       "      <td>Financial Services</td>\n",
       "    </tr>\n",
       "    <tr>\n",
       "      <th>1338</th>\n",
       "      <td>0.008276</td>\n",
       "      <td>0.162395</td>\n",
       "      <td>0.829329</td>\n",
       "      <td>Communication Services</td>\n",
       "    </tr>\n",
       "    <tr>\n",
       "      <th>1350</th>\n",
       "      <td>0.319573</td>\n",
       "      <td>0.386338</td>\n",
       "      <td>0.294089</td>\n",
       "      <td>Materials</td>\n",
       "    </tr>\n",
       "  </tbody>\n",
       "</table>\n",
       "<p>94 rows × 4 columns</p>\n",
       "</div>"
      ],
      "text/plain": [
       "      scope1_dist  scope2_dist  scope3_dist                 Sector1\n",
       "6        0.283300     0.092335     0.624365             Industrials\n",
       "18       0.035427     0.029179     0.935394              Healthcare\n",
       "30       0.165624     0.131572     0.702805              Healthcare\n",
       "42       0.016225     0.184076     0.799698              Technology\n",
       "54       0.019712     0.072612     0.907676              Technology\n",
       "...           ...          ...          ...                     ...\n",
       "1170     0.010632     0.039776     0.949592              Healthcare\n",
       "1182     0.032632     0.055752     0.911615        Consumer Staples\n",
       "1194     0.024813     0.001345     0.973841      Financial Services\n",
       "1338     0.008276     0.162395     0.829329  Communication Services\n",
       "1350     0.319573     0.386338     0.294089               Materials\n",
       "\n",
       "[94 rows x 4 columns]"
      ]
     },
     "metadata": {},
     "execution_count": 8
    }
   ],
   "metadata": {}
  },
  {
   "cell_type": "code",
   "execution_count": 9,
   "source": [
    "total = scope_by_sector_df.mean(numeric_only=True).rename('Total')\n",
    "total['Sector1'] = \"Total\""
   ],
   "outputs": [],
   "metadata": {}
  },
  {
   "cell_type": "code",
   "execution_count": 10,
   "source": [
    "total"
   ],
   "outputs": [
    {
     "output_type": "execute_result",
     "data": {
      "text/plain": [
       "scope1_dist    0.188779\n",
       "scope2_dist    0.149928\n",
       "scope3_dist    0.661293\n",
       "Sector1           Total\n",
       "Name: Total, dtype: object"
      ]
     },
     "metadata": {},
     "execution_count": 10
    }
   ],
   "metadata": {}
  },
  {
   "cell_type": "code",
   "execution_count": 11,
   "source": [
    "scope_by_sector_df = scope_by_sector_df.append(total, ignore_index=True)"
   ],
   "outputs": [],
   "metadata": {}
  },
  {
   "cell_type": "code",
   "execution_count": 12,
   "source": [
    "scope_by_sector_df"
   ],
   "outputs": [
    {
     "output_type": "execute_result",
     "data": {
      "text/html": [
       "<div>\n",
       "<style scoped>\n",
       "    .dataframe tbody tr th:only-of-type {\n",
       "        vertical-align: middle;\n",
       "    }\n",
       "\n",
       "    .dataframe tbody tr th {\n",
       "        vertical-align: top;\n",
       "    }\n",
       "\n",
       "    .dataframe thead th {\n",
       "        text-align: right;\n",
       "    }\n",
       "</style>\n",
       "<table border=\"1\" class=\"dataframe\">\n",
       "  <thead>\n",
       "    <tr style=\"text-align: right;\">\n",
       "      <th></th>\n",
       "      <th>scope1_dist</th>\n",
       "      <th>scope2_dist</th>\n",
       "      <th>scope3_dist</th>\n",
       "      <th>Sector1</th>\n",
       "    </tr>\n",
       "  </thead>\n",
       "  <tbody>\n",
       "    <tr>\n",
       "      <th>0</th>\n",
       "      <td>0.283300</td>\n",
       "      <td>0.092335</td>\n",
       "      <td>0.624365</td>\n",
       "      <td>Industrials</td>\n",
       "    </tr>\n",
       "    <tr>\n",
       "      <th>1</th>\n",
       "      <td>0.035427</td>\n",
       "      <td>0.029179</td>\n",
       "      <td>0.935394</td>\n",
       "      <td>Healthcare</td>\n",
       "    </tr>\n",
       "    <tr>\n",
       "      <th>2</th>\n",
       "      <td>0.165624</td>\n",
       "      <td>0.131572</td>\n",
       "      <td>0.702805</td>\n",
       "      <td>Healthcare</td>\n",
       "    </tr>\n",
       "    <tr>\n",
       "      <th>3</th>\n",
       "      <td>0.016225</td>\n",
       "      <td>0.184076</td>\n",
       "      <td>0.799698</td>\n",
       "      <td>Technology</td>\n",
       "    </tr>\n",
       "    <tr>\n",
       "      <th>4</th>\n",
       "      <td>0.019712</td>\n",
       "      <td>0.072612</td>\n",
       "      <td>0.907676</td>\n",
       "      <td>Technology</td>\n",
       "    </tr>\n",
       "    <tr>\n",
       "      <th>...</th>\n",
       "      <td>...</td>\n",
       "      <td>...</td>\n",
       "      <td>...</td>\n",
       "      <td>...</td>\n",
       "    </tr>\n",
       "    <tr>\n",
       "      <th>90</th>\n",
       "      <td>0.032632</td>\n",
       "      <td>0.055752</td>\n",
       "      <td>0.911615</td>\n",
       "      <td>Consumer Staples</td>\n",
       "    </tr>\n",
       "    <tr>\n",
       "      <th>91</th>\n",
       "      <td>0.024813</td>\n",
       "      <td>0.001345</td>\n",
       "      <td>0.973841</td>\n",
       "      <td>Financial Services</td>\n",
       "    </tr>\n",
       "    <tr>\n",
       "      <th>92</th>\n",
       "      <td>0.008276</td>\n",
       "      <td>0.162395</td>\n",
       "      <td>0.829329</td>\n",
       "      <td>Communication Services</td>\n",
       "    </tr>\n",
       "    <tr>\n",
       "      <th>93</th>\n",
       "      <td>0.319573</td>\n",
       "      <td>0.386338</td>\n",
       "      <td>0.294089</td>\n",
       "      <td>Materials</td>\n",
       "    </tr>\n",
       "    <tr>\n",
       "      <th>94</th>\n",
       "      <td>0.188779</td>\n",
       "      <td>0.149928</td>\n",
       "      <td>0.661293</td>\n",
       "      <td>Total</td>\n",
       "    </tr>\n",
       "  </tbody>\n",
       "</table>\n",
       "<p>95 rows × 4 columns</p>\n",
       "</div>"
      ],
      "text/plain": [
       "    scope1_dist  scope2_dist  scope3_dist                 Sector1\n",
       "0      0.283300     0.092335     0.624365             Industrials\n",
       "1      0.035427     0.029179     0.935394              Healthcare\n",
       "2      0.165624     0.131572     0.702805              Healthcare\n",
       "3      0.016225     0.184076     0.799698              Technology\n",
       "4      0.019712     0.072612     0.907676              Technology\n",
       "..          ...          ...          ...                     ...\n",
       "90     0.032632     0.055752     0.911615        Consumer Staples\n",
       "91     0.024813     0.001345     0.973841      Financial Services\n",
       "92     0.008276     0.162395     0.829329  Communication Services\n",
       "93     0.319573     0.386338     0.294089               Materials\n",
       "94     0.188779     0.149928     0.661293                   Total\n",
       "\n",
       "[95 rows x 4 columns]"
      ]
     },
     "metadata": {},
     "execution_count": 12
    }
   ],
   "metadata": {}
  },
  {
   "cell_type": "code",
   "execution_count": 13,
   "source": [
    "scope_by_sector_df = scope_by_sector_df.groupby('Sector1', sort=False).mean()"
   ],
   "outputs": [],
   "metadata": {}
  },
  {
   "cell_type": "code",
   "execution_count": 14,
   "source": [
    "scope_by_sector_df"
   ],
   "outputs": [
    {
     "output_type": "execute_result",
     "data": {
      "text/html": [
       "<div>\n",
       "<style scoped>\n",
       "    .dataframe tbody tr th:only-of-type {\n",
       "        vertical-align: middle;\n",
       "    }\n",
       "\n",
       "    .dataframe tbody tr th {\n",
       "        vertical-align: top;\n",
       "    }\n",
       "\n",
       "    .dataframe thead th {\n",
       "        text-align: right;\n",
       "    }\n",
       "</style>\n",
       "<table border=\"1\" class=\"dataframe\">\n",
       "  <thead>\n",
       "    <tr style=\"text-align: right;\">\n",
       "      <th></th>\n",
       "      <th>scope1_dist</th>\n",
       "      <th>scope2_dist</th>\n",
       "      <th>scope3_dist</th>\n",
       "    </tr>\n",
       "    <tr>\n",
       "      <th>Sector1</th>\n",
       "      <th></th>\n",
       "      <th></th>\n",
       "      <th></th>\n",
       "    </tr>\n",
       "  </thead>\n",
       "  <tbody>\n",
       "    <tr>\n",
       "      <th>Industrials</th>\n",
       "      <td>0.352629</td>\n",
       "      <td>0.232005</td>\n",
       "      <td>0.415367</td>\n",
       "    </tr>\n",
       "    <tr>\n",
       "      <th>Healthcare</th>\n",
       "      <td>0.140062</td>\n",
       "      <td>0.104649</td>\n",
       "      <td>0.755290</td>\n",
       "    </tr>\n",
       "    <tr>\n",
       "      <th>Technology</th>\n",
       "      <td>0.082355</td>\n",
       "      <td>0.172677</td>\n",
       "      <td>0.744968</td>\n",
       "    </tr>\n",
       "    <tr>\n",
       "      <th>Communication Services</th>\n",
       "      <td>0.318732</td>\n",
       "      <td>0.250043</td>\n",
       "      <td>0.431225</td>\n",
       "    </tr>\n",
       "    <tr>\n",
       "      <th>Consumer Staples</th>\n",
       "      <td>0.068022</td>\n",
       "      <td>0.076355</td>\n",
       "      <td>0.855623</td>\n",
       "    </tr>\n",
       "    <tr>\n",
       "      <th>Consumer Discretionary</th>\n",
       "      <td>0.058529</td>\n",
       "      <td>0.011029</td>\n",
       "      <td>0.930442</td>\n",
       "    </tr>\n",
       "    <tr>\n",
       "      <th>Financial Services</th>\n",
       "      <td>0.038153</td>\n",
       "      <td>0.179519</td>\n",
       "      <td>0.782329</td>\n",
       "    </tr>\n",
       "    <tr>\n",
       "      <th>Real Estate</th>\n",
       "      <td>0.129314</td>\n",
       "      <td>0.524160</td>\n",
       "      <td>0.346527</td>\n",
       "    </tr>\n",
       "    <tr>\n",
       "      <th>Energy</th>\n",
       "      <td>0.557519</td>\n",
       "      <td>0.001110</td>\n",
       "      <td>0.441371</td>\n",
       "    </tr>\n",
       "    <tr>\n",
       "      <th>Materials</th>\n",
       "      <td>0.365151</td>\n",
       "      <td>0.283511</td>\n",
       "      <td>0.351338</td>\n",
       "    </tr>\n",
       "    <tr>\n",
       "      <th>Utilities</th>\n",
       "      <td>0.659385</td>\n",
       "      <td>0.012465</td>\n",
       "      <td>0.328150</td>\n",
       "    </tr>\n",
       "    <tr>\n",
       "      <th>Total</th>\n",
       "      <td>0.188779</td>\n",
       "      <td>0.149928</td>\n",
       "      <td>0.661293</td>\n",
       "    </tr>\n",
       "  </tbody>\n",
       "</table>\n",
       "</div>"
      ],
      "text/plain": [
       "                        scope1_dist  scope2_dist  scope3_dist\n",
       "Sector1                                                      \n",
       "Industrials                0.352629     0.232005     0.415367\n",
       "Healthcare                 0.140062     0.104649     0.755290\n",
       "Technology                 0.082355     0.172677     0.744968\n",
       "Communication Services     0.318732     0.250043     0.431225\n",
       "Consumer Staples           0.068022     0.076355     0.855623\n",
       "Consumer Discretionary     0.058529     0.011029     0.930442\n",
       "Financial Services         0.038153     0.179519     0.782329\n",
       "Real Estate                0.129314     0.524160     0.346527\n",
       "Energy                     0.557519     0.001110     0.441371\n",
       "Materials                  0.365151     0.283511     0.351338\n",
       "Utilities                  0.659385     0.012465     0.328150\n",
       "Total                      0.188779     0.149928     0.661293"
      ]
     },
     "metadata": {},
     "execution_count": 14
    }
   ],
   "metadata": {}
  },
  {
   "cell_type": "code",
   "execution_count": null,
   "source": [],
   "outputs": [],
   "metadata": {}
  },
  {
   "cell_type": "code",
   "execution_count": 15,
   "source": [
    "scope_by_sector_df\n"
   ],
   "outputs": [
    {
     "output_type": "execute_result",
     "data": {
      "text/html": [
       "<div>\n",
       "<style scoped>\n",
       "    .dataframe tbody tr th:only-of-type {\n",
       "        vertical-align: middle;\n",
       "    }\n",
       "\n",
       "    .dataframe tbody tr th {\n",
       "        vertical-align: top;\n",
       "    }\n",
       "\n",
       "    .dataframe thead th {\n",
       "        text-align: right;\n",
       "    }\n",
       "</style>\n",
       "<table border=\"1\" class=\"dataframe\">\n",
       "  <thead>\n",
       "    <tr style=\"text-align: right;\">\n",
       "      <th></th>\n",
       "      <th>scope1_dist</th>\n",
       "      <th>scope2_dist</th>\n",
       "      <th>scope3_dist</th>\n",
       "    </tr>\n",
       "    <tr>\n",
       "      <th>Sector1</th>\n",
       "      <th></th>\n",
       "      <th></th>\n",
       "      <th></th>\n",
       "    </tr>\n",
       "  </thead>\n",
       "  <tbody>\n",
       "    <tr>\n",
       "      <th>Industrials</th>\n",
       "      <td>0.352629</td>\n",
       "      <td>0.232005</td>\n",
       "      <td>0.415367</td>\n",
       "    </tr>\n",
       "    <tr>\n",
       "      <th>Healthcare</th>\n",
       "      <td>0.140062</td>\n",
       "      <td>0.104649</td>\n",
       "      <td>0.755290</td>\n",
       "    </tr>\n",
       "    <tr>\n",
       "      <th>Technology</th>\n",
       "      <td>0.082355</td>\n",
       "      <td>0.172677</td>\n",
       "      <td>0.744968</td>\n",
       "    </tr>\n",
       "    <tr>\n",
       "      <th>Communication Services</th>\n",
       "      <td>0.318732</td>\n",
       "      <td>0.250043</td>\n",
       "      <td>0.431225</td>\n",
       "    </tr>\n",
       "    <tr>\n",
       "      <th>Consumer Staples</th>\n",
       "      <td>0.068022</td>\n",
       "      <td>0.076355</td>\n",
       "      <td>0.855623</td>\n",
       "    </tr>\n",
       "    <tr>\n",
       "      <th>Consumer Discretionary</th>\n",
       "      <td>0.058529</td>\n",
       "      <td>0.011029</td>\n",
       "      <td>0.930442</td>\n",
       "    </tr>\n",
       "    <tr>\n",
       "      <th>Financial Services</th>\n",
       "      <td>0.038153</td>\n",
       "      <td>0.179519</td>\n",
       "      <td>0.782329</td>\n",
       "    </tr>\n",
       "    <tr>\n",
       "      <th>Real Estate</th>\n",
       "      <td>0.129314</td>\n",
       "      <td>0.524160</td>\n",
       "      <td>0.346527</td>\n",
       "    </tr>\n",
       "    <tr>\n",
       "      <th>Energy</th>\n",
       "      <td>0.557519</td>\n",
       "      <td>0.001110</td>\n",
       "      <td>0.441371</td>\n",
       "    </tr>\n",
       "    <tr>\n",
       "      <th>Materials</th>\n",
       "      <td>0.365151</td>\n",
       "      <td>0.283511</td>\n",
       "      <td>0.351338</td>\n",
       "    </tr>\n",
       "    <tr>\n",
       "      <th>Utilities</th>\n",
       "      <td>0.659385</td>\n",
       "      <td>0.012465</td>\n",
       "      <td>0.328150</td>\n",
       "    </tr>\n",
       "    <tr>\n",
       "      <th>Total</th>\n",
       "      <td>0.188779</td>\n",
       "      <td>0.149928</td>\n",
       "      <td>0.661293</td>\n",
       "    </tr>\n",
       "  </tbody>\n",
       "</table>\n",
       "</div>"
      ],
      "text/plain": [
       "                        scope1_dist  scope2_dist  scope3_dist\n",
       "Sector1                                                      \n",
       "Industrials                0.352629     0.232005     0.415367\n",
       "Healthcare                 0.140062     0.104649     0.755290\n",
       "Technology                 0.082355     0.172677     0.744968\n",
       "Communication Services     0.318732     0.250043     0.431225\n",
       "Consumer Staples           0.068022     0.076355     0.855623\n",
       "Consumer Discretionary     0.058529     0.011029     0.930442\n",
       "Financial Services         0.038153     0.179519     0.782329\n",
       "Real Estate                0.129314     0.524160     0.346527\n",
       "Energy                     0.557519     0.001110     0.441371\n",
       "Materials                  0.365151     0.283511     0.351338\n",
       "Utilities                  0.659385     0.012465     0.328150\n",
       "Total                      0.188779     0.149928     0.661293"
      ]
     },
     "metadata": {},
     "execution_count": 15
    }
   ],
   "metadata": {}
  },
  {
   "cell_type": "code",
   "execution_count": 16,
   "source": [
    "#CHECK\n",
    "scope_by_sector_df['scope1_dist'] + scope_by_sector_df['scope2_dist'] + scope_by_sector_df['scope3_dist']"
   ],
   "outputs": [
    {
     "output_type": "execute_result",
     "data": {
      "text/plain": [
       "Sector1\n",
       "Industrials               1.0\n",
       "Healthcare                1.0\n",
       "Technology                1.0\n",
       "Communication Services    1.0\n",
       "Consumer Staples          1.0\n",
       "Consumer Discretionary    1.0\n",
       "Financial Services        1.0\n",
       "Real Estate               1.0\n",
       "Energy                    1.0\n",
       "Materials                 1.0\n",
       "Utilities                 1.0\n",
       "Total                     1.0\n",
       "dtype: float64"
      ]
     },
     "metadata": {},
     "execution_count": 16
    }
   ],
   "metadata": {}
  },
  {
   "cell_type": "code",
   "execution_count": 17,
   "source": [
    "x0 = scope_by_sector_df.index\n",
    "y0=['Scope 1', 'Scope 2', 'Scope 3']\n",
    "z0 = [scope_by_sector_df['scope1_dist'],\n",
    "      scope_by_sector_df['scope2_dist'],\n",
    "      scope_by_sector_df['scope3_dist']]"
   ],
   "outputs": [],
   "metadata": {}
  },
  {
   "cell_type": "code",
   "execution_count": 18,
   "source": [
    "trace = go.Heatmap(z = z0,\n",
    "                  x = x0,\n",
    "                   y = y0,\n",
    "                  colorscale = 'amp')"
   ],
   "outputs": [],
   "metadata": {}
  },
  {
   "cell_type": "code",
   "execution_count": 19,
   "source": [
    "list(scope_by_sector_df.index)"
   ],
   "outputs": [
    {
     "output_type": "execute_result",
     "data": {
      "text/plain": [
       "['Industrials',\n",
       " 'Healthcare',\n",
       " 'Technology',\n",
       " 'Communication Services',\n",
       " 'Consumer Staples',\n",
       " 'Consumer Discretionary',\n",
       " 'Financial Services',\n",
       " 'Real Estate',\n",
       " 'Energy',\n",
       " 'Materials',\n",
       " 'Utilities',\n",
       " 'Total']"
      ]
     },
     "metadata": {},
     "execution_count": 19
    }
   ],
   "metadata": {}
  },
  {
   "cell_type": "code",
   "execution_count": 20,
   "source": [
    "if scope3_completeness:\n",
    "    title = \"Real Picture Based on Transparent Companies\"\n",
    "else:\n",
    "    title = \"What is Currently Reported\"\n"
   ],
   "outputs": [],
   "metadata": {}
  },
  {
   "cell_type": "code",
   "execution_count": 21,
   "source": [
    "layout = go.Layout (\n",
    "    title = title,\n",
    "    titlefont = dict(family = 'Arial', size = 25),\n",
    "    plot_bgcolor = 'antiquewhite'\n",
    ")"
   ],
   "outputs": [],
   "metadata": {}
  },
  {
   "cell_type": "code",
   "execution_count": 22,
   "source": [
    "fig = go.Figure(data = [trace], \n",
    "                layout = layout)\n",
    "offline.iplot(fig)"
   ],
   "outputs": [
    {
     "output_type": "display_data",
     "data": {
      "application/vnd.plotly.v1+json": {
       "config": {
        "linkText": "Export to plot.ly",
        "plotlyServerURL": "https://plot.ly",
        "showLink": false
       },
       "data": [
        {
         "colorscale": [
          [
           0,
           "rgb(241, 236, 236)"
          ],
          [
           0.09090909090909091,
           "rgb(230, 209, 203)"
          ],
          [
           0.18181818181818182,
           "rgb(221, 182, 170)"
          ],
          [
           0.2727272727272727,
           "rgb(213, 156, 137)"
          ],
          [
           0.36363636363636365,
           "rgb(205, 129, 103)"
          ],
          [
           0.45454545454545453,
           "rgb(196, 102, 73)"
          ],
          [
           0.5454545454545454,
           "rgb(186, 74, 47)"
          ],
          [
           0.6363636363636364,
           "rgb(172, 44, 36)"
          ],
          [
           0.7272727272727273,
           "rgb(149, 19, 39)"
          ],
          [
           0.8181818181818182,
           "rgb(120, 14, 40)"
          ],
          [
           0.9090909090909091,
           "rgb(89, 13, 31)"
          ],
          [
           1,
           "rgb(60, 9, 17)"
          ]
         ],
         "type": "heatmap",
         "x": [
          "Industrials",
          "Healthcare",
          "Technology",
          "Communication Services",
          "Consumer Staples",
          "Consumer Discretionary",
          "Financial Services",
          "Real Estate",
          "Energy",
          "Materials",
          "Utilities",
          "Total"
         ],
         "y": [
          "Scope 1",
          "Scope 2",
          "Scope 3"
         ],
         "z": [
          [
           0.3526285232559215,
           0.14006174818532716,
           0.08235533206962468,
           0.3187315600537427,
           0.06802242180302899,
           0.058528632365188564,
           0.03815251392545124,
           0.12931353385694266,
           0.5575192094209397,
           0.3651506078059669,
           0.6593849978524581,
           0.18877912656932266
          ],
          [
           0.2320049475892435,
           0.10464862950948452,
           0.1726771455983375,
           0.2500429417751905,
           0.07635471589822616,
           0.011029293872268016,
           0.17951866870480193,
           0.52415959627542,
           0.0011095009678027243,
           0.28351095464888537,
           0.012465408273718585,
           0.14992802211032202
          ],
          [
           0.41536652915483496,
           0.7552896223051883,
           0.7449675223320379,
           0.43122549817106687,
           0.8556228622987448,
           0.9304420737625434,
           0.7823288173697468,
           0.34652686986763737,
           0.44137128961125754,
           0.35133843754514776,
           0.32814959387382336,
           0.6612928513203554
          ]
         ]
        }
       ],
       "layout": {
        "plot_bgcolor": "antiquewhite",
        "template": {
         "data": {
          "bar": [
           {
            "error_x": {
             "color": "#2a3f5f"
            },
            "error_y": {
             "color": "#2a3f5f"
            },
            "marker": {
             "line": {
              "color": "#E5ECF6",
              "width": 0.5
             },
             "pattern": {
              "fillmode": "overlay",
              "size": 10,
              "solidity": 0.2
             }
            },
            "type": "bar"
           }
          ],
          "barpolar": [
           {
            "marker": {
             "line": {
              "color": "#E5ECF6",
              "width": 0.5
             },
             "pattern": {
              "fillmode": "overlay",
              "size": 10,
              "solidity": 0.2
             }
            },
            "type": "barpolar"
           }
          ],
          "carpet": [
           {
            "aaxis": {
             "endlinecolor": "#2a3f5f",
             "gridcolor": "white",
             "linecolor": "white",
             "minorgridcolor": "white",
             "startlinecolor": "#2a3f5f"
            },
            "baxis": {
             "endlinecolor": "#2a3f5f",
             "gridcolor": "white",
             "linecolor": "white",
             "minorgridcolor": "white",
             "startlinecolor": "#2a3f5f"
            },
            "type": "carpet"
           }
          ],
          "choropleth": [
           {
            "colorbar": {
             "outlinewidth": 0,
             "ticks": ""
            },
            "type": "choropleth"
           }
          ],
          "contour": [
           {
            "colorbar": {
             "outlinewidth": 0,
             "ticks": ""
            },
            "colorscale": [
             [
              0,
              "#0d0887"
             ],
             [
              0.1111111111111111,
              "#46039f"
             ],
             [
              0.2222222222222222,
              "#7201a8"
             ],
             [
              0.3333333333333333,
              "#9c179e"
             ],
             [
              0.4444444444444444,
              "#bd3786"
             ],
             [
              0.5555555555555556,
              "#d8576b"
             ],
             [
              0.6666666666666666,
              "#ed7953"
             ],
             [
              0.7777777777777778,
              "#fb9f3a"
             ],
             [
              0.8888888888888888,
              "#fdca26"
             ],
             [
              1,
              "#f0f921"
             ]
            ],
            "type": "contour"
           }
          ],
          "contourcarpet": [
           {
            "colorbar": {
             "outlinewidth": 0,
             "ticks": ""
            },
            "type": "contourcarpet"
           }
          ],
          "heatmap": [
           {
            "colorbar": {
             "outlinewidth": 0,
             "ticks": ""
            },
            "colorscale": [
             [
              0,
              "#0d0887"
             ],
             [
              0.1111111111111111,
              "#46039f"
             ],
             [
              0.2222222222222222,
              "#7201a8"
             ],
             [
              0.3333333333333333,
              "#9c179e"
             ],
             [
              0.4444444444444444,
              "#bd3786"
             ],
             [
              0.5555555555555556,
              "#d8576b"
             ],
             [
              0.6666666666666666,
              "#ed7953"
             ],
             [
              0.7777777777777778,
              "#fb9f3a"
             ],
             [
              0.8888888888888888,
              "#fdca26"
             ],
             [
              1,
              "#f0f921"
             ]
            ],
            "type": "heatmap"
           }
          ],
          "heatmapgl": [
           {
            "colorbar": {
             "outlinewidth": 0,
             "ticks": ""
            },
            "colorscale": [
             [
              0,
              "#0d0887"
             ],
             [
              0.1111111111111111,
              "#46039f"
             ],
             [
              0.2222222222222222,
              "#7201a8"
             ],
             [
              0.3333333333333333,
              "#9c179e"
             ],
             [
              0.4444444444444444,
              "#bd3786"
             ],
             [
              0.5555555555555556,
              "#d8576b"
             ],
             [
              0.6666666666666666,
              "#ed7953"
             ],
             [
              0.7777777777777778,
              "#fb9f3a"
             ],
             [
              0.8888888888888888,
              "#fdca26"
             ],
             [
              1,
              "#f0f921"
             ]
            ],
            "type": "heatmapgl"
           }
          ],
          "histogram": [
           {
            "marker": {
             "pattern": {
              "fillmode": "overlay",
              "size": 10,
              "solidity": 0.2
             }
            },
            "type": "histogram"
           }
          ],
          "histogram2d": [
           {
            "colorbar": {
             "outlinewidth": 0,
             "ticks": ""
            },
            "colorscale": [
             [
              0,
              "#0d0887"
             ],
             [
              0.1111111111111111,
              "#46039f"
             ],
             [
              0.2222222222222222,
              "#7201a8"
             ],
             [
              0.3333333333333333,
              "#9c179e"
             ],
             [
              0.4444444444444444,
              "#bd3786"
             ],
             [
              0.5555555555555556,
              "#d8576b"
             ],
             [
              0.6666666666666666,
              "#ed7953"
             ],
             [
              0.7777777777777778,
              "#fb9f3a"
             ],
             [
              0.8888888888888888,
              "#fdca26"
             ],
             [
              1,
              "#f0f921"
             ]
            ],
            "type": "histogram2d"
           }
          ],
          "histogram2dcontour": [
           {
            "colorbar": {
             "outlinewidth": 0,
             "ticks": ""
            },
            "colorscale": [
             [
              0,
              "#0d0887"
             ],
             [
              0.1111111111111111,
              "#46039f"
             ],
             [
              0.2222222222222222,
              "#7201a8"
             ],
             [
              0.3333333333333333,
              "#9c179e"
             ],
             [
              0.4444444444444444,
              "#bd3786"
             ],
             [
              0.5555555555555556,
              "#d8576b"
             ],
             [
              0.6666666666666666,
              "#ed7953"
             ],
             [
              0.7777777777777778,
              "#fb9f3a"
             ],
             [
              0.8888888888888888,
              "#fdca26"
             ],
             [
              1,
              "#f0f921"
             ]
            ],
            "type": "histogram2dcontour"
           }
          ],
          "mesh3d": [
           {
            "colorbar": {
             "outlinewidth": 0,
             "ticks": ""
            },
            "type": "mesh3d"
           }
          ],
          "parcoords": [
           {
            "line": {
             "colorbar": {
              "outlinewidth": 0,
              "ticks": ""
             }
            },
            "type": "parcoords"
           }
          ],
          "pie": [
           {
            "automargin": true,
            "type": "pie"
           }
          ],
          "scatter": [
           {
            "marker": {
             "colorbar": {
              "outlinewidth": 0,
              "ticks": ""
             }
            },
            "type": "scatter"
           }
          ],
          "scatter3d": [
           {
            "line": {
             "colorbar": {
              "outlinewidth": 0,
              "ticks": ""
             }
            },
            "marker": {
             "colorbar": {
              "outlinewidth": 0,
              "ticks": ""
             }
            },
            "type": "scatter3d"
           }
          ],
          "scattercarpet": [
           {
            "marker": {
             "colorbar": {
              "outlinewidth": 0,
              "ticks": ""
             }
            },
            "type": "scattercarpet"
           }
          ],
          "scattergeo": [
           {
            "marker": {
             "colorbar": {
              "outlinewidth": 0,
              "ticks": ""
             }
            },
            "type": "scattergeo"
           }
          ],
          "scattergl": [
           {
            "marker": {
             "colorbar": {
              "outlinewidth": 0,
              "ticks": ""
             }
            },
            "type": "scattergl"
           }
          ],
          "scattermapbox": [
           {
            "marker": {
             "colorbar": {
              "outlinewidth": 0,
              "ticks": ""
             }
            },
            "type": "scattermapbox"
           }
          ],
          "scatterpolar": [
           {
            "marker": {
             "colorbar": {
              "outlinewidth": 0,
              "ticks": ""
             }
            },
            "type": "scatterpolar"
           }
          ],
          "scatterpolargl": [
           {
            "marker": {
             "colorbar": {
              "outlinewidth": 0,
              "ticks": ""
             }
            },
            "type": "scatterpolargl"
           }
          ],
          "scatterternary": [
           {
            "marker": {
             "colorbar": {
              "outlinewidth": 0,
              "ticks": ""
             }
            },
            "type": "scatterternary"
           }
          ],
          "surface": [
           {
            "colorbar": {
             "outlinewidth": 0,
             "ticks": ""
            },
            "colorscale": [
             [
              0,
              "#0d0887"
             ],
             [
              0.1111111111111111,
              "#46039f"
             ],
             [
              0.2222222222222222,
              "#7201a8"
             ],
             [
              0.3333333333333333,
              "#9c179e"
             ],
             [
              0.4444444444444444,
              "#bd3786"
             ],
             [
              0.5555555555555556,
              "#d8576b"
             ],
             [
              0.6666666666666666,
              "#ed7953"
             ],
             [
              0.7777777777777778,
              "#fb9f3a"
             ],
             [
              0.8888888888888888,
              "#fdca26"
             ],
             [
              1,
              "#f0f921"
             ]
            ],
            "type": "surface"
           }
          ],
          "table": [
           {
            "cells": {
             "fill": {
              "color": "#EBF0F8"
             },
             "line": {
              "color": "white"
             }
            },
            "header": {
             "fill": {
              "color": "#C8D4E3"
             },
             "line": {
              "color": "white"
             }
            },
            "type": "table"
           }
          ]
         },
         "layout": {
          "annotationdefaults": {
           "arrowcolor": "#2a3f5f",
           "arrowhead": 0,
           "arrowwidth": 1
          },
          "autotypenumbers": "strict",
          "coloraxis": {
           "colorbar": {
            "outlinewidth": 0,
            "ticks": ""
           }
          },
          "colorscale": {
           "diverging": [
            [
             0,
             "#8e0152"
            ],
            [
             0.1,
             "#c51b7d"
            ],
            [
             0.2,
             "#de77ae"
            ],
            [
             0.3,
             "#f1b6da"
            ],
            [
             0.4,
             "#fde0ef"
            ],
            [
             0.5,
             "#f7f7f7"
            ],
            [
             0.6,
             "#e6f5d0"
            ],
            [
             0.7,
             "#b8e186"
            ],
            [
             0.8,
             "#7fbc41"
            ],
            [
             0.9,
             "#4d9221"
            ],
            [
             1,
             "#276419"
            ]
           ],
           "sequential": [
            [
             0,
             "#0d0887"
            ],
            [
             0.1111111111111111,
             "#46039f"
            ],
            [
             0.2222222222222222,
             "#7201a8"
            ],
            [
             0.3333333333333333,
             "#9c179e"
            ],
            [
             0.4444444444444444,
             "#bd3786"
            ],
            [
             0.5555555555555556,
             "#d8576b"
            ],
            [
             0.6666666666666666,
             "#ed7953"
            ],
            [
             0.7777777777777778,
             "#fb9f3a"
            ],
            [
             0.8888888888888888,
             "#fdca26"
            ],
            [
             1,
             "#f0f921"
            ]
           ],
           "sequentialminus": [
            [
             0,
             "#0d0887"
            ],
            [
             0.1111111111111111,
             "#46039f"
            ],
            [
             0.2222222222222222,
             "#7201a8"
            ],
            [
             0.3333333333333333,
             "#9c179e"
            ],
            [
             0.4444444444444444,
             "#bd3786"
            ],
            [
             0.5555555555555556,
             "#d8576b"
            ],
            [
             0.6666666666666666,
             "#ed7953"
            ],
            [
             0.7777777777777778,
             "#fb9f3a"
            ],
            [
             0.8888888888888888,
             "#fdca26"
            ],
            [
             1,
             "#f0f921"
            ]
           ]
          },
          "colorway": [
           "#636efa",
           "#EF553B",
           "#00cc96",
           "#ab63fa",
           "#FFA15A",
           "#19d3f3",
           "#FF6692",
           "#B6E880",
           "#FF97FF",
           "#FECB52"
          ],
          "font": {
           "color": "#2a3f5f"
          },
          "geo": {
           "bgcolor": "white",
           "lakecolor": "white",
           "landcolor": "#E5ECF6",
           "showlakes": true,
           "showland": true,
           "subunitcolor": "white"
          },
          "hoverlabel": {
           "align": "left"
          },
          "hovermode": "closest",
          "mapbox": {
           "style": "light"
          },
          "paper_bgcolor": "white",
          "plot_bgcolor": "#E5ECF6",
          "polar": {
           "angularaxis": {
            "gridcolor": "white",
            "linecolor": "white",
            "ticks": ""
           },
           "bgcolor": "#E5ECF6",
           "radialaxis": {
            "gridcolor": "white",
            "linecolor": "white",
            "ticks": ""
           }
          },
          "scene": {
           "xaxis": {
            "backgroundcolor": "#E5ECF6",
            "gridcolor": "white",
            "gridwidth": 2,
            "linecolor": "white",
            "showbackground": true,
            "ticks": "",
            "zerolinecolor": "white"
           },
           "yaxis": {
            "backgroundcolor": "#E5ECF6",
            "gridcolor": "white",
            "gridwidth": 2,
            "linecolor": "white",
            "showbackground": true,
            "ticks": "",
            "zerolinecolor": "white"
           },
           "zaxis": {
            "backgroundcolor": "#E5ECF6",
            "gridcolor": "white",
            "gridwidth": 2,
            "linecolor": "white",
            "showbackground": true,
            "ticks": "",
            "zerolinecolor": "white"
           }
          },
          "shapedefaults": {
           "line": {
            "color": "#2a3f5f"
           }
          },
          "ternary": {
           "aaxis": {
            "gridcolor": "white",
            "linecolor": "white",
            "ticks": ""
           },
           "baxis": {
            "gridcolor": "white",
            "linecolor": "white",
            "ticks": ""
           },
           "bgcolor": "#E5ECF6",
           "caxis": {
            "gridcolor": "white",
            "linecolor": "white",
            "ticks": ""
           }
          },
          "title": {
           "x": 0.05
          },
          "xaxis": {
           "automargin": true,
           "gridcolor": "white",
           "linecolor": "white",
           "ticks": "",
           "title": {
            "standoff": 15
           },
           "zerolinecolor": "white",
           "zerolinewidth": 2
          },
          "yaxis": {
           "automargin": true,
           "gridcolor": "white",
           "linecolor": "white",
           "ticks": "",
           "title": {
            "standoff": 15
           },
           "zerolinecolor": "white",
           "zerolinewidth": 2
          }
         }
        },
        "title": {
         "font": {
          "family": "Arial",
          "size": 25
         },
         "text": "What is Currently Reported"
        }
       }
      },
      "text/html": [
       "<div>                            <div id=\"c5424a70-8a0c-4fd7-9585-e77fdd169f24\" class=\"plotly-graph-div\" style=\"height:525px; width:100%;\"></div>            <script type=\"text/javascript\">                require([\"plotly\"], function(Plotly) {                    window.PLOTLYENV=window.PLOTLYENV || {};                                    if (document.getElementById(\"c5424a70-8a0c-4fd7-9585-e77fdd169f24\")) {                    Plotly.newPlot(                        \"c5424a70-8a0c-4fd7-9585-e77fdd169f24\",                        [{\"colorscale\":[[0.0,\"rgb(241, 236, 236)\"],[0.09090909090909091,\"rgb(230, 209, 203)\"],[0.18181818181818182,\"rgb(221, 182, 170)\"],[0.2727272727272727,\"rgb(213, 156, 137)\"],[0.36363636363636365,\"rgb(205, 129, 103)\"],[0.45454545454545453,\"rgb(196, 102, 73)\"],[0.5454545454545454,\"rgb(186, 74, 47)\"],[0.6363636363636364,\"rgb(172, 44, 36)\"],[0.7272727272727273,\"rgb(149, 19, 39)\"],[0.8181818181818182,\"rgb(120, 14, 40)\"],[0.9090909090909091,\"rgb(89, 13, 31)\"],[1.0,\"rgb(60, 9, 17)\"]],\"type\":\"heatmap\",\"x\":[\"Industrials\",\"Healthcare\",\"Technology\",\"Communication Services\",\"Consumer Staples\",\"Consumer Discretionary\",\"Financial Services\",\"Real Estate\",\"Energy\",\"Materials\",\"Utilities\",\"Total\"],\"y\":[\"Scope 1\",\"Scope 2\",\"Scope 3\"],\"z\":[[0.3526285232559215,0.14006174818532716,0.08235533206962468,0.3187315600537427,0.06802242180302899,0.058528632365188564,0.03815251392545124,0.12931353385694266,0.5575192094209397,0.3651506078059669,0.6593849978524581,0.18877912656932266],[0.2320049475892435,0.10464862950948452,0.1726771455983375,0.2500429417751905,0.07635471589822616,0.011029293872268016,0.17951866870480193,0.52415959627542,0.0011095009678027243,0.28351095464888537,0.012465408273718585,0.14992802211032202],[0.41536652915483496,0.7552896223051883,0.7449675223320379,0.43122549817106687,0.8556228622987448,0.9304420737625434,0.7823288173697468,0.34652686986763737,0.44137128961125754,0.35133843754514776,0.32814959387382336,0.6612928513203554]]}],                        {\"plot_bgcolor\":\"antiquewhite\",\"template\":{\"data\":{\"bar\":[{\"error_x\":{\"color\":\"#2a3f5f\"},\"error_y\":{\"color\":\"#2a3f5f\"},\"marker\":{\"line\":{\"color\":\"#E5ECF6\",\"width\":0.5},\"pattern\":{\"fillmode\":\"overlay\",\"size\":10,\"solidity\":0.2}},\"type\":\"bar\"}],\"barpolar\":[{\"marker\":{\"line\":{\"color\":\"#E5ECF6\",\"width\":0.5},\"pattern\":{\"fillmode\":\"overlay\",\"size\":10,\"solidity\":0.2}},\"type\":\"barpolar\"}],\"carpet\":[{\"aaxis\":{\"endlinecolor\":\"#2a3f5f\",\"gridcolor\":\"white\",\"linecolor\":\"white\",\"minorgridcolor\":\"white\",\"startlinecolor\":\"#2a3f5f\"},\"baxis\":{\"endlinecolor\":\"#2a3f5f\",\"gridcolor\":\"white\",\"linecolor\":\"white\",\"minorgridcolor\":\"white\",\"startlinecolor\":\"#2a3f5f\"},\"type\":\"carpet\"}],\"choropleth\":[{\"colorbar\":{\"outlinewidth\":0,\"ticks\":\"\"},\"type\":\"choropleth\"}],\"contour\":[{\"colorbar\":{\"outlinewidth\":0,\"ticks\":\"\"},\"colorscale\":[[0.0,\"#0d0887\"],[0.1111111111111111,\"#46039f\"],[0.2222222222222222,\"#7201a8\"],[0.3333333333333333,\"#9c179e\"],[0.4444444444444444,\"#bd3786\"],[0.5555555555555556,\"#d8576b\"],[0.6666666666666666,\"#ed7953\"],[0.7777777777777778,\"#fb9f3a\"],[0.8888888888888888,\"#fdca26\"],[1.0,\"#f0f921\"]],\"type\":\"contour\"}],\"contourcarpet\":[{\"colorbar\":{\"outlinewidth\":0,\"ticks\":\"\"},\"type\":\"contourcarpet\"}],\"heatmap\":[{\"colorbar\":{\"outlinewidth\":0,\"ticks\":\"\"},\"colorscale\":[[0.0,\"#0d0887\"],[0.1111111111111111,\"#46039f\"],[0.2222222222222222,\"#7201a8\"],[0.3333333333333333,\"#9c179e\"],[0.4444444444444444,\"#bd3786\"],[0.5555555555555556,\"#d8576b\"],[0.6666666666666666,\"#ed7953\"],[0.7777777777777778,\"#fb9f3a\"],[0.8888888888888888,\"#fdca26\"],[1.0,\"#f0f921\"]],\"type\":\"heatmap\"}],\"heatmapgl\":[{\"colorbar\":{\"outlinewidth\":0,\"ticks\":\"\"},\"colorscale\":[[0.0,\"#0d0887\"],[0.1111111111111111,\"#46039f\"],[0.2222222222222222,\"#7201a8\"],[0.3333333333333333,\"#9c179e\"],[0.4444444444444444,\"#bd3786\"],[0.5555555555555556,\"#d8576b\"],[0.6666666666666666,\"#ed7953\"],[0.7777777777777778,\"#fb9f3a\"],[0.8888888888888888,\"#fdca26\"],[1.0,\"#f0f921\"]],\"type\":\"heatmapgl\"}],\"histogram\":[{\"marker\":{\"pattern\":{\"fillmode\":\"overlay\",\"size\":10,\"solidity\":0.2}},\"type\":\"histogram\"}],\"histogram2d\":[{\"colorbar\":{\"outlinewidth\":0,\"ticks\":\"\"},\"colorscale\":[[0.0,\"#0d0887\"],[0.1111111111111111,\"#46039f\"],[0.2222222222222222,\"#7201a8\"],[0.3333333333333333,\"#9c179e\"],[0.4444444444444444,\"#bd3786\"],[0.5555555555555556,\"#d8576b\"],[0.6666666666666666,\"#ed7953\"],[0.7777777777777778,\"#fb9f3a\"],[0.8888888888888888,\"#fdca26\"],[1.0,\"#f0f921\"]],\"type\":\"histogram2d\"}],\"histogram2dcontour\":[{\"colorbar\":{\"outlinewidth\":0,\"ticks\":\"\"},\"colorscale\":[[0.0,\"#0d0887\"],[0.1111111111111111,\"#46039f\"],[0.2222222222222222,\"#7201a8\"],[0.3333333333333333,\"#9c179e\"],[0.4444444444444444,\"#bd3786\"],[0.5555555555555556,\"#d8576b\"],[0.6666666666666666,\"#ed7953\"],[0.7777777777777778,\"#fb9f3a\"],[0.8888888888888888,\"#fdca26\"],[1.0,\"#f0f921\"]],\"type\":\"histogram2dcontour\"}],\"mesh3d\":[{\"colorbar\":{\"outlinewidth\":0,\"ticks\":\"\"},\"type\":\"mesh3d\"}],\"parcoords\":[{\"line\":{\"colorbar\":{\"outlinewidth\":0,\"ticks\":\"\"}},\"type\":\"parcoords\"}],\"pie\":[{\"automargin\":true,\"type\":\"pie\"}],\"scatter\":[{\"marker\":{\"colorbar\":{\"outlinewidth\":0,\"ticks\":\"\"}},\"type\":\"scatter\"}],\"scatter3d\":[{\"line\":{\"colorbar\":{\"outlinewidth\":0,\"ticks\":\"\"}},\"marker\":{\"colorbar\":{\"outlinewidth\":0,\"ticks\":\"\"}},\"type\":\"scatter3d\"}],\"scattercarpet\":[{\"marker\":{\"colorbar\":{\"outlinewidth\":0,\"ticks\":\"\"}},\"type\":\"scattercarpet\"}],\"scattergeo\":[{\"marker\":{\"colorbar\":{\"outlinewidth\":0,\"ticks\":\"\"}},\"type\":\"scattergeo\"}],\"scattergl\":[{\"marker\":{\"colorbar\":{\"outlinewidth\":0,\"ticks\":\"\"}},\"type\":\"scattergl\"}],\"scattermapbox\":[{\"marker\":{\"colorbar\":{\"outlinewidth\":0,\"ticks\":\"\"}},\"type\":\"scattermapbox\"}],\"scatterpolar\":[{\"marker\":{\"colorbar\":{\"outlinewidth\":0,\"ticks\":\"\"}},\"type\":\"scatterpolar\"}],\"scatterpolargl\":[{\"marker\":{\"colorbar\":{\"outlinewidth\":0,\"ticks\":\"\"}},\"type\":\"scatterpolargl\"}],\"scatterternary\":[{\"marker\":{\"colorbar\":{\"outlinewidth\":0,\"ticks\":\"\"}},\"type\":\"scatterternary\"}],\"surface\":[{\"colorbar\":{\"outlinewidth\":0,\"ticks\":\"\"},\"colorscale\":[[0.0,\"#0d0887\"],[0.1111111111111111,\"#46039f\"],[0.2222222222222222,\"#7201a8\"],[0.3333333333333333,\"#9c179e\"],[0.4444444444444444,\"#bd3786\"],[0.5555555555555556,\"#d8576b\"],[0.6666666666666666,\"#ed7953\"],[0.7777777777777778,\"#fb9f3a\"],[0.8888888888888888,\"#fdca26\"],[1.0,\"#f0f921\"]],\"type\":\"surface\"}],\"table\":[{\"cells\":{\"fill\":{\"color\":\"#EBF0F8\"},\"line\":{\"color\":\"white\"}},\"header\":{\"fill\":{\"color\":\"#C8D4E3\"},\"line\":{\"color\":\"white\"}},\"type\":\"table\"}]},\"layout\":{\"annotationdefaults\":{\"arrowcolor\":\"#2a3f5f\",\"arrowhead\":0,\"arrowwidth\":1},\"autotypenumbers\":\"strict\",\"coloraxis\":{\"colorbar\":{\"outlinewidth\":0,\"ticks\":\"\"}},\"colorscale\":{\"diverging\":[[0,\"#8e0152\"],[0.1,\"#c51b7d\"],[0.2,\"#de77ae\"],[0.3,\"#f1b6da\"],[0.4,\"#fde0ef\"],[0.5,\"#f7f7f7\"],[0.6,\"#e6f5d0\"],[0.7,\"#b8e186\"],[0.8,\"#7fbc41\"],[0.9,\"#4d9221\"],[1,\"#276419\"]],\"sequential\":[[0.0,\"#0d0887\"],[0.1111111111111111,\"#46039f\"],[0.2222222222222222,\"#7201a8\"],[0.3333333333333333,\"#9c179e\"],[0.4444444444444444,\"#bd3786\"],[0.5555555555555556,\"#d8576b\"],[0.6666666666666666,\"#ed7953\"],[0.7777777777777778,\"#fb9f3a\"],[0.8888888888888888,\"#fdca26\"],[1.0,\"#f0f921\"]],\"sequentialminus\":[[0.0,\"#0d0887\"],[0.1111111111111111,\"#46039f\"],[0.2222222222222222,\"#7201a8\"],[0.3333333333333333,\"#9c179e\"],[0.4444444444444444,\"#bd3786\"],[0.5555555555555556,\"#d8576b\"],[0.6666666666666666,\"#ed7953\"],[0.7777777777777778,\"#fb9f3a\"],[0.8888888888888888,\"#fdca26\"],[1.0,\"#f0f921\"]]},\"colorway\":[\"#636efa\",\"#EF553B\",\"#00cc96\",\"#ab63fa\",\"#FFA15A\",\"#19d3f3\",\"#FF6692\",\"#B6E880\",\"#FF97FF\",\"#FECB52\"],\"font\":{\"color\":\"#2a3f5f\"},\"geo\":{\"bgcolor\":\"white\",\"lakecolor\":\"white\",\"landcolor\":\"#E5ECF6\",\"showlakes\":true,\"showland\":true,\"subunitcolor\":\"white\"},\"hoverlabel\":{\"align\":\"left\"},\"hovermode\":\"closest\",\"mapbox\":{\"style\":\"light\"},\"paper_bgcolor\":\"white\",\"plot_bgcolor\":\"#E5ECF6\",\"polar\":{\"angularaxis\":{\"gridcolor\":\"white\",\"linecolor\":\"white\",\"ticks\":\"\"},\"bgcolor\":\"#E5ECF6\",\"radialaxis\":{\"gridcolor\":\"white\",\"linecolor\":\"white\",\"ticks\":\"\"}},\"scene\":{\"xaxis\":{\"backgroundcolor\":\"#E5ECF6\",\"gridcolor\":\"white\",\"gridwidth\":2,\"linecolor\":\"white\",\"showbackground\":true,\"ticks\":\"\",\"zerolinecolor\":\"white\"},\"yaxis\":{\"backgroundcolor\":\"#E5ECF6\",\"gridcolor\":\"white\",\"gridwidth\":2,\"linecolor\":\"white\",\"showbackground\":true,\"ticks\":\"\",\"zerolinecolor\":\"white\"},\"zaxis\":{\"backgroundcolor\":\"#E5ECF6\",\"gridcolor\":\"white\",\"gridwidth\":2,\"linecolor\":\"white\",\"showbackground\":true,\"ticks\":\"\",\"zerolinecolor\":\"white\"}},\"shapedefaults\":{\"line\":{\"color\":\"#2a3f5f\"}},\"ternary\":{\"aaxis\":{\"gridcolor\":\"white\",\"linecolor\":\"white\",\"ticks\":\"\"},\"baxis\":{\"gridcolor\":\"white\",\"linecolor\":\"white\",\"ticks\":\"\"},\"bgcolor\":\"#E5ECF6\",\"caxis\":{\"gridcolor\":\"white\",\"linecolor\":\"white\",\"ticks\":\"\"}},\"title\":{\"x\":0.05},\"xaxis\":{\"automargin\":true,\"gridcolor\":\"white\",\"linecolor\":\"white\",\"ticks\":\"\",\"title\":{\"standoff\":15},\"zerolinecolor\":\"white\",\"zerolinewidth\":2},\"yaxis\":{\"automargin\":true,\"gridcolor\":\"white\",\"linecolor\":\"white\",\"ticks\":\"\",\"title\":{\"standoff\":15},\"zerolinecolor\":\"white\",\"zerolinewidth\":2}}},\"title\":{\"font\":{\"family\":\"Arial\",\"size\":25},\"text\":\"What is Currently Reported\"}},                        {\"responsive\": true}                    ).then(function(){\n",
       "                            \n",
       "var gd = document.getElementById('c5424a70-8a0c-4fd7-9585-e77fdd169f24');\n",
       "var x = new MutationObserver(function (mutations, observer) {{\n",
       "        var display = window.getComputedStyle(gd).display;\n",
       "        if (!display || display === 'none') {{\n",
       "            console.log([gd, 'removed!']);\n",
       "            Plotly.purge(gd);\n",
       "            observer.disconnect();\n",
       "        }}\n",
       "}});\n",
       "\n",
       "// Listen for the removal of the full notebook cells\n",
       "var notebookContainer = gd.closest('#notebook-container');\n",
       "if (notebookContainer) {{\n",
       "    x.observe(notebookContainer, {childList: true});\n",
       "}}\n",
       "\n",
       "// Listen for the clearing of the current output cell\n",
       "var outputEl = gd.closest('.output');\n",
       "if (outputEl) {{\n",
       "    x.observe(outputEl, {childList: true});\n",
       "}}\n",
       "\n",
       "                        })                };                });            </script>        </div>"
      ]
     },
     "metadata": {}
    }
   ],
   "metadata": {}
  },
  {
   "cell_type": "code",
   "execution_count": 23,
   "source": [
    "config = {'displaylogo': False,\n",
    "        'responsive': True\n",
    "        }\n",
    "if scope3_completeness:\n",
    "    name_fig = 'real_scope_heatmap'\n",
    "else:\n",
    "    name_fig = 'reported_scope_heatmap'\n",
    "\n",
    "fig.write_image(\n",
    "                \"../../django_project/static/django_project/images/charts/{}/{}.jpeg\".format(\n",
    "                    'general',\n",
    "                    name_fig),\n",
    "                scale=3,\n",
    "                )\n",
    "plot(\n",
    "    fig,\n",
    "    config=config,\n",
    "    filename = '../../django_project/templates/django_project/home/charts/html_exports/{}/{}.html'.format(\n",
    "        'general',\n",
    "        name_fig),\n",
    "    auto_open=False)"
   ],
   "outputs": [
    {
     "output_type": "execute_result",
     "data": {
      "text/plain": [
       "'../../django_project/templates/django_project/home/charts/html_exports/general/reported_scope_heatmap.html'"
      ]
     },
     "metadata": {},
     "execution_count": 23
    }
   ],
   "metadata": {}
  },
  {
   "cell_type": "code",
   "execution_count": null,
   "source": [],
   "outputs": [],
   "metadata": {}
  }
 ],
 "metadata": {
  "kernelspec": {
   "name": "python3",
   "display_name": "Python 3.8.10 64-bit ('net0': conda)"
  },
  "language_info": {
   "codemirror_mode": {
    "name": "ipython",
    "version": 3
   },
   "file_extension": ".py",
   "mimetype": "text/x-python",
   "name": "python",
   "nbconvert_exporter": "python",
   "pygments_lexer": "ipython3",
   "version": "3.8.10"
  },
  "interpreter": {
   "hash": "84b39baf505a8e38b7ec8824bbebc862e460fb036cb6aab4774c507962c1b49d"
  }
 },
 "nbformat": 4,
 "nbformat_minor": 4
}