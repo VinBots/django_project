{
 "cells": [
  {
   "cell_type": "markdown",
   "source": [
    "# Playground"
   ],
   "metadata": {}
  },
  {
   "cell_type": "markdown",
   "source": [
    "## Import Libraries"
   ],
   "metadata": {}
  },
  {
   "cell_type": "code",
   "execution_count": 28,
   "source": [
    "import pandas as pd\n",
    "import plotly.graph_objs as go\n",
    "import plotly.offline as offline\n",
    "import os\n",
    "import numpy as np\n",
    "from plotly.offline import plot\n",
    "from pathlib import Path"
   ],
   "outputs": [],
   "metadata": {}
  },
  {
   "cell_type": "code",
   "execution_count": 29,
   "source": [
    "offline.init_notebook_mode(connected=True)"
   ],
   "outputs": [
    {
     "output_type": "display_data",
     "data": {
      "text/html": [
       "        <script type=\"text/javascript\">\n",
       "        window.PlotlyConfig = {MathJaxConfig: 'local'};\n",
       "        if (window.MathJax) {MathJax.Hub.Config({SVG: {font: \"STIX-Web\"}});}\n",
       "        if (typeof require !== 'undefined') {\n",
       "        require.undef(\"plotly\");\n",
       "        requirejs.config({\n",
       "            paths: {\n",
       "                'plotly': ['https://cdn.plot.ly/plotly-2.2.0.min']\n",
       "            }\n",
       "        });\n",
       "        require(['plotly'], function(Plotly) {\n",
       "            window._Plotly = Plotly;\n",
       "        });\n",
       "        }\n",
       "        </script>\n",
       "        "
      ]
     },
     "metadata": {}
    }
   ],
   "metadata": {}
  },
  {
   "cell_type": "markdown",
   "source": [
    "# Heatmap of GHG Emissions Scopes by Sector"
   ],
   "metadata": {}
  },
  {
   "cell_type": "code",
   "execution_count": 30,
   "source": [
    "scope3_completeness = True"
   ],
   "outputs": [],
   "metadata": {}
  },
  {
   "cell_type": "code",
   "execution_count": 31,
   "source": [
    "path = Path(os.path.dirname (os.getcwd()))\n",
    "XLSX_PATH = os.path.join(path.parent.parent, 'sp100.xlsx')\n",
    "\n",
    "COLS_TO_USE = {\n",
    "'ghg_quant':['company_id', 'ghg_scope_1','ghg_loc_scope_2','ghg_mkt_scope_2', 'ghg_scope3_total', 'reporting_year', \"Source\"],\n",
    "'grouping':['company_id', 'Sector1'],\n",
    "'companies':['company_id', 'SP100'],\n",
    "'ghg_qual':['company_id', 'scope3_completeness']\n",
    "}\n",
    "\n",
    "all_df = []\n",
    "for sheetname, cols in COLS_TO_USE.items():\n",
    "    all_df.append(pd.read_excel(\n",
    "        XLSX_PATH, \n",
    "        sheet_name = sheetname,\n",
    "        engine = 'openpyxl', \n",
    "        usecols = cols\n",
    "        ))\n",
    "merged_df = all_df[0]\n",
    "for i in range(len(COLS_TO_USE) - 1):\n",
    "    merged_df = pd.merge(\n",
    "        left = merged_df,\n",
    "        right = all_df[i+1],\n",
    "        how=\"left\",\n",
    "        on=\"company_id\"\n",
    "    )\n",
    "# Select Final Figures and Year 2019\n",
    "cond1 = (merged_df['reporting_year'] == 2019)\n",
    "cond2 = (merged_df['Source']== 'Final')\n",
    "cond3 = (merged_df['SP100'] == 1)\n",
    "filter_cond = cond1 & cond2 & cond3\n",
    "if scope3_completeness : \n",
    "    cond4 = (merged_df['scope3_completeness'] == \"full\")\n",
    "    filter_cond = filter_cond & cond4\n",
    "\n",
    "merged_df = merged_df.loc[filter_cond]\n",
    "\n",
    "#a =  merged_df[merged_df['company_id']==company_id]['Sector1']"
   ],
   "outputs": [],
   "metadata": {}
  },
  {
   "cell_type": "code",
   "execution_count": 32,
   "source": [
    "merged_df\n"
   ],
   "outputs": [
    {
     "output_type": "execute_result",
     "data": {
      "text/html": [
       "<div>\n",
       "<style scoped>\n",
       "    .dataframe tbody tr th:only-of-type {\n",
       "        vertical-align: middle;\n",
       "    }\n",
       "\n",
       "    .dataframe tbody tr th {\n",
       "        vertical-align: top;\n",
       "    }\n",
       "\n",
       "    .dataframe thead th {\n",
       "        text-align: right;\n",
       "    }\n",
       "</style>\n",
       "<table border=\"1\" class=\"dataframe\">\n",
       "  <thead>\n",
       "    <tr style=\"text-align: right;\">\n",
       "      <th></th>\n",
       "      <th>company_id</th>\n",
       "      <th>Source</th>\n",
       "      <th>reporting_year</th>\n",
       "      <th>ghg_scope_1</th>\n",
       "      <th>ghg_loc_scope_2</th>\n",
       "      <th>ghg_mkt_scope_2</th>\n",
       "      <th>ghg_scope3_total</th>\n",
       "      <th>Sector1</th>\n",
       "      <th>SP100</th>\n",
       "      <th>scope3_completeness</th>\n",
       "    </tr>\n",
       "  </thead>\n",
       "  <tbody>\n",
       "    <tr>\n",
       "      <th>6</th>\n",
       "      <td>1.0</td>\n",
       "      <td>Final</td>\n",
       "      <td>2019.0</td>\n",
       "      <td>4050000</td>\n",
       "      <td>1780000</td>\n",
       "      <td>1320000</td>\n",
       "      <td>8925800.0</td>\n",
       "      <td>Industrials</td>\n",
       "      <td>1.0</td>\n",
       "      <td>full</td>\n",
       "    </tr>\n",
       "    <tr>\n",
       "      <th>18</th>\n",
       "      <td>2.0</td>\n",
       "      <td>Final</td>\n",
       "      <td>2019.0</td>\n",
       "      <td>533000</td>\n",
       "      <td>518000</td>\n",
       "      <td>439000</td>\n",
       "      <td>14073000.0</td>\n",
       "      <td>Healthcare</td>\n",
       "      <td>1.0</td>\n",
       "      <td>full</td>\n",
       "    </tr>\n",
       "    <tr>\n",
       "      <th>42</th>\n",
       "      <td>4.0</td>\n",
       "      <td>Final</td>\n",
       "      <td>2019.0</td>\n",
       "      <td>18923</td>\n",
       "      <td>281489</td>\n",
       "      <td>214680</td>\n",
       "      <td>932653.0</td>\n",
       "      <td>Technology</td>\n",
       "      <td>1.0</td>\n",
       "      <td>full</td>\n",
       "    </tr>\n",
       "    <tr>\n",
       "      <th>54</th>\n",
       "      <td>5.0</td>\n",
       "      <td>Final</td>\n",
       "      <td>2019.0</td>\n",
       "      <td>11816</td>\n",
       "      <td>56113</td>\n",
       "      <td>43526</td>\n",
       "      <td>544093.0</td>\n",
       "      <td>Technology</td>\n",
       "      <td>1.0</td>\n",
       "      <td>full</td>\n",
       "    </tr>\n",
       "    <tr>\n",
       "      <th>78</th>\n",
       "      <td>7.0</td>\n",
       "      <td>Final</td>\n",
       "      <td>2019.0</td>\n",
       "      <td>66686</td>\n",
       "      <td>5116949</td>\n",
       "      <td>794267</td>\n",
       "      <td>3160000.0</td>\n",
       "      <td>Communication Services</td>\n",
       "      <td>1.0</td>\n",
       "      <td>full</td>\n",
       "    </tr>\n",
       "    <tr>\n",
       "      <th>90</th>\n",
       "      <td>8.0</td>\n",
       "      <td>Final</td>\n",
       "      <td>2019.0</td>\n",
       "      <td>154507</td>\n",
       "      <td>151259</td>\n",
       "      <td>147909</td>\n",
       "      <td>5227733.0</td>\n",
       "      <td>Consumer Staples</td>\n",
       "      <td>1.0</td>\n",
       "      <td>full</td>\n",
       "    </tr>\n",
       "    <tr>\n",
       "      <th>150</th>\n",
       "      <td>13.0</td>\n",
       "      <td>Final</td>\n",
       "      <td>2019.0</td>\n",
       "      <td>135954</td>\n",
       "      <td>173922</td>\n",
       "      <td>160360</td>\n",
       "      <td>2829355.0</td>\n",
       "      <td>Healthcare</td>\n",
       "      <td>1.0</td>\n",
       "      <td>full</td>\n",
       "    </tr>\n",
       "    <tr>\n",
       "      <th>162</th>\n",
       "      <td>14.0</td>\n",
       "      <td>Final</td>\n",
       "      <td>2019.0</td>\n",
       "      <td>50549</td>\n",
       "      <td>862127</td>\n",
       "      <td>0</td>\n",
       "      <td>25065200.0</td>\n",
       "      <td>Technology</td>\n",
       "      <td>1.0</td>\n",
       "      <td>full</td>\n",
       "    </tr>\n",
       "    <tr>\n",
       "      <th>186</th>\n",
       "      <td>16.0</td>\n",
       "      <td>Final</td>\n",
       "      <td>2019.0</td>\n",
       "      <td>62639</td>\n",
       "      <td>728771</td>\n",
       "      <td>17523</td>\n",
       "      <td>4221256.0</td>\n",
       "      <td>Financial Services</td>\n",
       "      <td>1.0</td>\n",
       "      <td>full</td>\n",
       "    </tr>\n",
       "    <tr>\n",
       "      <th>210</th>\n",
       "      <td>18.0</td>\n",
       "      <td>Final</td>\n",
       "      <td>2019.0</td>\n",
       "      <td>67031</td>\n",
       "      <td>36802</td>\n",
       "      <td>106</td>\n",
       "      <td>424537.0</td>\n",
       "      <td>Healthcare</td>\n",
       "      <td>1.0</td>\n",
       "      <td>full</td>\n",
       "    </tr>\n",
       "    <tr>\n",
       "      <th>234</th>\n",
       "      <td>20.0</td>\n",
       "      <td>Final</td>\n",
       "      <td>2019.0</td>\n",
       "      <td>613000</td>\n",
       "      <td>871000</td>\n",
       "      <td>733000</td>\n",
       "      <td>402290000.0</td>\n",
       "      <td>Industrials</td>\n",
       "      <td>1.0</td>\n",
       "      <td>full</td>\n",
       "    </tr>\n",
       "    <tr>\n",
       "      <th>342</th>\n",
       "      <td>29.0</td>\n",
       "      <td>Final</td>\n",
       "      <td>2019.0</td>\n",
       "      <td>687597</td>\n",
       "      <td>868343</td>\n",
       "      <td>871304</td>\n",
       "      <td>54039041.0</td>\n",
       "      <td>Consumer Staples</td>\n",
       "      <td>1.0</td>\n",
       "      <td>full</td>\n",
       "    </tr>\n",
       "    <tr>\n",
       "      <th>354</th>\n",
       "      <td>30.0</td>\n",
       "      <td>Final</td>\n",
       "      <td>2019.0</td>\n",
       "      <td>197523</td>\n",
       "      <td>379901</td>\n",
       "      <td>283289</td>\n",
       "      <td>48535507.0</td>\n",
       "      <td>Consumer Staples</td>\n",
       "      <td>1.0</td>\n",
       "      <td>full</td>\n",
       "    </tr>\n",
       "    <tr>\n",
       "      <th>378</th>\n",
       "      <td>32.0</td>\n",
       "      <td>Final</td>\n",
       "      <td>2019.0</td>\n",
       "      <td>19500244</td>\n",
       "      <td>956931</td>\n",
       "      <td>NR</td>\n",
       "      <td>195164764.0</td>\n",
       "      <td>Energy</td>\n",
       "      <td>1.0</td>\n",
       "      <td>full</td>\n",
       "    </tr>\n",
       "    <tr>\n",
       "      <th>402</th>\n",
       "      <td>34.0</td>\n",
       "      <td>Final</td>\n",
       "      <td>2019.0</td>\n",
       "      <td>157199</td>\n",
       "      <td>1024682</td>\n",
       "      <td>1036690</td>\n",
       "      <td>21600950.0</td>\n",
       "      <td>Healthcare</td>\n",
       "      <td>1.0</td>\n",
       "      <td>full</td>\n",
       "    </tr>\n",
       "    <tr>\n",
       "      <th>426</th>\n",
       "      <td>36.0</td>\n",
       "      <td>Final</td>\n",
       "      <td>2019.0</td>\n",
       "      <td>27522854</td>\n",
       "      <td>5058885</td>\n",
       "      <td>6058164</td>\n",
       "      <td>93942558.0</td>\n",
       "      <td>Materials</td>\n",
       "      <td>1.0</td>\n",
       "      <td>full</td>\n",
       "    </tr>\n",
       "    <tr>\n",
       "      <th>486</th>\n",
       "      <td>41.0</td>\n",
       "      <td>Final</td>\n",
       "      <td>2019.0</td>\n",
       "      <td>9394598</td>\n",
       "      <td>6103307</td>\n",
       "      <td>4913525</td>\n",
       "      <td>84928705.0</td>\n",
       "      <td>Utilities</td>\n",
       "      <td>1.0</td>\n",
       "      <td>full</td>\n",
       "    </tr>\n",
       "    <tr>\n",
       "      <th>570</th>\n",
       "      <td>48.0</td>\n",
       "      <td>Final</td>\n",
       "      <td>2019.0</td>\n",
       "      <td>1589700</td>\n",
       "      <td>4381970</td>\n",
       "      <td>3721875</td>\n",
       "      <td>254351724.0</td>\n",
       "      <td>Consumer Discretionary</td>\n",
       "      <td>1.0</td>\n",
       "      <td>full</td>\n",
       "    </tr>\n",
       "    <tr>\n",
       "      <th>630</th>\n",
       "      <td>53.0</td>\n",
       "      <td>Final</td>\n",
       "      <td>2019.0</td>\n",
       "      <td>80159</td>\n",
       "      <td>987066</td>\n",
       "      <td>827369</td>\n",
       "      <td>1158414.0</td>\n",
       "      <td>Technology</td>\n",
       "      <td>1.0</td>\n",
       "      <td>full</td>\n",
       "    </tr>\n",
       "    <tr>\n",
       "      <th>642</th>\n",
       "      <td>54.0</td>\n",
       "      <td>Final</td>\n",
       "      <td>2019.0</td>\n",
       "      <td>1580000</td>\n",
       "      <td>3345000</td>\n",
       "      <td>1299000</td>\n",
       "      <td>9624000.0</td>\n",
       "      <td>Technology</td>\n",
       "      <td>1.0</td>\n",
       "      <td>full</td>\n",
       "    </tr>\n",
       "    <tr>\n",
       "      <th>690</th>\n",
       "      <td>58.0</td>\n",
       "      <td>Final</td>\n",
       "      <td>2019.0</td>\n",
       "      <td>649256</td>\n",
       "      <td>773066</td>\n",
       "      <td>NR</td>\n",
       "      <td>22560304.0</td>\n",
       "      <td>Consumer Staples</td>\n",
       "      <td>1.0</td>\n",
       "      <td>full</td>\n",
       "    </tr>\n",
       "    <tr>\n",
       "      <th>702</th>\n",
       "      <td>59.0</td>\n",
       "      <td>Final</td>\n",
       "      <td>2019.0</td>\n",
       "      <td>305362</td>\n",
       "      <td>662659</td>\n",
       "      <td>466073</td>\n",
       "      <td>35237179.0</td>\n",
       "      <td>Industrials</td>\n",
       "      <td>1.0</td>\n",
       "      <td>full</td>\n",
       "    </tr>\n",
       "    <tr>\n",
       "      <th>726</th>\n",
       "      <td>61.0</td>\n",
       "      <td>Final</td>\n",
       "      <td>2019.0</td>\n",
       "      <td>4758</td>\n",
       "      <td>52141</td>\n",
       "      <td>162</td>\n",
       "      <td>503012.0</td>\n",
       "      <td>Financial Services</td>\n",
       "      <td>1.0</td>\n",
       "      <td>full</td>\n",
       "    </tr>\n",
       "    <tr>\n",
       "      <th>738</th>\n",
       "      <td>62.0</td>\n",
       "      <td>Final</td>\n",
       "      <td>2019.0</td>\n",
       "      <td>107035</td>\n",
       "      <td>569598</td>\n",
       "      <td>492114</td>\n",
       "      <td>50596850.0</td>\n",
       "      <td>Consumer Discretionary</td>\n",
       "      <td>1.0</td>\n",
       "      <td>full</td>\n",
       "    </tr>\n",
       "    <tr>\n",
       "      <th>762</th>\n",
       "      <td>64.0</td>\n",
       "      <td>Final</td>\n",
       "      <td>2019.0</td>\n",
       "      <td>755340</td>\n",
       "      <td>413550</td>\n",
       "      <td>316630</td>\n",
       "      <td>6965600.0</td>\n",
       "      <td>Healthcare</td>\n",
       "      <td>1.0</td>\n",
       "      <td>full</td>\n",
       "    </tr>\n",
       "    <tr>\n",
       "      <th>786</th>\n",
       "      <td>66.0</td>\n",
       "      <td>Final</td>\n",
       "      <td>2019.0</td>\n",
       "      <td>113412</td>\n",
       "      <td>3357518</td>\n",
       "      <td>275375</td>\n",
       "      <td>11392327.0</td>\n",
       "      <td>Technology</td>\n",
       "      <td>1.0</td>\n",
       "      <td>full</td>\n",
       "    </tr>\n",
       "    <tr>\n",
       "      <th>798</th>\n",
       "      <td>67.0</td>\n",
       "      <td>Final</td>\n",
       "      <td>2019.0</td>\n",
       "      <td>856590</td>\n",
       "      <td>938601</td>\n",
       "      <td>906349</td>\n",
       "      <td>18687449.0</td>\n",
       "      <td>Consumer Staples</td>\n",
       "      <td>1.0</td>\n",
       "      <td>full</td>\n",
       "    </tr>\n",
       "    <tr>\n",
       "      <th>810</th>\n",
       "      <td>68.0</td>\n",
       "      <td>Final</td>\n",
       "      <td>2019.0</td>\n",
       "      <td>28300</td>\n",
       "      <td>199800</td>\n",
       "      <td>176200</td>\n",
       "      <td>1327940.0</td>\n",
       "      <td>Financial Services</td>\n",
       "      <td>1.0</td>\n",
       "      <td>full</td>\n",
       "    </tr>\n",
       "    <tr>\n",
       "      <th>846</th>\n",
       "      <td>71.0</td>\n",
       "      <td>Final</td>\n",
       "      <td>2019.0</td>\n",
       "      <td>46714</td>\n",
       "      <td>258171</td>\n",
       "      <td>209065</td>\n",
       "      <td>15762000.0</td>\n",
       "      <td>Consumer Discretionary</td>\n",
       "      <td>1.0</td>\n",
       "      <td>full</td>\n",
       "    </tr>\n",
       "    <tr>\n",
       "      <th>882</th>\n",
       "      <td>74.0</td>\n",
       "      <td>Final</td>\n",
       "      <td>2019.0</td>\n",
       "      <td>16520</td>\n",
       "      <td>560683</td>\n",
       "      <td>349022</td>\n",
       "      <td>1522307.0</td>\n",
       "      <td>Technology</td>\n",
       "      <td>1.0</td>\n",
       "      <td>full</td>\n",
       "    </tr>\n",
       "    <tr>\n",
       "      <th>906</th>\n",
       "      <td>76.0</td>\n",
       "      <td>Final</td>\n",
       "      <td>2019.0</td>\n",
       "      <td>3552415</td>\n",
       "      <td>1556523</td>\n",
       "      <td>1425255</td>\n",
       "      <td>50465066.0</td>\n",
       "      <td>Consumer Staples</td>\n",
       "      <td>1.0</td>\n",
       "      <td>full</td>\n",
       "    </tr>\n",
       "    <tr>\n",
       "      <th>918</th>\n",
       "      <td>77.0</td>\n",
       "      <td>Final</td>\n",
       "      <td>2019.0</td>\n",
       "      <td>734638</td>\n",
       "      <td>762286</td>\n",
       "      <td>760000</td>\n",
       "      <td>5455600.0</td>\n",
       "      <td>Healthcare</td>\n",
       "      <td>1.0</td>\n",
       "      <td>full</td>\n",
       "    </tr>\n",
       "    <tr>\n",
       "      <th>930</th>\n",
       "      <td>78.0</td>\n",
       "      <td>Final</td>\n",
       "      <td>2019.0</td>\n",
       "      <td>397210</td>\n",
       "      <td>447322</td>\n",
       "      <td>158672</td>\n",
       "      <td>4012832.0</td>\n",
       "      <td>Consumer Staples</td>\n",
       "      <td>1.0</td>\n",
       "      <td>full</td>\n",
       "    </tr>\n",
       "    <tr>\n",
       "      <th>942</th>\n",
       "      <td>79.0</td>\n",
       "      <td>Final</td>\n",
       "      <td>2019.0</td>\n",
       "      <td>2210497</td>\n",
       "      <td>2544389</td>\n",
       "      <td>402000</td>\n",
       "      <td>241140872.0</td>\n",
       "      <td>Consumer Staples</td>\n",
       "      <td>1.0</td>\n",
       "      <td>full</td>\n",
       "    </tr>\n",
       "    <tr>\n",
       "      <th>978</th>\n",
       "      <td>82.0</td>\n",
       "      <td>Final</td>\n",
       "      <td>2019.0</td>\n",
       "      <td>5747</td>\n",
       "      <td>290938</td>\n",
       "      <td>134760</td>\n",
       "      <td>1028013.0</td>\n",
       "      <td>Technology</td>\n",
       "      <td>1.0</td>\n",
       "      <td>full</td>\n",
       "    </tr>\n",
       "    <tr>\n",
       "      <th>1002</th>\n",
       "      <td>84.0</td>\n",
       "      <td>Final</td>\n",
       "      <td>2019.0</td>\n",
       "      <td>16863</td>\n",
       "      <td>234584</td>\n",
       "      <td>234584</td>\n",
       "      <td>567742.0</td>\n",
       "      <td>Real Estate</td>\n",
       "      <td>1.0</td>\n",
       "      <td>full</td>\n",
       "    </tr>\n",
       "    <tr>\n",
       "      <th>1014</th>\n",
       "      <td>85.0</td>\n",
       "      <td>Final</td>\n",
       "      <td>2019.0</td>\n",
       "      <td>88213565</td>\n",
       "      <td>36845</td>\n",
       "      <td>200000</td>\n",
       "      <td>35349670.0</td>\n",
       "      <td>Utilities</td>\n",
       "      <td>1.0</td>\n",
       "      <td>full</td>\n",
       "    </tr>\n",
       "    <tr>\n",
       "      <th>1026</th>\n",
       "      <td>86.0</td>\n",
       "      <td>Final</td>\n",
       "      <td>2019.0</td>\n",
       "      <td>381199</td>\n",
       "      <td>790373</td>\n",
       "      <td>281701</td>\n",
       "      <td>13907417.0</td>\n",
       "      <td>Consumer Discretionary</td>\n",
       "      <td>1.0</td>\n",
       "      <td>full</td>\n",
       "    </tr>\n",
       "    <tr>\n",
       "      <th>1038</th>\n",
       "      <td>87.0</td>\n",
       "      <td>Final</td>\n",
       "      <td>2019.0</td>\n",
       "      <td>752552</td>\n",
       "      <td>1680682</td>\n",
       "      <td>1545898</td>\n",
       "      <td>55742000.0</td>\n",
       "      <td>Consumer Staples</td>\n",
       "      <td>1.0</td>\n",
       "      <td>full</td>\n",
       "    </tr>\n",
       "    <tr>\n",
       "      <th>1122</th>\n",
       "      <td>94.0</td>\n",
       "      <td>Final</td>\n",
       "      <td>2019.0</td>\n",
       "      <td>14223000</td>\n",
       "      <td>754000</td>\n",
       "      <td>731000</td>\n",
       "      <td>21008000.0</td>\n",
       "      <td>Industrials</td>\n",
       "      <td>1.0</td>\n",
       "      <td>full</td>\n",
       "    </tr>\n",
       "    <tr>\n",
       "      <th>1182</th>\n",
       "      <td>99.0</td>\n",
       "      <td>Final</td>\n",
       "      <td>2019.0</td>\n",
       "      <td>6484616</td>\n",
       "      <td>12190878</td>\n",
       "      <td>11078980</td>\n",
       "      <td>181153715.0</td>\n",
       "      <td>Consumer Staples</td>\n",
       "      <td>1.0</td>\n",
       "      <td>full</td>\n",
       "    </tr>\n",
       "    <tr>\n",
       "      <th>1194</th>\n",
       "      <td>100.0</td>\n",
       "      <td>Final</td>\n",
       "      <td>2019.0</td>\n",
       "      <td>91993</td>\n",
       "      <td>771327</td>\n",
       "      <td>4988</td>\n",
       "      <td>3610451.0</td>\n",
       "      <td>Financial Services</td>\n",
       "      <td>1.0</td>\n",
       "      <td>full</td>\n",
       "    </tr>\n",
       "    <tr>\n",
       "      <th>1338</th>\n",
       "      <td>112.0</td>\n",
       "      <td>Final</td>\n",
       "      <td>2019.0</td>\n",
       "      <td>37175</td>\n",
       "      <td>1393730</td>\n",
       "      <td>729490</td>\n",
       "      <td>3725393.0</td>\n",
       "      <td>Communication Services</td>\n",
       "      <td>1.0</td>\n",
       "      <td>full</td>\n",
       "    </tr>\n",
       "    <tr>\n",
       "      <th>1350</th>\n",
       "      <td>113.0</td>\n",
       "      <td>Final</td>\n",
       "      <td>2019.0</td>\n",
       "      <td>16461000</td>\n",
       "      <td>19900000</td>\n",
       "      <td>22250000</td>\n",
       "      <td>15148300.0</td>\n",
       "      <td>Materials</td>\n",
       "      <td>1.0</td>\n",
       "      <td>full</td>\n",
       "    </tr>\n",
       "  </tbody>\n",
       "</table>\n",
       "</div>"
      ],
      "text/plain": [
       "      company_id Source  reporting_year ghg_scope_1 ghg_loc_scope_2  \\\n",
       "6            1.0  Final          2019.0     4050000         1780000   \n",
       "18           2.0  Final          2019.0      533000          518000   \n",
       "42           4.0  Final          2019.0       18923          281489   \n",
       "54           5.0  Final          2019.0       11816           56113   \n",
       "78           7.0  Final          2019.0       66686         5116949   \n",
       "90           8.0  Final          2019.0      154507          151259   \n",
       "150         13.0  Final          2019.0      135954          173922   \n",
       "162         14.0  Final          2019.0       50549          862127   \n",
       "186         16.0  Final          2019.0       62639          728771   \n",
       "210         18.0  Final          2019.0       67031           36802   \n",
       "234         20.0  Final          2019.0      613000          871000   \n",
       "342         29.0  Final          2019.0      687597          868343   \n",
       "354         30.0  Final          2019.0      197523          379901   \n",
       "378         32.0  Final          2019.0    19500244          956931   \n",
       "402         34.0  Final          2019.0      157199         1024682   \n",
       "426         36.0  Final          2019.0    27522854         5058885   \n",
       "486         41.0  Final          2019.0     9394598         6103307   \n",
       "570         48.0  Final          2019.0     1589700         4381970   \n",
       "630         53.0  Final          2019.0       80159          987066   \n",
       "642         54.0  Final          2019.0     1580000         3345000   \n",
       "690         58.0  Final          2019.0      649256          773066   \n",
       "702         59.0  Final          2019.0      305362          662659   \n",
       "726         61.0  Final          2019.0        4758           52141   \n",
       "738         62.0  Final          2019.0      107035          569598   \n",
       "762         64.0  Final          2019.0      755340          413550   \n",
       "786         66.0  Final          2019.0      113412         3357518   \n",
       "798         67.0  Final          2019.0      856590          938601   \n",
       "810         68.0  Final          2019.0       28300          199800   \n",
       "846         71.0  Final          2019.0       46714          258171   \n",
       "882         74.0  Final          2019.0       16520          560683   \n",
       "906         76.0  Final          2019.0     3552415         1556523   \n",
       "918         77.0  Final          2019.0      734638          762286   \n",
       "930         78.0  Final          2019.0      397210          447322   \n",
       "942         79.0  Final          2019.0     2210497         2544389   \n",
       "978         82.0  Final          2019.0        5747          290938   \n",
       "1002        84.0  Final          2019.0       16863          234584   \n",
       "1014        85.0  Final          2019.0    88213565           36845   \n",
       "1026        86.0  Final          2019.0      381199          790373   \n",
       "1038        87.0  Final          2019.0      752552         1680682   \n",
       "1122        94.0  Final          2019.0    14223000          754000   \n",
       "1182        99.0  Final          2019.0     6484616        12190878   \n",
       "1194       100.0  Final          2019.0       91993          771327   \n",
       "1338       112.0  Final          2019.0       37175         1393730   \n",
       "1350       113.0  Final          2019.0    16461000        19900000   \n",
       "\n",
       "     ghg_mkt_scope_2  ghg_scope3_total                 Sector1  SP100  \\\n",
       "6            1320000         8925800.0             Industrials    1.0   \n",
       "18            439000        14073000.0              Healthcare    1.0   \n",
       "42            214680          932653.0              Technology    1.0   \n",
       "54             43526          544093.0              Technology    1.0   \n",
       "78            794267         3160000.0  Communication Services    1.0   \n",
       "90            147909         5227733.0        Consumer Staples    1.0   \n",
       "150           160360         2829355.0              Healthcare    1.0   \n",
       "162                0        25065200.0              Technology    1.0   \n",
       "186            17523         4221256.0      Financial Services    1.0   \n",
       "210              106          424537.0              Healthcare    1.0   \n",
       "234           733000       402290000.0             Industrials    1.0   \n",
       "342           871304        54039041.0        Consumer Staples    1.0   \n",
       "354           283289        48535507.0        Consumer Staples    1.0   \n",
       "378               NR       195164764.0                  Energy    1.0   \n",
       "402          1036690        21600950.0              Healthcare    1.0   \n",
       "426          6058164        93942558.0               Materials    1.0   \n",
       "486          4913525        84928705.0               Utilities    1.0   \n",
       "570          3721875       254351724.0  Consumer Discretionary    1.0   \n",
       "630           827369         1158414.0              Technology    1.0   \n",
       "642          1299000         9624000.0              Technology    1.0   \n",
       "690               NR        22560304.0        Consumer Staples    1.0   \n",
       "702           466073        35237179.0             Industrials    1.0   \n",
       "726              162          503012.0      Financial Services    1.0   \n",
       "738           492114        50596850.0  Consumer Discretionary    1.0   \n",
       "762           316630         6965600.0              Healthcare    1.0   \n",
       "786           275375        11392327.0              Technology    1.0   \n",
       "798           906349        18687449.0        Consumer Staples    1.0   \n",
       "810           176200         1327940.0      Financial Services    1.0   \n",
       "846           209065        15762000.0  Consumer Discretionary    1.0   \n",
       "882           349022         1522307.0              Technology    1.0   \n",
       "906          1425255        50465066.0        Consumer Staples    1.0   \n",
       "918           760000         5455600.0              Healthcare    1.0   \n",
       "930           158672         4012832.0        Consumer Staples    1.0   \n",
       "942           402000       241140872.0        Consumer Staples    1.0   \n",
       "978           134760         1028013.0              Technology    1.0   \n",
       "1002          234584          567742.0             Real Estate    1.0   \n",
       "1014          200000        35349670.0               Utilities    1.0   \n",
       "1026          281701        13907417.0  Consumer Discretionary    1.0   \n",
       "1038         1545898        55742000.0        Consumer Staples    1.0   \n",
       "1122          731000        21008000.0             Industrials    1.0   \n",
       "1182        11078980       181153715.0        Consumer Staples    1.0   \n",
       "1194            4988         3610451.0      Financial Services    1.0   \n",
       "1338          729490         3725393.0  Communication Services    1.0   \n",
       "1350        22250000        15148300.0               Materials    1.0   \n",
       "\n",
       "     scope3_completeness  \n",
       "6                   full  \n",
       "18                  full  \n",
       "42                  full  \n",
       "54                  full  \n",
       "78                  full  \n",
       "90                  full  \n",
       "150                 full  \n",
       "162                 full  \n",
       "186                 full  \n",
       "210                 full  \n",
       "234                 full  \n",
       "342                 full  \n",
       "354                 full  \n",
       "378                 full  \n",
       "402                 full  \n",
       "426                 full  \n",
       "486                 full  \n",
       "570                 full  \n",
       "630                 full  \n",
       "642                 full  \n",
       "690                 full  \n",
       "702                 full  \n",
       "726                 full  \n",
       "738                 full  \n",
       "762                 full  \n",
       "786                 full  \n",
       "798                 full  \n",
       "810                 full  \n",
       "846                 full  \n",
       "882                 full  \n",
       "906                 full  \n",
       "918                 full  \n",
       "930                 full  \n",
       "942                 full  \n",
       "978                 full  \n",
       "1002                full  \n",
       "1014                full  \n",
       "1026                full  \n",
       "1038                full  \n",
       "1122                full  \n",
       "1182                full  \n",
       "1194                full  \n",
       "1338                full  \n",
       "1350                full  "
      ]
     },
     "metadata": {},
     "execution_count": 32
    }
   ],
   "metadata": {}
  },
  {
   "cell_type": "code",
   "execution_count": 33,
   "source": [
    "scope1 = pd.to_numeric(merged_df['ghg_scope_1'], errors = 'coerce')\n",
    "\n",
    "merged_df['ghg_loc_scope_2'] = pd.to_numeric(merged_df['ghg_loc_scope_2'], errors = 'coerce')\n",
    "merged_df['ghg_mkt_scope_2'] = pd.to_numeric(merged_df['ghg_mkt_scope_2'], errors = 'coerce')\n",
    "scope2 = merged_df[['ghg_loc_scope_2','ghg_mkt_scope_2']].min(axis=1)\n",
    "#merged_df = merged_df.assign(ghg_scope_2 = scope2)\n",
    "scope3 = merged_df['ghg_scope3_total']\n",
    "\n",
    "total_scope = scope1 + scope2 + scope3\n",
    "\n",
    "scope1_dist = scope1 / total_scope\n",
    "scope2_dist = scope2 / total_scope\n",
    "scope3_dist = scope3 / total_scope\n",
    "\n",
    "#total_scope = merged_df.assign(ghg_total_scope = merged_df['ghg_scope_1'] + scope2 + merged_df['ghg_scope3_total'])\n",
    "merged_df = merged_df.assign(scope1_dist = scope1_dist)\n",
    "merged_df = merged_df.assign(scope2_dist = scope2_dist)\n",
    "merged_df = merged_df.assign(scope3_dist = scope3_dist)\n",
    "\n"
   ],
   "outputs": [],
   "metadata": {}
  },
  {
   "cell_type": "code",
   "execution_count": 34,
   "source": [
    "fields = ['scope1_dist','scope2_dist', 'scope3_dist', 'Sector1']\n",
    "scope_by_sector_df = merged_df [fields]\n",
    "\n",
    "scope_by_sector_df = scope_by_sector_df.dropna().sort_values(\"Sector1\", ascending=True)\n",
    "#data.sort_values(\"Salary\", axis = 0, ascending = True,\n",
    "#                 inplace = True, na_position ='first')"
   ],
   "outputs": [],
   "metadata": {}
  },
  {
   "cell_type": "code",
   "execution_count": 35,
   "source": [
    "scope_by_sector_df"
   ],
   "outputs": [
    {
     "output_type": "execute_result",
     "data": {
      "text/html": [
       "<div>\n",
       "<style scoped>\n",
       "    .dataframe tbody tr th:only-of-type {\n",
       "        vertical-align: middle;\n",
       "    }\n",
       "\n",
       "    .dataframe tbody tr th {\n",
       "        vertical-align: top;\n",
       "    }\n",
       "\n",
       "    .dataframe thead th {\n",
       "        text-align: right;\n",
       "    }\n",
       "</style>\n",
       "<table border=\"1\" class=\"dataframe\">\n",
       "  <thead>\n",
       "    <tr style=\"text-align: right;\">\n",
       "      <th></th>\n",
       "      <th>scope1_dist</th>\n",
       "      <th>scope2_dist</th>\n",
       "      <th>scope3_dist</th>\n",
       "      <th>Sector1</th>\n",
       "    </tr>\n",
       "  </thead>\n",
       "  <tbody>\n",
       "    <tr>\n",
       "      <th>1338</th>\n",
       "      <td>0.008276</td>\n",
       "      <td>0.162395</td>\n",
       "      <td>0.829329</td>\n",
       "      <td>Communication Services</td>\n",
       "    </tr>\n",
       "    <tr>\n",
       "      <th>78</th>\n",
       "      <td>0.016585</td>\n",
       "      <td>0.197532</td>\n",
       "      <td>0.785883</td>\n",
       "      <td>Communication Services</td>\n",
       "    </tr>\n",
       "    <tr>\n",
       "      <th>570</th>\n",
       "      <td>0.006122</td>\n",
       "      <td>0.014333</td>\n",
       "      <td>0.979544</td>\n",
       "      <td>Consumer Discretionary</td>\n",
       "    </tr>\n",
       "    <tr>\n",
       "      <th>1026</th>\n",
       "      <td>0.026163</td>\n",
       "      <td>0.019334</td>\n",
       "      <td>0.954503</td>\n",
       "      <td>Consumer Discretionary</td>\n",
       "    </tr>\n",
       "    <tr>\n",
       "      <th>738</th>\n",
       "      <td>0.002091</td>\n",
       "      <td>0.009612</td>\n",
       "      <td>0.988297</td>\n",
       "      <td>Consumer Discretionary</td>\n",
       "    </tr>\n",
       "    <tr>\n",
       "      <th>846</th>\n",
       "      <td>0.002916</td>\n",
       "      <td>0.013052</td>\n",
       "      <td>0.984032</td>\n",
       "      <td>Consumer Discretionary</td>\n",
       "    </tr>\n",
       "    <tr>\n",
       "      <th>906</th>\n",
       "      <td>0.064074</td>\n",
       "      <td>0.025707</td>\n",
       "      <td>0.910220</td>\n",
       "      <td>Consumer Staples</td>\n",
       "    </tr>\n",
       "    <tr>\n",
       "      <th>1182</th>\n",
       "      <td>0.032632</td>\n",
       "      <td>0.055752</td>\n",
       "      <td>0.911615</td>\n",
       "      <td>Consumer Staples</td>\n",
       "    </tr>\n",
       "    <tr>\n",
       "      <th>690</th>\n",
       "      <td>0.027072</td>\n",
       "      <td>0.032234</td>\n",
       "      <td>0.940694</td>\n",
       "      <td>Consumer Staples</td>\n",
       "    </tr>\n",
       "    <tr>\n",
       "      <th>342</th>\n",
       "      <td>0.012368</td>\n",
       "      <td>0.015619</td>\n",
       "      <td>0.972013</td>\n",
       "      <td>Consumer Staples</td>\n",
       "    </tr>\n",
       "    <tr>\n",
       "      <th>354</th>\n",
       "      <td>0.004030</td>\n",
       "      <td>0.005779</td>\n",
       "      <td>0.990191</td>\n",
       "      <td>Consumer Staples</td>\n",
       "    </tr>\n",
       "    <tr>\n",
       "      <th>942</th>\n",
       "      <td>0.009069</td>\n",
       "      <td>0.001649</td>\n",
       "      <td>0.989282</td>\n",
       "      <td>Consumer Staples</td>\n",
       "    </tr>\n",
       "    <tr>\n",
       "      <th>798</th>\n",
       "      <td>0.041886</td>\n",
       "      <td>0.044319</td>\n",
       "      <td>0.913794</td>\n",
       "      <td>Consumer Staples</td>\n",
       "    </tr>\n",
       "    <tr>\n",
       "      <th>930</th>\n",
       "      <td>0.086941</td>\n",
       "      <td>0.034730</td>\n",
       "      <td>0.878329</td>\n",
       "      <td>Consumer Staples</td>\n",
       "    </tr>\n",
       "    <tr>\n",
       "      <th>90</th>\n",
       "      <td>0.027939</td>\n",
       "      <td>0.026746</td>\n",
       "      <td>0.945315</td>\n",
       "      <td>Consumer Staples</td>\n",
       "    </tr>\n",
       "    <tr>\n",
       "      <th>1038</th>\n",
       "      <td>0.012966</td>\n",
       "      <td>0.026635</td>\n",
       "      <td>0.960399</td>\n",
       "      <td>Consumer Staples</td>\n",
       "    </tr>\n",
       "    <tr>\n",
       "      <th>378</th>\n",
       "      <td>0.090437</td>\n",
       "      <td>0.004438</td>\n",
       "      <td>0.905125</td>\n",
       "      <td>Energy</td>\n",
       "    </tr>\n",
       "    <tr>\n",
       "      <th>186</th>\n",
       "      <td>0.014562</td>\n",
       "      <td>0.004074</td>\n",
       "      <td>0.981364</td>\n",
       "      <td>Financial Services</td>\n",
       "    </tr>\n",
       "    <tr>\n",
       "      <th>810</th>\n",
       "      <td>0.018467</td>\n",
       "      <td>0.114980</td>\n",
       "      <td>0.866553</td>\n",
       "      <td>Financial Services</td>\n",
       "    </tr>\n",
       "    <tr>\n",
       "      <th>1194</th>\n",
       "      <td>0.024813</td>\n",
       "      <td>0.001345</td>\n",
       "      <td>0.973841</td>\n",
       "      <td>Financial Services</td>\n",
       "    </tr>\n",
       "    <tr>\n",
       "      <th>726</th>\n",
       "      <td>0.009367</td>\n",
       "      <td>0.000319</td>\n",
       "      <td>0.990314</td>\n",
       "      <td>Financial Services</td>\n",
       "    </tr>\n",
       "    <tr>\n",
       "      <th>762</th>\n",
       "      <td>0.093976</td>\n",
       "      <td>0.039394</td>\n",
       "      <td>0.866630</td>\n",
       "      <td>Healthcare</td>\n",
       "    </tr>\n",
       "    <tr>\n",
       "      <th>402</th>\n",
       "      <td>0.006900</td>\n",
       "      <td>0.044976</td>\n",
       "      <td>0.948124</td>\n",
       "      <td>Healthcare</td>\n",
       "    </tr>\n",
       "    <tr>\n",
       "      <th>210</th>\n",
       "      <td>0.136332</td>\n",
       "      <td>0.000216</td>\n",
       "      <td>0.863452</td>\n",
       "      <td>Healthcare</td>\n",
       "    </tr>\n",
       "    <tr>\n",
       "      <th>150</th>\n",
       "      <td>0.043496</td>\n",
       "      <td>0.051304</td>\n",
       "      <td>0.905200</td>\n",
       "      <td>Healthcare</td>\n",
       "    </tr>\n",
       "    <tr>\n",
       "      <th>18</th>\n",
       "      <td>0.035427</td>\n",
       "      <td>0.029179</td>\n",
       "      <td>0.935394</td>\n",
       "      <td>Healthcare</td>\n",
       "    </tr>\n",
       "    <tr>\n",
       "      <th>918</th>\n",
       "      <td>0.105700</td>\n",
       "      <td>0.109349</td>\n",
       "      <td>0.784952</td>\n",
       "      <td>Healthcare</td>\n",
       "    </tr>\n",
       "    <tr>\n",
       "      <th>1122</th>\n",
       "      <td>0.395501</td>\n",
       "      <td>0.020327</td>\n",
       "      <td>0.584172</td>\n",
       "      <td>Industrials</td>\n",
       "    </tr>\n",
       "    <tr>\n",
       "      <th>6</th>\n",
       "      <td>0.283300</td>\n",
       "      <td>0.092335</td>\n",
       "      <td>0.624365</td>\n",
       "      <td>Industrials</td>\n",
       "    </tr>\n",
       "    <tr>\n",
       "      <th>702</th>\n",
       "      <td>0.008480</td>\n",
       "      <td>0.012943</td>\n",
       "      <td>0.978576</td>\n",
       "      <td>Industrials</td>\n",
       "    </tr>\n",
       "    <tr>\n",
       "      <th>234</th>\n",
       "      <td>0.001519</td>\n",
       "      <td>0.001816</td>\n",
       "      <td>0.996665</td>\n",
       "      <td>Industrials</td>\n",
       "    </tr>\n",
       "    <tr>\n",
       "      <th>426</th>\n",
       "      <td>0.217530</td>\n",
       "      <td>0.039984</td>\n",
       "      <td>0.742486</td>\n",
       "      <td>Materials</td>\n",
       "    </tr>\n",
       "    <tr>\n",
       "      <th>1350</th>\n",
       "      <td>0.319573</td>\n",
       "      <td>0.386338</td>\n",
       "      <td>0.294089</td>\n",
       "      <td>Materials</td>\n",
       "    </tr>\n",
       "    <tr>\n",
       "      <th>1002</th>\n",
       "      <td>0.020585</td>\n",
       "      <td>0.286361</td>\n",
       "      <td>0.693054</td>\n",
       "      <td>Real Estate</td>\n",
       "    </tr>\n",
       "    <tr>\n",
       "      <th>786</th>\n",
       "      <td>0.009627</td>\n",
       "      <td>0.023374</td>\n",
       "      <td>0.966999</td>\n",
       "      <td>Technology</td>\n",
       "    </tr>\n",
       "    <tr>\n",
       "      <th>642</th>\n",
       "      <td>0.126370</td>\n",
       "      <td>0.103895</td>\n",
       "      <td>0.769735</td>\n",
       "      <td>Technology</td>\n",
       "    </tr>\n",
       "    <tr>\n",
       "      <th>630</th>\n",
       "      <td>0.038800</td>\n",
       "      <td>0.400480</td>\n",
       "      <td>0.560720</td>\n",
       "      <td>Technology</td>\n",
       "    </tr>\n",
       "    <tr>\n",
       "      <th>978</th>\n",
       "      <td>0.004918</td>\n",
       "      <td>0.115325</td>\n",
       "      <td>0.879756</td>\n",
       "      <td>Technology</td>\n",
       "    </tr>\n",
       "    <tr>\n",
       "      <th>162</th>\n",
       "      <td>0.002013</td>\n",
       "      <td>0.000000</td>\n",
       "      <td>0.997987</td>\n",
       "      <td>Technology</td>\n",
       "    </tr>\n",
       "    <tr>\n",
       "      <th>54</th>\n",
       "      <td>0.019712</td>\n",
       "      <td>0.072612</td>\n",
       "      <td>0.907676</td>\n",
       "      <td>Technology</td>\n",
       "    </tr>\n",
       "    <tr>\n",
       "      <th>42</th>\n",
       "      <td>0.016225</td>\n",
       "      <td>0.184076</td>\n",
       "      <td>0.799698</td>\n",
       "      <td>Technology</td>\n",
       "    </tr>\n",
       "    <tr>\n",
       "      <th>882</th>\n",
       "      <td>0.008751</td>\n",
       "      <td>0.184878</td>\n",
       "      <td>0.806371</td>\n",
       "      <td>Technology</td>\n",
       "    </tr>\n",
       "    <tr>\n",
       "      <th>486</th>\n",
       "      <td>0.094668</td>\n",
       "      <td>0.049513</td>\n",
       "      <td>0.855818</td>\n",
       "      <td>Utilities</td>\n",
       "    </tr>\n",
       "    <tr>\n",
       "      <th>1014</th>\n",
       "      <td>0.713702</td>\n",
       "      <td>0.000298</td>\n",
       "      <td>0.286000</td>\n",
       "      <td>Utilities</td>\n",
       "    </tr>\n",
       "  </tbody>\n",
       "</table>\n",
       "</div>"
      ],
      "text/plain": [
       "      scope1_dist  scope2_dist  scope3_dist                 Sector1\n",
       "1338     0.008276     0.162395     0.829329  Communication Services\n",
       "78       0.016585     0.197532     0.785883  Communication Services\n",
       "570      0.006122     0.014333     0.979544  Consumer Discretionary\n",
       "1026     0.026163     0.019334     0.954503  Consumer Discretionary\n",
       "738      0.002091     0.009612     0.988297  Consumer Discretionary\n",
       "846      0.002916     0.013052     0.984032  Consumer Discretionary\n",
       "906      0.064074     0.025707     0.910220        Consumer Staples\n",
       "1182     0.032632     0.055752     0.911615        Consumer Staples\n",
       "690      0.027072     0.032234     0.940694        Consumer Staples\n",
       "342      0.012368     0.015619     0.972013        Consumer Staples\n",
       "354      0.004030     0.005779     0.990191        Consumer Staples\n",
       "942      0.009069     0.001649     0.989282        Consumer Staples\n",
       "798      0.041886     0.044319     0.913794        Consumer Staples\n",
       "930      0.086941     0.034730     0.878329        Consumer Staples\n",
       "90       0.027939     0.026746     0.945315        Consumer Staples\n",
       "1038     0.012966     0.026635     0.960399        Consumer Staples\n",
       "378      0.090437     0.004438     0.905125                  Energy\n",
       "186      0.014562     0.004074     0.981364      Financial Services\n",
       "810      0.018467     0.114980     0.866553      Financial Services\n",
       "1194     0.024813     0.001345     0.973841      Financial Services\n",
       "726      0.009367     0.000319     0.990314      Financial Services\n",
       "762      0.093976     0.039394     0.866630              Healthcare\n",
       "402      0.006900     0.044976     0.948124              Healthcare\n",
       "210      0.136332     0.000216     0.863452              Healthcare\n",
       "150      0.043496     0.051304     0.905200              Healthcare\n",
       "18       0.035427     0.029179     0.935394              Healthcare\n",
       "918      0.105700     0.109349     0.784952              Healthcare\n",
       "1122     0.395501     0.020327     0.584172             Industrials\n",
       "6        0.283300     0.092335     0.624365             Industrials\n",
       "702      0.008480     0.012943     0.978576             Industrials\n",
       "234      0.001519     0.001816     0.996665             Industrials\n",
       "426      0.217530     0.039984     0.742486               Materials\n",
       "1350     0.319573     0.386338     0.294089               Materials\n",
       "1002     0.020585     0.286361     0.693054             Real Estate\n",
       "786      0.009627     0.023374     0.966999              Technology\n",
       "642      0.126370     0.103895     0.769735              Technology\n",
       "630      0.038800     0.400480     0.560720              Technology\n",
       "978      0.004918     0.115325     0.879756              Technology\n",
       "162      0.002013     0.000000     0.997987              Technology\n",
       "54       0.019712     0.072612     0.907676              Technology\n",
       "42       0.016225     0.184076     0.799698              Technology\n",
       "882      0.008751     0.184878     0.806371              Technology\n",
       "486      0.094668     0.049513     0.855818               Utilities\n",
       "1014     0.713702     0.000298     0.286000               Utilities"
      ]
     },
     "metadata": {},
     "execution_count": 35
    }
   ],
   "metadata": {}
  },
  {
   "cell_type": "code",
   "execution_count": 36,
   "source": [
    "total = scope_by_sector_df.mean(numeric_only=True).rename('Total')\n",
    "total['Sector1'] = \"Total\""
   ],
   "outputs": [],
   "metadata": {}
  },
  {
   "cell_type": "code",
   "execution_count": 37,
   "source": [
    "total"
   ],
   "outputs": [
    {
     "output_type": "execute_result",
     "data": {
      "text/plain": [
       "scope1_dist    0.073679\n",
       "scope2_dist    0.069535\n",
       "scope3_dist    0.856785\n",
       "Sector1           Total\n",
       "Name: Total, dtype: object"
      ]
     },
     "metadata": {},
     "execution_count": 37
    }
   ],
   "metadata": {}
  },
  {
   "cell_type": "code",
   "execution_count": 38,
   "source": [
    "scope_by_sector_df = scope_by_sector_df.append(total, ignore_index=True)"
   ],
   "outputs": [],
   "metadata": {}
  },
  {
   "cell_type": "code",
   "execution_count": 39,
   "source": [
    "scope_by_sector_df"
   ],
   "outputs": [
    {
     "output_type": "execute_result",
     "data": {
      "text/html": [
       "<div>\n",
       "<style scoped>\n",
       "    .dataframe tbody tr th:only-of-type {\n",
       "        vertical-align: middle;\n",
       "    }\n",
       "\n",
       "    .dataframe tbody tr th {\n",
       "        vertical-align: top;\n",
       "    }\n",
       "\n",
       "    .dataframe thead th {\n",
       "        text-align: right;\n",
       "    }\n",
       "</style>\n",
       "<table border=\"1\" class=\"dataframe\">\n",
       "  <thead>\n",
       "    <tr style=\"text-align: right;\">\n",
       "      <th></th>\n",
       "      <th>scope1_dist</th>\n",
       "      <th>scope2_dist</th>\n",
       "      <th>scope3_dist</th>\n",
       "      <th>Sector1</th>\n",
       "    </tr>\n",
       "  </thead>\n",
       "  <tbody>\n",
       "    <tr>\n",
       "      <th>0</th>\n",
       "      <td>0.008276</td>\n",
       "      <td>0.162395</td>\n",
       "      <td>0.829329</td>\n",
       "      <td>Communication Services</td>\n",
       "    </tr>\n",
       "    <tr>\n",
       "      <th>1</th>\n",
       "      <td>0.016585</td>\n",
       "      <td>0.197532</td>\n",
       "      <td>0.785883</td>\n",
       "      <td>Communication Services</td>\n",
       "    </tr>\n",
       "    <tr>\n",
       "      <th>2</th>\n",
       "      <td>0.006122</td>\n",
       "      <td>0.014333</td>\n",
       "      <td>0.979544</td>\n",
       "      <td>Consumer Discretionary</td>\n",
       "    </tr>\n",
       "    <tr>\n",
       "      <th>3</th>\n",
       "      <td>0.026163</td>\n",
       "      <td>0.019334</td>\n",
       "      <td>0.954503</td>\n",
       "      <td>Consumer Discretionary</td>\n",
       "    </tr>\n",
       "    <tr>\n",
       "      <th>4</th>\n",
       "      <td>0.002091</td>\n",
       "      <td>0.009612</td>\n",
       "      <td>0.988297</td>\n",
       "      <td>Consumer Discretionary</td>\n",
       "    </tr>\n",
       "    <tr>\n",
       "      <th>5</th>\n",
       "      <td>0.002916</td>\n",
       "      <td>0.013052</td>\n",
       "      <td>0.984032</td>\n",
       "      <td>Consumer Discretionary</td>\n",
       "    </tr>\n",
       "    <tr>\n",
       "      <th>6</th>\n",
       "      <td>0.064074</td>\n",
       "      <td>0.025707</td>\n",
       "      <td>0.910220</td>\n",
       "      <td>Consumer Staples</td>\n",
       "    </tr>\n",
       "    <tr>\n",
       "      <th>7</th>\n",
       "      <td>0.032632</td>\n",
       "      <td>0.055752</td>\n",
       "      <td>0.911615</td>\n",
       "      <td>Consumer Staples</td>\n",
       "    </tr>\n",
       "    <tr>\n",
       "      <th>8</th>\n",
       "      <td>0.027072</td>\n",
       "      <td>0.032234</td>\n",
       "      <td>0.940694</td>\n",
       "      <td>Consumer Staples</td>\n",
       "    </tr>\n",
       "    <tr>\n",
       "      <th>9</th>\n",
       "      <td>0.012368</td>\n",
       "      <td>0.015619</td>\n",
       "      <td>0.972013</td>\n",
       "      <td>Consumer Staples</td>\n",
       "    </tr>\n",
       "    <tr>\n",
       "      <th>10</th>\n",
       "      <td>0.004030</td>\n",
       "      <td>0.005779</td>\n",
       "      <td>0.990191</td>\n",
       "      <td>Consumer Staples</td>\n",
       "    </tr>\n",
       "    <tr>\n",
       "      <th>11</th>\n",
       "      <td>0.009069</td>\n",
       "      <td>0.001649</td>\n",
       "      <td>0.989282</td>\n",
       "      <td>Consumer Staples</td>\n",
       "    </tr>\n",
       "    <tr>\n",
       "      <th>12</th>\n",
       "      <td>0.041886</td>\n",
       "      <td>0.044319</td>\n",
       "      <td>0.913794</td>\n",
       "      <td>Consumer Staples</td>\n",
       "    </tr>\n",
       "    <tr>\n",
       "      <th>13</th>\n",
       "      <td>0.086941</td>\n",
       "      <td>0.034730</td>\n",
       "      <td>0.878329</td>\n",
       "      <td>Consumer Staples</td>\n",
       "    </tr>\n",
       "    <tr>\n",
       "      <th>14</th>\n",
       "      <td>0.027939</td>\n",
       "      <td>0.026746</td>\n",
       "      <td>0.945315</td>\n",
       "      <td>Consumer Staples</td>\n",
       "    </tr>\n",
       "    <tr>\n",
       "      <th>15</th>\n",
       "      <td>0.012966</td>\n",
       "      <td>0.026635</td>\n",
       "      <td>0.960399</td>\n",
       "      <td>Consumer Staples</td>\n",
       "    </tr>\n",
       "    <tr>\n",
       "      <th>16</th>\n",
       "      <td>0.090437</td>\n",
       "      <td>0.004438</td>\n",
       "      <td>0.905125</td>\n",
       "      <td>Energy</td>\n",
       "    </tr>\n",
       "    <tr>\n",
       "      <th>17</th>\n",
       "      <td>0.014562</td>\n",
       "      <td>0.004074</td>\n",
       "      <td>0.981364</td>\n",
       "      <td>Financial Services</td>\n",
       "    </tr>\n",
       "    <tr>\n",
       "      <th>18</th>\n",
       "      <td>0.018467</td>\n",
       "      <td>0.114980</td>\n",
       "      <td>0.866553</td>\n",
       "      <td>Financial Services</td>\n",
       "    </tr>\n",
       "    <tr>\n",
       "      <th>19</th>\n",
       "      <td>0.024813</td>\n",
       "      <td>0.001345</td>\n",
       "      <td>0.973841</td>\n",
       "      <td>Financial Services</td>\n",
       "    </tr>\n",
       "    <tr>\n",
       "      <th>20</th>\n",
       "      <td>0.009367</td>\n",
       "      <td>0.000319</td>\n",
       "      <td>0.990314</td>\n",
       "      <td>Financial Services</td>\n",
       "    </tr>\n",
       "    <tr>\n",
       "      <th>21</th>\n",
       "      <td>0.093976</td>\n",
       "      <td>0.039394</td>\n",
       "      <td>0.866630</td>\n",
       "      <td>Healthcare</td>\n",
       "    </tr>\n",
       "    <tr>\n",
       "      <th>22</th>\n",
       "      <td>0.006900</td>\n",
       "      <td>0.044976</td>\n",
       "      <td>0.948124</td>\n",
       "      <td>Healthcare</td>\n",
       "    </tr>\n",
       "    <tr>\n",
       "      <th>23</th>\n",
       "      <td>0.136332</td>\n",
       "      <td>0.000216</td>\n",
       "      <td>0.863452</td>\n",
       "      <td>Healthcare</td>\n",
       "    </tr>\n",
       "    <tr>\n",
       "      <th>24</th>\n",
       "      <td>0.043496</td>\n",
       "      <td>0.051304</td>\n",
       "      <td>0.905200</td>\n",
       "      <td>Healthcare</td>\n",
       "    </tr>\n",
       "    <tr>\n",
       "      <th>25</th>\n",
       "      <td>0.035427</td>\n",
       "      <td>0.029179</td>\n",
       "      <td>0.935394</td>\n",
       "      <td>Healthcare</td>\n",
       "    </tr>\n",
       "    <tr>\n",
       "      <th>26</th>\n",
       "      <td>0.105700</td>\n",
       "      <td>0.109349</td>\n",
       "      <td>0.784952</td>\n",
       "      <td>Healthcare</td>\n",
       "    </tr>\n",
       "    <tr>\n",
       "      <th>27</th>\n",
       "      <td>0.395501</td>\n",
       "      <td>0.020327</td>\n",
       "      <td>0.584172</td>\n",
       "      <td>Industrials</td>\n",
       "    </tr>\n",
       "    <tr>\n",
       "      <th>28</th>\n",
       "      <td>0.283300</td>\n",
       "      <td>0.092335</td>\n",
       "      <td>0.624365</td>\n",
       "      <td>Industrials</td>\n",
       "    </tr>\n",
       "    <tr>\n",
       "      <th>29</th>\n",
       "      <td>0.008480</td>\n",
       "      <td>0.012943</td>\n",
       "      <td>0.978576</td>\n",
       "      <td>Industrials</td>\n",
       "    </tr>\n",
       "    <tr>\n",
       "      <th>30</th>\n",
       "      <td>0.001519</td>\n",
       "      <td>0.001816</td>\n",
       "      <td>0.996665</td>\n",
       "      <td>Industrials</td>\n",
       "    </tr>\n",
       "    <tr>\n",
       "      <th>31</th>\n",
       "      <td>0.217530</td>\n",
       "      <td>0.039984</td>\n",
       "      <td>0.742486</td>\n",
       "      <td>Materials</td>\n",
       "    </tr>\n",
       "    <tr>\n",
       "      <th>32</th>\n",
       "      <td>0.319573</td>\n",
       "      <td>0.386338</td>\n",
       "      <td>0.294089</td>\n",
       "      <td>Materials</td>\n",
       "    </tr>\n",
       "    <tr>\n",
       "      <th>33</th>\n",
       "      <td>0.020585</td>\n",
       "      <td>0.286361</td>\n",
       "      <td>0.693054</td>\n",
       "      <td>Real Estate</td>\n",
       "    </tr>\n",
       "    <tr>\n",
       "      <th>34</th>\n",
       "      <td>0.009627</td>\n",
       "      <td>0.023374</td>\n",
       "      <td>0.966999</td>\n",
       "      <td>Technology</td>\n",
       "    </tr>\n",
       "    <tr>\n",
       "      <th>35</th>\n",
       "      <td>0.126370</td>\n",
       "      <td>0.103895</td>\n",
       "      <td>0.769735</td>\n",
       "      <td>Technology</td>\n",
       "    </tr>\n",
       "    <tr>\n",
       "      <th>36</th>\n",
       "      <td>0.038800</td>\n",
       "      <td>0.400480</td>\n",
       "      <td>0.560720</td>\n",
       "      <td>Technology</td>\n",
       "    </tr>\n",
       "    <tr>\n",
       "      <th>37</th>\n",
       "      <td>0.004918</td>\n",
       "      <td>0.115325</td>\n",
       "      <td>0.879756</td>\n",
       "      <td>Technology</td>\n",
       "    </tr>\n",
       "    <tr>\n",
       "      <th>38</th>\n",
       "      <td>0.002013</td>\n",
       "      <td>0.000000</td>\n",
       "      <td>0.997987</td>\n",
       "      <td>Technology</td>\n",
       "    </tr>\n",
       "    <tr>\n",
       "      <th>39</th>\n",
       "      <td>0.019712</td>\n",
       "      <td>0.072612</td>\n",
       "      <td>0.907676</td>\n",
       "      <td>Technology</td>\n",
       "    </tr>\n",
       "    <tr>\n",
       "      <th>40</th>\n",
       "      <td>0.016225</td>\n",
       "      <td>0.184076</td>\n",
       "      <td>0.799698</td>\n",
       "      <td>Technology</td>\n",
       "    </tr>\n",
       "    <tr>\n",
       "      <th>41</th>\n",
       "      <td>0.008751</td>\n",
       "      <td>0.184878</td>\n",
       "      <td>0.806371</td>\n",
       "      <td>Technology</td>\n",
       "    </tr>\n",
       "    <tr>\n",
       "      <th>42</th>\n",
       "      <td>0.094668</td>\n",
       "      <td>0.049513</td>\n",
       "      <td>0.855818</td>\n",
       "      <td>Utilities</td>\n",
       "    </tr>\n",
       "    <tr>\n",
       "      <th>43</th>\n",
       "      <td>0.713702</td>\n",
       "      <td>0.000298</td>\n",
       "      <td>0.286000</td>\n",
       "      <td>Utilities</td>\n",
       "    </tr>\n",
       "    <tr>\n",
       "      <th>44</th>\n",
       "      <td>0.073679</td>\n",
       "      <td>0.069535</td>\n",
       "      <td>0.856785</td>\n",
       "      <td>Total</td>\n",
       "    </tr>\n",
       "  </tbody>\n",
       "</table>\n",
       "</div>"
      ],
      "text/plain": [
       "    scope1_dist  scope2_dist  scope3_dist                 Sector1\n",
       "0      0.008276     0.162395     0.829329  Communication Services\n",
       "1      0.016585     0.197532     0.785883  Communication Services\n",
       "2      0.006122     0.014333     0.979544  Consumer Discretionary\n",
       "3      0.026163     0.019334     0.954503  Consumer Discretionary\n",
       "4      0.002091     0.009612     0.988297  Consumer Discretionary\n",
       "5      0.002916     0.013052     0.984032  Consumer Discretionary\n",
       "6      0.064074     0.025707     0.910220        Consumer Staples\n",
       "7      0.032632     0.055752     0.911615        Consumer Staples\n",
       "8      0.027072     0.032234     0.940694        Consumer Staples\n",
       "9      0.012368     0.015619     0.972013        Consumer Staples\n",
       "10     0.004030     0.005779     0.990191        Consumer Staples\n",
       "11     0.009069     0.001649     0.989282        Consumer Staples\n",
       "12     0.041886     0.044319     0.913794        Consumer Staples\n",
       "13     0.086941     0.034730     0.878329        Consumer Staples\n",
       "14     0.027939     0.026746     0.945315        Consumer Staples\n",
       "15     0.012966     0.026635     0.960399        Consumer Staples\n",
       "16     0.090437     0.004438     0.905125                  Energy\n",
       "17     0.014562     0.004074     0.981364      Financial Services\n",
       "18     0.018467     0.114980     0.866553      Financial Services\n",
       "19     0.024813     0.001345     0.973841      Financial Services\n",
       "20     0.009367     0.000319     0.990314      Financial Services\n",
       "21     0.093976     0.039394     0.866630              Healthcare\n",
       "22     0.006900     0.044976     0.948124              Healthcare\n",
       "23     0.136332     0.000216     0.863452              Healthcare\n",
       "24     0.043496     0.051304     0.905200              Healthcare\n",
       "25     0.035427     0.029179     0.935394              Healthcare\n",
       "26     0.105700     0.109349     0.784952              Healthcare\n",
       "27     0.395501     0.020327     0.584172             Industrials\n",
       "28     0.283300     0.092335     0.624365             Industrials\n",
       "29     0.008480     0.012943     0.978576             Industrials\n",
       "30     0.001519     0.001816     0.996665             Industrials\n",
       "31     0.217530     0.039984     0.742486               Materials\n",
       "32     0.319573     0.386338     0.294089               Materials\n",
       "33     0.020585     0.286361     0.693054             Real Estate\n",
       "34     0.009627     0.023374     0.966999              Technology\n",
       "35     0.126370     0.103895     0.769735              Technology\n",
       "36     0.038800     0.400480     0.560720              Technology\n",
       "37     0.004918     0.115325     0.879756              Technology\n",
       "38     0.002013     0.000000     0.997987              Technology\n",
       "39     0.019712     0.072612     0.907676              Technology\n",
       "40     0.016225     0.184076     0.799698              Technology\n",
       "41     0.008751     0.184878     0.806371              Technology\n",
       "42     0.094668     0.049513     0.855818               Utilities\n",
       "43     0.713702     0.000298     0.286000               Utilities\n",
       "44     0.073679     0.069535     0.856785                   Total"
      ]
     },
     "metadata": {},
     "execution_count": 39
    }
   ],
   "metadata": {}
  },
  {
   "cell_type": "code",
   "execution_count": 40,
   "source": [
    "scope_by_sector_df = scope_by_sector_df.groupby('Sector1', sort=False).mean()"
   ],
   "outputs": [],
   "metadata": {}
  },
  {
   "cell_type": "code",
   "execution_count": 41,
   "source": [
    "scope_by_sector_df"
   ],
   "outputs": [
    {
     "output_type": "execute_result",
     "data": {
      "text/html": [
       "<div>\n",
       "<style scoped>\n",
       "    .dataframe tbody tr th:only-of-type {\n",
       "        vertical-align: middle;\n",
       "    }\n",
       "\n",
       "    .dataframe tbody tr th {\n",
       "        vertical-align: top;\n",
       "    }\n",
       "\n",
       "    .dataframe thead th {\n",
       "        text-align: right;\n",
       "    }\n",
       "</style>\n",
       "<table border=\"1\" class=\"dataframe\">\n",
       "  <thead>\n",
       "    <tr style=\"text-align: right;\">\n",
       "      <th></th>\n",
       "      <th>scope1_dist</th>\n",
       "      <th>scope2_dist</th>\n",
       "      <th>scope3_dist</th>\n",
       "    </tr>\n",
       "    <tr>\n",
       "      <th>Sector1</th>\n",
       "      <th></th>\n",
       "      <th></th>\n",
       "      <th></th>\n",
       "    </tr>\n",
       "  </thead>\n",
       "  <tbody>\n",
       "    <tr>\n",
       "      <th>Communication Services</th>\n",
       "      <td>0.012430</td>\n",
       "      <td>0.179964</td>\n",
       "      <td>0.807606</td>\n",
       "    </tr>\n",
       "    <tr>\n",
       "      <th>Consumer Discretionary</th>\n",
       "      <td>0.009323</td>\n",
       "      <td>0.014083</td>\n",
       "      <td>0.976594</td>\n",
       "    </tr>\n",
       "    <tr>\n",
       "      <th>Consumer Staples</th>\n",
       "      <td>0.031898</td>\n",
       "      <td>0.026917</td>\n",
       "      <td>0.941185</td>\n",
       "    </tr>\n",
       "    <tr>\n",
       "      <th>Energy</th>\n",
       "      <td>0.090437</td>\n",
       "      <td>0.004438</td>\n",
       "      <td>0.905125</td>\n",
       "    </tr>\n",
       "    <tr>\n",
       "      <th>Financial Services</th>\n",
       "      <td>0.016803</td>\n",
       "      <td>0.030180</td>\n",
       "      <td>0.953018</td>\n",
       "    </tr>\n",
       "    <tr>\n",
       "      <th>Healthcare</th>\n",
       "      <td>0.070305</td>\n",
       "      <td>0.045736</td>\n",
       "      <td>0.883959</td>\n",
       "    </tr>\n",
       "    <tr>\n",
       "      <th>Industrials</th>\n",
       "      <td>0.172200</td>\n",
       "      <td>0.031855</td>\n",
       "      <td>0.795945</td>\n",
       "    </tr>\n",
       "    <tr>\n",
       "      <th>Materials</th>\n",
       "      <td>0.268552</td>\n",
       "      <td>0.213161</td>\n",
       "      <td>0.518287</td>\n",
       "    </tr>\n",
       "    <tr>\n",
       "      <th>Real Estate</th>\n",
       "      <td>0.020585</td>\n",
       "      <td>0.286361</td>\n",
       "      <td>0.693054</td>\n",
       "    </tr>\n",
       "    <tr>\n",
       "      <th>Technology</th>\n",
       "      <td>0.028302</td>\n",
       "      <td>0.135580</td>\n",
       "      <td>0.836118</td>\n",
       "    </tr>\n",
       "    <tr>\n",
       "      <th>Utilities</th>\n",
       "      <td>0.404185</td>\n",
       "      <td>0.024906</td>\n",
       "      <td>0.570909</td>\n",
       "    </tr>\n",
       "    <tr>\n",
       "      <th>Total</th>\n",
       "      <td>0.073679</td>\n",
       "      <td>0.069535</td>\n",
       "      <td>0.856785</td>\n",
       "    </tr>\n",
       "  </tbody>\n",
       "</table>\n",
       "</div>"
      ],
      "text/plain": [
       "                        scope1_dist  scope2_dist  scope3_dist\n",
       "Sector1                                                      \n",
       "Communication Services     0.012430     0.179964     0.807606\n",
       "Consumer Discretionary     0.009323     0.014083     0.976594\n",
       "Consumer Staples           0.031898     0.026917     0.941185\n",
       "Energy                     0.090437     0.004438     0.905125\n",
       "Financial Services         0.016803     0.030180     0.953018\n",
       "Healthcare                 0.070305     0.045736     0.883959\n",
       "Industrials                0.172200     0.031855     0.795945\n",
       "Materials                  0.268552     0.213161     0.518287\n",
       "Real Estate                0.020585     0.286361     0.693054\n",
       "Technology                 0.028302     0.135580     0.836118\n",
       "Utilities                  0.404185     0.024906     0.570909\n",
       "Total                      0.073679     0.069535     0.856785"
      ]
     },
     "metadata": {},
     "execution_count": 41
    }
   ],
   "metadata": {}
  },
  {
   "cell_type": "code",
   "execution_count": null,
   "source": [],
   "outputs": [],
   "metadata": {}
  },
  {
   "cell_type": "code",
   "execution_count": 42,
   "source": [
    "scope_by_sector_df\n"
   ],
   "outputs": [
    {
     "output_type": "execute_result",
     "data": {
      "text/html": [
       "<div>\n",
       "<style scoped>\n",
       "    .dataframe tbody tr th:only-of-type {\n",
       "        vertical-align: middle;\n",
       "    }\n",
       "\n",
       "    .dataframe tbody tr th {\n",
       "        vertical-align: top;\n",
       "    }\n",
       "\n",
       "    .dataframe thead th {\n",
       "        text-align: right;\n",
       "    }\n",
       "</style>\n",
       "<table border=\"1\" class=\"dataframe\">\n",
       "  <thead>\n",
       "    <tr style=\"text-align: right;\">\n",
       "      <th></th>\n",
       "      <th>scope1_dist</th>\n",
       "      <th>scope2_dist</th>\n",
       "      <th>scope3_dist</th>\n",
       "    </tr>\n",
       "    <tr>\n",
       "      <th>Sector1</th>\n",
       "      <th></th>\n",
       "      <th></th>\n",
       "      <th></th>\n",
       "    </tr>\n",
       "  </thead>\n",
       "  <tbody>\n",
       "    <tr>\n",
       "      <th>Communication Services</th>\n",
       "      <td>0.012430</td>\n",
       "      <td>0.179964</td>\n",
       "      <td>0.807606</td>\n",
       "    </tr>\n",
       "    <tr>\n",
       "      <th>Consumer Discretionary</th>\n",
       "      <td>0.009323</td>\n",
       "      <td>0.014083</td>\n",
       "      <td>0.976594</td>\n",
       "    </tr>\n",
       "    <tr>\n",
       "      <th>Consumer Staples</th>\n",
       "      <td>0.031898</td>\n",
       "      <td>0.026917</td>\n",
       "      <td>0.941185</td>\n",
       "    </tr>\n",
       "    <tr>\n",
       "      <th>Energy</th>\n",
       "      <td>0.090437</td>\n",
       "      <td>0.004438</td>\n",
       "      <td>0.905125</td>\n",
       "    </tr>\n",
       "    <tr>\n",
       "      <th>Financial Services</th>\n",
       "      <td>0.016803</td>\n",
       "      <td>0.030180</td>\n",
       "      <td>0.953018</td>\n",
       "    </tr>\n",
       "    <tr>\n",
       "      <th>Healthcare</th>\n",
       "      <td>0.070305</td>\n",
       "      <td>0.045736</td>\n",
       "      <td>0.883959</td>\n",
       "    </tr>\n",
       "    <tr>\n",
       "      <th>Industrials</th>\n",
       "      <td>0.172200</td>\n",
       "      <td>0.031855</td>\n",
       "      <td>0.795945</td>\n",
       "    </tr>\n",
       "    <tr>\n",
       "      <th>Materials</th>\n",
       "      <td>0.268552</td>\n",
       "      <td>0.213161</td>\n",
       "      <td>0.518287</td>\n",
       "    </tr>\n",
       "    <tr>\n",
       "      <th>Real Estate</th>\n",
       "      <td>0.020585</td>\n",
       "      <td>0.286361</td>\n",
       "      <td>0.693054</td>\n",
       "    </tr>\n",
       "    <tr>\n",
       "      <th>Technology</th>\n",
       "      <td>0.028302</td>\n",
       "      <td>0.135580</td>\n",
       "      <td>0.836118</td>\n",
       "    </tr>\n",
       "    <tr>\n",
       "      <th>Utilities</th>\n",
       "      <td>0.404185</td>\n",
       "      <td>0.024906</td>\n",
       "      <td>0.570909</td>\n",
       "    </tr>\n",
       "    <tr>\n",
       "      <th>Total</th>\n",
       "      <td>0.073679</td>\n",
       "      <td>0.069535</td>\n",
       "      <td>0.856785</td>\n",
       "    </tr>\n",
       "  </tbody>\n",
       "</table>\n",
       "</div>"
      ],
      "text/plain": [
       "                        scope1_dist  scope2_dist  scope3_dist\n",
       "Sector1                                                      \n",
       "Communication Services     0.012430     0.179964     0.807606\n",
       "Consumer Discretionary     0.009323     0.014083     0.976594\n",
       "Consumer Staples           0.031898     0.026917     0.941185\n",
       "Energy                     0.090437     0.004438     0.905125\n",
       "Financial Services         0.016803     0.030180     0.953018\n",
       "Healthcare                 0.070305     0.045736     0.883959\n",
       "Industrials                0.172200     0.031855     0.795945\n",
       "Materials                  0.268552     0.213161     0.518287\n",
       "Real Estate                0.020585     0.286361     0.693054\n",
       "Technology                 0.028302     0.135580     0.836118\n",
       "Utilities                  0.404185     0.024906     0.570909\n",
       "Total                      0.073679     0.069535     0.856785"
      ]
     },
     "metadata": {},
     "execution_count": 42
    }
   ],
   "metadata": {}
  },
  {
   "cell_type": "code",
   "execution_count": 43,
   "source": [
    "#CHECK\n",
    "scope_by_sector_df['scope1_dist'] + scope_by_sector_df['scope2_dist'] + scope_by_sector_df['scope3_dist']"
   ],
   "outputs": [
    {
     "output_type": "execute_result",
     "data": {
      "text/plain": [
       "Sector1\n",
       "Communication Services    1.0\n",
       "Consumer Discretionary    1.0\n",
       "Consumer Staples          1.0\n",
       "Energy                    1.0\n",
       "Financial Services        1.0\n",
       "Healthcare                1.0\n",
       "Industrials               1.0\n",
       "Materials                 1.0\n",
       "Real Estate               1.0\n",
       "Technology                1.0\n",
       "Utilities                 1.0\n",
       "Total                     1.0\n",
       "dtype: float64"
      ]
     },
     "metadata": {},
     "execution_count": 43
    }
   ],
   "metadata": {}
  },
  {
   "cell_type": "code",
   "execution_count": 44,
   "source": [
    "x0 = scope_by_sector_df.index\n",
    "y0=['Scope 1', 'Scope 2', 'Scope 3']\n",
    "z0 = [scope_by_sector_df['scope1_dist'],\n",
    "      scope_by_sector_df['scope2_dist'],\n",
    "      scope_by_sector_df['scope3_dist']]"
   ],
   "outputs": [],
   "metadata": {}
  },
  {
   "cell_type": "code",
   "execution_count": 82,
   "source": [
    "trace = go.Heatmap(\n",
    "    z = z0,\n",
    "    x = x0,\n",
    "    y = y0,\n",
    "    colorbar = dict(tickformat = \"%\"),\n",
    "    colorscale = 'amp')"
   ],
   "outputs": [],
   "metadata": {}
  },
  {
   "cell_type": "code",
   "execution_count": 83,
   "source": [
    "list(scope_by_sector_df.index)"
   ],
   "outputs": [
    {
     "output_type": "execute_result",
     "data": {
      "text/plain": [
       "['Communication Services',\n",
       " 'Consumer Discretionary',\n",
       " 'Consumer Staples',\n",
       " 'Energy',\n",
       " 'Financial Services',\n",
       " 'Healthcare',\n",
       " 'Industrials',\n",
       " 'Materials',\n",
       " 'Real Estate',\n",
       " 'Technology',\n",
       " 'Utilities',\n",
       " 'Total']"
      ]
     },
     "metadata": {},
     "execution_count": 83
    }
   ],
   "metadata": {}
  },
  {
   "cell_type": "code",
   "execution_count": 84,
   "source": [
    "if scope3_completeness:\n",
    "    title = \"Real Picture Based on Transparent Companies\"\n",
    "else:\n",
    "    title = \"What is Currently Reported\"\n",
    "title = \"\""
   ],
   "outputs": [],
   "metadata": {}
  },
  {
   "cell_type": "code",
   "execution_count": 85,
   "source": [
    "layout = go.Layout (\n",
    "    title = title,\n",
    "    titlefont = dict(family = 'Arial', size = 25),\n",
    "    plot_bgcolor = 'antiquewhite',\n",
    ")"
   ],
   "outputs": [],
   "metadata": {}
  },
  {
   "cell_type": "code",
   "execution_count": 86,
   "source": [
    "fig = go.Figure(data = [trace], \n",
    "                layout = layout)\n",
    "offline.iplot(fig)"
   ],
   "outputs": [
    {
     "output_type": "display_data",
     "data": {
      "application/vnd.plotly.v1+json": {
       "config": {
        "linkText": "Export to plot.ly",
        "plotlyServerURL": "https://plot.ly",
        "showLink": false
       },
       "data": [
        {
         "colorbar": {
          "tickformat": "%n.1"
         },
         "colorscale": [
          [
           0,
           "rgb(241, 236, 236)"
          ],
          [
           0.09090909090909091,
           "rgb(230, 209, 203)"
          ],
          [
           0.18181818181818182,
           "rgb(221, 182, 170)"
          ],
          [
           0.2727272727272727,
           "rgb(213, 156, 137)"
          ],
          [
           0.36363636363636365,
           "rgb(205, 129, 103)"
          ],
          [
           0.45454545454545453,
           "rgb(196, 102, 73)"
          ],
          [
           0.5454545454545454,
           "rgb(186, 74, 47)"
          ],
          [
           0.6363636363636364,
           "rgb(172, 44, 36)"
          ],
          [
           0.7272727272727273,
           "rgb(149, 19, 39)"
          ],
          [
           0.8181818181818182,
           "rgb(120, 14, 40)"
          ],
          [
           0.9090909090909091,
           "rgb(89, 13, 31)"
          ],
          [
           1,
           "rgb(60, 9, 17)"
          ]
         ],
         "type": "heatmap",
         "x": [
          "Communication Services",
          "Consumer Discretionary",
          "Consumer Staples",
          "Energy",
          "Financial Services",
          "Healthcare",
          "Industrials",
          "Materials",
          "Real Estate",
          "Technology",
          "Utilities",
          "Total"
         ],
         "y": [
          "Scope 1",
          "Scope 2",
          "Scope 3"
         ],
         "z": [
          [
           0.01243017120841218,
           0.009322986387348707,
           0.0318976756668741,
           0.09043719804411925,
           0.01680255394412769,
           0.07030516122417603,
           0.1721999350795729,
           0.2685517728522228,
           0.020584993206695892,
           0.028301916588684084,
           0.40418499173095945,
           0.07367911411821525
          ],
          [
           0.17996376337779602,
           0.014082943527828119,
           0.026917175804506567,
           0.004438003871210897,
           0.030179537679372218,
           0.04573625295202979,
           0.03185529781400719,
           0.21316075359586778,
           0.28636126705802933,
           0.13558013011114975,
           0.024905609391393153,
           0.06953547628160515
          ],
          [
           0.8076060654137918,
           0.9765940700848232,
           0.9411851485286193,
           0.9051247980846698,
           0.9530179083765,
           0.8839585858237942,
           0.7959447671064199,
           0.5182874735519094,
           0.6930537397352747,
           0.8361179533001661,
           0.5709093988776474,
           0.8567854096001798
          ]
         ]
        }
       ],
       "layout": {
        "plot_bgcolor": "antiquewhite",
        "template": {
         "data": {
          "bar": [
           {
            "error_x": {
             "color": "#2a3f5f"
            },
            "error_y": {
             "color": "#2a3f5f"
            },
            "marker": {
             "line": {
              "color": "#E5ECF6",
              "width": 0.5
             },
             "pattern": {
              "fillmode": "overlay",
              "size": 10,
              "solidity": 0.2
             }
            },
            "type": "bar"
           }
          ],
          "barpolar": [
           {
            "marker": {
             "line": {
              "color": "#E5ECF6",
              "width": 0.5
             },
             "pattern": {
              "fillmode": "overlay",
              "size": 10,
              "solidity": 0.2
             }
            },
            "type": "barpolar"
           }
          ],
          "carpet": [
           {
            "aaxis": {
             "endlinecolor": "#2a3f5f",
             "gridcolor": "white",
             "linecolor": "white",
             "minorgridcolor": "white",
             "startlinecolor": "#2a3f5f"
            },
            "baxis": {
             "endlinecolor": "#2a3f5f",
             "gridcolor": "white",
             "linecolor": "white",
             "minorgridcolor": "white",
             "startlinecolor": "#2a3f5f"
            },
            "type": "carpet"
           }
          ],
          "choropleth": [
           {
            "colorbar": {
             "outlinewidth": 0,
             "ticks": ""
            },
            "type": "choropleth"
           }
          ],
          "contour": [
           {
            "colorbar": {
             "outlinewidth": 0,
             "ticks": ""
            },
            "colorscale": [
             [
              0,
              "#0d0887"
             ],
             [
              0.1111111111111111,
              "#46039f"
             ],
             [
              0.2222222222222222,
              "#7201a8"
             ],
             [
              0.3333333333333333,
              "#9c179e"
             ],
             [
              0.4444444444444444,
              "#bd3786"
             ],
             [
              0.5555555555555556,
              "#d8576b"
             ],
             [
              0.6666666666666666,
              "#ed7953"
             ],
             [
              0.7777777777777778,
              "#fb9f3a"
             ],
             [
              0.8888888888888888,
              "#fdca26"
             ],
             [
              1,
              "#f0f921"
             ]
            ],
            "type": "contour"
           }
          ],
          "contourcarpet": [
           {
            "colorbar": {
             "outlinewidth": 0,
             "ticks": ""
            },
            "type": "contourcarpet"
           }
          ],
          "heatmap": [
           {
            "colorbar": {
             "outlinewidth": 0,
             "ticks": ""
            },
            "colorscale": [
             [
              0,
              "#0d0887"
             ],
             [
              0.1111111111111111,
              "#46039f"
             ],
             [
              0.2222222222222222,
              "#7201a8"
             ],
             [
              0.3333333333333333,
              "#9c179e"
             ],
             [
              0.4444444444444444,
              "#bd3786"
             ],
             [
              0.5555555555555556,
              "#d8576b"
             ],
             [
              0.6666666666666666,
              "#ed7953"
             ],
             [
              0.7777777777777778,
              "#fb9f3a"
             ],
             [
              0.8888888888888888,
              "#fdca26"
             ],
             [
              1,
              "#f0f921"
             ]
            ],
            "type": "heatmap"
           }
          ],
          "heatmapgl": [
           {
            "colorbar": {
             "outlinewidth": 0,
             "ticks": ""
            },
            "colorscale": [
             [
              0,
              "#0d0887"
             ],
             [
              0.1111111111111111,
              "#46039f"
             ],
             [
              0.2222222222222222,
              "#7201a8"
             ],
             [
              0.3333333333333333,
              "#9c179e"
             ],
             [
              0.4444444444444444,
              "#bd3786"
             ],
             [
              0.5555555555555556,
              "#d8576b"
             ],
             [
              0.6666666666666666,
              "#ed7953"
             ],
             [
              0.7777777777777778,
              "#fb9f3a"
             ],
             [
              0.8888888888888888,
              "#fdca26"
             ],
             [
              1,
              "#f0f921"
             ]
            ],
            "type": "heatmapgl"
           }
          ],
          "histogram": [
           {
            "marker": {
             "pattern": {
              "fillmode": "overlay",
              "size": 10,
              "solidity": 0.2
             }
            },
            "type": "histogram"
           }
          ],
          "histogram2d": [
           {
            "colorbar": {
             "outlinewidth": 0,
             "ticks": ""
            },
            "colorscale": [
             [
              0,
              "#0d0887"
             ],
             [
              0.1111111111111111,
              "#46039f"
             ],
             [
              0.2222222222222222,
              "#7201a8"
             ],
             [
              0.3333333333333333,
              "#9c179e"
             ],
             [
              0.4444444444444444,
              "#bd3786"
             ],
             [
              0.5555555555555556,
              "#d8576b"
             ],
             [
              0.6666666666666666,
              "#ed7953"
             ],
             [
              0.7777777777777778,
              "#fb9f3a"
             ],
             [
              0.8888888888888888,
              "#fdca26"
             ],
             [
              1,
              "#f0f921"
             ]
            ],
            "type": "histogram2d"
           }
          ],
          "histogram2dcontour": [
           {
            "colorbar": {
             "outlinewidth": 0,
             "ticks": ""
            },
            "colorscale": [
             [
              0,
              "#0d0887"
             ],
             [
              0.1111111111111111,
              "#46039f"
             ],
             [
              0.2222222222222222,
              "#7201a8"
             ],
             [
              0.3333333333333333,
              "#9c179e"
             ],
             [
              0.4444444444444444,
              "#bd3786"
             ],
             [
              0.5555555555555556,
              "#d8576b"
             ],
             [
              0.6666666666666666,
              "#ed7953"
             ],
             [
              0.7777777777777778,
              "#fb9f3a"
             ],
             [
              0.8888888888888888,
              "#fdca26"
             ],
             [
              1,
              "#f0f921"
             ]
            ],
            "type": "histogram2dcontour"
           }
          ],
          "mesh3d": [
           {
            "colorbar": {
             "outlinewidth": 0,
             "ticks": ""
            },
            "type": "mesh3d"
           }
          ],
          "parcoords": [
           {
            "line": {
             "colorbar": {
              "outlinewidth": 0,
              "ticks": ""
             }
            },
            "type": "parcoords"
           }
          ],
          "pie": [
           {
            "automargin": true,
            "type": "pie"
           }
          ],
          "scatter": [
           {
            "marker": {
             "colorbar": {
              "outlinewidth": 0,
              "ticks": ""
             }
            },
            "type": "scatter"
           }
          ],
          "scatter3d": [
           {
            "line": {
             "colorbar": {
              "outlinewidth": 0,
              "ticks": ""
             }
            },
            "marker": {
             "colorbar": {
              "outlinewidth": 0,
              "ticks": ""
             }
            },
            "type": "scatter3d"
           }
          ],
          "scattercarpet": [
           {
            "marker": {
             "colorbar": {
              "outlinewidth": 0,
              "ticks": ""
             }
            },
            "type": "scattercarpet"
           }
          ],
          "scattergeo": [
           {
            "marker": {
             "colorbar": {
              "outlinewidth": 0,
              "ticks": ""
             }
            },
            "type": "scattergeo"
           }
          ],
          "scattergl": [
           {
            "marker": {
             "colorbar": {
              "outlinewidth": 0,
              "ticks": ""
             }
            },
            "type": "scattergl"
           }
          ],
          "scattermapbox": [
           {
            "marker": {
             "colorbar": {
              "outlinewidth": 0,
              "ticks": ""
             }
            },
            "type": "scattermapbox"
           }
          ],
          "scatterpolar": [
           {
            "marker": {
             "colorbar": {
              "outlinewidth": 0,
              "ticks": ""
             }
            },
            "type": "scatterpolar"
           }
          ],
          "scatterpolargl": [
           {
            "marker": {
             "colorbar": {
              "outlinewidth": 0,
              "ticks": ""
             }
            },
            "type": "scatterpolargl"
           }
          ],
          "scatterternary": [
           {
            "marker": {
             "colorbar": {
              "outlinewidth": 0,
              "ticks": ""
             }
            },
            "type": "scatterternary"
           }
          ],
          "surface": [
           {
            "colorbar": {
             "outlinewidth": 0,
             "ticks": ""
            },
            "colorscale": [
             [
              0,
              "#0d0887"
             ],
             [
              0.1111111111111111,
              "#46039f"
             ],
             [
              0.2222222222222222,
              "#7201a8"
             ],
             [
              0.3333333333333333,
              "#9c179e"
             ],
             [
              0.4444444444444444,
              "#bd3786"
             ],
             [
              0.5555555555555556,
              "#d8576b"
             ],
             [
              0.6666666666666666,
              "#ed7953"
             ],
             [
              0.7777777777777778,
              "#fb9f3a"
             ],
             [
              0.8888888888888888,
              "#fdca26"
             ],
             [
              1,
              "#f0f921"
             ]
            ],
            "type": "surface"
           }
          ],
          "table": [
           {
            "cells": {
             "fill": {
              "color": "#EBF0F8"
             },
             "line": {
              "color": "white"
             }
            },
            "header": {
             "fill": {
              "color": "#C8D4E3"
             },
             "line": {
              "color": "white"
             }
            },
            "type": "table"
           }
          ]
         },
         "layout": {
          "annotationdefaults": {
           "arrowcolor": "#2a3f5f",
           "arrowhead": 0,
           "arrowwidth": 1
          },
          "autotypenumbers": "strict",
          "coloraxis": {
           "colorbar": {
            "outlinewidth": 0,
            "ticks": ""
           }
          },
          "colorscale": {
           "diverging": [
            [
             0,
             "#8e0152"
            ],
            [
             0.1,
             "#c51b7d"
            ],
            [
             0.2,
             "#de77ae"
            ],
            [
             0.3,
             "#f1b6da"
            ],
            [
             0.4,
             "#fde0ef"
            ],
            [
             0.5,
             "#f7f7f7"
            ],
            [
             0.6,
             "#e6f5d0"
            ],
            [
             0.7,
             "#b8e186"
            ],
            [
             0.8,
             "#7fbc41"
            ],
            [
             0.9,
             "#4d9221"
            ],
            [
             1,
             "#276419"
            ]
           ],
           "sequential": [
            [
             0,
             "#0d0887"
            ],
            [
             0.1111111111111111,
             "#46039f"
            ],
            [
             0.2222222222222222,
             "#7201a8"
            ],
            [
             0.3333333333333333,
             "#9c179e"
            ],
            [
             0.4444444444444444,
             "#bd3786"
            ],
            [
             0.5555555555555556,
             "#d8576b"
            ],
            [
             0.6666666666666666,
             "#ed7953"
            ],
            [
             0.7777777777777778,
             "#fb9f3a"
            ],
            [
             0.8888888888888888,
             "#fdca26"
            ],
            [
             1,
             "#f0f921"
            ]
           ],
           "sequentialminus": [
            [
             0,
             "#0d0887"
            ],
            [
             0.1111111111111111,
             "#46039f"
            ],
            [
             0.2222222222222222,
             "#7201a8"
            ],
            [
             0.3333333333333333,
             "#9c179e"
            ],
            [
             0.4444444444444444,
             "#bd3786"
            ],
            [
             0.5555555555555556,
             "#d8576b"
            ],
            [
             0.6666666666666666,
             "#ed7953"
            ],
            [
             0.7777777777777778,
             "#fb9f3a"
            ],
            [
             0.8888888888888888,
             "#fdca26"
            ],
            [
             1,
             "#f0f921"
            ]
           ]
          },
          "colorway": [
           "#636efa",
           "#EF553B",
           "#00cc96",
           "#ab63fa",
           "#FFA15A",
           "#19d3f3",
           "#FF6692",
           "#B6E880",
           "#FF97FF",
           "#FECB52"
          ],
          "font": {
           "color": "#2a3f5f"
          },
          "geo": {
           "bgcolor": "white",
           "lakecolor": "white",
           "landcolor": "#E5ECF6",
           "showlakes": true,
           "showland": true,
           "subunitcolor": "white"
          },
          "hoverlabel": {
           "align": "left"
          },
          "hovermode": "closest",
          "mapbox": {
           "style": "light"
          },
          "paper_bgcolor": "white",
          "plot_bgcolor": "#E5ECF6",
          "polar": {
           "angularaxis": {
            "gridcolor": "white",
            "linecolor": "white",
            "ticks": ""
           },
           "bgcolor": "#E5ECF6",
           "radialaxis": {
            "gridcolor": "white",
            "linecolor": "white",
            "ticks": ""
           }
          },
          "scene": {
           "xaxis": {
            "backgroundcolor": "#E5ECF6",
            "gridcolor": "white",
            "gridwidth": 2,
            "linecolor": "white",
            "showbackground": true,
            "ticks": "",
            "zerolinecolor": "white"
           },
           "yaxis": {
            "backgroundcolor": "#E5ECF6",
            "gridcolor": "white",
            "gridwidth": 2,
            "linecolor": "white",
            "showbackground": true,
            "ticks": "",
            "zerolinecolor": "white"
           },
           "zaxis": {
            "backgroundcolor": "#E5ECF6",
            "gridcolor": "white",
            "gridwidth": 2,
            "linecolor": "white",
            "showbackground": true,
            "ticks": "",
            "zerolinecolor": "white"
           }
          },
          "shapedefaults": {
           "line": {
            "color": "#2a3f5f"
           }
          },
          "ternary": {
           "aaxis": {
            "gridcolor": "white",
            "linecolor": "white",
            "ticks": ""
           },
           "baxis": {
            "gridcolor": "white",
            "linecolor": "white",
            "ticks": ""
           },
           "bgcolor": "#E5ECF6",
           "caxis": {
            "gridcolor": "white",
            "linecolor": "white",
            "ticks": ""
           }
          },
          "title": {
           "x": 0.05
          },
          "xaxis": {
           "automargin": true,
           "gridcolor": "white",
           "linecolor": "white",
           "ticks": "",
           "title": {
            "standoff": 15
           },
           "zerolinecolor": "white",
           "zerolinewidth": 2
          },
          "yaxis": {
           "automargin": true,
           "gridcolor": "white",
           "linecolor": "white",
           "ticks": "",
           "title": {
            "standoff": 15
           },
           "zerolinecolor": "white",
           "zerolinewidth": 2
          }
         }
        },
        "title": {
         "font": {
          "family": "Arial",
          "size": 25
         },
         "text": ""
        }
       }
      },
      "text/html": [
       "<div>                            <div id=\"3c235a66-8d98-4dbd-8202-f6d74ef20622\" class=\"plotly-graph-div\" style=\"height:525px; width:100%;\"></div>            <script type=\"text/javascript\">                require([\"plotly\"], function(Plotly) {                    window.PLOTLYENV=window.PLOTLYENV || {};                                    if (document.getElementById(\"3c235a66-8d98-4dbd-8202-f6d74ef20622\")) {                    Plotly.newPlot(                        \"3c235a66-8d98-4dbd-8202-f6d74ef20622\",                        [{\"colorbar\":{\"tickformat\":\"%n.1\"},\"colorscale\":[[0.0,\"rgb(241, 236, 236)\"],[0.09090909090909091,\"rgb(230, 209, 203)\"],[0.18181818181818182,\"rgb(221, 182, 170)\"],[0.2727272727272727,\"rgb(213, 156, 137)\"],[0.36363636363636365,\"rgb(205, 129, 103)\"],[0.45454545454545453,\"rgb(196, 102, 73)\"],[0.5454545454545454,\"rgb(186, 74, 47)\"],[0.6363636363636364,\"rgb(172, 44, 36)\"],[0.7272727272727273,\"rgb(149, 19, 39)\"],[0.8181818181818182,\"rgb(120, 14, 40)\"],[0.9090909090909091,\"rgb(89, 13, 31)\"],[1.0,\"rgb(60, 9, 17)\"]],\"type\":\"heatmap\",\"x\":[\"Communication Services\",\"Consumer Discretionary\",\"Consumer Staples\",\"Energy\",\"Financial Services\",\"Healthcare\",\"Industrials\",\"Materials\",\"Real Estate\",\"Technology\",\"Utilities\",\"Total\"],\"y\":[\"Scope 1\",\"Scope 2\",\"Scope 3\"],\"z\":[[0.01243017120841218,0.009322986387348707,0.0318976756668741,0.09043719804411925,0.01680255394412769,0.07030516122417603,0.1721999350795729,0.2685517728522228,0.020584993206695892,0.028301916588684084,0.40418499173095945,0.07367911411821525],[0.17996376337779602,0.014082943527828119,0.026917175804506567,0.004438003871210897,0.030179537679372218,0.04573625295202979,0.03185529781400719,0.21316075359586778,0.28636126705802933,0.13558013011114975,0.024905609391393153,0.06953547628160515],[0.8076060654137918,0.9765940700848232,0.9411851485286193,0.9051247980846698,0.9530179083765,0.8839585858237942,0.7959447671064199,0.5182874735519094,0.6930537397352747,0.8361179533001661,0.5709093988776474,0.8567854096001798]]}],                        {\"plot_bgcolor\":\"antiquewhite\",\"template\":{\"data\":{\"bar\":[{\"error_x\":{\"color\":\"#2a3f5f\"},\"error_y\":{\"color\":\"#2a3f5f\"},\"marker\":{\"line\":{\"color\":\"#E5ECF6\",\"width\":0.5},\"pattern\":{\"fillmode\":\"overlay\",\"size\":10,\"solidity\":0.2}},\"type\":\"bar\"}],\"barpolar\":[{\"marker\":{\"line\":{\"color\":\"#E5ECF6\",\"width\":0.5},\"pattern\":{\"fillmode\":\"overlay\",\"size\":10,\"solidity\":0.2}},\"type\":\"barpolar\"}],\"carpet\":[{\"aaxis\":{\"endlinecolor\":\"#2a3f5f\",\"gridcolor\":\"white\",\"linecolor\":\"white\",\"minorgridcolor\":\"white\",\"startlinecolor\":\"#2a3f5f\"},\"baxis\":{\"endlinecolor\":\"#2a3f5f\",\"gridcolor\":\"white\",\"linecolor\":\"white\",\"minorgridcolor\":\"white\",\"startlinecolor\":\"#2a3f5f\"},\"type\":\"carpet\"}],\"choropleth\":[{\"colorbar\":{\"outlinewidth\":0,\"ticks\":\"\"},\"type\":\"choropleth\"}],\"contour\":[{\"colorbar\":{\"outlinewidth\":0,\"ticks\":\"\"},\"colorscale\":[[0.0,\"#0d0887\"],[0.1111111111111111,\"#46039f\"],[0.2222222222222222,\"#7201a8\"],[0.3333333333333333,\"#9c179e\"],[0.4444444444444444,\"#bd3786\"],[0.5555555555555556,\"#d8576b\"],[0.6666666666666666,\"#ed7953\"],[0.7777777777777778,\"#fb9f3a\"],[0.8888888888888888,\"#fdca26\"],[1.0,\"#f0f921\"]],\"type\":\"contour\"}],\"contourcarpet\":[{\"colorbar\":{\"outlinewidth\":0,\"ticks\":\"\"},\"type\":\"contourcarpet\"}],\"heatmap\":[{\"colorbar\":{\"outlinewidth\":0,\"ticks\":\"\"},\"colorscale\":[[0.0,\"#0d0887\"],[0.1111111111111111,\"#46039f\"],[0.2222222222222222,\"#7201a8\"],[0.3333333333333333,\"#9c179e\"],[0.4444444444444444,\"#bd3786\"],[0.5555555555555556,\"#d8576b\"],[0.6666666666666666,\"#ed7953\"],[0.7777777777777778,\"#fb9f3a\"],[0.8888888888888888,\"#fdca26\"],[1.0,\"#f0f921\"]],\"type\":\"heatmap\"}],\"heatmapgl\":[{\"colorbar\":{\"outlinewidth\":0,\"ticks\":\"\"},\"colorscale\":[[0.0,\"#0d0887\"],[0.1111111111111111,\"#46039f\"],[0.2222222222222222,\"#7201a8\"],[0.3333333333333333,\"#9c179e\"],[0.4444444444444444,\"#bd3786\"],[0.5555555555555556,\"#d8576b\"],[0.6666666666666666,\"#ed7953\"],[0.7777777777777778,\"#fb9f3a\"],[0.8888888888888888,\"#fdca26\"],[1.0,\"#f0f921\"]],\"type\":\"heatmapgl\"}],\"histogram\":[{\"marker\":{\"pattern\":{\"fillmode\":\"overlay\",\"size\":10,\"solidity\":0.2}},\"type\":\"histogram\"}],\"histogram2d\":[{\"colorbar\":{\"outlinewidth\":0,\"ticks\":\"\"},\"colorscale\":[[0.0,\"#0d0887\"],[0.1111111111111111,\"#46039f\"],[0.2222222222222222,\"#7201a8\"],[0.3333333333333333,\"#9c179e\"],[0.4444444444444444,\"#bd3786\"],[0.5555555555555556,\"#d8576b\"],[0.6666666666666666,\"#ed7953\"],[0.7777777777777778,\"#fb9f3a\"],[0.8888888888888888,\"#fdca26\"],[1.0,\"#f0f921\"]],\"type\":\"histogram2d\"}],\"histogram2dcontour\":[{\"colorbar\":{\"outlinewidth\":0,\"ticks\":\"\"},\"colorscale\":[[0.0,\"#0d0887\"],[0.1111111111111111,\"#46039f\"],[0.2222222222222222,\"#7201a8\"],[0.3333333333333333,\"#9c179e\"],[0.4444444444444444,\"#bd3786\"],[0.5555555555555556,\"#d8576b\"],[0.6666666666666666,\"#ed7953\"],[0.7777777777777778,\"#fb9f3a\"],[0.8888888888888888,\"#fdca26\"],[1.0,\"#f0f921\"]],\"type\":\"histogram2dcontour\"}],\"mesh3d\":[{\"colorbar\":{\"outlinewidth\":0,\"ticks\":\"\"},\"type\":\"mesh3d\"}],\"parcoords\":[{\"line\":{\"colorbar\":{\"outlinewidth\":0,\"ticks\":\"\"}},\"type\":\"parcoords\"}],\"pie\":[{\"automargin\":true,\"type\":\"pie\"}],\"scatter\":[{\"marker\":{\"colorbar\":{\"outlinewidth\":0,\"ticks\":\"\"}},\"type\":\"scatter\"}],\"scatter3d\":[{\"line\":{\"colorbar\":{\"outlinewidth\":0,\"ticks\":\"\"}},\"marker\":{\"colorbar\":{\"outlinewidth\":0,\"ticks\":\"\"}},\"type\":\"scatter3d\"}],\"scattercarpet\":[{\"marker\":{\"colorbar\":{\"outlinewidth\":0,\"ticks\":\"\"}},\"type\":\"scattercarpet\"}],\"scattergeo\":[{\"marker\":{\"colorbar\":{\"outlinewidth\":0,\"ticks\":\"\"}},\"type\":\"scattergeo\"}],\"scattergl\":[{\"marker\":{\"colorbar\":{\"outlinewidth\":0,\"ticks\":\"\"}},\"type\":\"scattergl\"}],\"scattermapbox\":[{\"marker\":{\"colorbar\":{\"outlinewidth\":0,\"ticks\":\"\"}},\"type\":\"scattermapbox\"}],\"scatterpolar\":[{\"marker\":{\"colorbar\":{\"outlinewidth\":0,\"ticks\":\"\"}},\"type\":\"scatterpolar\"}],\"scatterpolargl\":[{\"marker\":{\"colorbar\":{\"outlinewidth\":0,\"ticks\":\"\"}},\"type\":\"scatterpolargl\"}],\"scatterternary\":[{\"marker\":{\"colorbar\":{\"outlinewidth\":0,\"ticks\":\"\"}},\"type\":\"scatterternary\"}],\"surface\":[{\"colorbar\":{\"outlinewidth\":0,\"ticks\":\"\"},\"colorscale\":[[0.0,\"#0d0887\"],[0.1111111111111111,\"#46039f\"],[0.2222222222222222,\"#7201a8\"],[0.3333333333333333,\"#9c179e\"],[0.4444444444444444,\"#bd3786\"],[0.5555555555555556,\"#d8576b\"],[0.6666666666666666,\"#ed7953\"],[0.7777777777777778,\"#fb9f3a\"],[0.8888888888888888,\"#fdca26\"],[1.0,\"#f0f921\"]],\"type\":\"surface\"}],\"table\":[{\"cells\":{\"fill\":{\"color\":\"#EBF0F8\"},\"line\":{\"color\":\"white\"}},\"header\":{\"fill\":{\"color\":\"#C8D4E3\"},\"line\":{\"color\":\"white\"}},\"type\":\"table\"}]},\"layout\":{\"annotationdefaults\":{\"arrowcolor\":\"#2a3f5f\",\"arrowhead\":0,\"arrowwidth\":1},\"autotypenumbers\":\"strict\",\"coloraxis\":{\"colorbar\":{\"outlinewidth\":0,\"ticks\":\"\"}},\"colorscale\":{\"diverging\":[[0,\"#8e0152\"],[0.1,\"#c51b7d\"],[0.2,\"#de77ae\"],[0.3,\"#f1b6da\"],[0.4,\"#fde0ef\"],[0.5,\"#f7f7f7\"],[0.6,\"#e6f5d0\"],[0.7,\"#b8e186\"],[0.8,\"#7fbc41\"],[0.9,\"#4d9221\"],[1,\"#276419\"]],\"sequential\":[[0.0,\"#0d0887\"],[0.1111111111111111,\"#46039f\"],[0.2222222222222222,\"#7201a8\"],[0.3333333333333333,\"#9c179e\"],[0.4444444444444444,\"#bd3786\"],[0.5555555555555556,\"#d8576b\"],[0.6666666666666666,\"#ed7953\"],[0.7777777777777778,\"#fb9f3a\"],[0.8888888888888888,\"#fdca26\"],[1.0,\"#f0f921\"]],\"sequentialminus\":[[0.0,\"#0d0887\"],[0.1111111111111111,\"#46039f\"],[0.2222222222222222,\"#7201a8\"],[0.3333333333333333,\"#9c179e\"],[0.4444444444444444,\"#bd3786\"],[0.5555555555555556,\"#d8576b\"],[0.6666666666666666,\"#ed7953\"],[0.7777777777777778,\"#fb9f3a\"],[0.8888888888888888,\"#fdca26\"],[1.0,\"#f0f921\"]]},\"colorway\":[\"#636efa\",\"#EF553B\",\"#00cc96\",\"#ab63fa\",\"#FFA15A\",\"#19d3f3\",\"#FF6692\",\"#B6E880\",\"#FF97FF\",\"#FECB52\"],\"font\":{\"color\":\"#2a3f5f\"},\"geo\":{\"bgcolor\":\"white\",\"lakecolor\":\"white\",\"landcolor\":\"#E5ECF6\",\"showlakes\":true,\"showland\":true,\"subunitcolor\":\"white\"},\"hoverlabel\":{\"align\":\"left\"},\"hovermode\":\"closest\",\"mapbox\":{\"style\":\"light\"},\"paper_bgcolor\":\"white\",\"plot_bgcolor\":\"#E5ECF6\",\"polar\":{\"angularaxis\":{\"gridcolor\":\"white\",\"linecolor\":\"white\",\"ticks\":\"\"},\"bgcolor\":\"#E5ECF6\",\"radialaxis\":{\"gridcolor\":\"white\",\"linecolor\":\"white\",\"ticks\":\"\"}},\"scene\":{\"xaxis\":{\"backgroundcolor\":\"#E5ECF6\",\"gridcolor\":\"white\",\"gridwidth\":2,\"linecolor\":\"white\",\"showbackground\":true,\"ticks\":\"\",\"zerolinecolor\":\"white\"},\"yaxis\":{\"backgroundcolor\":\"#E5ECF6\",\"gridcolor\":\"white\",\"gridwidth\":2,\"linecolor\":\"white\",\"showbackground\":true,\"ticks\":\"\",\"zerolinecolor\":\"white\"},\"zaxis\":{\"backgroundcolor\":\"#E5ECF6\",\"gridcolor\":\"white\",\"gridwidth\":2,\"linecolor\":\"white\",\"showbackground\":true,\"ticks\":\"\",\"zerolinecolor\":\"white\"}},\"shapedefaults\":{\"line\":{\"color\":\"#2a3f5f\"}},\"ternary\":{\"aaxis\":{\"gridcolor\":\"white\",\"linecolor\":\"white\",\"ticks\":\"\"},\"baxis\":{\"gridcolor\":\"white\",\"linecolor\":\"white\",\"ticks\":\"\"},\"bgcolor\":\"#E5ECF6\",\"caxis\":{\"gridcolor\":\"white\",\"linecolor\":\"white\",\"ticks\":\"\"}},\"title\":{\"x\":0.05},\"xaxis\":{\"automargin\":true,\"gridcolor\":\"white\",\"linecolor\":\"white\",\"ticks\":\"\",\"title\":{\"standoff\":15},\"zerolinecolor\":\"white\",\"zerolinewidth\":2},\"yaxis\":{\"automargin\":true,\"gridcolor\":\"white\",\"linecolor\":\"white\",\"ticks\":\"\",\"title\":{\"standoff\":15},\"zerolinecolor\":\"white\",\"zerolinewidth\":2}}},\"title\":{\"font\":{\"family\":\"Arial\",\"size\":25},\"text\":\"\"}},                        {\"responsive\": true}                    ).then(function(){\n",
       "                            \n",
       "var gd = document.getElementById('3c235a66-8d98-4dbd-8202-f6d74ef20622');\n",
       "var x = new MutationObserver(function (mutations, observer) {{\n",
       "        var display = window.getComputedStyle(gd).display;\n",
       "        if (!display || display === 'none') {{\n",
       "            console.log([gd, 'removed!']);\n",
       "            Plotly.purge(gd);\n",
       "            observer.disconnect();\n",
       "        }}\n",
       "}});\n",
       "\n",
       "// Listen for the removal of the full notebook cells\n",
       "var notebookContainer = gd.closest('#notebook-container');\n",
       "if (notebookContainer) {{\n",
       "    x.observe(notebookContainer, {childList: true});\n",
       "}}\n",
       "\n",
       "// Listen for the clearing of the current output cell\n",
       "var outputEl = gd.closest('.output');\n",
       "if (outputEl) {{\n",
       "    x.observe(outputEl, {childList: true});\n",
       "}}\n",
       "\n",
       "                        })                };                });            </script>        </div>"
      ]
     },
     "metadata": {}
    }
   ],
   "metadata": {}
  },
  {
   "cell_type": "code",
   "execution_count": 87,
   "source": [
    "config = {'displaylogo': False,\n",
    "        'responsive': True\n",
    "        }\n",
    "if scope3_completeness:\n",
    "    name_fig = 'real_scope_heatmap'\n",
    "else:\n",
    "    name_fig = 'reported_scope_heatmap'\n",
    "\n",
    "fig.write_image(\n",
    "                \"../../django_project/static/django_project/images/charts/{}/{}.jpeg\".format(\n",
    "                    'general',\n",
    "                    name_fig),\n",
    "                scale=1,\n",
    "                )\n",
    "plot(\n",
    "    fig,\n",
    "    config=config,\n",
    "    filename = '../../django_project/templates/django_project/home/charts/html_exports/{}/{}.html'.format(\n",
    "        'general',\n",
    "        name_fig),\n",
    "    auto_open=False)"
   ],
   "outputs": [
    {
     "output_type": "execute_result",
     "data": {
      "text/plain": [
       "'../../django_project/templates/django_project/home/charts/html_exports/general/real_scope_heatmap.html'"
      ]
     },
     "metadata": {},
     "execution_count": 87
    }
   ],
   "metadata": {}
  },
  {
   "cell_type": "code",
   "execution_count": null,
   "source": [],
   "outputs": [],
   "metadata": {}
  }
 ],
 "metadata": {
  "kernelspec": {
   "name": "python3",
   "display_name": "Python 3.8.10 64-bit ('net0': conda)"
  },
  "language_info": {
   "codemirror_mode": {
    "name": "ipython",
    "version": 3
   },
   "file_extension": ".py",
   "mimetype": "text/x-python",
   "name": "python",
   "nbconvert_exporter": "python",
   "pygments_lexer": "ipython3",
   "version": "3.8.10"
  },
  "interpreter": {
   "hash": "84b39baf505a8e38b7ec8824bbebc862e460fb036cb6aab4774c507962c1b49d"
  }
 },
 "nbformat": 4,
 "nbformat_minor": 4
}