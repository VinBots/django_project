{
 "cells": [
  {
   "cell_type": "markdown",
   "source": [
    "# Playground"
   ],
   "metadata": {}
  },
  {
   "cell_type": "markdown",
   "source": [
    "## Import Libraries"
   ],
   "metadata": {}
  },
  {
   "cell_type": "code",
   "execution_count": 1,
   "source": [
    "import pandas as pd\n",
    "import plotly.graph_objs as go\n",
    "import plotly.offline as offline\n",
    "import os\n",
    "import numpy as np\n",
    "from plotly.offline import plot\n",
    "from pathlib import Path"
   ],
   "outputs": [],
   "metadata": {}
  },
  {
   "cell_type": "code",
   "execution_count": 2,
   "source": [
    "offline.init_notebook_mode(connected=True)"
   ],
   "outputs": [
    {
     "output_type": "display_data",
     "data": {
      "text/html": [
       "        <script type=\"text/javascript\">\n",
       "        window.PlotlyConfig = {MathJaxConfig: 'local'};\n",
       "        if (window.MathJax) {MathJax.Hub.Config({SVG: {font: \"STIX-Web\"}});}\n",
       "        if (typeof require !== 'undefined') {\n",
       "        require.undef(\"plotly\");\n",
       "        requirejs.config({\n",
       "            paths: {\n",
       "                'plotly': ['https://cdn.plot.ly/plotly-2.4.2.min']\n",
       "            }\n",
       "        });\n",
       "        require(['plotly'], function(Plotly) {\n",
       "            window._Plotly = Plotly;\n",
       "        });\n",
       "        }\n",
       "        </script>\n",
       "        "
      ]
     },
     "metadata": {}
    }
   ],
   "metadata": {}
  },
  {
   "cell_type": "code",
   "execution_count": 3,
   "source": [
    "path = Path(os.path.dirname (os.getcwd()))\n",
    "XLSX_PATH = os.path.join(path.parent.parent.parent, 'sp100.xlsx')"
   ],
   "outputs": [],
   "metadata": {}
  },
  {
   "cell_type": "markdown",
   "source": [
    "## Compute total companies count and revenue by sector"
   ],
   "metadata": {}
  },
  {
   "cell_type": "code",
   "execution_count": 4,
   "source": [
    "# total number of companies\n",
    "total_companies_count = 100\n",
    "\n",
    "# total revenue of all companies\n",
    "\n",
    "COLS_TO_USE = {\n",
    "'companies':['company_id', 'company_name', 'SP100'],\n",
    "'financials':['company_id', 'Revenue_num_tradingview'],\n",
    "'reporting': ['company_id', 'last_reporting_year'],\n",
    "'rat_1':['company_id', 'criteria_1_1','criteria_1_2'],\n",
    "'rat_2':['company_id', 'criteria_2_1','criteria_2_2', 'assurance_type','verification_public','cdp_report_public'],\n",
    "'rat_3':['company_id', 'criteria_3_1'],\n",
    "\n",
    "}\n",
    "\n",
    "all_df = []\n",
    "for sheetname, cols in COLS_TO_USE.items():\n",
    "    all_df.append(pd.read_excel(\n",
    "        XLSX_PATH, \n",
    "        sheet_name = sheetname,\n",
    "        engine = 'openpyxl', \n",
    "        usecols = cols\n",
    "        ))\n",
    "merged_df = all_df[0]\n",
    "for i in range(len(COLS_TO_USE) - 1):\n",
    "    merged_df = pd.merge(\n",
    "        left = merged_df,\n",
    "        right = all_df[i+1],\n",
    "        how=\"left\",\n",
    "        on=\"company_id\"\n",
    "    )\n",
    "\n",
    "cond1 = (merged_df['SP100'] == 1)\n",
    "\n",
    "filter_cond = cond1 #& cond2\n",
    "filter_cond = filter_cond\n",
    "merged_df = merged_df.loc[filter_cond]\n",
    "\n",
    "#total_companies_revenue_by_sector = merged_df[['Sector1', 'Revenue_num_tradingview']].groupby('Sector1').sum()\n",
    "\n",
    "#total_companies_revenue_value = total_companies_revenue_by_sector['Revenue_num_tradingview'].sum()\n",
    "\n",
    "#total_companies_revenue_value = total_companies_revenue_by_sector['Revenue_num_tradingview'].sum()\n",
    "\n",
    "#total_companies_count_by_sector = merged_df[['Sector1', 'company_id']].groupby('Sector1').count()\n",
    "\n"
   ],
   "outputs": [],
   "metadata": {}
  },
  {
   "cell_type": "code",
   "execution_count": 5,
   "source": [
    "def extract_stats_notables(cond, extract=\"stat\"):\n",
    "    \n",
    "    selection_df = merged_df.loc[cond]\n",
    "    selection_count = selection_df['company_id'].count()\n",
    "    selection_notables = merged_df[~merged_df.company_id.isin(selection_df['company_id'])]\n",
    "    notables_list = selection_notables.sort_values('Revenue_num_tradingview', ascending=False).iloc[:5,:]\n",
    "    notables_list['company_id'] = pd.to_numeric(notables_list['company_id'], downcast='integer')\n",
    "    notables_list_names = notables_list[['company_id', 'company_name']]\n",
    "    print (notables_list_names)\n",
    "    if extract == \"stat\":\n",
    "        return selection_count\n",
    "    elif extract == \"notables\":\n",
    "        return notables_list_names\n",
    "    else:\n",
    "        return selection_count, notables_list_names"
   ],
   "outputs": [],
   "metadata": {}
  },
  {
   "cell_type": "code",
   "execution_count": 6,
   "source": [
    "#Companies reporting GHG emissions\n",
    "cond_public_reporting = merged_df['last_reporting_year']>=2019\n",
    "\n",
    "#Companies reporting 2020 GHG emissions\n",
    "cond_2020_reporting = merged_df['last_reporting_year']==2020\n",
    "\n",
    "#Companies reporting at least 2 years for scope 1 and 2\n",
    "cond_2_years = merged_df['criteria_1_1'] ==1\n",
    "\n",
    "#Companies verifiying scope 1 and 2\n",
    "cond_verif_s1s2 = merged_df['criteria_1_2'] =='full'\n",
    "\n",
    "#Companies reporting partly or fully scope 3\n",
    "cond_part_s3 = (merged_df['criteria_2_1'] =='partly') + (merged_df['criteria_2_1'] =='full')\n",
    "\n",
    "#Companies reporting fully scope 3\n",
    "cond_full_s3 = (merged_df['criteria_2_1'] =='full')\n",
    "\n",
    "#Companies verifying fully scope 3\n",
    "cond_verif_full_s3 = (merged_df['criteria_2_2'] =='full')\n",
    "\n",
    "#Companies making their verification report public\n",
    "cond_verif_public = (merged_df['verification_public'] ==2019) + (merged_df['verification_public'] ==2020)\n",
    "\n",
    "#Companies with limited verification\n",
    "cond_limited_verif = (merged_df['assurance_type'] =='limited')\n",
    "\n",
    "#Companies reporting to CDP\n",
    "cond_cdp_public = (merged_df['cdp_report_public'] =='yes')\n",
    "\n",
    "#Companies making their CDP report public\n",
    "cond_report_cdp = (merged_df['criteria_3_1'] > 0)\n"
   ],
   "outputs": [],
   "metadata": {}
  },
  {
   "cell_type": "code",
   "execution_count": null,
   "source": [],
   "outputs": [],
   "metadata": {}
  },
  {
   "cell_type": "code",
   "execution_count": null,
   "source": [],
   "outputs": [],
   "metadata": {}
  },
  {
   "cell_type": "code",
   "execution_count": null,
   "source": [],
   "outputs": [],
   "metadata": {}
  },
  {
   "cell_type": "markdown",
   "source": [
    "## Build the chart"
   ],
   "metadata": {}
  },
  {
   "cell_type": "code",
   "execution_count": 7,
   "source": [
    "cond_list = [\n",
    "    cond_public_reporting,\n",
    "    cond_2020_reporting,\n",
    "    cond_2_years,\n",
    "    cond_verif_s1s2,\n",
    "    cond_part_s3 ,\n",
    "    cond_full_s3 ,\n",
    "    cond_verif_full_s3 ,\n",
    "    #cond_verif_public ,\n",
    "    #cond_limited_verif ,\n",
    "    #cond_cdp_public,\n",
    "    cond_report_cdp, \n",
    "    ]\n",
    "companies_count = [extract_stats_notables(i) for i in cond_list]\n",
    "notables_list = [extract_stats_notables(i, \"notables\") for i in cond_list]\n",
    "x_cat=[\n",
    "    'Some <b>public disclosures</b> exist about GHG emissions',\n",
    "    '<b>Last year</b> emissions are reported as of September 2021',\n",
    "    '<b>2 years</b> of data are available',\n",
    "    'Scope 1-2 emissions are reported <b>and</b> verified',\n",
    "    'Scope 3 emissions are <b>partly</b> reported' ,\n",
    "    '<b>All emissions</b> (S1-S2-S3) are reported' ,\n",
    "    'All emissions (S1-S2-S3) are reported <b>and</b> verified',\n",
    "    #'verif_public',\n",
    "    #'limited_verif' ,\n",
    "   #'cdp_public',\n",
    "    '2020 Climate change questionnaire disclosed to <b>CDP</b>'\n",
    "]\n",
    "fail_cat = [\n",
    "    'No <b>public disclosures</b> exist about GHG emissions',\n",
    "    '<b>Last year</b> emissions are not publicly reported as of September 2021',\n",
    "    '<b>2 years</b> of data are not available',\n",
    "    'Scope 1-2 emissions are not both reported <b>and</b> verified',\n",
    "    'Scope 3 emissions are not publicly reported, not even <b>partly</b>' ,\n",
    "    '<b>Not all emissions</b> (S1-S2-S3) are publicly reported' ,\n",
    "    'All emissions (S1-S2-S3) are not both publicly reported <b>and</b> verified',\n",
    "    #'verif_public',\n",
    "    #'limited_verif' ,\n",
    "   #'cdp_public',\n",
    "    '2020 Climate change questionnaire are not submitted to <b>CDP</b>'\n",
    "]\n",
    "\n",
    "order_cat = [0, 7, 2, 3,1, 4, 5, 6]\n",
    "disclosure_idx = [0, 2, 7]\n",
    "completeness_idx = [4, 5]\n",
    "verif_idx = [3, 6]\n",
    "timeliness_idx = [1]"
   ],
   "outputs": [
    {
     "output_type": "stream",
     "name": "stdout",
     "text": [
      "     company_id             company_name\n",
      "16           17  Berkshire Hathaway Inc.\n",
      "100         101                    Tesla\n",
      "34           35                  Danaher\n",
      "    company_id             company_name\n",
      "98          99                  Walmart\n",
      "16          17  Berkshire Hathaway Inc.\n",
      "6            7     Alphabet Inc. Google\n",
      "32          33                   Costco\n",
      "82          83        Schlumberger Ltd.\n",
      "    company_id                 company_name\n",
      "16          17      Berkshire Hathaway Inc.\n",
      "32          33                       Costco\n",
      "46          47             General Electric\n",
      "80          81        Raytheon Technologies\n",
      "24          25  Charter Communications Inc.\n",
      "    company_id             company_name\n",
      "16          17  Berkshire Hathaway Inc.\n",
      "41          42              Exxon Mobil\n",
      "32          33                   Costco\n",
      "44          45       Ford Motor Company\n",
      "25          26                  Chevron\n",
      "    company_id             company_name\n",
      "87          88        Texas Instruments\n",
      "16          17  Berkshire Hathaway Inc.\n",
      "41          42              Exxon Mobil\n",
      "32          33                   Costco\n",
      "50          51               Home Depot\n",
      "    company_id             company_name\n",
      "8            9          Amazon.com Inc.\n",
      "87          88        Texas Instruments\n",
      "16          17  Berkshire Hathaway Inc.\n",
      "41          42              Exxon Mobil\n",
      "14          15                AT&T Inc.\n",
      "    company_id       company_name\n",
      "98          99            Walmart\n",
      "8            9    Amazon.com Inc.\n",
      "13          14         Apple Inc.\n",
      "33          34         CVS Health\n",
      "87          88  Texas Instruments\n",
      "    company_id             company_name\n",
      "8            9          Amazon.com Inc.\n",
      "16          17  Berkshire Hathaway Inc.\n",
      "41          42              Exxon Mobil\n",
      "25          26                  Chevron\n",
      "42          43           Facebook, Inc.\n",
      "     company_id             company_name\n",
      "16           17  Berkshire Hathaway Inc.\n",
      "100         101                    Tesla\n",
      "34           35                  Danaher\n",
      "    company_id             company_name\n",
      "98          99                  Walmart\n",
      "16          17  Berkshire Hathaway Inc.\n",
      "6            7     Alphabet Inc. Google\n",
      "32          33                   Costco\n",
      "82          83        Schlumberger Ltd.\n",
      "    company_id                 company_name\n",
      "16          17      Berkshire Hathaway Inc.\n",
      "32          33                       Costco\n",
      "46          47             General Electric\n",
      "80          81        Raytheon Technologies\n",
      "24          25  Charter Communications Inc.\n",
      "    company_id             company_name\n",
      "16          17  Berkshire Hathaway Inc.\n",
      "41          42              Exxon Mobil\n",
      "32          33                   Costco\n",
      "44          45       Ford Motor Company\n",
      "25          26                  Chevron\n",
      "    company_id             company_name\n",
      "87          88        Texas Instruments\n",
      "16          17  Berkshire Hathaway Inc.\n",
      "41          42              Exxon Mobil\n",
      "32          33                   Costco\n",
      "50          51               Home Depot\n",
      "    company_id             company_name\n",
      "8            9          Amazon.com Inc.\n",
      "87          88        Texas Instruments\n",
      "16          17  Berkshire Hathaway Inc.\n",
      "41          42              Exxon Mobil\n",
      "14          15                AT&T Inc.\n",
      "    company_id       company_name\n",
      "98          99            Walmart\n",
      "8            9    Amazon.com Inc.\n",
      "13          14         Apple Inc.\n",
      "33          34         CVS Health\n",
      "87          88  Texas Instruments\n",
      "    company_id             company_name\n",
      "8            9          Amazon.com Inc.\n",
      "16          17  Berkshire Hathaway Inc.\n",
      "41          42              Exxon Mobil\n",
      "25          26                  Chevron\n",
      "42          43           Facebook, Inc.\n"
     ]
    }
   ],
   "metadata": {}
  },
  {
   "cell_type": "code",
   "execution_count": 8,
   "source": [
    "color_palette = [\"#382A3D\", \"#70547A\", \"#AB80BA\", \"#E5ACFA\"]"
   ],
   "outputs": [],
   "metadata": {}
  },
  {
   "cell_type": "code",
   "execution_count": 9,
   "source": [
    "import plotly.graph_objects as go\n",
    "trace_disclosure = go.Bar(\n",
    "    y=[x_cat[idx] for idx in disclosure_idx],\n",
    "    x=[companies_count[idx] for idx in disclosure_idx],\n",
    "    name = 'Disclosure',\n",
    "    text = [str(companies_count[idx])+'%' for idx in disclosure_idx],\n",
    "    textposition='auto',\n",
    "    orientation = 'h',\n",
    "    marker = dict(\n",
    "        color=color_palette[0],\n",
    "        opacity = 1,\n",
    "        line=dict(\n",
    "            color=color_palette[0],\n",
    "            width=1))\n",
    "    )\n",
    "\n",
    "trace_timeliness = go.Bar(\n",
    "    y=[x_cat[i] for i in timeliness_idx],\n",
    "    x=[companies_count[i] for i in timeliness_idx],\n",
    "    name = 'Timeliness',\n",
    "    text = [str(companies_count[i])+'%' for i in timeliness_idx],\n",
    "    textposition='auto',\n",
    "    orientation = 'h',\n",
    "    marker = dict(\n",
    "        color=color_palette[1],\n",
    "        opacity = 1,\n",
    "        line=dict(\n",
    "            color=color_palette[1],\n",
    "            width=1))\n",
    "    )\n",
    "\n",
    "trace_verification = go.Bar(\n",
    "    y=[x_cat[i] for i in verif_idx],\n",
    "    x=[companies_count[i] for i in verif_idx],\n",
    "    name = 'Verification',\n",
    "    text = [str(companies_count[i])+'%' for i in verif_idx],\n",
    "    textposition='auto',\n",
    "    orientation = 'h',\n",
    "    marker = dict(\n",
    "        color=color_palette[2],\n",
    "        opacity = 1,\n",
    "        line=dict(\n",
    "            color=color_palette[2],\n",
    "            width=1))\n",
    "    )\n",
    "trace_completeteness = go.Bar(\n",
    "    y=[x_cat[i] for i in completeness_idx],\n",
    "    x=[companies_count[i] for i in completeness_idx],\n",
    "    name = 'Completeness',\n",
    "    text = [str(companies_count[i])+'%' for i in completeness_idx],\n",
    "    textposition='auto',\n",
    "    orientation = 'h',\n",
    "    marker = dict(\n",
    "        color=color_palette[3],\n",
    "        opacity = 1,\n",
    "        line=dict(\n",
    "            color=color_palette[3],\n",
    "            width=1))\n",
    "    )\n",
    "\n",
    "data = [trace_disclosure, trace_timeliness, trace_verification, trace_completeteness]\n"
   ],
   "outputs": [],
   "metadata": {}
  },
  {
   "cell_type": "code",
   "execution_count": 10,
   "source": [
    "annotations = [dict(xref='paper', yref='paper',\n",
    "                        x=-0, y=-0.109,\n",
    "                        text='Information based on public data as of September 2021.',\n",
    "                        font=dict(family='Arial', size=10, color='rgb(150,150,150)'),\n",
    "                        showarrow=False)]"
   ],
   "outputs": [],
   "metadata": {}
  },
  {
   "cell_type": "code",
   "execution_count": 11,
   "source": [
    "path = Path(os.path.dirname (os.getcwd()))\n",
    "logo_path = os.path.join(path.parent.parent.parent, 'django_project', 'django_project','static','django_project','images','logos','logo_66.png')"
   ],
   "outputs": [],
   "metadata": {}
  },
  {
   "cell_type": "code",
   "execution_count": 12,
   "source": [
    "logo_path\n",
    "#/Users/vincentmanier/Documents/django_project/django_project/django_project/static/django_project/images/logos/logo_66.png"
   ],
   "outputs": [
    {
     "output_type": "execute_result",
     "data": {
      "text/plain": [
       "'/Users/vincentmanier/Documents/django_project/django_project/django_project/static/django_project/images/logos/logo_66.png'"
      ]
     },
     "metadata": {},
     "execution_count": 12
    }
   ],
   "metadata": {}
  },
  {
   "cell_type": "code",
   "execution_count": 13,
   "source": [
    "layout = go.Layout (barmode = 'group',\n",
    "                   title = 'Carbon Footprint Transparency of Major US Companies',\n",
    "                   titlefont = dict(family = 'Arial', size = 25),\n",
    "                   showlegend = True,\n",
    "                   legend=dict(\n",
    "                       orientation=\"h\",\n",
    "                        yanchor=\"bottom\",\n",
    "                        y=-0.2,\n",
    "                        xanchor=\"left\",\n",
    "                        x=0.5\n",
    "                    ),\n",
    "                    yaxis=dict(\n",
    "                    showgrid=False,\n",
    "                    showline=False,\n",
    "                    showticklabels=True,\n",
    "                    #domain=[0, 0.85],\n",
    "                    categoryorder = 'array',\n",
    "                    categoryarray = [x_cat[i] for i in order_cat]\n",
    "                    ),\n",
    "                    xaxis=dict(\n",
    "                        zeroline=False,\n",
    "                        showline=False,\n",
    "                        showticklabels=True,\n",
    "                        showgrid=True, \n",
    "                    ),\n",
    "                    margin=dict(l=100, r=20, t=70, b=70),\n",
    "                    paper_bgcolor='rgb(248, 248, 255)',\n",
    "                    plot_bgcolor='rgb(248, 248, 255)',\n",
    "                    annotations=annotations,\n",
    "                )\n",
    "\n",
    "fig = go.Figure(data = data, \n",
    "                layout = layout)\n",
    "\n",
    "\n",
    "    \n",
    "fig.show()"
   ],
   "outputs": [
    {
     "output_type": "display_data",
     "data": {
      "application/vnd.plotly.v1+json": {
       "config": {
        "plotlyServerURL": "https://plot.ly"
       },
       "data": [
        {
         "marker": {
          "color": "#382A3D",
          "line": {
           "color": "#382A3D",
           "width": 1
          },
          "opacity": 1
         },
         "name": "Disclosure",
         "orientation": "h",
         "text": [
          "97%",
          "84%",
          "87%"
         ],
         "textposition": "auto",
         "type": "bar",
         "x": [
          97,
          84,
          87
         ],
         "y": [
          "Some <b>public disclosures</b> exist about GHG emissions",
          "<b>2 years</b> of data are available",
          "2020 Climate change questionnaire disclosed to <b>CDP</b>"
         ]
        },
        {
         "marker": {
          "color": "#70547A",
          "line": {
           "color": "#70547A",
           "width": 1
          },
          "opacity": 1
         },
         "name": "Timeliness",
         "orientation": "h",
         "text": [
          "76%"
         ],
         "textposition": "auto",
         "type": "bar",
         "x": [
          76
         ],
         "y": [
          "<b>Last year</b> emissions are reported as of September 2021"
         ]
        },
        {
         "marker": {
          "color": "#AB80BA",
          "line": {
           "color": "#AB80BA",
           "width": 1
          },
          "opacity": 1
         },
         "name": "Verification",
         "orientation": "h",
         "text": [
          "77%",
          "16%"
         ],
         "textposition": "auto",
         "type": "bar",
         "x": [
          77,
          16
         ],
         "y": [
          "Scope 1-2 emissions are reported <b>and</b> verified",
          "All emissions (S1-S2-S3) are reported <b>and</b> verified"
         ]
        },
        {
         "marker": {
          "color": "#E5ACFA",
          "line": {
           "color": "#E5ACFA",
           "width": 1
          },
          "opacity": 1
         },
         "name": "Completeness",
         "orientation": "h",
         "text": [
          "74%",
          "44%"
         ],
         "textposition": "auto",
         "type": "bar",
         "x": [
          74,
          44
         ],
         "y": [
          "Scope 3 emissions are <b>partly</b> reported",
          "<b>All emissions</b> (S1-S2-S3) are reported"
         ]
        }
       ],
       "layout": {
        "annotations": [
         {
          "font": {
           "color": "rgb(150,150,150)",
           "family": "Arial",
           "size": 10
          },
          "showarrow": false,
          "text": "Information based on public data as of September 2021.",
          "x": 0,
          "xref": "paper",
          "y": -0.109,
          "yref": "paper"
         }
        ],
        "barmode": "group",
        "legend": {
         "orientation": "h",
         "x": 0.5,
         "xanchor": "left",
         "y": -0.2,
         "yanchor": "bottom"
        },
        "margin": {
         "b": 70,
         "l": 100,
         "r": 20,
         "t": 70
        },
        "paper_bgcolor": "rgb(248, 248, 255)",
        "plot_bgcolor": "rgb(248, 248, 255)",
        "showlegend": true,
        "template": {
         "data": {
          "bar": [
           {
            "error_x": {
             "color": "#2a3f5f"
            },
            "error_y": {
             "color": "#2a3f5f"
            },
            "marker": {
             "line": {
              "color": "#E5ECF6",
              "width": 0.5
             },
             "pattern": {
              "fillmode": "overlay",
              "size": 10,
              "solidity": 0.2
             }
            },
            "type": "bar"
           }
          ],
          "barpolar": [
           {
            "marker": {
             "line": {
              "color": "#E5ECF6",
              "width": 0.5
             },
             "pattern": {
              "fillmode": "overlay",
              "size": 10,
              "solidity": 0.2
             }
            },
            "type": "barpolar"
           }
          ],
          "carpet": [
           {
            "aaxis": {
             "endlinecolor": "#2a3f5f",
             "gridcolor": "white",
             "linecolor": "white",
             "minorgridcolor": "white",
             "startlinecolor": "#2a3f5f"
            },
            "baxis": {
             "endlinecolor": "#2a3f5f",
             "gridcolor": "white",
             "linecolor": "white",
             "minorgridcolor": "white",
             "startlinecolor": "#2a3f5f"
            },
            "type": "carpet"
           }
          ],
          "choropleth": [
           {
            "colorbar": {
             "outlinewidth": 0,
             "ticks": ""
            },
            "type": "choropleth"
           }
          ],
          "contour": [
           {
            "colorbar": {
             "outlinewidth": 0,
             "ticks": ""
            },
            "colorscale": [
             [
              0,
              "#0d0887"
             ],
             [
              0.1111111111111111,
              "#46039f"
             ],
             [
              0.2222222222222222,
              "#7201a8"
             ],
             [
              0.3333333333333333,
              "#9c179e"
             ],
             [
              0.4444444444444444,
              "#bd3786"
             ],
             [
              0.5555555555555556,
              "#d8576b"
             ],
             [
              0.6666666666666666,
              "#ed7953"
             ],
             [
              0.7777777777777778,
              "#fb9f3a"
             ],
             [
              0.8888888888888888,
              "#fdca26"
             ],
             [
              1,
              "#f0f921"
             ]
            ],
            "type": "contour"
           }
          ],
          "contourcarpet": [
           {
            "colorbar": {
             "outlinewidth": 0,
             "ticks": ""
            },
            "type": "contourcarpet"
           }
          ],
          "heatmap": [
           {
            "colorbar": {
             "outlinewidth": 0,
             "ticks": ""
            },
            "colorscale": [
             [
              0,
              "#0d0887"
             ],
             [
              0.1111111111111111,
              "#46039f"
             ],
             [
              0.2222222222222222,
              "#7201a8"
             ],
             [
              0.3333333333333333,
              "#9c179e"
             ],
             [
              0.4444444444444444,
              "#bd3786"
             ],
             [
              0.5555555555555556,
              "#d8576b"
             ],
             [
              0.6666666666666666,
              "#ed7953"
             ],
             [
              0.7777777777777778,
              "#fb9f3a"
             ],
             [
              0.8888888888888888,
              "#fdca26"
             ],
             [
              1,
              "#f0f921"
             ]
            ],
            "type": "heatmap"
           }
          ],
          "heatmapgl": [
           {
            "colorbar": {
             "outlinewidth": 0,
             "ticks": ""
            },
            "colorscale": [
             [
              0,
              "#0d0887"
             ],
             [
              0.1111111111111111,
              "#46039f"
             ],
             [
              0.2222222222222222,
              "#7201a8"
             ],
             [
              0.3333333333333333,
              "#9c179e"
             ],
             [
              0.4444444444444444,
              "#bd3786"
             ],
             [
              0.5555555555555556,
              "#d8576b"
             ],
             [
              0.6666666666666666,
              "#ed7953"
             ],
             [
              0.7777777777777778,
              "#fb9f3a"
             ],
             [
              0.8888888888888888,
              "#fdca26"
             ],
             [
              1,
              "#f0f921"
             ]
            ],
            "type": "heatmapgl"
           }
          ],
          "histogram": [
           {
            "marker": {
             "pattern": {
              "fillmode": "overlay",
              "size": 10,
              "solidity": 0.2
             }
            },
            "type": "histogram"
           }
          ],
          "histogram2d": [
           {
            "colorbar": {
             "outlinewidth": 0,
             "ticks": ""
            },
            "colorscale": [
             [
              0,
              "#0d0887"
             ],
             [
              0.1111111111111111,
              "#46039f"
             ],
             [
              0.2222222222222222,
              "#7201a8"
             ],
             [
              0.3333333333333333,
              "#9c179e"
             ],
             [
              0.4444444444444444,
              "#bd3786"
             ],
             [
              0.5555555555555556,
              "#d8576b"
             ],
             [
              0.6666666666666666,
              "#ed7953"
             ],
             [
              0.7777777777777778,
              "#fb9f3a"
             ],
             [
              0.8888888888888888,
              "#fdca26"
             ],
             [
              1,
              "#f0f921"
             ]
            ],
            "type": "histogram2d"
           }
          ],
          "histogram2dcontour": [
           {
            "colorbar": {
             "outlinewidth": 0,
             "ticks": ""
            },
            "colorscale": [
             [
              0,
              "#0d0887"
             ],
             [
              0.1111111111111111,
              "#46039f"
             ],
             [
              0.2222222222222222,
              "#7201a8"
             ],
             [
              0.3333333333333333,
              "#9c179e"
             ],
             [
              0.4444444444444444,
              "#bd3786"
             ],
             [
              0.5555555555555556,
              "#d8576b"
             ],
             [
              0.6666666666666666,
              "#ed7953"
             ],
             [
              0.7777777777777778,
              "#fb9f3a"
             ],
             [
              0.8888888888888888,
              "#fdca26"
             ],
             [
              1,
              "#f0f921"
             ]
            ],
            "type": "histogram2dcontour"
           }
          ],
          "mesh3d": [
           {
            "colorbar": {
             "outlinewidth": 0,
             "ticks": ""
            },
            "type": "mesh3d"
           }
          ],
          "parcoords": [
           {
            "line": {
             "colorbar": {
              "outlinewidth": 0,
              "ticks": ""
             }
            },
            "type": "parcoords"
           }
          ],
          "pie": [
           {
            "automargin": true,
            "type": "pie"
           }
          ],
          "scatter": [
           {
            "marker": {
             "colorbar": {
              "outlinewidth": 0,
              "ticks": ""
             }
            },
            "type": "scatter"
           }
          ],
          "scatter3d": [
           {
            "line": {
             "colorbar": {
              "outlinewidth": 0,
              "ticks": ""
             }
            },
            "marker": {
             "colorbar": {
              "outlinewidth": 0,
              "ticks": ""
             }
            },
            "type": "scatter3d"
           }
          ],
          "scattercarpet": [
           {
            "marker": {
             "colorbar": {
              "outlinewidth": 0,
              "ticks": ""
             }
            },
            "type": "scattercarpet"
           }
          ],
          "scattergeo": [
           {
            "marker": {
             "colorbar": {
              "outlinewidth": 0,
              "ticks": ""
             }
            },
            "type": "scattergeo"
           }
          ],
          "scattergl": [
           {
            "marker": {
             "colorbar": {
              "outlinewidth": 0,
              "ticks": ""
             }
            },
            "type": "scattergl"
           }
          ],
          "scattermapbox": [
           {
            "marker": {
             "colorbar": {
              "outlinewidth": 0,
              "ticks": ""
             }
            },
            "type": "scattermapbox"
           }
          ],
          "scatterpolar": [
           {
            "marker": {
             "colorbar": {
              "outlinewidth": 0,
              "ticks": ""
             }
            },
            "type": "scatterpolar"
           }
          ],
          "scatterpolargl": [
           {
            "marker": {
             "colorbar": {
              "outlinewidth": 0,
              "ticks": ""
             }
            },
            "type": "scatterpolargl"
           }
          ],
          "scatterternary": [
           {
            "marker": {
             "colorbar": {
              "outlinewidth": 0,
              "ticks": ""
             }
            },
            "type": "scatterternary"
           }
          ],
          "surface": [
           {
            "colorbar": {
             "outlinewidth": 0,
             "ticks": ""
            },
            "colorscale": [
             [
              0,
              "#0d0887"
             ],
             [
              0.1111111111111111,
              "#46039f"
             ],
             [
              0.2222222222222222,
              "#7201a8"
             ],
             [
              0.3333333333333333,
              "#9c179e"
             ],
             [
              0.4444444444444444,
              "#bd3786"
             ],
             [
              0.5555555555555556,
              "#d8576b"
             ],
             [
              0.6666666666666666,
              "#ed7953"
             ],
             [
              0.7777777777777778,
              "#fb9f3a"
             ],
             [
              0.8888888888888888,
              "#fdca26"
             ],
             [
              1,
              "#f0f921"
             ]
            ],
            "type": "surface"
           }
          ],
          "table": [
           {
            "cells": {
             "fill": {
              "color": "#EBF0F8"
             },
             "line": {
              "color": "white"
             }
            },
            "header": {
             "fill": {
              "color": "#C8D4E3"
             },
             "line": {
              "color": "white"
             }
            },
            "type": "table"
           }
          ]
         },
         "layout": {
          "annotationdefaults": {
           "arrowcolor": "#2a3f5f",
           "arrowhead": 0,
           "arrowwidth": 1
          },
          "autotypenumbers": "strict",
          "coloraxis": {
           "colorbar": {
            "outlinewidth": 0,
            "ticks": ""
           }
          },
          "colorscale": {
           "diverging": [
            [
             0,
             "#8e0152"
            ],
            [
             0.1,
             "#c51b7d"
            ],
            [
             0.2,
             "#de77ae"
            ],
            [
             0.3,
             "#f1b6da"
            ],
            [
             0.4,
             "#fde0ef"
            ],
            [
             0.5,
             "#f7f7f7"
            ],
            [
             0.6,
             "#e6f5d0"
            ],
            [
             0.7,
             "#b8e186"
            ],
            [
             0.8,
             "#7fbc41"
            ],
            [
             0.9,
             "#4d9221"
            ],
            [
             1,
             "#276419"
            ]
           ],
           "sequential": [
            [
             0,
             "#0d0887"
            ],
            [
             0.1111111111111111,
             "#46039f"
            ],
            [
             0.2222222222222222,
             "#7201a8"
            ],
            [
             0.3333333333333333,
             "#9c179e"
            ],
            [
             0.4444444444444444,
             "#bd3786"
            ],
            [
             0.5555555555555556,
             "#d8576b"
            ],
            [
             0.6666666666666666,
             "#ed7953"
            ],
            [
             0.7777777777777778,
             "#fb9f3a"
            ],
            [
             0.8888888888888888,
             "#fdca26"
            ],
            [
             1,
             "#f0f921"
            ]
           ],
           "sequentialminus": [
            [
             0,
             "#0d0887"
            ],
            [
             0.1111111111111111,
             "#46039f"
            ],
            [
             0.2222222222222222,
             "#7201a8"
            ],
            [
             0.3333333333333333,
             "#9c179e"
            ],
            [
             0.4444444444444444,
             "#bd3786"
            ],
            [
             0.5555555555555556,
             "#d8576b"
            ],
            [
             0.6666666666666666,
             "#ed7953"
            ],
            [
             0.7777777777777778,
             "#fb9f3a"
            ],
            [
             0.8888888888888888,
             "#fdca26"
            ],
            [
             1,
             "#f0f921"
            ]
           ]
          },
          "colorway": [
           "#636efa",
           "#EF553B",
           "#00cc96",
           "#ab63fa",
           "#FFA15A",
           "#19d3f3",
           "#FF6692",
           "#B6E880",
           "#FF97FF",
           "#FECB52"
          ],
          "font": {
           "color": "#2a3f5f"
          },
          "geo": {
           "bgcolor": "white",
           "lakecolor": "white",
           "landcolor": "#E5ECF6",
           "showlakes": true,
           "showland": true,
           "subunitcolor": "white"
          },
          "hoverlabel": {
           "align": "left"
          },
          "hovermode": "closest",
          "mapbox": {
           "style": "light"
          },
          "paper_bgcolor": "white",
          "plot_bgcolor": "#E5ECF6",
          "polar": {
           "angularaxis": {
            "gridcolor": "white",
            "linecolor": "white",
            "ticks": ""
           },
           "bgcolor": "#E5ECF6",
           "radialaxis": {
            "gridcolor": "white",
            "linecolor": "white",
            "ticks": ""
           }
          },
          "scene": {
           "xaxis": {
            "backgroundcolor": "#E5ECF6",
            "gridcolor": "white",
            "gridwidth": 2,
            "linecolor": "white",
            "showbackground": true,
            "ticks": "",
            "zerolinecolor": "white"
           },
           "yaxis": {
            "backgroundcolor": "#E5ECF6",
            "gridcolor": "white",
            "gridwidth": 2,
            "linecolor": "white",
            "showbackground": true,
            "ticks": "",
            "zerolinecolor": "white"
           },
           "zaxis": {
            "backgroundcolor": "#E5ECF6",
            "gridcolor": "white",
            "gridwidth": 2,
            "linecolor": "white",
            "showbackground": true,
            "ticks": "",
            "zerolinecolor": "white"
           }
          },
          "shapedefaults": {
           "line": {
            "color": "#2a3f5f"
           }
          },
          "ternary": {
           "aaxis": {
            "gridcolor": "white",
            "linecolor": "white",
            "ticks": ""
           },
           "baxis": {
            "gridcolor": "white",
            "linecolor": "white",
            "ticks": ""
           },
           "bgcolor": "#E5ECF6",
           "caxis": {
            "gridcolor": "white",
            "linecolor": "white",
            "ticks": ""
           }
          },
          "title": {
           "x": 0.05
          },
          "xaxis": {
           "automargin": true,
           "gridcolor": "white",
           "linecolor": "white",
           "ticks": "",
           "title": {
            "standoff": 15
           },
           "zerolinecolor": "white",
           "zerolinewidth": 2
          },
          "yaxis": {
           "automargin": true,
           "gridcolor": "white",
           "linecolor": "white",
           "ticks": "",
           "title": {
            "standoff": 15
           },
           "zerolinecolor": "white",
           "zerolinewidth": 2
          }
         }
        },
        "title": {
         "font": {
          "family": "Arial",
          "size": 25
         },
         "text": "Carbon Footprint Transparency of Major US Companies"
        },
        "xaxis": {
         "showgrid": true,
         "showline": false,
         "showticklabels": true,
         "zeroline": false
        },
        "yaxis": {
         "categoryarray": [
          "Some <b>public disclosures</b> exist about GHG emissions",
          "2020 Climate change questionnaire disclosed to <b>CDP</b>",
          "<b>2 years</b> of data are available",
          "Scope 1-2 emissions are reported <b>and</b> verified",
          "<b>Last year</b> emissions are reported as of September 2021",
          "Scope 3 emissions are <b>partly</b> reported",
          "<b>All emissions</b> (S1-S2-S3) are reported",
          "All emissions (S1-S2-S3) are reported <b>and</b> verified"
         ],
         "categoryorder": "array",
         "showgrid": false,
         "showline": false,
         "showticklabels": true
        }
       }
      },
      "text/html": [
       "<div>                            <div id=\"978100cf-c676-4e6d-883f-7df838e2e631\" class=\"plotly-graph-div\" style=\"height:525px; width:100%;\"></div>            <script type=\"text/javascript\">                require([\"plotly\"], function(Plotly) {                    window.PLOTLYENV=window.PLOTLYENV || {};                                    if (document.getElementById(\"978100cf-c676-4e6d-883f-7df838e2e631\")) {                    Plotly.newPlot(                        \"978100cf-c676-4e6d-883f-7df838e2e631\",                        [{\"marker\":{\"color\":\"#382A3D\",\"line\":{\"color\":\"#382A3D\",\"width\":1},\"opacity\":1},\"name\":\"Disclosure\",\"orientation\":\"h\",\"text\":[\"97%\",\"84%\",\"87%\"],\"textposition\":\"auto\",\"type\":\"bar\",\"x\":[97,84,87],\"y\":[\"Some <b>public disclosures</b> exist about GHG emissions\",\"<b>2 years</b> of data are available\",\"2020 Climate change questionnaire disclosed to <b>CDP</b>\"]},{\"marker\":{\"color\":\"#70547A\",\"line\":{\"color\":\"#70547A\",\"width\":1},\"opacity\":1},\"name\":\"Timeliness\",\"orientation\":\"h\",\"text\":[\"76%\"],\"textposition\":\"auto\",\"type\":\"bar\",\"x\":[76],\"y\":[\"<b>Last year</b> emissions are reported as of September 2021\"]},{\"marker\":{\"color\":\"#AB80BA\",\"line\":{\"color\":\"#AB80BA\",\"width\":1},\"opacity\":1},\"name\":\"Verification\",\"orientation\":\"h\",\"text\":[\"77%\",\"16%\"],\"textposition\":\"auto\",\"type\":\"bar\",\"x\":[77,16],\"y\":[\"Scope 1-2 emissions are reported <b>and</b> verified\",\"All emissions (S1-S2-S3) are reported <b>and</b> verified\"]},{\"marker\":{\"color\":\"#E5ACFA\",\"line\":{\"color\":\"#E5ACFA\",\"width\":1},\"opacity\":1},\"name\":\"Completeness\",\"orientation\":\"h\",\"text\":[\"74%\",\"44%\"],\"textposition\":\"auto\",\"type\":\"bar\",\"x\":[74,44],\"y\":[\"Scope 3 emissions are <b>partly</b> reported\",\"<b>All emissions</b> (S1-S2-S3) are reported\"]}],                        {\"annotations\":[{\"font\":{\"color\":\"rgb(150,150,150)\",\"family\":\"Arial\",\"size\":10},\"showarrow\":false,\"text\":\"Information based on public data as of September 2021.\",\"x\":0,\"xref\":\"paper\",\"y\":-0.109,\"yref\":\"paper\"}],\"barmode\":\"group\",\"legend\":{\"orientation\":\"h\",\"x\":0.5,\"xanchor\":\"left\",\"y\":-0.2,\"yanchor\":\"bottom\"},\"margin\":{\"b\":70,\"l\":100,\"r\":20,\"t\":70},\"paper_bgcolor\":\"rgb(248, 248, 255)\",\"plot_bgcolor\":\"rgb(248, 248, 255)\",\"showlegend\":true,\"template\":{\"data\":{\"bar\":[{\"error_x\":{\"color\":\"#2a3f5f\"},\"error_y\":{\"color\":\"#2a3f5f\"},\"marker\":{\"line\":{\"color\":\"#E5ECF6\",\"width\":0.5},\"pattern\":{\"fillmode\":\"overlay\",\"size\":10,\"solidity\":0.2}},\"type\":\"bar\"}],\"barpolar\":[{\"marker\":{\"line\":{\"color\":\"#E5ECF6\",\"width\":0.5},\"pattern\":{\"fillmode\":\"overlay\",\"size\":10,\"solidity\":0.2}},\"type\":\"barpolar\"}],\"carpet\":[{\"aaxis\":{\"endlinecolor\":\"#2a3f5f\",\"gridcolor\":\"white\",\"linecolor\":\"white\",\"minorgridcolor\":\"white\",\"startlinecolor\":\"#2a3f5f\"},\"baxis\":{\"endlinecolor\":\"#2a3f5f\",\"gridcolor\":\"white\",\"linecolor\":\"white\",\"minorgridcolor\":\"white\",\"startlinecolor\":\"#2a3f5f\"},\"type\":\"carpet\"}],\"choropleth\":[{\"colorbar\":{\"outlinewidth\":0,\"ticks\":\"\"},\"type\":\"choropleth\"}],\"contour\":[{\"colorbar\":{\"outlinewidth\":0,\"ticks\":\"\"},\"colorscale\":[[0.0,\"#0d0887\"],[0.1111111111111111,\"#46039f\"],[0.2222222222222222,\"#7201a8\"],[0.3333333333333333,\"#9c179e\"],[0.4444444444444444,\"#bd3786\"],[0.5555555555555556,\"#d8576b\"],[0.6666666666666666,\"#ed7953\"],[0.7777777777777778,\"#fb9f3a\"],[0.8888888888888888,\"#fdca26\"],[1.0,\"#f0f921\"]],\"type\":\"contour\"}],\"contourcarpet\":[{\"colorbar\":{\"outlinewidth\":0,\"ticks\":\"\"},\"type\":\"contourcarpet\"}],\"heatmap\":[{\"colorbar\":{\"outlinewidth\":0,\"ticks\":\"\"},\"colorscale\":[[0.0,\"#0d0887\"],[0.1111111111111111,\"#46039f\"],[0.2222222222222222,\"#7201a8\"],[0.3333333333333333,\"#9c179e\"],[0.4444444444444444,\"#bd3786\"],[0.5555555555555556,\"#d8576b\"],[0.6666666666666666,\"#ed7953\"],[0.7777777777777778,\"#fb9f3a\"],[0.8888888888888888,\"#fdca26\"],[1.0,\"#f0f921\"]],\"type\":\"heatmap\"}],\"heatmapgl\":[{\"colorbar\":{\"outlinewidth\":0,\"ticks\":\"\"},\"colorscale\":[[0.0,\"#0d0887\"],[0.1111111111111111,\"#46039f\"],[0.2222222222222222,\"#7201a8\"],[0.3333333333333333,\"#9c179e\"],[0.4444444444444444,\"#bd3786\"],[0.5555555555555556,\"#d8576b\"],[0.6666666666666666,\"#ed7953\"],[0.7777777777777778,\"#fb9f3a\"],[0.8888888888888888,\"#fdca26\"],[1.0,\"#f0f921\"]],\"type\":\"heatmapgl\"}],\"histogram\":[{\"marker\":{\"pattern\":{\"fillmode\":\"overlay\",\"size\":10,\"solidity\":0.2}},\"type\":\"histogram\"}],\"histogram2d\":[{\"colorbar\":{\"outlinewidth\":0,\"ticks\":\"\"},\"colorscale\":[[0.0,\"#0d0887\"],[0.1111111111111111,\"#46039f\"],[0.2222222222222222,\"#7201a8\"],[0.3333333333333333,\"#9c179e\"],[0.4444444444444444,\"#bd3786\"],[0.5555555555555556,\"#d8576b\"],[0.6666666666666666,\"#ed7953\"],[0.7777777777777778,\"#fb9f3a\"],[0.8888888888888888,\"#fdca26\"],[1.0,\"#f0f921\"]],\"type\":\"histogram2d\"}],\"histogram2dcontour\":[{\"colorbar\":{\"outlinewidth\":0,\"ticks\":\"\"},\"colorscale\":[[0.0,\"#0d0887\"],[0.1111111111111111,\"#46039f\"],[0.2222222222222222,\"#7201a8\"],[0.3333333333333333,\"#9c179e\"],[0.4444444444444444,\"#bd3786\"],[0.5555555555555556,\"#d8576b\"],[0.6666666666666666,\"#ed7953\"],[0.7777777777777778,\"#fb9f3a\"],[0.8888888888888888,\"#fdca26\"],[1.0,\"#f0f921\"]],\"type\":\"histogram2dcontour\"}],\"mesh3d\":[{\"colorbar\":{\"outlinewidth\":0,\"ticks\":\"\"},\"type\":\"mesh3d\"}],\"parcoords\":[{\"line\":{\"colorbar\":{\"outlinewidth\":0,\"ticks\":\"\"}},\"type\":\"parcoords\"}],\"pie\":[{\"automargin\":true,\"type\":\"pie\"}],\"scatter\":[{\"marker\":{\"colorbar\":{\"outlinewidth\":0,\"ticks\":\"\"}},\"type\":\"scatter\"}],\"scatter3d\":[{\"line\":{\"colorbar\":{\"outlinewidth\":0,\"ticks\":\"\"}},\"marker\":{\"colorbar\":{\"outlinewidth\":0,\"ticks\":\"\"}},\"type\":\"scatter3d\"}],\"scattercarpet\":[{\"marker\":{\"colorbar\":{\"outlinewidth\":0,\"ticks\":\"\"}},\"type\":\"scattercarpet\"}],\"scattergeo\":[{\"marker\":{\"colorbar\":{\"outlinewidth\":0,\"ticks\":\"\"}},\"type\":\"scattergeo\"}],\"scattergl\":[{\"marker\":{\"colorbar\":{\"outlinewidth\":0,\"ticks\":\"\"}},\"type\":\"scattergl\"}],\"scattermapbox\":[{\"marker\":{\"colorbar\":{\"outlinewidth\":0,\"ticks\":\"\"}},\"type\":\"scattermapbox\"}],\"scatterpolar\":[{\"marker\":{\"colorbar\":{\"outlinewidth\":0,\"ticks\":\"\"}},\"type\":\"scatterpolar\"}],\"scatterpolargl\":[{\"marker\":{\"colorbar\":{\"outlinewidth\":0,\"ticks\":\"\"}},\"type\":\"scatterpolargl\"}],\"scatterternary\":[{\"marker\":{\"colorbar\":{\"outlinewidth\":0,\"ticks\":\"\"}},\"type\":\"scatterternary\"}],\"surface\":[{\"colorbar\":{\"outlinewidth\":0,\"ticks\":\"\"},\"colorscale\":[[0.0,\"#0d0887\"],[0.1111111111111111,\"#46039f\"],[0.2222222222222222,\"#7201a8\"],[0.3333333333333333,\"#9c179e\"],[0.4444444444444444,\"#bd3786\"],[0.5555555555555556,\"#d8576b\"],[0.6666666666666666,\"#ed7953\"],[0.7777777777777778,\"#fb9f3a\"],[0.8888888888888888,\"#fdca26\"],[1.0,\"#f0f921\"]],\"type\":\"surface\"}],\"table\":[{\"cells\":{\"fill\":{\"color\":\"#EBF0F8\"},\"line\":{\"color\":\"white\"}},\"header\":{\"fill\":{\"color\":\"#C8D4E3\"},\"line\":{\"color\":\"white\"}},\"type\":\"table\"}]},\"layout\":{\"annotationdefaults\":{\"arrowcolor\":\"#2a3f5f\",\"arrowhead\":0,\"arrowwidth\":1},\"autotypenumbers\":\"strict\",\"coloraxis\":{\"colorbar\":{\"outlinewidth\":0,\"ticks\":\"\"}},\"colorscale\":{\"diverging\":[[0,\"#8e0152\"],[0.1,\"#c51b7d\"],[0.2,\"#de77ae\"],[0.3,\"#f1b6da\"],[0.4,\"#fde0ef\"],[0.5,\"#f7f7f7\"],[0.6,\"#e6f5d0\"],[0.7,\"#b8e186\"],[0.8,\"#7fbc41\"],[0.9,\"#4d9221\"],[1,\"#276419\"]],\"sequential\":[[0.0,\"#0d0887\"],[0.1111111111111111,\"#46039f\"],[0.2222222222222222,\"#7201a8\"],[0.3333333333333333,\"#9c179e\"],[0.4444444444444444,\"#bd3786\"],[0.5555555555555556,\"#d8576b\"],[0.6666666666666666,\"#ed7953\"],[0.7777777777777778,\"#fb9f3a\"],[0.8888888888888888,\"#fdca26\"],[1.0,\"#f0f921\"]],\"sequentialminus\":[[0.0,\"#0d0887\"],[0.1111111111111111,\"#46039f\"],[0.2222222222222222,\"#7201a8\"],[0.3333333333333333,\"#9c179e\"],[0.4444444444444444,\"#bd3786\"],[0.5555555555555556,\"#d8576b\"],[0.6666666666666666,\"#ed7953\"],[0.7777777777777778,\"#fb9f3a\"],[0.8888888888888888,\"#fdca26\"],[1.0,\"#f0f921\"]]},\"colorway\":[\"#636efa\",\"#EF553B\",\"#00cc96\",\"#ab63fa\",\"#FFA15A\",\"#19d3f3\",\"#FF6692\",\"#B6E880\",\"#FF97FF\",\"#FECB52\"],\"font\":{\"color\":\"#2a3f5f\"},\"geo\":{\"bgcolor\":\"white\",\"lakecolor\":\"white\",\"landcolor\":\"#E5ECF6\",\"showlakes\":true,\"showland\":true,\"subunitcolor\":\"white\"},\"hoverlabel\":{\"align\":\"left\"},\"hovermode\":\"closest\",\"mapbox\":{\"style\":\"light\"},\"paper_bgcolor\":\"white\",\"plot_bgcolor\":\"#E5ECF6\",\"polar\":{\"angularaxis\":{\"gridcolor\":\"white\",\"linecolor\":\"white\",\"ticks\":\"\"},\"bgcolor\":\"#E5ECF6\",\"radialaxis\":{\"gridcolor\":\"white\",\"linecolor\":\"white\",\"ticks\":\"\"}},\"scene\":{\"xaxis\":{\"backgroundcolor\":\"#E5ECF6\",\"gridcolor\":\"white\",\"gridwidth\":2,\"linecolor\":\"white\",\"showbackground\":true,\"ticks\":\"\",\"zerolinecolor\":\"white\"},\"yaxis\":{\"backgroundcolor\":\"#E5ECF6\",\"gridcolor\":\"white\",\"gridwidth\":2,\"linecolor\":\"white\",\"showbackground\":true,\"ticks\":\"\",\"zerolinecolor\":\"white\"},\"zaxis\":{\"backgroundcolor\":\"#E5ECF6\",\"gridcolor\":\"white\",\"gridwidth\":2,\"linecolor\":\"white\",\"showbackground\":true,\"ticks\":\"\",\"zerolinecolor\":\"white\"}},\"shapedefaults\":{\"line\":{\"color\":\"#2a3f5f\"}},\"ternary\":{\"aaxis\":{\"gridcolor\":\"white\",\"linecolor\":\"white\",\"ticks\":\"\"},\"baxis\":{\"gridcolor\":\"white\",\"linecolor\":\"white\",\"ticks\":\"\"},\"bgcolor\":\"#E5ECF6\",\"caxis\":{\"gridcolor\":\"white\",\"linecolor\":\"white\",\"ticks\":\"\"}},\"title\":{\"x\":0.05},\"xaxis\":{\"automargin\":true,\"gridcolor\":\"white\",\"linecolor\":\"white\",\"ticks\":\"\",\"title\":{\"standoff\":15},\"zerolinecolor\":\"white\",\"zerolinewidth\":2},\"yaxis\":{\"automargin\":true,\"gridcolor\":\"white\",\"linecolor\":\"white\",\"ticks\":\"\",\"title\":{\"standoff\":15},\"zerolinecolor\":\"white\",\"zerolinewidth\":2}}},\"title\":{\"font\":{\"family\":\"Arial\",\"size\":25},\"text\":\"Carbon Footprint Transparency of Major US Companies\"},\"xaxis\":{\"showgrid\":true,\"showline\":false,\"showticklabels\":true,\"zeroline\":false},\"yaxis\":{\"categoryarray\":[\"Some <b>public disclosures</b> exist about GHG emissions\",\"2020 Climate change questionnaire disclosed to <b>CDP</b>\",\"<b>2 years</b> of data are available\",\"Scope 1-2 emissions are reported <b>and</b> verified\",\"<b>Last year</b> emissions are reported as of September 2021\",\"Scope 3 emissions are <b>partly</b> reported\",\"<b>All emissions</b> (S1-S2-S3) are reported\",\"All emissions (S1-S2-S3) are reported <b>and</b> verified\"],\"categoryorder\":\"array\",\"showgrid\":false,\"showline\":false,\"showticklabels\":true}},                        {\"responsive\": true}                    ).then(function(){\n",
       "                            \n",
       "var gd = document.getElementById('978100cf-c676-4e6d-883f-7df838e2e631');\n",
       "var x = new MutationObserver(function (mutations, observer) {{\n",
       "        var display = window.getComputedStyle(gd).display;\n",
       "        if (!display || display === 'none') {{\n",
       "            console.log([gd, 'removed!']);\n",
       "            Plotly.purge(gd);\n",
       "            observer.disconnect();\n",
       "        }}\n",
       "}});\n",
       "\n",
       "// Listen for the removal of the full notebook cells\n",
       "var notebookContainer = gd.closest('#notebook-container');\n",
       "if (notebookContainer) {{\n",
       "    x.observe(notebookContainer, {childList: true});\n",
       "}}\n",
       "\n",
       "// Listen for the clearing of the current output cell\n",
       "var outputEl = gd.closest('.output');\n",
       "if (outputEl) {{\n",
       "    x.observe(outputEl, {childList: true});\n",
       "}}\n",
       "\n",
       "                        })                };                });            </script>        </div>"
      ]
     },
     "metadata": {}
    }
   ],
   "metadata": {}
  },
  {
   "cell_type": "code",
   "execution_count": 14,
   "source": [
    "config = {'displaylogo': False,\n",
    "        'responsive': True\n",
    "        }\n",
    "\n",
    "name_fig = 'transparency_analysis'\n",
    "\n",
    "\n",
    "fig.write_image(\n",
    "                \"../../../django_project/static/django_project/images/charts/{}/{}.jpeg\".format(\n",
    "                    'general',\n",
    "                    name_fig),\n",
    "                scale=1,\n",
    "                width = 1500,\n",
    "                height = 500,\n",
    "                )\n",
    "plot(\n",
    "    fig,\n",
    "    config=config,\n",
    "    filename = '../../../django_project/templates/django_project/home/charts/html_exports/{}/{}.html'.format(\n",
    "        'general',\n",
    "        name_fig),\n",
    "    auto_open=False)"
   ],
   "outputs": [
    {
     "output_type": "execute_result",
     "data": {
      "text/plain": [
       "'../../../django_project/templates/django_project/home/charts/html_exports/general/transparency_analysis.html'"
      ]
     },
     "metadata": {},
     "execution_count": 14
    }
   ],
   "metadata": {}
  },
  {
   "cell_type": "code",
   "execution_count": 15,
   "source": [
    "# table for top 5 Revenue Missing the Cut"
   ],
   "outputs": [],
   "metadata": {}
  },
  {
   "cell_type": "code",
   "execution_count": 16,
   "source": [
    "import json\n",
    "notables_dict = {}\n",
    "for i in range(len(x_cat)):\n",
    "    notables_dict[fail_cat[i]] = notables_list[i].to_dict('split')\n"
   ],
   "outputs": [],
   "metadata": {}
  },
  {
   "cell_type": "code",
   "execution_count": 17,
   "source": [
    "notables_dict"
   ],
   "outputs": [
    {
     "output_type": "execute_result",
     "data": {
      "text/plain": [
       "{'No <b>public disclosures</b> exist about GHG emissions': {'index': [16,\n",
       "   100,\n",
       "   34],\n",
       "  'columns': ['company_id', 'company_name'],\n",
       "  'data': [[17, 'Berkshire Hathaway Inc.'], [101, 'Tesla'], [35, 'Danaher']]},\n",
       " '<b>Last year</b> emissions are not publicly reported as of September 2021': {'index': [98,\n",
       "   16,\n",
       "   6,\n",
       "   32,\n",
       "   82],\n",
       "  'columns': ['company_id', 'company_name'],\n",
       "  'data': [[99, 'Walmart'],\n",
       "   [17, 'Berkshire Hathaway Inc.'],\n",
       "   [7, 'Alphabet Inc. Google'],\n",
       "   [33, 'Costco'],\n",
       "   [83, 'Schlumberger Ltd.']]},\n",
       " '<b>2 years</b> of data are not available': {'index': [16, 32, 46, 80, 24],\n",
       "  'columns': ['company_id', 'company_name'],\n",
       "  'data': [[17, 'Berkshire Hathaway Inc.'],\n",
       "   [33, 'Costco'],\n",
       "   [47, 'General Electric'],\n",
       "   [81, 'Raytheon Technologies'],\n",
       "   [25, 'Charter Communications Inc.']]},\n",
       " 'Scope 1-2 emissions are not both reported <b>and</b> verified': {'index': [16,\n",
       "   41,\n",
       "   32,\n",
       "   44,\n",
       "   25],\n",
       "  'columns': ['company_id', 'company_name'],\n",
       "  'data': [[17, 'Berkshire Hathaway Inc.'],\n",
       "   [42, 'Exxon Mobil'],\n",
       "   [33, 'Costco'],\n",
       "   [45, 'Ford Motor Company'],\n",
       "   [26, 'Chevron']]},\n",
       " 'Scope 3 emissions are not publicly reported, not even <b>partly</b>': {'index': [87,\n",
       "   16,\n",
       "   41,\n",
       "   32,\n",
       "   50],\n",
       "  'columns': ['company_id', 'company_name'],\n",
       "  'data': [[88, 'Texas Instruments'],\n",
       "   [17, 'Berkshire Hathaway Inc.'],\n",
       "   [42, 'Exxon Mobil'],\n",
       "   [33, 'Costco'],\n",
       "   [51, 'Home Depot']]},\n",
       " '<b>Not all emissions</b> (S1-S2-S3) are publicly reported': {'index': [8,\n",
       "   87,\n",
       "   16,\n",
       "   41,\n",
       "   14],\n",
       "  'columns': ['company_id', 'company_name'],\n",
       "  'data': [[9, 'Amazon.com Inc.'],\n",
       "   [88, 'Texas Instruments'],\n",
       "   [17, 'Berkshire Hathaway Inc.'],\n",
       "   [42, 'Exxon Mobil'],\n",
       "   [15, 'AT&T Inc.']]},\n",
       " 'All emissions (S1-S2-S3) are not both publicly reported <b>and</b> verified': {'index': [98,\n",
       "   8,\n",
       "   13,\n",
       "   33,\n",
       "   87],\n",
       "  'columns': ['company_id', 'company_name'],\n",
       "  'data': [[99, 'Walmart'],\n",
       "   [9, 'Amazon.com Inc.'],\n",
       "   [14, 'Apple Inc.'],\n",
       "   [34, 'CVS Health'],\n",
       "   [88, 'Texas Instruments']]},\n",
       " '2020 Climate change questionnaire are not submitted to <b>CDP</b>': {'index': [8,\n",
       "   16,\n",
       "   41,\n",
       "   25,\n",
       "   42],\n",
       "  'columns': ['company_id', 'company_name'],\n",
       "  'data': [[9, 'Amazon.com Inc.'],\n",
       "   [17, 'Berkshire Hathaway Inc.'],\n",
       "   [42, 'Exxon Mobil'],\n",
       "   [26, 'Chevron'],\n",
       "   [43, 'Facebook, Inc.']]}}"
      ]
     },
     "metadata": {},
     "execution_count": 17
    }
   ],
   "metadata": {}
  },
  {
   "cell_type": "code",
   "execution_count": 18,
   "source": [
    "name_json = 'top5_transp_miss_cut'\n",
    "filename = \"../../../django_project/static/django_project/data/{}.json\".format(\n",
    "    name_json)\n",
    "file_to_save = open(filename, \"w\")\n",
    "json.dump (notables_dict, file_to_save)\n",
    "file_to_save.close()"
   ],
   "outputs": [],
   "metadata": {}
  },
  {
   "cell_type": "code",
   "execution_count": null,
   "source": [],
   "outputs": [],
   "metadata": {}
  },
  {
   "cell_type": "code",
   "execution_count": null,
   "source": [],
   "outputs": [],
   "metadata": {}
  }
 ],
 "metadata": {
  "kernelspec": {
   "name": "python3",
   "display_name": "Python 3.8.10 64-bit ('net0': conda)"
  },
  "language_info": {
   "codemirror_mode": {
    "name": "ipython",
    "version": 3
   },
   "file_extension": ".py",
   "mimetype": "text/x-python",
   "name": "python",
   "nbconvert_exporter": "python",
   "pygments_lexer": "ipython3",
   "version": "3.8.10"
  },
  "interpreter": {
   "hash": "84b39baf505a8e38b7ec8824bbebc862e460fb036cb6aab4774c507962c1b49d"
  }
 },
 "nbformat": 4,
 "nbformat_minor": 4
}