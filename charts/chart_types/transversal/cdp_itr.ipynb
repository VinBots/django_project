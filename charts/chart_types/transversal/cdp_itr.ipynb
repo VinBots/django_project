{
 "cells": [
  {
   "cell_type": "markdown",
   "metadata": {},
   "source": [
    "# Playground"
   ]
  },
  {
   "cell_type": "markdown",
   "metadata": {},
   "source": [
    "## Import Libraries"
   ]
  },
  {
   "cell_type": "code",
   "execution_count": 11,
   "metadata": {},
   "outputs": [],
   "source": [
    "import pandas as pd\n",
    "import plotly.graph_objs as go\n",
    "import plotly.offline as offline\n",
    "import os\n",
    "import numpy as np\n",
    "from plotly.offline import plot\n",
    "from pathlib import Path"
   ]
  },
  {
   "cell_type": "code",
   "execution_count": 12,
   "metadata": {},
   "outputs": [
    {
     "data": {
      "text/html": [
       "        <script type=\"text/javascript\">\n",
       "        window.PlotlyConfig = {MathJaxConfig: 'local'};\n",
       "        if (window.MathJax) {MathJax.Hub.Config({SVG: {font: \"STIX-Web\"}});}\n",
       "        if (typeof require !== 'undefined') {\n",
       "        require.undef(\"plotly\");\n",
       "        requirejs.config({\n",
       "            paths: {\n",
       "                'plotly': ['https://cdn.plot.ly/plotly-latest.min']\n",
       "            }\n",
       "        });\n",
       "        require(['plotly'], function(Plotly) {\n",
       "            window._Plotly = Plotly;\n",
       "        });\n",
       "        }\n",
       "        </script>\n",
       "        "
      ]
     },
     "metadata": {},
     "output_type": "display_data"
    }
   ],
   "source": [
    "offline.init_notebook_mode(connected=True)"
   ]
  },
  {
   "cell_type": "code",
   "execution_count": 13,
   "metadata": {},
   "outputs": [],
   "source": [
    "def save_chart(fig, chart_name):\n",
    "\n",
    "    config = {'displaylogo': False,\n",
    "            'responsive': True\n",
    "            }\n",
    "\n",
    "    name_fig = chart_name\n",
    "\n",
    "\n",
    "    fig.write_image(\n",
    "                    \"../../../django_project/static/django_project/images/blog/{}.jpeg\".format(\n",
    "                        name_fig),\n",
    "                    scale=1,\n",
    "                    )\n",
    "    plot(\n",
    "        fig,\n",
    "        config=config,\n",
    "        filename = '../../../django_project/templates/django_project/blog/{}.html'.format(\n",
    "            name_fig),\n",
    "        auto_open=False)"
   ]
  },
  {
   "cell_type": "markdown",
   "metadata": {},
   "source": [
    "# Compare CDP Scores and MSCi Implied Temperature Rating"
   ]
  },
  {
   "cell_type": "code",
   "execution_count": 14,
   "metadata": {},
   "outputs": [],
   "source": [
    "path = Path(os.path.dirname (os.getcwd()))\n",
    "XLSX_PATH = os.path.join(path.parent.parent.parent, 'sp100.xlsx')"
   ]
  },
  {
   "cell_type": "markdown",
   "metadata": {},
   "source": [
    "## Compute total companies count and revenue by sector"
   ]
  },
  {
   "cell_type": "code",
   "execution_count": 19,
   "metadata": {},
   "outputs": [],
   "source": [
    "# total number of companies\n",
    "total_companies_count = 100\n",
    "\n",
    "# total revenue of all companies\n",
    "\n",
    "COLS_TO_USE = {\n",
    "'companies':['company_id', 'company_name','SP100'],\n",
    "'msci_itr':['company_id', 'msci_itr'],\n",
    "'ghg_qual':['company_id', 'cdp_score', 'prev_cdp_score'],\n",
    "'grouping':['company_id', 'Sector1'],\n",
    "}\n",
    "\n",
    "all_df = []\n",
    "for sheetname, cols in COLS_TO_USE.items():\n",
    "    all_df.append(pd.read_excel(\n",
    "        XLSX_PATH, \n",
    "        sheet_name = sheetname,\n",
    "        engine = 'openpyxl', \n",
    "        usecols = cols\n",
    "        ))\n",
    "merged_df = all_df[0]\n",
    "for i in range(len(COLS_TO_USE) - 1):\n",
    "    merged_df = pd.merge(\n",
    "        left = merged_df,\n",
    "        right = all_df[i+1],\n",
    "        how=\"left\",\n",
    "        on=\"company_id\"\n",
    "    )\n",
    "# Select Final Figures and Year 2019\n",
    "\n",
    "cond1 = (merged_df['SP100'] == 1)\n",
    "\n",
    "filter_cond = cond1 #& cond2\n",
    "filter_cond = filter_cond\n",
    "\n",
    "merged_df = merged_df.loc[filter_cond][['Sector1','company_name','company_id', 'msci_itr', 'cdp_score', 'prev_cdp_score']]"
   ]
  },
  {
   "cell_type": "code",
   "execution_count": 8,
   "metadata": {},
   "outputs": [],
   "source": [
    "\n",
    "all_sectors = merged_df['Sector1'].unique()\n",
    "all_scores = merged_df['cdp_score'].sort_values().unique()"
   ]
  },
  {
   "cell_type": "code",
   "execution_count": 7,
   "metadata": {},
   "outputs": [
    {
     "data": {
      "application/vnd.plotly.v1+json": {
       "config": {
        "plotlyServerURL": "https://plot.ly"
       },
       "data": [
        {
         "marker": {
          "line": {
           "width": 1
          },
          "size": 20,
          "symbol": "circle"
         },
         "mode": "markers",
         "name": "Industrials",
         "text": [
          "3M",
          "Boeing",
          "Caterpillar Inc.",
          "Emerson Electric",
          "FedEx",
          "General Dynamics",
          "General Electric",
          "Honeywell Inc.",
          "Lockheed Martin Corp.",
          "Raytheon Technologies",
          "Union Pacific Corp",
          "United Parcel Service"
         ],
         "type": "scatter",
         "x": [
          "B",
          "A-",
          "F",
          "C",
          "B",
          "D",
          "D",
          "B",
          "A",
          "F",
          "A-",
          "B"
         ],
         "y": [
          1.73,
          2.08,
          4,
          2.57,
          1.87,
          3.32,
          4,
          2.43,
          2.06,
          2.47,
          2.67,
          1.87
         ]
        },
        {
         "marker": {
          "line": {
           "width": 1
          },
          "size": 20,
          "symbol": "circle"
         },
         "mode": "markers",
         "name": "Healthcare",
         "text": [
          "Abbott Laboratories",
          "AbbVie Inc.",
          "Amgen Inc.",
          "Biogen Inc.",
          "Bristol Myers Squibb",
          "CVS Health",
          "Danaher",
          "Eli Lilly",
          "Gilead Sciences Inc.",
          "Johnson & Johnson",
          "Medtronic",
          "Merck & Co.",
          "Pfizer Inc.",
          "Thermo Fisher Scientific",
          "Walgreens Boots Alliance"
         ],
         "type": "scatter",
         "x": [
          "B",
          "B",
          "B",
          "B",
          "A-",
          "A",
          "D-",
          "B",
          "A-",
          "A",
          "B",
          "B",
          "B",
          "B-",
          "B"
         ],
         "y": [
          2.67,
          1.61,
          2.04,
          1.3,
          1.65,
          1.55,
          2.05,
          1.71,
          1.59,
          1.81,
          2.96,
          1.69,
          1.71,
          2.17,
          1.6
         ]
        },
        {
         "marker": {
          "line": {
           "width": 1
          },
          "size": 20,
          "symbol": "circle"
         },
         "mode": "markers",
         "name": "Technology",
         "text": [
          "Accenture",
          "Adobe Inc.",
          "Apple Inc.",
          "Cisco Systems",
          "IBM Corp.",
          "Intel Corp.",
          "Microsoft Corp.",
          "Nvidia",
          "Oracle",
          "QUALCOMM Inc.",
          "Salesforce",
          "Texas Instruments",
          "Broadcom"
         ],
         "type": "scatter",
         "x": [
          "A",
          "A",
          "A",
          "A",
          "A-",
          "A-",
          "A",
          "A-",
          "A-",
          "B",
          "A",
          "C",
          "F"
         ],
         "y": [
          1.3,
          1.43,
          2.06,
          1.31,
          1.64,
          2.16,
          1.58,
          2.11,
          1.55,
          2,
          1.3,
          2.45,
          1.97
         ]
        },
        {
         "marker": {
          "line": {
           "width": 1
          },
          "size": 20,
          "symbol": "circle"
         },
         "mode": "markers",
         "name": "Communication Services",
         "text": [
          "Alphabet Inc. Google",
          "AT&T Inc.",
          "Charter Communications Inc.",
          "Comcast",
          "Facebook, Inc.",
          "Netflix Inc.",
          "The Walt Disney Company",
          "Verizon Communications",
          "T-Mobile (ex T-Mobile US)"
         ],
         "type": "scatter",
         "x": [
          "A",
          "A-",
          "F",
          "C",
          "F",
          "F",
          "B-",
          "C",
          "A"
         ],
         "y": [
          1.45,
          1.58,
          1.7,
          1.55,
          1.65,
          1.78,
          1.7,
          1.52,
          1.41
         ]
        },
        {
         "marker": {
          "line": {
           "width": 1
          },
          "size": 20,
          "symbol": "circle"
         },
         "mode": "markers",
         "name": "Consumer Staples",
         "text": [
          "Altria Group Inc",
          "Coca-Cola",
          "Colgate-Palmolive",
          "Costco",
          "Kraft Heinz Co",
          "Mondelez International",
          "PepsiCo Inc.",
          "Philip Morris International",
          "Procter & Gamble",
          "Target Corp.",
          "Walmart"
         ],
         "type": "scatter",
         "x": [
          "A",
          "A-",
          "A",
          "D",
          "B-",
          "B",
          "A",
          "A",
          "B",
          "C",
          "A"
         ],
         "y": [
          1.52,
          2.33,
          2.11,
          2.25,
          3.8,
          2.89,
          2.43,
          1.5,
          2.01,
          1.86,
          1.68
         ]
        },
        {
         "marker": {
          "line": {
           "width": 1
          },
          "size": 20,
          "symbol": "circle"
         },
         "mode": "markers",
         "name": "Consumer Discretionary",
         "text": [
          "Amazon.com Inc.",
          "Booking Holdings Inc.",
          "Ford Motor Company",
          "General Motors",
          "Home Depot",
          "Lowe's Companies, Inc.",
          "McDonald's Corp.",
          "Nike Inc.",
          "Starbucks Corp.",
          "Tesla"
         ],
         "type": "scatter",
         "x": [
          "F",
          "F",
          "A",
          "A",
          "A-",
          "A-",
          "C",
          "A-",
          "D",
          "F"
         ],
         "y": [
          2.26,
          3.6,
          4,
          4,
          1.81,
          1.93,
          1.73,
          2.42,
          1.92,
          2.81
         ]
        },
        {
         "marker": {
          "line": {
           "width": 1
          },
          "size": 20,
          "symbol": "circle"
         },
         "mode": "markers",
         "name": "Financial Services",
         "text": [
          "American Express",
          "American International Group (AIG)",
          "Bank of America",
          "Berkshire Hathaway Inc.",
          "BlackRock Inc.",
          "Capital One Financial",
          "Citigroup Inc.",
          "Goldman Sachs Group",
          "JPMorgan Chase & Co.",
          "MasterCard Inc.",
          "MetLife Inc.",
          "Morgan Stanley",
          "PayPal",
          "The Bank of New York Mellon",
          "US Bancorp",
          "Visa Inc.",
          "Wells Fargo"
         ],
         "type": "scatter",
         "x": [
          "A-",
          "C",
          "A",
          "F",
          "B",
          "B-",
          "A-",
          "A",
          "A-",
          "B",
          "B",
          "A",
          "C",
          "A",
          "A",
          "A-",
          "A-"
         ],
         "y": [
          1.45,
          1.37,
          2.05,
          2.25,
          1.5,
          1.76,
          2.5,
          1.65,
          1.77,
          1.44,
          1.36,
          1.68,
          1.43,
          1.51,
          1.8,
          1.44,
          2.06
         ]
        },
        {
         "marker": {
          "line": {
           "width": 1
          },
          "size": 20,
          "symbol": "circle"
         },
         "mode": "markers",
         "name": "Real Estate",
         "text": [
          "American Tower",
          "Simon Property Group Inc."
         ],
         "type": "scatter",
         "x": [
          "D",
          "A"
         ],
         "y": [
          2.04,
          1.61
         ]
        },
        {
         "marker": {
          "line": {
           "width": 1
          },
          "size": 20,
          "symbol": "circle"
         },
         "mode": "markers",
         "name": "Energy",
         "text": [
          "Chevron",
          "ConocoPhillips",
          "Exxon Mobil",
          "Schlumberger Ltd."
         ],
         "type": "scatter",
         "x": [
          "F",
          "B",
          "F",
          "A-"
         ],
         "y": [
          4,
          4,
          4,
          3.21
         ]
        },
        {
         "marker": {
          "line": {
           "width": 1
          },
          "size": 20,
          "symbol": "circle"
         },
         "mode": "markers",
         "name": "Materials",
         "text": [
          "Dow Inc.",
          "DuPont",
          "Linde plc"
         ],
         "type": "scatter",
         "x": [
          "B",
          "A-",
          "A-"
         ],
         "y": [
          4,
          2.88,
          4
         ]
        },
        {
         "marker": {
          "line": {
           "width": 1
          },
          "size": 20,
          "symbol": "circle"
         },
         "mode": "markers",
         "name": "Utilities",
         "text": [
          "Duke Energy",
          "Exelon",
          "Nextera Energy Inc.",
          "Southern Company"
         ],
         "type": "scatter",
         "x": [
          "A-",
          "A-",
          "F",
          "A-"
         ],
         "y": [
          2.36,
          2.03,
          3.61,
          4
         ]
        }
       ],
       "layout": {
        "height": 600,
        "hovermode": "closest",
        "legend": {
         "orientation": "v",
         "title": {
          "text": "Sectors"
         }
        },
        "paper_bgcolor": "white",
        "showlegend": false,
        "template": {
         "data": {
          "bar": [
           {
            "error_x": {
             "color": "#2a3f5f"
            },
            "error_y": {
             "color": "#2a3f5f"
            },
            "marker": {
             "line": {
              "color": "#E5ECF6",
              "width": 0.5
             }
            },
            "type": "bar"
           }
          ],
          "barpolar": [
           {
            "marker": {
             "line": {
              "color": "#E5ECF6",
              "width": 0.5
             }
            },
            "type": "barpolar"
           }
          ],
          "carpet": [
           {
            "aaxis": {
             "endlinecolor": "#2a3f5f",
             "gridcolor": "white",
             "linecolor": "white",
             "minorgridcolor": "white",
             "startlinecolor": "#2a3f5f"
            },
            "baxis": {
             "endlinecolor": "#2a3f5f",
             "gridcolor": "white",
             "linecolor": "white",
             "minorgridcolor": "white",
             "startlinecolor": "#2a3f5f"
            },
            "type": "carpet"
           }
          ],
          "choropleth": [
           {
            "colorbar": {
             "outlinewidth": 0,
             "ticks": ""
            },
            "type": "choropleth"
           }
          ],
          "contour": [
           {
            "colorbar": {
             "outlinewidth": 0,
             "ticks": ""
            },
            "colorscale": [
             [
              0,
              "#0d0887"
             ],
             [
              0.1111111111111111,
              "#46039f"
             ],
             [
              0.2222222222222222,
              "#7201a8"
             ],
             [
              0.3333333333333333,
              "#9c179e"
             ],
             [
              0.4444444444444444,
              "#bd3786"
             ],
             [
              0.5555555555555556,
              "#d8576b"
             ],
             [
              0.6666666666666666,
              "#ed7953"
             ],
             [
              0.7777777777777778,
              "#fb9f3a"
             ],
             [
              0.8888888888888888,
              "#fdca26"
             ],
             [
              1,
              "#f0f921"
             ]
            ],
            "type": "contour"
           }
          ],
          "contourcarpet": [
           {
            "colorbar": {
             "outlinewidth": 0,
             "ticks": ""
            },
            "type": "contourcarpet"
           }
          ],
          "heatmap": [
           {
            "colorbar": {
             "outlinewidth": 0,
             "ticks": ""
            },
            "colorscale": [
             [
              0,
              "#0d0887"
             ],
             [
              0.1111111111111111,
              "#46039f"
             ],
             [
              0.2222222222222222,
              "#7201a8"
             ],
             [
              0.3333333333333333,
              "#9c179e"
             ],
             [
              0.4444444444444444,
              "#bd3786"
             ],
             [
              0.5555555555555556,
              "#d8576b"
             ],
             [
              0.6666666666666666,
              "#ed7953"
             ],
             [
              0.7777777777777778,
              "#fb9f3a"
             ],
             [
              0.8888888888888888,
              "#fdca26"
             ],
             [
              1,
              "#f0f921"
             ]
            ],
            "type": "heatmap"
           }
          ],
          "heatmapgl": [
           {
            "colorbar": {
             "outlinewidth": 0,
             "ticks": ""
            },
            "colorscale": [
             [
              0,
              "#0d0887"
             ],
             [
              0.1111111111111111,
              "#46039f"
             ],
             [
              0.2222222222222222,
              "#7201a8"
             ],
             [
              0.3333333333333333,
              "#9c179e"
             ],
             [
              0.4444444444444444,
              "#bd3786"
             ],
             [
              0.5555555555555556,
              "#d8576b"
             ],
             [
              0.6666666666666666,
              "#ed7953"
             ],
             [
              0.7777777777777778,
              "#fb9f3a"
             ],
             [
              0.8888888888888888,
              "#fdca26"
             ],
             [
              1,
              "#f0f921"
             ]
            ],
            "type": "heatmapgl"
           }
          ],
          "histogram": [
           {
            "marker": {
             "colorbar": {
              "outlinewidth": 0,
              "ticks": ""
             }
            },
            "type": "histogram"
           }
          ],
          "histogram2d": [
           {
            "colorbar": {
             "outlinewidth": 0,
             "ticks": ""
            },
            "colorscale": [
             [
              0,
              "#0d0887"
             ],
             [
              0.1111111111111111,
              "#46039f"
             ],
             [
              0.2222222222222222,
              "#7201a8"
             ],
             [
              0.3333333333333333,
              "#9c179e"
             ],
             [
              0.4444444444444444,
              "#bd3786"
             ],
             [
              0.5555555555555556,
              "#d8576b"
             ],
             [
              0.6666666666666666,
              "#ed7953"
             ],
             [
              0.7777777777777778,
              "#fb9f3a"
             ],
             [
              0.8888888888888888,
              "#fdca26"
             ],
             [
              1,
              "#f0f921"
             ]
            ],
            "type": "histogram2d"
           }
          ],
          "histogram2dcontour": [
           {
            "colorbar": {
             "outlinewidth": 0,
             "ticks": ""
            },
            "colorscale": [
             [
              0,
              "#0d0887"
             ],
             [
              0.1111111111111111,
              "#46039f"
             ],
             [
              0.2222222222222222,
              "#7201a8"
             ],
             [
              0.3333333333333333,
              "#9c179e"
             ],
             [
              0.4444444444444444,
              "#bd3786"
             ],
             [
              0.5555555555555556,
              "#d8576b"
             ],
             [
              0.6666666666666666,
              "#ed7953"
             ],
             [
              0.7777777777777778,
              "#fb9f3a"
             ],
             [
              0.8888888888888888,
              "#fdca26"
             ],
             [
              1,
              "#f0f921"
             ]
            ],
            "type": "histogram2dcontour"
           }
          ],
          "mesh3d": [
           {
            "colorbar": {
             "outlinewidth": 0,
             "ticks": ""
            },
            "type": "mesh3d"
           }
          ],
          "parcoords": [
           {
            "line": {
             "colorbar": {
              "outlinewidth": 0,
              "ticks": ""
             }
            },
            "type": "parcoords"
           }
          ],
          "pie": [
           {
            "automargin": true,
            "type": "pie"
           }
          ],
          "scatter": [
           {
            "marker": {
             "colorbar": {
              "outlinewidth": 0,
              "ticks": ""
             }
            },
            "type": "scatter"
           }
          ],
          "scatter3d": [
           {
            "line": {
             "colorbar": {
              "outlinewidth": 0,
              "ticks": ""
             }
            },
            "marker": {
             "colorbar": {
              "outlinewidth": 0,
              "ticks": ""
             }
            },
            "type": "scatter3d"
           }
          ],
          "scattercarpet": [
           {
            "marker": {
             "colorbar": {
              "outlinewidth": 0,
              "ticks": ""
             }
            },
            "type": "scattercarpet"
           }
          ],
          "scattergeo": [
           {
            "marker": {
             "colorbar": {
              "outlinewidth": 0,
              "ticks": ""
             }
            },
            "type": "scattergeo"
           }
          ],
          "scattergl": [
           {
            "marker": {
             "colorbar": {
              "outlinewidth": 0,
              "ticks": ""
             }
            },
            "type": "scattergl"
           }
          ],
          "scattermapbox": [
           {
            "marker": {
             "colorbar": {
              "outlinewidth": 0,
              "ticks": ""
             }
            },
            "type": "scattermapbox"
           }
          ],
          "scatterpolar": [
           {
            "marker": {
             "colorbar": {
              "outlinewidth": 0,
              "ticks": ""
             }
            },
            "type": "scatterpolar"
           }
          ],
          "scatterpolargl": [
           {
            "marker": {
             "colorbar": {
              "outlinewidth": 0,
              "ticks": ""
             }
            },
            "type": "scatterpolargl"
           }
          ],
          "scatterternary": [
           {
            "marker": {
             "colorbar": {
              "outlinewidth": 0,
              "ticks": ""
             }
            },
            "type": "scatterternary"
           }
          ],
          "surface": [
           {
            "colorbar": {
             "outlinewidth": 0,
             "ticks": ""
            },
            "colorscale": [
             [
              0,
              "#0d0887"
             ],
             [
              0.1111111111111111,
              "#46039f"
             ],
             [
              0.2222222222222222,
              "#7201a8"
             ],
             [
              0.3333333333333333,
              "#9c179e"
             ],
             [
              0.4444444444444444,
              "#bd3786"
             ],
             [
              0.5555555555555556,
              "#d8576b"
             ],
             [
              0.6666666666666666,
              "#ed7953"
             ],
             [
              0.7777777777777778,
              "#fb9f3a"
             ],
             [
              0.8888888888888888,
              "#fdca26"
             ],
             [
              1,
              "#f0f921"
             ]
            ],
            "type": "surface"
           }
          ],
          "table": [
           {
            "cells": {
             "fill": {
              "color": "#EBF0F8"
             },
             "line": {
              "color": "white"
             }
            },
            "header": {
             "fill": {
              "color": "#C8D4E3"
             },
             "line": {
              "color": "white"
             }
            },
            "type": "table"
           }
          ]
         },
         "layout": {
          "annotationdefaults": {
           "arrowcolor": "#2a3f5f",
           "arrowhead": 0,
           "arrowwidth": 1
          },
          "autotypenumbers": "strict",
          "coloraxis": {
           "colorbar": {
            "outlinewidth": 0,
            "ticks": ""
           }
          },
          "colorscale": {
           "diverging": [
            [
             0,
             "#8e0152"
            ],
            [
             0.1,
             "#c51b7d"
            ],
            [
             0.2,
             "#de77ae"
            ],
            [
             0.3,
             "#f1b6da"
            ],
            [
             0.4,
             "#fde0ef"
            ],
            [
             0.5,
             "#f7f7f7"
            ],
            [
             0.6,
             "#e6f5d0"
            ],
            [
             0.7,
             "#b8e186"
            ],
            [
             0.8,
             "#7fbc41"
            ],
            [
             0.9,
             "#4d9221"
            ],
            [
             1,
             "#276419"
            ]
           ],
           "sequential": [
            [
             0,
             "#0d0887"
            ],
            [
             0.1111111111111111,
             "#46039f"
            ],
            [
             0.2222222222222222,
             "#7201a8"
            ],
            [
             0.3333333333333333,
             "#9c179e"
            ],
            [
             0.4444444444444444,
             "#bd3786"
            ],
            [
             0.5555555555555556,
             "#d8576b"
            ],
            [
             0.6666666666666666,
             "#ed7953"
            ],
            [
             0.7777777777777778,
             "#fb9f3a"
            ],
            [
             0.8888888888888888,
             "#fdca26"
            ],
            [
             1,
             "#f0f921"
            ]
           ],
           "sequentialminus": [
            [
             0,
             "#0d0887"
            ],
            [
             0.1111111111111111,
             "#46039f"
            ],
            [
             0.2222222222222222,
             "#7201a8"
            ],
            [
             0.3333333333333333,
             "#9c179e"
            ],
            [
             0.4444444444444444,
             "#bd3786"
            ],
            [
             0.5555555555555556,
             "#d8576b"
            ],
            [
             0.6666666666666666,
             "#ed7953"
            ],
            [
             0.7777777777777778,
             "#fb9f3a"
            ],
            [
             0.8888888888888888,
             "#fdca26"
            ],
            [
             1,
             "#f0f921"
            ]
           ]
          },
          "colorway": [
           "#636efa",
           "#EF553B",
           "#00cc96",
           "#ab63fa",
           "#FFA15A",
           "#19d3f3",
           "#FF6692",
           "#B6E880",
           "#FF97FF",
           "#FECB52"
          ],
          "font": {
           "color": "#2a3f5f"
          },
          "geo": {
           "bgcolor": "white",
           "lakecolor": "white",
           "landcolor": "#E5ECF6",
           "showlakes": true,
           "showland": true,
           "subunitcolor": "white"
          },
          "hoverlabel": {
           "align": "left"
          },
          "hovermode": "closest",
          "mapbox": {
           "style": "light"
          },
          "paper_bgcolor": "white",
          "plot_bgcolor": "#E5ECF6",
          "polar": {
           "angularaxis": {
            "gridcolor": "white",
            "linecolor": "white",
            "ticks": ""
           },
           "bgcolor": "#E5ECF6",
           "radialaxis": {
            "gridcolor": "white",
            "linecolor": "white",
            "ticks": ""
           }
          },
          "scene": {
           "xaxis": {
            "backgroundcolor": "#E5ECF6",
            "gridcolor": "white",
            "gridwidth": 2,
            "linecolor": "white",
            "showbackground": true,
            "ticks": "",
            "zerolinecolor": "white"
           },
           "yaxis": {
            "backgroundcolor": "#E5ECF6",
            "gridcolor": "white",
            "gridwidth": 2,
            "linecolor": "white",
            "showbackground": true,
            "ticks": "",
            "zerolinecolor": "white"
           },
           "zaxis": {
            "backgroundcolor": "#E5ECF6",
            "gridcolor": "white",
            "gridwidth": 2,
            "linecolor": "white",
            "showbackground": true,
            "ticks": "",
            "zerolinecolor": "white"
           }
          },
          "shapedefaults": {
           "line": {
            "color": "#2a3f5f"
           }
          },
          "ternary": {
           "aaxis": {
            "gridcolor": "white",
            "linecolor": "white",
            "ticks": ""
           },
           "baxis": {
            "gridcolor": "white",
            "linecolor": "white",
            "ticks": ""
           },
           "bgcolor": "#E5ECF6",
           "caxis": {
            "gridcolor": "white",
            "linecolor": "white",
            "ticks": ""
           }
          },
          "title": {
           "x": 0.05
          },
          "xaxis": {
           "automargin": true,
           "gridcolor": "white",
           "linecolor": "white",
           "ticks": "",
           "title": {
            "standoff": 15
           },
           "zerolinecolor": "white",
           "zerolinewidth": 2
          },
          "yaxis": {
           "automargin": true,
           "gridcolor": "white",
           "linecolor": "white",
           "ticks": "",
           "title": {
            "standoff": 15
           },
           "zerolinecolor": "white",
           "zerolinewidth": 2
          }
         }
        },
        "title": {
         "text": "CDP vs. ITR<br><i>by net0tracker.org</i>",
         "x": 0.5
        },
        "xaxis": {
         "categoryorder": "category ascending",
         "showgrid": true,
         "showline": true,
         "title": {
          "text": "CDP Score"
         }
        },
        "yaxis": {
         "title": {
          "text": "ITR (in °C)"
         }
        }
       }
      },
      "text/html": [
       "<div>                            <div id=\"08e1230a-1649-4ac9-88d8-bf862572d894\" class=\"plotly-graph-div\" style=\"height:600px; width:100%;\"></div>            <script type=\"text/javascript\">                require([\"plotly\"], function(Plotly) {                    window.PLOTLYENV=window.PLOTLYENV || {};                                    if (document.getElementById(\"08e1230a-1649-4ac9-88d8-bf862572d894\")) {                    Plotly.newPlot(                        \"08e1230a-1649-4ac9-88d8-bf862572d894\",                        [{\"marker\": {\"line\": {\"width\": 1}, \"size\": 20, \"symbol\": \"circle\"}, \"mode\": \"markers\", \"name\": \"Industrials\", \"text\": [\"3M\", \"Boeing\", \"Caterpillar Inc.\", \"Emerson Electric\", \"FedEx\", \"General Dynamics\", \"General Electric\", \"Honeywell Inc.\", \"Lockheed Martin Corp.\", \"Raytheon Technologies\", \"Union Pacific Corp\", \"United Parcel Service\"], \"type\": \"scatter\", \"x\": [\"B\", \"A-\", \"F\", \"C\", \"B\", \"D\", \"D\", \"B\", \"A\", \"F\", \"A-\", \"B\"], \"y\": [1.73, 2.08, 4, 2.57, 1.87, 3.32, 4, 2.43, 2.06, 2.47, 2.67, 1.87]}, {\"marker\": {\"line\": {\"width\": 1}, \"size\": 20, \"symbol\": \"circle\"}, \"mode\": \"markers\", \"name\": \"Healthcare\", \"text\": [\"Abbott Laboratories\", \"AbbVie Inc.\", \"Amgen Inc.\", \"Biogen Inc.\", \"Bristol Myers Squibb\", \"CVS Health\", \"Danaher\", \"Eli Lilly\", \"Gilead Sciences Inc.\", \"Johnson & Johnson\", \"Medtronic\", \"Merck & Co.\", \"Pfizer Inc.\", \"Thermo Fisher Scientific\", \"Walgreens Boots Alliance\"], \"type\": \"scatter\", \"x\": [\"B\", \"B\", \"B\", \"B\", \"A-\", \"A\", \"D-\", \"B\", \"A-\", \"A\", \"B\", \"B\", \"B\", \"B-\", \"B\"], \"y\": [2.67, 1.61, 2.04, 1.3, 1.65, 1.55, 2.05, 1.71, 1.59, 1.81, 2.96, 1.69, 1.71, 2.17, 1.6]}, {\"marker\": {\"line\": {\"width\": 1}, \"size\": 20, \"symbol\": \"circle\"}, \"mode\": \"markers\", \"name\": \"Technology\", \"text\": [\"Accenture\", \"Adobe Inc.\", \"Apple Inc.\", \"Cisco Systems\", \"IBM Corp.\", \"Intel Corp.\", \"Microsoft Corp.\", \"Nvidia\", \"Oracle\", \"QUALCOMM Inc.\", \"Salesforce\", \"Texas Instruments\", \"Broadcom\"], \"type\": \"scatter\", \"x\": [\"A\", \"A\", \"A\", \"A\", \"A-\", \"A-\", \"A\", \"A-\", \"A-\", \"B\", \"A\", \"C\", \"F\"], \"y\": [1.3, 1.43, 2.06, 1.31, 1.64, 2.16, 1.58, 2.11, 1.55, 2, 1.3, 2.45, 1.97]}, {\"marker\": {\"line\": {\"width\": 1}, \"size\": 20, \"symbol\": \"circle\"}, \"mode\": \"markers\", \"name\": \"Communication Services\", \"text\": [\"Alphabet Inc. Google\", \"AT&T Inc.\", \"Charter Communications Inc.\", \"Comcast\", \"Facebook, Inc.\", \"Netflix Inc.\", \"The Walt Disney Company\", \"Verizon Communications\", \"T-Mobile (ex T-Mobile US)\"], \"type\": \"scatter\", \"x\": [\"A\", \"A-\", \"F\", \"C\", \"F\", \"F\", \"B-\", \"C\", \"A\"], \"y\": [1.45, 1.58, 1.7, 1.55, 1.65, 1.78, 1.7, 1.52, 1.41]}, {\"marker\": {\"line\": {\"width\": 1}, \"size\": 20, \"symbol\": \"circle\"}, \"mode\": \"markers\", \"name\": \"Consumer Staples\", \"text\": [\"Altria Group Inc\", \"Coca-Cola\", \"Colgate-Palmolive\", \"Costco\", \"Kraft Heinz Co\", \"Mondelez International\", \"PepsiCo Inc.\", \"Philip Morris International\", \"Procter & Gamble\", \"Target Corp.\", \"Walmart\"], \"type\": \"scatter\", \"x\": [\"A\", \"A-\", \"A\", \"D\", \"B-\", \"B\", \"A\", \"A\", \"B\", \"C\", \"A\"], \"y\": [1.52, 2.33, 2.11, 2.25, 3.8, 2.89, 2.43, 1.5, 2.01, 1.86, 1.68]}, {\"marker\": {\"line\": {\"width\": 1}, \"size\": 20, \"symbol\": \"circle\"}, \"mode\": \"markers\", \"name\": \"Consumer Discretionary\", \"text\": [\"Amazon.com Inc.\", \"Booking Holdings Inc.\", \"Ford Motor Company\", \"General Motors\", \"Home Depot\", \"Lowe's Companies, Inc.\", \"McDonald's Corp.\", \"Nike Inc.\", \"Starbucks Corp.\", \"Tesla\"], \"type\": \"scatter\", \"x\": [\"F\", \"F\", \"A\", \"A\", \"A-\", \"A-\", \"C\", \"A-\", \"D\", \"F\"], \"y\": [2.26, 3.6, 4, 4, 1.81, 1.93, 1.73, 2.42, 1.92, 2.81]}, {\"marker\": {\"line\": {\"width\": 1}, \"size\": 20, \"symbol\": \"circle\"}, \"mode\": \"markers\", \"name\": \"Financial Services\", \"text\": [\"American Express\", \"American International Group (AIG)\", \"Bank of America\", \"Berkshire Hathaway Inc.\", \"BlackRock Inc.\", \"Capital One Financial\", \"Citigroup Inc.\", \"Goldman Sachs Group\", \"JPMorgan Chase & Co.\", \"MasterCard Inc.\", \"MetLife Inc.\", \"Morgan Stanley\", \"PayPal\", \"The Bank of New York Mellon\", \"US Bancorp\", \"Visa Inc.\", \"Wells Fargo\"], \"type\": \"scatter\", \"x\": [\"A-\", \"C\", \"A\", \"F\", \"B\", \"B-\", \"A-\", \"A\", \"A-\", \"B\", \"B\", \"A\", \"C\", \"A\", \"A\", \"A-\", \"A-\"], \"y\": [1.45, 1.37, 2.05, 2.25, 1.5, 1.76, 2.5, 1.65, 1.77, 1.44, 1.36, 1.68, 1.43, 1.51, 1.8, 1.44, 2.06]}, {\"marker\": {\"line\": {\"width\": 1}, \"size\": 20, \"symbol\": \"circle\"}, \"mode\": \"markers\", \"name\": \"Real Estate\", \"text\": [\"American Tower\", \"Simon Property Group Inc.\"], \"type\": \"scatter\", \"x\": [\"D\", \"A\"], \"y\": [2.04, 1.61]}, {\"marker\": {\"line\": {\"width\": 1}, \"size\": 20, \"symbol\": \"circle\"}, \"mode\": \"markers\", \"name\": \"Energy\", \"text\": [\"Chevron\", \"ConocoPhillips\", \"Exxon Mobil\", \"Schlumberger Ltd.\"], \"type\": \"scatter\", \"x\": [\"F\", \"B\", \"F\", \"A-\"], \"y\": [4, 4, 4, 3.21]}, {\"marker\": {\"line\": {\"width\": 1}, \"size\": 20, \"symbol\": \"circle\"}, \"mode\": \"markers\", \"name\": \"Materials\", \"text\": [\"Dow Inc.\", \"DuPont\", \"Linde plc\"], \"type\": \"scatter\", \"x\": [\"B\", \"A-\", \"A-\"], \"y\": [4, 2.88, 4]}, {\"marker\": {\"line\": {\"width\": 1}, \"size\": 20, \"symbol\": \"circle\"}, \"mode\": \"markers\", \"name\": \"Utilities\", \"text\": [\"Duke Energy\", \"Exelon\", \"Nextera Energy Inc.\", \"Southern Company\"], \"type\": \"scatter\", \"x\": [\"A-\", \"A-\", \"F\", \"A-\"], \"y\": [2.36, 2.03, 3.61, 4]}],                        {\"height\": 600, \"hovermode\": \"closest\", \"legend\": {\"orientation\": \"v\", \"title\": {\"text\": \"Sectors\"}}, \"paper_bgcolor\": \"white\", \"showlegend\": false, \"template\": {\"data\": {\"bar\": [{\"error_x\": {\"color\": \"#2a3f5f\"}, \"error_y\": {\"color\": \"#2a3f5f\"}, \"marker\": {\"line\": {\"color\": \"#E5ECF6\", \"width\": 0.5}}, \"type\": \"bar\"}], \"barpolar\": [{\"marker\": {\"line\": {\"color\": \"#E5ECF6\", \"width\": 0.5}}, \"type\": \"barpolar\"}], \"carpet\": [{\"aaxis\": {\"endlinecolor\": \"#2a3f5f\", \"gridcolor\": \"white\", \"linecolor\": \"white\", \"minorgridcolor\": \"white\", \"startlinecolor\": \"#2a3f5f\"}, \"baxis\": {\"endlinecolor\": \"#2a3f5f\", \"gridcolor\": \"white\", \"linecolor\": \"white\", \"minorgridcolor\": \"white\", \"startlinecolor\": \"#2a3f5f\"}, \"type\": \"carpet\"}], \"choropleth\": [{\"colorbar\": {\"outlinewidth\": 0, \"ticks\": \"\"}, \"type\": \"choropleth\"}], \"contour\": [{\"colorbar\": {\"outlinewidth\": 0, \"ticks\": \"\"}, \"colorscale\": [[0.0, \"#0d0887\"], [0.1111111111111111, \"#46039f\"], [0.2222222222222222, \"#7201a8\"], [0.3333333333333333, \"#9c179e\"], [0.4444444444444444, \"#bd3786\"], [0.5555555555555556, \"#d8576b\"], [0.6666666666666666, \"#ed7953\"], [0.7777777777777778, \"#fb9f3a\"], [0.8888888888888888, \"#fdca26\"], [1.0, \"#f0f921\"]], \"type\": \"contour\"}], \"contourcarpet\": [{\"colorbar\": {\"outlinewidth\": 0, \"ticks\": \"\"}, \"type\": \"contourcarpet\"}], \"heatmap\": [{\"colorbar\": {\"outlinewidth\": 0, \"ticks\": \"\"}, \"colorscale\": [[0.0, \"#0d0887\"], [0.1111111111111111, \"#46039f\"], [0.2222222222222222, \"#7201a8\"], [0.3333333333333333, \"#9c179e\"], [0.4444444444444444, \"#bd3786\"], [0.5555555555555556, \"#d8576b\"], [0.6666666666666666, \"#ed7953\"], [0.7777777777777778, \"#fb9f3a\"], [0.8888888888888888, \"#fdca26\"], [1.0, \"#f0f921\"]], \"type\": \"heatmap\"}], \"heatmapgl\": [{\"colorbar\": {\"outlinewidth\": 0, \"ticks\": \"\"}, \"colorscale\": [[0.0, \"#0d0887\"], [0.1111111111111111, \"#46039f\"], [0.2222222222222222, \"#7201a8\"], [0.3333333333333333, \"#9c179e\"], [0.4444444444444444, \"#bd3786\"], [0.5555555555555556, \"#d8576b\"], [0.6666666666666666, \"#ed7953\"], [0.7777777777777778, \"#fb9f3a\"], [0.8888888888888888, \"#fdca26\"], [1.0, \"#f0f921\"]], \"type\": \"heatmapgl\"}], \"histogram\": [{\"marker\": {\"colorbar\": {\"outlinewidth\": 0, \"ticks\": \"\"}}, \"type\": \"histogram\"}], \"histogram2d\": [{\"colorbar\": {\"outlinewidth\": 0, \"ticks\": \"\"}, \"colorscale\": [[0.0, \"#0d0887\"], [0.1111111111111111, \"#46039f\"], [0.2222222222222222, \"#7201a8\"], [0.3333333333333333, \"#9c179e\"], [0.4444444444444444, \"#bd3786\"], [0.5555555555555556, \"#d8576b\"], [0.6666666666666666, \"#ed7953\"], [0.7777777777777778, \"#fb9f3a\"], [0.8888888888888888, \"#fdca26\"], [1.0, \"#f0f921\"]], \"type\": \"histogram2d\"}], \"histogram2dcontour\": [{\"colorbar\": {\"outlinewidth\": 0, \"ticks\": \"\"}, \"colorscale\": [[0.0, \"#0d0887\"], [0.1111111111111111, \"#46039f\"], [0.2222222222222222, \"#7201a8\"], [0.3333333333333333, \"#9c179e\"], [0.4444444444444444, \"#bd3786\"], [0.5555555555555556, \"#d8576b\"], [0.6666666666666666, \"#ed7953\"], [0.7777777777777778, \"#fb9f3a\"], [0.8888888888888888, \"#fdca26\"], [1.0, \"#f0f921\"]], \"type\": \"histogram2dcontour\"}], \"mesh3d\": [{\"colorbar\": {\"outlinewidth\": 0, \"ticks\": \"\"}, \"type\": \"mesh3d\"}], \"parcoords\": [{\"line\": {\"colorbar\": {\"outlinewidth\": 0, \"ticks\": \"\"}}, \"type\": \"parcoords\"}], \"pie\": [{\"automargin\": true, \"type\": \"pie\"}], \"scatter\": [{\"marker\": {\"colorbar\": {\"outlinewidth\": 0, \"ticks\": \"\"}}, \"type\": \"scatter\"}], \"scatter3d\": [{\"line\": {\"colorbar\": {\"outlinewidth\": 0, \"ticks\": \"\"}}, \"marker\": {\"colorbar\": {\"outlinewidth\": 0, \"ticks\": \"\"}}, \"type\": \"scatter3d\"}], \"scattercarpet\": [{\"marker\": {\"colorbar\": {\"outlinewidth\": 0, \"ticks\": \"\"}}, \"type\": \"scattercarpet\"}], \"scattergeo\": [{\"marker\": {\"colorbar\": {\"outlinewidth\": 0, \"ticks\": \"\"}}, \"type\": \"scattergeo\"}], \"scattergl\": [{\"marker\": {\"colorbar\": {\"outlinewidth\": 0, \"ticks\": \"\"}}, \"type\": \"scattergl\"}], \"scattermapbox\": [{\"marker\": {\"colorbar\": {\"outlinewidth\": 0, \"ticks\": \"\"}}, \"type\": \"scattermapbox\"}], \"scatterpolar\": [{\"marker\": {\"colorbar\": {\"outlinewidth\": 0, \"ticks\": \"\"}}, \"type\": \"scatterpolar\"}], \"scatterpolargl\": [{\"marker\": {\"colorbar\": {\"outlinewidth\": 0, \"ticks\": \"\"}}, \"type\": \"scatterpolargl\"}], \"scatterternary\": [{\"marker\": {\"colorbar\": {\"outlinewidth\": 0, \"ticks\": \"\"}}, \"type\": \"scatterternary\"}], \"surface\": [{\"colorbar\": {\"outlinewidth\": 0, \"ticks\": \"\"}, \"colorscale\": [[0.0, \"#0d0887\"], [0.1111111111111111, \"#46039f\"], [0.2222222222222222, \"#7201a8\"], [0.3333333333333333, \"#9c179e\"], [0.4444444444444444, \"#bd3786\"], [0.5555555555555556, \"#d8576b\"], [0.6666666666666666, \"#ed7953\"], [0.7777777777777778, \"#fb9f3a\"], [0.8888888888888888, \"#fdca26\"], [1.0, \"#f0f921\"]], \"type\": \"surface\"}], \"table\": [{\"cells\": {\"fill\": {\"color\": \"#EBF0F8\"}, \"line\": {\"color\": \"white\"}}, \"header\": {\"fill\": {\"color\": \"#C8D4E3\"}, \"line\": {\"color\": \"white\"}}, \"type\": \"table\"}]}, \"layout\": {\"annotationdefaults\": {\"arrowcolor\": \"#2a3f5f\", \"arrowhead\": 0, \"arrowwidth\": 1}, \"autotypenumbers\": \"strict\", \"coloraxis\": {\"colorbar\": {\"outlinewidth\": 0, \"ticks\": \"\"}}, \"colorscale\": {\"diverging\": [[0, \"#8e0152\"], [0.1, \"#c51b7d\"], [0.2, \"#de77ae\"], [0.3, \"#f1b6da\"], [0.4, \"#fde0ef\"], [0.5, \"#f7f7f7\"], [0.6, \"#e6f5d0\"], [0.7, \"#b8e186\"], [0.8, \"#7fbc41\"], [0.9, \"#4d9221\"], [1, \"#276419\"]], \"sequential\": [[0.0, \"#0d0887\"], [0.1111111111111111, \"#46039f\"], [0.2222222222222222, \"#7201a8\"], [0.3333333333333333, \"#9c179e\"], [0.4444444444444444, \"#bd3786\"], [0.5555555555555556, \"#d8576b\"], [0.6666666666666666, \"#ed7953\"], [0.7777777777777778, \"#fb9f3a\"], [0.8888888888888888, \"#fdca26\"], [1.0, \"#f0f921\"]], \"sequentialminus\": [[0.0, \"#0d0887\"], [0.1111111111111111, \"#46039f\"], [0.2222222222222222, \"#7201a8\"], [0.3333333333333333, \"#9c179e\"], [0.4444444444444444, \"#bd3786\"], [0.5555555555555556, \"#d8576b\"], [0.6666666666666666, \"#ed7953\"], [0.7777777777777778, \"#fb9f3a\"], [0.8888888888888888, \"#fdca26\"], [1.0, \"#f0f921\"]]}, \"colorway\": [\"#636efa\", \"#EF553B\", \"#00cc96\", \"#ab63fa\", \"#FFA15A\", \"#19d3f3\", \"#FF6692\", \"#B6E880\", \"#FF97FF\", \"#FECB52\"], \"font\": {\"color\": \"#2a3f5f\"}, \"geo\": {\"bgcolor\": \"white\", \"lakecolor\": \"white\", \"landcolor\": \"#E5ECF6\", \"showlakes\": true, \"showland\": true, \"subunitcolor\": \"white\"}, \"hoverlabel\": {\"align\": \"left\"}, \"hovermode\": \"closest\", \"mapbox\": {\"style\": \"light\"}, \"paper_bgcolor\": \"white\", \"plot_bgcolor\": \"#E5ECF6\", \"polar\": {\"angularaxis\": {\"gridcolor\": \"white\", \"linecolor\": \"white\", \"ticks\": \"\"}, \"bgcolor\": \"#E5ECF6\", \"radialaxis\": {\"gridcolor\": \"white\", \"linecolor\": \"white\", \"ticks\": \"\"}}, \"scene\": {\"xaxis\": {\"backgroundcolor\": \"#E5ECF6\", \"gridcolor\": \"white\", \"gridwidth\": 2, \"linecolor\": \"white\", \"showbackground\": true, \"ticks\": \"\", \"zerolinecolor\": \"white\"}, \"yaxis\": {\"backgroundcolor\": \"#E5ECF6\", \"gridcolor\": \"white\", \"gridwidth\": 2, \"linecolor\": \"white\", \"showbackground\": true, \"ticks\": \"\", \"zerolinecolor\": \"white\"}, \"zaxis\": {\"backgroundcolor\": \"#E5ECF6\", \"gridcolor\": \"white\", \"gridwidth\": 2, \"linecolor\": \"white\", \"showbackground\": true, \"ticks\": \"\", \"zerolinecolor\": \"white\"}}, \"shapedefaults\": {\"line\": {\"color\": \"#2a3f5f\"}}, \"ternary\": {\"aaxis\": {\"gridcolor\": \"white\", \"linecolor\": \"white\", \"ticks\": \"\"}, \"baxis\": {\"gridcolor\": \"white\", \"linecolor\": \"white\", \"ticks\": \"\"}, \"bgcolor\": \"#E5ECF6\", \"caxis\": {\"gridcolor\": \"white\", \"linecolor\": \"white\", \"ticks\": \"\"}}, \"title\": {\"x\": 0.05}, \"xaxis\": {\"automargin\": true, \"gridcolor\": \"white\", \"linecolor\": \"white\", \"ticks\": \"\", \"title\": {\"standoff\": 15}, \"zerolinecolor\": \"white\", \"zerolinewidth\": 2}, \"yaxis\": {\"automargin\": true, \"gridcolor\": \"white\", \"linecolor\": \"white\", \"ticks\": \"\", \"title\": {\"standoff\": 15}, \"zerolinecolor\": \"white\", \"zerolinewidth\": 2}}}, \"title\": {\"text\": \"CDP vs. ITR<br><i>by net0tracker.org</i>\", \"x\": 0.5}, \"xaxis\": {\"categoryorder\": \"category ascending\", \"showgrid\": true, \"showline\": true, \"title\": {\"text\": \"CDP Score\"}}, \"yaxis\": {\"title\": {\"text\": \"ITR (in \\u00b0C)\"}}},                        {\"responsive\": true}                    ).then(function(){\n",
       "                            \n",
       "var gd = document.getElementById('08e1230a-1649-4ac9-88d8-bf862572d894');\n",
       "var x = new MutationObserver(function (mutations, observer) {{\n",
       "        var display = window.getComputedStyle(gd).display;\n",
       "        if (!display || display === 'none') {{\n",
       "            console.log([gd, 'removed!']);\n",
       "            Plotly.purge(gd);\n",
       "            observer.disconnect();\n",
       "        }}\n",
       "}});\n",
       "\n",
       "// Listen for the removal of the full notebook cells\n",
       "var notebookContainer = gd.closest('#notebook-container');\n",
       "if (notebookContainer) {{\n",
       "    x.observe(notebookContainer, {childList: true});\n",
       "}}\n",
       "\n",
       "// Listen for the clearing of the current output cell\n",
       "var outputEl = gd.closest('.output');\n",
       "if (outputEl) {{\n",
       "    x.observe(outputEl, {childList: true});\n",
       "}}\n",
       "\n",
       "                        })                };                });            </script>        </div>"
      ]
     },
     "metadata": {},
     "output_type": "display_data"
    }
   ],
   "source": [
    "import plotly.graph_objects as go\n",
    "fig = go.Figure()\n",
    "for sector in all_sectors:\n",
    "    cdp_score = merged_df.loc[merged_df['Sector1'] == sector]['cdp_score']\n",
    "    msci_itr = merged_df.loc[merged_df['Sector1'] == sector]['msci_itr']\n",
    "    company_name = merged_df.loc[merged_df['Sector1'] == sector]['company_name']\n",
    "    fig.add_trace(go.Scatter(\n",
    "        x=cdp_score,\n",
    "        y=msci_itr,\n",
    "        text = company_name,\n",
    "        name=sector,\n",
    "        )\n",
    "    )\n",
    "fig.update_traces(\n",
    "    mode='markers',\n",
    "    marker=dict(\n",
    "        line_width=1,\n",
    "        symbol='circle', \n",
    "        size=20,\n",
    "        ))\n",
    "\n",
    "fig.update_xaxes(categoryorder='category ascending')\n",
    "\n",
    "\n",
    "fig.update_layout(\n",
    "    title=\"CDP vs. ITR<br><i>by net0tracker.org</i>\",\n",
    "    title_x=0.5,\n",
    "    yaxis_title = \"ITR (in °C)\",\n",
    "    xaxis_title = \"CDP Score\",\n",
    "    xaxis=dict(\n",
    "        showgrid=True,\n",
    "        showline=True,\n",
    "    ),\n",
    "    #margin=dict(l=140, r=40, b=50, t=80),\n",
    "    showlegend = False,\n",
    "    legend=dict(\n",
    "        #font_size=10,\n",
    "        orientation=\"v\",\n",
    "        #yanchor=\"bottom\",\n",
    "        #y=-0.4,\n",
    "        #xanchor=\"left\",\n",
    "        #x=0,\n",
    "        title = \"Sectors\",\n",
    "    ),\n",
    "    #width=800,\n",
    "    height=600,\n",
    "    paper_bgcolor='white',\n",
    "    #plot_bgcolor='white',\n",
    "    hovermode='closest',\n",
    ")\n",
    "fig.show()"
   ]
  },
  {
   "cell_type": "code",
   "execution_count": 8,
   "metadata": {},
   "outputs": [],
   "source": [
    "save_chart(fig, 'cdp_itr')"
   ]
  },
  {
   "cell_type": "code",
   "execution_count": 9,
   "metadata": {},
   "outputs": [
    {
     "data": {
      "application/vnd.plotly.v1+json": {
       "config": {
        "plotlyServerURL": "https://plot.ly"
       },
       "data": [
        {
         "alignmentgroup": "True",
         "bingroup": "x",
         "cumulative": {
          "enabled": false
         },
         "hovertemplate": "MSCi Temperature (in °C)=%{x}<br>count=%{y}<extra></extra>",
         "legendgroup": "",
         "marker": {
          "color": "red"
         },
         "name": "",
         "nbinsx": 25,
         "offsetgroup": "",
         "orientation": "v",
         "showlegend": false,
         "type": "histogram",
         "x": [
          1.73,
          2.67,
          1.61,
          1.3,
          1.43,
          1.45,
          1.52,
          2.26,
          1.45,
          1.37,
          2.04,
          2.04,
          2.06,
          1.58,
          2.05,
          2.25,
          1.3,
          1.5,
          2.08,
          3.6,
          1.65,
          1.76,
          4,
          1.7,
          4,
          1.31,
          2.5,
          2.33,
          2.11,
          1.55,
          4,
          2.25,
          1.55,
          2.05,
          4,
          2.36,
          2.88,
          1.71,
          2.57,
          2.03,
          4,
          1.65,
          1.87,
          4,
          3.32,
          4,
          4,
          1.59,
          1.65,
          1.81,
          2.43,
          1.64,
          2.16,
          1.81,
          1.77,
          3.8,
          2.06,
          1.93,
          1.44,
          1.73,
          2.96,
          1.69,
          1.36,
          1.58,
          2.89,
          1.68,
          1.78,
          3.61,
          2.42,
          2.11,
          1.55,
          1.43,
          2.43,
          1.71,
          1.5,
          2.01,
          2,
          2.47,
          1.3,
          3.21,
          1.61,
          4,
          1.92,
          1.86,
          2.45,
          1.51,
          1.7,
          2.17,
          2.67,
          1.87,
          1.8,
          1.52,
          1.44,
          1.6,
          1.68,
          2.06,
          2.81,
          1.97,
          1.41,
          4
         ],
         "xaxis": "x",
         "xbins": {
          "end": 4.5,
          "size": 0.1,
          "start": 1.21
         },
         "yaxis": "y"
        },
        {
         "alignmentgroup": "True",
         "boxpoints": "all",
         "fillcolor": "rgba(255,255,255,0)",
         "hoveron": "points",
         "hovertemplate": "<b>%{hovertext}</b><br><br>MSCi Temperature (in °C)=%{x}<extra></extra>",
         "hovertext": [
          "3M",
          "Abbott Laboratories",
          "AbbVie Inc.",
          "Accenture",
          "Adobe Inc.",
          "Alphabet Inc. Google",
          "Altria Group Inc",
          "Amazon.com Inc.",
          "American Express",
          "American International Group (AIG)",
          "American Tower",
          "Amgen Inc.",
          "Apple Inc.",
          "AT&T Inc.",
          "Bank of America",
          "Berkshire Hathaway Inc.",
          "Biogen Inc.",
          "BlackRock Inc.",
          "Boeing",
          "Booking Holdings Inc.",
          "Bristol Myers Squibb",
          "Capital One Financial",
          "Caterpillar Inc.",
          "Charter Communications Inc.",
          "Chevron",
          "Cisco Systems",
          "Citigroup Inc.",
          "Coca-Cola",
          "Colgate-Palmolive",
          "Comcast",
          "ConocoPhillips",
          "Costco",
          "CVS Health",
          "Danaher",
          "Dow Inc.",
          "Duke Energy",
          "DuPont",
          "Eli Lilly",
          "Emerson Electric",
          "Exelon",
          "Exxon Mobil",
          "Facebook, Inc.",
          "FedEx",
          "Ford Motor Company",
          "General Dynamics",
          "General Electric",
          "General Motors",
          "Gilead Sciences Inc.",
          "Goldman Sachs Group",
          "Home Depot",
          "Honeywell Inc.",
          "IBM Corp.",
          "Intel Corp.",
          "Johnson & Johnson",
          "JPMorgan Chase & Co.",
          "Kraft Heinz Co",
          "Lockheed Martin Corp.",
          "Lowe's Companies, Inc.",
          "MasterCard Inc.",
          "McDonald's Corp.",
          "Medtronic",
          "Merck & Co.",
          "MetLife Inc.",
          "Microsoft Corp.",
          "Mondelez International",
          "Morgan Stanley",
          "Netflix Inc.",
          "Nextera Energy Inc.",
          "Nike Inc.",
          "Nvidia",
          "Oracle",
          "PayPal",
          "PepsiCo Inc.",
          "Pfizer Inc.",
          "Philip Morris International",
          "Procter & Gamble",
          "QUALCOMM Inc.",
          "Raytheon Technologies",
          "Salesforce",
          "Schlumberger Ltd.",
          "Simon Property Group Inc.",
          "Southern Company",
          "Starbucks Corp.",
          "Target Corp.",
          "Texas Instruments",
          "The Bank of New York Mellon",
          "The Walt Disney Company",
          "Thermo Fisher Scientific",
          "Union Pacific Corp",
          "United Parcel Service",
          "US Bancorp",
          "Verizon Communications",
          "Visa Inc.",
          "Walgreens Boots Alliance",
          "Walmart",
          "Wells Fargo",
          "Tesla",
          "Broadcom",
          "T-Mobile (ex T-Mobile US)",
          "Linde plc"
         ],
         "jitter": 0,
         "legendgroup": "",
         "line": {
          "color": "rgba(255,255,255,0)"
         },
         "marker": {
          "color": "red",
          "symbol": "line-ns-open"
         },
         "name": "",
         "offsetgroup": "",
         "showlegend": false,
         "type": "box",
         "x": [
          1.73,
          2.67,
          1.61,
          1.3,
          1.43,
          1.45,
          1.52,
          2.26,
          1.45,
          1.37,
          2.04,
          2.04,
          2.06,
          1.58,
          2.05,
          2.25,
          1.3,
          1.5,
          2.08,
          3.6,
          1.65,
          1.76,
          4,
          1.7,
          4,
          1.31,
          2.5,
          2.33,
          2.11,
          1.55,
          4,
          2.25,
          1.55,
          2.05,
          4,
          2.36,
          2.88,
          1.71,
          2.57,
          2.03,
          4,
          1.65,
          1.87,
          4,
          3.32,
          4,
          4,
          1.59,
          1.65,
          1.81,
          2.43,
          1.64,
          2.16,
          1.81,
          1.77,
          3.8,
          2.06,
          1.93,
          1.44,
          1.73,
          2.96,
          1.69,
          1.36,
          1.58,
          2.89,
          1.68,
          1.78,
          3.61,
          2.42,
          2.11,
          1.55,
          1.43,
          2.43,
          1.71,
          1.5,
          2.01,
          2,
          2.47,
          1.3,
          3.21,
          1.61,
          4,
          1.92,
          1.86,
          2.45,
          1.51,
          1.7,
          2.17,
          2.67,
          1.87,
          1.8,
          1.52,
          1.44,
          1.6,
          1.68,
          2.06,
          2.81,
          1.97,
          1.41,
          4
         ],
         "xaxis": "x2",
         "yaxis": "y2"
        }
       ],
       "layout": {
        "barmode": "relative",
        "height": 600,
        "hovermode": "closest",
        "legend": {
         "tracegroupgap": 0
        },
        "margin": {
         "b": 50,
         "l": 140,
         "r": 40,
         "t": 80
        },
        "paper_bgcolor": "white",
        "plot_bgcolor": "white",
        "template": {
         "data": {
          "bar": [
           {
            "error_x": {
             "color": "#2a3f5f"
            },
            "error_y": {
             "color": "#2a3f5f"
            },
            "marker": {
             "line": {
              "color": "#E5ECF6",
              "width": 0.5
             }
            },
            "type": "bar"
           }
          ],
          "barpolar": [
           {
            "marker": {
             "line": {
              "color": "#E5ECF6",
              "width": 0.5
             }
            },
            "type": "barpolar"
           }
          ],
          "carpet": [
           {
            "aaxis": {
             "endlinecolor": "#2a3f5f",
             "gridcolor": "white",
             "linecolor": "white",
             "minorgridcolor": "white",
             "startlinecolor": "#2a3f5f"
            },
            "baxis": {
             "endlinecolor": "#2a3f5f",
             "gridcolor": "white",
             "linecolor": "white",
             "minorgridcolor": "white",
             "startlinecolor": "#2a3f5f"
            },
            "type": "carpet"
           }
          ],
          "choropleth": [
           {
            "colorbar": {
             "outlinewidth": 0,
             "ticks": ""
            },
            "type": "choropleth"
           }
          ],
          "contour": [
           {
            "colorbar": {
             "outlinewidth": 0,
             "ticks": ""
            },
            "colorscale": [
             [
              0,
              "#0d0887"
             ],
             [
              0.1111111111111111,
              "#46039f"
             ],
             [
              0.2222222222222222,
              "#7201a8"
             ],
             [
              0.3333333333333333,
              "#9c179e"
             ],
             [
              0.4444444444444444,
              "#bd3786"
             ],
             [
              0.5555555555555556,
              "#d8576b"
             ],
             [
              0.6666666666666666,
              "#ed7953"
             ],
             [
              0.7777777777777778,
              "#fb9f3a"
             ],
             [
              0.8888888888888888,
              "#fdca26"
             ],
             [
              1,
              "#f0f921"
             ]
            ],
            "type": "contour"
           }
          ],
          "contourcarpet": [
           {
            "colorbar": {
             "outlinewidth": 0,
             "ticks": ""
            },
            "type": "contourcarpet"
           }
          ],
          "heatmap": [
           {
            "colorbar": {
             "outlinewidth": 0,
             "ticks": ""
            },
            "colorscale": [
             [
              0,
              "#0d0887"
             ],
             [
              0.1111111111111111,
              "#46039f"
             ],
             [
              0.2222222222222222,
              "#7201a8"
             ],
             [
              0.3333333333333333,
              "#9c179e"
             ],
             [
              0.4444444444444444,
              "#bd3786"
             ],
             [
              0.5555555555555556,
              "#d8576b"
             ],
             [
              0.6666666666666666,
              "#ed7953"
             ],
             [
              0.7777777777777778,
              "#fb9f3a"
             ],
             [
              0.8888888888888888,
              "#fdca26"
             ],
             [
              1,
              "#f0f921"
             ]
            ],
            "type": "heatmap"
           }
          ],
          "heatmapgl": [
           {
            "colorbar": {
             "outlinewidth": 0,
             "ticks": ""
            },
            "colorscale": [
             [
              0,
              "#0d0887"
             ],
             [
              0.1111111111111111,
              "#46039f"
             ],
             [
              0.2222222222222222,
              "#7201a8"
             ],
             [
              0.3333333333333333,
              "#9c179e"
             ],
             [
              0.4444444444444444,
              "#bd3786"
             ],
             [
              0.5555555555555556,
              "#d8576b"
             ],
             [
              0.6666666666666666,
              "#ed7953"
             ],
             [
              0.7777777777777778,
              "#fb9f3a"
             ],
             [
              0.8888888888888888,
              "#fdca26"
             ],
             [
              1,
              "#f0f921"
             ]
            ],
            "type": "heatmapgl"
           }
          ],
          "histogram": [
           {
            "marker": {
             "colorbar": {
              "outlinewidth": 0,
              "ticks": ""
             }
            },
            "type": "histogram"
           }
          ],
          "histogram2d": [
           {
            "colorbar": {
             "outlinewidth": 0,
             "ticks": ""
            },
            "colorscale": [
             [
              0,
              "#0d0887"
             ],
             [
              0.1111111111111111,
              "#46039f"
             ],
             [
              0.2222222222222222,
              "#7201a8"
             ],
             [
              0.3333333333333333,
              "#9c179e"
             ],
             [
              0.4444444444444444,
              "#bd3786"
             ],
             [
              0.5555555555555556,
              "#d8576b"
             ],
             [
              0.6666666666666666,
              "#ed7953"
             ],
             [
              0.7777777777777778,
              "#fb9f3a"
             ],
             [
              0.8888888888888888,
              "#fdca26"
             ],
             [
              1,
              "#f0f921"
             ]
            ],
            "type": "histogram2d"
           }
          ],
          "histogram2dcontour": [
           {
            "colorbar": {
             "outlinewidth": 0,
             "ticks": ""
            },
            "colorscale": [
             [
              0,
              "#0d0887"
             ],
             [
              0.1111111111111111,
              "#46039f"
             ],
             [
              0.2222222222222222,
              "#7201a8"
             ],
             [
              0.3333333333333333,
              "#9c179e"
             ],
             [
              0.4444444444444444,
              "#bd3786"
             ],
             [
              0.5555555555555556,
              "#d8576b"
             ],
             [
              0.6666666666666666,
              "#ed7953"
             ],
             [
              0.7777777777777778,
              "#fb9f3a"
             ],
             [
              0.8888888888888888,
              "#fdca26"
             ],
             [
              1,
              "#f0f921"
             ]
            ],
            "type": "histogram2dcontour"
           }
          ],
          "mesh3d": [
           {
            "colorbar": {
             "outlinewidth": 0,
             "ticks": ""
            },
            "type": "mesh3d"
           }
          ],
          "parcoords": [
           {
            "line": {
             "colorbar": {
              "outlinewidth": 0,
              "ticks": ""
             }
            },
            "type": "parcoords"
           }
          ],
          "pie": [
           {
            "automargin": true,
            "type": "pie"
           }
          ],
          "scatter": [
           {
            "marker": {
             "colorbar": {
              "outlinewidth": 0,
              "ticks": ""
             }
            },
            "type": "scatter"
           }
          ],
          "scatter3d": [
           {
            "line": {
             "colorbar": {
              "outlinewidth": 0,
              "ticks": ""
             }
            },
            "marker": {
             "colorbar": {
              "outlinewidth": 0,
              "ticks": ""
             }
            },
            "type": "scatter3d"
           }
          ],
          "scattercarpet": [
           {
            "marker": {
             "colorbar": {
              "outlinewidth": 0,
              "ticks": ""
             }
            },
            "type": "scattercarpet"
           }
          ],
          "scattergeo": [
           {
            "marker": {
             "colorbar": {
              "outlinewidth": 0,
              "ticks": ""
             }
            },
            "type": "scattergeo"
           }
          ],
          "scattergl": [
           {
            "marker": {
             "colorbar": {
              "outlinewidth": 0,
              "ticks": ""
             }
            },
            "type": "scattergl"
           }
          ],
          "scattermapbox": [
           {
            "marker": {
             "colorbar": {
              "outlinewidth": 0,
              "ticks": ""
             }
            },
            "type": "scattermapbox"
           }
          ],
          "scatterpolar": [
           {
            "marker": {
             "colorbar": {
              "outlinewidth": 0,
              "ticks": ""
             }
            },
            "type": "scatterpolar"
           }
          ],
          "scatterpolargl": [
           {
            "marker": {
             "colorbar": {
              "outlinewidth": 0,
              "ticks": ""
             }
            },
            "type": "scatterpolargl"
           }
          ],
          "scatterternary": [
           {
            "marker": {
             "colorbar": {
              "outlinewidth": 0,
              "ticks": ""
             }
            },
            "type": "scatterternary"
           }
          ],
          "surface": [
           {
            "colorbar": {
             "outlinewidth": 0,
             "ticks": ""
            },
            "colorscale": [
             [
              0,
              "#0d0887"
             ],
             [
              0.1111111111111111,
              "#46039f"
             ],
             [
              0.2222222222222222,
              "#7201a8"
             ],
             [
              0.3333333333333333,
              "#9c179e"
             ],
             [
              0.4444444444444444,
              "#bd3786"
             ],
             [
              0.5555555555555556,
              "#d8576b"
             ],
             [
              0.6666666666666666,
              "#ed7953"
             ],
             [
              0.7777777777777778,
              "#fb9f3a"
             ],
             [
              0.8888888888888888,
              "#fdca26"
             ],
             [
              1,
              "#f0f921"
             ]
            ],
            "type": "surface"
           }
          ],
          "table": [
           {
            "cells": {
             "fill": {
              "color": "#EBF0F8"
             },
             "line": {
              "color": "white"
             }
            },
            "header": {
             "fill": {
              "color": "#C8D4E3"
             },
             "line": {
              "color": "white"
             }
            },
            "type": "table"
           }
          ]
         },
         "layout": {
          "annotationdefaults": {
           "arrowcolor": "#2a3f5f",
           "arrowhead": 0,
           "arrowwidth": 1
          },
          "autotypenumbers": "strict",
          "coloraxis": {
           "colorbar": {
            "outlinewidth": 0,
            "ticks": ""
           }
          },
          "colorscale": {
           "diverging": [
            [
             0,
             "#8e0152"
            ],
            [
             0.1,
             "#c51b7d"
            ],
            [
             0.2,
             "#de77ae"
            ],
            [
             0.3,
             "#f1b6da"
            ],
            [
             0.4,
             "#fde0ef"
            ],
            [
             0.5,
             "#f7f7f7"
            ],
            [
             0.6,
             "#e6f5d0"
            ],
            [
             0.7,
             "#b8e186"
            ],
            [
             0.8,
             "#7fbc41"
            ],
            [
             0.9,
             "#4d9221"
            ],
            [
             1,
             "#276419"
            ]
           ],
           "sequential": [
            [
             0,
             "#0d0887"
            ],
            [
             0.1111111111111111,
             "#46039f"
            ],
            [
             0.2222222222222222,
             "#7201a8"
            ],
            [
             0.3333333333333333,
             "#9c179e"
            ],
            [
             0.4444444444444444,
             "#bd3786"
            ],
            [
             0.5555555555555556,
             "#d8576b"
            ],
            [
             0.6666666666666666,
             "#ed7953"
            ],
            [
             0.7777777777777778,
             "#fb9f3a"
            ],
            [
             0.8888888888888888,
             "#fdca26"
            ],
            [
             1,
             "#f0f921"
            ]
           ],
           "sequentialminus": [
            [
             0,
             "#0d0887"
            ],
            [
             0.1111111111111111,
             "#46039f"
            ],
            [
             0.2222222222222222,
             "#7201a8"
            ],
            [
             0.3333333333333333,
             "#9c179e"
            ],
            [
             0.4444444444444444,
             "#bd3786"
            ],
            [
             0.5555555555555556,
             "#d8576b"
            ],
            [
             0.6666666666666666,
             "#ed7953"
            ],
            [
             0.7777777777777778,
             "#fb9f3a"
            ],
            [
             0.8888888888888888,
             "#fdca26"
            ],
            [
             1,
             "#f0f921"
            ]
           ]
          },
          "colorway": [
           "#636efa",
           "#EF553B",
           "#00cc96",
           "#ab63fa",
           "#FFA15A",
           "#19d3f3",
           "#FF6692",
           "#B6E880",
           "#FF97FF",
           "#FECB52"
          ],
          "font": {
           "color": "#2a3f5f"
          },
          "geo": {
           "bgcolor": "white",
           "lakecolor": "white",
           "landcolor": "#E5ECF6",
           "showlakes": true,
           "showland": true,
           "subunitcolor": "white"
          },
          "hoverlabel": {
           "align": "left"
          },
          "hovermode": "closest",
          "mapbox": {
           "style": "light"
          },
          "paper_bgcolor": "white",
          "plot_bgcolor": "#E5ECF6",
          "polar": {
           "angularaxis": {
            "gridcolor": "white",
            "linecolor": "white",
            "ticks": ""
           },
           "bgcolor": "#E5ECF6",
           "radialaxis": {
            "gridcolor": "white",
            "linecolor": "white",
            "ticks": ""
           }
          },
          "scene": {
           "xaxis": {
            "backgroundcolor": "#E5ECF6",
            "gridcolor": "white",
            "gridwidth": 2,
            "linecolor": "white",
            "showbackground": true,
            "ticks": "",
            "zerolinecolor": "white"
           },
           "yaxis": {
            "backgroundcolor": "#E5ECF6",
            "gridcolor": "white",
            "gridwidth": 2,
            "linecolor": "white",
            "showbackground": true,
            "ticks": "",
            "zerolinecolor": "white"
           },
           "zaxis": {
            "backgroundcolor": "#E5ECF6",
            "gridcolor": "white",
            "gridwidth": 2,
            "linecolor": "white",
            "showbackground": true,
            "ticks": "",
            "zerolinecolor": "white"
           }
          },
          "shapedefaults": {
           "line": {
            "color": "#2a3f5f"
           }
          },
          "ternary": {
           "aaxis": {
            "gridcolor": "white",
            "linecolor": "white",
            "ticks": ""
           },
           "baxis": {
            "gridcolor": "white",
            "linecolor": "white",
            "ticks": ""
           },
           "bgcolor": "#E5ECF6",
           "caxis": {
            "gridcolor": "white",
            "linecolor": "white",
            "ticks": ""
           }
          },
          "title": {
           "x": 0.05
          },
          "xaxis": {
           "automargin": true,
           "gridcolor": "white",
           "linecolor": "white",
           "ticks": "",
           "title": {
            "standoff": 15
           },
           "zerolinecolor": "white",
           "zerolinewidth": 2
          },
          "yaxis": {
           "automargin": true,
           "gridcolor": "white",
           "linecolor": "white",
           "ticks": "",
           "title": {
            "standoff": 15
           },
           "zerolinecolor": "white",
           "zerolinewidth": 2
          }
         }
        },
        "title": {
         "text": "Distribution of Implied Temperature Rise (ITR)<br><i>by net0tracker.org</i>",
         "x": 0.5
        },
        "width": 800,
        "xaxis": {
         "anchor": "y",
         "domain": [
          0,
          1
         ],
         "showgrid": false,
         "title": {
          "text": "MSCi Temperature (in °C)"
         }
        },
        "xaxis2": {
         "anchor": "y2",
         "domain": [
          0,
          1
         ],
         "matches": "x",
         "showgrid": true,
         "showticklabels": false
        },
        "yaxis": {
         "anchor": "x",
         "domain": [
          0,
          0.8316
         ],
         "title": {
          "text": "Number of S&P100 companies"
         }
        },
        "yaxis2": {
         "anchor": "x2",
         "domain": [
          0.8416,
          1
         ],
         "matches": "y2",
         "showgrid": false,
         "showline": false,
         "showticklabels": false,
         "ticks": ""
        }
       }
      },
      "text/html": [
       "<div>                            <div id=\"3b8d7259-570d-47d0-8adf-1ec3461def3e\" class=\"plotly-graph-div\" style=\"height:600px; width:800px;\"></div>            <script type=\"text/javascript\">                require([\"plotly\"], function(Plotly) {                    window.PLOTLYENV=window.PLOTLYENV || {};                                    if (document.getElementById(\"3b8d7259-570d-47d0-8adf-1ec3461def3e\")) {                    Plotly.newPlot(                        \"3b8d7259-570d-47d0-8adf-1ec3461def3e\",                        [{\"alignmentgroup\": \"True\", \"bingroup\": \"x\", \"cumulative\": {\"enabled\": false}, \"hovertemplate\": \"MSCi Temperature (in \\u00b0C)=%{x}<br>count=%{y}<extra></extra>\", \"legendgroup\": \"\", \"marker\": {\"color\": \"red\"}, \"name\": \"\", \"nbinsx\": 25, \"offsetgroup\": \"\", \"orientation\": \"v\", \"showlegend\": false, \"type\": \"histogram\", \"x\": [1.73, 2.67, 1.61, 1.3, 1.43, 1.45, 1.52, 2.26, 1.45, 1.37, 2.04, 2.04, 2.06, 1.58, 2.05, 2.25, 1.3, 1.5, 2.08, 3.6, 1.65, 1.76, 4, 1.7, 4, 1.31, 2.5, 2.33, 2.11, 1.55, 4, 2.25, 1.55, 2.05, 4, 2.36, 2.88, 1.71, 2.57, 2.03, 4, 1.65, 1.87, 4, 3.32, 4, 4, 1.59, 1.65, 1.81, 2.43, 1.64, 2.16, 1.81, 1.77, 3.8, 2.06, 1.93, 1.44, 1.73, 2.96, 1.69, 1.36, 1.58, 2.89, 1.68, 1.78, 3.61, 2.42, 2.11, 1.55, 1.43, 2.43, 1.71, 1.5, 2.01, 2, 2.47, 1.3, 3.21, 1.61, 4, 1.92, 1.86, 2.45, 1.51, 1.7, 2.17, 2.67, 1.87, 1.8, 1.52, 1.44, 1.6, 1.68, 2.06, 2.81, 1.97, 1.41, 4], \"xaxis\": \"x\", \"xbins\": {\"end\": 4.5, \"size\": 0.1, \"start\": 1.21}, \"yaxis\": \"y\"}, {\"alignmentgroup\": \"True\", \"boxpoints\": \"all\", \"fillcolor\": \"rgba(255,255,255,0)\", \"hoveron\": \"points\", \"hovertemplate\": \"<b>%{hovertext}</b><br><br>MSCi Temperature (in \\u00b0C)=%{x}<extra></extra>\", \"hovertext\": [\"3M\", \"Abbott Laboratories\", \"AbbVie Inc.\", \"Accenture\", \"Adobe Inc.\", \"Alphabet Inc. Google\", \"Altria Group Inc\", \"Amazon.com Inc.\", \"American Express\", \"American International Group (AIG)\", \"American Tower\", \"Amgen Inc.\", \"Apple Inc.\", \"AT&T Inc.\", \"Bank of America\", \"Berkshire Hathaway Inc.\", \"Biogen Inc.\", \"BlackRock Inc.\", \"Boeing\", \"Booking Holdings Inc.\", \"Bristol Myers Squibb\", \"Capital One Financial\", \"Caterpillar Inc.\", \"Charter Communications Inc.\", \"Chevron\", \"Cisco Systems\", \"Citigroup Inc.\", \"Coca-Cola\", \"Colgate-Palmolive\", \"Comcast\", \"ConocoPhillips\", \"Costco\", \"CVS Health\", \"Danaher\", \"Dow Inc.\", \"Duke Energy\", \"DuPont\", \"Eli Lilly\", \"Emerson Electric\", \"Exelon\", \"Exxon Mobil\", \"Facebook, Inc.\", \"FedEx\", \"Ford Motor Company\", \"General Dynamics\", \"General Electric\", \"General Motors\", \"Gilead Sciences Inc.\", \"Goldman Sachs Group\", \"Home Depot\", \"Honeywell Inc.\", \"IBM Corp.\", \"Intel Corp.\", \"Johnson & Johnson\", \"JPMorgan Chase & Co.\", \"Kraft Heinz Co\", \"Lockheed Martin Corp.\", \"Lowe's Companies, Inc.\", \"MasterCard Inc.\", \"McDonald's Corp.\", \"Medtronic\", \"Merck & Co.\", \"MetLife Inc.\", \"Microsoft Corp.\", \"Mondelez International\", \"Morgan Stanley\", \"Netflix Inc.\", \"Nextera Energy Inc.\", \"Nike Inc.\", \"Nvidia\", \"Oracle\", \"PayPal\", \"PepsiCo Inc.\", \"Pfizer Inc.\", \"Philip Morris International\", \"Procter & Gamble\", \"QUALCOMM Inc.\", \"Raytheon Technologies\", \"Salesforce\", \"Schlumberger Ltd.\", \"Simon Property Group Inc.\", \"Southern Company\", \"Starbucks Corp.\", \"Target Corp.\", \"Texas Instruments\", \"The Bank of New York Mellon\", \"The Walt Disney Company\", \"Thermo Fisher Scientific\", \"Union Pacific Corp\", \"United Parcel Service\", \"US Bancorp\", \"Verizon Communications\", \"Visa Inc.\", \"Walgreens Boots Alliance\", \"Walmart\", \"Wells Fargo\", \"Tesla\", \"Broadcom\", \"T-Mobile (ex T-Mobile US)\", \"Linde plc\"], \"jitter\": 0, \"legendgroup\": \"\", \"line\": {\"color\": \"rgba(255,255,255,0)\"}, \"marker\": {\"color\": \"red\", \"symbol\": \"line-ns-open\"}, \"name\": \"\", \"offsetgroup\": \"\", \"showlegend\": false, \"type\": \"box\", \"x\": [1.73, 2.67, 1.61, 1.3, 1.43, 1.45, 1.52, 2.26, 1.45, 1.37, 2.04, 2.04, 2.06, 1.58, 2.05, 2.25, 1.3, 1.5, 2.08, 3.6, 1.65, 1.76, 4, 1.7, 4, 1.31, 2.5, 2.33, 2.11, 1.55, 4, 2.25, 1.55, 2.05, 4, 2.36, 2.88, 1.71, 2.57, 2.03, 4, 1.65, 1.87, 4, 3.32, 4, 4, 1.59, 1.65, 1.81, 2.43, 1.64, 2.16, 1.81, 1.77, 3.8, 2.06, 1.93, 1.44, 1.73, 2.96, 1.69, 1.36, 1.58, 2.89, 1.68, 1.78, 3.61, 2.42, 2.11, 1.55, 1.43, 2.43, 1.71, 1.5, 2.01, 2, 2.47, 1.3, 3.21, 1.61, 4, 1.92, 1.86, 2.45, 1.51, 1.7, 2.17, 2.67, 1.87, 1.8, 1.52, 1.44, 1.6, 1.68, 2.06, 2.81, 1.97, 1.41, 4], \"xaxis\": \"x2\", \"yaxis\": \"y2\"}],                        {\"barmode\": \"relative\", \"height\": 600, \"hovermode\": \"closest\", \"legend\": {\"tracegroupgap\": 0}, \"margin\": {\"b\": 50, \"l\": 140, \"r\": 40, \"t\": 80}, \"paper_bgcolor\": \"white\", \"plot_bgcolor\": \"white\", \"template\": {\"data\": {\"bar\": [{\"error_x\": {\"color\": \"#2a3f5f\"}, \"error_y\": {\"color\": \"#2a3f5f\"}, \"marker\": {\"line\": {\"color\": \"#E5ECF6\", \"width\": 0.5}}, \"type\": \"bar\"}], \"barpolar\": [{\"marker\": {\"line\": {\"color\": \"#E5ECF6\", \"width\": 0.5}}, \"type\": \"barpolar\"}], \"carpet\": [{\"aaxis\": {\"endlinecolor\": \"#2a3f5f\", \"gridcolor\": \"white\", \"linecolor\": \"white\", \"minorgridcolor\": \"white\", \"startlinecolor\": \"#2a3f5f\"}, \"baxis\": {\"endlinecolor\": \"#2a3f5f\", \"gridcolor\": \"white\", \"linecolor\": \"white\", \"minorgridcolor\": \"white\", \"startlinecolor\": \"#2a3f5f\"}, \"type\": \"carpet\"}], \"choropleth\": [{\"colorbar\": {\"outlinewidth\": 0, \"ticks\": \"\"}, \"type\": \"choropleth\"}], \"contour\": [{\"colorbar\": {\"outlinewidth\": 0, \"ticks\": \"\"}, \"colorscale\": [[0.0, \"#0d0887\"], [0.1111111111111111, \"#46039f\"], [0.2222222222222222, \"#7201a8\"], [0.3333333333333333, \"#9c179e\"], [0.4444444444444444, \"#bd3786\"], [0.5555555555555556, \"#d8576b\"], [0.6666666666666666, \"#ed7953\"], [0.7777777777777778, \"#fb9f3a\"], [0.8888888888888888, \"#fdca26\"], [1.0, \"#f0f921\"]], \"type\": \"contour\"}], \"contourcarpet\": [{\"colorbar\": {\"outlinewidth\": 0, \"ticks\": \"\"}, \"type\": \"contourcarpet\"}], \"heatmap\": [{\"colorbar\": {\"outlinewidth\": 0, \"ticks\": \"\"}, \"colorscale\": [[0.0, \"#0d0887\"], [0.1111111111111111, \"#46039f\"], [0.2222222222222222, \"#7201a8\"], [0.3333333333333333, \"#9c179e\"], [0.4444444444444444, \"#bd3786\"], [0.5555555555555556, \"#d8576b\"], [0.6666666666666666, \"#ed7953\"], [0.7777777777777778, \"#fb9f3a\"], [0.8888888888888888, \"#fdca26\"], [1.0, \"#f0f921\"]], \"type\": \"heatmap\"}], \"heatmapgl\": [{\"colorbar\": {\"outlinewidth\": 0, \"ticks\": \"\"}, \"colorscale\": [[0.0, \"#0d0887\"], [0.1111111111111111, \"#46039f\"], [0.2222222222222222, \"#7201a8\"], [0.3333333333333333, \"#9c179e\"], [0.4444444444444444, \"#bd3786\"], [0.5555555555555556, \"#d8576b\"], [0.6666666666666666, \"#ed7953\"], [0.7777777777777778, \"#fb9f3a\"], [0.8888888888888888, \"#fdca26\"], [1.0, \"#f0f921\"]], \"type\": \"heatmapgl\"}], \"histogram\": [{\"marker\": {\"colorbar\": {\"outlinewidth\": 0, \"ticks\": \"\"}}, \"type\": \"histogram\"}], \"histogram2d\": [{\"colorbar\": {\"outlinewidth\": 0, \"ticks\": \"\"}, \"colorscale\": [[0.0, \"#0d0887\"], [0.1111111111111111, \"#46039f\"], [0.2222222222222222, \"#7201a8\"], [0.3333333333333333, \"#9c179e\"], [0.4444444444444444, \"#bd3786\"], [0.5555555555555556, \"#d8576b\"], [0.6666666666666666, \"#ed7953\"], [0.7777777777777778, \"#fb9f3a\"], [0.8888888888888888, \"#fdca26\"], [1.0, \"#f0f921\"]], \"type\": \"histogram2d\"}], \"histogram2dcontour\": [{\"colorbar\": {\"outlinewidth\": 0, \"ticks\": \"\"}, \"colorscale\": [[0.0, \"#0d0887\"], [0.1111111111111111, \"#46039f\"], [0.2222222222222222, \"#7201a8\"], [0.3333333333333333, \"#9c179e\"], [0.4444444444444444, \"#bd3786\"], [0.5555555555555556, \"#d8576b\"], [0.6666666666666666, \"#ed7953\"], [0.7777777777777778, \"#fb9f3a\"], [0.8888888888888888, \"#fdca26\"], [1.0, \"#f0f921\"]], \"type\": \"histogram2dcontour\"}], \"mesh3d\": [{\"colorbar\": {\"outlinewidth\": 0, \"ticks\": \"\"}, \"type\": \"mesh3d\"}], \"parcoords\": [{\"line\": {\"colorbar\": {\"outlinewidth\": 0, \"ticks\": \"\"}}, \"type\": \"parcoords\"}], \"pie\": [{\"automargin\": true, \"type\": \"pie\"}], \"scatter\": [{\"marker\": {\"colorbar\": {\"outlinewidth\": 0, \"ticks\": \"\"}}, \"type\": \"scatter\"}], \"scatter3d\": [{\"line\": {\"colorbar\": {\"outlinewidth\": 0, \"ticks\": \"\"}}, \"marker\": {\"colorbar\": {\"outlinewidth\": 0, \"ticks\": \"\"}}, \"type\": \"scatter3d\"}], \"scattercarpet\": [{\"marker\": {\"colorbar\": {\"outlinewidth\": 0, \"ticks\": \"\"}}, \"type\": \"scattercarpet\"}], \"scattergeo\": [{\"marker\": {\"colorbar\": {\"outlinewidth\": 0, \"ticks\": \"\"}}, \"type\": \"scattergeo\"}], \"scattergl\": [{\"marker\": {\"colorbar\": {\"outlinewidth\": 0, \"ticks\": \"\"}}, \"type\": \"scattergl\"}], \"scattermapbox\": [{\"marker\": {\"colorbar\": {\"outlinewidth\": 0, \"ticks\": \"\"}}, \"type\": \"scattermapbox\"}], \"scatterpolar\": [{\"marker\": {\"colorbar\": {\"outlinewidth\": 0, \"ticks\": \"\"}}, \"type\": \"scatterpolar\"}], \"scatterpolargl\": [{\"marker\": {\"colorbar\": {\"outlinewidth\": 0, \"ticks\": \"\"}}, \"type\": \"scatterpolargl\"}], \"scatterternary\": [{\"marker\": {\"colorbar\": {\"outlinewidth\": 0, \"ticks\": \"\"}}, \"type\": \"scatterternary\"}], \"surface\": [{\"colorbar\": {\"outlinewidth\": 0, \"ticks\": \"\"}, \"colorscale\": [[0.0, \"#0d0887\"], [0.1111111111111111, \"#46039f\"], [0.2222222222222222, \"#7201a8\"], [0.3333333333333333, \"#9c179e\"], [0.4444444444444444, \"#bd3786\"], [0.5555555555555556, \"#d8576b\"], [0.6666666666666666, \"#ed7953\"], [0.7777777777777778, \"#fb9f3a\"], [0.8888888888888888, \"#fdca26\"], [1.0, \"#f0f921\"]], \"type\": \"surface\"}], \"table\": [{\"cells\": {\"fill\": {\"color\": \"#EBF0F8\"}, \"line\": {\"color\": \"white\"}}, \"header\": {\"fill\": {\"color\": \"#C8D4E3\"}, \"line\": {\"color\": \"white\"}}, \"type\": \"table\"}]}, \"layout\": {\"annotationdefaults\": {\"arrowcolor\": \"#2a3f5f\", \"arrowhead\": 0, \"arrowwidth\": 1}, \"autotypenumbers\": \"strict\", \"coloraxis\": {\"colorbar\": {\"outlinewidth\": 0, \"ticks\": \"\"}}, \"colorscale\": {\"diverging\": [[0, \"#8e0152\"], [0.1, \"#c51b7d\"], [0.2, \"#de77ae\"], [0.3, \"#f1b6da\"], [0.4, \"#fde0ef\"], [0.5, \"#f7f7f7\"], [0.6, \"#e6f5d0\"], [0.7, \"#b8e186\"], [0.8, \"#7fbc41\"], [0.9, \"#4d9221\"], [1, \"#276419\"]], \"sequential\": [[0.0, \"#0d0887\"], [0.1111111111111111, \"#46039f\"], [0.2222222222222222, \"#7201a8\"], [0.3333333333333333, \"#9c179e\"], [0.4444444444444444, \"#bd3786\"], [0.5555555555555556, \"#d8576b\"], [0.6666666666666666, \"#ed7953\"], [0.7777777777777778, \"#fb9f3a\"], [0.8888888888888888, \"#fdca26\"], [1.0, \"#f0f921\"]], \"sequentialminus\": [[0.0, \"#0d0887\"], [0.1111111111111111, \"#46039f\"], [0.2222222222222222, \"#7201a8\"], [0.3333333333333333, \"#9c179e\"], [0.4444444444444444, \"#bd3786\"], [0.5555555555555556, \"#d8576b\"], [0.6666666666666666, \"#ed7953\"], [0.7777777777777778, \"#fb9f3a\"], [0.8888888888888888, \"#fdca26\"], [1.0, \"#f0f921\"]]}, \"colorway\": [\"#636efa\", \"#EF553B\", \"#00cc96\", \"#ab63fa\", \"#FFA15A\", \"#19d3f3\", \"#FF6692\", \"#B6E880\", \"#FF97FF\", \"#FECB52\"], \"font\": {\"color\": \"#2a3f5f\"}, \"geo\": {\"bgcolor\": \"white\", \"lakecolor\": \"white\", \"landcolor\": \"#E5ECF6\", \"showlakes\": true, \"showland\": true, \"subunitcolor\": \"white\"}, \"hoverlabel\": {\"align\": \"left\"}, \"hovermode\": \"closest\", \"mapbox\": {\"style\": \"light\"}, \"paper_bgcolor\": \"white\", \"plot_bgcolor\": \"#E5ECF6\", \"polar\": {\"angularaxis\": {\"gridcolor\": \"white\", \"linecolor\": \"white\", \"ticks\": \"\"}, \"bgcolor\": \"#E5ECF6\", \"radialaxis\": {\"gridcolor\": \"white\", \"linecolor\": \"white\", \"ticks\": \"\"}}, \"scene\": {\"xaxis\": {\"backgroundcolor\": \"#E5ECF6\", \"gridcolor\": \"white\", \"gridwidth\": 2, \"linecolor\": \"white\", \"showbackground\": true, \"ticks\": \"\", \"zerolinecolor\": \"white\"}, \"yaxis\": {\"backgroundcolor\": \"#E5ECF6\", \"gridcolor\": \"white\", \"gridwidth\": 2, \"linecolor\": \"white\", \"showbackground\": true, \"ticks\": \"\", \"zerolinecolor\": \"white\"}, \"zaxis\": {\"backgroundcolor\": \"#E5ECF6\", \"gridcolor\": \"white\", \"gridwidth\": 2, \"linecolor\": \"white\", \"showbackground\": true, \"ticks\": \"\", \"zerolinecolor\": \"white\"}}, \"shapedefaults\": {\"line\": {\"color\": \"#2a3f5f\"}}, \"ternary\": {\"aaxis\": {\"gridcolor\": \"white\", \"linecolor\": \"white\", \"ticks\": \"\"}, \"baxis\": {\"gridcolor\": \"white\", \"linecolor\": \"white\", \"ticks\": \"\"}, \"bgcolor\": \"#E5ECF6\", \"caxis\": {\"gridcolor\": \"white\", \"linecolor\": \"white\", \"ticks\": \"\"}}, \"title\": {\"x\": 0.05}, \"xaxis\": {\"automargin\": true, \"gridcolor\": \"white\", \"linecolor\": \"white\", \"ticks\": \"\", \"title\": {\"standoff\": 15}, \"zerolinecolor\": \"white\", \"zerolinewidth\": 2}, \"yaxis\": {\"automargin\": true, \"gridcolor\": \"white\", \"linecolor\": \"white\", \"ticks\": \"\", \"title\": {\"standoff\": 15}, \"zerolinecolor\": \"white\", \"zerolinewidth\": 2}}}, \"title\": {\"text\": \"Distribution of Implied Temperature Rise (ITR)<br><i>by net0tracker.org</i>\", \"x\": 0.5}, \"width\": 800, \"xaxis\": {\"anchor\": \"y\", \"domain\": [0.0, 1.0], \"showgrid\": false, \"title\": {\"text\": \"MSCi Temperature (in \\u00b0C)\"}}, \"xaxis2\": {\"anchor\": \"y2\", \"domain\": [0.0, 1.0], \"matches\": \"x\", \"showgrid\": true, \"showticklabels\": false}, \"yaxis\": {\"anchor\": \"x\", \"domain\": [0.0, 0.8316], \"title\": {\"text\": \"Number of S&P100 companies\"}}, \"yaxis2\": {\"anchor\": \"x2\", \"domain\": [0.8416, 1.0], \"matches\": \"y2\", \"showgrid\": false, \"showline\": false, \"showticklabels\": false, \"ticks\": \"\"}},                        {\"responsive\": true}                    ).then(function(){\n",
       "                            \n",
       "var gd = document.getElementById('3b8d7259-570d-47d0-8adf-1ec3461def3e');\n",
       "var x = new MutationObserver(function (mutations, observer) {{\n",
       "        var display = window.getComputedStyle(gd).display;\n",
       "        if (!display || display === 'none') {{\n",
       "            console.log([gd, 'removed!']);\n",
       "            Plotly.purge(gd);\n",
       "            observer.disconnect();\n",
       "        }}\n",
       "}});\n",
       "\n",
       "// Listen for the removal of the full notebook cells\n",
       "var notebookContainer = gd.closest('#notebook-container');\n",
       "if (notebookContainer) {{\n",
       "    x.observe(notebookContainer, {childList: true});\n",
       "}}\n",
       "\n",
       "// Listen for the clearing of the current output cell\n",
       "var outputEl = gd.closest('.output');\n",
       "if (outputEl) {{\n",
       "    x.observe(outputEl, {childList: true});\n",
       "}}\n",
       "\n",
       "                        })                };                });            </script>        </div>"
      ]
     },
     "metadata": {},
     "output_type": "display_data"
    }
   ],
   "source": [
    "import plotly.express as px\n",
    "df = merged_df\n",
    "fig = px.histogram(\n",
    "    df,\n",
    "    x=\"msci_itr\",\n",
    "    marginal=\"rug\",\n",
    "    hover_name=\"company_name\",\n",
    "    title=\"Distribution of Implied Temperature Rise (ITR)<br><i>by net0tracker.org</i>\",\n",
    "    labels = {'msci_itr':'MSCi Temperature (in °C)'},\n",
    "    color_discrete_sequence=['red'],\n",
    "    cumulative=False,\n",
    "    nbins = 25\n",
    "    )\n",
    "\n",
    "fig.update_traces(\n",
    "    xbins=dict(\n",
    "        start=1.21,\n",
    "        end=4.5,\n",
    "        size=0.10),\n",
    "    selector = dict(type = 'histogram')\n",
    "    )\n",
    "fig.update_layout(\n",
    "    title_x=0.5,\n",
    "    yaxis_title = \"Number of S&P100 companies\",\n",
    "    xaxis=dict(\n",
    "        showgrid=False,\n",
    "        #showline=True,\n",
    "        #linecolor='rgb(102, 102, 102)',\n",
    "        #tickfont_color='rgb(102, 102, 102)',\n",
    "        #showticklabels=True,\n",
    "        #dtick=10,\n",
    "        #ticks='outside',\n",
    "        #tickcolor='rgb(102, 102, 102)',\n",
    "    ),\n",
    "    margin=dict(l=140, r=40, b=50, t=80),\n",
    "    width=800,\n",
    "    height=600,\n",
    "    paper_bgcolor='white',\n",
    "    plot_bgcolor='white',\n",
    "    hovermode='closest',\n",
    ")\n",
    "\n",
    "fig.show()"
   ]
  },
  {
   "cell_type": "code",
   "execution_count": 10,
   "metadata": {},
   "outputs": [],
   "source": [
    "save_chart(fig,'itr_scores_dist')"
   ]
  },
  {
   "cell_type": "code",
   "execution_count": 20,
   "metadata": {},
   "outputs": [],
   "source": [
    "df = merged_df\n",
    "df['2021 CDP Score'] = df['cdp_score']\n",
    "df['2020 CDP Score'] = df['prev_cdp_score']"
   ]
  },
  {
   "cell_type": "code",
   "execution_count": 22,
   "metadata": {},
   "outputs": [
    {
     "data": {
      "application/vnd.plotly.v1+json": {
       "config": {
        "plotlyServerURL": "https://plot.ly"
       },
       "data": [
        {
         "alignmentgroup": "True",
         "bingroup": "x",
         "cumulative": {
          "enabled": false
         },
         "hovertemplate": "variable=2020 CDP Score<br>value=%{x}<br>count=%{y}<extra></extra>",
         "legendgroup": "2020 CDP Score",
         "marker": {
          "color": "orange"
         },
         "name": "2020 CDP Score",
         "offsetgroup": "2020 CDP Score",
         "orientation": "v",
         "showlegend": true,
         "type": "histogram",
         "x": [
          "B",
          "B",
          "B",
          "A",
          "A",
          "A",
          "A",
          "F",
          "A-",
          "C",
          "D",
          "B",
          "A",
          "A-",
          "A",
          "F",
          "B",
          "B",
          "A-",
          "F",
          "A-",
          "B-",
          "F",
          "F",
          "F",
          "A",
          "A-",
          "A-",
          "A",
          "C",
          "B",
          "D",
          "A",
          "D-",
          "B",
          "A-",
          "A-",
          "B",
          "C",
          "A-",
          "F",
          "F",
          "B",
          "A",
          "D",
          "D",
          "A",
          "A-",
          "A",
          "A-",
          "B",
          "A-",
          "A-",
          "A",
          "A-",
          "B-",
          "A",
          "A-",
          "B",
          "C",
          "B",
          "B",
          "B",
          "A",
          "B",
          "A",
          "F",
          "F",
          "A-",
          "A-",
          "A-",
          "C",
          "A",
          "B",
          "A",
          "B",
          "B",
          "F",
          "A",
          "A-",
          "A",
          "A-",
          "D",
          "C",
          "C",
          "A",
          "B-",
          "B-",
          "A-",
          "B",
          "A",
          "C",
          "A-",
          "B",
          "A",
          "A-",
          "F",
          "F",
          "A",
          "A-"
         ],
         "xaxis": "x",
         "yaxis": "y"
        },
        {
         "alignmentgroup": "True",
         "bingroup": "x",
         "cumulative": {
          "enabled": false
         },
         "hovertemplate": "variable=2021 CDP Score<br>value=%{x}<br>count=%{y}<extra></extra>",
         "legendgroup": "2021 CDP Score",
         "marker": {
          "color": "red"
         },
         "name": "2021 CDP Score",
         "offsetgroup": "2021 CDP Score",
         "orientation": "v",
         "showlegend": true,
         "type": "histogram",
         "x": [
          "B",
          "B",
          "B",
          "A-",
          "A-",
          "A-",
          "A",
          "F",
          "A-",
          "C",
          "B",
          "B",
          "A-",
          "A-",
          "A-",
          "F",
          "B",
          "A-",
          "B",
          "F",
          "A-",
          "B-",
          "F",
          "F",
          "F",
          "A-",
          "A-",
          "A-",
          "A",
          "B",
          "B",
          "D",
          "A",
          "D",
          "A-",
          "A-",
          "B",
          "B",
          "B-",
          "A-",
          "F",
          "F",
          "B",
          "A",
          "B",
          "C",
          "A-",
          "B",
          "A-",
          "A-",
          "B",
          "B",
          "A",
          "A-",
          "F",
          "B",
          "B",
          "B",
          "B",
          "C",
          "B",
          "B",
          "B",
          "A",
          "B",
          "A-",
          "C",
          "A-",
          "A-",
          "B",
          "B",
          "A-",
          "A-",
          "B",
          "A",
          "A-",
          "B",
          "A-",
          "A",
          "B",
          "A",
          "A-",
          "B",
          "B",
          "C",
          "A",
          "B",
          "C",
          "B",
          "B",
          "A-",
          "B",
          "A",
          "B-",
          "A-",
          "A-",
          "F",
          "F",
          "A-",
          "A-"
         ],
         "xaxis": "x",
         "yaxis": "y"
        }
       ],
       "layout": {
        "barmode": "group",
        "height": 600,
        "hovermode": "closest",
        "legend": {
         "title": {
          "text": "CDP Scores"
         },
         "tracegroupgap": 0
        },
        "margin": {
         "b": 50,
         "l": 140,
         "r": 40,
         "t": 80
        },
        "paper_bgcolor": "white",
        "plot_bgcolor": "white",
        "template": {
         "data": {
          "bar": [
           {
            "error_x": {
             "color": "#2a3f5f"
            },
            "error_y": {
             "color": "#2a3f5f"
            },
            "marker": {
             "line": {
              "color": "#E5ECF6",
              "width": 0.5
             }
            },
            "type": "bar"
           }
          ],
          "barpolar": [
           {
            "marker": {
             "line": {
              "color": "#E5ECF6",
              "width": 0.5
             }
            },
            "type": "barpolar"
           }
          ],
          "carpet": [
           {
            "aaxis": {
             "endlinecolor": "#2a3f5f",
             "gridcolor": "white",
             "linecolor": "white",
             "minorgridcolor": "white",
             "startlinecolor": "#2a3f5f"
            },
            "baxis": {
             "endlinecolor": "#2a3f5f",
             "gridcolor": "white",
             "linecolor": "white",
             "minorgridcolor": "white",
             "startlinecolor": "#2a3f5f"
            },
            "type": "carpet"
           }
          ],
          "choropleth": [
           {
            "colorbar": {
             "outlinewidth": 0,
             "ticks": ""
            },
            "type": "choropleth"
           }
          ],
          "contour": [
           {
            "colorbar": {
             "outlinewidth": 0,
             "ticks": ""
            },
            "colorscale": [
             [
              0,
              "#0d0887"
             ],
             [
              0.1111111111111111,
              "#46039f"
             ],
             [
              0.2222222222222222,
              "#7201a8"
             ],
             [
              0.3333333333333333,
              "#9c179e"
             ],
             [
              0.4444444444444444,
              "#bd3786"
             ],
             [
              0.5555555555555556,
              "#d8576b"
             ],
             [
              0.6666666666666666,
              "#ed7953"
             ],
             [
              0.7777777777777778,
              "#fb9f3a"
             ],
             [
              0.8888888888888888,
              "#fdca26"
             ],
             [
              1,
              "#f0f921"
             ]
            ],
            "type": "contour"
           }
          ],
          "contourcarpet": [
           {
            "colorbar": {
             "outlinewidth": 0,
             "ticks": ""
            },
            "type": "contourcarpet"
           }
          ],
          "heatmap": [
           {
            "colorbar": {
             "outlinewidth": 0,
             "ticks": ""
            },
            "colorscale": [
             [
              0,
              "#0d0887"
             ],
             [
              0.1111111111111111,
              "#46039f"
             ],
             [
              0.2222222222222222,
              "#7201a8"
             ],
             [
              0.3333333333333333,
              "#9c179e"
             ],
             [
              0.4444444444444444,
              "#bd3786"
             ],
             [
              0.5555555555555556,
              "#d8576b"
             ],
             [
              0.6666666666666666,
              "#ed7953"
             ],
             [
              0.7777777777777778,
              "#fb9f3a"
             ],
             [
              0.8888888888888888,
              "#fdca26"
             ],
             [
              1,
              "#f0f921"
             ]
            ],
            "type": "heatmap"
           }
          ],
          "heatmapgl": [
           {
            "colorbar": {
             "outlinewidth": 0,
             "ticks": ""
            },
            "colorscale": [
             [
              0,
              "#0d0887"
             ],
             [
              0.1111111111111111,
              "#46039f"
             ],
             [
              0.2222222222222222,
              "#7201a8"
             ],
             [
              0.3333333333333333,
              "#9c179e"
             ],
             [
              0.4444444444444444,
              "#bd3786"
             ],
             [
              0.5555555555555556,
              "#d8576b"
             ],
             [
              0.6666666666666666,
              "#ed7953"
             ],
             [
              0.7777777777777778,
              "#fb9f3a"
             ],
             [
              0.8888888888888888,
              "#fdca26"
             ],
             [
              1,
              "#f0f921"
             ]
            ],
            "type": "heatmapgl"
           }
          ],
          "histogram": [
           {
            "marker": {
             "colorbar": {
              "outlinewidth": 0,
              "ticks": ""
             }
            },
            "type": "histogram"
           }
          ],
          "histogram2d": [
           {
            "colorbar": {
             "outlinewidth": 0,
             "ticks": ""
            },
            "colorscale": [
             [
              0,
              "#0d0887"
             ],
             [
              0.1111111111111111,
              "#46039f"
             ],
             [
              0.2222222222222222,
              "#7201a8"
             ],
             [
              0.3333333333333333,
              "#9c179e"
             ],
             [
              0.4444444444444444,
              "#bd3786"
             ],
             [
              0.5555555555555556,
              "#d8576b"
             ],
             [
              0.6666666666666666,
              "#ed7953"
             ],
             [
              0.7777777777777778,
              "#fb9f3a"
             ],
             [
              0.8888888888888888,
              "#fdca26"
             ],
             [
              1,
              "#f0f921"
             ]
            ],
            "type": "histogram2d"
           }
          ],
          "histogram2dcontour": [
           {
            "colorbar": {
             "outlinewidth": 0,
             "ticks": ""
            },
            "colorscale": [
             [
              0,
              "#0d0887"
             ],
             [
              0.1111111111111111,
              "#46039f"
             ],
             [
              0.2222222222222222,
              "#7201a8"
             ],
             [
              0.3333333333333333,
              "#9c179e"
             ],
             [
              0.4444444444444444,
              "#bd3786"
             ],
             [
              0.5555555555555556,
              "#d8576b"
             ],
             [
              0.6666666666666666,
              "#ed7953"
             ],
             [
              0.7777777777777778,
              "#fb9f3a"
             ],
             [
              0.8888888888888888,
              "#fdca26"
             ],
             [
              1,
              "#f0f921"
             ]
            ],
            "type": "histogram2dcontour"
           }
          ],
          "mesh3d": [
           {
            "colorbar": {
             "outlinewidth": 0,
             "ticks": ""
            },
            "type": "mesh3d"
           }
          ],
          "parcoords": [
           {
            "line": {
             "colorbar": {
              "outlinewidth": 0,
              "ticks": ""
             }
            },
            "type": "parcoords"
           }
          ],
          "pie": [
           {
            "automargin": true,
            "type": "pie"
           }
          ],
          "scatter": [
           {
            "marker": {
             "colorbar": {
              "outlinewidth": 0,
              "ticks": ""
             }
            },
            "type": "scatter"
           }
          ],
          "scatter3d": [
           {
            "line": {
             "colorbar": {
              "outlinewidth": 0,
              "ticks": ""
             }
            },
            "marker": {
             "colorbar": {
              "outlinewidth": 0,
              "ticks": ""
             }
            },
            "type": "scatter3d"
           }
          ],
          "scattercarpet": [
           {
            "marker": {
             "colorbar": {
              "outlinewidth": 0,
              "ticks": ""
             }
            },
            "type": "scattercarpet"
           }
          ],
          "scattergeo": [
           {
            "marker": {
             "colorbar": {
              "outlinewidth": 0,
              "ticks": ""
             }
            },
            "type": "scattergeo"
           }
          ],
          "scattergl": [
           {
            "marker": {
             "colorbar": {
              "outlinewidth": 0,
              "ticks": ""
             }
            },
            "type": "scattergl"
           }
          ],
          "scattermapbox": [
           {
            "marker": {
             "colorbar": {
              "outlinewidth": 0,
              "ticks": ""
             }
            },
            "type": "scattermapbox"
           }
          ],
          "scatterpolar": [
           {
            "marker": {
             "colorbar": {
              "outlinewidth": 0,
              "ticks": ""
             }
            },
            "type": "scatterpolar"
           }
          ],
          "scatterpolargl": [
           {
            "marker": {
             "colorbar": {
              "outlinewidth": 0,
              "ticks": ""
             }
            },
            "type": "scatterpolargl"
           }
          ],
          "scatterternary": [
           {
            "marker": {
             "colorbar": {
              "outlinewidth": 0,
              "ticks": ""
             }
            },
            "type": "scatterternary"
           }
          ],
          "surface": [
           {
            "colorbar": {
             "outlinewidth": 0,
             "ticks": ""
            },
            "colorscale": [
             [
              0,
              "#0d0887"
             ],
             [
              0.1111111111111111,
              "#46039f"
             ],
             [
              0.2222222222222222,
              "#7201a8"
             ],
             [
              0.3333333333333333,
              "#9c179e"
             ],
             [
              0.4444444444444444,
              "#bd3786"
             ],
             [
              0.5555555555555556,
              "#d8576b"
             ],
             [
              0.6666666666666666,
              "#ed7953"
             ],
             [
              0.7777777777777778,
              "#fb9f3a"
             ],
             [
              0.8888888888888888,
              "#fdca26"
             ],
             [
              1,
              "#f0f921"
             ]
            ],
            "type": "surface"
           }
          ],
          "table": [
           {
            "cells": {
             "fill": {
              "color": "#EBF0F8"
             },
             "line": {
              "color": "white"
             }
            },
            "header": {
             "fill": {
              "color": "#C8D4E3"
             },
             "line": {
              "color": "white"
             }
            },
            "type": "table"
           }
          ]
         },
         "layout": {
          "annotationdefaults": {
           "arrowcolor": "#2a3f5f",
           "arrowhead": 0,
           "arrowwidth": 1
          },
          "autotypenumbers": "strict",
          "coloraxis": {
           "colorbar": {
            "outlinewidth": 0,
            "ticks": ""
           }
          },
          "colorscale": {
           "diverging": [
            [
             0,
             "#8e0152"
            ],
            [
             0.1,
             "#c51b7d"
            ],
            [
             0.2,
             "#de77ae"
            ],
            [
             0.3,
             "#f1b6da"
            ],
            [
             0.4,
             "#fde0ef"
            ],
            [
             0.5,
             "#f7f7f7"
            ],
            [
             0.6,
             "#e6f5d0"
            ],
            [
             0.7,
             "#b8e186"
            ],
            [
             0.8,
             "#7fbc41"
            ],
            [
             0.9,
             "#4d9221"
            ],
            [
             1,
             "#276419"
            ]
           ],
           "sequential": [
            [
             0,
             "#0d0887"
            ],
            [
             0.1111111111111111,
             "#46039f"
            ],
            [
             0.2222222222222222,
             "#7201a8"
            ],
            [
             0.3333333333333333,
             "#9c179e"
            ],
            [
             0.4444444444444444,
             "#bd3786"
            ],
            [
             0.5555555555555556,
             "#d8576b"
            ],
            [
             0.6666666666666666,
             "#ed7953"
            ],
            [
             0.7777777777777778,
             "#fb9f3a"
            ],
            [
             0.8888888888888888,
             "#fdca26"
            ],
            [
             1,
             "#f0f921"
            ]
           ],
           "sequentialminus": [
            [
             0,
             "#0d0887"
            ],
            [
             0.1111111111111111,
             "#46039f"
            ],
            [
             0.2222222222222222,
             "#7201a8"
            ],
            [
             0.3333333333333333,
             "#9c179e"
            ],
            [
             0.4444444444444444,
             "#bd3786"
            ],
            [
             0.5555555555555556,
             "#d8576b"
            ],
            [
             0.6666666666666666,
             "#ed7953"
            ],
            [
             0.7777777777777778,
             "#fb9f3a"
            ],
            [
             0.8888888888888888,
             "#fdca26"
            ],
            [
             1,
             "#f0f921"
            ]
           ]
          },
          "colorway": [
           "#636efa",
           "#EF553B",
           "#00cc96",
           "#ab63fa",
           "#FFA15A",
           "#19d3f3",
           "#FF6692",
           "#B6E880",
           "#FF97FF",
           "#FECB52"
          ],
          "font": {
           "color": "#2a3f5f"
          },
          "geo": {
           "bgcolor": "white",
           "lakecolor": "white",
           "landcolor": "#E5ECF6",
           "showlakes": true,
           "showland": true,
           "subunitcolor": "white"
          },
          "hoverlabel": {
           "align": "left"
          },
          "hovermode": "closest",
          "mapbox": {
           "style": "light"
          },
          "paper_bgcolor": "white",
          "plot_bgcolor": "#E5ECF6",
          "polar": {
           "angularaxis": {
            "gridcolor": "white",
            "linecolor": "white",
            "ticks": ""
           },
           "bgcolor": "#E5ECF6",
           "radialaxis": {
            "gridcolor": "white",
            "linecolor": "white",
            "ticks": ""
           }
          },
          "scene": {
           "xaxis": {
            "backgroundcolor": "#E5ECF6",
            "gridcolor": "white",
            "gridwidth": 2,
            "linecolor": "white",
            "showbackground": true,
            "ticks": "",
            "zerolinecolor": "white"
           },
           "yaxis": {
            "backgroundcolor": "#E5ECF6",
            "gridcolor": "white",
            "gridwidth": 2,
            "linecolor": "white",
            "showbackground": true,
            "ticks": "",
            "zerolinecolor": "white"
           },
           "zaxis": {
            "backgroundcolor": "#E5ECF6",
            "gridcolor": "white",
            "gridwidth": 2,
            "linecolor": "white",
            "showbackground": true,
            "ticks": "",
            "zerolinecolor": "white"
           }
          },
          "shapedefaults": {
           "line": {
            "color": "#2a3f5f"
           }
          },
          "ternary": {
           "aaxis": {
            "gridcolor": "white",
            "linecolor": "white",
            "ticks": ""
           },
           "baxis": {
            "gridcolor": "white",
            "linecolor": "white",
            "ticks": ""
           },
           "bgcolor": "#E5ECF6",
           "caxis": {
            "gridcolor": "white",
            "linecolor": "white",
            "ticks": ""
           }
          },
          "title": {
           "x": 0.05
          },
          "xaxis": {
           "automargin": true,
           "gridcolor": "white",
           "linecolor": "white",
           "ticks": "",
           "title": {
            "standoff": 15
           },
           "zerolinecolor": "white",
           "zerolinewidth": 2
          },
          "yaxis": {
           "automargin": true,
           "gridcolor": "white",
           "linecolor": "white",
           "ticks": "",
           "title": {
            "standoff": 15
           },
           "zerolinecolor": "white",
           "zerolinewidth": 2
          }
         }
        },
        "title": {
         "text": "Distribution of 2021 CDP Scores vs. 2020<br><i>by net0tracker.org</i>",
         "x": 0.5
        },
        "width": 800,
        "xaxis": {
         "anchor": "y",
         "categoryorder": "category ascending",
         "domain": [
          0,
          1
         ],
         "showgrid": false,
         "title": {
          "text": "CDP Scores"
         }
        },
        "yaxis": {
         "anchor": "x",
         "domain": [
          0,
          1
         ],
         "title": {
          "text": "Number of S&P100 companies"
         }
        }
       }
      },
      "text/html": [
       "<div>                            <div id=\"f818c804-af79-48a6-b513-3b86b567806e\" class=\"plotly-graph-div\" style=\"height:600px; width:800px;\"></div>            <script type=\"text/javascript\">                require([\"plotly\"], function(Plotly) {                    window.PLOTLYENV=window.PLOTLYENV || {};                                    if (document.getElementById(\"f818c804-af79-48a6-b513-3b86b567806e\")) {                    Plotly.newPlot(                        \"f818c804-af79-48a6-b513-3b86b567806e\",                        [{\"alignmentgroup\": \"True\", \"bingroup\": \"x\", \"cumulative\": {\"enabled\": false}, \"hovertemplate\": \"variable=2020 CDP Score<br>value=%{x}<br>count=%{y}<extra></extra>\", \"legendgroup\": \"2020 CDP Score\", \"marker\": {\"color\": \"orange\"}, \"name\": \"2020 CDP Score\", \"offsetgroup\": \"2020 CDP Score\", \"orientation\": \"v\", \"showlegend\": true, \"type\": \"histogram\", \"x\": [\"B\", \"B\", \"B\", \"A\", \"A\", \"A\", \"A\", \"F\", \"A-\", \"C\", \"D\", \"B\", \"A\", \"A-\", \"A\", \"F\", \"B\", \"B\", \"A-\", \"F\", \"A-\", \"B-\", \"F\", \"F\", \"F\", \"A\", \"A-\", \"A-\", \"A\", \"C\", \"B\", \"D\", \"A\", \"D-\", \"B\", \"A-\", \"A-\", \"B\", \"C\", \"A-\", \"F\", \"F\", \"B\", \"A\", \"D\", \"D\", \"A\", \"A-\", \"A\", \"A-\", \"B\", \"A-\", \"A-\", \"A\", \"A-\", \"B-\", \"A\", \"A-\", \"B\", \"C\", \"B\", \"B\", \"B\", \"A\", \"B\", \"A\", \"F\", \"F\", \"A-\", \"A-\", \"A-\", \"C\", \"A\", \"B\", \"A\", \"B\", \"B\", \"F\", \"A\", \"A-\", \"A\", \"A-\", \"D\", \"C\", \"C\", \"A\", \"B-\", \"B-\", \"A-\", \"B\", \"A\", \"C\", \"A-\", \"B\", \"A\", \"A-\", \"F\", \"F\", \"A\", \"A-\"], \"xaxis\": \"x\", \"yaxis\": \"y\"}, {\"alignmentgroup\": \"True\", \"bingroup\": \"x\", \"cumulative\": {\"enabled\": false}, \"hovertemplate\": \"variable=2021 CDP Score<br>value=%{x}<br>count=%{y}<extra></extra>\", \"legendgroup\": \"2021 CDP Score\", \"marker\": {\"color\": \"red\"}, \"name\": \"2021 CDP Score\", \"offsetgroup\": \"2021 CDP Score\", \"orientation\": \"v\", \"showlegend\": true, \"type\": \"histogram\", \"x\": [\"B\", \"B\", \"B\", \"A-\", \"A-\", \"A-\", \"A\", \"F\", \"A-\", \"C\", \"B\", \"B\", \"A-\", \"A-\", \"A-\", \"F\", \"B\", \"A-\", \"B\", \"F\", \"A-\", \"B-\", \"F\", \"F\", \"F\", \"A-\", \"A-\", \"A-\", \"A\", \"B\", \"B\", \"D\", \"A\", \"D\", \"A-\", \"A-\", \"B\", \"B\", \"B-\", \"A-\", \"F\", \"F\", \"B\", \"A\", \"B\", \"C\", \"A-\", \"B\", \"A-\", \"A-\", \"B\", \"B\", \"A\", \"A-\", \"F\", \"B\", \"B\", \"B\", \"B\", \"C\", \"B\", \"B\", \"B\", \"A\", \"B\", \"A-\", \"C\", \"A-\", \"A-\", \"B\", \"B\", \"A-\", \"A-\", \"B\", \"A\", \"A-\", \"B\", \"A-\", \"A\", \"B\", \"A\", \"A-\", \"B\", \"B\", \"C\", \"A\", \"B\", \"C\", \"B\", \"B\", \"A-\", \"B\", \"A\", \"B-\", \"A-\", \"A-\", \"F\", \"F\", \"A-\", \"A-\"], \"xaxis\": \"x\", \"yaxis\": \"y\"}],                        {\"barmode\": \"group\", \"height\": 600, \"hovermode\": \"closest\", \"legend\": {\"title\": {\"text\": \"CDP Scores\"}, \"tracegroupgap\": 0}, \"margin\": {\"b\": 50, \"l\": 140, \"r\": 40, \"t\": 80}, \"paper_bgcolor\": \"white\", \"plot_bgcolor\": \"white\", \"template\": {\"data\": {\"bar\": [{\"error_x\": {\"color\": \"#2a3f5f\"}, \"error_y\": {\"color\": \"#2a3f5f\"}, \"marker\": {\"line\": {\"color\": \"#E5ECF6\", \"width\": 0.5}}, \"type\": \"bar\"}], \"barpolar\": [{\"marker\": {\"line\": {\"color\": \"#E5ECF6\", \"width\": 0.5}}, \"type\": \"barpolar\"}], \"carpet\": [{\"aaxis\": {\"endlinecolor\": \"#2a3f5f\", \"gridcolor\": \"white\", \"linecolor\": \"white\", \"minorgridcolor\": \"white\", \"startlinecolor\": \"#2a3f5f\"}, \"baxis\": {\"endlinecolor\": \"#2a3f5f\", \"gridcolor\": \"white\", \"linecolor\": \"white\", \"minorgridcolor\": \"white\", \"startlinecolor\": \"#2a3f5f\"}, \"type\": \"carpet\"}], \"choropleth\": [{\"colorbar\": {\"outlinewidth\": 0, \"ticks\": \"\"}, \"type\": \"choropleth\"}], \"contour\": [{\"colorbar\": {\"outlinewidth\": 0, \"ticks\": \"\"}, \"colorscale\": [[0.0, \"#0d0887\"], [0.1111111111111111, \"#46039f\"], [0.2222222222222222, \"#7201a8\"], [0.3333333333333333, \"#9c179e\"], [0.4444444444444444, \"#bd3786\"], [0.5555555555555556, \"#d8576b\"], [0.6666666666666666, \"#ed7953\"], [0.7777777777777778, \"#fb9f3a\"], [0.8888888888888888, \"#fdca26\"], [1.0, \"#f0f921\"]], \"type\": \"contour\"}], \"contourcarpet\": [{\"colorbar\": {\"outlinewidth\": 0, \"ticks\": \"\"}, \"type\": \"contourcarpet\"}], \"heatmap\": [{\"colorbar\": {\"outlinewidth\": 0, \"ticks\": \"\"}, \"colorscale\": [[0.0, \"#0d0887\"], [0.1111111111111111, \"#46039f\"], [0.2222222222222222, \"#7201a8\"], [0.3333333333333333, \"#9c179e\"], [0.4444444444444444, \"#bd3786\"], [0.5555555555555556, \"#d8576b\"], [0.6666666666666666, \"#ed7953\"], [0.7777777777777778, \"#fb9f3a\"], [0.8888888888888888, \"#fdca26\"], [1.0, \"#f0f921\"]], \"type\": \"heatmap\"}], \"heatmapgl\": [{\"colorbar\": {\"outlinewidth\": 0, \"ticks\": \"\"}, \"colorscale\": [[0.0, \"#0d0887\"], [0.1111111111111111, \"#46039f\"], [0.2222222222222222, \"#7201a8\"], [0.3333333333333333, \"#9c179e\"], [0.4444444444444444, \"#bd3786\"], [0.5555555555555556, \"#d8576b\"], [0.6666666666666666, \"#ed7953\"], [0.7777777777777778, \"#fb9f3a\"], [0.8888888888888888, \"#fdca26\"], [1.0, \"#f0f921\"]], \"type\": \"heatmapgl\"}], \"histogram\": [{\"marker\": {\"colorbar\": {\"outlinewidth\": 0, \"ticks\": \"\"}}, \"type\": \"histogram\"}], \"histogram2d\": [{\"colorbar\": {\"outlinewidth\": 0, \"ticks\": \"\"}, \"colorscale\": [[0.0, \"#0d0887\"], [0.1111111111111111, \"#46039f\"], [0.2222222222222222, \"#7201a8\"], [0.3333333333333333, \"#9c179e\"], [0.4444444444444444, \"#bd3786\"], [0.5555555555555556, \"#d8576b\"], [0.6666666666666666, \"#ed7953\"], [0.7777777777777778, \"#fb9f3a\"], [0.8888888888888888, \"#fdca26\"], [1.0, \"#f0f921\"]], \"type\": \"histogram2d\"}], \"histogram2dcontour\": [{\"colorbar\": {\"outlinewidth\": 0, \"ticks\": \"\"}, \"colorscale\": [[0.0, \"#0d0887\"], [0.1111111111111111, \"#46039f\"], [0.2222222222222222, \"#7201a8\"], [0.3333333333333333, \"#9c179e\"], [0.4444444444444444, \"#bd3786\"], [0.5555555555555556, \"#d8576b\"], [0.6666666666666666, \"#ed7953\"], [0.7777777777777778, \"#fb9f3a\"], [0.8888888888888888, \"#fdca26\"], [1.0, \"#f0f921\"]], \"type\": \"histogram2dcontour\"}], \"mesh3d\": [{\"colorbar\": {\"outlinewidth\": 0, \"ticks\": \"\"}, \"type\": \"mesh3d\"}], \"parcoords\": [{\"line\": {\"colorbar\": {\"outlinewidth\": 0, \"ticks\": \"\"}}, \"type\": \"parcoords\"}], \"pie\": [{\"automargin\": true, \"type\": \"pie\"}], \"scatter\": [{\"marker\": {\"colorbar\": {\"outlinewidth\": 0, \"ticks\": \"\"}}, \"type\": \"scatter\"}], \"scatter3d\": [{\"line\": {\"colorbar\": {\"outlinewidth\": 0, \"ticks\": \"\"}}, \"marker\": {\"colorbar\": {\"outlinewidth\": 0, \"ticks\": \"\"}}, \"type\": \"scatter3d\"}], \"scattercarpet\": [{\"marker\": {\"colorbar\": {\"outlinewidth\": 0, \"ticks\": \"\"}}, \"type\": \"scattercarpet\"}], \"scattergeo\": [{\"marker\": {\"colorbar\": {\"outlinewidth\": 0, \"ticks\": \"\"}}, \"type\": \"scattergeo\"}], \"scattergl\": [{\"marker\": {\"colorbar\": {\"outlinewidth\": 0, \"ticks\": \"\"}}, \"type\": \"scattergl\"}], \"scattermapbox\": [{\"marker\": {\"colorbar\": {\"outlinewidth\": 0, \"ticks\": \"\"}}, \"type\": \"scattermapbox\"}], \"scatterpolar\": [{\"marker\": {\"colorbar\": {\"outlinewidth\": 0, \"ticks\": \"\"}}, \"type\": \"scatterpolar\"}], \"scatterpolargl\": [{\"marker\": {\"colorbar\": {\"outlinewidth\": 0, \"ticks\": \"\"}}, \"type\": \"scatterpolargl\"}], \"scatterternary\": [{\"marker\": {\"colorbar\": {\"outlinewidth\": 0, \"ticks\": \"\"}}, \"type\": \"scatterternary\"}], \"surface\": [{\"colorbar\": {\"outlinewidth\": 0, \"ticks\": \"\"}, \"colorscale\": [[0.0, \"#0d0887\"], [0.1111111111111111, \"#46039f\"], [0.2222222222222222, \"#7201a8\"], [0.3333333333333333, \"#9c179e\"], [0.4444444444444444, \"#bd3786\"], [0.5555555555555556, \"#d8576b\"], [0.6666666666666666, \"#ed7953\"], [0.7777777777777778, \"#fb9f3a\"], [0.8888888888888888, \"#fdca26\"], [1.0, \"#f0f921\"]], \"type\": \"surface\"}], \"table\": [{\"cells\": {\"fill\": {\"color\": \"#EBF0F8\"}, \"line\": {\"color\": \"white\"}}, \"header\": {\"fill\": {\"color\": \"#C8D4E3\"}, \"line\": {\"color\": \"white\"}}, \"type\": \"table\"}]}, \"layout\": {\"annotationdefaults\": {\"arrowcolor\": \"#2a3f5f\", \"arrowhead\": 0, \"arrowwidth\": 1}, \"autotypenumbers\": \"strict\", \"coloraxis\": {\"colorbar\": {\"outlinewidth\": 0, \"ticks\": \"\"}}, \"colorscale\": {\"diverging\": [[0, \"#8e0152\"], [0.1, \"#c51b7d\"], [0.2, \"#de77ae\"], [0.3, \"#f1b6da\"], [0.4, \"#fde0ef\"], [0.5, \"#f7f7f7\"], [0.6, \"#e6f5d0\"], [0.7, \"#b8e186\"], [0.8, \"#7fbc41\"], [0.9, \"#4d9221\"], [1, \"#276419\"]], \"sequential\": [[0.0, \"#0d0887\"], [0.1111111111111111, \"#46039f\"], [0.2222222222222222, \"#7201a8\"], [0.3333333333333333, \"#9c179e\"], [0.4444444444444444, \"#bd3786\"], [0.5555555555555556, \"#d8576b\"], [0.6666666666666666, \"#ed7953\"], [0.7777777777777778, \"#fb9f3a\"], [0.8888888888888888, \"#fdca26\"], [1.0, \"#f0f921\"]], \"sequentialminus\": [[0.0, \"#0d0887\"], [0.1111111111111111, \"#46039f\"], [0.2222222222222222, \"#7201a8\"], [0.3333333333333333, \"#9c179e\"], [0.4444444444444444, \"#bd3786\"], [0.5555555555555556, \"#d8576b\"], [0.6666666666666666, \"#ed7953\"], [0.7777777777777778, \"#fb9f3a\"], [0.8888888888888888, \"#fdca26\"], [1.0, \"#f0f921\"]]}, \"colorway\": [\"#636efa\", \"#EF553B\", \"#00cc96\", \"#ab63fa\", \"#FFA15A\", \"#19d3f3\", \"#FF6692\", \"#B6E880\", \"#FF97FF\", \"#FECB52\"], \"font\": {\"color\": \"#2a3f5f\"}, \"geo\": {\"bgcolor\": \"white\", \"lakecolor\": \"white\", \"landcolor\": \"#E5ECF6\", \"showlakes\": true, \"showland\": true, \"subunitcolor\": \"white\"}, \"hoverlabel\": {\"align\": \"left\"}, \"hovermode\": \"closest\", \"mapbox\": {\"style\": \"light\"}, \"paper_bgcolor\": \"white\", \"plot_bgcolor\": \"#E5ECF6\", \"polar\": {\"angularaxis\": {\"gridcolor\": \"white\", \"linecolor\": \"white\", \"ticks\": \"\"}, \"bgcolor\": \"#E5ECF6\", \"radialaxis\": {\"gridcolor\": \"white\", \"linecolor\": \"white\", \"ticks\": \"\"}}, \"scene\": {\"xaxis\": {\"backgroundcolor\": \"#E5ECF6\", \"gridcolor\": \"white\", \"gridwidth\": 2, \"linecolor\": \"white\", \"showbackground\": true, \"ticks\": \"\", \"zerolinecolor\": \"white\"}, \"yaxis\": {\"backgroundcolor\": \"#E5ECF6\", \"gridcolor\": \"white\", \"gridwidth\": 2, \"linecolor\": \"white\", \"showbackground\": true, \"ticks\": \"\", \"zerolinecolor\": \"white\"}, \"zaxis\": {\"backgroundcolor\": \"#E5ECF6\", \"gridcolor\": \"white\", \"gridwidth\": 2, \"linecolor\": \"white\", \"showbackground\": true, \"ticks\": \"\", \"zerolinecolor\": \"white\"}}, \"shapedefaults\": {\"line\": {\"color\": \"#2a3f5f\"}}, \"ternary\": {\"aaxis\": {\"gridcolor\": \"white\", \"linecolor\": \"white\", \"ticks\": \"\"}, \"baxis\": {\"gridcolor\": \"white\", \"linecolor\": \"white\", \"ticks\": \"\"}, \"bgcolor\": \"#E5ECF6\", \"caxis\": {\"gridcolor\": \"white\", \"linecolor\": \"white\", \"ticks\": \"\"}}, \"title\": {\"x\": 0.05}, \"xaxis\": {\"automargin\": true, \"gridcolor\": \"white\", \"linecolor\": \"white\", \"ticks\": \"\", \"title\": {\"standoff\": 15}, \"zerolinecolor\": \"white\", \"zerolinewidth\": 2}, \"yaxis\": {\"automargin\": true, \"gridcolor\": \"white\", \"linecolor\": \"white\", \"ticks\": \"\", \"title\": {\"standoff\": 15}, \"zerolinecolor\": \"white\", \"zerolinewidth\": 2}}}, \"title\": {\"text\": \"Distribution of 2021 CDP Scores vs. 2020<br><i>by net0tracker.org</i>\", \"x\": 0.5}, \"width\": 800, \"xaxis\": {\"anchor\": \"y\", \"categoryorder\": \"category ascending\", \"domain\": [0.0, 1.0], \"showgrid\": false, \"title\": {\"text\": \"CDP Scores\"}}, \"yaxis\": {\"anchor\": \"x\", \"domain\": [0.0, 1.0], \"title\": {\"text\": \"Number of S&P100 companies\"}}},                        {\"responsive\": true}                    ).then(function(){\n",
       "                            \n",
       "var gd = document.getElementById('f818c804-af79-48a6-b513-3b86b567806e');\n",
       "var x = new MutationObserver(function (mutations, observer) {{\n",
       "        var display = window.getComputedStyle(gd).display;\n",
       "        if (!display || display === 'none') {{\n",
       "            console.log([gd, 'removed!']);\n",
       "            Plotly.purge(gd);\n",
       "            observer.disconnect();\n",
       "        }}\n",
       "}});\n",
       "\n",
       "// Listen for the removal of the full notebook cells\n",
       "var notebookContainer = gd.closest('#notebook-container');\n",
       "if (notebookContainer) {{\n",
       "    x.observe(notebookContainer, {childList: true});\n",
       "}}\n",
       "\n",
       "// Listen for the clearing of the current output cell\n",
       "var outputEl = gd.closest('.output');\n",
       "if (outputEl) {{\n",
       "    x.observe(outputEl, {childList: true});\n",
       "}}\n",
       "\n",
       "                        })                };                });            </script>        </div>"
      ]
     },
     "metadata": {},
     "output_type": "display_data"
    }
   ],
   "source": [
    "import plotly.express as px\n",
    "df = merged_df\n",
    "fig = px.histogram(\n",
    "    df,\n",
    "    x=[\"2020 CDP Score\",'2021 CDP Score'],\n",
    "    hover_name=\"company_name\",\n",
    "    title=\"Distribution of 2021 CDP Scores vs. 2020<br><i>by net0tracker.org</i>\",\n",
    "    color_discrete_sequence=['orange','red'],\n",
    "    barmode = 'group',\n",
    "    cumulative=False,\n",
    "    #nbins = 20,\n",
    "    )\n",
    "fig.update_layout(\n",
    "    legend={\n",
    "        \"title\": 'CDP Scores'\n",
    "    })\n",
    "\n",
    "fig.update_xaxes(categoryorder='category ascending')\n",
    "fig.update_layout(\n",
    "    title_x=0.5,\n",
    "    yaxis_title = \"Number of S&P100 companies\",\n",
    "    xaxis_title = \"CDP Scores\",\n",
    "    xaxis=dict(\n",
    "        showgrid=False,\n",
    "    ),\n",
    "    margin=dict(l=140, r=40, b=50, t=80),\n",
    "    width=800,\n",
    "    height=600,\n",
    "    paper_bgcolor='white',\n",
    "    plot_bgcolor='white',\n",
    "    hovermode='closest',\n",
    ")\n",
    "fig.show()"
   ]
  },
  {
   "cell_type": "code",
   "execution_count": null,
   "metadata": {},
   "outputs": [],
   "source": []
  },
  {
   "cell_type": "code",
   "execution_count": null,
   "metadata": {},
   "outputs": [],
   "source": []
  },
  {
   "cell_type": "code",
   "execution_count": null,
   "metadata": {},
   "outputs": [],
   "source": []
  },
  {
   "cell_type": "code",
   "execution_count": 23,
   "metadata": {},
   "outputs": [],
   "source": [
    "save_chart(fig,'2021_cdp_scores_dist')"
   ]
  },
  {
   "cell_type": "code",
   "execution_count": null,
   "metadata": {},
   "outputs": [],
   "source": []
  }
 ],
 "metadata": {
  "interpreter": {
   "hash": "2763097f05fa0e79020cf579cd98f61c1a12f2eb3c0b21888a5c169647c48c37"
  },
  "kernelspec": {
   "display_name": "Python 3.6.13 64-bit ('cnext': conda)",
   "name": "python3"
  },
  "language_info": {
   "codemirror_mode": {
    "name": "ipython",
    "version": 3
   },
   "file_extension": ".py",
   "mimetype": "text/x-python",
   "name": "python",
   "nbconvert_exporter": "python",
   "pygments_lexer": "ipython3",
   "version": "3.6.13"
  }
 },
 "nbformat": 4,
 "nbformat_minor": 4
}
