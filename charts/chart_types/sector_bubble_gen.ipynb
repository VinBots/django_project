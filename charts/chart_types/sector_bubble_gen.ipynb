{
 "cells": [
  {
   "cell_type": "markdown",
   "source": [
    "# Chart generations Notebook"
   ],
   "metadata": {}
  },
  {
   "cell_type": "markdown",
   "source": [
    "## Import Libraries"
   ],
   "metadata": {}
  },
  {
   "cell_type": "code",
   "execution_count": 1,
   "source": [
    "import pandas as pd\n",
    "import plotly.graph_objs as go\n",
    "import plotly.offline as offline\n",
    "import os\n",
    "import numpy as np\n",
    "from plotly.offline import plot\n",
    "from pathlib import Path"
   ],
   "outputs": [],
   "metadata": {}
  },
  {
   "cell_type": "code",
   "execution_count": 2,
   "source": [
    "offline.init_notebook_mode(connected=True)"
   ],
   "outputs": [
    {
     "output_type": "display_data",
     "data": {
      "text/html": [
       "        <script type=\"text/javascript\">\n",
       "        window.PlotlyConfig = {MathJaxConfig: 'local'};\n",
       "        if (window.MathJax) {MathJax.Hub.Config({SVG: {font: \"STIX-Web\"}});}\n",
       "        if (typeof require !== 'undefined') {\n",
       "        require.undef(\"plotly\");\n",
       "        requirejs.config({\n",
       "            paths: {\n",
       "                'plotly': ['https://cdn.plot.ly/plotly-2.2.0.min']\n",
       "            }\n",
       "        });\n",
       "        require(['plotly'], function(Plotly) {\n",
       "            window._Plotly = Plotly;\n",
       "        });\n",
       "        }\n",
       "        </script>\n",
       "        "
      ]
     },
     "metadata": {}
    }
   ],
   "metadata": {}
  },
  {
   "cell_type": "markdown",
   "source": [
    "## Bubble Chart for Emissions Intensity\n"
   ],
   "metadata": {}
  },
  {
   "cell_type": "code",
   "execution_count": 3,
   "source": [
    "company_id = 1"
   ],
   "outputs": [],
   "metadata": {}
  },
  {
   "cell_type": "markdown",
   "source": [
    "# Step 1: Set up the data sources"
   ],
   "metadata": {}
  },
  {
   "cell_type": "code",
   "execution_count": 4,
   "source": [
    "path = Path(os.path.dirname (os.getcwd()))\n",
    "XLSX_PATH = os.path.join(path.parent.parent, 'sp100.xlsx')\n",
    "\n",
    "COLS_TO_USE = {\n",
    "    'companies':['company_id', 'company_name'],\n",
    "    'ghg_quant':['company_id', 'ghg_scope_1','ghg_loc_scope_2','ghg_mkt_scope_2', 'reporting_year', \"Source\"],\n",
    "    'grouping':['company_id', 'Sector1'],\n",
    "    'financials':['company_id', 'Revenue_num_tradingview']\n",
    "}\n"
   ],
   "outputs": [],
   "metadata": {}
  },
  {
   "cell_type": "markdown",
   "source": [
    "# Step 2: Merge the tables"
   ],
   "metadata": {}
  },
  {
   "cell_type": "code",
   "execution_count": 5,
   "source": [
    "all_df = []\n",
    "for sheetname, cols in COLS_TO_USE.items():\n",
    "    all_df.append(pd.read_excel(\n",
    "        XLSX_PATH, \n",
    "        sheet_name = sheetname,\n",
    "        engine = 'openpyxl', \n",
    "        usecols = cols\n",
    "        ))"
   ],
   "outputs": [],
   "metadata": {}
  },
  {
   "cell_type": "code",
   "execution_count": 6,
   "source": [
    "merged_df = all_df[0]\n",
    "for i in range(len(COLS_TO_USE) - 1):\n",
    "    merged_df = pd.merge(\n",
    "        left = merged_df,\n",
    "        right = all_df[i+1],\n",
    "        how=\"left\",\n",
    "        on=\"company_id\"\n",
    "    )"
   ],
   "outputs": [],
   "metadata": {}
  },
  {
   "cell_type": "code",
   "execution_count": 7,
   "source": [
    "merged_df"
   ],
   "outputs": [
    {
     "output_type": "execute_result",
     "data": {
      "text/html": [
       "<div>\n",
       "<style scoped>\n",
       "    .dataframe tbody tr th:only-of-type {\n",
       "        vertical-align: middle;\n",
       "    }\n",
       "\n",
       "    .dataframe tbody tr th {\n",
       "        vertical-align: top;\n",
       "    }\n",
       "\n",
       "    .dataframe thead th {\n",
       "        text-align: right;\n",
       "    }\n",
       "</style>\n",
       "<table border=\"1\" class=\"dataframe\">\n",
       "  <thead>\n",
       "    <tr style=\"text-align: right;\">\n",
       "      <th></th>\n",
       "      <th>company_id</th>\n",
       "      <th>company_name</th>\n",
       "      <th>Source</th>\n",
       "      <th>reporting_year</th>\n",
       "      <th>ghg_scope_1</th>\n",
       "      <th>ghg_loc_scope_2</th>\n",
       "      <th>ghg_mkt_scope_2</th>\n",
       "      <th>Sector1</th>\n",
       "      <th>Revenue_num_tradingview</th>\n",
       "    </tr>\n",
       "  </thead>\n",
       "  <tbody>\n",
       "    <tr>\n",
       "      <th>0</th>\n",
       "      <td>1.0</td>\n",
       "      <td>3M</td>\n",
       "      <td>CDP</td>\n",
       "      <td>2020.0</td>\n",
       "      <td>NR</td>\n",
       "      <td>NR</td>\n",
       "      <td>NR</td>\n",
       "      <td>Industrials</td>\n",
       "      <td>3.218400e+10</td>\n",
       "    </tr>\n",
       "    <tr>\n",
       "      <th>1</th>\n",
       "      <td>1.0</td>\n",
       "      <td>3M</td>\n",
       "      <td>Public</td>\n",
       "      <td>2020.0</td>\n",
       "      <td>3600000</td>\n",
       "      <td>1680000</td>\n",
       "      <td>1250000</td>\n",
       "      <td>Industrials</td>\n",
       "      <td>3.218400e+10</td>\n",
       "    </tr>\n",
       "    <tr>\n",
       "      <th>2</th>\n",
       "      <td>1.0</td>\n",
       "      <td>3M</td>\n",
       "      <td>Final</td>\n",
       "      <td>2020.0</td>\n",
       "      <td>3600000</td>\n",
       "      <td>1680000</td>\n",
       "      <td>1250000</td>\n",
       "      <td>Industrials</td>\n",
       "      <td>3.218400e+10</td>\n",
       "    </tr>\n",
       "    <tr>\n",
       "      <th>3</th>\n",
       "      <td>1.0</td>\n",
       "      <td>3M</td>\n",
       "      <td>CDP</td>\n",
       "      <td>2019.0</td>\n",
       "      <td>4050000</td>\n",
       "      <td>1780000</td>\n",
       "      <td>1320000</td>\n",
       "      <td>Industrials</td>\n",
       "      <td>3.218400e+10</td>\n",
       "    </tr>\n",
       "    <tr>\n",
       "      <th>4</th>\n",
       "      <td>1.0</td>\n",
       "      <td>3M</td>\n",
       "      <td>Public</td>\n",
       "      <td>2019.0</td>\n",
       "      <td>4050000</td>\n",
       "      <td>1780000</td>\n",
       "      <td>1320000</td>\n",
       "      <td>Industrials</td>\n",
       "      <td>3.218400e+10</td>\n",
       "    </tr>\n",
       "    <tr>\n",
       "      <th>...</th>\n",
       "      <td>...</td>\n",
       "      <td>...</td>\n",
       "      <td>...</td>\n",
       "      <td>...</td>\n",
       "      <td>...</td>\n",
       "      <td>...</td>\n",
       "      <td>...</td>\n",
       "      <td>...</td>\n",
       "      <td>...</td>\n",
       "    </tr>\n",
       "    <tr>\n",
       "      <th>1351</th>\n",
       "      <td>113.0</td>\n",
       "      <td>Linde plc</td>\n",
       "      <td>Public</td>\n",
       "      <td>2018.0</td>\n",
       "      <td>16872000</td>\n",
       "      <td>NR</td>\n",
       "      <td>22333000</td>\n",
       "      <td>Materials</td>\n",
       "      <td>2.724300e+10</td>\n",
       "    </tr>\n",
       "    <tr>\n",
       "      <th>1352</th>\n",
       "      <td>113.0</td>\n",
       "      <td>Linde plc</td>\n",
       "      <td>Final</td>\n",
       "      <td>2018.0</td>\n",
       "      <td>16872000</td>\n",
       "      <td>0</td>\n",
       "      <td>22333000</td>\n",
       "      <td>Materials</td>\n",
       "      <td>2.724300e+10</td>\n",
       "    </tr>\n",
       "    <tr>\n",
       "      <th>1353</th>\n",
       "      <td>113.0</td>\n",
       "      <td>Linde plc</td>\n",
       "      <td>CDP</td>\n",
       "      <td>2017.0</td>\n",
       "      <td>NR</td>\n",
       "      <td>NR</td>\n",
       "      <td>NR</td>\n",
       "      <td>Materials</td>\n",
       "      <td>2.724300e+10</td>\n",
       "    </tr>\n",
       "    <tr>\n",
       "      <th>1354</th>\n",
       "      <td>113.0</td>\n",
       "      <td>Linde plc</td>\n",
       "      <td>Public</td>\n",
       "      <td>2017.0</td>\n",
       "      <td>NR</td>\n",
       "      <td>NR</td>\n",
       "      <td>NR</td>\n",
       "      <td>Materials</td>\n",
       "      <td>2.724300e+10</td>\n",
       "    </tr>\n",
       "    <tr>\n",
       "      <th>1355</th>\n",
       "      <td>113.0</td>\n",
       "      <td>Linde plc</td>\n",
       "      <td>Final</td>\n",
       "      <td>2017.0</td>\n",
       "      <td>NR</td>\n",
       "      <td>NR</td>\n",
       "      <td>NR</td>\n",
       "      <td>Materials</td>\n",
       "      <td>2.724300e+10</td>\n",
       "    </tr>\n",
       "  </tbody>\n",
       "</table>\n",
       "<p>1356 rows × 9 columns</p>\n",
       "</div>"
      ],
      "text/plain": [
       "      company_id company_name  Source  reporting_year ghg_scope_1  \\\n",
       "0            1.0           3M     CDP          2020.0          NR   \n",
       "1            1.0           3M  Public          2020.0     3600000   \n",
       "2            1.0           3M   Final          2020.0     3600000   \n",
       "3            1.0           3M     CDP          2019.0     4050000   \n",
       "4            1.0           3M  Public          2019.0     4050000   \n",
       "...          ...          ...     ...             ...         ...   \n",
       "1351       113.0    Linde plc  Public          2018.0    16872000   \n",
       "1352       113.0    Linde plc   Final          2018.0    16872000   \n",
       "1353       113.0    Linde plc     CDP          2017.0          NR   \n",
       "1354       113.0    Linde plc  Public          2017.0          NR   \n",
       "1355       113.0    Linde plc   Final          2017.0          NR   \n",
       "\n",
       "     ghg_loc_scope_2 ghg_mkt_scope_2      Sector1  Revenue_num_tradingview  \n",
       "0                 NR              NR  Industrials             3.218400e+10  \n",
       "1            1680000         1250000  Industrials             3.218400e+10  \n",
       "2            1680000         1250000  Industrials             3.218400e+10  \n",
       "3            1780000         1320000  Industrials             3.218400e+10  \n",
       "4            1780000         1320000  Industrials             3.218400e+10  \n",
       "...              ...             ...          ...                      ...  \n",
       "1351              NR        22333000    Materials             2.724300e+10  \n",
       "1352               0        22333000    Materials             2.724300e+10  \n",
       "1353              NR              NR    Materials             2.724300e+10  \n",
       "1354              NR              NR    Materials             2.724300e+10  \n",
       "1355              NR              NR    Materials             2.724300e+10  \n",
       "\n",
       "[1356 rows x 9 columns]"
      ]
     },
     "metadata": {},
     "execution_count": 7
    }
   ],
   "metadata": {}
  },
  {
   "cell_type": "code",
   "execution_count": 8,
   "source": [
    "# Select Final Figures and Year 2019\n",
    "cond1 = (merged_df['reporting_year'] == 2019)\n",
    "cond2 = (merged_df['Source']== 'Final')\n",
    "filter_cond = cond1 & cond2\n",
    "merged_df = merged_df.loc[filter_cond]"
   ],
   "outputs": [],
   "metadata": {}
  },
  {
   "cell_type": "code",
   "execution_count": 9,
   "source": [
    "merged_df"
   ],
   "outputs": [
    {
     "output_type": "execute_result",
     "data": {
      "text/html": [
       "<div>\n",
       "<style scoped>\n",
       "    .dataframe tbody tr th:only-of-type {\n",
       "        vertical-align: middle;\n",
       "    }\n",
       "\n",
       "    .dataframe tbody tr th {\n",
       "        vertical-align: top;\n",
       "    }\n",
       "\n",
       "    .dataframe thead th {\n",
       "        text-align: right;\n",
       "    }\n",
       "</style>\n",
       "<table border=\"1\" class=\"dataframe\">\n",
       "  <thead>\n",
       "    <tr style=\"text-align: right;\">\n",
       "      <th></th>\n",
       "      <th>company_id</th>\n",
       "      <th>company_name</th>\n",
       "      <th>Source</th>\n",
       "      <th>reporting_year</th>\n",
       "      <th>ghg_scope_1</th>\n",
       "      <th>ghg_loc_scope_2</th>\n",
       "      <th>ghg_mkt_scope_2</th>\n",
       "      <th>Sector1</th>\n",
       "      <th>Revenue_num_tradingview</th>\n",
       "    </tr>\n",
       "  </thead>\n",
       "  <tbody>\n",
       "    <tr>\n",
       "      <th>5</th>\n",
       "      <td>1.0</td>\n",
       "      <td>3M</td>\n",
       "      <td>Final</td>\n",
       "      <td>2019.0</td>\n",
       "      <td>4050000</td>\n",
       "      <td>1780000</td>\n",
       "      <td>1320000</td>\n",
       "      <td>Industrials</td>\n",
       "      <td>3.218400e+10</td>\n",
       "    </tr>\n",
       "    <tr>\n",
       "      <th>17</th>\n",
       "      <td>2.0</td>\n",
       "      <td>Abbott Laboratories</td>\n",
       "      <td>Final</td>\n",
       "      <td>2019.0</td>\n",
       "      <td>533000</td>\n",
       "      <td>518000</td>\n",
       "      <td>439000</td>\n",
       "      <td>Healthcare</td>\n",
       "      <td>3.460800e+10</td>\n",
       "    </tr>\n",
       "    <tr>\n",
       "      <th>29</th>\n",
       "      <td>3.0</td>\n",
       "      <td>AbbVie Inc.</td>\n",
       "      <td>Final</td>\n",
       "      <td>2019.0</td>\n",
       "      <td>314421</td>\n",
       "      <td>308204</td>\n",
       "      <td>249777</td>\n",
       "      <td>Healthcare</td>\n",
       "      <td>4.580400e+10</td>\n",
       "    </tr>\n",
       "    <tr>\n",
       "      <th>41</th>\n",
       "      <td>4.0</td>\n",
       "      <td>Accenture</td>\n",
       "      <td>Final</td>\n",
       "      <td>2019.0</td>\n",
       "      <td>18923</td>\n",
       "      <td>281489</td>\n",
       "      <td>214680</td>\n",
       "      <td>Technology</td>\n",
       "      <td>4.432700e+10</td>\n",
       "    </tr>\n",
       "    <tr>\n",
       "      <th>53</th>\n",
       "      <td>5.0</td>\n",
       "      <td>Adobe Inc.</td>\n",
       "      <td>Final</td>\n",
       "      <td>2019.0</td>\n",
       "      <td>11816</td>\n",
       "      <td>56113</td>\n",
       "      <td>43526</td>\n",
       "      <td>Technology</td>\n",
       "      <td>1.286500e+10</td>\n",
       "    </tr>\n",
       "    <tr>\n",
       "      <th>...</th>\n",
       "      <td>...</td>\n",
       "      <td>...</td>\n",
       "      <td>...</td>\n",
       "      <td>...</td>\n",
       "      <td>...</td>\n",
       "      <td>...</td>\n",
       "      <td>...</td>\n",
       "      <td>...</td>\n",
       "      <td>...</td>\n",
       "    </tr>\n",
       "    <tr>\n",
       "      <th>1301</th>\n",
       "      <td>109.0</td>\n",
       "      <td>Halliburton Co.</td>\n",
       "      <td>Final</td>\n",
       "      <td>2019.0</td>\n",
       "      <td>4511499</td>\n",
       "      <td>249259</td>\n",
       "      <td>NR</td>\n",
       "      <td>NaN</td>\n",
       "      <td>NaN</td>\n",
       "    </tr>\n",
       "    <tr>\n",
       "      <th>1313</th>\n",
       "      <td>110.0</td>\n",
       "      <td>HP Inc (ex Hewlett-Packard)</td>\n",
       "      <td>Final</td>\n",
       "      <td>2019.0</td>\n",
       "      <td>57509</td>\n",
       "      <td>313002</td>\n",
       "      <td>177018</td>\n",
       "      <td>NaN</td>\n",
       "      <td>NaN</td>\n",
       "    </tr>\n",
       "    <tr>\n",
       "      <th>1325</th>\n",
       "      <td>111.0</td>\n",
       "      <td>Norfolk Southern Corp.</td>\n",
       "      <td>Final</td>\n",
       "      <td>2019.0</td>\n",
       "      <td>4784047</td>\n",
       "      <td>201474</td>\n",
       "      <td>201474</td>\n",
       "      <td>NaN</td>\n",
       "      <td>NaN</td>\n",
       "    </tr>\n",
       "    <tr>\n",
       "      <th>1337</th>\n",
       "      <td>112.0</td>\n",
       "      <td>T-Mobile (ex T-Mobile US)</td>\n",
       "      <td>Final</td>\n",
       "      <td>2019.0</td>\n",
       "      <td>37175</td>\n",
       "      <td>1393730</td>\n",
       "      <td>729490</td>\n",
       "      <td>Communication Services</td>\n",
       "      <td>6.839700e+10</td>\n",
       "    </tr>\n",
       "    <tr>\n",
       "      <th>1349</th>\n",
       "      <td>113.0</td>\n",
       "      <td>Linde plc</td>\n",
       "      <td>Final</td>\n",
       "      <td>2019.0</td>\n",
       "      <td>16461000</td>\n",
       "      <td>19900000</td>\n",
       "      <td>22250000</td>\n",
       "      <td>Materials</td>\n",
       "      <td>2.724300e+10</td>\n",
       "    </tr>\n",
       "  </tbody>\n",
       "</table>\n",
       "<p>113 rows × 9 columns</p>\n",
       "</div>"
      ],
      "text/plain": [
       "      company_id                 company_name Source  reporting_year  \\\n",
       "5            1.0                           3M  Final          2019.0   \n",
       "17           2.0          Abbott Laboratories  Final          2019.0   \n",
       "29           3.0                  AbbVie Inc.  Final          2019.0   \n",
       "41           4.0                    Accenture  Final          2019.0   \n",
       "53           5.0                   Adobe Inc.  Final          2019.0   \n",
       "...          ...                          ...    ...             ...   \n",
       "1301       109.0              Halliburton Co.  Final          2019.0   \n",
       "1313       110.0  HP Inc (ex Hewlett-Packard)  Final          2019.0   \n",
       "1325       111.0       Norfolk Southern Corp.  Final          2019.0   \n",
       "1337       112.0    T-Mobile (ex T-Mobile US)  Final          2019.0   \n",
       "1349       113.0                    Linde plc  Final          2019.0   \n",
       "\n",
       "     ghg_scope_1 ghg_loc_scope_2 ghg_mkt_scope_2                 Sector1  \\\n",
       "5        4050000         1780000         1320000             Industrials   \n",
       "17        533000          518000          439000              Healthcare   \n",
       "29        314421          308204          249777              Healthcare   \n",
       "41         18923          281489          214680              Technology   \n",
       "53         11816           56113           43526              Technology   \n",
       "...          ...             ...             ...                     ...   \n",
       "1301     4511499          249259              NR                     NaN   \n",
       "1313       57509          313002          177018                     NaN   \n",
       "1325     4784047          201474          201474                     NaN   \n",
       "1337       37175         1393730          729490  Communication Services   \n",
       "1349    16461000        19900000        22250000               Materials   \n",
       "\n",
       "      Revenue_num_tradingview  \n",
       "5                3.218400e+10  \n",
       "17               3.460800e+10  \n",
       "29               4.580400e+10  \n",
       "41               4.432700e+10  \n",
       "53               1.286500e+10  \n",
       "...                       ...  \n",
       "1301                      NaN  \n",
       "1313                      NaN  \n",
       "1325                      NaN  \n",
       "1337             6.839700e+10  \n",
       "1349             2.724300e+10  \n",
       "\n",
       "[113 rows x 9 columns]"
      ]
     },
     "metadata": {},
     "execution_count": 9
    }
   ],
   "metadata": {}
  },
  {
   "cell_type": "code",
   "execution_count": null,
   "source": [],
   "outputs": [],
   "metadata": {}
  },
  {
   "cell_type": "code",
   "execution_count": 10,
   "source": [
    "merged_df.head()"
   ],
   "outputs": [
    {
     "output_type": "execute_result",
     "data": {
      "text/html": [
       "<div>\n",
       "<style scoped>\n",
       "    .dataframe tbody tr th:only-of-type {\n",
       "        vertical-align: middle;\n",
       "    }\n",
       "\n",
       "    .dataframe tbody tr th {\n",
       "        vertical-align: top;\n",
       "    }\n",
       "\n",
       "    .dataframe thead th {\n",
       "        text-align: right;\n",
       "    }\n",
       "</style>\n",
       "<table border=\"1\" class=\"dataframe\">\n",
       "  <thead>\n",
       "    <tr style=\"text-align: right;\">\n",
       "      <th></th>\n",
       "      <th>company_id</th>\n",
       "      <th>company_name</th>\n",
       "      <th>Source</th>\n",
       "      <th>reporting_year</th>\n",
       "      <th>ghg_scope_1</th>\n",
       "      <th>ghg_loc_scope_2</th>\n",
       "      <th>ghg_mkt_scope_2</th>\n",
       "      <th>Sector1</th>\n",
       "      <th>Revenue_num_tradingview</th>\n",
       "    </tr>\n",
       "  </thead>\n",
       "  <tbody>\n",
       "    <tr>\n",
       "      <th>5</th>\n",
       "      <td>1.0</td>\n",
       "      <td>3M</td>\n",
       "      <td>Final</td>\n",
       "      <td>2019.0</td>\n",
       "      <td>4050000</td>\n",
       "      <td>1780000</td>\n",
       "      <td>1320000</td>\n",
       "      <td>Industrials</td>\n",
       "      <td>3.218400e+10</td>\n",
       "    </tr>\n",
       "    <tr>\n",
       "      <th>17</th>\n",
       "      <td>2.0</td>\n",
       "      <td>Abbott Laboratories</td>\n",
       "      <td>Final</td>\n",
       "      <td>2019.0</td>\n",
       "      <td>533000</td>\n",
       "      <td>518000</td>\n",
       "      <td>439000</td>\n",
       "      <td>Healthcare</td>\n",
       "      <td>3.460800e+10</td>\n",
       "    </tr>\n",
       "    <tr>\n",
       "      <th>29</th>\n",
       "      <td>3.0</td>\n",
       "      <td>AbbVie Inc.</td>\n",
       "      <td>Final</td>\n",
       "      <td>2019.0</td>\n",
       "      <td>314421</td>\n",
       "      <td>308204</td>\n",
       "      <td>249777</td>\n",
       "      <td>Healthcare</td>\n",
       "      <td>4.580400e+10</td>\n",
       "    </tr>\n",
       "    <tr>\n",
       "      <th>41</th>\n",
       "      <td>4.0</td>\n",
       "      <td>Accenture</td>\n",
       "      <td>Final</td>\n",
       "      <td>2019.0</td>\n",
       "      <td>18923</td>\n",
       "      <td>281489</td>\n",
       "      <td>214680</td>\n",
       "      <td>Technology</td>\n",
       "      <td>4.432700e+10</td>\n",
       "    </tr>\n",
       "    <tr>\n",
       "      <th>53</th>\n",
       "      <td>5.0</td>\n",
       "      <td>Adobe Inc.</td>\n",
       "      <td>Final</td>\n",
       "      <td>2019.0</td>\n",
       "      <td>11816</td>\n",
       "      <td>56113</td>\n",
       "      <td>43526</td>\n",
       "      <td>Technology</td>\n",
       "      <td>1.286500e+10</td>\n",
       "    </tr>\n",
       "  </tbody>\n",
       "</table>\n",
       "</div>"
      ],
      "text/plain": [
       "    company_id         company_name Source  reporting_year ghg_scope_1  \\\n",
       "5          1.0                   3M  Final          2019.0     4050000   \n",
       "17         2.0  Abbott Laboratories  Final          2019.0      533000   \n",
       "29         3.0          AbbVie Inc.  Final          2019.0      314421   \n",
       "41         4.0            Accenture  Final          2019.0       18923   \n",
       "53         5.0           Adobe Inc.  Final          2019.0       11816   \n",
       "\n",
       "   ghg_loc_scope_2 ghg_mkt_scope_2      Sector1  Revenue_num_tradingview  \n",
       "5          1780000         1320000  Industrials             3.218400e+10  \n",
       "17          518000          439000   Healthcare             3.460800e+10  \n",
       "29          308204          249777   Healthcare             4.580400e+10  \n",
       "41          281489          214680   Technology             4.432700e+10  \n",
       "53           56113           43526   Technology             1.286500e+10  "
      ]
     },
     "metadata": {},
     "execution_count": 10
    }
   ],
   "metadata": {}
  },
  {
   "cell_type": "markdown",
   "source": [
    "# Step 3: Filter the sector"
   ],
   "metadata": {}
  },
  {
   "cell_type": "code",
   "execution_count": 11,
   "source": [
    "a =  merged_df[merged_df['company_id']==company_id]['Sector1']\n",
    "if len(a) > 0:\n",
    "    sector = a.iloc[0]\n",
    "merged_df_sector = merged_df.loc[merged_df['Sector1']==sector]"
   ],
   "outputs": [],
   "metadata": {}
  },
  {
   "cell_type": "code",
   "execution_count": 12,
   "source": [
    "merged_df_sector.head()"
   ],
   "outputs": [
    {
     "output_type": "execute_result",
     "data": {
      "text/html": [
       "<div>\n",
       "<style scoped>\n",
       "    .dataframe tbody tr th:only-of-type {\n",
       "        vertical-align: middle;\n",
       "    }\n",
       "\n",
       "    .dataframe tbody tr th {\n",
       "        vertical-align: top;\n",
       "    }\n",
       "\n",
       "    .dataframe thead th {\n",
       "        text-align: right;\n",
       "    }\n",
       "</style>\n",
       "<table border=\"1\" class=\"dataframe\">\n",
       "  <thead>\n",
       "    <tr style=\"text-align: right;\">\n",
       "      <th></th>\n",
       "      <th>company_id</th>\n",
       "      <th>company_name</th>\n",
       "      <th>Source</th>\n",
       "      <th>reporting_year</th>\n",
       "      <th>ghg_scope_1</th>\n",
       "      <th>ghg_loc_scope_2</th>\n",
       "      <th>ghg_mkt_scope_2</th>\n",
       "      <th>Sector1</th>\n",
       "      <th>Revenue_num_tradingview</th>\n",
       "    </tr>\n",
       "  </thead>\n",
       "  <tbody>\n",
       "    <tr>\n",
       "      <th>5</th>\n",
       "      <td>1.0</td>\n",
       "      <td>3M</td>\n",
       "      <td>Final</td>\n",
       "      <td>2019.0</td>\n",
       "      <td>4050000</td>\n",
       "      <td>1780000</td>\n",
       "      <td>1320000</td>\n",
       "      <td>Industrials</td>\n",
       "      <td>3.218400e+10</td>\n",
       "    </tr>\n",
       "    <tr>\n",
       "      <th>233</th>\n",
       "      <td>20.0</td>\n",
       "      <td>Boeing</td>\n",
       "      <td>Final</td>\n",
       "      <td>2019.0</td>\n",
       "      <td>613000</td>\n",
       "      <td>871000</td>\n",
       "      <td>733000</td>\n",
       "      <td>Industrials</td>\n",
       "      <td>5.816100e+10</td>\n",
       "    </tr>\n",
       "    <tr>\n",
       "      <th>281</th>\n",
       "      <td>24.0</td>\n",
       "      <td>Caterpillar Inc.</td>\n",
       "      <td>Final</td>\n",
       "      <td>2019.0</td>\n",
       "      <td>905000</td>\n",
       "      <td>926000</td>\n",
       "      <td>869000</td>\n",
       "      <td>Industrials</td>\n",
       "      <td>4.174600e+10</td>\n",
       "    </tr>\n",
       "    <tr>\n",
       "      <th>473</th>\n",
       "      <td>40.0</td>\n",
       "      <td>Emerson Electric</td>\n",
       "      <td>Final</td>\n",
       "      <td>2019.0</td>\n",
       "      <td>172553</td>\n",
       "      <td>678912</td>\n",
       "      <td>682177</td>\n",
       "      <td>Industrials</td>\n",
       "      <td>1.679000e+10</td>\n",
       "    </tr>\n",
       "    <tr>\n",
       "      <th>521</th>\n",
       "      <td>44.0</td>\n",
       "      <td>FedEx</td>\n",
       "      <td>Final</td>\n",
       "      <td>2019.0</td>\n",
       "      <td>15406173</td>\n",
       "      <td>995988</td>\n",
       "      <td>995988</td>\n",
       "      <td>Industrials</td>\n",
       "      <td>8.379400e+10</td>\n",
       "    </tr>\n",
       "  </tbody>\n",
       "</table>\n",
       "</div>"
      ],
      "text/plain": [
       "     company_id      company_name Source  reporting_year ghg_scope_1  \\\n",
       "5           1.0                3M  Final          2019.0     4050000   \n",
       "233        20.0            Boeing  Final          2019.0      613000   \n",
       "281        24.0  Caterpillar Inc.  Final          2019.0      905000   \n",
       "473        40.0  Emerson Electric  Final          2019.0      172553   \n",
       "521        44.0             FedEx  Final          2019.0    15406173   \n",
       "\n",
       "    ghg_loc_scope_2 ghg_mkt_scope_2      Sector1  Revenue_num_tradingview  \n",
       "5           1780000         1320000  Industrials             3.218400e+10  \n",
       "233          871000          733000  Industrials             5.816100e+10  \n",
       "281          926000          869000  Industrials             4.174600e+10  \n",
       "473          678912          682177  Industrials             1.679000e+10  \n",
       "521          995988          995988  Industrials             8.379400e+10  "
      ]
     },
     "metadata": {},
     "execution_count": 12
    }
   ],
   "metadata": {}
  },
  {
   "cell_type": "markdown",
   "source": [
    "# Step 4: Calculate Scope 1 + Scope 2"
   ],
   "metadata": {}
  },
  {
   "cell_type": "code",
   "execution_count": 13,
   "source": [
    "scope1 = pd.to_numeric(merged_df_sector['ghg_scope_1'], errors = 'coerce')\n",
    "scope2_loc = pd.to_numeric(merged_df_sector['ghg_loc_scope_2'], errors = 'coerce')\n",
    "scope2_mkt = pd.to_numeric(merged_df_sector['ghg_mkt_scope_2'], errors = 'coerce')\n",
    "\n",
    "merged_df_sector = merged_df_sector.assign(scope1_plus_scope2_loc= scope1 + scope2_loc)\n",
    "merged_df_sector = merged_df_sector.assign(scope1_plus_scope2_mkt= scope1 + scope2_mkt)\n",
    "merged_df_sector['scope1_plus_scope2'] = merged_df_sector[['scope1_plus_scope2_loc','scope1_plus_scope2_mkt']].min(axis=1)"
   ],
   "outputs": [],
   "metadata": {}
  },
  {
   "cell_type": "code",
   "execution_count": 14,
   "source": [
    "fields = ['company_id','company_name','ghg_scope_1', 'Sector1','Revenue_num_tradingview','scope1_plus_scope2']\n",
    "merged_df_sector = merged_df_sector [fields]"
   ],
   "outputs": [],
   "metadata": {}
  },
  {
   "cell_type": "code",
   "execution_count": 15,
   "source": [
    "merged_df_sector"
   ],
   "outputs": [
    {
     "output_type": "execute_result",
     "data": {
      "text/html": [
       "<div>\n",
       "<style scoped>\n",
       "    .dataframe tbody tr th:only-of-type {\n",
       "        vertical-align: middle;\n",
       "    }\n",
       "\n",
       "    .dataframe tbody tr th {\n",
       "        vertical-align: top;\n",
       "    }\n",
       "\n",
       "    .dataframe thead th {\n",
       "        text-align: right;\n",
       "    }\n",
       "</style>\n",
       "<table border=\"1\" class=\"dataframe\">\n",
       "  <thead>\n",
       "    <tr style=\"text-align: right;\">\n",
       "      <th></th>\n",
       "      <th>company_id</th>\n",
       "      <th>company_name</th>\n",
       "      <th>ghg_scope_1</th>\n",
       "      <th>Sector1</th>\n",
       "      <th>Revenue_num_tradingview</th>\n",
       "      <th>scope1_plus_scope2</th>\n",
       "    </tr>\n",
       "  </thead>\n",
       "  <tbody>\n",
       "    <tr>\n",
       "      <th>5</th>\n",
       "      <td>1.0</td>\n",
       "      <td>3M</td>\n",
       "      <td>4050000</td>\n",
       "      <td>Industrials</td>\n",
       "      <td>3.218400e+10</td>\n",
       "      <td>5370000.0</td>\n",
       "    </tr>\n",
       "    <tr>\n",
       "      <th>233</th>\n",
       "      <td>20.0</td>\n",
       "      <td>Boeing</td>\n",
       "      <td>613000</td>\n",
       "      <td>Industrials</td>\n",
       "      <td>5.816100e+10</td>\n",
       "      <td>1346000.0</td>\n",
       "    </tr>\n",
       "    <tr>\n",
       "      <th>281</th>\n",
       "      <td>24.0</td>\n",
       "      <td>Caterpillar Inc.</td>\n",
       "      <td>905000</td>\n",
       "      <td>Industrials</td>\n",
       "      <td>4.174600e+10</td>\n",
       "      <td>1774000.0</td>\n",
       "    </tr>\n",
       "    <tr>\n",
       "      <th>473</th>\n",
       "      <td>40.0</td>\n",
       "      <td>Emerson Electric</td>\n",
       "      <td>172553</td>\n",
       "      <td>Industrials</td>\n",
       "      <td>1.679000e+10</td>\n",
       "      <td>851465.0</td>\n",
       "    </tr>\n",
       "    <tr>\n",
       "      <th>521</th>\n",
       "      <td>44.0</td>\n",
       "      <td>FedEx</td>\n",
       "      <td>15406173</td>\n",
       "      <td>Industrials</td>\n",
       "      <td>8.379400e+10</td>\n",
       "      <td>16402161.0</td>\n",
       "    </tr>\n",
       "    <tr>\n",
       "      <th>545</th>\n",
       "      <td>46.0</td>\n",
       "      <td>General Dynamics</td>\n",
       "      <td>317081</td>\n",
       "      <td>Industrials</td>\n",
       "      <td>3.792500e+10</td>\n",
       "      <td>762200.0</td>\n",
       "    </tr>\n",
       "    <tr>\n",
       "      <th>557</th>\n",
       "      <td>47.0</td>\n",
       "      <td>General Electric</td>\n",
       "      <td>997410</td>\n",
       "      <td>Industrials</td>\n",
       "      <td>7.989300e+10</td>\n",
       "      <td>2385025.0</td>\n",
       "    </tr>\n",
       "    <tr>\n",
       "      <th>617</th>\n",
       "      <td>52.0</td>\n",
       "      <td>Honeywell Inc.</td>\n",
       "      <td>1090649</td>\n",
       "      <td>Industrials</td>\n",
       "      <td>3.264000e+10</td>\n",
       "      <td>2024133.0</td>\n",
       "    </tr>\n",
       "    <tr>\n",
       "      <th>701</th>\n",
       "      <td>59.0</td>\n",
       "      <td>Lockheed Martin Corp.</td>\n",
       "      <td>305362</td>\n",
       "      <td>Industrials</td>\n",
       "      <td>6.539800e+10</td>\n",
       "      <td>771435.0</td>\n",
       "    </tr>\n",
       "    <tr>\n",
       "      <th>965</th>\n",
       "      <td>81.0</td>\n",
       "      <td>Raytheon Technologies</td>\n",
       "      <td>0</td>\n",
       "      <td>Industrials</td>\n",
       "      <td>5.666900e+10</td>\n",
       "      <td>0.0</td>\n",
       "    </tr>\n",
       "    <tr>\n",
       "      <th>1097</th>\n",
       "      <td>92.0</td>\n",
       "      <td>Union Pacific Corp</td>\n",
       "      <td>10066595</td>\n",
       "      <td>Industrials</td>\n",
       "      <td>1.953300e+10</td>\n",
       "      <td>10380670.0</td>\n",
       "    </tr>\n",
       "    <tr>\n",
       "      <th>1121</th>\n",
       "      <td>94.0</td>\n",
       "      <td>United Parcel Service</td>\n",
       "      <td>14223000</td>\n",
       "      <td>Industrials</td>\n",
       "      <td>8.443200e+10</td>\n",
       "      <td>14954000.0</td>\n",
       "    </tr>\n",
       "  </tbody>\n",
       "</table>\n",
       "</div>"
      ],
      "text/plain": [
       "      company_id           company_name ghg_scope_1      Sector1  \\\n",
       "5            1.0                     3M     4050000  Industrials   \n",
       "233         20.0                 Boeing      613000  Industrials   \n",
       "281         24.0       Caterpillar Inc.      905000  Industrials   \n",
       "473         40.0       Emerson Electric      172553  Industrials   \n",
       "521         44.0                  FedEx    15406173  Industrials   \n",
       "545         46.0       General Dynamics      317081  Industrials   \n",
       "557         47.0       General Electric      997410  Industrials   \n",
       "617         52.0         Honeywell Inc.     1090649  Industrials   \n",
       "701         59.0  Lockheed Martin Corp.      305362  Industrials   \n",
       "965         81.0  Raytheon Technologies           0  Industrials   \n",
       "1097        92.0     Union Pacific Corp    10066595  Industrials   \n",
       "1121        94.0  United Parcel Service    14223000  Industrials   \n",
       "\n",
       "      Revenue_num_tradingview  scope1_plus_scope2  \n",
       "5                3.218400e+10           5370000.0  \n",
       "233              5.816100e+10           1346000.0  \n",
       "281              4.174600e+10           1774000.0  \n",
       "473              1.679000e+10            851465.0  \n",
       "521              8.379400e+10          16402161.0  \n",
       "545              3.792500e+10            762200.0  \n",
       "557              7.989300e+10           2385025.0  \n",
       "617              3.264000e+10           2024133.0  \n",
       "701              6.539800e+10            771435.0  \n",
       "965              5.666900e+10                 0.0  \n",
       "1097             1.953300e+10          10380670.0  \n",
       "1121             8.443200e+10          14954000.0  "
      ]
     },
     "metadata": {},
     "execution_count": 15
    }
   ],
   "metadata": {}
  },
  {
   "cell_type": "markdown",
   "source": [
    "# Step 5: Remove companies without valid data"
   ],
   "metadata": {}
  },
  {
   "cell_type": "code",
   "execution_count": 16,
   "source": [
    "merged_df_sector"
   ],
   "outputs": [
    {
     "output_type": "execute_result",
     "data": {
      "text/html": [
       "<div>\n",
       "<style scoped>\n",
       "    .dataframe tbody tr th:only-of-type {\n",
       "        vertical-align: middle;\n",
       "    }\n",
       "\n",
       "    .dataframe tbody tr th {\n",
       "        vertical-align: top;\n",
       "    }\n",
       "\n",
       "    .dataframe thead th {\n",
       "        text-align: right;\n",
       "    }\n",
       "</style>\n",
       "<table border=\"1\" class=\"dataframe\">\n",
       "  <thead>\n",
       "    <tr style=\"text-align: right;\">\n",
       "      <th></th>\n",
       "      <th>company_id</th>\n",
       "      <th>company_name</th>\n",
       "      <th>ghg_scope_1</th>\n",
       "      <th>Sector1</th>\n",
       "      <th>Revenue_num_tradingview</th>\n",
       "      <th>scope1_plus_scope2</th>\n",
       "    </tr>\n",
       "  </thead>\n",
       "  <tbody>\n",
       "    <tr>\n",
       "      <th>5</th>\n",
       "      <td>1.0</td>\n",
       "      <td>3M</td>\n",
       "      <td>4050000</td>\n",
       "      <td>Industrials</td>\n",
       "      <td>3.218400e+10</td>\n",
       "      <td>5370000.0</td>\n",
       "    </tr>\n",
       "    <tr>\n",
       "      <th>233</th>\n",
       "      <td>20.0</td>\n",
       "      <td>Boeing</td>\n",
       "      <td>613000</td>\n",
       "      <td>Industrials</td>\n",
       "      <td>5.816100e+10</td>\n",
       "      <td>1346000.0</td>\n",
       "    </tr>\n",
       "    <tr>\n",
       "      <th>281</th>\n",
       "      <td>24.0</td>\n",
       "      <td>Caterpillar Inc.</td>\n",
       "      <td>905000</td>\n",
       "      <td>Industrials</td>\n",
       "      <td>4.174600e+10</td>\n",
       "      <td>1774000.0</td>\n",
       "    </tr>\n",
       "    <tr>\n",
       "      <th>473</th>\n",
       "      <td>40.0</td>\n",
       "      <td>Emerson Electric</td>\n",
       "      <td>172553</td>\n",
       "      <td>Industrials</td>\n",
       "      <td>1.679000e+10</td>\n",
       "      <td>851465.0</td>\n",
       "    </tr>\n",
       "    <tr>\n",
       "      <th>521</th>\n",
       "      <td>44.0</td>\n",
       "      <td>FedEx</td>\n",
       "      <td>15406173</td>\n",
       "      <td>Industrials</td>\n",
       "      <td>8.379400e+10</td>\n",
       "      <td>16402161.0</td>\n",
       "    </tr>\n",
       "    <tr>\n",
       "      <th>545</th>\n",
       "      <td>46.0</td>\n",
       "      <td>General Dynamics</td>\n",
       "      <td>317081</td>\n",
       "      <td>Industrials</td>\n",
       "      <td>3.792500e+10</td>\n",
       "      <td>762200.0</td>\n",
       "    </tr>\n",
       "    <tr>\n",
       "      <th>557</th>\n",
       "      <td>47.0</td>\n",
       "      <td>General Electric</td>\n",
       "      <td>997410</td>\n",
       "      <td>Industrials</td>\n",
       "      <td>7.989300e+10</td>\n",
       "      <td>2385025.0</td>\n",
       "    </tr>\n",
       "    <tr>\n",
       "      <th>617</th>\n",
       "      <td>52.0</td>\n",
       "      <td>Honeywell Inc.</td>\n",
       "      <td>1090649</td>\n",
       "      <td>Industrials</td>\n",
       "      <td>3.264000e+10</td>\n",
       "      <td>2024133.0</td>\n",
       "    </tr>\n",
       "    <tr>\n",
       "      <th>701</th>\n",
       "      <td>59.0</td>\n",
       "      <td>Lockheed Martin Corp.</td>\n",
       "      <td>305362</td>\n",
       "      <td>Industrials</td>\n",
       "      <td>6.539800e+10</td>\n",
       "      <td>771435.0</td>\n",
       "    </tr>\n",
       "    <tr>\n",
       "      <th>965</th>\n",
       "      <td>81.0</td>\n",
       "      <td>Raytheon Technologies</td>\n",
       "      <td>0</td>\n",
       "      <td>Industrials</td>\n",
       "      <td>5.666900e+10</td>\n",
       "      <td>0.0</td>\n",
       "    </tr>\n",
       "    <tr>\n",
       "      <th>1097</th>\n",
       "      <td>92.0</td>\n",
       "      <td>Union Pacific Corp</td>\n",
       "      <td>10066595</td>\n",
       "      <td>Industrials</td>\n",
       "      <td>1.953300e+10</td>\n",
       "      <td>10380670.0</td>\n",
       "    </tr>\n",
       "    <tr>\n",
       "      <th>1121</th>\n",
       "      <td>94.0</td>\n",
       "      <td>United Parcel Service</td>\n",
       "      <td>14223000</td>\n",
       "      <td>Industrials</td>\n",
       "      <td>8.443200e+10</td>\n",
       "      <td>14954000.0</td>\n",
       "    </tr>\n",
       "  </tbody>\n",
       "</table>\n",
       "</div>"
      ],
      "text/plain": [
       "      company_id           company_name ghg_scope_1      Sector1  \\\n",
       "5            1.0                     3M     4050000  Industrials   \n",
       "233         20.0                 Boeing      613000  Industrials   \n",
       "281         24.0       Caterpillar Inc.      905000  Industrials   \n",
       "473         40.0       Emerson Electric      172553  Industrials   \n",
       "521         44.0                  FedEx    15406173  Industrials   \n",
       "545         46.0       General Dynamics      317081  Industrials   \n",
       "557         47.0       General Electric      997410  Industrials   \n",
       "617         52.0         Honeywell Inc.     1090649  Industrials   \n",
       "701         59.0  Lockheed Martin Corp.      305362  Industrials   \n",
       "965         81.0  Raytheon Technologies           0  Industrials   \n",
       "1097        92.0     Union Pacific Corp    10066595  Industrials   \n",
       "1121        94.0  United Parcel Service    14223000  Industrials   \n",
       "\n",
       "      Revenue_num_tradingview  scope1_plus_scope2  \n",
       "5                3.218400e+10           5370000.0  \n",
       "233              5.816100e+10           1346000.0  \n",
       "281              4.174600e+10           1774000.0  \n",
       "473              1.679000e+10            851465.0  \n",
       "521              8.379400e+10          16402161.0  \n",
       "545              3.792500e+10            762200.0  \n",
       "557              7.989300e+10           2385025.0  \n",
       "617              3.264000e+10           2024133.0  \n",
       "701              6.539800e+10            771435.0  \n",
       "965              5.666900e+10                 0.0  \n",
       "1097             1.953300e+10          10380670.0  \n",
       "1121             8.443200e+10          14954000.0  "
      ]
     },
     "metadata": {},
     "execution_count": 16
    }
   ],
   "metadata": {}
  },
  {
   "cell_type": "code",
   "execution_count": 17,
   "source": [
    "merged_df_sector = merged_df_sector.dropna()"
   ],
   "outputs": [],
   "metadata": {}
  },
  {
   "cell_type": "markdown",
   "source": [
    "# Step 6 (optional): Calculate GHG Intensity"
   ],
   "metadata": {}
  },
  {
   "cell_type": "code",
   "execution_count": 18,
   "source": [
    "merged_df_sector = merged_df_sector.assign(intensity=merged_df_sector['scope1_plus_scope2'] / merged_df_sector['Revenue_num_tradingview'])"
   ],
   "outputs": [],
   "metadata": {}
  },
  {
   "cell_type": "code",
   "execution_count": 19,
   "source": [
    "merged_df_sector"
   ],
   "outputs": [
    {
     "output_type": "execute_result",
     "data": {
      "text/html": [
       "<div>\n",
       "<style scoped>\n",
       "    .dataframe tbody tr th:only-of-type {\n",
       "        vertical-align: middle;\n",
       "    }\n",
       "\n",
       "    .dataframe tbody tr th {\n",
       "        vertical-align: top;\n",
       "    }\n",
       "\n",
       "    .dataframe thead th {\n",
       "        text-align: right;\n",
       "    }\n",
       "</style>\n",
       "<table border=\"1\" class=\"dataframe\">\n",
       "  <thead>\n",
       "    <tr style=\"text-align: right;\">\n",
       "      <th></th>\n",
       "      <th>company_id</th>\n",
       "      <th>company_name</th>\n",
       "      <th>ghg_scope_1</th>\n",
       "      <th>Sector1</th>\n",
       "      <th>Revenue_num_tradingview</th>\n",
       "      <th>scope1_plus_scope2</th>\n",
       "      <th>intensity</th>\n",
       "    </tr>\n",
       "  </thead>\n",
       "  <tbody>\n",
       "    <tr>\n",
       "      <th>5</th>\n",
       "      <td>1.0</td>\n",
       "      <td>3M</td>\n",
       "      <td>4050000</td>\n",
       "      <td>Industrials</td>\n",
       "      <td>3.218400e+10</td>\n",
       "      <td>5370000.0</td>\n",
       "      <td>0.000167</td>\n",
       "    </tr>\n",
       "    <tr>\n",
       "      <th>233</th>\n",
       "      <td>20.0</td>\n",
       "      <td>Boeing</td>\n",
       "      <td>613000</td>\n",
       "      <td>Industrials</td>\n",
       "      <td>5.816100e+10</td>\n",
       "      <td>1346000.0</td>\n",
       "      <td>0.000023</td>\n",
       "    </tr>\n",
       "    <tr>\n",
       "      <th>281</th>\n",
       "      <td>24.0</td>\n",
       "      <td>Caterpillar Inc.</td>\n",
       "      <td>905000</td>\n",
       "      <td>Industrials</td>\n",
       "      <td>4.174600e+10</td>\n",
       "      <td>1774000.0</td>\n",
       "      <td>0.000042</td>\n",
       "    </tr>\n",
       "    <tr>\n",
       "      <th>473</th>\n",
       "      <td>40.0</td>\n",
       "      <td>Emerson Electric</td>\n",
       "      <td>172553</td>\n",
       "      <td>Industrials</td>\n",
       "      <td>1.679000e+10</td>\n",
       "      <td>851465.0</td>\n",
       "      <td>0.000051</td>\n",
       "    </tr>\n",
       "    <tr>\n",
       "      <th>521</th>\n",
       "      <td>44.0</td>\n",
       "      <td>FedEx</td>\n",
       "      <td>15406173</td>\n",
       "      <td>Industrials</td>\n",
       "      <td>8.379400e+10</td>\n",
       "      <td>16402161.0</td>\n",
       "      <td>0.000196</td>\n",
       "    </tr>\n",
       "    <tr>\n",
       "      <th>545</th>\n",
       "      <td>46.0</td>\n",
       "      <td>General Dynamics</td>\n",
       "      <td>317081</td>\n",
       "      <td>Industrials</td>\n",
       "      <td>3.792500e+10</td>\n",
       "      <td>762200.0</td>\n",
       "      <td>0.000020</td>\n",
       "    </tr>\n",
       "    <tr>\n",
       "      <th>557</th>\n",
       "      <td>47.0</td>\n",
       "      <td>General Electric</td>\n",
       "      <td>997410</td>\n",
       "      <td>Industrials</td>\n",
       "      <td>7.989300e+10</td>\n",
       "      <td>2385025.0</td>\n",
       "      <td>0.000030</td>\n",
       "    </tr>\n",
       "    <tr>\n",
       "      <th>617</th>\n",
       "      <td>52.0</td>\n",
       "      <td>Honeywell Inc.</td>\n",
       "      <td>1090649</td>\n",
       "      <td>Industrials</td>\n",
       "      <td>3.264000e+10</td>\n",
       "      <td>2024133.0</td>\n",
       "      <td>0.000062</td>\n",
       "    </tr>\n",
       "    <tr>\n",
       "      <th>701</th>\n",
       "      <td>59.0</td>\n",
       "      <td>Lockheed Martin Corp.</td>\n",
       "      <td>305362</td>\n",
       "      <td>Industrials</td>\n",
       "      <td>6.539800e+10</td>\n",
       "      <td>771435.0</td>\n",
       "      <td>0.000012</td>\n",
       "    </tr>\n",
       "    <tr>\n",
       "      <th>965</th>\n",
       "      <td>81.0</td>\n",
       "      <td>Raytheon Technologies</td>\n",
       "      <td>0</td>\n",
       "      <td>Industrials</td>\n",
       "      <td>5.666900e+10</td>\n",
       "      <td>0.0</td>\n",
       "      <td>0.000000</td>\n",
       "    </tr>\n",
       "    <tr>\n",
       "      <th>1097</th>\n",
       "      <td>92.0</td>\n",
       "      <td>Union Pacific Corp</td>\n",
       "      <td>10066595</td>\n",
       "      <td>Industrials</td>\n",
       "      <td>1.953300e+10</td>\n",
       "      <td>10380670.0</td>\n",
       "      <td>0.000531</td>\n",
       "    </tr>\n",
       "    <tr>\n",
       "      <th>1121</th>\n",
       "      <td>94.0</td>\n",
       "      <td>United Parcel Service</td>\n",
       "      <td>14223000</td>\n",
       "      <td>Industrials</td>\n",
       "      <td>8.443200e+10</td>\n",
       "      <td>14954000.0</td>\n",
       "      <td>0.000177</td>\n",
       "    </tr>\n",
       "  </tbody>\n",
       "</table>\n",
       "</div>"
      ],
      "text/plain": [
       "      company_id           company_name ghg_scope_1      Sector1  \\\n",
       "5            1.0                     3M     4050000  Industrials   \n",
       "233         20.0                 Boeing      613000  Industrials   \n",
       "281         24.0       Caterpillar Inc.      905000  Industrials   \n",
       "473         40.0       Emerson Electric      172553  Industrials   \n",
       "521         44.0                  FedEx    15406173  Industrials   \n",
       "545         46.0       General Dynamics      317081  Industrials   \n",
       "557         47.0       General Electric      997410  Industrials   \n",
       "617         52.0         Honeywell Inc.     1090649  Industrials   \n",
       "701         59.0  Lockheed Martin Corp.      305362  Industrials   \n",
       "965         81.0  Raytheon Technologies           0  Industrials   \n",
       "1097        92.0     Union Pacific Corp    10066595  Industrials   \n",
       "1121        94.0  United Parcel Service    14223000  Industrials   \n",
       "\n",
       "      Revenue_num_tradingview  scope1_plus_scope2  intensity  \n",
       "5                3.218400e+10           5370000.0   0.000167  \n",
       "233              5.816100e+10           1346000.0   0.000023  \n",
       "281              4.174600e+10           1774000.0   0.000042  \n",
       "473              1.679000e+10            851465.0   0.000051  \n",
       "521              8.379400e+10          16402161.0   0.000196  \n",
       "545              3.792500e+10            762200.0   0.000020  \n",
       "557              7.989300e+10           2385025.0   0.000030  \n",
       "617              3.264000e+10           2024133.0   0.000062  \n",
       "701              6.539800e+10            771435.0   0.000012  \n",
       "965              5.666900e+10                 0.0   0.000000  \n",
       "1097             1.953300e+10          10380670.0   0.000531  \n",
       "1121             8.443200e+10          14954000.0   0.000177  "
      ]
     },
     "metadata": {},
     "execution_count": 19
    }
   ],
   "metadata": {}
  },
  {
   "cell_type": "code",
   "execution_count": null,
   "source": [],
   "outputs": [],
   "metadata": {}
  },
  {
   "cell_type": "markdown",
   "source": [
    "# Step 7: Prepare the chart by fetching specific data series"
   ],
   "metadata": {}
  },
  {
   "cell_type": "code",
   "execution_count": 20,
   "source": [
    "if len(merged_df_sector[merged_df_sector['company_id']==company_id]['company_name']) > 0:\n",
    "    corp_x = merged_df_sector[merged_df_sector['company_id']==company_id]['scope1_plus_scope2'].iloc[0]\n",
    "    corp_y = merged_df_sector[merged_df_sector['company_id']==company_id]['Revenue_num_tradingview'].iloc[0]\n",
    "    corp_name = merged_df_sector[merged_df_sector['company_id']==company_id]['company_name'].iloc[0]\n",
    "\n",
    "\n",
    "x0 = merged_df_sector['scope1_plus_scope2']\n",
    "y0 = merged_df_sector['Revenue_num_tradingview']\n",
    "intensity_data = 10000000 * merged_df_sector['intensity']\n",
    "#index_corp = merged_df_sector.loc[merged_df_sector['company_id'] == company_id].index\n",
    "#merged_df_sector.drop(index_corp , inplace=True)\n",
    "x_median_x = [x0.min(), x0.max()]\n",
    "y_median_x = [y0.median(), y0.median()]\n",
    "x_median_y = [x0.median(), x0.median()]\n",
    "y_median_y = [y0.min(), y0.max()]"
   ],
   "outputs": [],
   "metadata": {}
  },
  {
   "cell_type": "markdown",
   "source": [
    "# Step 7: Produce the chart"
   ],
   "metadata": {}
  },
  {
   "cell_type": "code",
   "execution_count": 21,
   "source": [
    "layout = go.Layout (\n",
    "    title = '<b>Operational Emissions Intensity Benchmark</b><br>Sector: ' + sector,\n",
    "    title_x = 0.5,\n",
    "    titlefont = dict(\n",
    "        family = 'Arial',\n",
    "        size = 16),\n",
    "    plot_bgcolor = 'antiquewhite',\n",
    "    xaxis =  dict(\n",
    "        autorange = \"reversed\",\n",
    "        type = 'log',\n",
    "        title = '<i>high</i>----------<b>Scope1+2 Emissions</b>----------<i>low</i>'),\n",
    "    yaxis = dict(\n",
    "        type = 'log',\n",
    "        title = 'Revenue'),\n",
    "        )"
   ],
   "outputs": [],
   "metadata": {}
  },
  {
   "cell_type": "code",
   "execution_count": 22,
   "source": [
    "intensity_data"
   ],
   "outputs": [
    {
     "output_type": "execute_result",
     "data": {
      "text/plain": [
       "5       1668.530947\n",
       "233      231.426557\n",
       "281      424.950893\n",
       "473      507.126266\n",
       "521     1957.438599\n",
       "545      200.975610\n",
       "557      298.527405\n",
       "617      620.138787\n",
       "701      117.960029\n",
       "965        0.000000\n",
       "1097    5314.426867\n",
       "1121    1771.129430\n",
       "Name: intensity, dtype: float64"
      ]
     },
     "metadata": {},
     "execution_count": 22
    }
   ],
   "metadata": {}
  },
  {
   "cell_type": "code",
   "execution_count": 26,
   "source": [
    "trace1 = go.Scatter(x=x_median_y, \n",
    "                    y=y_median_y, \n",
    "                    showlegend = False, \n",
    "                    name='Median y',\n",
    "                    mode = \"lines\",\n",
    "                    line = dict(color='gray', \n",
    "                                width=2, \n",
    "                                dash='dash'))\n",
    "\n",
    "trace2 = go.Scatter(x=x_median_x, \n",
    "                         y=y_median_x, \n",
    "                         showlegend = False, \n",
    "                         name='Median x', \n",
    "                         mode = \"lines\",\n",
    "                         line = {'color':'gray', \n",
    "                                 'width':2, \n",
    "                                 'dash':'dash'}\n",
    "                        )\n",
    "\n",
    "trace3 = go.Scatter(\n",
    "    x=merged_df_sector['scope1_plus_scope2'], \n",
    "    y=merged_df_sector['Revenue_num_tradingview'],\n",
    "    showlegend = False,\n",
    "    name=\"benchmark\", \n",
    "    text=merged_df_sector['company_name'],\n",
    "    mode = 'markers+text',\n",
    "    line = {'color':'black'}, \n",
    "    marker = dict (\n",
    "        color=intensity_data,\n",
    "        size=25,\n",
    "        showscale=True,\n",
    "        colorscale='Hot_r',\n",
    "        line=dict(\n",
    "                color='black',\n",
    "                width=1,\n",
    "            )\n",
    "\n",
    "        ),\n",
    "    hovertemplate = '%{text}<br><b>Revenue:</b>%{y}'+ '<br><b>Emissions:</b> %{x:.2s}', # + '<br><b>Intensity: </b> %{intensity_data}',\n",
    "    textposition='top center'\n",
    "    )\n",
    "\n",
    "fig = go.Figure(data = [trace1, trace2, trace3], \n",
    "                layout = layout)\n",
    "                \n",
    "fig.update_layout(\n",
    "    autosize=True,\n",
    "    #width=1000,\n",
    "    height=500,\n",
    "    margin=dict(\n",
    "        l=50,\n",
    "        r=50,\n",
    "        b=50,\n",
    "        t=80,\n",
    "        pad=4\n",
    "    ),\n",
    "    paper_bgcolor=\"#eeebf0\",\n",
    "    plot_bgcolor = '#eeebf0',\n",
    ")\n",
    "config = {'displaylogo': False}\n",
    "fig.add_trace(\n",
    "    go.Scatter(\n",
    "        mode='markers',\n",
    "        x=[corp_x],\n",
    "        y=[corp_y],\n",
    "        text = [corp_name],\n",
    "        marker=dict(\n",
    "            color='rgba(255,0,0, 0.01)',#'rgba(135, 206, 250, 0.01)',\n",
    "            size=25,\n",
    "            line=dict(\n",
    "                color='red',\n",
    "                width=3,\n",
    "            )\n",
    "        ),\n",
    "        \n",
    "        hovertemplate = '%{text}<br><b>Revenue:</b>%{y}'+ '<br><b>Emissions:</b> %{x:.2s}', # + '<br><b>Intensity: </b> %{intensity_data}',\n",
    "        showlegend=False\n",
    "    )\n",
    ")"
   ],
   "outputs": [
    {
     "output_type": "display_data",
     "data": {
      "application/vnd.plotly.v1+json": {
       "config": {
        "plotlyServerURL": "https://plot.ly"
       },
       "data": [
        {
         "line": {
          "color": "gray",
          "dash": "dash",
          "width": 2
         },
         "mode": "lines",
         "name": "Median y",
         "showlegend": false,
         "type": "scatter",
         "x": [
          1899066.5,
          1899066.5
         ],
         "y": [
          16790000000,
          84432000000
         ]
        },
        {
         "line": {
          "color": "gray",
          "dash": "dash",
          "width": 2
         },
         "mode": "lines",
         "name": "Median x",
         "showlegend": false,
         "type": "scatter",
         "x": [
          0,
          16402161
         ],
         "y": [
          49207500000,
          49207500000
         ]
        },
        {
         "hovertemplate": "%{text}<br><b>Revenue:</b>%{y}<br><b>Emissions:</b> %{x:.2s}",
         "line": {
          "color": "black"
         },
         "marker": {
          "color": [
           1668.5309470544369,
           231.4265573150393,
           424.9508934987783,
           507.12626563430615,
           1957.438599422393,
           200.97560975609755,
           298.5274054047288,
           620.1387867647059,
           117.96002935869599,
           0,
           5314.426867352685,
           1771.1294296001515
          ],
          "colorscale": [
           [
            0,
            "rgb(255,255,255)"
           ],
           [
            0.3333333333333333,
            "rgb(255,210,0)"
           ],
           [
            0.6666666666666666,
            "rgb(230,0,0)"
           ],
           [
            1,
            "rgb(0,0,0)"
           ]
          ],
          "line": {
           "color": "black",
           "width": 1
          },
          "showscale": true,
          "size": 25
         },
         "mode": "markers+text",
         "name": "benchmark",
         "showlegend": false,
         "text": [
          "3M",
          "Boeing",
          "Caterpillar Inc.",
          "Emerson Electric",
          "FedEx",
          "General Dynamics",
          "General Electric",
          "Honeywell Inc.",
          "Lockheed Martin Corp.",
          "Raytheon Technologies",
          "Union Pacific Corp",
          "United Parcel Service"
         ],
         "textposition": "top center",
         "type": "scatter",
         "x": [
          5370000,
          1346000,
          1774000,
          851465,
          16402161,
          762200,
          2385025,
          2024133,
          771435,
          0,
          10380670,
          14954000
         ],
         "y": [
          32184000000,
          58161000000,
          41746000000,
          16790000000,
          83794000000,
          37925000000,
          79893000000,
          32640000000,
          65398000000,
          56669000000,
          19533000000,
          84432000000
         ]
        },
        {
         "hovertemplate": "%{text}<br><b>Revenue:</b>%{y}<br><b>Emissions:</b> %{x:.2s}",
         "marker": {
          "color": "rgba(255,0,0, 0.01)",
          "line": {
           "color": "red",
           "width": 3
          },
          "size": 25
         },
         "mode": "markers",
         "showlegend": false,
         "text": [
          "3M"
         ],
         "type": "scatter",
         "x": [
          5370000
         ],
         "y": [
          32184000000
         ]
        }
       ],
       "layout": {
        "autosize": true,
        "height": 500,
        "margin": {
         "b": 50,
         "l": 50,
         "pad": 4,
         "r": 50,
         "t": 80
        },
        "paper_bgcolor": "#eeebf0",
        "plot_bgcolor": "#eeebf0",
        "template": {
         "data": {
          "bar": [
           {
            "error_x": {
             "color": "#2a3f5f"
            },
            "error_y": {
             "color": "#2a3f5f"
            },
            "marker": {
             "line": {
              "color": "#E5ECF6",
              "width": 0.5
             },
             "pattern": {
              "fillmode": "overlay",
              "size": 10,
              "solidity": 0.2
             }
            },
            "type": "bar"
           }
          ],
          "barpolar": [
           {
            "marker": {
             "line": {
              "color": "#E5ECF6",
              "width": 0.5
             },
             "pattern": {
              "fillmode": "overlay",
              "size": 10,
              "solidity": 0.2
             }
            },
            "type": "barpolar"
           }
          ],
          "carpet": [
           {
            "aaxis": {
             "endlinecolor": "#2a3f5f",
             "gridcolor": "white",
             "linecolor": "white",
             "minorgridcolor": "white",
             "startlinecolor": "#2a3f5f"
            },
            "baxis": {
             "endlinecolor": "#2a3f5f",
             "gridcolor": "white",
             "linecolor": "white",
             "minorgridcolor": "white",
             "startlinecolor": "#2a3f5f"
            },
            "type": "carpet"
           }
          ],
          "choropleth": [
           {
            "colorbar": {
             "outlinewidth": 0,
             "ticks": ""
            },
            "type": "choropleth"
           }
          ],
          "contour": [
           {
            "colorbar": {
             "outlinewidth": 0,
             "ticks": ""
            },
            "colorscale": [
             [
              0,
              "#0d0887"
             ],
             [
              0.1111111111111111,
              "#46039f"
             ],
             [
              0.2222222222222222,
              "#7201a8"
             ],
             [
              0.3333333333333333,
              "#9c179e"
             ],
             [
              0.4444444444444444,
              "#bd3786"
             ],
             [
              0.5555555555555556,
              "#d8576b"
             ],
             [
              0.6666666666666666,
              "#ed7953"
             ],
             [
              0.7777777777777778,
              "#fb9f3a"
             ],
             [
              0.8888888888888888,
              "#fdca26"
             ],
             [
              1,
              "#f0f921"
             ]
            ],
            "type": "contour"
           }
          ],
          "contourcarpet": [
           {
            "colorbar": {
             "outlinewidth": 0,
             "ticks": ""
            },
            "type": "contourcarpet"
           }
          ],
          "heatmap": [
           {
            "colorbar": {
             "outlinewidth": 0,
             "ticks": ""
            },
            "colorscale": [
             [
              0,
              "#0d0887"
             ],
             [
              0.1111111111111111,
              "#46039f"
             ],
             [
              0.2222222222222222,
              "#7201a8"
             ],
             [
              0.3333333333333333,
              "#9c179e"
             ],
             [
              0.4444444444444444,
              "#bd3786"
             ],
             [
              0.5555555555555556,
              "#d8576b"
             ],
             [
              0.6666666666666666,
              "#ed7953"
             ],
             [
              0.7777777777777778,
              "#fb9f3a"
             ],
             [
              0.8888888888888888,
              "#fdca26"
             ],
             [
              1,
              "#f0f921"
             ]
            ],
            "type": "heatmap"
           }
          ],
          "heatmapgl": [
           {
            "colorbar": {
             "outlinewidth": 0,
             "ticks": ""
            },
            "colorscale": [
             [
              0,
              "#0d0887"
             ],
             [
              0.1111111111111111,
              "#46039f"
             ],
             [
              0.2222222222222222,
              "#7201a8"
             ],
             [
              0.3333333333333333,
              "#9c179e"
             ],
             [
              0.4444444444444444,
              "#bd3786"
             ],
             [
              0.5555555555555556,
              "#d8576b"
             ],
             [
              0.6666666666666666,
              "#ed7953"
             ],
             [
              0.7777777777777778,
              "#fb9f3a"
             ],
             [
              0.8888888888888888,
              "#fdca26"
             ],
             [
              1,
              "#f0f921"
             ]
            ],
            "type": "heatmapgl"
           }
          ],
          "histogram": [
           {
            "marker": {
             "pattern": {
              "fillmode": "overlay",
              "size": 10,
              "solidity": 0.2
             }
            },
            "type": "histogram"
           }
          ],
          "histogram2d": [
           {
            "colorbar": {
             "outlinewidth": 0,
             "ticks": ""
            },
            "colorscale": [
             [
              0,
              "#0d0887"
             ],
             [
              0.1111111111111111,
              "#46039f"
             ],
             [
              0.2222222222222222,
              "#7201a8"
             ],
             [
              0.3333333333333333,
              "#9c179e"
             ],
             [
              0.4444444444444444,
              "#bd3786"
             ],
             [
              0.5555555555555556,
              "#d8576b"
             ],
             [
              0.6666666666666666,
              "#ed7953"
             ],
             [
              0.7777777777777778,
              "#fb9f3a"
             ],
             [
              0.8888888888888888,
              "#fdca26"
             ],
             [
              1,
              "#f0f921"
             ]
            ],
            "type": "histogram2d"
           }
          ],
          "histogram2dcontour": [
           {
            "colorbar": {
             "outlinewidth": 0,
             "ticks": ""
            },
            "colorscale": [
             [
              0,
              "#0d0887"
             ],
             [
              0.1111111111111111,
              "#46039f"
             ],
             [
              0.2222222222222222,
              "#7201a8"
             ],
             [
              0.3333333333333333,
              "#9c179e"
             ],
             [
              0.4444444444444444,
              "#bd3786"
             ],
             [
              0.5555555555555556,
              "#d8576b"
             ],
             [
              0.6666666666666666,
              "#ed7953"
             ],
             [
              0.7777777777777778,
              "#fb9f3a"
             ],
             [
              0.8888888888888888,
              "#fdca26"
             ],
             [
              1,
              "#f0f921"
             ]
            ],
            "type": "histogram2dcontour"
           }
          ],
          "mesh3d": [
           {
            "colorbar": {
             "outlinewidth": 0,
             "ticks": ""
            },
            "type": "mesh3d"
           }
          ],
          "parcoords": [
           {
            "line": {
             "colorbar": {
              "outlinewidth": 0,
              "ticks": ""
             }
            },
            "type": "parcoords"
           }
          ],
          "pie": [
           {
            "automargin": true,
            "type": "pie"
           }
          ],
          "scatter": [
           {
            "marker": {
             "colorbar": {
              "outlinewidth": 0,
              "ticks": ""
             }
            },
            "type": "scatter"
           }
          ],
          "scatter3d": [
           {
            "line": {
             "colorbar": {
              "outlinewidth": 0,
              "ticks": ""
             }
            },
            "marker": {
             "colorbar": {
              "outlinewidth": 0,
              "ticks": ""
             }
            },
            "type": "scatter3d"
           }
          ],
          "scattercarpet": [
           {
            "marker": {
             "colorbar": {
              "outlinewidth": 0,
              "ticks": ""
             }
            },
            "type": "scattercarpet"
           }
          ],
          "scattergeo": [
           {
            "marker": {
             "colorbar": {
              "outlinewidth": 0,
              "ticks": ""
             }
            },
            "type": "scattergeo"
           }
          ],
          "scattergl": [
           {
            "marker": {
             "colorbar": {
              "outlinewidth": 0,
              "ticks": ""
             }
            },
            "type": "scattergl"
           }
          ],
          "scattermapbox": [
           {
            "marker": {
             "colorbar": {
              "outlinewidth": 0,
              "ticks": ""
             }
            },
            "type": "scattermapbox"
           }
          ],
          "scatterpolar": [
           {
            "marker": {
             "colorbar": {
              "outlinewidth": 0,
              "ticks": ""
             }
            },
            "type": "scatterpolar"
           }
          ],
          "scatterpolargl": [
           {
            "marker": {
             "colorbar": {
              "outlinewidth": 0,
              "ticks": ""
             }
            },
            "type": "scatterpolargl"
           }
          ],
          "scatterternary": [
           {
            "marker": {
             "colorbar": {
              "outlinewidth": 0,
              "ticks": ""
             }
            },
            "type": "scatterternary"
           }
          ],
          "surface": [
           {
            "colorbar": {
             "outlinewidth": 0,
             "ticks": ""
            },
            "colorscale": [
             [
              0,
              "#0d0887"
             ],
             [
              0.1111111111111111,
              "#46039f"
             ],
             [
              0.2222222222222222,
              "#7201a8"
             ],
             [
              0.3333333333333333,
              "#9c179e"
             ],
             [
              0.4444444444444444,
              "#bd3786"
             ],
             [
              0.5555555555555556,
              "#d8576b"
             ],
             [
              0.6666666666666666,
              "#ed7953"
             ],
             [
              0.7777777777777778,
              "#fb9f3a"
             ],
             [
              0.8888888888888888,
              "#fdca26"
             ],
             [
              1,
              "#f0f921"
             ]
            ],
            "type": "surface"
           }
          ],
          "table": [
           {
            "cells": {
             "fill": {
              "color": "#EBF0F8"
             },
             "line": {
              "color": "white"
             }
            },
            "header": {
             "fill": {
              "color": "#C8D4E3"
             },
             "line": {
              "color": "white"
             }
            },
            "type": "table"
           }
          ]
         },
         "layout": {
          "annotationdefaults": {
           "arrowcolor": "#2a3f5f",
           "arrowhead": 0,
           "arrowwidth": 1
          },
          "autotypenumbers": "strict",
          "coloraxis": {
           "colorbar": {
            "outlinewidth": 0,
            "ticks": ""
           }
          },
          "colorscale": {
           "diverging": [
            [
             0,
             "#8e0152"
            ],
            [
             0.1,
             "#c51b7d"
            ],
            [
             0.2,
             "#de77ae"
            ],
            [
             0.3,
             "#f1b6da"
            ],
            [
             0.4,
             "#fde0ef"
            ],
            [
             0.5,
             "#f7f7f7"
            ],
            [
             0.6,
             "#e6f5d0"
            ],
            [
             0.7,
             "#b8e186"
            ],
            [
             0.8,
             "#7fbc41"
            ],
            [
             0.9,
             "#4d9221"
            ],
            [
             1,
             "#276419"
            ]
           ],
           "sequential": [
            [
             0,
             "#0d0887"
            ],
            [
             0.1111111111111111,
             "#46039f"
            ],
            [
             0.2222222222222222,
             "#7201a8"
            ],
            [
             0.3333333333333333,
             "#9c179e"
            ],
            [
             0.4444444444444444,
             "#bd3786"
            ],
            [
             0.5555555555555556,
             "#d8576b"
            ],
            [
             0.6666666666666666,
             "#ed7953"
            ],
            [
             0.7777777777777778,
             "#fb9f3a"
            ],
            [
             0.8888888888888888,
             "#fdca26"
            ],
            [
             1,
             "#f0f921"
            ]
           ],
           "sequentialminus": [
            [
             0,
             "#0d0887"
            ],
            [
             0.1111111111111111,
             "#46039f"
            ],
            [
             0.2222222222222222,
             "#7201a8"
            ],
            [
             0.3333333333333333,
             "#9c179e"
            ],
            [
             0.4444444444444444,
             "#bd3786"
            ],
            [
             0.5555555555555556,
             "#d8576b"
            ],
            [
             0.6666666666666666,
             "#ed7953"
            ],
            [
             0.7777777777777778,
             "#fb9f3a"
            ],
            [
             0.8888888888888888,
             "#fdca26"
            ],
            [
             1,
             "#f0f921"
            ]
           ]
          },
          "colorway": [
           "#636efa",
           "#EF553B",
           "#00cc96",
           "#ab63fa",
           "#FFA15A",
           "#19d3f3",
           "#FF6692",
           "#B6E880",
           "#FF97FF",
           "#FECB52"
          ],
          "font": {
           "color": "#2a3f5f"
          },
          "geo": {
           "bgcolor": "white",
           "lakecolor": "white",
           "landcolor": "#E5ECF6",
           "showlakes": true,
           "showland": true,
           "subunitcolor": "white"
          },
          "hoverlabel": {
           "align": "left"
          },
          "hovermode": "closest",
          "mapbox": {
           "style": "light"
          },
          "paper_bgcolor": "white",
          "plot_bgcolor": "#E5ECF6",
          "polar": {
           "angularaxis": {
            "gridcolor": "white",
            "linecolor": "white",
            "ticks": ""
           },
           "bgcolor": "#E5ECF6",
           "radialaxis": {
            "gridcolor": "white",
            "linecolor": "white",
            "ticks": ""
           }
          },
          "scene": {
           "xaxis": {
            "backgroundcolor": "#E5ECF6",
            "gridcolor": "white",
            "gridwidth": 2,
            "linecolor": "white",
            "showbackground": true,
            "ticks": "",
            "zerolinecolor": "white"
           },
           "yaxis": {
            "backgroundcolor": "#E5ECF6",
            "gridcolor": "white",
            "gridwidth": 2,
            "linecolor": "white",
            "showbackground": true,
            "ticks": "",
            "zerolinecolor": "white"
           },
           "zaxis": {
            "backgroundcolor": "#E5ECF6",
            "gridcolor": "white",
            "gridwidth": 2,
            "linecolor": "white",
            "showbackground": true,
            "ticks": "",
            "zerolinecolor": "white"
           }
          },
          "shapedefaults": {
           "line": {
            "color": "#2a3f5f"
           }
          },
          "ternary": {
           "aaxis": {
            "gridcolor": "white",
            "linecolor": "white",
            "ticks": ""
           },
           "baxis": {
            "gridcolor": "white",
            "linecolor": "white",
            "ticks": ""
           },
           "bgcolor": "#E5ECF6",
           "caxis": {
            "gridcolor": "white",
            "linecolor": "white",
            "ticks": ""
           }
          },
          "title": {
           "x": 0.05
          },
          "xaxis": {
           "automargin": true,
           "gridcolor": "white",
           "linecolor": "white",
           "ticks": "",
           "title": {
            "standoff": 15
           },
           "zerolinecolor": "white",
           "zerolinewidth": 2
          },
          "yaxis": {
           "automargin": true,
           "gridcolor": "white",
           "linecolor": "white",
           "ticks": "",
           "title": {
            "standoff": 15
           },
           "zerolinecolor": "white",
           "zerolinewidth": 2
          }
         }
        },
        "title": {
         "font": {
          "family": "Arial",
          "size": 16
         },
         "text": "<b>Operational Emissions Intensity Benchmark</b><br>Sector: Industrials",
         "x": 0.5
        },
        "xaxis": {
         "autorange": "reversed",
         "title": {
          "text": "<i>high</i>----------<b>Scope1+2 Emissions</b>----------<i>low</i>"
         },
         "type": "log"
        },
        "yaxis": {
         "title": {
          "text": "Revenue"
         },
         "type": "log"
        }
       }
      },
      "text/html": [
       "<div>                            <div id=\"c9247d25-4c5b-463b-bcba-2344b077dde3\" class=\"plotly-graph-div\" style=\"height:500px; width:100%;\"></div>            <script type=\"text/javascript\">                require([\"plotly\"], function(Plotly) {                    window.PLOTLYENV=window.PLOTLYENV || {};                                    if (document.getElementById(\"c9247d25-4c5b-463b-bcba-2344b077dde3\")) {                    Plotly.newPlot(                        \"c9247d25-4c5b-463b-bcba-2344b077dde3\",                        [{\"line\":{\"color\":\"gray\",\"dash\":\"dash\",\"width\":2},\"mode\":\"lines\",\"name\":\"Median y\",\"showlegend\":false,\"type\":\"scatter\",\"x\":[1899066.5,1899066.5],\"y\":[16790000000.0,84432000000.0]},{\"line\":{\"color\":\"gray\",\"dash\":\"dash\",\"width\":2},\"mode\":\"lines\",\"name\":\"Median x\",\"showlegend\":false,\"type\":\"scatter\",\"x\":[0.0,16402161.0],\"y\":[49207500000.0,49207500000.0]},{\"hovertemplate\":\"%{text}<br><b>Revenue:</b>%{y}<br><b>Emissions:</b> %{x:.2s}\",\"line\":{\"color\":\"black\"},\"marker\":{\"color\":[1668.5309470544369,231.4265573150393,424.9508934987783,507.12626563430615,1957.438599422393,200.97560975609755,298.5274054047288,620.1387867647059,117.96002935869599,0.0,5314.426867352685,1771.1294296001515],\"colorscale\":[[0.0,\"rgb(255,255,255)\"],[0.3333333333333333,\"rgb(255,210,0)\"],[0.6666666666666666,\"rgb(230,0,0)\"],[1.0,\"rgb(0,0,0)\"]],\"line\":{\"color\":\"black\",\"width\":1},\"showscale\":true,\"size\":25},\"mode\":\"markers+text\",\"name\":\"benchmark\",\"showlegend\":false,\"text\":[\"3M\",\"Boeing\",\"Caterpillar Inc.\",\"Emerson Electric\",\"FedEx\",\"General Dynamics\",\"General Electric\",\"Honeywell Inc.\",\"Lockheed Martin Corp.\",\"Raytheon Technologies\",\"Union Pacific Corp\",\"United Parcel Service\"],\"textposition\":\"top center\",\"type\":\"scatter\",\"x\":[5370000.0,1346000.0,1774000.0,851465.0,16402161.0,762200.0,2385025.0,2024133.0,771435.0,0.0,10380670.0,14954000.0],\"y\":[32184000000.0,58161000000.0,41746000000.0,16790000000.0,83794000000.0,37925000000.0,79893000000.0,32640000000.0,65398000000.0,56669000000.0,19533000000.0,84432000000.0]},{\"hovertemplate\":\"%{text}<br><b>Revenue:</b>%{y}<br><b>Emissions:</b> %{x:.2s}\",\"marker\":{\"color\":\"rgba(255,0,0, 0.01)\",\"line\":{\"color\":\"red\",\"width\":3},\"size\":25},\"mode\":\"markers\",\"showlegend\":false,\"text\":[\"3M\"],\"type\":\"scatter\",\"x\":[5370000.0],\"y\":[32184000000.0]}],                        {\"autosize\":true,\"height\":500,\"margin\":{\"b\":50,\"l\":50,\"pad\":4,\"r\":50,\"t\":80},\"paper_bgcolor\":\"#eeebf0\",\"plot_bgcolor\":\"#eeebf0\",\"template\":{\"data\":{\"bar\":[{\"error_x\":{\"color\":\"#2a3f5f\"},\"error_y\":{\"color\":\"#2a3f5f\"},\"marker\":{\"line\":{\"color\":\"#E5ECF6\",\"width\":0.5},\"pattern\":{\"fillmode\":\"overlay\",\"size\":10,\"solidity\":0.2}},\"type\":\"bar\"}],\"barpolar\":[{\"marker\":{\"line\":{\"color\":\"#E5ECF6\",\"width\":0.5},\"pattern\":{\"fillmode\":\"overlay\",\"size\":10,\"solidity\":0.2}},\"type\":\"barpolar\"}],\"carpet\":[{\"aaxis\":{\"endlinecolor\":\"#2a3f5f\",\"gridcolor\":\"white\",\"linecolor\":\"white\",\"minorgridcolor\":\"white\",\"startlinecolor\":\"#2a3f5f\"},\"baxis\":{\"endlinecolor\":\"#2a3f5f\",\"gridcolor\":\"white\",\"linecolor\":\"white\",\"minorgridcolor\":\"white\",\"startlinecolor\":\"#2a3f5f\"},\"type\":\"carpet\"}],\"choropleth\":[{\"colorbar\":{\"outlinewidth\":0,\"ticks\":\"\"},\"type\":\"choropleth\"}],\"contour\":[{\"colorbar\":{\"outlinewidth\":0,\"ticks\":\"\"},\"colorscale\":[[0.0,\"#0d0887\"],[0.1111111111111111,\"#46039f\"],[0.2222222222222222,\"#7201a8\"],[0.3333333333333333,\"#9c179e\"],[0.4444444444444444,\"#bd3786\"],[0.5555555555555556,\"#d8576b\"],[0.6666666666666666,\"#ed7953\"],[0.7777777777777778,\"#fb9f3a\"],[0.8888888888888888,\"#fdca26\"],[1.0,\"#f0f921\"]],\"type\":\"contour\"}],\"contourcarpet\":[{\"colorbar\":{\"outlinewidth\":0,\"ticks\":\"\"},\"type\":\"contourcarpet\"}],\"heatmap\":[{\"colorbar\":{\"outlinewidth\":0,\"ticks\":\"\"},\"colorscale\":[[0.0,\"#0d0887\"],[0.1111111111111111,\"#46039f\"],[0.2222222222222222,\"#7201a8\"],[0.3333333333333333,\"#9c179e\"],[0.4444444444444444,\"#bd3786\"],[0.5555555555555556,\"#d8576b\"],[0.6666666666666666,\"#ed7953\"],[0.7777777777777778,\"#fb9f3a\"],[0.8888888888888888,\"#fdca26\"],[1.0,\"#f0f921\"]],\"type\":\"heatmap\"}],\"heatmapgl\":[{\"colorbar\":{\"outlinewidth\":0,\"ticks\":\"\"},\"colorscale\":[[0.0,\"#0d0887\"],[0.1111111111111111,\"#46039f\"],[0.2222222222222222,\"#7201a8\"],[0.3333333333333333,\"#9c179e\"],[0.4444444444444444,\"#bd3786\"],[0.5555555555555556,\"#d8576b\"],[0.6666666666666666,\"#ed7953\"],[0.7777777777777778,\"#fb9f3a\"],[0.8888888888888888,\"#fdca26\"],[1.0,\"#f0f921\"]],\"type\":\"heatmapgl\"}],\"histogram\":[{\"marker\":{\"pattern\":{\"fillmode\":\"overlay\",\"size\":10,\"solidity\":0.2}},\"type\":\"histogram\"}],\"histogram2d\":[{\"colorbar\":{\"outlinewidth\":0,\"ticks\":\"\"},\"colorscale\":[[0.0,\"#0d0887\"],[0.1111111111111111,\"#46039f\"],[0.2222222222222222,\"#7201a8\"],[0.3333333333333333,\"#9c179e\"],[0.4444444444444444,\"#bd3786\"],[0.5555555555555556,\"#d8576b\"],[0.6666666666666666,\"#ed7953\"],[0.7777777777777778,\"#fb9f3a\"],[0.8888888888888888,\"#fdca26\"],[1.0,\"#f0f921\"]],\"type\":\"histogram2d\"}],\"histogram2dcontour\":[{\"colorbar\":{\"outlinewidth\":0,\"ticks\":\"\"},\"colorscale\":[[0.0,\"#0d0887\"],[0.1111111111111111,\"#46039f\"],[0.2222222222222222,\"#7201a8\"],[0.3333333333333333,\"#9c179e\"],[0.4444444444444444,\"#bd3786\"],[0.5555555555555556,\"#d8576b\"],[0.6666666666666666,\"#ed7953\"],[0.7777777777777778,\"#fb9f3a\"],[0.8888888888888888,\"#fdca26\"],[1.0,\"#f0f921\"]],\"type\":\"histogram2dcontour\"}],\"mesh3d\":[{\"colorbar\":{\"outlinewidth\":0,\"ticks\":\"\"},\"type\":\"mesh3d\"}],\"parcoords\":[{\"line\":{\"colorbar\":{\"outlinewidth\":0,\"ticks\":\"\"}},\"type\":\"parcoords\"}],\"pie\":[{\"automargin\":true,\"type\":\"pie\"}],\"scatter\":[{\"marker\":{\"colorbar\":{\"outlinewidth\":0,\"ticks\":\"\"}},\"type\":\"scatter\"}],\"scatter3d\":[{\"line\":{\"colorbar\":{\"outlinewidth\":0,\"ticks\":\"\"}},\"marker\":{\"colorbar\":{\"outlinewidth\":0,\"ticks\":\"\"}},\"type\":\"scatter3d\"}],\"scattercarpet\":[{\"marker\":{\"colorbar\":{\"outlinewidth\":0,\"ticks\":\"\"}},\"type\":\"scattercarpet\"}],\"scattergeo\":[{\"marker\":{\"colorbar\":{\"outlinewidth\":0,\"ticks\":\"\"}},\"type\":\"scattergeo\"}],\"scattergl\":[{\"marker\":{\"colorbar\":{\"outlinewidth\":0,\"ticks\":\"\"}},\"type\":\"scattergl\"}],\"scattermapbox\":[{\"marker\":{\"colorbar\":{\"outlinewidth\":0,\"ticks\":\"\"}},\"type\":\"scattermapbox\"}],\"scatterpolar\":[{\"marker\":{\"colorbar\":{\"outlinewidth\":0,\"ticks\":\"\"}},\"type\":\"scatterpolar\"}],\"scatterpolargl\":[{\"marker\":{\"colorbar\":{\"outlinewidth\":0,\"ticks\":\"\"}},\"type\":\"scatterpolargl\"}],\"scatterternary\":[{\"marker\":{\"colorbar\":{\"outlinewidth\":0,\"ticks\":\"\"}},\"type\":\"scatterternary\"}],\"surface\":[{\"colorbar\":{\"outlinewidth\":0,\"ticks\":\"\"},\"colorscale\":[[0.0,\"#0d0887\"],[0.1111111111111111,\"#46039f\"],[0.2222222222222222,\"#7201a8\"],[0.3333333333333333,\"#9c179e\"],[0.4444444444444444,\"#bd3786\"],[0.5555555555555556,\"#d8576b\"],[0.6666666666666666,\"#ed7953\"],[0.7777777777777778,\"#fb9f3a\"],[0.8888888888888888,\"#fdca26\"],[1.0,\"#f0f921\"]],\"type\":\"surface\"}],\"table\":[{\"cells\":{\"fill\":{\"color\":\"#EBF0F8\"},\"line\":{\"color\":\"white\"}},\"header\":{\"fill\":{\"color\":\"#C8D4E3\"},\"line\":{\"color\":\"white\"}},\"type\":\"table\"}]},\"layout\":{\"annotationdefaults\":{\"arrowcolor\":\"#2a3f5f\",\"arrowhead\":0,\"arrowwidth\":1},\"autotypenumbers\":\"strict\",\"coloraxis\":{\"colorbar\":{\"outlinewidth\":0,\"ticks\":\"\"}},\"colorscale\":{\"diverging\":[[0,\"#8e0152\"],[0.1,\"#c51b7d\"],[0.2,\"#de77ae\"],[0.3,\"#f1b6da\"],[0.4,\"#fde0ef\"],[0.5,\"#f7f7f7\"],[0.6,\"#e6f5d0\"],[0.7,\"#b8e186\"],[0.8,\"#7fbc41\"],[0.9,\"#4d9221\"],[1,\"#276419\"]],\"sequential\":[[0.0,\"#0d0887\"],[0.1111111111111111,\"#46039f\"],[0.2222222222222222,\"#7201a8\"],[0.3333333333333333,\"#9c179e\"],[0.4444444444444444,\"#bd3786\"],[0.5555555555555556,\"#d8576b\"],[0.6666666666666666,\"#ed7953\"],[0.7777777777777778,\"#fb9f3a\"],[0.8888888888888888,\"#fdca26\"],[1.0,\"#f0f921\"]],\"sequentialminus\":[[0.0,\"#0d0887\"],[0.1111111111111111,\"#46039f\"],[0.2222222222222222,\"#7201a8\"],[0.3333333333333333,\"#9c179e\"],[0.4444444444444444,\"#bd3786\"],[0.5555555555555556,\"#d8576b\"],[0.6666666666666666,\"#ed7953\"],[0.7777777777777778,\"#fb9f3a\"],[0.8888888888888888,\"#fdca26\"],[1.0,\"#f0f921\"]]},\"colorway\":[\"#636efa\",\"#EF553B\",\"#00cc96\",\"#ab63fa\",\"#FFA15A\",\"#19d3f3\",\"#FF6692\",\"#B6E880\",\"#FF97FF\",\"#FECB52\"],\"font\":{\"color\":\"#2a3f5f\"},\"geo\":{\"bgcolor\":\"white\",\"lakecolor\":\"white\",\"landcolor\":\"#E5ECF6\",\"showlakes\":true,\"showland\":true,\"subunitcolor\":\"white\"},\"hoverlabel\":{\"align\":\"left\"},\"hovermode\":\"closest\",\"mapbox\":{\"style\":\"light\"},\"paper_bgcolor\":\"white\",\"plot_bgcolor\":\"#E5ECF6\",\"polar\":{\"angularaxis\":{\"gridcolor\":\"white\",\"linecolor\":\"white\",\"ticks\":\"\"},\"bgcolor\":\"#E5ECF6\",\"radialaxis\":{\"gridcolor\":\"white\",\"linecolor\":\"white\",\"ticks\":\"\"}},\"scene\":{\"xaxis\":{\"backgroundcolor\":\"#E5ECF6\",\"gridcolor\":\"white\",\"gridwidth\":2,\"linecolor\":\"white\",\"showbackground\":true,\"ticks\":\"\",\"zerolinecolor\":\"white\"},\"yaxis\":{\"backgroundcolor\":\"#E5ECF6\",\"gridcolor\":\"white\",\"gridwidth\":2,\"linecolor\":\"white\",\"showbackground\":true,\"ticks\":\"\",\"zerolinecolor\":\"white\"},\"zaxis\":{\"backgroundcolor\":\"#E5ECF6\",\"gridcolor\":\"white\",\"gridwidth\":2,\"linecolor\":\"white\",\"showbackground\":true,\"ticks\":\"\",\"zerolinecolor\":\"white\"}},\"shapedefaults\":{\"line\":{\"color\":\"#2a3f5f\"}},\"ternary\":{\"aaxis\":{\"gridcolor\":\"white\",\"linecolor\":\"white\",\"ticks\":\"\"},\"baxis\":{\"gridcolor\":\"white\",\"linecolor\":\"white\",\"ticks\":\"\"},\"bgcolor\":\"#E5ECF6\",\"caxis\":{\"gridcolor\":\"white\",\"linecolor\":\"white\",\"ticks\":\"\"}},\"title\":{\"x\":0.05},\"xaxis\":{\"automargin\":true,\"gridcolor\":\"white\",\"linecolor\":\"white\",\"ticks\":\"\",\"title\":{\"standoff\":15},\"zerolinecolor\":\"white\",\"zerolinewidth\":2},\"yaxis\":{\"automargin\":true,\"gridcolor\":\"white\",\"linecolor\":\"white\",\"ticks\":\"\",\"title\":{\"standoff\":15},\"zerolinecolor\":\"white\",\"zerolinewidth\":2}}},\"title\":{\"font\":{\"family\":\"Arial\",\"size\":16},\"text\":\"<b>Operational Emissions Intensity Benchmark</b><br>Sector: Industrials\",\"x\":0.5},\"xaxis\":{\"autorange\":\"reversed\",\"title\":{\"text\":\"<i>high</i>----------<b>Scope1+2 Emissions</b>----------<i>low</i>\"},\"type\":\"log\"},\"yaxis\":{\"title\":{\"text\":\"Revenue\"},\"type\":\"log\"}},                        {\"responsive\": true}                    ).then(function(){\n",
       "                            \n",
       "var gd = document.getElementById('c9247d25-4c5b-463b-bcba-2344b077dde3');\n",
       "var x = new MutationObserver(function (mutations, observer) {{\n",
       "        var display = window.getComputedStyle(gd).display;\n",
       "        if (!display || display === 'none') {{\n",
       "            console.log([gd, 'removed!']);\n",
       "            Plotly.purge(gd);\n",
       "            observer.disconnect();\n",
       "        }}\n",
       "}});\n",
       "\n",
       "// Listen for the removal of the full notebook cells\n",
       "var notebookContainer = gd.closest('#notebook-container');\n",
       "if (notebookContainer) {{\n",
       "    x.observe(notebookContainer, {childList: true});\n",
       "}}\n",
       "\n",
       "// Listen for the clearing of the current output cell\n",
       "var outputEl = gd.closest('.output');\n",
       "if (outputEl) {{\n",
       "    x.observe(outputEl, {childList: true});\n",
       "}}\n",
       "\n",
       "                        })                };                });            </script>        </div>"
      ]
     },
     "metadata": {}
    }
   ],
   "metadata": {
    "scrolled": true
   }
  },
  {
   "cell_type": "code",
   "execution_count": 27,
   "source": [
    "offline.iplot(fig, config = config)"
   ],
   "outputs": [
    {
     "output_type": "display_data",
     "data": {
      "application/vnd.plotly.v1+json": {
       "config": {
        "displaylogo": false,
        "linkText": "Export to plot.ly",
        "plotlyServerURL": "https://plot.ly",
        "showLink": false
       },
       "data": [
        {
         "line": {
          "color": "gray",
          "dash": "dash",
          "width": 2
         },
         "mode": "lines",
         "name": "Median y",
         "showlegend": false,
         "type": "scatter",
         "x": [
          1899066.5,
          1899066.5
         ],
         "y": [
          16790000000,
          84432000000
         ]
        },
        {
         "line": {
          "color": "gray",
          "dash": "dash",
          "width": 2
         },
         "mode": "lines",
         "name": "Median x",
         "showlegend": false,
         "type": "scatter",
         "x": [
          0,
          16402161
         ],
         "y": [
          49207500000,
          49207500000
         ]
        },
        {
         "hovertemplate": "%{text}<br><b>Revenue:</b>%{y}<br><b>Emissions:</b> %{x:.2s}",
         "line": {
          "color": "black"
         },
         "marker": {
          "color": [
           1668.5309470544369,
           231.4265573150393,
           424.9508934987783,
           507.12626563430615,
           1957.438599422393,
           200.97560975609755,
           298.5274054047288,
           620.1387867647059,
           117.96002935869599,
           0,
           5314.426867352685,
           1771.1294296001515
          ],
          "colorscale": [
           [
            0,
            "rgb(255,255,255)"
           ],
           [
            0.3333333333333333,
            "rgb(255,210,0)"
           ],
           [
            0.6666666666666666,
            "rgb(230,0,0)"
           ],
           [
            1,
            "rgb(0,0,0)"
           ]
          ],
          "line": {
           "color": "black",
           "width": 1
          },
          "showscale": true,
          "size": 25
         },
         "mode": "markers+text",
         "name": "benchmark",
         "showlegend": false,
         "text": [
          "3M",
          "Boeing",
          "Caterpillar Inc.",
          "Emerson Electric",
          "FedEx",
          "General Dynamics",
          "General Electric",
          "Honeywell Inc.",
          "Lockheed Martin Corp.",
          "Raytheon Technologies",
          "Union Pacific Corp",
          "United Parcel Service"
         ],
         "textposition": "top center",
         "type": "scatter",
         "x": [
          5370000,
          1346000,
          1774000,
          851465,
          16402161,
          762200,
          2385025,
          2024133,
          771435,
          0,
          10380670,
          14954000
         ],
         "y": [
          32184000000,
          58161000000,
          41746000000,
          16790000000,
          83794000000,
          37925000000,
          79893000000,
          32640000000,
          65398000000,
          56669000000,
          19533000000,
          84432000000
         ]
        },
        {
         "hovertemplate": "%{text}<br><b>Revenue:</b>%{y}<br><b>Emissions:</b> %{x:.2s}",
         "marker": {
          "color": "rgba(255,0,0, 0.01)",
          "line": {
           "color": "red",
           "width": 3
          },
          "size": 25
         },
         "mode": "markers",
         "showlegend": false,
         "text": [
          "3M"
         ],
         "type": "scatter",
         "x": [
          5370000
         ],
         "y": [
          32184000000
         ]
        }
       ],
       "layout": {
        "autosize": true,
        "height": 500,
        "margin": {
         "b": 50,
         "l": 50,
         "pad": 4,
         "r": 50,
         "t": 80
        },
        "paper_bgcolor": "#eeebf0",
        "plot_bgcolor": "#eeebf0",
        "template": {
         "data": {
          "bar": [
           {
            "error_x": {
             "color": "#2a3f5f"
            },
            "error_y": {
             "color": "#2a3f5f"
            },
            "marker": {
             "line": {
              "color": "#E5ECF6",
              "width": 0.5
             },
             "pattern": {
              "fillmode": "overlay",
              "size": 10,
              "solidity": 0.2
             }
            },
            "type": "bar"
           }
          ],
          "barpolar": [
           {
            "marker": {
             "line": {
              "color": "#E5ECF6",
              "width": 0.5
             },
             "pattern": {
              "fillmode": "overlay",
              "size": 10,
              "solidity": 0.2
             }
            },
            "type": "barpolar"
           }
          ],
          "carpet": [
           {
            "aaxis": {
             "endlinecolor": "#2a3f5f",
             "gridcolor": "white",
             "linecolor": "white",
             "minorgridcolor": "white",
             "startlinecolor": "#2a3f5f"
            },
            "baxis": {
             "endlinecolor": "#2a3f5f",
             "gridcolor": "white",
             "linecolor": "white",
             "minorgridcolor": "white",
             "startlinecolor": "#2a3f5f"
            },
            "type": "carpet"
           }
          ],
          "choropleth": [
           {
            "colorbar": {
             "outlinewidth": 0,
             "ticks": ""
            },
            "type": "choropleth"
           }
          ],
          "contour": [
           {
            "colorbar": {
             "outlinewidth": 0,
             "ticks": ""
            },
            "colorscale": [
             [
              0,
              "#0d0887"
             ],
             [
              0.1111111111111111,
              "#46039f"
             ],
             [
              0.2222222222222222,
              "#7201a8"
             ],
             [
              0.3333333333333333,
              "#9c179e"
             ],
             [
              0.4444444444444444,
              "#bd3786"
             ],
             [
              0.5555555555555556,
              "#d8576b"
             ],
             [
              0.6666666666666666,
              "#ed7953"
             ],
             [
              0.7777777777777778,
              "#fb9f3a"
             ],
             [
              0.8888888888888888,
              "#fdca26"
             ],
             [
              1,
              "#f0f921"
             ]
            ],
            "type": "contour"
           }
          ],
          "contourcarpet": [
           {
            "colorbar": {
             "outlinewidth": 0,
             "ticks": ""
            },
            "type": "contourcarpet"
           }
          ],
          "heatmap": [
           {
            "colorbar": {
             "outlinewidth": 0,
             "ticks": ""
            },
            "colorscale": [
             [
              0,
              "#0d0887"
             ],
             [
              0.1111111111111111,
              "#46039f"
             ],
             [
              0.2222222222222222,
              "#7201a8"
             ],
             [
              0.3333333333333333,
              "#9c179e"
             ],
             [
              0.4444444444444444,
              "#bd3786"
             ],
             [
              0.5555555555555556,
              "#d8576b"
             ],
             [
              0.6666666666666666,
              "#ed7953"
             ],
             [
              0.7777777777777778,
              "#fb9f3a"
             ],
             [
              0.8888888888888888,
              "#fdca26"
             ],
             [
              1,
              "#f0f921"
             ]
            ],
            "type": "heatmap"
           }
          ],
          "heatmapgl": [
           {
            "colorbar": {
             "outlinewidth": 0,
             "ticks": ""
            },
            "colorscale": [
             [
              0,
              "#0d0887"
             ],
             [
              0.1111111111111111,
              "#46039f"
             ],
             [
              0.2222222222222222,
              "#7201a8"
             ],
             [
              0.3333333333333333,
              "#9c179e"
             ],
             [
              0.4444444444444444,
              "#bd3786"
             ],
             [
              0.5555555555555556,
              "#d8576b"
             ],
             [
              0.6666666666666666,
              "#ed7953"
             ],
             [
              0.7777777777777778,
              "#fb9f3a"
             ],
             [
              0.8888888888888888,
              "#fdca26"
             ],
             [
              1,
              "#f0f921"
             ]
            ],
            "type": "heatmapgl"
           }
          ],
          "histogram": [
           {
            "marker": {
             "pattern": {
              "fillmode": "overlay",
              "size": 10,
              "solidity": 0.2
             }
            },
            "type": "histogram"
           }
          ],
          "histogram2d": [
           {
            "colorbar": {
             "outlinewidth": 0,
             "ticks": ""
            },
            "colorscale": [
             [
              0,
              "#0d0887"
             ],
             [
              0.1111111111111111,
              "#46039f"
             ],
             [
              0.2222222222222222,
              "#7201a8"
             ],
             [
              0.3333333333333333,
              "#9c179e"
             ],
             [
              0.4444444444444444,
              "#bd3786"
             ],
             [
              0.5555555555555556,
              "#d8576b"
             ],
             [
              0.6666666666666666,
              "#ed7953"
             ],
             [
              0.7777777777777778,
              "#fb9f3a"
             ],
             [
              0.8888888888888888,
              "#fdca26"
             ],
             [
              1,
              "#f0f921"
             ]
            ],
            "type": "histogram2d"
           }
          ],
          "histogram2dcontour": [
           {
            "colorbar": {
             "outlinewidth": 0,
             "ticks": ""
            },
            "colorscale": [
             [
              0,
              "#0d0887"
             ],
             [
              0.1111111111111111,
              "#46039f"
             ],
             [
              0.2222222222222222,
              "#7201a8"
             ],
             [
              0.3333333333333333,
              "#9c179e"
             ],
             [
              0.4444444444444444,
              "#bd3786"
             ],
             [
              0.5555555555555556,
              "#d8576b"
             ],
             [
              0.6666666666666666,
              "#ed7953"
             ],
             [
              0.7777777777777778,
              "#fb9f3a"
             ],
             [
              0.8888888888888888,
              "#fdca26"
             ],
             [
              1,
              "#f0f921"
             ]
            ],
            "type": "histogram2dcontour"
           }
          ],
          "mesh3d": [
           {
            "colorbar": {
             "outlinewidth": 0,
             "ticks": ""
            },
            "type": "mesh3d"
           }
          ],
          "parcoords": [
           {
            "line": {
             "colorbar": {
              "outlinewidth": 0,
              "ticks": ""
             }
            },
            "type": "parcoords"
           }
          ],
          "pie": [
           {
            "automargin": true,
            "type": "pie"
           }
          ],
          "scatter": [
           {
            "marker": {
             "colorbar": {
              "outlinewidth": 0,
              "ticks": ""
             }
            },
            "type": "scatter"
           }
          ],
          "scatter3d": [
           {
            "line": {
             "colorbar": {
              "outlinewidth": 0,
              "ticks": ""
             }
            },
            "marker": {
             "colorbar": {
              "outlinewidth": 0,
              "ticks": ""
             }
            },
            "type": "scatter3d"
           }
          ],
          "scattercarpet": [
           {
            "marker": {
             "colorbar": {
              "outlinewidth": 0,
              "ticks": ""
             }
            },
            "type": "scattercarpet"
           }
          ],
          "scattergeo": [
           {
            "marker": {
             "colorbar": {
              "outlinewidth": 0,
              "ticks": ""
             }
            },
            "type": "scattergeo"
           }
          ],
          "scattergl": [
           {
            "marker": {
             "colorbar": {
              "outlinewidth": 0,
              "ticks": ""
             }
            },
            "type": "scattergl"
           }
          ],
          "scattermapbox": [
           {
            "marker": {
             "colorbar": {
              "outlinewidth": 0,
              "ticks": ""
             }
            },
            "type": "scattermapbox"
           }
          ],
          "scatterpolar": [
           {
            "marker": {
             "colorbar": {
              "outlinewidth": 0,
              "ticks": ""
             }
            },
            "type": "scatterpolar"
           }
          ],
          "scatterpolargl": [
           {
            "marker": {
             "colorbar": {
              "outlinewidth": 0,
              "ticks": ""
             }
            },
            "type": "scatterpolargl"
           }
          ],
          "scatterternary": [
           {
            "marker": {
             "colorbar": {
              "outlinewidth": 0,
              "ticks": ""
             }
            },
            "type": "scatterternary"
           }
          ],
          "surface": [
           {
            "colorbar": {
             "outlinewidth": 0,
             "ticks": ""
            },
            "colorscale": [
             [
              0,
              "#0d0887"
             ],
             [
              0.1111111111111111,
              "#46039f"
             ],
             [
              0.2222222222222222,
              "#7201a8"
             ],
             [
              0.3333333333333333,
              "#9c179e"
             ],
             [
              0.4444444444444444,
              "#bd3786"
             ],
             [
              0.5555555555555556,
              "#d8576b"
             ],
             [
              0.6666666666666666,
              "#ed7953"
             ],
             [
              0.7777777777777778,
              "#fb9f3a"
             ],
             [
              0.8888888888888888,
              "#fdca26"
             ],
             [
              1,
              "#f0f921"
             ]
            ],
            "type": "surface"
           }
          ],
          "table": [
           {
            "cells": {
             "fill": {
              "color": "#EBF0F8"
             },
             "line": {
              "color": "white"
             }
            },
            "header": {
             "fill": {
              "color": "#C8D4E3"
             },
             "line": {
              "color": "white"
             }
            },
            "type": "table"
           }
          ]
         },
         "layout": {
          "annotationdefaults": {
           "arrowcolor": "#2a3f5f",
           "arrowhead": 0,
           "arrowwidth": 1
          },
          "autotypenumbers": "strict",
          "coloraxis": {
           "colorbar": {
            "outlinewidth": 0,
            "ticks": ""
           }
          },
          "colorscale": {
           "diverging": [
            [
             0,
             "#8e0152"
            ],
            [
             0.1,
             "#c51b7d"
            ],
            [
             0.2,
             "#de77ae"
            ],
            [
             0.3,
             "#f1b6da"
            ],
            [
             0.4,
             "#fde0ef"
            ],
            [
             0.5,
             "#f7f7f7"
            ],
            [
             0.6,
             "#e6f5d0"
            ],
            [
             0.7,
             "#b8e186"
            ],
            [
             0.8,
             "#7fbc41"
            ],
            [
             0.9,
             "#4d9221"
            ],
            [
             1,
             "#276419"
            ]
           ],
           "sequential": [
            [
             0,
             "#0d0887"
            ],
            [
             0.1111111111111111,
             "#46039f"
            ],
            [
             0.2222222222222222,
             "#7201a8"
            ],
            [
             0.3333333333333333,
             "#9c179e"
            ],
            [
             0.4444444444444444,
             "#bd3786"
            ],
            [
             0.5555555555555556,
             "#d8576b"
            ],
            [
             0.6666666666666666,
             "#ed7953"
            ],
            [
             0.7777777777777778,
             "#fb9f3a"
            ],
            [
             0.8888888888888888,
             "#fdca26"
            ],
            [
             1,
             "#f0f921"
            ]
           ],
           "sequentialminus": [
            [
             0,
             "#0d0887"
            ],
            [
             0.1111111111111111,
             "#46039f"
            ],
            [
             0.2222222222222222,
             "#7201a8"
            ],
            [
             0.3333333333333333,
             "#9c179e"
            ],
            [
             0.4444444444444444,
             "#bd3786"
            ],
            [
             0.5555555555555556,
             "#d8576b"
            ],
            [
             0.6666666666666666,
             "#ed7953"
            ],
            [
             0.7777777777777778,
             "#fb9f3a"
            ],
            [
             0.8888888888888888,
             "#fdca26"
            ],
            [
             1,
             "#f0f921"
            ]
           ]
          },
          "colorway": [
           "#636efa",
           "#EF553B",
           "#00cc96",
           "#ab63fa",
           "#FFA15A",
           "#19d3f3",
           "#FF6692",
           "#B6E880",
           "#FF97FF",
           "#FECB52"
          ],
          "font": {
           "color": "#2a3f5f"
          },
          "geo": {
           "bgcolor": "white",
           "lakecolor": "white",
           "landcolor": "#E5ECF6",
           "showlakes": true,
           "showland": true,
           "subunitcolor": "white"
          },
          "hoverlabel": {
           "align": "left"
          },
          "hovermode": "closest",
          "mapbox": {
           "style": "light"
          },
          "paper_bgcolor": "white",
          "plot_bgcolor": "#E5ECF6",
          "polar": {
           "angularaxis": {
            "gridcolor": "white",
            "linecolor": "white",
            "ticks": ""
           },
           "bgcolor": "#E5ECF6",
           "radialaxis": {
            "gridcolor": "white",
            "linecolor": "white",
            "ticks": ""
           }
          },
          "scene": {
           "xaxis": {
            "backgroundcolor": "#E5ECF6",
            "gridcolor": "white",
            "gridwidth": 2,
            "linecolor": "white",
            "showbackground": true,
            "ticks": "",
            "zerolinecolor": "white"
           },
           "yaxis": {
            "backgroundcolor": "#E5ECF6",
            "gridcolor": "white",
            "gridwidth": 2,
            "linecolor": "white",
            "showbackground": true,
            "ticks": "",
            "zerolinecolor": "white"
           },
           "zaxis": {
            "backgroundcolor": "#E5ECF6",
            "gridcolor": "white",
            "gridwidth": 2,
            "linecolor": "white",
            "showbackground": true,
            "ticks": "",
            "zerolinecolor": "white"
           }
          },
          "shapedefaults": {
           "line": {
            "color": "#2a3f5f"
           }
          },
          "ternary": {
           "aaxis": {
            "gridcolor": "white",
            "linecolor": "white",
            "ticks": ""
           },
           "baxis": {
            "gridcolor": "white",
            "linecolor": "white",
            "ticks": ""
           },
           "bgcolor": "#E5ECF6",
           "caxis": {
            "gridcolor": "white",
            "linecolor": "white",
            "ticks": ""
           }
          },
          "title": {
           "x": 0.05
          },
          "xaxis": {
           "automargin": true,
           "gridcolor": "white",
           "linecolor": "white",
           "ticks": "",
           "title": {
            "standoff": 15
           },
           "zerolinecolor": "white",
           "zerolinewidth": 2
          },
          "yaxis": {
           "automargin": true,
           "gridcolor": "white",
           "linecolor": "white",
           "ticks": "",
           "title": {
            "standoff": 15
           },
           "zerolinecolor": "white",
           "zerolinewidth": 2
          }
         }
        },
        "title": {
         "font": {
          "family": "Arial",
          "size": 16
         },
         "text": "<b>Operational Emissions Intensity Benchmark</b><br>Sector: Industrials",
         "x": 0.5
        },
        "xaxis": {
         "autorange": "reversed",
         "title": {
          "text": "<i>high</i>----------<b>Scope1+2 Emissions</b>----------<i>low</i>"
         },
         "type": "log"
        },
        "yaxis": {
         "title": {
          "text": "Revenue"
         },
         "type": "log"
        }
       }
      },
      "text/html": [
       "<div>                            <div id=\"5fb286cc-97b4-4e74-9d9d-2c293224f110\" class=\"plotly-graph-div\" style=\"height:500px; width:100%;\"></div>            <script type=\"text/javascript\">                require([\"plotly\"], function(Plotly) {                    window.PLOTLYENV=window.PLOTLYENV || {};                                    if (document.getElementById(\"5fb286cc-97b4-4e74-9d9d-2c293224f110\")) {                    Plotly.newPlot(                        \"5fb286cc-97b4-4e74-9d9d-2c293224f110\",                        [{\"line\":{\"color\":\"gray\",\"dash\":\"dash\",\"width\":2},\"mode\":\"lines\",\"name\":\"Median y\",\"showlegend\":false,\"type\":\"scatter\",\"x\":[1899066.5,1899066.5],\"y\":[16790000000.0,84432000000.0]},{\"line\":{\"color\":\"gray\",\"dash\":\"dash\",\"width\":2},\"mode\":\"lines\",\"name\":\"Median x\",\"showlegend\":false,\"type\":\"scatter\",\"x\":[0.0,16402161.0],\"y\":[49207500000.0,49207500000.0]},{\"hovertemplate\":\"%{text}<br><b>Revenue:</b>%{y}<br><b>Emissions:</b> %{x:.2s}\",\"line\":{\"color\":\"black\"},\"marker\":{\"color\":[1668.5309470544369,231.4265573150393,424.9508934987783,507.12626563430615,1957.438599422393,200.97560975609755,298.5274054047288,620.1387867647059,117.96002935869599,0.0,5314.426867352685,1771.1294296001515],\"colorscale\":[[0.0,\"rgb(255,255,255)\"],[0.3333333333333333,\"rgb(255,210,0)\"],[0.6666666666666666,\"rgb(230,0,0)\"],[1.0,\"rgb(0,0,0)\"]],\"line\":{\"color\":\"black\",\"width\":1},\"showscale\":true,\"size\":25},\"mode\":\"markers+text\",\"name\":\"benchmark\",\"showlegend\":false,\"text\":[\"3M\",\"Boeing\",\"Caterpillar Inc.\",\"Emerson Electric\",\"FedEx\",\"General Dynamics\",\"General Electric\",\"Honeywell Inc.\",\"Lockheed Martin Corp.\",\"Raytheon Technologies\",\"Union Pacific Corp\",\"United Parcel Service\"],\"textposition\":\"top center\",\"type\":\"scatter\",\"x\":[5370000.0,1346000.0,1774000.0,851465.0,16402161.0,762200.0,2385025.0,2024133.0,771435.0,0.0,10380670.0,14954000.0],\"y\":[32184000000.0,58161000000.0,41746000000.0,16790000000.0,83794000000.0,37925000000.0,79893000000.0,32640000000.0,65398000000.0,56669000000.0,19533000000.0,84432000000.0]},{\"hovertemplate\":\"%{text}<br><b>Revenue:</b>%{y}<br><b>Emissions:</b> %{x:.2s}\",\"marker\":{\"color\":\"rgba(255,0,0, 0.01)\",\"line\":{\"color\":\"red\",\"width\":3},\"size\":25},\"mode\":\"markers\",\"showlegend\":false,\"text\":[\"3M\"],\"type\":\"scatter\",\"x\":[5370000.0],\"y\":[32184000000.0]}],                        {\"autosize\":true,\"height\":500,\"margin\":{\"b\":50,\"l\":50,\"pad\":4,\"r\":50,\"t\":80},\"paper_bgcolor\":\"#eeebf0\",\"plot_bgcolor\":\"#eeebf0\",\"template\":{\"data\":{\"bar\":[{\"error_x\":{\"color\":\"#2a3f5f\"},\"error_y\":{\"color\":\"#2a3f5f\"},\"marker\":{\"line\":{\"color\":\"#E5ECF6\",\"width\":0.5},\"pattern\":{\"fillmode\":\"overlay\",\"size\":10,\"solidity\":0.2}},\"type\":\"bar\"}],\"barpolar\":[{\"marker\":{\"line\":{\"color\":\"#E5ECF6\",\"width\":0.5},\"pattern\":{\"fillmode\":\"overlay\",\"size\":10,\"solidity\":0.2}},\"type\":\"barpolar\"}],\"carpet\":[{\"aaxis\":{\"endlinecolor\":\"#2a3f5f\",\"gridcolor\":\"white\",\"linecolor\":\"white\",\"minorgridcolor\":\"white\",\"startlinecolor\":\"#2a3f5f\"},\"baxis\":{\"endlinecolor\":\"#2a3f5f\",\"gridcolor\":\"white\",\"linecolor\":\"white\",\"minorgridcolor\":\"white\",\"startlinecolor\":\"#2a3f5f\"},\"type\":\"carpet\"}],\"choropleth\":[{\"colorbar\":{\"outlinewidth\":0,\"ticks\":\"\"},\"type\":\"choropleth\"}],\"contour\":[{\"colorbar\":{\"outlinewidth\":0,\"ticks\":\"\"},\"colorscale\":[[0.0,\"#0d0887\"],[0.1111111111111111,\"#46039f\"],[0.2222222222222222,\"#7201a8\"],[0.3333333333333333,\"#9c179e\"],[0.4444444444444444,\"#bd3786\"],[0.5555555555555556,\"#d8576b\"],[0.6666666666666666,\"#ed7953\"],[0.7777777777777778,\"#fb9f3a\"],[0.8888888888888888,\"#fdca26\"],[1.0,\"#f0f921\"]],\"type\":\"contour\"}],\"contourcarpet\":[{\"colorbar\":{\"outlinewidth\":0,\"ticks\":\"\"},\"type\":\"contourcarpet\"}],\"heatmap\":[{\"colorbar\":{\"outlinewidth\":0,\"ticks\":\"\"},\"colorscale\":[[0.0,\"#0d0887\"],[0.1111111111111111,\"#46039f\"],[0.2222222222222222,\"#7201a8\"],[0.3333333333333333,\"#9c179e\"],[0.4444444444444444,\"#bd3786\"],[0.5555555555555556,\"#d8576b\"],[0.6666666666666666,\"#ed7953\"],[0.7777777777777778,\"#fb9f3a\"],[0.8888888888888888,\"#fdca26\"],[1.0,\"#f0f921\"]],\"type\":\"heatmap\"}],\"heatmapgl\":[{\"colorbar\":{\"outlinewidth\":0,\"ticks\":\"\"},\"colorscale\":[[0.0,\"#0d0887\"],[0.1111111111111111,\"#46039f\"],[0.2222222222222222,\"#7201a8\"],[0.3333333333333333,\"#9c179e\"],[0.4444444444444444,\"#bd3786\"],[0.5555555555555556,\"#d8576b\"],[0.6666666666666666,\"#ed7953\"],[0.7777777777777778,\"#fb9f3a\"],[0.8888888888888888,\"#fdca26\"],[1.0,\"#f0f921\"]],\"type\":\"heatmapgl\"}],\"histogram\":[{\"marker\":{\"pattern\":{\"fillmode\":\"overlay\",\"size\":10,\"solidity\":0.2}},\"type\":\"histogram\"}],\"histogram2d\":[{\"colorbar\":{\"outlinewidth\":0,\"ticks\":\"\"},\"colorscale\":[[0.0,\"#0d0887\"],[0.1111111111111111,\"#46039f\"],[0.2222222222222222,\"#7201a8\"],[0.3333333333333333,\"#9c179e\"],[0.4444444444444444,\"#bd3786\"],[0.5555555555555556,\"#d8576b\"],[0.6666666666666666,\"#ed7953\"],[0.7777777777777778,\"#fb9f3a\"],[0.8888888888888888,\"#fdca26\"],[1.0,\"#f0f921\"]],\"type\":\"histogram2d\"}],\"histogram2dcontour\":[{\"colorbar\":{\"outlinewidth\":0,\"ticks\":\"\"},\"colorscale\":[[0.0,\"#0d0887\"],[0.1111111111111111,\"#46039f\"],[0.2222222222222222,\"#7201a8\"],[0.3333333333333333,\"#9c179e\"],[0.4444444444444444,\"#bd3786\"],[0.5555555555555556,\"#d8576b\"],[0.6666666666666666,\"#ed7953\"],[0.7777777777777778,\"#fb9f3a\"],[0.8888888888888888,\"#fdca26\"],[1.0,\"#f0f921\"]],\"type\":\"histogram2dcontour\"}],\"mesh3d\":[{\"colorbar\":{\"outlinewidth\":0,\"ticks\":\"\"},\"type\":\"mesh3d\"}],\"parcoords\":[{\"line\":{\"colorbar\":{\"outlinewidth\":0,\"ticks\":\"\"}},\"type\":\"parcoords\"}],\"pie\":[{\"automargin\":true,\"type\":\"pie\"}],\"scatter\":[{\"marker\":{\"colorbar\":{\"outlinewidth\":0,\"ticks\":\"\"}},\"type\":\"scatter\"}],\"scatter3d\":[{\"line\":{\"colorbar\":{\"outlinewidth\":0,\"ticks\":\"\"}},\"marker\":{\"colorbar\":{\"outlinewidth\":0,\"ticks\":\"\"}},\"type\":\"scatter3d\"}],\"scattercarpet\":[{\"marker\":{\"colorbar\":{\"outlinewidth\":0,\"ticks\":\"\"}},\"type\":\"scattercarpet\"}],\"scattergeo\":[{\"marker\":{\"colorbar\":{\"outlinewidth\":0,\"ticks\":\"\"}},\"type\":\"scattergeo\"}],\"scattergl\":[{\"marker\":{\"colorbar\":{\"outlinewidth\":0,\"ticks\":\"\"}},\"type\":\"scattergl\"}],\"scattermapbox\":[{\"marker\":{\"colorbar\":{\"outlinewidth\":0,\"ticks\":\"\"}},\"type\":\"scattermapbox\"}],\"scatterpolar\":[{\"marker\":{\"colorbar\":{\"outlinewidth\":0,\"ticks\":\"\"}},\"type\":\"scatterpolar\"}],\"scatterpolargl\":[{\"marker\":{\"colorbar\":{\"outlinewidth\":0,\"ticks\":\"\"}},\"type\":\"scatterpolargl\"}],\"scatterternary\":[{\"marker\":{\"colorbar\":{\"outlinewidth\":0,\"ticks\":\"\"}},\"type\":\"scatterternary\"}],\"surface\":[{\"colorbar\":{\"outlinewidth\":0,\"ticks\":\"\"},\"colorscale\":[[0.0,\"#0d0887\"],[0.1111111111111111,\"#46039f\"],[0.2222222222222222,\"#7201a8\"],[0.3333333333333333,\"#9c179e\"],[0.4444444444444444,\"#bd3786\"],[0.5555555555555556,\"#d8576b\"],[0.6666666666666666,\"#ed7953\"],[0.7777777777777778,\"#fb9f3a\"],[0.8888888888888888,\"#fdca26\"],[1.0,\"#f0f921\"]],\"type\":\"surface\"}],\"table\":[{\"cells\":{\"fill\":{\"color\":\"#EBF0F8\"},\"line\":{\"color\":\"white\"}},\"header\":{\"fill\":{\"color\":\"#C8D4E3\"},\"line\":{\"color\":\"white\"}},\"type\":\"table\"}]},\"layout\":{\"annotationdefaults\":{\"arrowcolor\":\"#2a3f5f\",\"arrowhead\":0,\"arrowwidth\":1},\"autotypenumbers\":\"strict\",\"coloraxis\":{\"colorbar\":{\"outlinewidth\":0,\"ticks\":\"\"}},\"colorscale\":{\"diverging\":[[0,\"#8e0152\"],[0.1,\"#c51b7d\"],[0.2,\"#de77ae\"],[0.3,\"#f1b6da\"],[0.4,\"#fde0ef\"],[0.5,\"#f7f7f7\"],[0.6,\"#e6f5d0\"],[0.7,\"#b8e186\"],[0.8,\"#7fbc41\"],[0.9,\"#4d9221\"],[1,\"#276419\"]],\"sequential\":[[0.0,\"#0d0887\"],[0.1111111111111111,\"#46039f\"],[0.2222222222222222,\"#7201a8\"],[0.3333333333333333,\"#9c179e\"],[0.4444444444444444,\"#bd3786\"],[0.5555555555555556,\"#d8576b\"],[0.6666666666666666,\"#ed7953\"],[0.7777777777777778,\"#fb9f3a\"],[0.8888888888888888,\"#fdca26\"],[1.0,\"#f0f921\"]],\"sequentialminus\":[[0.0,\"#0d0887\"],[0.1111111111111111,\"#46039f\"],[0.2222222222222222,\"#7201a8\"],[0.3333333333333333,\"#9c179e\"],[0.4444444444444444,\"#bd3786\"],[0.5555555555555556,\"#d8576b\"],[0.6666666666666666,\"#ed7953\"],[0.7777777777777778,\"#fb9f3a\"],[0.8888888888888888,\"#fdca26\"],[1.0,\"#f0f921\"]]},\"colorway\":[\"#636efa\",\"#EF553B\",\"#00cc96\",\"#ab63fa\",\"#FFA15A\",\"#19d3f3\",\"#FF6692\",\"#B6E880\",\"#FF97FF\",\"#FECB52\"],\"font\":{\"color\":\"#2a3f5f\"},\"geo\":{\"bgcolor\":\"white\",\"lakecolor\":\"white\",\"landcolor\":\"#E5ECF6\",\"showlakes\":true,\"showland\":true,\"subunitcolor\":\"white\"},\"hoverlabel\":{\"align\":\"left\"},\"hovermode\":\"closest\",\"mapbox\":{\"style\":\"light\"},\"paper_bgcolor\":\"white\",\"plot_bgcolor\":\"#E5ECF6\",\"polar\":{\"angularaxis\":{\"gridcolor\":\"white\",\"linecolor\":\"white\",\"ticks\":\"\"},\"bgcolor\":\"#E5ECF6\",\"radialaxis\":{\"gridcolor\":\"white\",\"linecolor\":\"white\",\"ticks\":\"\"}},\"scene\":{\"xaxis\":{\"backgroundcolor\":\"#E5ECF6\",\"gridcolor\":\"white\",\"gridwidth\":2,\"linecolor\":\"white\",\"showbackground\":true,\"ticks\":\"\",\"zerolinecolor\":\"white\"},\"yaxis\":{\"backgroundcolor\":\"#E5ECF6\",\"gridcolor\":\"white\",\"gridwidth\":2,\"linecolor\":\"white\",\"showbackground\":true,\"ticks\":\"\",\"zerolinecolor\":\"white\"},\"zaxis\":{\"backgroundcolor\":\"#E5ECF6\",\"gridcolor\":\"white\",\"gridwidth\":2,\"linecolor\":\"white\",\"showbackground\":true,\"ticks\":\"\",\"zerolinecolor\":\"white\"}},\"shapedefaults\":{\"line\":{\"color\":\"#2a3f5f\"}},\"ternary\":{\"aaxis\":{\"gridcolor\":\"white\",\"linecolor\":\"white\",\"ticks\":\"\"},\"baxis\":{\"gridcolor\":\"white\",\"linecolor\":\"white\",\"ticks\":\"\"},\"bgcolor\":\"#E5ECF6\",\"caxis\":{\"gridcolor\":\"white\",\"linecolor\":\"white\",\"ticks\":\"\"}},\"title\":{\"x\":0.05},\"xaxis\":{\"automargin\":true,\"gridcolor\":\"white\",\"linecolor\":\"white\",\"ticks\":\"\",\"title\":{\"standoff\":15},\"zerolinecolor\":\"white\",\"zerolinewidth\":2},\"yaxis\":{\"automargin\":true,\"gridcolor\":\"white\",\"linecolor\":\"white\",\"ticks\":\"\",\"title\":{\"standoff\":15},\"zerolinecolor\":\"white\",\"zerolinewidth\":2}}},\"title\":{\"font\":{\"family\":\"Arial\",\"size\":16},\"text\":\"<b>Operational Emissions Intensity Benchmark</b><br>Sector: Industrials\",\"x\":0.5},\"xaxis\":{\"autorange\":\"reversed\",\"title\":{\"text\":\"<i>high</i>----------<b>Scope1+2 Emissions</b>----------<i>low</i>\"},\"type\":\"log\"},\"yaxis\":{\"title\":{\"text\":\"Revenue\"},\"type\":\"log\"}},                        {\"displaylogo\": false, \"responsive\": true}                    ).then(function(){\n",
       "                            \n",
       "var gd = document.getElementById('5fb286cc-97b4-4e74-9d9d-2c293224f110');\n",
       "var x = new MutationObserver(function (mutations, observer) {{\n",
       "        var display = window.getComputedStyle(gd).display;\n",
       "        if (!display || display === 'none') {{\n",
       "            console.log([gd, 'removed!']);\n",
       "            Plotly.purge(gd);\n",
       "            observer.disconnect();\n",
       "        }}\n",
       "}});\n",
       "\n",
       "// Listen for the removal of the full notebook cells\n",
       "var notebookContainer = gd.closest('#notebook-container');\n",
       "if (notebookContainer) {{\n",
       "    x.observe(notebookContainer, {childList: true});\n",
       "}}\n",
       "\n",
       "// Listen for the clearing of the current output cell\n",
       "var outputEl = gd.closest('.output');\n",
       "if (outputEl) {{\n",
       "    x.observe(outputEl, {childList: true});\n",
       "}}\n",
       "\n",
       "                        })                };                });            </script>        </div>"
      ]
     },
     "metadata": {}
    }
   ],
   "metadata": {}
  },
  {
   "cell_type": "code",
   "execution_count": 25,
   "source": [
    "    path = Path(os.path.dirname (os.getcwd()))\n",
    "    XLSX_PATH = os.path.join(path.parent.parent, 'sp100.xlsx')\n",
    "    \n",
    "    COLS_TO_USE = {\n",
    "    'companies':['company_id', 'company_name'],\n",
    "    'ghg_quant':['company_id', 'ghg_scope_1','ghg_loc_scope_2','ghg_mkt_scope_2', 'reporting_year', \"Source\"],\n",
    "    'grouping':['company_id', 'Sector1'],\n",
    "    'financials':['company_id', 'Revenue_num_tradingview']\n",
    "    }\n",
    "\n",
    "    all_df = []\n",
    "    for sheetname, cols in COLS_TO_USE.items():\n",
    "        all_df.append(pd.read_excel(\n",
    "            XLSX_PATH, \n",
    "            sheet_name = sheetname,\n",
    "            engine = 'openpyxl', \n",
    "            usecols = cols\n",
    "            ))\n",
    "    merged_df = all_df[0]\n",
    "    for i in range(len(COLS_TO_USE) - 1):\n",
    "        merged_df = pd.merge(\n",
    "            left = merged_df,\n",
    "            right = all_df[i+1],\n",
    "            how=\"left\",\n",
    "            on=\"company_id\"\n",
    "        )\n",
    "    # Select Final Figures and Year 2019\n",
    "    cond1 = (merged_df['reporting_year'] == 2019)\n",
    "    cond2 = (merged_df['Source']== 'Final')\n",
    "    filter_cond = cond1 & cond2\n",
    "    merged_df = merged_df.loc[filter_cond]\n",
    "\n",
    "    a =  merged_df[merged_df['company_id']==company_id]['Sector1']\n",
    "    if len(a) > 0:\n",
    "        sector = a.iloc[0]\n",
    "    merged_df_sector = merged_df.loc[merged_df['Sector1']==sector]\n",
    "\n",
    "    scope1 = pd.to_numeric(merged_df_sector['ghg_scope_1'], errors = 'coerce')\n",
    "    scope2_loc = pd.to_numeric(merged_df_sector['ghg_loc_scope_2'], errors = 'coerce')\n",
    "    scope2_mkt = pd.to_numeric(merged_df_sector['ghg_mkt_scope_2'], errors = 'coerce')\n",
    "\n",
    "    merged_df_sector = merged_df_sector.assign(scope1_plus_scope2_loc= scope1 + scope2_loc)\n",
    "    merged_df_sector = merged_df_sector.assign(scope1_plus_scope2_mkt= scope1 + scope2_mkt)\n",
    "    merged_df_sector['scope1_plus_scope2'] = merged_df_sector[['scope1_plus_scope2_loc','scope1_plus_scope2_mkt']].min(axis=1)\n",
    "\n",
    "    fields = ['company_id','company_name','ghg_scope_1', 'Sector1','Revenue_num_tradingview','scope1_plus_scope2']\n",
    "    merged_df_sector = merged_df_sector [fields]\n",
    "\n",
    "    merged_df_sector = merged_df_sector.dropna()\n",
    "    merged_df_sector = merged_df_sector.assign(intensity=merged_df_sector['scope1_plus_scope2'] / merged_df_sector['Revenue_num_tradingview'])\n",
    "    corp_x = merged_df_sector[merged_df_sector['company_id']==company_id]['scope1_plus_scope2'].iloc[0]\n",
    "    corp_y = merged_df_sector[merged_df_sector['company_id']==company_id]['Revenue_num_tradingview'].iloc[0]\n",
    "    corp_name = merged_df_sector[merged_df_sector['company_id']==company_id]['company_name'].iloc[0]\n",
    "    x0 = merged_df_sector['scope1_plus_scope2']\n",
    "    y0 = merged_df_sector['Revenue_num_tradingview']\n",
    "    intensity_data = 10000000 * merged_df_sector['intensity']\n",
    "    #index_corp = merged_df_sector.loc[merged_df_sector['company_id'] == company_id].index\n",
    "    #merged_df_sector.drop(index_corp , inplace=True)\n",
    "    x_median_x = [x0.min(), x0.max()]\n",
    "    y_median_x = [y0.median(), y0.median()]\n",
    "    x_median_y = [x0.median(), x0.median()]\n",
    "    y_median_y = [y0.min(), y0.max()]\n",
    "\n",
    "    layout = go.Layout (\n",
    "        title = '<b>Operational Emissions Intensity Benchmark</b><br>Sector: ' + sector,\n",
    "        title_x = 0.5,\n",
    "        titlefont = dict(\n",
    "            family = 'Arial',\n",
    "            size = 16),\n",
    "        plot_bgcolor = 'antiquewhite',\n",
    "        xaxis =  dict(\n",
    "            autorange = \"reversed\",\n",
    "            type = 'log',\n",
    "            title = '<i>high</i>----------<b>Scope1+2 Emissions</b>----------<i>low</i>'),\n",
    "        yaxis = dict(\n",
    "            type = 'log',\n",
    "            title = 'Revenue'),\n",
    "            )\n",
    "\n",
    "    trace1 = go.Scatter(x=x_median_y, \n",
    "                        y=y_median_y, \n",
    "                        showlegend = False, \n",
    "                        name='Median y',\n",
    "                        mode = \"lines\",\n",
    "                        line = dict(color='gray', \n",
    "                                    width=2, \n",
    "                                    dash='dash'))\n",
    "\n",
    "    trace2 = go.Scatter(x=x_median_x, \n",
    "                            y=y_median_x, \n",
    "                            showlegend = False, \n",
    "                            name='Median x', \n",
    "                            mode = \"lines\",\n",
    "                            line = {'color':'gray', \n",
    "                                    'width':2, \n",
    "                                    'dash':'dash'}\n",
    "                            )\n",
    "\n",
    "    trace3 = go.Scatter(\n",
    "        x=merged_df_sector['scope1_plus_scope2'], \n",
    "        y=merged_df_sector['Revenue_num_tradingview'],\n",
    "        showlegend = False,\n",
    "        name=\"benchmark\", \n",
    "        text=merged_df_sector['company_name'],\n",
    "        mode = 'markers+text',\n",
    "        line = {'color':'black'}, \n",
    "        marker = dict (\n",
    "            color=intensity_data,\n",
    "            size=25,\n",
    "            showscale=True,\n",
    "            colorscale='Hot_r',\n",
    "            line=dict(\n",
    "                    color='black',\n",
    "                    width=1,\n",
    "                )\n",
    "\n",
    "            ),\n",
    "        hovertemplate = '%{text}<br><b>Revenue:</b>%{y}'+ '<br><b>Emissions:</b> %{x:.2s}', # + '<br><b>Intensity: </b> %{intensity_data}',\n",
    "        textposition='top center'\n",
    "        )\n",
    "\n",
    "    fig = go.Figure(data = [trace1, trace2, trace3], \n",
    "                    layout = layout)\n",
    "                    \n",
    "    \n",
    "    fig.add_trace(\n",
    "        go.Scatter(\n",
    "            mode='markers',\n",
    "            x=[corp_x],\n",
    "            y=[corp_y],\n",
    "            text = [corp_name],\n",
    "            marker=dict(\n",
    "                color='rgba(255,0,0, 0.01)',#'rgba(135, 206, 250, 0.01)',\n",
    "                size=25,\n",
    "                line=dict(\n",
    "                    color='red',\n",
    "                    width=3,\n",
    "                )\n",
    "            ),\n",
    "            \n",
    "            hovertemplate = '%{text}<br><b>Revenue:</b>%{y}'+ '<br><b>Emissions:</b> %{x:.2s}', # + '<br><b>Intensity: </b> %{intensity_data}',\n",
    "            showlegend=False\n",
    "        )\n",
    "    )\n",
    "\n",
    "    \n",
    "    full_fig = fig.full_figure_for_development(warn=False)\n",
    "\n",
    "    x_range = full_fig.layout.xaxis.range\n",
    "    y_range = full_fig.layout.yaxis.range\n",
    "                    \n",
    "    fig.update_layout(\n",
    "        autosize=False,\n",
    "        width=1000,\n",
    "        height=500,\n",
    "        margin=dict(\n",
    "            l=50,\n",
    "            r=50,\n",
    "            b=50,\n",
    "            t=80,\n",
    "            pad=4\n",
    "        ),\n",
    "        paper_bgcolor=\"#eeebf0\",\n",
    "        plot_bgcolor = '#eeebf0',\n",
    "    )"
   ],
   "outputs": [
    {
     "output_type": "display_data",
     "data": {
      "application/vnd.plotly.v1+json": {
       "config": {
        "plotlyServerURL": "https://plot.ly"
       },
       "data": [
        {
         "line": {
          "color": "gray",
          "dash": "dash",
          "width": 2
         },
         "mode": "lines",
         "name": "Median y",
         "showlegend": false,
         "type": "scatter",
         "x": [
          1899066.5,
          1899066.5
         ],
         "y": [
          16790000000,
          84432000000
         ]
        },
        {
         "line": {
          "color": "gray",
          "dash": "dash",
          "width": 2
         },
         "mode": "lines",
         "name": "Median x",
         "showlegend": false,
         "type": "scatter",
         "x": [
          0,
          16402161
         ],
         "y": [
          49207500000,
          49207500000
         ]
        },
        {
         "hovertemplate": "%{text}<br><b>Revenue:</b>%{y}<br><b>Emissions:</b> %{x:.2s}",
         "line": {
          "color": "black"
         },
         "marker": {
          "color": [
           1668.5309470544369,
           231.4265573150393,
           424.9508934987783,
           507.12626563430615,
           1957.438599422393,
           200.97560975609755,
           298.5274054047288,
           620.1387867647059,
           117.96002935869599,
           0,
           5314.426867352685,
           1771.1294296001515
          ],
          "colorscale": [
           [
            0,
            "rgb(255,255,255)"
           ],
           [
            0.3333333333333333,
            "rgb(255,210,0)"
           ],
           [
            0.6666666666666666,
            "rgb(230,0,0)"
           ],
           [
            1,
            "rgb(0,0,0)"
           ]
          ],
          "line": {
           "color": "black",
           "width": 1
          },
          "showscale": true,
          "size": 25
         },
         "mode": "markers+text",
         "name": "benchmark",
         "showlegend": false,
         "text": [
          "3M",
          "Boeing",
          "Caterpillar Inc.",
          "Emerson Electric",
          "FedEx",
          "General Dynamics",
          "General Electric",
          "Honeywell Inc.",
          "Lockheed Martin Corp.",
          "Raytheon Technologies",
          "Union Pacific Corp",
          "United Parcel Service"
         ],
         "textposition": "top center",
         "type": "scatter",
         "x": [
          5370000,
          1346000,
          1774000,
          851465,
          16402161,
          762200,
          2385025,
          2024133,
          771435,
          0,
          10380670,
          14954000
         ],
         "y": [
          32184000000,
          58161000000,
          41746000000,
          16790000000,
          83794000000,
          37925000000,
          79893000000,
          32640000000,
          65398000000,
          56669000000,
          19533000000,
          84432000000
         ]
        },
        {
         "hovertemplate": "%{text}<br><b>Revenue:</b>%{y}<br><b>Emissions:</b> %{x:.2s}",
         "marker": {
          "color": "rgba(255,0,0, 0.01)",
          "line": {
           "color": "red",
           "width": 3
          },
          "size": 25
         },
         "mode": "markers",
         "showlegend": false,
         "text": [
          "3M"
         ],
         "type": "scatter",
         "x": [
          5370000
         ],
         "y": [
          32184000000
         ]
        }
       ],
       "layout": {
        "autosize": false,
        "height": 500,
        "margin": {
         "b": 50,
         "l": 50,
         "pad": 4,
         "r": 50,
         "t": 80
        },
        "paper_bgcolor": "#eeebf0",
        "plot_bgcolor": "#eeebf0",
        "template": {
         "data": {
          "bar": [
           {
            "error_x": {
             "color": "#2a3f5f"
            },
            "error_y": {
             "color": "#2a3f5f"
            },
            "marker": {
             "line": {
              "color": "#E5ECF6",
              "width": 0.5
             },
             "pattern": {
              "fillmode": "overlay",
              "size": 10,
              "solidity": 0.2
             }
            },
            "type": "bar"
           }
          ],
          "barpolar": [
           {
            "marker": {
             "line": {
              "color": "#E5ECF6",
              "width": 0.5
             },
             "pattern": {
              "fillmode": "overlay",
              "size": 10,
              "solidity": 0.2
             }
            },
            "type": "barpolar"
           }
          ],
          "carpet": [
           {
            "aaxis": {
             "endlinecolor": "#2a3f5f",
             "gridcolor": "white",
             "linecolor": "white",
             "minorgridcolor": "white",
             "startlinecolor": "#2a3f5f"
            },
            "baxis": {
             "endlinecolor": "#2a3f5f",
             "gridcolor": "white",
             "linecolor": "white",
             "minorgridcolor": "white",
             "startlinecolor": "#2a3f5f"
            },
            "type": "carpet"
           }
          ],
          "choropleth": [
           {
            "colorbar": {
             "outlinewidth": 0,
             "ticks": ""
            },
            "type": "choropleth"
           }
          ],
          "contour": [
           {
            "colorbar": {
             "outlinewidth": 0,
             "ticks": ""
            },
            "colorscale": [
             [
              0,
              "#0d0887"
             ],
             [
              0.1111111111111111,
              "#46039f"
             ],
             [
              0.2222222222222222,
              "#7201a8"
             ],
             [
              0.3333333333333333,
              "#9c179e"
             ],
             [
              0.4444444444444444,
              "#bd3786"
             ],
             [
              0.5555555555555556,
              "#d8576b"
             ],
             [
              0.6666666666666666,
              "#ed7953"
             ],
             [
              0.7777777777777778,
              "#fb9f3a"
             ],
             [
              0.8888888888888888,
              "#fdca26"
             ],
             [
              1,
              "#f0f921"
             ]
            ],
            "type": "contour"
           }
          ],
          "contourcarpet": [
           {
            "colorbar": {
             "outlinewidth": 0,
             "ticks": ""
            },
            "type": "contourcarpet"
           }
          ],
          "heatmap": [
           {
            "colorbar": {
             "outlinewidth": 0,
             "ticks": ""
            },
            "colorscale": [
             [
              0,
              "#0d0887"
             ],
             [
              0.1111111111111111,
              "#46039f"
             ],
             [
              0.2222222222222222,
              "#7201a8"
             ],
             [
              0.3333333333333333,
              "#9c179e"
             ],
             [
              0.4444444444444444,
              "#bd3786"
             ],
             [
              0.5555555555555556,
              "#d8576b"
             ],
             [
              0.6666666666666666,
              "#ed7953"
             ],
             [
              0.7777777777777778,
              "#fb9f3a"
             ],
             [
              0.8888888888888888,
              "#fdca26"
             ],
             [
              1,
              "#f0f921"
             ]
            ],
            "type": "heatmap"
           }
          ],
          "heatmapgl": [
           {
            "colorbar": {
             "outlinewidth": 0,
             "ticks": ""
            },
            "colorscale": [
             [
              0,
              "#0d0887"
             ],
             [
              0.1111111111111111,
              "#46039f"
             ],
             [
              0.2222222222222222,
              "#7201a8"
             ],
             [
              0.3333333333333333,
              "#9c179e"
             ],
             [
              0.4444444444444444,
              "#bd3786"
             ],
             [
              0.5555555555555556,
              "#d8576b"
             ],
             [
              0.6666666666666666,
              "#ed7953"
             ],
             [
              0.7777777777777778,
              "#fb9f3a"
             ],
             [
              0.8888888888888888,
              "#fdca26"
             ],
             [
              1,
              "#f0f921"
             ]
            ],
            "type": "heatmapgl"
           }
          ],
          "histogram": [
           {
            "marker": {
             "pattern": {
              "fillmode": "overlay",
              "size": 10,
              "solidity": 0.2
             }
            },
            "type": "histogram"
           }
          ],
          "histogram2d": [
           {
            "colorbar": {
             "outlinewidth": 0,
             "ticks": ""
            },
            "colorscale": [
             [
              0,
              "#0d0887"
             ],
             [
              0.1111111111111111,
              "#46039f"
             ],
             [
              0.2222222222222222,
              "#7201a8"
             ],
             [
              0.3333333333333333,
              "#9c179e"
             ],
             [
              0.4444444444444444,
              "#bd3786"
             ],
             [
              0.5555555555555556,
              "#d8576b"
             ],
             [
              0.6666666666666666,
              "#ed7953"
             ],
             [
              0.7777777777777778,
              "#fb9f3a"
             ],
             [
              0.8888888888888888,
              "#fdca26"
             ],
             [
              1,
              "#f0f921"
             ]
            ],
            "type": "histogram2d"
           }
          ],
          "histogram2dcontour": [
           {
            "colorbar": {
             "outlinewidth": 0,
             "ticks": ""
            },
            "colorscale": [
             [
              0,
              "#0d0887"
             ],
             [
              0.1111111111111111,
              "#46039f"
             ],
             [
              0.2222222222222222,
              "#7201a8"
             ],
             [
              0.3333333333333333,
              "#9c179e"
             ],
             [
              0.4444444444444444,
              "#bd3786"
             ],
             [
              0.5555555555555556,
              "#d8576b"
             ],
             [
              0.6666666666666666,
              "#ed7953"
             ],
             [
              0.7777777777777778,
              "#fb9f3a"
             ],
             [
              0.8888888888888888,
              "#fdca26"
             ],
             [
              1,
              "#f0f921"
             ]
            ],
            "type": "histogram2dcontour"
           }
          ],
          "mesh3d": [
           {
            "colorbar": {
             "outlinewidth": 0,
             "ticks": ""
            },
            "type": "mesh3d"
           }
          ],
          "parcoords": [
           {
            "line": {
             "colorbar": {
              "outlinewidth": 0,
              "ticks": ""
             }
            },
            "type": "parcoords"
           }
          ],
          "pie": [
           {
            "automargin": true,
            "type": "pie"
           }
          ],
          "scatter": [
           {
            "marker": {
             "colorbar": {
              "outlinewidth": 0,
              "ticks": ""
             }
            },
            "type": "scatter"
           }
          ],
          "scatter3d": [
           {
            "line": {
             "colorbar": {
              "outlinewidth": 0,
              "ticks": ""
             }
            },
            "marker": {
             "colorbar": {
              "outlinewidth": 0,
              "ticks": ""
             }
            },
            "type": "scatter3d"
           }
          ],
          "scattercarpet": [
           {
            "marker": {
             "colorbar": {
              "outlinewidth": 0,
              "ticks": ""
             }
            },
            "type": "scattercarpet"
           }
          ],
          "scattergeo": [
           {
            "marker": {
             "colorbar": {
              "outlinewidth": 0,
              "ticks": ""
             }
            },
            "type": "scattergeo"
           }
          ],
          "scattergl": [
           {
            "marker": {
             "colorbar": {
              "outlinewidth": 0,
              "ticks": ""
             }
            },
            "type": "scattergl"
           }
          ],
          "scattermapbox": [
           {
            "marker": {
             "colorbar": {
              "outlinewidth": 0,
              "ticks": ""
             }
            },
            "type": "scattermapbox"
           }
          ],
          "scatterpolar": [
           {
            "marker": {
             "colorbar": {
              "outlinewidth": 0,
              "ticks": ""
             }
            },
            "type": "scatterpolar"
           }
          ],
          "scatterpolargl": [
           {
            "marker": {
             "colorbar": {
              "outlinewidth": 0,
              "ticks": ""
             }
            },
            "type": "scatterpolargl"
           }
          ],
          "scatterternary": [
           {
            "marker": {
             "colorbar": {
              "outlinewidth": 0,
              "ticks": ""
             }
            },
            "type": "scatterternary"
           }
          ],
          "surface": [
           {
            "colorbar": {
             "outlinewidth": 0,
             "ticks": ""
            },
            "colorscale": [
             [
              0,
              "#0d0887"
             ],
             [
              0.1111111111111111,
              "#46039f"
             ],
             [
              0.2222222222222222,
              "#7201a8"
             ],
             [
              0.3333333333333333,
              "#9c179e"
             ],
             [
              0.4444444444444444,
              "#bd3786"
             ],
             [
              0.5555555555555556,
              "#d8576b"
             ],
             [
              0.6666666666666666,
              "#ed7953"
             ],
             [
              0.7777777777777778,
              "#fb9f3a"
             ],
             [
              0.8888888888888888,
              "#fdca26"
             ],
             [
              1,
              "#f0f921"
             ]
            ],
            "type": "surface"
           }
          ],
          "table": [
           {
            "cells": {
             "fill": {
              "color": "#EBF0F8"
             },
             "line": {
              "color": "white"
             }
            },
            "header": {
             "fill": {
              "color": "#C8D4E3"
             },
             "line": {
              "color": "white"
             }
            },
            "type": "table"
           }
          ]
         },
         "layout": {
          "annotationdefaults": {
           "arrowcolor": "#2a3f5f",
           "arrowhead": 0,
           "arrowwidth": 1
          },
          "autotypenumbers": "strict",
          "coloraxis": {
           "colorbar": {
            "outlinewidth": 0,
            "ticks": ""
           }
          },
          "colorscale": {
           "diverging": [
            [
             0,
             "#8e0152"
            ],
            [
             0.1,
             "#c51b7d"
            ],
            [
             0.2,
             "#de77ae"
            ],
            [
             0.3,
             "#f1b6da"
            ],
            [
             0.4,
             "#fde0ef"
            ],
            [
             0.5,
             "#f7f7f7"
            ],
            [
             0.6,
             "#e6f5d0"
            ],
            [
             0.7,
             "#b8e186"
            ],
            [
             0.8,
             "#7fbc41"
            ],
            [
             0.9,
             "#4d9221"
            ],
            [
             1,
             "#276419"
            ]
           ],
           "sequential": [
            [
             0,
             "#0d0887"
            ],
            [
             0.1111111111111111,
             "#46039f"
            ],
            [
             0.2222222222222222,
             "#7201a8"
            ],
            [
             0.3333333333333333,
             "#9c179e"
            ],
            [
             0.4444444444444444,
             "#bd3786"
            ],
            [
             0.5555555555555556,
             "#d8576b"
            ],
            [
             0.6666666666666666,
             "#ed7953"
            ],
            [
             0.7777777777777778,
             "#fb9f3a"
            ],
            [
             0.8888888888888888,
             "#fdca26"
            ],
            [
             1,
             "#f0f921"
            ]
           ],
           "sequentialminus": [
            [
             0,
             "#0d0887"
            ],
            [
             0.1111111111111111,
             "#46039f"
            ],
            [
             0.2222222222222222,
             "#7201a8"
            ],
            [
             0.3333333333333333,
             "#9c179e"
            ],
            [
             0.4444444444444444,
             "#bd3786"
            ],
            [
             0.5555555555555556,
             "#d8576b"
            ],
            [
             0.6666666666666666,
             "#ed7953"
            ],
            [
             0.7777777777777778,
             "#fb9f3a"
            ],
            [
             0.8888888888888888,
             "#fdca26"
            ],
            [
             1,
             "#f0f921"
            ]
           ]
          },
          "colorway": [
           "#636efa",
           "#EF553B",
           "#00cc96",
           "#ab63fa",
           "#FFA15A",
           "#19d3f3",
           "#FF6692",
           "#B6E880",
           "#FF97FF",
           "#FECB52"
          ],
          "font": {
           "color": "#2a3f5f"
          },
          "geo": {
           "bgcolor": "white",
           "lakecolor": "white",
           "landcolor": "#E5ECF6",
           "showlakes": true,
           "showland": true,
           "subunitcolor": "white"
          },
          "hoverlabel": {
           "align": "left"
          },
          "hovermode": "closest",
          "mapbox": {
           "style": "light"
          },
          "paper_bgcolor": "white",
          "plot_bgcolor": "#E5ECF6",
          "polar": {
           "angularaxis": {
            "gridcolor": "white",
            "linecolor": "white",
            "ticks": ""
           },
           "bgcolor": "#E5ECF6",
           "radialaxis": {
            "gridcolor": "white",
            "linecolor": "white",
            "ticks": ""
           }
          },
          "scene": {
           "xaxis": {
            "backgroundcolor": "#E5ECF6",
            "gridcolor": "white",
            "gridwidth": 2,
            "linecolor": "white",
            "showbackground": true,
            "ticks": "",
            "zerolinecolor": "white"
           },
           "yaxis": {
            "backgroundcolor": "#E5ECF6",
            "gridcolor": "white",
            "gridwidth": 2,
            "linecolor": "white",
            "showbackground": true,
            "ticks": "",
            "zerolinecolor": "white"
           },
           "zaxis": {
            "backgroundcolor": "#E5ECF6",
            "gridcolor": "white",
            "gridwidth": 2,
            "linecolor": "white",
            "showbackground": true,
            "ticks": "",
            "zerolinecolor": "white"
           }
          },
          "shapedefaults": {
           "line": {
            "color": "#2a3f5f"
           }
          },
          "ternary": {
           "aaxis": {
            "gridcolor": "white",
            "linecolor": "white",
            "ticks": ""
           },
           "baxis": {
            "gridcolor": "white",
            "linecolor": "white",
            "ticks": ""
           },
           "bgcolor": "#E5ECF6",
           "caxis": {
            "gridcolor": "white",
            "linecolor": "white",
            "ticks": ""
           }
          },
          "title": {
           "x": 0.05
          },
          "xaxis": {
           "automargin": true,
           "gridcolor": "white",
           "linecolor": "white",
           "ticks": "",
           "title": {
            "standoff": 15
           },
           "zerolinecolor": "white",
           "zerolinewidth": 2
          },
          "yaxis": {
           "automargin": true,
           "gridcolor": "white",
           "linecolor": "white",
           "ticks": "",
           "title": {
            "standoff": 15
           },
           "zerolinecolor": "white",
           "zerolinewidth": 2
          }
         }
        },
        "title": {
         "font": {
          "family": "Arial",
          "size": 16
         },
         "text": "<b>Operational Emissions Intensity Benchmark</b><br>Sector: Industrials",
         "x": 0.5
        },
        "width": 1000,
        "xaxis": {
         "autorange": "reversed",
         "title": {
          "text": "<i>high</i>----------<b>Scope1+2 Emissions</b>----------<i>low</i>"
         },
         "type": "log"
        },
        "yaxis": {
         "title": {
          "text": "Revenue"
         },
         "type": "log"
        }
       }
      },
      "text/html": [
       "<div>                            <div id=\"227838dc-5afa-40d7-948c-5eee7f5da0a3\" class=\"plotly-graph-div\" style=\"height:500px; width:1000px;\"></div>            <script type=\"text/javascript\">                require([\"plotly\"], function(Plotly) {                    window.PLOTLYENV=window.PLOTLYENV || {};                                    if (document.getElementById(\"227838dc-5afa-40d7-948c-5eee7f5da0a3\")) {                    Plotly.newPlot(                        \"227838dc-5afa-40d7-948c-5eee7f5da0a3\",                        [{\"line\":{\"color\":\"gray\",\"dash\":\"dash\",\"width\":2},\"mode\":\"lines\",\"name\":\"Median y\",\"showlegend\":false,\"type\":\"scatter\",\"x\":[1899066.5,1899066.5],\"y\":[16790000000.0,84432000000.0]},{\"line\":{\"color\":\"gray\",\"dash\":\"dash\",\"width\":2},\"mode\":\"lines\",\"name\":\"Median x\",\"showlegend\":false,\"type\":\"scatter\",\"x\":[0.0,16402161.0],\"y\":[49207500000.0,49207500000.0]},{\"hovertemplate\":\"%{text}<br><b>Revenue:</b>%{y}<br><b>Emissions:</b> %{x:.2s}\",\"line\":{\"color\":\"black\"},\"marker\":{\"color\":[1668.5309470544369,231.4265573150393,424.9508934987783,507.12626563430615,1957.438599422393,200.97560975609755,298.5274054047288,620.1387867647059,117.96002935869599,0.0,5314.426867352685,1771.1294296001515],\"colorscale\":[[0.0,\"rgb(255,255,255)\"],[0.3333333333333333,\"rgb(255,210,0)\"],[0.6666666666666666,\"rgb(230,0,0)\"],[1.0,\"rgb(0,0,0)\"]],\"line\":{\"color\":\"black\",\"width\":1},\"showscale\":true,\"size\":25},\"mode\":\"markers+text\",\"name\":\"benchmark\",\"showlegend\":false,\"text\":[\"3M\",\"Boeing\",\"Caterpillar Inc.\",\"Emerson Electric\",\"FedEx\",\"General Dynamics\",\"General Electric\",\"Honeywell Inc.\",\"Lockheed Martin Corp.\",\"Raytheon Technologies\",\"Union Pacific Corp\",\"United Parcel Service\"],\"textposition\":\"top center\",\"type\":\"scatter\",\"x\":[5370000.0,1346000.0,1774000.0,851465.0,16402161.0,762200.0,2385025.0,2024133.0,771435.0,0.0,10380670.0,14954000.0],\"y\":[32184000000.0,58161000000.0,41746000000.0,16790000000.0,83794000000.0,37925000000.0,79893000000.0,32640000000.0,65398000000.0,56669000000.0,19533000000.0,84432000000.0]},{\"hovertemplate\":\"%{text}<br><b>Revenue:</b>%{y}<br><b>Emissions:</b> %{x:.2s}\",\"marker\":{\"color\":\"rgba(255,0,0, 0.01)\",\"line\":{\"color\":\"red\",\"width\":3},\"size\":25},\"mode\":\"markers\",\"showlegend\":false,\"text\":[\"3M\"],\"type\":\"scatter\",\"x\":[5370000.0],\"y\":[32184000000.0]}],                        {\"autosize\":false,\"height\":500,\"margin\":{\"b\":50,\"l\":50,\"pad\":4,\"r\":50,\"t\":80},\"paper_bgcolor\":\"#eeebf0\",\"plot_bgcolor\":\"#eeebf0\",\"template\":{\"data\":{\"bar\":[{\"error_x\":{\"color\":\"#2a3f5f\"},\"error_y\":{\"color\":\"#2a3f5f\"},\"marker\":{\"line\":{\"color\":\"#E5ECF6\",\"width\":0.5},\"pattern\":{\"fillmode\":\"overlay\",\"size\":10,\"solidity\":0.2}},\"type\":\"bar\"}],\"barpolar\":[{\"marker\":{\"line\":{\"color\":\"#E5ECF6\",\"width\":0.5},\"pattern\":{\"fillmode\":\"overlay\",\"size\":10,\"solidity\":0.2}},\"type\":\"barpolar\"}],\"carpet\":[{\"aaxis\":{\"endlinecolor\":\"#2a3f5f\",\"gridcolor\":\"white\",\"linecolor\":\"white\",\"minorgridcolor\":\"white\",\"startlinecolor\":\"#2a3f5f\"},\"baxis\":{\"endlinecolor\":\"#2a3f5f\",\"gridcolor\":\"white\",\"linecolor\":\"white\",\"minorgridcolor\":\"white\",\"startlinecolor\":\"#2a3f5f\"},\"type\":\"carpet\"}],\"choropleth\":[{\"colorbar\":{\"outlinewidth\":0,\"ticks\":\"\"},\"type\":\"choropleth\"}],\"contour\":[{\"colorbar\":{\"outlinewidth\":0,\"ticks\":\"\"},\"colorscale\":[[0.0,\"#0d0887\"],[0.1111111111111111,\"#46039f\"],[0.2222222222222222,\"#7201a8\"],[0.3333333333333333,\"#9c179e\"],[0.4444444444444444,\"#bd3786\"],[0.5555555555555556,\"#d8576b\"],[0.6666666666666666,\"#ed7953\"],[0.7777777777777778,\"#fb9f3a\"],[0.8888888888888888,\"#fdca26\"],[1.0,\"#f0f921\"]],\"type\":\"contour\"}],\"contourcarpet\":[{\"colorbar\":{\"outlinewidth\":0,\"ticks\":\"\"},\"type\":\"contourcarpet\"}],\"heatmap\":[{\"colorbar\":{\"outlinewidth\":0,\"ticks\":\"\"},\"colorscale\":[[0.0,\"#0d0887\"],[0.1111111111111111,\"#46039f\"],[0.2222222222222222,\"#7201a8\"],[0.3333333333333333,\"#9c179e\"],[0.4444444444444444,\"#bd3786\"],[0.5555555555555556,\"#d8576b\"],[0.6666666666666666,\"#ed7953\"],[0.7777777777777778,\"#fb9f3a\"],[0.8888888888888888,\"#fdca26\"],[1.0,\"#f0f921\"]],\"type\":\"heatmap\"}],\"heatmapgl\":[{\"colorbar\":{\"outlinewidth\":0,\"ticks\":\"\"},\"colorscale\":[[0.0,\"#0d0887\"],[0.1111111111111111,\"#46039f\"],[0.2222222222222222,\"#7201a8\"],[0.3333333333333333,\"#9c179e\"],[0.4444444444444444,\"#bd3786\"],[0.5555555555555556,\"#d8576b\"],[0.6666666666666666,\"#ed7953\"],[0.7777777777777778,\"#fb9f3a\"],[0.8888888888888888,\"#fdca26\"],[1.0,\"#f0f921\"]],\"type\":\"heatmapgl\"}],\"histogram\":[{\"marker\":{\"pattern\":{\"fillmode\":\"overlay\",\"size\":10,\"solidity\":0.2}},\"type\":\"histogram\"}],\"histogram2d\":[{\"colorbar\":{\"outlinewidth\":0,\"ticks\":\"\"},\"colorscale\":[[0.0,\"#0d0887\"],[0.1111111111111111,\"#46039f\"],[0.2222222222222222,\"#7201a8\"],[0.3333333333333333,\"#9c179e\"],[0.4444444444444444,\"#bd3786\"],[0.5555555555555556,\"#d8576b\"],[0.6666666666666666,\"#ed7953\"],[0.7777777777777778,\"#fb9f3a\"],[0.8888888888888888,\"#fdca26\"],[1.0,\"#f0f921\"]],\"type\":\"histogram2d\"}],\"histogram2dcontour\":[{\"colorbar\":{\"outlinewidth\":0,\"ticks\":\"\"},\"colorscale\":[[0.0,\"#0d0887\"],[0.1111111111111111,\"#46039f\"],[0.2222222222222222,\"#7201a8\"],[0.3333333333333333,\"#9c179e\"],[0.4444444444444444,\"#bd3786\"],[0.5555555555555556,\"#d8576b\"],[0.6666666666666666,\"#ed7953\"],[0.7777777777777778,\"#fb9f3a\"],[0.8888888888888888,\"#fdca26\"],[1.0,\"#f0f921\"]],\"type\":\"histogram2dcontour\"}],\"mesh3d\":[{\"colorbar\":{\"outlinewidth\":0,\"ticks\":\"\"},\"type\":\"mesh3d\"}],\"parcoords\":[{\"line\":{\"colorbar\":{\"outlinewidth\":0,\"ticks\":\"\"}},\"type\":\"parcoords\"}],\"pie\":[{\"automargin\":true,\"type\":\"pie\"}],\"scatter\":[{\"marker\":{\"colorbar\":{\"outlinewidth\":0,\"ticks\":\"\"}},\"type\":\"scatter\"}],\"scatter3d\":[{\"line\":{\"colorbar\":{\"outlinewidth\":0,\"ticks\":\"\"}},\"marker\":{\"colorbar\":{\"outlinewidth\":0,\"ticks\":\"\"}},\"type\":\"scatter3d\"}],\"scattercarpet\":[{\"marker\":{\"colorbar\":{\"outlinewidth\":0,\"ticks\":\"\"}},\"type\":\"scattercarpet\"}],\"scattergeo\":[{\"marker\":{\"colorbar\":{\"outlinewidth\":0,\"ticks\":\"\"}},\"type\":\"scattergeo\"}],\"scattergl\":[{\"marker\":{\"colorbar\":{\"outlinewidth\":0,\"ticks\":\"\"}},\"type\":\"scattergl\"}],\"scattermapbox\":[{\"marker\":{\"colorbar\":{\"outlinewidth\":0,\"ticks\":\"\"}},\"type\":\"scattermapbox\"}],\"scatterpolar\":[{\"marker\":{\"colorbar\":{\"outlinewidth\":0,\"ticks\":\"\"}},\"type\":\"scatterpolar\"}],\"scatterpolargl\":[{\"marker\":{\"colorbar\":{\"outlinewidth\":0,\"ticks\":\"\"}},\"type\":\"scatterpolargl\"}],\"scatterternary\":[{\"marker\":{\"colorbar\":{\"outlinewidth\":0,\"ticks\":\"\"}},\"type\":\"scatterternary\"}],\"surface\":[{\"colorbar\":{\"outlinewidth\":0,\"ticks\":\"\"},\"colorscale\":[[0.0,\"#0d0887\"],[0.1111111111111111,\"#46039f\"],[0.2222222222222222,\"#7201a8\"],[0.3333333333333333,\"#9c179e\"],[0.4444444444444444,\"#bd3786\"],[0.5555555555555556,\"#d8576b\"],[0.6666666666666666,\"#ed7953\"],[0.7777777777777778,\"#fb9f3a\"],[0.8888888888888888,\"#fdca26\"],[1.0,\"#f0f921\"]],\"type\":\"surface\"}],\"table\":[{\"cells\":{\"fill\":{\"color\":\"#EBF0F8\"},\"line\":{\"color\":\"white\"}},\"header\":{\"fill\":{\"color\":\"#C8D4E3\"},\"line\":{\"color\":\"white\"}},\"type\":\"table\"}]},\"layout\":{\"annotationdefaults\":{\"arrowcolor\":\"#2a3f5f\",\"arrowhead\":0,\"arrowwidth\":1},\"autotypenumbers\":\"strict\",\"coloraxis\":{\"colorbar\":{\"outlinewidth\":0,\"ticks\":\"\"}},\"colorscale\":{\"diverging\":[[0,\"#8e0152\"],[0.1,\"#c51b7d\"],[0.2,\"#de77ae\"],[0.3,\"#f1b6da\"],[0.4,\"#fde0ef\"],[0.5,\"#f7f7f7\"],[0.6,\"#e6f5d0\"],[0.7,\"#b8e186\"],[0.8,\"#7fbc41\"],[0.9,\"#4d9221\"],[1,\"#276419\"]],\"sequential\":[[0.0,\"#0d0887\"],[0.1111111111111111,\"#46039f\"],[0.2222222222222222,\"#7201a8\"],[0.3333333333333333,\"#9c179e\"],[0.4444444444444444,\"#bd3786\"],[0.5555555555555556,\"#d8576b\"],[0.6666666666666666,\"#ed7953\"],[0.7777777777777778,\"#fb9f3a\"],[0.8888888888888888,\"#fdca26\"],[1.0,\"#f0f921\"]],\"sequentialminus\":[[0.0,\"#0d0887\"],[0.1111111111111111,\"#46039f\"],[0.2222222222222222,\"#7201a8\"],[0.3333333333333333,\"#9c179e\"],[0.4444444444444444,\"#bd3786\"],[0.5555555555555556,\"#d8576b\"],[0.6666666666666666,\"#ed7953\"],[0.7777777777777778,\"#fb9f3a\"],[0.8888888888888888,\"#fdca26\"],[1.0,\"#f0f921\"]]},\"colorway\":[\"#636efa\",\"#EF553B\",\"#00cc96\",\"#ab63fa\",\"#FFA15A\",\"#19d3f3\",\"#FF6692\",\"#B6E880\",\"#FF97FF\",\"#FECB52\"],\"font\":{\"color\":\"#2a3f5f\"},\"geo\":{\"bgcolor\":\"white\",\"lakecolor\":\"white\",\"landcolor\":\"#E5ECF6\",\"showlakes\":true,\"showland\":true,\"subunitcolor\":\"white\"},\"hoverlabel\":{\"align\":\"left\"},\"hovermode\":\"closest\",\"mapbox\":{\"style\":\"light\"},\"paper_bgcolor\":\"white\",\"plot_bgcolor\":\"#E5ECF6\",\"polar\":{\"angularaxis\":{\"gridcolor\":\"white\",\"linecolor\":\"white\",\"ticks\":\"\"},\"bgcolor\":\"#E5ECF6\",\"radialaxis\":{\"gridcolor\":\"white\",\"linecolor\":\"white\",\"ticks\":\"\"}},\"scene\":{\"xaxis\":{\"backgroundcolor\":\"#E5ECF6\",\"gridcolor\":\"white\",\"gridwidth\":2,\"linecolor\":\"white\",\"showbackground\":true,\"ticks\":\"\",\"zerolinecolor\":\"white\"},\"yaxis\":{\"backgroundcolor\":\"#E5ECF6\",\"gridcolor\":\"white\",\"gridwidth\":2,\"linecolor\":\"white\",\"showbackground\":true,\"ticks\":\"\",\"zerolinecolor\":\"white\"},\"zaxis\":{\"backgroundcolor\":\"#E5ECF6\",\"gridcolor\":\"white\",\"gridwidth\":2,\"linecolor\":\"white\",\"showbackground\":true,\"ticks\":\"\",\"zerolinecolor\":\"white\"}},\"shapedefaults\":{\"line\":{\"color\":\"#2a3f5f\"}},\"ternary\":{\"aaxis\":{\"gridcolor\":\"white\",\"linecolor\":\"white\",\"ticks\":\"\"},\"baxis\":{\"gridcolor\":\"white\",\"linecolor\":\"white\",\"ticks\":\"\"},\"bgcolor\":\"#E5ECF6\",\"caxis\":{\"gridcolor\":\"white\",\"linecolor\":\"white\",\"ticks\":\"\"}},\"title\":{\"x\":0.05},\"xaxis\":{\"automargin\":true,\"gridcolor\":\"white\",\"linecolor\":\"white\",\"ticks\":\"\",\"title\":{\"standoff\":15},\"zerolinecolor\":\"white\",\"zerolinewidth\":2},\"yaxis\":{\"automargin\":true,\"gridcolor\":\"white\",\"linecolor\":\"white\",\"ticks\":\"\",\"title\":{\"standoff\":15},\"zerolinecolor\":\"white\",\"zerolinewidth\":2}}},\"title\":{\"font\":{\"family\":\"Arial\",\"size\":16},\"text\":\"<b>Operational Emissions Intensity Benchmark</b><br>Sector: Industrials\",\"x\":0.5},\"width\":1000,\"xaxis\":{\"autorange\":\"reversed\",\"title\":{\"text\":\"<i>high</i>----------<b>Scope1+2 Emissions</b>----------<i>low</i>\"},\"type\":\"log\"},\"yaxis\":{\"title\":{\"text\":\"Revenue\"},\"type\":\"log\"}},                        {\"responsive\": true}                    ).then(function(){\n",
       "                            \n",
       "var gd = document.getElementById('227838dc-5afa-40d7-948c-5eee7f5da0a3');\n",
       "var x = new MutationObserver(function (mutations, observer) {{\n",
       "        var display = window.getComputedStyle(gd).display;\n",
       "        if (!display || display === 'none') {{\n",
       "            console.log([gd, 'removed!']);\n",
       "            Plotly.purge(gd);\n",
       "            observer.disconnect();\n",
       "        }}\n",
       "}});\n",
       "\n",
       "// Listen for the removal of the full notebook cells\n",
       "var notebookContainer = gd.closest('#notebook-container');\n",
       "if (notebookContainer) {{\n",
       "    x.observe(notebookContainer, {childList: true});\n",
       "}}\n",
       "\n",
       "// Listen for the clearing of the current output cell\n",
       "var outputEl = gd.closest('.output');\n",
       "if (outputEl) {{\n",
       "    x.observe(outputEl, {childList: true});\n",
       "}}\n",
       "\n",
       "                        })                };                });            </script>        </div>"
      ]
     },
     "metadata": {}
    }
   ],
   "metadata": {}
  },
  {
   "cell_type": "code",
   "execution_count": null,
   "source": [],
   "outputs": [],
   "metadata": {}
  }
 ],
 "metadata": {
  "interpreter": {
   "hash": "84b39baf505a8e38b7ec8824bbebc862e460fb036cb6aab4774c507962c1b49d"
  },
  "kernelspec": {
   "name": "python3",
   "display_name": "Python 3.8.10 64-bit ('net0': conda)"
  },
  "language_info": {
   "codemirror_mode": {
    "name": "ipython",
    "version": 3
   },
   "file_extension": ".py",
   "mimetype": "text/x-python",
   "name": "python",
   "nbconvert_exporter": "python",
   "pygments_lexer": "ipython3",
   "version": "3.8.10"
  }
 },
 "nbformat": 4,
 "nbformat_minor": 4
}