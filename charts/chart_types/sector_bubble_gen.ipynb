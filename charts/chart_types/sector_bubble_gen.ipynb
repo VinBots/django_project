{
 "cells": [
  {
   "cell_type": "markdown",
   "source": [
    "# Chart generations Notebook"
   ],
   "metadata": {}
  },
  {
   "cell_type": "markdown",
   "source": [
    "## Import Libraries"
   ],
   "metadata": {}
  },
  {
   "cell_type": "code",
   "execution_count": 1,
   "source": [
    "import pandas as pd\r\n",
    "import plotly.graph_objs as go\r\n",
    "import plotly.offline as offline\r\n",
    "import os\r\n",
    "import numpy as np\r\n",
    "from plotly.offline import plot"
   ],
   "outputs": [],
   "metadata": {}
  },
  {
   "cell_type": "code",
   "execution_count": 2,
   "source": [
    "offline.init_notebook_mode(connected=True)"
   ],
   "outputs": [
    {
     "output_type": "display_data",
     "data": {
      "text/html": [
       "        <script type=\"text/javascript\">\n",
       "        window.PlotlyConfig = {MathJaxConfig: 'local'};\n",
       "        if (window.MathJax) {MathJax.Hub.Config({SVG: {font: \"STIX-Web\"}});}\n",
       "        if (typeof require !== 'undefined') {\n",
       "        require.undef(\"plotly\");\n",
       "        requirejs.config({\n",
       "            paths: {\n",
       "                'plotly': ['https://cdn.plot.ly/plotly-latest.min']\n",
       "            }\n",
       "        });\n",
       "        require(['plotly'], function(Plotly) {\n",
       "            window._Plotly = Plotly;\n",
       "        });\n",
       "        }\n",
       "        </script>\n",
       "        "
      ]
     },
     "metadata": {}
    }
   ],
   "metadata": {}
  },
  {
   "cell_type": "markdown",
   "source": [
    "## Bubble Chart for Emissions Intensity\n"
   ],
   "metadata": {}
  },
  {
   "cell_type": "code",
   "execution_count": 3,
   "source": [
    "company_id = 1"
   ],
   "outputs": [],
   "metadata": {}
  },
  {
   "cell_type": "markdown",
   "source": [
    "# Step 1: Set up the data sources"
   ],
   "metadata": {}
  },
  {
   "cell_type": "code",
   "execution_count": 4,
   "source": [
    "XLSX_PATH = os.path.join ('../django_project/static/django_project', 'data', 'sp100_data.xlsx')\r\n",
    "COLS_TO_USE = {\r\n",
    "    'companies':['company_id', 'company_name'],\r\n",
    "    'GHG19':['company_id', 'gross_total_scope1', 'gross_scope2_calc'],\r\n",
    "    'grouping':['company_id', 'Sector1'],\r\n",
    "    'financials':['company_id', 'Revenue']\r\n",
    "}"
   ],
   "outputs": [],
   "metadata": {}
  },
  {
   "cell_type": "markdown",
   "source": [
    "# Step 2: Merge the tables"
   ],
   "metadata": {}
  },
  {
   "cell_type": "code",
   "execution_count": 5,
   "source": [
    "all_df = []\r\n",
    "for sheetname, cols in COLS_TO_USE.items():\r\n",
    "    all_df.append(pd.read_excel(\r\n",
    "        XLSX_PATH, \r\n",
    "        sheet_name = sheetname,\r\n",
    "        engine = 'openpyxl', \r\n",
    "        usecols = cols\r\n",
    "        ))"
   ],
   "outputs": [],
   "metadata": {}
  },
  {
   "cell_type": "code",
   "execution_count": 6,
   "source": [
    "merged_df = all_df[0]\r\n",
    "for i in range(len(COLS_TO_USE) - 1):\r\n",
    "    merged_df = pd.merge(\r\n",
    "        left = merged_df,\r\n",
    "        right = all_df[i+1],\r\n",
    "        how=\"left\",\r\n",
    "        on=\"company_id\"\r\n",
    "    )"
   ],
   "outputs": [],
   "metadata": {}
  },
  {
   "cell_type": "code",
   "execution_count": 7,
   "source": [
    "merged_df.head()"
   ],
   "outputs": [
    {
     "output_type": "execute_result",
     "data": {
      "text/plain": [
       "   company_id         company_name gross_total_scope1  gross_scope2_calc  \\\n",
       "0           1                   3M            4050000          1320000.0   \n",
       "1           2  Abbott Laboratories             533000           439000.0   \n",
       "2           3          AbbVie Inc.             314421           249777.0   \n",
       "3           4            Accenture              18923           214680.0   \n",
       "4           5           Adobe Inc.              11816            43526.0   \n",
       "\n",
       "       Sector1       Revenue  \n",
       "0  Industrials  3.213600e+10  \n",
       "1   Healthcare  3.190400e+10  \n",
       "2   Healthcare  3.326600e+10  \n",
       "3   Technology  4.320000e+10  \n",
       "4   Technology  1.117100e+10  "
      ],
      "text/html": [
       "<div>\n",
       "<style scoped>\n",
       "    .dataframe tbody tr th:only-of-type {\n",
       "        vertical-align: middle;\n",
       "    }\n",
       "\n",
       "    .dataframe tbody tr th {\n",
       "        vertical-align: top;\n",
       "    }\n",
       "\n",
       "    .dataframe thead th {\n",
       "        text-align: right;\n",
       "    }\n",
       "</style>\n",
       "<table border=\"1\" class=\"dataframe\">\n",
       "  <thead>\n",
       "    <tr style=\"text-align: right;\">\n",
       "      <th></th>\n",
       "      <th>company_id</th>\n",
       "      <th>company_name</th>\n",
       "      <th>gross_total_scope1</th>\n",
       "      <th>gross_scope2_calc</th>\n",
       "      <th>Sector1</th>\n",
       "      <th>Revenue</th>\n",
       "    </tr>\n",
       "  </thead>\n",
       "  <tbody>\n",
       "    <tr>\n",
       "      <th>0</th>\n",
       "      <td>1</td>\n",
       "      <td>3M</td>\n",
       "      <td>4050000</td>\n",
       "      <td>1320000.0</td>\n",
       "      <td>Industrials</td>\n",
       "      <td>3.213600e+10</td>\n",
       "    </tr>\n",
       "    <tr>\n",
       "      <th>1</th>\n",
       "      <td>2</td>\n",
       "      <td>Abbott Laboratories</td>\n",
       "      <td>533000</td>\n",
       "      <td>439000.0</td>\n",
       "      <td>Healthcare</td>\n",
       "      <td>3.190400e+10</td>\n",
       "    </tr>\n",
       "    <tr>\n",
       "      <th>2</th>\n",
       "      <td>3</td>\n",
       "      <td>AbbVie Inc.</td>\n",
       "      <td>314421</td>\n",
       "      <td>249777.0</td>\n",
       "      <td>Healthcare</td>\n",
       "      <td>3.326600e+10</td>\n",
       "    </tr>\n",
       "    <tr>\n",
       "      <th>3</th>\n",
       "      <td>4</td>\n",
       "      <td>Accenture</td>\n",
       "      <td>18923</td>\n",
       "      <td>214680.0</td>\n",
       "      <td>Technology</td>\n",
       "      <td>4.320000e+10</td>\n",
       "    </tr>\n",
       "    <tr>\n",
       "      <th>4</th>\n",
       "      <td>5</td>\n",
       "      <td>Adobe Inc.</td>\n",
       "      <td>11816</td>\n",
       "      <td>43526.0</td>\n",
       "      <td>Technology</td>\n",
       "      <td>1.117100e+10</td>\n",
       "    </tr>\n",
       "  </tbody>\n",
       "</table>\n",
       "</div>"
      ]
     },
     "metadata": {},
     "execution_count": 7
    }
   ],
   "metadata": {}
  },
  {
   "cell_type": "markdown",
   "source": [
    "# Step 3: Filter the sector"
   ],
   "metadata": {}
  },
  {
   "cell_type": "code",
   "execution_count": 8,
   "source": [
    "a =  merged_df[merged_df['company_id']==company_id]['Sector1']\r\n",
    "if len(a) > 0:\r\n",
    "    sector = a.iloc[0]\r\n",
    "merged_df_sector = merged_df.loc[merged_df['Sector1']==sector]"
   ],
   "outputs": [],
   "metadata": {}
  },
  {
   "cell_type": "code",
   "execution_count": 9,
   "source": [
    "merged_df_sector.head()"
   ],
   "outputs": [
    {
     "output_type": "execute_result",
     "data": {
      "text/plain": [
       "    company_id      company_name gross_total_scope1  gross_scope2_calc  \\\n",
       "0            1                3M            4050000          1320000.0   \n",
       "19          20            Boeing             613000           733000.0   \n",
       "23          24  Caterpillar Inc.                 NF                0.0   \n",
       "39          40  Emerson Electric                 NF                0.0   \n",
       "43          44             FedEx           15406173           995988.0   \n",
       "\n",
       "        Sector1       Revenue  \n",
       "0   Industrials  3.213600e+10  \n",
       "19  Industrials  7.655900e+10  \n",
       "23  Industrials  5.380000e+10  \n",
       "39  Industrials  1.837200e+10  \n",
       "43  Industrials  6.969300e+10  "
      ],
      "text/html": [
       "<div>\n",
       "<style scoped>\n",
       "    .dataframe tbody tr th:only-of-type {\n",
       "        vertical-align: middle;\n",
       "    }\n",
       "\n",
       "    .dataframe tbody tr th {\n",
       "        vertical-align: top;\n",
       "    }\n",
       "\n",
       "    .dataframe thead th {\n",
       "        text-align: right;\n",
       "    }\n",
       "</style>\n",
       "<table border=\"1\" class=\"dataframe\">\n",
       "  <thead>\n",
       "    <tr style=\"text-align: right;\">\n",
       "      <th></th>\n",
       "      <th>company_id</th>\n",
       "      <th>company_name</th>\n",
       "      <th>gross_total_scope1</th>\n",
       "      <th>gross_scope2_calc</th>\n",
       "      <th>Sector1</th>\n",
       "      <th>Revenue</th>\n",
       "    </tr>\n",
       "  </thead>\n",
       "  <tbody>\n",
       "    <tr>\n",
       "      <th>0</th>\n",
       "      <td>1</td>\n",
       "      <td>3M</td>\n",
       "      <td>4050000</td>\n",
       "      <td>1320000.0</td>\n",
       "      <td>Industrials</td>\n",
       "      <td>3.213600e+10</td>\n",
       "    </tr>\n",
       "    <tr>\n",
       "      <th>19</th>\n",
       "      <td>20</td>\n",
       "      <td>Boeing</td>\n",
       "      <td>613000</td>\n",
       "      <td>733000.0</td>\n",
       "      <td>Industrials</td>\n",
       "      <td>7.655900e+10</td>\n",
       "    </tr>\n",
       "    <tr>\n",
       "      <th>23</th>\n",
       "      <td>24</td>\n",
       "      <td>Caterpillar Inc.</td>\n",
       "      <td>NF</td>\n",
       "      <td>0.0</td>\n",
       "      <td>Industrials</td>\n",
       "      <td>5.380000e+10</td>\n",
       "    </tr>\n",
       "    <tr>\n",
       "      <th>39</th>\n",
       "      <td>40</td>\n",
       "      <td>Emerson Electric</td>\n",
       "      <td>NF</td>\n",
       "      <td>0.0</td>\n",
       "      <td>Industrials</td>\n",
       "      <td>1.837200e+10</td>\n",
       "    </tr>\n",
       "    <tr>\n",
       "      <th>43</th>\n",
       "      <td>44</td>\n",
       "      <td>FedEx</td>\n",
       "      <td>15406173</td>\n",
       "      <td>995988.0</td>\n",
       "      <td>Industrials</td>\n",
       "      <td>6.969300e+10</td>\n",
       "    </tr>\n",
       "  </tbody>\n",
       "</table>\n",
       "</div>"
      ]
     },
     "metadata": {},
     "execution_count": 9
    }
   ],
   "metadata": {}
  },
  {
   "cell_type": "markdown",
   "source": [
    "# Step 4: Calculate Scope 1 + Scope 2"
   ],
   "metadata": {}
  },
  {
   "cell_type": "code",
   "execution_count": 10,
   "source": [
    "scope1 = pd.to_numeric(merged_df_sector['gross_total_scope1'], errors = 'coerce')\r\n",
    "scope2 = pd.to_numeric(merged_df_sector['gross_scope2_calc'], errors = 'coerce')\r\n",
    "merged_df_sector = merged_df_sector.assign(scope1_plus_scope2= scope1 + scope2)"
   ],
   "outputs": [],
   "metadata": {}
  },
  {
   "cell_type": "markdown",
   "source": [
    "# Step 5: Remove companies without valid data"
   ],
   "metadata": {}
  },
  {
   "cell_type": "code",
   "execution_count": 11,
   "source": [
    "merged_df_sector = merged_df_sector.dropna()"
   ],
   "outputs": [],
   "metadata": {}
  },
  {
   "cell_type": "markdown",
   "source": [
    "# Step 6 (optional): Calculate GHG Intensity"
   ],
   "metadata": {}
  },
  {
   "cell_type": "code",
   "execution_count": 12,
   "source": [
    "merged_df_sector.assign(intensity=merged_df_sector['scope1_plus_scope2'] / merged_df_sector['Revenue'])"
   ],
   "outputs": [
    {
     "output_type": "execute_result",
     "data": {
      "text/plain": [
       "    company_id           company_name gross_total_scope1  gross_scope2_calc  \\\n",
       "0            1                     3M            4050000        1320000.000   \n",
       "19          20                 Boeing             613000         733000.000   \n",
       "43          44                  FedEx           15406173         995988.000   \n",
       "45          46       General Dynamics             317081         445119.000   \n",
       "46          47       General Electric             997410        1387615.018   \n",
       "51          52         Honeywell Inc.            1090649         933484.000   \n",
       "58          59  Lockheed Martin Corp.             305362         466073.000   \n",
       "91          92     Union Pacific Corp           10066595         314075.000   \n",
       "93          94  United Parcel Service           14223000         731000.000   \n",
       "\n",
       "        Sector1       Revenue  scope1_plus_scope2  intensity  \n",
       "0   Industrials  3.213600e+10        5.370000e+06   0.000167  \n",
       "19  Industrials  7.655900e+10        1.346000e+06   0.000018  \n",
       "43  Industrials  6.969300e+10        1.640216e+07   0.000235  \n",
       "45  Industrials  3.935000e+10        7.622000e+05   0.000019  \n",
       "46  Industrials  9.521400e+10        2.385025e+06   0.000025  \n",
       "51  Industrials  3.670900e+10        2.024133e+06   0.000055  \n",
       "58  Industrials  5.981000e+10        7.714350e+05   0.000013  \n",
       "91  Industrials  2.170000e+10        1.038067e+07   0.000478  \n",
       "93  Industrials  7.409400e+10        1.495400e+07   0.000202  "
      ],
      "text/html": [
       "<div>\n",
       "<style scoped>\n",
       "    .dataframe tbody tr th:only-of-type {\n",
       "        vertical-align: middle;\n",
       "    }\n",
       "\n",
       "    .dataframe tbody tr th {\n",
       "        vertical-align: top;\n",
       "    }\n",
       "\n",
       "    .dataframe thead th {\n",
       "        text-align: right;\n",
       "    }\n",
       "</style>\n",
       "<table border=\"1\" class=\"dataframe\">\n",
       "  <thead>\n",
       "    <tr style=\"text-align: right;\">\n",
       "      <th></th>\n",
       "      <th>company_id</th>\n",
       "      <th>company_name</th>\n",
       "      <th>gross_total_scope1</th>\n",
       "      <th>gross_scope2_calc</th>\n",
       "      <th>Sector1</th>\n",
       "      <th>Revenue</th>\n",
       "      <th>scope1_plus_scope2</th>\n",
       "      <th>intensity</th>\n",
       "    </tr>\n",
       "  </thead>\n",
       "  <tbody>\n",
       "    <tr>\n",
       "      <th>0</th>\n",
       "      <td>1</td>\n",
       "      <td>3M</td>\n",
       "      <td>4050000</td>\n",
       "      <td>1320000.000</td>\n",
       "      <td>Industrials</td>\n",
       "      <td>3.213600e+10</td>\n",
       "      <td>5.370000e+06</td>\n",
       "      <td>0.000167</td>\n",
       "    </tr>\n",
       "    <tr>\n",
       "      <th>19</th>\n",
       "      <td>20</td>\n",
       "      <td>Boeing</td>\n",
       "      <td>613000</td>\n",
       "      <td>733000.000</td>\n",
       "      <td>Industrials</td>\n",
       "      <td>7.655900e+10</td>\n",
       "      <td>1.346000e+06</td>\n",
       "      <td>0.000018</td>\n",
       "    </tr>\n",
       "    <tr>\n",
       "      <th>43</th>\n",
       "      <td>44</td>\n",
       "      <td>FedEx</td>\n",
       "      <td>15406173</td>\n",
       "      <td>995988.000</td>\n",
       "      <td>Industrials</td>\n",
       "      <td>6.969300e+10</td>\n",
       "      <td>1.640216e+07</td>\n",
       "      <td>0.000235</td>\n",
       "    </tr>\n",
       "    <tr>\n",
       "      <th>45</th>\n",
       "      <td>46</td>\n",
       "      <td>General Dynamics</td>\n",
       "      <td>317081</td>\n",
       "      <td>445119.000</td>\n",
       "      <td>Industrials</td>\n",
       "      <td>3.935000e+10</td>\n",
       "      <td>7.622000e+05</td>\n",
       "      <td>0.000019</td>\n",
       "    </tr>\n",
       "    <tr>\n",
       "      <th>46</th>\n",
       "      <td>47</td>\n",
       "      <td>General Electric</td>\n",
       "      <td>997410</td>\n",
       "      <td>1387615.018</td>\n",
       "      <td>Industrials</td>\n",
       "      <td>9.521400e+10</td>\n",
       "      <td>2.385025e+06</td>\n",
       "      <td>0.000025</td>\n",
       "    </tr>\n",
       "    <tr>\n",
       "      <th>51</th>\n",
       "      <td>52</td>\n",
       "      <td>Honeywell Inc.</td>\n",
       "      <td>1090649</td>\n",
       "      <td>933484.000</td>\n",
       "      <td>Industrials</td>\n",
       "      <td>3.670900e+10</td>\n",
       "      <td>2.024133e+06</td>\n",
       "      <td>0.000055</td>\n",
       "    </tr>\n",
       "    <tr>\n",
       "      <th>58</th>\n",
       "      <td>59</td>\n",
       "      <td>Lockheed Martin Corp.</td>\n",
       "      <td>305362</td>\n",
       "      <td>466073.000</td>\n",
       "      <td>Industrials</td>\n",
       "      <td>5.981000e+10</td>\n",
       "      <td>7.714350e+05</td>\n",
       "      <td>0.000013</td>\n",
       "    </tr>\n",
       "    <tr>\n",
       "      <th>91</th>\n",
       "      <td>92</td>\n",
       "      <td>Union Pacific Corp</td>\n",
       "      <td>10066595</td>\n",
       "      <td>314075.000</td>\n",
       "      <td>Industrials</td>\n",
       "      <td>2.170000e+10</td>\n",
       "      <td>1.038067e+07</td>\n",
       "      <td>0.000478</td>\n",
       "    </tr>\n",
       "    <tr>\n",
       "      <th>93</th>\n",
       "      <td>94</td>\n",
       "      <td>United Parcel Service</td>\n",
       "      <td>14223000</td>\n",
       "      <td>731000.000</td>\n",
       "      <td>Industrials</td>\n",
       "      <td>7.409400e+10</td>\n",
       "      <td>1.495400e+07</td>\n",
       "      <td>0.000202</td>\n",
       "    </tr>\n",
       "  </tbody>\n",
       "</table>\n",
       "</div>"
      ]
     },
     "metadata": {},
     "execution_count": 12
    }
   ],
   "metadata": {}
  },
  {
   "cell_type": "markdown",
   "source": [
    "# Step 7: Prepare the chart by fetching specific data series"
   ],
   "metadata": {}
  },
  {
   "cell_type": "code",
   "execution_count": 13,
   "source": [
    "corp_x = merged_df_sector[merged_df_sector['company_id']==company_id]['scope1_plus_scope2'].iloc[0]\r\n",
    "corp_y = merged_df_sector[merged_df_sector['company_id']==company_id]['Revenue'].iloc[0]\r\n",
    "corp_name = merged_df_sector[merged_df_sector['company_id']==company_id]['company_name'].iloc[0]\r\n",
    "x0 = merged_df_sector['scope1_plus_scope2']\r\n",
    "y0 = merged_df_sector['Revenue']\r\n",
    "index_corp = merged_df_sector.loc[merged_df_sector['company_id'] == company_id].index\r\n",
    "merged_df_sector.drop(index_corp , inplace=True)\r\n",
    "x_median_x = [x0.min(), x0.max()]\r\n",
    "y_median_x = [y0.median(), y0.median()]\r\n",
    "x_median_y = [x0.median(), x0.median()]\r\n",
    "y_median_y = [y0.min(), y0.max()]\r\n",
    "\r\n"
   ],
   "outputs": [],
   "metadata": {}
  },
  {
   "cell_type": "markdown",
   "source": [
    "# Step 7: Produce the chart"
   ],
   "metadata": {}
  },
  {
   "cell_type": "code",
   "execution_count": 14,
   "source": [
    "layout = go.Layout (\r\n",
    "    title = '<b>GHG Emissions vs. Revenue</b><br>Sector: ' + sector,\r\n",
    "    title_x = 0.5,\r\n",
    "    titlefont = dict(\r\n",
    "        family = 'Arial',\r\n",
    "        size = 16),\r\n",
    "    plot_bgcolor = 'antiquewhite',\r\n",
    "    xaxis =  dict(\r\n",
    "        autorange = \"reversed\",\r\n",
    "        type = 'log',\r\n",
    "        title = '<i>high</i>----------<b>Scope1+2 Emissions</b>----------<i>low</i>'),\r\n",
    "    yaxis = dict(\r\n",
    "        type = 'log',\r\n",
    "        title = 'Revenue'),\r\n",
    "        )"
   ],
   "outputs": [],
   "metadata": {}
  },
  {
   "cell_type": "code",
   "execution_count": 15,
   "source": [
    "trace1 = go.Scatter(x=x_median_y, \r\n",
    "                    y=y_median_y, \r\n",
    "                    showlegend = False, \r\n",
    "                    name='Median y',\r\n",
    "                    mode = \"lines\",\r\n",
    "                    line = dict(color='gray', \r\n",
    "                                width=2, \r\n",
    "                                dash='dash'))\r\n",
    "\r\n",
    "trace2 = go.Scatter(x=x_median_x, \r\n",
    "                         y=y_median_x, \r\n",
    "                         showlegend = False, \r\n",
    "                         name='Median x', \r\n",
    "                         mode = \"lines\",\r\n",
    "                         line = {'color':'gray', \r\n",
    "                                 'width':2, \r\n",
    "                                 'dash':'dash'}\r\n",
    "                        )\r\n",
    "\r\n",
    "trace3 = go.Scatter(\r\n",
    "    x=merged_df_sector['scope1_plus_scope2'], \r\n",
    "    y=merged_df_sector['Revenue'],\r\n",
    "    showlegend = False,\r\n",
    "    name=\"benchmark\", \r\n",
    "    text=merged_df_sector['company_name'],\r\n",
    "    mode = 'markers+text',\r\n",
    "    line = {'color':'black'}, \r\n",
    "    marker = {\r\n",
    "        'color': '#488f31',\r\n",
    "        'opacity': 0.4,\r\n",
    "        'size':12\r\n",
    "    },\r\n",
    "    textposition='top center'\r\n",
    "    )\r\n",
    "trace4 = go.Scatter(\r\n",
    "    x=[corp_x], \r\n",
    "    y=[corp_y],\r\n",
    "    showlegend = False,\r\n",
    "    name=corp_name, \r\n",
    "    text= corp_name,\r\n",
    "    textfont=dict(\r\n",
    "        size=12,\r\n",
    "        color=\"#de425b\"),\r\n",
    "    mode = 'markers+text',\r\n",
    "    line = {'color':'#de425b'}, \r\n",
    "    marker = {\r\n",
    "        'color': '#de425b',\r\n",
    "        'opacity': 1,\r\n",
    "        'size':20\r\n",
    "    },\r\n",
    "    textposition='top center'\r\n",
    "    )\r\n",
    "\r\n",
    "fig = go.Figure(data = [trace1, trace2, trace3, trace4], \r\n",
    "                layout = layout)\r\n",
    "                \r\n",
    "fig.update_layout(\r\n",
    "    autosize=False,\r\n",
    "    width=500,\r\n",
    "    height=500,\r\n",
    "    margin=dict(\r\n",
    "        l=50,\r\n",
    "        r=50,\r\n",
    "        b=50,\r\n",
    "        t=80,\r\n",
    "        pad=4\r\n",
    "    ),\r\n",
    "    paper_bgcolor=\"#bad0af\",\r\n",
    "    plot_bgcolor = '#f1f1f1',\r\n",
    ")\r\n",
    "config = {'displaylogo': False}\r\n"
   ],
   "outputs": [],
   "metadata": {
    "scrolled": true
   }
  },
  {
   "cell_type": "code",
   "execution_count": 16,
   "source": [
    "offline.iplot(fig, config = config)"
   ],
   "outputs": [
    {
     "output_type": "display_data",
     "data": {
      "text/html": [
       "<div>                            <div id=\"92af9da5-166e-4d4f-8a6d-3eda2cc1ea7e\" class=\"plotly-graph-div\" style=\"height:500px; width:500px;\"></div>            <script type=\"text/javascript\">                require([\"plotly\"], function(Plotly) {                    window.PLOTLYENV=window.PLOTLYENV || {};                                    if (document.getElementById(\"92af9da5-166e-4d4f-8a6d-3eda2cc1ea7e\")) {                    Plotly.newPlot(                        \"92af9da5-166e-4d4f-8a6d-3eda2cc1ea7e\",                        [{\"line\": {\"color\": \"gray\", \"dash\": \"dash\", \"width\": 2}, \"mode\": \"lines\", \"name\": \"Median y\", \"showlegend\": false, \"type\": \"scatter\", \"x\": [2385024.537, 2385024.537], \"y\": [21700000000.0, 95214000000.0]}, {\"line\": {\"color\": \"gray\", \"dash\": \"dash\", \"width\": 2}, \"mode\": \"lines\", \"name\": \"Median x\", \"showlegend\": false, \"type\": \"scatter\", \"x\": [762200.0, 16402161.0], \"y\": [59810000000.0, 59810000000.0]}, {\"line\": {\"color\": \"black\"}, \"marker\": {\"color\": \"#488f31\", \"opacity\": 0.4, \"size\": 12}, \"mode\": \"markers+text\", \"name\": \"benchmark\", \"showlegend\": false, \"text\": [\"Boeing\", \"FedEx\", \"General Dynamics\", \"General Electric\", \"Honeywell Inc.\", \"Lockheed Martin Corp.\", \"Union Pacific Corp\", \"United Parcel Service\"], \"textposition\": \"top center\", \"type\": \"scatter\", \"x\": [1346000.0, 16402161.0, 762200.0, 2385024.537, 2024133.0, 771435.0, 10380670.0, 14954000.0], \"y\": [76559000000.0, 69693000000.0, 39350000000.0, 95214000000.0, 36709000000.0, 59810000000.0, 21700000000.0, 74094000000.0]}, {\"line\": {\"color\": \"#de425b\"}, \"marker\": {\"color\": \"#de425b\", \"opacity\": 1, \"size\": 20}, \"mode\": \"markers+text\", \"name\": \"3M\", \"showlegend\": false, \"text\": \"3M\", \"textfont\": {\"color\": \"#de425b\", \"size\": 12}, \"textposition\": \"top center\", \"type\": \"scatter\", \"x\": [5370000.0], \"y\": [32136000000.0]}],                        {\"autosize\": false, \"height\": 500, \"margin\": {\"b\": 50, \"l\": 50, \"pad\": 4, \"r\": 50, \"t\": 80}, \"paper_bgcolor\": \"#bad0af\", \"plot_bgcolor\": \"#f1f1f1\", \"template\": {\"data\": {\"bar\": [{\"error_x\": {\"color\": \"#2a3f5f\"}, \"error_y\": {\"color\": \"#2a3f5f\"}, \"marker\": {\"line\": {\"color\": \"#E5ECF6\", \"width\": 0.5}}, \"type\": \"bar\"}], \"barpolar\": [{\"marker\": {\"line\": {\"color\": \"#E5ECF6\", \"width\": 0.5}}, \"type\": \"barpolar\"}], \"carpet\": [{\"aaxis\": {\"endlinecolor\": \"#2a3f5f\", \"gridcolor\": \"white\", \"linecolor\": \"white\", \"minorgridcolor\": \"white\", \"startlinecolor\": \"#2a3f5f\"}, \"baxis\": {\"endlinecolor\": \"#2a3f5f\", \"gridcolor\": \"white\", \"linecolor\": \"white\", \"minorgridcolor\": \"white\", \"startlinecolor\": \"#2a3f5f\"}, \"type\": \"carpet\"}], \"choropleth\": [{\"colorbar\": {\"outlinewidth\": 0, \"ticks\": \"\"}, \"type\": \"choropleth\"}], \"contour\": [{\"colorbar\": {\"outlinewidth\": 0, \"ticks\": \"\"}, \"colorscale\": [[0.0, \"#0d0887\"], [0.1111111111111111, \"#46039f\"], [0.2222222222222222, \"#7201a8\"], [0.3333333333333333, \"#9c179e\"], [0.4444444444444444, \"#bd3786\"], [0.5555555555555556, \"#d8576b\"], [0.6666666666666666, \"#ed7953\"], [0.7777777777777778, \"#fb9f3a\"], [0.8888888888888888, \"#fdca26\"], [1.0, \"#f0f921\"]], \"type\": \"contour\"}], \"contourcarpet\": [{\"colorbar\": {\"outlinewidth\": 0, \"ticks\": \"\"}, \"type\": \"contourcarpet\"}], \"heatmap\": [{\"colorbar\": {\"outlinewidth\": 0, \"ticks\": \"\"}, \"colorscale\": [[0.0, \"#0d0887\"], [0.1111111111111111, \"#46039f\"], [0.2222222222222222, \"#7201a8\"], [0.3333333333333333, \"#9c179e\"], [0.4444444444444444, \"#bd3786\"], [0.5555555555555556, \"#d8576b\"], [0.6666666666666666, \"#ed7953\"], [0.7777777777777778, \"#fb9f3a\"], [0.8888888888888888, \"#fdca26\"], [1.0, \"#f0f921\"]], \"type\": \"heatmap\"}], \"heatmapgl\": [{\"colorbar\": {\"outlinewidth\": 0, \"ticks\": \"\"}, \"colorscale\": [[0.0, \"#0d0887\"], [0.1111111111111111, \"#46039f\"], [0.2222222222222222, \"#7201a8\"], [0.3333333333333333, \"#9c179e\"], [0.4444444444444444, \"#bd3786\"], [0.5555555555555556, \"#d8576b\"], [0.6666666666666666, \"#ed7953\"], [0.7777777777777778, \"#fb9f3a\"], [0.8888888888888888, \"#fdca26\"], [1.0, \"#f0f921\"]], \"type\": \"heatmapgl\"}], \"histogram\": [{\"marker\": {\"colorbar\": {\"outlinewidth\": 0, \"ticks\": \"\"}}, \"type\": \"histogram\"}], \"histogram2d\": [{\"colorbar\": {\"outlinewidth\": 0, \"ticks\": \"\"}, \"colorscale\": [[0.0, \"#0d0887\"], [0.1111111111111111, \"#46039f\"], [0.2222222222222222, \"#7201a8\"], [0.3333333333333333, \"#9c179e\"], [0.4444444444444444, \"#bd3786\"], [0.5555555555555556, \"#d8576b\"], [0.6666666666666666, \"#ed7953\"], [0.7777777777777778, \"#fb9f3a\"], [0.8888888888888888, \"#fdca26\"], [1.0, \"#f0f921\"]], \"type\": \"histogram2d\"}], \"histogram2dcontour\": [{\"colorbar\": {\"outlinewidth\": 0, \"ticks\": \"\"}, \"colorscale\": [[0.0, \"#0d0887\"], [0.1111111111111111, \"#46039f\"], [0.2222222222222222, \"#7201a8\"], [0.3333333333333333, \"#9c179e\"], [0.4444444444444444, \"#bd3786\"], [0.5555555555555556, \"#d8576b\"], [0.6666666666666666, \"#ed7953\"], [0.7777777777777778, \"#fb9f3a\"], [0.8888888888888888, \"#fdca26\"], [1.0, \"#f0f921\"]], \"type\": \"histogram2dcontour\"}], \"mesh3d\": [{\"colorbar\": {\"outlinewidth\": 0, \"ticks\": \"\"}, \"type\": \"mesh3d\"}], \"parcoords\": [{\"line\": {\"colorbar\": {\"outlinewidth\": 0, \"ticks\": \"\"}}, \"type\": \"parcoords\"}], \"pie\": [{\"automargin\": true, \"type\": \"pie\"}], \"scatter\": [{\"marker\": {\"colorbar\": {\"outlinewidth\": 0, \"ticks\": \"\"}}, \"type\": \"scatter\"}], \"scatter3d\": [{\"line\": {\"colorbar\": {\"outlinewidth\": 0, \"ticks\": \"\"}}, \"marker\": {\"colorbar\": {\"outlinewidth\": 0, \"ticks\": \"\"}}, \"type\": \"scatter3d\"}], \"scattercarpet\": [{\"marker\": {\"colorbar\": {\"outlinewidth\": 0, \"ticks\": \"\"}}, \"type\": \"scattercarpet\"}], \"scattergeo\": [{\"marker\": {\"colorbar\": {\"outlinewidth\": 0, \"ticks\": \"\"}}, \"type\": \"scattergeo\"}], \"scattergl\": [{\"marker\": {\"colorbar\": {\"outlinewidth\": 0, \"ticks\": \"\"}}, \"type\": \"scattergl\"}], \"scattermapbox\": [{\"marker\": {\"colorbar\": {\"outlinewidth\": 0, \"ticks\": \"\"}}, \"type\": \"scattermapbox\"}], \"scatterpolar\": [{\"marker\": {\"colorbar\": {\"outlinewidth\": 0, \"ticks\": \"\"}}, \"type\": \"scatterpolar\"}], \"scatterpolargl\": [{\"marker\": {\"colorbar\": {\"outlinewidth\": 0, \"ticks\": \"\"}}, \"type\": \"scatterpolargl\"}], \"scatterternary\": [{\"marker\": {\"colorbar\": {\"outlinewidth\": 0, \"ticks\": \"\"}}, \"type\": \"scatterternary\"}], \"surface\": [{\"colorbar\": {\"outlinewidth\": 0, \"ticks\": \"\"}, \"colorscale\": [[0.0, \"#0d0887\"], [0.1111111111111111, \"#46039f\"], [0.2222222222222222, \"#7201a8\"], [0.3333333333333333, \"#9c179e\"], [0.4444444444444444, \"#bd3786\"], [0.5555555555555556, \"#d8576b\"], [0.6666666666666666, \"#ed7953\"], [0.7777777777777778, \"#fb9f3a\"], [0.8888888888888888, \"#fdca26\"], [1.0, \"#f0f921\"]], \"type\": \"surface\"}], \"table\": [{\"cells\": {\"fill\": {\"color\": \"#EBF0F8\"}, \"line\": {\"color\": \"white\"}}, \"header\": {\"fill\": {\"color\": \"#C8D4E3\"}, \"line\": {\"color\": \"white\"}}, \"type\": \"table\"}]}, \"layout\": {\"annotationdefaults\": {\"arrowcolor\": \"#2a3f5f\", \"arrowhead\": 0, \"arrowwidth\": 1}, \"autotypenumbers\": \"strict\", \"coloraxis\": {\"colorbar\": {\"outlinewidth\": 0, \"ticks\": \"\"}}, \"colorscale\": {\"diverging\": [[0, \"#8e0152\"], [0.1, \"#c51b7d\"], [0.2, \"#de77ae\"], [0.3, \"#f1b6da\"], [0.4, \"#fde0ef\"], [0.5, \"#f7f7f7\"], [0.6, \"#e6f5d0\"], [0.7, \"#b8e186\"], [0.8, \"#7fbc41\"], [0.9, \"#4d9221\"], [1, \"#276419\"]], \"sequential\": [[0.0, \"#0d0887\"], [0.1111111111111111, \"#46039f\"], [0.2222222222222222, \"#7201a8\"], [0.3333333333333333, \"#9c179e\"], [0.4444444444444444, \"#bd3786\"], [0.5555555555555556, \"#d8576b\"], [0.6666666666666666, \"#ed7953\"], [0.7777777777777778, \"#fb9f3a\"], [0.8888888888888888, \"#fdca26\"], [1.0, \"#f0f921\"]], \"sequentialminus\": [[0.0, \"#0d0887\"], [0.1111111111111111, \"#46039f\"], [0.2222222222222222, \"#7201a8\"], [0.3333333333333333, \"#9c179e\"], [0.4444444444444444, \"#bd3786\"], [0.5555555555555556, \"#d8576b\"], [0.6666666666666666, \"#ed7953\"], [0.7777777777777778, \"#fb9f3a\"], [0.8888888888888888, \"#fdca26\"], [1.0, \"#f0f921\"]]}, \"colorway\": [\"#636efa\", \"#EF553B\", \"#00cc96\", \"#ab63fa\", \"#FFA15A\", \"#19d3f3\", \"#FF6692\", \"#B6E880\", \"#FF97FF\", \"#FECB52\"], \"font\": {\"color\": \"#2a3f5f\"}, \"geo\": {\"bgcolor\": \"white\", \"lakecolor\": \"white\", \"landcolor\": \"#E5ECF6\", \"showlakes\": true, \"showland\": true, \"subunitcolor\": \"white\"}, \"hoverlabel\": {\"align\": \"left\"}, \"hovermode\": \"closest\", \"mapbox\": {\"style\": \"light\"}, \"paper_bgcolor\": \"white\", \"plot_bgcolor\": \"#E5ECF6\", \"polar\": {\"angularaxis\": {\"gridcolor\": \"white\", \"linecolor\": \"white\", \"ticks\": \"\"}, \"bgcolor\": \"#E5ECF6\", \"radialaxis\": {\"gridcolor\": \"white\", \"linecolor\": \"white\", \"ticks\": \"\"}}, \"scene\": {\"xaxis\": {\"backgroundcolor\": \"#E5ECF6\", \"gridcolor\": \"white\", \"gridwidth\": 2, \"linecolor\": \"white\", \"showbackground\": true, \"ticks\": \"\", \"zerolinecolor\": \"white\"}, \"yaxis\": {\"backgroundcolor\": \"#E5ECF6\", \"gridcolor\": \"white\", \"gridwidth\": 2, \"linecolor\": \"white\", \"showbackground\": true, \"ticks\": \"\", \"zerolinecolor\": \"white\"}, \"zaxis\": {\"backgroundcolor\": \"#E5ECF6\", \"gridcolor\": \"white\", \"gridwidth\": 2, \"linecolor\": \"white\", \"showbackground\": true, \"ticks\": \"\", \"zerolinecolor\": \"white\"}}, \"shapedefaults\": {\"line\": {\"color\": \"#2a3f5f\"}}, \"ternary\": {\"aaxis\": {\"gridcolor\": \"white\", \"linecolor\": \"white\", \"ticks\": \"\"}, \"baxis\": {\"gridcolor\": \"white\", \"linecolor\": \"white\", \"ticks\": \"\"}, \"bgcolor\": \"#E5ECF6\", \"caxis\": {\"gridcolor\": \"white\", \"linecolor\": \"white\", \"ticks\": \"\"}}, \"title\": {\"x\": 0.05}, \"xaxis\": {\"automargin\": true, \"gridcolor\": \"white\", \"linecolor\": \"white\", \"ticks\": \"\", \"title\": {\"standoff\": 15}, \"zerolinecolor\": \"white\", \"zerolinewidth\": 2}, \"yaxis\": {\"automargin\": true, \"gridcolor\": \"white\", \"linecolor\": \"white\", \"ticks\": \"\", \"title\": {\"standoff\": 15}, \"zerolinecolor\": \"white\", \"zerolinewidth\": 2}}}, \"title\": {\"font\": {\"family\": \"Arial\", \"size\": 16}, \"text\": \"<b>GHG Emissions vs. Revenue</b><br>Sector: Industrials\", \"x\": 0.5}, \"width\": 500, \"xaxis\": {\"autorange\": \"reversed\", \"title\": {\"text\": \"<i>high</i>----------<b>Scope1+2 Emissions</b>----------<i>low</i>\"}, \"type\": \"log\"}, \"yaxis\": {\"title\": {\"text\": \"Revenue\"}, \"type\": \"log\"}},                        {\"displaylogo\": false, \"responsive\": true}                    ).then(function(){\n",
       "                            \n",
       "var gd = document.getElementById('92af9da5-166e-4d4f-8a6d-3eda2cc1ea7e');\n",
       "var x = new MutationObserver(function (mutations, observer) {{\n",
       "        var display = window.getComputedStyle(gd).display;\n",
       "        if (!display || display === 'none') {{\n",
       "            console.log([gd, 'removed!']);\n",
       "            Plotly.purge(gd);\n",
       "            observer.disconnect();\n",
       "        }}\n",
       "}});\n",
       "\n",
       "// Listen for the removal of the full notebook cells\n",
       "var notebookContainer = gd.closest('#notebook-container');\n",
       "if (notebookContainer) {{\n",
       "    x.observe(notebookContainer, {childList: true});\n",
       "}}\n",
       "\n",
       "// Listen for the clearing of the current output cell\n",
       "var outputEl = gd.closest('.output');\n",
       "if (outputEl) {{\n",
       "    x.observe(outputEl, {childList: true});\n",
       "}}\n",
       "\n",
       "                        })                };                });            </script>        </div>"
      ],
      "application/vnd.plotly.v1+json": {
       "config": {
        "displaylogo": false,
        "linkText": "Export to plot.ly",
        "plotlyServerURL": "https://plot.ly",
        "showLink": false
       },
       "data": [
        {
         "line": {
          "color": "gray",
          "dash": "dash",
          "width": 2
         },
         "mode": "lines",
         "name": "Median y",
         "showlegend": false,
         "type": "scatter",
         "x": [
          2385024.537,
          2385024.537
         ],
         "y": [
          21700000000,
          95214000000
         ]
        },
        {
         "line": {
          "color": "gray",
          "dash": "dash",
          "width": 2
         },
         "mode": "lines",
         "name": "Median x",
         "showlegend": false,
         "type": "scatter",
         "x": [
          762200,
          16402161
         ],
         "y": [
          59810000000,
          59810000000
         ]
        },
        {
         "line": {
          "color": "black"
         },
         "marker": {
          "color": "#488f31",
          "opacity": 0.4,
          "size": 12
         },
         "mode": "markers+text",
         "name": "benchmark",
         "showlegend": false,
         "text": [
          "Boeing",
          "FedEx",
          "General Dynamics",
          "General Electric",
          "Honeywell Inc.",
          "Lockheed Martin Corp.",
          "Union Pacific Corp",
          "United Parcel Service"
         ],
         "textposition": "top center",
         "type": "scatter",
         "x": [
          1346000,
          16402161,
          762200,
          2385024.537,
          2024133,
          771435,
          10380670,
          14954000
         ],
         "y": [
          76559000000,
          69693000000,
          39350000000,
          95214000000,
          36709000000,
          59810000000,
          21700000000,
          74094000000
         ]
        },
        {
         "line": {
          "color": "#de425b"
         },
         "marker": {
          "color": "#de425b",
          "opacity": 1,
          "size": 20
         },
         "mode": "markers+text",
         "name": "3M",
         "showlegend": false,
         "text": "3M",
         "textfont": {
          "color": "#de425b",
          "size": 12
         },
         "textposition": "top center",
         "type": "scatter",
         "x": [
          5370000
         ],
         "y": [
          32136000000
         ]
        }
       ],
       "layout": {
        "autosize": false,
        "height": 500,
        "margin": {
         "b": 50,
         "l": 50,
         "pad": 4,
         "r": 50,
         "t": 80
        },
        "paper_bgcolor": "#bad0af",
        "plot_bgcolor": "#f1f1f1",
        "template": {
         "data": {
          "bar": [
           {
            "error_x": {
             "color": "#2a3f5f"
            },
            "error_y": {
             "color": "#2a3f5f"
            },
            "marker": {
             "line": {
              "color": "#E5ECF6",
              "width": 0.5
             }
            },
            "type": "bar"
           }
          ],
          "barpolar": [
           {
            "marker": {
             "line": {
              "color": "#E5ECF6",
              "width": 0.5
             }
            },
            "type": "barpolar"
           }
          ],
          "carpet": [
           {
            "aaxis": {
             "endlinecolor": "#2a3f5f",
             "gridcolor": "white",
             "linecolor": "white",
             "minorgridcolor": "white",
             "startlinecolor": "#2a3f5f"
            },
            "baxis": {
             "endlinecolor": "#2a3f5f",
             "gridcolor": "white",
             "linecolor": "white",
             "minorgridcolor": "white",
             "startlinecolor": "#2a3f5f"
            },
            "type": "carpet"
           }
          ],
          "choropleth": [
           {
            "colorbar": {
             "outlinewidth": 0,
             "ticks": ""
            },
            "type": "choropleth"
           }
          ],
          "contour": [
           {
            "colorbar": {
             "outlinewidth": 0,
             "ticks": ""
            },
            "colorscale": [
             [
              0,
              "#0d0887"
             ],
             [
              0.1111111111111111,
              "#46039f"
             ],
             [
              0.2222222222222222,
              "#7201a8"
             ],
             [
              0.3333333333333333,
              "#9c179e"
             ],
             [
              0.4444444444444444,
              "#bd3786"
             ],
             [
              0.5555555555555556,
              "#d8576b"
             ],
             [
              0.6666666666666666,
              "#ed7953"
             ],
             [
              0.7777777777777778,
              "#fb9f3a"
             ],
             [
              0.8888888888888888,
              "#fdca26"
             ],
             [
              1,
              "#f0f921"
             ]
            ],
            "type": "contour"
           }
          ],
          "contourcarpet": [
           {
            "colorbar": {
             "outlinewidth": 0,
             "ticks": ""
            },
            "type": "contourcarpet"
           }
          ],
          "heatmap": [
           {
            "colorbar": {
             "outlinewidth": 0,
             "ticks": ""
            },
            "colorscale": [
             [
              0,
              "#0d0887"
             ],
             [
              0.1111111111111111,
              "#46039f"
             ],
             [
              0.2222222222222222,
              "#7201a8"
             ],
             [
              0.3333333333333333,
              "#9c179e"
             ],
             [
              0.4444444444444444,
              "#bd3786"
             ],
             [
              0.5555555555555556,
              "#d8576b"
             ],
             [
              0.6666666666666666,
              "#ed7953"
             ],
             [
              0.7777777777777778,
              "#fb9f3a"
             ],
             [
              0.8888888888888888,
              "#fdca26"
             ],
             [
              1,
              "#f0f921"
             ]
            ],
            "type": "heatmap"
           }
          ],
          "heatmapgl": [
           {
            "colorbar": {
             "outlinewidth": 0,
             "ticks": ""
            },
            "colorscale": [
             [
              0,
              "#0d0887"
             ],
             [
              0.1111111111111111,
              "#46039f"
             ],
             [
              0.2222222222222222,
              "#7201a8"
             ],
             [
              0.3333333333333333,
              "#9c179e"
             ],
             [
              0.4444444444444444,
              "#bd3786"
             ],
             [
              0.5555555555555556,
              "#d8576b"
             ],
             [
              0.6666666666666666,
              "#ed7953"
             ],
             [
              0.7777777777777778,
              "#fb9f3a"
             ],
             [
              0.8888888888888888,
              "#fdca26"
             ],
             [
              1,
              "#f0f921"
             ]
            ],
            "type": "heatmapgl"
           }
          ],
          "histogram": [
           {
            "marker": {
             "colorbar": {
              "outlinewidth": 0,
              "ticks": ""
             }
            },
            "type": "histogram"
           }
          ],
          "histogram2d": [
           {
            "colorbar": {
             "outlinewidth": 0,
             "ticks": ""
            },
            "colorscale": [
             [
              0,
              "#0d0887"
             ],
             [
              0.1111111111111111,
              "#46039f"
             ],
             [
              0.2222222222222222,
              "#7201a8"
             ],
             [
              0.3333333333333333,
              "#9c179e"
             ],
             [
              0.4444444444444444,
              "#bd3786"
             ],
             [
              0.5555555555555556,
              "#d8576b"
             ],
             [
              0.6666666666666666,
              "#ed7953"
             ],
             [
              0.7777777777777778,
              "#fb9f3a"
             ],
             [
              0.8888888888888888,
              "#fdca26"
             ],
             [
              1,
              "#f0f921"
             ]
            ],
            "type": "histogram2d"
           }
          ],
          "histogram2dcontour": [
           {
            "colorbar": {
             "outlinewidth": 0,
             "ticks": ""
            },
            "colorscale": [
             [
              0,
              "#0d0887"
             ],
             [
              0.1111111111111111,
              "#46039f"
             ],
             [
              0.2222222222222222,
              "#7201a8"
             ],
             [
              0.3333333333333333,
              "#9c179e"
             ],
             [
              0.4444444444444444,
              "#bd3786"
             ],
             [
              0.5555555555555556,
              "#d8576b"
             ],
             [
              0.6666666666666666,
              "#ed7953"
             ],
             [
              0.7777777777777778,
              "#fb9f3a"
             ],
             [
              0.8888888888888888,
              "#fdca26"
             ],
             [
              1,
              "#f0f921"
             ]
            ],
            "type": "histogram2dcontour"
           }
          ],
          "mesh3d": [
           {
            "colorbar": {
             "outlinewidth": 0,
             "ticks": ""
            },
            "type": "mesh3d"
           }
          ],
          "parcoords": [
           {
            "line": {
             "colorbar": {
              "outlinewidth": 0,
              "ticks": ""
             }
            },
            "type": "parcoords"
           }
          ],
          "pie": [
           {
            "automargin": true,
            "type": "pie"
           }
          ],
          "scatter": [
           {
            "marker": {
             "colorbar": {
              "outlinewidth": 0,
              "ticks": ""
             }
            },
            "type": "scatter"
           }
          ],
          "scatter3d": [
           {
            "line": {
             "colorbar": {
              "outlinewidth": 0,
              "ticks": ""
             }
            },
            "marker": {
             "colorbar": {
              "outlinewidth": 0,
              "ticks": ""
             }
            },
            "type": "scatter3d"
           }
          ],
          "scattercarpet": [
           {
            "marker": {
             "colorbar": {
              "outlinewidth": 0,
              "ticks": ""
             }
            },
            "type": "scattercarpet"
           }
          ],
          "scattergeo": [
           {
            "marker": {
             "colorbar": {
              "outlinewidth": 0,
              "ticks": ""
             }
            },
            "type": "scattergeo"
           }
          ],
          "scattergl": [
           {
            "marker": {
             "colorbar": {
              "outlinewidth": 0,
              "ticks": ""
             }
            },
            "type": "scattergl"
           }
          ],
          "scattermapbox": [
           {
            "marker": {
             "colorbar": {
              "outlinewidth": 0,
              "ticks": ""
             }
            },
            "type": "scattermapbox"
           }
          ],
          "scatterpolar": [
           {
            "marker": {
             "colorbar": {
              "outlinewidth": 0,
              "ticks": ""
             }
            },
            "type": "scatterpolar"
           }
          ],
          "scatterpolargl": [
           {
            "marker": {
             "colorbar": {
              "outlinewidth": 0,
              "ticks": ""
             }
            },
            "type": "scatterpolargl"
           }
          ],
          "scatterternary": [
           {
            "marker": {
             "colorbar": {
              "outlinewidth": 0,
              "ticks": ""
             }
            },
            "type": "scatterternary"
           }
          ],
          "surface": [
           {
            "colorbar": {
             "outlinewidth": 0,
             "ticks": ""
            },
            "colorscale": [
             [
              0,
              "#0d0887"
             ],
             [
              0.1111111111111111,
              "#46039f"
             ],
             [
              0.2222222222222222,
              "#7201a8"
             ],
             [
              0.3333333333333333,
              "#9c179e"
             ],
             [
              0.4444444444444444,
              "#bd3786"
             ],
             [
              0.5555555555555556,
              "#d8576b"
             ],
             [
              0.6666666666666666,
              "#ed7953"
             ],
             [
              0.7777777777777778,
              "#fb9f3a"
             ],
             [
              0.8888888888888888,
              "#fdca26"
             ],
             [
              1,
              "#f0f921"
             ]
            ],
            "type": "surface"
           }
          ],
          "table": [
           {
            "cells": {
             "fill": {
              "color": "#EBF0F8"
             },
             "line": {
              "color": "white"
             }
            },
            "header": {
             "fill": {
              "color": "#C8D4E3"
             },
             "line": {
              "color": "white"
             }
            },
            "type": "table"
           }
          ]
         },
         "layout": {
          "annotationdefaults": {
           "arrowcolor": "#2a3f5f",
           "arrowhead": 0,
           "arrowwidth": 1
          },
          "autotypenumbers": "strict",
          "coloraxis": {
           "colorbar": {
            "outlinewidth": 0,
            "ticks": ""
           }
          },
          "colorscale": {
           "diverging": [
            [
             0,
             "#8e0152"
            ],
            [
             0.1,
             "#c51b7d"
            ],
            [
             0.2,
             "#de77ae"
            ],
            [
             0.3,
             "#f1b6da"
            ],
            [
             0.4,
             "#fde0ef"
            ],
            [
             0.5,
             "#f7f7f7"
            ],
            [
             0.6,
             "#e6f5d0"
            ],
            [
             0.7,
             "#b8e186"
            ],
            [
             0.8,
             "#7fbc41"
            ],
            [
             0.9,
             "#4d9221"
            ],
            [
             1,
             "#276419"
            ]
           ],
           "sequential": [
            [
             0,
             "#0d0887"
            ],
            [
             0.1111111111111111,
             "#46039f"
            ],
            [
             0.2222222222222222,
             "#7201a8"
            ],
            [
             0.3333333333333333,
             "#9c179e"
            ],
            [
             0.4444444444444444,
             "#bd3786"
            ],
            [
             0.5555555555555556,
             "#d8576b"
            ],
            [
             0.6666666666666666,
             "#ed7953"
            ],
            [
             0.7777777777777778,
             "#fb9f3a"
            ],
            [
             0.8888888888888888,
             "#fdca26"
            ],
            [
             1,
             "#f0f921"
            ]
           ],
           "sequentialminus": [
            [
             0,
             "#0d0887"
            ],
            [
             0.1111111111111111,
             "#46039f"
            ],
            [
             0.2222222222222222,
             "#7201a8"
            ],
            [
             0.3333333333333333,
             "#9c179e"
            ],
            [
             0.4444444444444444,
             "#bd3786"
            ],
            [
             0.5555555555555556,
             "#d8576b"
            ],
            [
             0.6666666666666666,
             "#ed7953"
            ],
            [
             0.7777777777777778,
             "#fb9f3a"
            ],
            [
             0.8888888888888888,
             "#fdca26"
            ],
            [
             1,
             "#f0f921"
            ]
           ]
          },
          "colorway": [
           "#636efa",
           "#EF553B",
           "#00cc96",
           "#ab63fa",
           "#FFA15A",
           "#19d3f3",
           "#FF6692",
           "#B6E880",
           "#FF97FF",
           "#FECB52"
          ],
          "font": {
           "color": "#2a3f5f"
          },
          "geo": {
           "bgcolor": "white",
           "lakecolor": "white",
           "landcolor": "#E5ECF6",
           "showlakes": true,
           "showland": true,
           "subunitcolor": "white"
          },
          "hoverlabel": {
           "align": "left"
          },
          "hovermode": "closest",
          "mapbox": {
           "style": "light"
          },
          "paper_bgcolor": "white",
          "plot_bgcolor": "#E5ECF6",
          "polar": {
           "angularaxis": {
            "gridcolor": "white",
            "linecolor": "white",
            "ticks": ""
           },
           "bgcolor": "#E5ECF6",
           "radialaxis": {
            "gridcolor": "white",
            "linecolor": "white",
            "ticks": ""
           }
          },
          "scene": {
           "xaxis": {
            "backgroundcolor": "#E5ECF6",
            "gridcolor": "white",
            "gridwidth": 2,
            "linecolor": "white",
            "showbackground": true,
            "ticks": "",
            "zerolinecolor": "white"
           },
           "yaxis": {
            "backgroundcolor": "#E5ECF6",
            "gridcolor": "white",
            "gridwidth": 2,
            "linecolor": "white",
            "showbackground": true,
            "ticks": "",
            "zerolinecolor": "white"
           },
           "zaxis": {
            "backgroundcolor": "#E5ECF6",
            "gridcolor": "white",
            "gridwidth": 2,
            "linecolor": "white",
            "showbackground": true,
            "ticks": "",
            "zerolinecolor": "white"
           }
          },
          "shapedefaults": {
           "line": {
            "color": "#2a3f5f"
           }
          },
          "ternary": {
           "aaxis": {
            "gridcolor": "white",
            "linecolor": "white",
            "ticks": ""
           },
           "baxis": {
            "gridcolor": "white",
            "linecolor": "white",
            "ticks": ""
           },
           "bgcolor": "#E5ECF6",
           "caxis": {
            "gridcolor": "white",
            "linecolor": "white",
            "ticks": ""
           }
          },
          "title": {
           "x": 0.05
          },
          "xaxis": {
           "automargin": true,
           "gridcolor": "white",
           "linecolor": "white",
           "ticks": "",
           "title": {
            "standoff": 15
           },
           "zerolinecolor": "white",
           "zerolinewidth": 2
          },
          "yaxis": {
           "automargin": true,
           "gridcolor": "white",
           "linecolor": "white",
           "ticks": "",
           "title": {
            "standoff": 15
           },
           "zerolinecolor": "white",
           "zerolinewidth": 2
          }
         }
        },
        "title": {
         "font": {
          "family": "Arial",
          "size": 16
         },
         "text": "<b>GHG Emissions vs. Revenue</b><br>Sector: Industrials",
         "x": 0.5
        },
        "width": 500,
        "xaxis": {
         "autorange": "reversed",
         "title": {
          "text": "<i>high</i>----------<b>Scope1+2 Emissions</b>----------<i>low</i>"
         },
         "type": "log"
        },
        "yaxis": {
         "title": {
          "text": "Revenue"
         },
         "type": "log"
        }
       }
      }
     },
     "metadata": {}
    }
   ],
   "metadata": {}
  },
  {
   "cell_type": "code",
   "execution_count": 17,
   "source": [
    "name_fig = \"intensity_idx{}\".format(company_id)\r\n",
    "fig.write_image(\"../django_project/static/django_project/images/charts/{}.svg\".format(name_fig), scale=3, height = 300)\r\n",
    "plot(fig, config=config, filename = '../django_project/templates/django_project/corporates/charts/html_exports/{}.html'.format(name_fig), auto_open=False)"
   ],
   "outputs": [
    {
     "output_type": "execute_result",
     "data": {
      "text/plain": [
       "'../django_project/templates/django_project/corporates/charts/html_exports/intensity_idx1.html'"
      ]
     },
     "metadata": {},
     "execution_count": 17
    }
   ],
   "metadata": {}
  },
  {
   "cell_type": "code",
   "execution_count": null,
   "source": [],
   "outputs": [],
   "metadata": {}
  },
  {
   "cell_type": "code",
   "execution_count": null,
   "source": [],
   "outputs": [],
   "metadata": {}
  },
  {
   "cell_type": "code",
   "execution_count": null,
   "source": [],
   "outputs": [],
   "metadata": {}
  },
  {
   "cell_type": "code",
   "execution_count": null,
   "source": [],
   "outputs": [],
   "metadata": {}
  }
 ],
 "metadata": {
  "interpreter": {
   "hash": "2763097f05fa0e79020cf579cd98f61c1a12f2eb3c0b21888a5c169647c48c37"
  },
  "kernelspec": {
   "name": "python3",
   "display_name": "Python 3.6.13 64-bit ('cnext': conda)"
  },
  "language_info": {
   "codemirror_mode": {
    "name": "ipython",
    "version": 3
   },
   "file_extension": ".py",
   "mimetype": "text/x-python",
   "name": "python",
   "nbconvert_exporter": "python",
   "pygments_lexer": "ipython3",
   "version": "3.6.13"
  }
 },
 "nbformat": 4,
 "nbformat_minor": 4
}