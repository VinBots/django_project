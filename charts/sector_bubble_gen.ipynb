{
 "cells": [
  {
   "cell_type": "markdown",
   "metadata": {},
   "source": [
    "# Chart generations Notebook"
   ]
  },
  {
   "cell_type": "markdown",
   "metadata": {},
   "source": [
    "## Import Libraries"
   ]
  },
  {
   "cell_type": "code",
   "execution_count": 1,
   "metadata": {},
   "outputs": [],
   "source": [
    "import pandas as pd\n",
    "import plotly.graph_objs as go\n",
    "import plotly.offline as offline\n",
    "import os\n",
    "import numpy as np\n",
    "from plotly.offline import plot"
   ]
  },
  {
   "cell_type": "code",
   "execution_count": 2,
   "metadata": {},
   "outputs": [
    {
     "output_type": "display_data",
     "data": {
      "text/html": "        <script type=\"text/javascript\">\n        window.PlotlyConfig = {MathJaxConfig: 'local'};\n        if (window.MathJax) {MathJax.Hub.Config({SVG: {font: \"STIX-Web\"}});}\n        if (typeof require !== 'undefined') {\n        require.undef(\"plotly\");\n        requirejs.config({\n            paths: {\n                'plotly': ['https://cdn.plot.ly/plotly-latest.min']\n            }\n        });\n        require(['plotly'], function(Plotly) {\n            window._Plotly = Plotly;\n        });\n        }\n        </script>\n        "
     },
     "metadata": {}
    }
   ],
   "source": [
    "offline.init_notebook_mode(connected=True)"
   ]
  },
  {
   "cell_type": "markdown",
   "metadata": {},
   "source": [
    "## Bubble Chart for Emissions Intensity\n"
   ]
  },
  {
   "cell_type": "code",
   "execution_count": 3,
   "metadata": {},
   "outputs": [],
   "source": [
    "corp_name = \"Accenture\""
   ]
  },
  {
   "source": [
    "# Step 1: Set up the data sources"
   ],
   "cell_type": "markdown",
   "metadata": {}
  },
  {
   "cell_type": "code",
   "execution_count": 4,
   "metadata": {},
   "outputs": [],
   "source": [
    "XLSX_PATH = os.path.join ('../django_project/static/django_project', 'data', 'sp100_data.xlsx')\n",
    "COLS_TO_USE = {\n",
    "    'companies':['company_id', 'company_name'],\n",
    "    'GHG19':['company_id', 'gross_total_scope1', 'gross_loc_scope2', 'gross_mkt_scope2'],\n",
    "    'grouping':['company_id', 'Sector1'],\n",
    "    'financials':['company_id', 'Revenue']\n",
    "}\n"
   ]
  },
  {
   "source": [
    "# Step 2: Merge the tables"
   ],
   "cell_type": "markdown",
   "metadata": {}
  },
  {
   "cell_type": "code",
   "execution_count": 5,
   "metadata": {},
   "outputs": [],
   "source": [
    "all_df = []\n",
    "for sheetname, cols in COLS_TO_USE.items():\n",
    "    all_df.append(pd.read_excel(\n",
    "        XLSX_PATH, \n",
    "        sheet_name = sheetname,\n",
    "        engine = 'openpyxl', \n",
    "        usecols = cols\n",
    "        ))\n",
    "#all_data.to_pickle (os.path.join ('..','data_frame.pickle'))"
   ]
  },
  {
   "cell_type": "code",
   "execution_count": 6,
   "metadata": {},
   "outputs": [],
   "source": [
    "merged_df = all_df[0]\n",
    "for i in range(len(COLS_TO_USE) - 1):\n",
    "    merged_df = pd.merge(\n",
    "        left = merged_df,\n",
    "        right = all_df[i+1],\n",
    "        how=\"left\",\n",
    "        on=\"company_id\"\n",
    "    )"
   ]
  },
  {
   "cell_type": "code",
   "execution_count": 7,
   "metadata": {},
   "outputs": [
    {
     "output_type": "execute_result",
     "data": {
      "text/plain": [
       "   company_id         company_name gross_total_scope1 gross_loc_scope2  \\\n",
       "0           1                   3M            4050000          1780000   \n",
       "1           2  Abbott Laboratories             533000           518000   \n",
       "2           3          AbbVie Inc.             314421           308204   \n",
       "3           4            Accenture              18923           281489   \n",
       "4           5           Adobe Inc.              11816            56113   \n",
       "\n",
       "  gross_mkt_scope2      Sector1       Revenue  \n",
       "0          1320000  Industrials  3.213600e+10  \n",
       "1           439000   Healthcare  3.190400e+10  \n",
       "2           249777   Healthcare  3.326600e+10  \n",
       "3           214680   Technology  4.320000e+10  \n",
       "4            43526   Technology  1.117100e+10  "
      ],
      "text/html": "<div>\n<style scoped>\n    .dataframe tbody tr th:only-of-type {\n        vertical-align: middle;\n    }\n\n    .dataframe tbody tr th {\n        vertical-align: top;\n    }\n\n    .dataframe thead th {\n        text-align: right;\n    }\n</style>\n<table border=\"1\" class=\"dataframe\">\n  <thead>\n    <tr style=\"text-align: right;\">\n      <th></th>\n      <th>company_id</th>\n      <th>company_name</th>\n      <th>gross_total_scope1</th>\n      <th>gross_loc_scope2</th>\n      <th>gross_mkt_scope2</th>\n      <th>Sector1</th>\n      <th>Revenue</th>\n    </tr>\n  </thead>\n  <tbody>\n    <tr>\n      <th>0</th>\n      <td>1</td>\n      <td>3M</td>\n      <td>4050000</td>\n      <td>1780000</td>\n      <td>1320000</td>\n      <td>Industrials</td>\n      <td>3.213600e+10</td>\n    </tr>\n    <tr>\n      <th>1</th>\n      <td>2</td>\n      <td>Abbott Laboratories</td>\n      <td>533000</td>\n      <td>518000</td>\n      <td>439000</td>\n      <td>Healthcare</td>\n      <td>3.190400e+10</td>\n    </tr>\n    <tr>\n      <th>2</th>\n      <td>3</td>\n      <td>AbbVie Inc.</td>\n      <td>314421</td>\n      <td>308204</td>\n      <td>249777</td>\n      <td>Healthcare</td>\n      <td>3.326600e+10</td>\n    </tr>\n    <tr>\n      <th>3</th>\n      <td>4</td>\n      <td>Accenture</td>\n      <td>18923</td>\n      <td>281489</td>\n      <td>214680</td>\n      <td>Technology</td>\n      <td>4.320000e+10</td>\n    </tr>\n    <tr>\n      <th>4</th>\n      <td>5</td>\n      <td>Adobe Inc.</td>\n      <td>11816</td>\n      <td>56113</td>\n      <td>43526</td>\n      <td>Technology</td>\n      <td>1.117100e+10</td>\n    </tr>\n  </tbody>\n</table>\n</div>"
     },
     "metadata": {},
     "execution_count": 7
    }
   ],
   "source": [
    "merged_df.head()"
   ]
  },
  {
   "source": [
    "# Step 3: Filter the sector"
   ],
   "cell_type": "markdown",
   "metadata": {}
  },
  {
   "cell_type": "code",
   "execution_count": 8,
   "metadata": {},
   "outputs": [],
   "source": [
    "sector = merged_df[merged_df['company_name']==corp_name]['Sector1'].iloc[0]"
   ]
  },
  {
   "cell_type": "code",
   "execution_count": 9,
   "metadata": {},
   "outputs": [],
   "source": [
    "merged_df_sector = merged_df.loc[merged_df['Sector1']==sector]"
   ]
  },
  {
   "source": [
    "# Calculate GHG Intensity"
   ],
   "cell_type": "markdown",
   "metadata": {}
  },
  {
   "cell_type": "code",
   "execution_count": 16,
   "metadata": {},
   "outputs": [],
   "source": [
    "merged_df_sector = merged_df_sector.assign(scope1_plus_scope2= (merged_df_sector['gross_total_scope1'] + merged_df_sector['gross_mkt_scope2']))"
   ]
  },
  {
   "cell_type": "code",
   "execution_count": 17,
   "metadata": {},
   "outputs": [
    {
     "output_type": "execute_result",
     "data": {
      "text/plain": [
       "    company_id       company_name gross_total_scope1 gross_loc_scope2  \\\n",
       "3            4          Accenture              18923           281489   \n",
       "4            5         Adobe Inc.              11816            56113   \n",
       "13          14         Apple Inc.              50549           862127   \n",
       "26          27      Cisco Systems              41181           651331   \n",
       "52          53          IBM Corp.             117723           987066   \n",
       "53          54        Intel Corp.            1489000          3345000   \n",
       "65          66    Microsoft Corp.             113412          3556553   \n",
       "71          72             Nvidia               2817            74692   \n",
       "73          74             Oracle              16520           560683   \n",
       "79          80      QUALCOMM Inc.              78290           135967   \n",
       "81          82         Salesforce               5747           290938   \n",
       "87          88  Texas Instruments             966579          1054751   \n",
       "\n",
       "   gross_mkt_scope2     Sector1       Revenue scope1_plus_scope2    intensity  \n",
       "3            214680  Technology  4.320000e+10             233603  5.40748e-06  \n",
       "4             43526  Technology  1.117100e+10              55342  4.95408e-06  \n",
       "13                0  Technology  2.601740e+11              50549  1.94289e-07  \n",
       "26           187428  Technology  5.190000e+10             228609   4.4048e-06  \n",
       "52           827369  Technology  7.714000e+10             945092  1.22516e-05  \n",
       "53          1299000  Technology  7.190000e+10            2788000  3.87761e-05  \n",
       "65           275375  Technology  1.258000e+11             388787  3.09052e-06  \n",
       "71            65936  Technology  1.172000e+10              68753   5.8663e-06  \n",
       "73           349022  Technology  3.950000e+10             365542  9.25423e-06  \n",
       "79           114060  Technology  2.427000e+10             192350  7.92542e-06  \n",
       "81           134760  Technology  1.328000e+10             140507  1.05803e-05  \n",
       "87            13430  Technology  1.431800e+10             980009  6.84459e-05  "
      ],
      "text/html": "<div>\n<style scoped>\n    .dataframe tbody tr th:only-of-type {\n        vertical-align: middle;\n    }\n\n    .dataframe tbody tr th {\n        vertical-align: top;\n    }\n\n    .dataframe thead th {\n        text-align: right;\n    }\n</style>\n<table border=\"1\" class=\"dataframe\">\n  <thead>\n    <tr style=\"text-align: right;\">\n      <th></th>\n      <th>company_id</th>\n      <th>company_name</th>\n      <th>gross_total_scope1</th>\n      <th>gross_loc_scope2</th>\n      <th>gross_mkt_scope2</th>\n      <th>Sector1</th>\n      <th>Revenue</th>\n      <th>scope1_plus_scope2</th>\n      <th>intensity</th>\n    </tr>\n  </thead>\n  <tbody>\n    <tr>\n      <th>3</th>\n      <td>4</td>\n      <td>Accenture</td>\n      <td>18923</td>\n      <td>281489</td>\n      <td>214680</td>\n      <td>Technology</td>\n      <td>4.320000e+10</td>\n      <td>233603</td>\n      <td>5.40748e-06</td>\n    </tr>\n    <tr>\n      <th>4</th>\n      <td>5</td>\n      <td>Adobe Inc.</td>\n      <td>11816</td>\n      <td>56113</td>\n      <td>43526</td>\n      <td>Technology</td>\n      <td>1.117100e+10</td>\n      <td>55342</td>\n      <td>4.95408e-06</td>\n    </tr>\n    <tr>\n      <th>13</th>\n      <td>14</td>\n      <td>Apple Inc.</td>\n      <td>50549</td>\n      <td>862127</td>\n      <td>0</td>\n      <td>Technology</td>\n      <td>2.601740e+11</td>\n      <td>50549</td>\n      <td>1.94289e-07</td>\n    </tr>\n    <tr>\n      <th>26</th>\n      <td>27</td>\n      <td>Cisco Systems</td>\n      <td>41181</td>\n      <td>651331</td>\n      <td>187428</td>\n      <td>Technology</td>\n      <td>5.190000e+10</td>\n      <td>228609</td>\n      <td>4.4048e-06</td>\n    </tr>\n    <tr>\n      <th>52</th>\n      <td>53</td>\n      <td>IBM Corp.</td>\n      <td>117723</td>\n      <td>987066</td>\n      <td>827369</td>\n      <td>Technology</td>\n      <td>7.714000e+10</td>\n      <td>945092</td>\n      <td>1.22516e-05</td>\n    </tr>\n    <tr>\n      <th>53</th>\n      <td>54</td>\n      <td>Intel Corp.</td>\n      <td>1489000</td>\n      <td>3345000</td>\n      <td>1299000</td>\n      <td>Technology</td>\n      <td>7.190000e+10</td>\n      <td>2788000</td>\n      <td>3.87761e-05</td>\n    </tr>\n    <tr>\n      <th>65</th>\n      <td>66</td>\n      <td>Microsoft Corp.</td>\n      <td>113412</td>\n      <td>3556553</td>\n      <td>275375</td>\n      <td>Technology</td>\n      <td>1.258000e+11</td>\n      <td>388787</td>\n      <td>3.09052e-06</td>\n    </tr>\n    <tr>\n      <th>71</th>\n      <td>72</td>\n      <td>Nvidia</td>\n      <td>2817</td>\n      <td>74692</td>\n      <td>65936</td>\n      <td>Technology</td>\n      <td>1.172000e+10</td>\n      <td>68753</td>\n      <td>5.8663e-06</td>\n    </tr>\n    <tr>\n      <th>73</th>\n      <td>74</td>\n      <td>Oracle</td>\n      <td>16520</td>\n      <td>560683</td>\n      <td>349022</td>\n      <td>Technology</td>\n      <td>3.950000e+10</td>\n      <td>365542</td>\n      <td>9.25423e-06</td>\n    </tr>\n    <tr>\n      <th>79</th>\n      <td>80</td>\n      <td>QUALCOMM Inc.</td>\n      <td>78290</td>\n      <td>135967</td>\n      <td>114060</td>\n      <td>Technology</td>\n      <td>2.427000e+10</td>\n      <td>192350</td>\n      <td>7.92542e-06</td>\n    </tr>\n    <tr>\n      <th>81</th>\n      <td>82</td>\n      <td>Salesforce</td>\n      <td>5747</td>\n      <td>290938</td>\n      <td>134760</td>\n      <td>Technology</td>\n      <td>1.328000e+10</td>\n      <td>140507</td>\n      <td>1.05803e-05</td>\n    </tr>\n    <tr>\n      <th>87</th>\n      <td>88</td>\n      <td>Texas Instruments</td>\n      <td>966579</td>\n      <td>1054751</td>\n      <td>13430</td>\n      <td>Technology</td>\n      <td>1.431800e+10</td>\n      <td>980009</td>\n      <td>6.84459e-05</td>\n    </tr>\n  </tbody>\n</table>\n</div>"
     },
     "metadata": {},
     "execution_count": 17
    }
   ],
   "source": [
    "merged_df_sector.assign(intensity=(merged_df_sector['scope1_plus_scope2'] / merged_df_sector['Revenue']))"
   ]
  },
  {
   "source": [
    "# Fetch specific values for the selected company"
   ],
   "cell_type": "markdown",
   "metadata": {}
  },
  {
   "cell_type": "code",
   "execution_count": 11,
   "metadata": {},
   "outputs": [],
   "source": [
    "corp_x = merged_df_sector[merged_df_sector['company_name']==corp_name]['gross_total_scope1'].iloc[0]\n",
    "corp_y = merged_df_sector[merged_df_sector['company_name']==corp_name]['Revenue'].iloc[0]"
   ]
  },
  {
   "source": [
    "# Fetch data series for the bubble chart data"
   ],
   "cell_type": "markdown",
   "metadata": {}
  },
  {
   "cell_type": "code",
   "execution_count": 16,
   "metadata": {},
   "outputs": [],
   "source": [
    "x0 = merged_df_sector['gross_total_scope1']\n",
    "y0 = merged_df_sector['Revenue']\n"
   ]
  },
  {
   "cell_type": "code",
   "execution_count": 17,
   "metadata": {},
   "outputs": [
    {
     "output_type": "execute_result",
     "data": {
      "text/plain": [
       "'\\nupper_left_ann = dict (xref=\"x domain\",\\n                       yref=\"paper\",\\n                       x=0.10,\\n                       y=1.10,\\n                       text=\"<b>Corporate Behemoths</b> <br> High Revenue, High Emissions\",\\n                       showarrow = False,\\n                       bgcolor = \\'blue\\',\\n                       font = {\\'color\\':\\'white\\'},\\n                       opacity = 0.5\\n                      )\\nupper_right_ann = dict (xref=\"x domain\",\\n                       yref=\"paper\",\\n                       x=0.90,\\n                       y=1.10,\\n                       text=\"<b>Sustainability Leaders</b> <br> High Revenue, Low Emissions\",\\n                       showarrow = False,\\n                       bgcolor = \\'blue\\',\\n                       font = {\\'color\\':\\'white\\'},\\n                       opacity = 0.5\\n                       )\\nlower_right_ann = dict (xref=\"x domain\",\\n                       yref=\"paper\",\\n                       x=0.90,\\n                       y=-0.15,\\n                       text=\"<b>Small Players</b> <br> Low Revenue, Low Emissions\",\\n                       showarrow = False,\\n                       bgcolor = \\'blue\\',\\n                       font = {\\'color\\':\\'white\\'},\\n                       opacity = 0.5\\n                       )\\nlower_left_ann = dict (xref=\"x domain\",\\n                       yref=\"paper\",\\n                       x=0.10,\\n                       y=-0.15,\\n                       text=\"<b>Worst Offenders</b> <br> Low Revenue, High Emissions\",\\n                       showarrow = False,\\n                      bgcolor = \\'blue\\',\\n                       font = {\\'color\\':\\'white\\'},\\n                       opacity = 0.5\\n                      )\\n'"
      ]
     },
     "metadata": {},
     "execution_count": 17
    }
   ],
   "source": [
    "\"\"\"\n",
    "upper_left_ann = dict (xref=\"x domain\",\n",
    "                       yref=\"paper\",\n",
    "                       x=0.10,\n",
    "                       y=1.10,\n",
    "                       text=\"<b>Corporate Behemoths</b> <br> High Revenue, High Emissions\",\n",
    "                       showarrow = False,\n",
    "                       bgcolor = 'blue',\n",
    "                       font = {'color':'white'},\n",
    "                       opacity = 0.5\n",
    "                      )\n",
    "upper_right_ann = dict (xref=\"x domain\",\n",
    "                       yref=\"paper\",\n",
    "                       x=0.90,\n",
    "                       y=1.10,\n",
    "                       text=\"<b>Sustainability Leaders</b> <br> High Revenue, Low Emissions\",\n",
    "                       showarrow = False,\n",
    "                       bgcolor = 'blue',\n",
    "                       font = {'color':'white'},\n",
    "                       opacity = 0.5\n",
    "                       )\n",
    "lower_right_ann = dict (xref=\"x domain\",\n",
    "                       yref=\"paper\",\n",
    "                       x=0.90,\n",
    "                       y=-0.15,\n",
    "                       text=\"<b>Small Players</b> <br> Low Revenue, Low Emissions\",\n",
    "                       showarrow = False,\n",
    "                       bgcolor = 'blue',\n",
    "                       font = {'color':'white'},\n",
    "                       opacity = 0.5\n",
    "                       )\n",
    "lower_left_ann = dict (xref=\"x domain\",\n",
    "                       yref=\"paper\",\n",
    "                       x=0.10,\n",
    "                       y=-0.15,\n",
    "                       text=\"<b>Worst Offenders</b> <br> Low Revenue, High Emissions\",\n",
    "                       showarrow = False,\n",
    "                      bgcolor = 'blue',\n",
    "                       font = {'color':'white'},\n",
    "                       opacity = 0.5\n",
    "                      )\n",
    "\"\"\""
   ]
  },
  {
   "cell_type": "code",
   "execution_count": 18,
   "metadata": {},
   "outputs": [],
   "source": [
    "layout = go.Layout (\n",
    "    title = 'Sector:' + sector + 'GHG Emissions Intensity',\n",
    "    title_x = 0.5,\n",
    "    titlefont = dict(family = 'Arial', size = 25),\n",
    "    plot_bgcolor = 'antiquewhite',\n",
    "    xaxis =  dict(autorange = \"reversed\", type = 'log'),\n",
    "    yaxis = dict(type = 'log'),\n",
    "    #annotations = [upper_left_ann, upper_right_ann, lower_left_ann, lower_right_ann]\n",
    ")"
   ]
  },
  {
   "cell_type": "code",
   "execution_count": 19,
   "metadata": {},
   "outputs": [],
   "source": [
    "x_median_x = [x0.min(), x0.max()]\n",
    "y_median_x = [y0.median(), y0.median()]\n",
    "x_median_y = [x0.median(), x0.median()]\n",
    "y_median_y = [y0.min(), y0.max()]"
   ]
  },
  {
   "cell_type": "code",
   "execution_count": 24,
   "metadata": {},
   "outputs": [
    {
     "output_type": "stream",
     "name": "stderr",
     "text": [
      "C:\\Users\\vince\\anaconda3\\envs\\cnext\\lib\\site-packages\\pandas\\core\\frame.py:4170: SettingWithCopyWarning:\n\n\nA value is trying to be set on a copy of a slice from a DataFrame\n\nSee the caveats in the documentation: https://pandas.pydata.org/pandas-docs/stable/user_guide/indexing.html#returning-a-view-versus-a-copy\n\n"
     ]
    }
   ],
   "source": [
    "index_corp = merged_df_sector.loc[merged_df_sector['company_name'] == corp_name].index\n",
    "# Delete these row indexes from dataFrame\n",
    "merged_df_sector.drop(index_corp , inplace=True)"
   ]
  },
  {
   "cell_type": "code",
   "execution_count": 26,
   "metadata": {},
   "outputs": [
    {
     "output_type": "execute_result",
     "data": {
      "text/plain": [
       "    company_id       company_name gross_total_scope1 gross_loc_scope2  \\\n",
       "4            5         Adobe Inc.              11816            56113   \n",
       "13          14         Apple Inc.              50549           862127   \n",
       "26          27      Cisco Systems              41181           651331   \n",
       "52          53          IBM Corp.             117723           987066   \n",
       "53          54        Intel Corp.            1489000          3345000   \n",
       "65          66    Microsoft Corp.             113412          3556553   \n",
       "71          72             Nvidia               2817            74692   \n",
       "73          74             Oracle              16520           560683   \n",
       "79          80      QUALCOMM Inc.              78290           135967   \n",
       "81          82         Salesforce               5747           290938   \n",
       "87          88  Texas Instruments             966579          1054751   \n",
       "\n",
       "   gross_mkt_scope2     Sector1       Revenue  \n",
       "4             43526  Technology  1.117100e+10  \n",
       "13                0  Technology  2.601740e+11  \n",
       "26           187428  Technology  5.190000e+10  \n",
       "52           827369  Technology  7.714000e+10  \n",
       "53          1299000  Technology  7.190000e+10  \n",
       "65           275375  Technology  1.258000e+11  \n",
       "71            65936  Technology  1.172000e+10  \n",
       "73           349022  Technology  3.950000e+10  \n",
       "79           114060  Technology  2.427000e+10  \n",
       "81           134760  Technology  1.328000e+10  \n",
       "87            13430  Technology  1.431800e+10  "
      ],
      "text/html": "<div>\n<style scoped>\n    .dataframe tbody tr th:only-of-type {\n        vertical-align: middle;\n    }\n\n    .dataframe tbody tr th {\n        vertical-align: top;\n    }\n\n    .dataframe thead th {\n        text-align: right;\n    }\n</style>\n<table border=\"1\" class=\"dataframe\">\n  <thead>\n    <tr style=\"text-align: right;\">\n      <th></th>\n      <th>company_id</th>\n      <th>company_name</th>\n      <th>gross_total_scope1</th>\n      <th>gross_loc_scope2</th>\n      <th>gross_mkt_scope2</th>\n      <th>Sector1</th>\n      <th>Revenue</th>\n    </tr>\n  </thead>\n  <tbody>\n    <tr>\n      <th>4</th>\n      <td>5</td>\n      <td>Adobe Inc.</td>\n      <td>11816</td>\n      <td>56113</td>\n      <td>43526</td>\n      <td>Technology</td>\n      <td>1.117100e+10</td>\n    </tr>\n    <tr>\n      <th>13</th>\n      <td>14</td>\n      <td>Apple Inc.</td>\n      <td>50549</td>\n      <td>862127</td>\n      <td>0</td>\n      <td>Technology</td>\n      <td>2.601740e+11</td>\n    </tr>\n    <tr>\n      <th>26</th>\n      <td>27</td>\n      <td>Cisco Systems</td>\n      <td>41181</td>\n      <td>651331</td>\n      <td>187428</td>\n      <td>Technology</td>\n      <td>5.190000e+10</td>\n    </tr>\n    <tr>\n      <th>52</th>\n      <td>53</td>\n      <td>IBM Corp.</td>\n      <td>117723</td>\n      <td>987066</td>\n      <td>827369</td>\n      <td>Technology</td>\n      <td>7.714000e+10</td>\n    </tr>\n    <tr>\n      <th>53</th>\n      <td>54</td>\n      <td>Intel Corp.</td>\n      <td>1489000</td>\n      <td>3345000</td>\n      <td>1299000</td>\n      <td>Technology</td>\n      <td>7.190000e+10</td>\n    </tr>\n    <tr>\n      <th>65</th>\n      <td>66</td>\n      <td>Microsoft Corp.</td>\n      <td>113412</td>\n      <td>3556553</td>\n      <td>275375</td>\n      <td>Technology</td>\n      <td>1.258000e+11</td>\n    </tr>\n    <tr>\n      <th>71</th>\n      <td>72</td>\n      <td>Nvidia</td>\n      <td>2817</td>\n      <td>74692</td>\n      <td>65936</td>\n      <td>Technology</td>\n      <td>1.172000e+10</td>\n    </tr>\n    <tr>\n      <th>73</th>\n      <td>74</td>\n      <td>Oracle</td>\n      <td>16520</td>\n      <td>560683</td>\n      <td>349022</td>\n      <td>Technology</td>\n      <td>3.950000e+10</td>\n    </tr>\n    <tr>\n      <th>79</th>\n      <td>80</td>\n      <td>QUALCOMM Inc.</td>\n      <td>78290</td>\n      <td>135967</td>\n      <td>114060</td>\n      <td>Technology</td>\n      <td>2.427000e+10</td>\n    </tr>\n    <tr>\n      <th>81</th>\n      <td>82</td>\n      <td>Salesforce</td>\n      <td>5747</td>\n      <td>290938</td>\n      <td>134760</td>\n      <td>Technology</td>\n      <td>1.328000e+10</td>\n    </tr>\n    <tr>\n      <th>87</th>\n      <td>88</td>\n      <td>Texas Instruments</td>\n      <td>966579</td>\n      <td>1054751</td>\n      <td>13430</td>\n      <td>Technology</td>\n      <td>1.431800e+10</td>\n    </tr>\n  </tbody>\n</table>\n</div>"
     },
     "metadata": {},
     "execution_count": 26
    }
   ],
   "source": [
    "merged_df_sector"
   ]
  },
  {
   "cell_type": "code",
   "execution_count": 25,
   "metadata": {},
   "outputs": [
    {
     "output_type": "execute_result",
     "data": {
      "text/plain": [
       "Int64Index([3], dtype='int64')"
      ]
     },
     "metadata": {},
     "execution_count": 25
    }
   ],
   "source": [
    "index_corp"
   ]
  },
  {
   "cell_type": "code",
   "execution_count": 30,
   "metadata": {
    "scrolled": true
   },
   "outputs": [],
   "source": [
    "trace1 = go.Scatter(x=x_median_y, \n",
    "                    y=y_median_y, \n",
    "                    showlegend = False, \n",
    "                    name='Median y',\n",
    "                    mode = \"lines\",\n",
    "                    line = dict(color='gray', \n",
    "                                width=2, \n",
    "                                dash='dash'))\n",
    "\n",
    "trace2 = go.Scatter(x=x_median_x, \n",
    "                         y=y_median_x, \n",
    "                         showlegend = False, \n",
    "                         name='Median x', \n",
    "                         mode = \"lines\",\n",
    "                         line = {'color':'gray', \n",
    "                                 'width':2, \n",
    "                                 'dash':'dash'}\n",
    "                        )\n",
    "\n",
    "trace3 = go.Scatter(\n",
    "    x=merged_df_sector['gross_total_scope1'], \n",
    "    y=merged_df_sector['Revenue'],\n",
    "    showlegend = False,\n",
    "    name=\"benchmark\", \n",
    "    text=merged_df_sector['company_name'],\n",
    "    mode = 'markers+text',\n",
    "    line = {'color':'black'}, \n",
    "    marker = {\n",
    "        'color': 'blue',\n",
    "        'opacity': 0.5,\n",
    "        'size':20\n",
    "    },\n",
    "    textposition='top center'\n",
    "    )\n",
    "trace4 = go.Scatter(\n",
    "    x=[corp_x], \n",
    "    y=[corp_y],\n",
    "    showlegend = False,\n",
    "    name=corp_name, \n",
    "    text=corp_name,\n",
    "    mode = 'markers+text',\n",
    "    line = {'color':'black'}, \n",
    "    marker = {\n",
    "        'color': 'red',\n",
    "        'opacity': 1,\n",
    "        'size':20\n",
    "    },\n",
    "    textposition='top center'\n",
    "    )\n",
    "\n",
    "fig = go.Figure(data = [trace1, trace2, trace3, trace4], \n",
    "                layout = layout)\n",
    "                \n",
    "fig.update_layout(\n",
    "    autosize=False,\n",
    "    width=500,\n",
    "    height=500,\n",
    "    margin=dict(\n",
    "        l=50,\n",
    "        r=50,\n",
    "        b=100,\n",
    "        t=100,\n",
    "        pad=4\n",
    "    ),\n",
    "    paper_bgcolor=\"LightSteelBlue\",\n",
    ")\n",
    "config = {'displaylogo': False}\n"
   ]
  },
  {
   "cell_type": "code",
   "execution_count": 31,
   "metadata": {},
   "outputs": [],
   "source": [
    "#num_traces_no_markers = 2\n",
    "#indexes = list(range(num_traces_no_markers,len(sector_names) + num_traces_no_markers - 1))\n"
   ]
  },
  {
   "cell_type": "code",
   "execution_count": 32,
   "metadata": {},
   "outputs": [
    {
     "output_type": "display_data",
     "data": {
      "application/vnd.plotly.v1+json": {
       "config": {
        "displaylogo": false,
        "linkText": "Export to plot.ly",
        "plotlyServerURL": "https://plot.ly",
        "showLink": false
       },
       "data": [
        {
         "line": {
          "color": "gray",
          "dash": "dash",
          "width": 2
         },
         "mode": "lines",
         "name": "Median y",
         "showlegend": false,
         "type": "scatter",
         "x": [
          45865,
          45865
         ],
         "y": [
          11171000000,
          260174000000
         ]
        },
        {
         "line": {
          "color": "gray",
          "dash": "dash",
          "width": 2
         },
         "mode": "lines",
         "name": "Median x",
         "showlegend": false,
         "type": "scatter",
         "x": [
          2817,
          1489000
         ],
         "y": [
          41350000000,
          41350000000
         ]
        },
        {
         "line": {
          "color": "black"
         },
         "marker": {
          "color": "blue",
          "opacity": 0.5,
          "size": 20
         },
         "mode": "markers+text",
         "name": "benchmark",
         "showlegend": false,
         "text": [
          "Adobe Inc.",
          "Apple Inc.",
          "Cisco Systems",
          "IBM Corp.",
          "Intel Corp.",
          "Microsoft Corp.",
          "Nvidia",
          "Oracle",
          "QUALCOMM Inc.",
          "Salesforce",
          "Texas Instruments"
         ],
         "textposition": "top center",
         "type": "scatter",
         "x": [
          11816,
          50549,
          41181,
          117723,
          1489000,
          113412,
          2817,
          16520,
          78290,
          5747,
          966579
         ],
         "y": [
          11171000000,
          260174000000,
          51900000000,
          77140000000,
          71900000000,
          125800000000,
          11720000000,
          39500000000,
          24270000000,
          13280000000,
          14318000000
         ]
        },
        {
         "line": {
          "color": "black"
         },
         "marker": {
          "color": "red",
          "opacity": 1,
          "size": 20
         },
         "mode": "markers+text",
         "name": "Accenture",
         "showlegend": false,
         "text": "Accenture",
         "textposition": "top center",
         "type": "scatter",
         "x": [
          18923
         ],
         "y": [
          43200000000
         ]
        }
       ],
       "layout": {
        "autosize": false,
        "height": 500,
        "margin": {
         "b": 100,
         "l": 50,
         "pad": 4,
         "r": 50,
         "t": 100
        },
        "paper_bgcolor": "LightSteelBlue",
        "plot_bgcolor": "antiquewhite",
        "template": {
         "data": {
          "bar": [
           {
            "error_x": {
             "color": "#2a3f5f"
            },
            "error_y": {
             "color": "#2a3f5f"
            },
            "marker": {
             "line": {
              "color": "#E5ECF6",
              "width": 0.5
             }
            },
            "type": "bar"
           }
          ],
          "barpolar": [
           {
            "marker": {
             "line": {
              "color": "#E5ECF6",
              "width": 0.5
             }
            },
            "type": "barpolar"
           }
          ],
          "carpet": [
           {
            "aaxis": {
             "endlinecolor": "#2a3f5f",
             "gridcolor": "white",
             "linecolor": "white",
             "minorgridcolor": "white",
             "startlinecolor": "#2a3f5f"
            },
            "baxis": {
             "endlinecolor": "#2a3f5f",
             "gridcolor": "white",
             "linecolor": "white",
             "minorgridcolor": "white",
             "startlinecolor": "#2a3f5f"
            },
            "type": "carpet"
           }
          ],
          "choropleth": [
           {
            "colorbar": {
             "outlinewidth": 0,
             "ticks": ""
            },
            "type": "choropleth"
           }
          ],
          "contour": [
           {
            "colorbar": {
             "outlinewidth": 0,
             "ticks": ""
            },
            "colorscale": [
             [
              0,
              "#0d0887"
             ],
             [
              0.1111111111111111,
              "#46039f"
             ],
             [
              0.2222222222222222,
              "#7201a8"
             ],
             [
              0.3333333333333333,
              "#9c179e"
             ],
             [
              0.4444444444444444,
              "#bd3786"
             ],
             [
              0.5555555555555556,
              "#d8576b"
             ],
             [
              0.6666666666666666,
              "#ed7953"
             ],
             [
              0.7777777777777778,
              "#fb9f3a"
             ],
             [
              0.8888888888888888,
              "#fdca26"
             ],
             [
              1,
              "#f0f921"
             ]
            ],
            "type": "contour"
           }
          ],
          "contourcarpet": [
           {
            "colorbar": {
             "outlinewidth": 0,
             "ticks": ""
            },
            "type": "contourcarpet"
           }
          ],
          "heatmap": [
           {
            "colorbar": {
             "outlinewidth": 0,
             "ticks": ""
            },
            "colorscale": [
             [
              0,
              "#0d0887"
             ],
             [
              0.1111111111111111,
              "#46039f"
             ],
             [
              0.2222222222222222,
              "#7201a8"
             ],
             [
              0.3333333333333333,
              "#9c179e"
             ],
             [
              0.4444444444444444,
              "#bd3786"
             ],
             [
              0.5555555555555556,
              "#d8576b"
             ],
             [
              0.6666666666666666,
              "#ed7953"
             ],
             [
              0.7777777777777778,
              "#fb9f3a"
             ],
             [
              0.8888888888888888,
              "#fdca26"
             ],
             [
              1,
              "#f0f921"
             ]
            ],
            "type": "heatmap"
           }
          ],
          "heatmapgl": [
           {
            "colorbar": {
             "outlinewidth": 0,
             "ticks": ""
            },
            "colorscale": [
             [
              0,
              "#0d0887"
             ],
             [
              0.1111111111111111,
              "#46039f"
             ],
             [
              0.2222222222222222,
              "#7201a8"
             ],
             [
              0.3333333333333333,
              "#9c179e"
             ],
             [
              0.4444444444444444,
              "#bd3786"
             ],
             [
              0.5555555555555556,
              "#d8576b"
             ],
             [
              0.6666666666666666,
              "#ed7953"
             ],
             [
              0.7777777777777778,
              "#fb9f3a"
             ],
             [
              0.8888888888888888,
              "#fdca26"
             ],
             [
              1,
              "#f0f921"
             ]
            ],
            "type": "heatmapgl"
           }
          ],
          "histogram": [
           {
            "marker": {
             "colorbar": {
              "outlinewidth": 0,
              "ticks": ""
             }
            },
            "type": "histogram"
           }
          ],
          "histogram2d": [
           {
            "colorbar": {
             "outlinewidth": 0,
             "ticks": ""
            },
            "colorscale": [
             [
              0,
              "#0d0887"
             ],
             [
              0.1111111111111111,
              "#46039f"
             ],
             [
              0.2222222222222222,
              "#7201a8"
             ],
             [
              0.3333333333333333,
              "#9c179e"
             ],
             [
              0.4444444444444444,
              "#bd3786"
             ],
             [
              0.5555555555555556,
              "#d8576b"
             ],
             [
              0.6666666666666666,
              "#ed7953"
             ],
             [
              0.7777777777777778,
              "#fb9f3a"
             ],
             [
              0.8888888888888888,
              "#fdca26"
             ],
             [
              1,
              "#f0f921"
             ]
            ],
            "type": "histogram2d"
           }
          ],
          "histogram2dcontour": [
           {
            "colorbar": {
             "outlinewidth": 0,
             "ticks": ""
            },
            "colorscale": [
             [
              0,
              "#0d0887"
             ],
             [
              0.1111111111111111,
              "#46039f"
             ],
             [
              0.2222222222222222,
              "#7201a8"
             ],
             [
              0.3333333333333333,
              "#9c179e"
             ],
             [
              0.4444444444444444,
              "#bd3786"
             ],
             [
              0.5555555555555556,
              "#d8576b"
             ],
             [
              0.6666666666666666,
              "#ed7953"
             ],
             [
              0.7777777777777778,
              "#fb9f3a"
             ],
             [
              0.8888888888888888,
              "#fdca26"
             ],
             [
              1,
              "#f0f921"
             ]
            ],
            "type": "histogram2dcontour"
           }
          ],
          "mesh3d": [
           {
            "colorbar": {
             "outlinewidth": 0,
             "ticks": ""
            },
            "type": "mesh3d"
           }
          ],
          "parcoords": [
           {
            "line": {
             "colorbar": {
              "outlinewidth": 0,
              "ticks": ""
             }
            },
            "type": "parcoords"
           }
          ],
          "pie": [
           {
            "automargin": true,
            "type": "pie"
           }
          ],
          "scatter": [
           {
            "marker": {
             "colorbar": {
              "outlinewidth": 0,
              "ticks": ""
             }
            },
            "type": "scatter"
           }
          ],
          "scatter3d": [
           {
            "line": {
             "colorbar": {
              "outlinewidth": 0,
              "ticks": ""
             }
            },
            "marker": {
             "colorbar": {
              "outlinewidth": 0,
              "ticks": ""
             }
            },
            "type": "scatter3d"
           }
          ],
          "scattercarpet": [
           {
            "marker": {
             "colorbar": {
              "outlinewidth": 0,
              "ticks": ""
             }
            },
            "type": "scattercarpet"
           }
          ],
          "scattergeo": [
           {
            "marker": {
             "colorbar": {
              "outlinewidth": 0,
              "ticks": ""
             }
            },
            "type": "scattergeo"
           }
          ],
          "scattergl": [
           {
            "marker": {
             "colorbar": {
              "outlinewidth": 0,
              "ticks": ""
             }
            },
            "type": "scattergl"
           }
          ],
          "scattermapbox": [
           {
            "marker": {
             "colorbar": {
              "outlinewidth": 0,
              "ticks": ""
             }
            },
            "type": "scattermapbox"
           }
          ],
          "scatterpolar": [
           {
            "marker": {
             "colorbar": {
              "outlinewidth": 0,
              "ticks": ""
             }
            },
            "type": "scatterpolar"
           }
          ],
          "scatterpolargl": [
           {
            "marker": {
             "colorbar": {
              "outlinewidth": 0,
              "ticks": ""
             }
            },
            "type": "scatterpolargl"
           }
          ],
          "scatterternary": [
           {
            "marker": {
             "colorbar": {
              "outlinewidth": 0,
              "ticks": ""
             }
            },
            "type": "scatterternary"
           }
          ],
          "surface": [
           {
            "colorbar": {
             "outlinewidth": 0,
             "ticks": ""
            },
            "colorscale": [
             [
              0,
              "#0d0887"
             ],
             [
              0.1111111111111111,
              "#46039f"
             ],
             [
              0.2222222222222222,
              "#7201a8"
             ],
             [
              0.3333333333333333,
              "#9c179e"
             ],
             [
              0.4444444444444444,
              "#bd3786"
             ],
             [
              0.5555555555555556,
              "#d8576b"
             ],
             [
              0.6666666666666666,
              "#ed7953"
             ],
             [
              0.7777777777777778,
              "#fb9f3a"
             ],
             [
              0.8888888888888888,
              "#fdca26"
             ],
             [
              1,
              "#f0f921"
             ]
            ],
            "type": "surface"
           }
          ],
          "table": [
           {
            "cells": {
             "fill": {
              "color": "#EBF0F8"
             },
             "line": {
              "color": "white"
             }
            },
            "header": {
             "fill": {
              "color": "#C8D4E3"
             },
             "line": {
              "color": "white"
             }
            },
            "type": "table"
           }
          ]
         },
         "layout": {
          "annotationdefaults": {
           "arrowcolor": "#2a3f5f",
           "arrowhead": 0,
           "arrowwidth": 1
          },
          "autotypenumbers": "strict",
          "coloraxis": {
           "colorbar": {
            "outlinewidth": 0,
            "ticks": ""
           }
          },
          "colorscale": {
           "diverging": [
            [
             0,
             "#8e0152"
            ],
            [
             0.1,
             "#c51b7d"
            ],
            [
             0.2,
             "#de77ae"
            ],
            [
             0.3,
             "#f1b6da"
            ],
            [
             0.4,
             "#fde0ef"
            ],
            [
             0.5,
             "#f7f7f7"
            ],
            [
             0.6,
             "#e6f5d0"
            ],
            [
             0.7,
             "#b8e186"
            ],
            [
             0.8,
             "#7fbc41"
            ],
            [
             0.9,
             "#4d9221"
            ],
            [
             1,
             "#276419"
            ]
           ],
           "sequential": [
            [
             0,
             "#0d0887"
            ],
            [
             0.1111111111111111,
             "#46039f"
            ],
            [
             0.2222222222222222,
             "#7201a8"
            ],
            [
             0.3333333333333333,
             "#9c179e"
            ],
            [
             0.4444444444444444,
             "#bd3786"
            ],
            [
             0.5555555555555556,
             "#d8576b"
            ],
            [
             0.6666666666666666,
             "#ed7953"
            ],
            [
             0.7777777777777778,
             "#fb9f3a"
            ],
            [
             0.8888888888888888,
             "#fdca26"
            ],
            [
             1,
             "#f0f921"
            ]
           ],
           "sequentialminus": [
            [
             0,
             "#0d0887"
            ],
            [
             0.1111111111111111,
             "#46039f"
            ],
            [
             0.2222222222222222,
             "#7201a8"
            ],
            [
             0.3333333333333333,
             "#9c179e"
            ],
            [
             0.4444444444444444,
             "#bd3786"
            ],
            [
             0.5555555555555556,
             "#d8576b"
            ],
            [
             0.6666666666666666,
             "#ed7953"
            ],
            [
             0.7777777777777778,
             "#fb9f3a"
            ],
            [
             0.8888888888888888,
             "#fdca26"
            ],
            [
             1,
             "#f0f921"
            ]
           ]
          },
          "colorway": [
           "#636efa",
           "#EF553B",
           "#00cc96",
           "#ab63fa",
           "#FFA15A",
           "#19d3f3",
           "#FF6692",
           "#B6E880",
           "#FF97FF",
           "#FECB52"
          ],
          "font": {
           "color": "#2a3f5f"
          },
          "geo": {
           "bgcolor": "white",
           "lakecolor": "white",
           "landcolor": "#E5ECF6",
           "showlakes": true,
           "showland": true,
           "subunitcolor": "white"
          },
          "hoverlabel": {
           "align": "left"
          },
          "hovermode": "closest",
          "mapbox": {
           "style": "light"
          },
          "paper_bgcolor": "white",
          "plot_bgcolor": "#E5ECF6",
          "polar": {
           "angularaxis": {
            "gridcolor": "white",
            "linecolor": "white",
            "ticks": ""
           },
           "bgcolor": "#E5ECF6",
           "radialaxis": {
            "gridcolor": "white",
            "linecolor": "white",
            "ticks": ""
           }
          },
          "scene": {
           "xaxis": {
            "backgroundcolor": "#E5ECF6",
            "gridcolor": "white",
            "gridwidth": 2,
            "linecolor": "white",
            "showbackground": true,
            "ticks": "",
            "zerolinecolor": "white"
           },
           "yaxis": {
            "backgroundcolor": "#E5ECF6",
            "gridcolor": "white",
            "gridwidth": 2,
            "linecolor": "white",
            "showbackground": true,
            "ticks": "",
            "zerolinecolor": "white"
           },
           "zaxis": {
            "backgroundcolor": "#E5ECF6",
            "gridcolor": "white",
            "gridwidth": 2,
            "linecolor": "white",
            "showbackground": true,
            "ticks": "",
            "zerolinecolor": "white"
           }
          },
          "shapedefaults": {
           "line": {
            "color": "#2a3f5f"
           }
          },
          "ternary": {
           "aaxis": {
            "gridcolor": "white",
            "linecolor": "white",
            "ticks": ""
           },
           "baxis": {
            "gridcolor": "white",
            "linecolor": "white",
            "ticks": ""
           },
           "bgcolor": "#E5ECF6",
           "caxis": {
            "gridcolor": "white",
            "linecolor": "white",
            "ticks": ""
           }
          },
          "title": {
           "x": 0.05
          },
          "xaxis": {
           "automargin": true,
           "gridcolor": "white",
           "linecolor": "white",
           "ticks": "",
           "title": {
            "standoff": 15
           },
           "zerolinecolor": "white",
           "zerolinewidth": 2
          },
          "yaxis": {
           "automargin": true,
           "gridcolor": "white",
           "linecolor": "white",
           "ticks": "",
           "title": {
            "standoff": 15
           },
           "zerolinecolor": "white",
           "zerolinewidth": 2
          }
         }
        },
        "title": {
         "font": {
          "family": "Arial",
          "size": 25
         },
         "text": "Sector:TechnologyGHG Emissions Intensity",
         "x": 0.5
        },
        "width": 500,
        "xaxis": {
         "autorange": "reversed",
         "type": "log"
        },
        "yaxis": {
         "type": "log"
        }
       }
      },
      "text/html": "<div>                            <div id=\"74751db4-8daa-40ec-9f0c-f65b5922845b\" class=\"plotly-graph-div\" style=\"height:500px; width:500px;\"></div>            <script type=\"text/javascript\">                require([\"plotly\"], function(Plotly) {                    window.PLOTLYENV=window.PLOTLYENV || {};                                    if (document.getElementById(\"74751db4-8daa-40ec-9f0c-f65b5922845b\")) {                    Plotly.newPlot(                        \"74751db4-8daa-40ec-9f0c-f65b5922845b\",                        [{\"line\": {\"color\": \"gray\", \"dash\": \"dash\", \"width\": 2}, \"mode\": \"lines\", \"name\": \"Median y\", \"showlegend\": false, \"type\": \"scatter\", \"x\": [45865.0, 45865.0], \"y\": [11171000000.0, 260174000000.0]}, {\"line\": {\"color\": \"gray\", \"dash\": \"dash\", \"width\": 2}, \"mode\": \"lines\", \"name\": \"Median x\", \"showlegend\": false, \"type\": \"scatter\", \"x\": [2817, 1489000], \"y\": [41350000000.0, 41350000000.0]}, {\"line\": {\"color\": \"black\"}, \"marker\": {\"color\": \"blue\", \"opacity\": 0.5, \"size\": 20}, \"mode\": \"markers+text\", \"name\": \"benchmark\", \"showlegend\": false, \"text\": [\"Adobe Inc.\", \"Apple Inc.\", \"Cisco Systems\", \"IBM Corp.\", \"Intel Corp.\", \"Microsoft Corp.\", \"Nvidia\", \"Oracle\", \"QUALCOMM Inc.\", \"Salesforce\", \"Texas Instruments\"], \"textposition\": \"top center\", \"type\": \"scatter\", \"x\": [11816, 50549, 41181, 117723, 1489000, 113412, 2817, 16520, 78290, 5747, 966579], \"y\": [11171000000.0, 260174000000.0, 51900000000.0, 77140000000.0, 71900000000.0, 125800000000.0, 11720000000.0, 39500000000.0, 24270000000.0, 13280000000.0, 14318000000.0]}, {\"line\": {\"color\": \"black\"}, \"marker\": {\"color\": \"red\", \"opacity\": 1, \"size\": 20}, \"mode\": \"markers+text\", \"name\": \"Accenture\", \"showlegend\": false, \"text\": \"Accenture\", \"textposition\": \"top center\", \"type\": \"scatter\", \"x\": [18923], \"y\": [43200000000.0]}],                        {\"autosize\": false, \"height\": 500, \"margin\": {\"b\": 100, \"l\": 50, \"pad\": 4, \"r\": 50, \"t\": 100}, \"paper_bgcolor\": \"LightSteelBlue\", \"plot_bgcolor\": \"antiquewhite\", \"template\": {\"data\": {\"bar\": [{\"error_x\": {\"color\": \"#2a3f5f\"}, \"error_y\": {\"color\": \"#2a3f5f\"}, \"marker\": {\"line\": {\"color\": \"#E5ECF6\", \"width\": 0.5}}, \"type\": \"bar\"}], \"barpolar\": [{\"marker\": {\"line\": {\"color\": \"#E5ECF6\", \"width\": 0.5}}, \"type\": \"barpolar\"}], \"carpet\": [{\"aaxis\": {\"endlinecolor\": \"#2a3f5f\", \"gridcolor\": \"white\", \"linecolor\": \"white\", \"minorgridcolor\": \"white\", \"startlinecolor\": \"#2a3f5f\"}, \"baxis\": {\"endlinecolor\": \"#2a3f5f\", \"gridcolor\": \"white\", \"linecolor\": \"white\", \"minorgridcolor\": \"white\", \"startlinecolor\": \"#2a3f5f\"}, \"type\": \"carpet\"}], \"choropleth\": [{\"colorbar\": {\"outlinewidth\": 0, \"ticks\": \"\"}, \"type\": \"choropleth\"}], \"contour\": [{\"colorbar\": {\"outlinewidth\": 0, \"ticks\": \"\"}, \"colorscale\": [[0.0, \"#0d0887\"], [0.1111111111111111, \"#46039f\"], [0.2222222222222222, \"#7201a8\"], [0.3333333333333333, \"#9c179e\"], [0.4444444444444444, \"#bd3786\"], [0.5555555555555556, \"#d8576b\"], [0.6666666666666666, \"#ed7953\"], [0.7777777777777778, \"#fb9f3a\"], [0.8888888888888888, \"#fdca26\"], [1.0, \"#f0f921\"]], \"type\": \"contour\"}], \"contourcarpet\": [{\"colorbar\": {\"outlinewidth\": 0, \"ticks\": \"\"}, \"type\": \"contourcarpet\"}], \"heatmap\": [{\"colorbar\": {\"outlinewidth\": 0, \"ticks\": \"\"}, \"colorscale\": [[0.0, \"#0d0887\"], [0.1111111111111111, \"#46039f\"], [0.2222222222222222, \"#7201a8\"], [0.3333333333333333, \"#9c179e\"], [0.4444444444444444, \"#bd3786\"], [0.5555555555555556, \"#d8576b\"], [0.6666666666666666, \"#ed7953\"], [0.7777777777777778, \"#fb9f3a\"], [0.8888888888888888, \"#fdca26\"], [1.0, \"#f0f921\"]], \"type\": \"heatmap\"}], \"heatmapgl\": [{\"colorbar\": {\"outlinewidth\": 0, \"ticks\": \"\"}, \"colorscale\": [[0.0, \"#0d0887\"], [0.1111111111111111, \"#46039f\"], [0.2222222222222222, \"#7201a8\"], [0.3333333333333333, \"#9c179e\"], [0.4444444444444444, \"#bd3786\"], [0.5555555555555556, \"#d8576b\"], [0.6666666666666666, \"#ed7953\"], [0.7777777777777778, \"#fb9f3a\"], [0.8888888888888888, \"#fdca26\"], [1.0, \"#f0f921\"]], \"type\": \"heatmapgl\"}], \"histogram\": [{\"marker\": {\"colorbar\": {\"outlinewidth\": 0, \"ticks\": \"\"}}, \"type\": \"histogram\"}], \"histogram2d\": [{\"colorbar\": {\"outlinewidth\": 0, \"ticks\": \"\"}, \"colorscale\": [[0.0, \"#0d0887\"], [0.1111111111111111, \"#46039f\"], [0.2222222222222222, \"#7201a8\"], [0.3333333333333333, \"#9c179e\"], [0.4444444444444444, \"#bd3786\"], [0.5555555555555556, \"#d8576b\"], [0.6666666666666666, \"#ed7953\"], [0.7777777777777778, \"#fb9f3a\"], [0.8888888888888888, \"#fdca26\"], [1.0, \"#f0f921\"]], \"type\": \"histogram2d\"}], \"histogram2dcontour\": [{\"colorbar\": {\"outlinewidth\": 0, \"ticks\": \"\"}, \"colorscale\": [[0.0, \"#0d0887\"], [0.1111111111111111, \"#46039f\"], [0.2222222222222222, \"#7201a8\"], [0.3333333333333333, \"#9c179e\"], [0.4444444444444444, \"#bd3786\"], [0.5555555555555556, \"#d8576b\"], [0.6666666666666666, \"#ed7953\"], [0.7777777777777778, \"#fb9f3a\"], [0.8888888888888888, \"#fdca26\"], [1.0, \"#f0f921\"]], \"type\": \"histogram2dcontour\"}], \"mesh3d\": [{\"colorbar\": {\"outlinewidth\": 0, \"ticks\": \"\"}, \"type\": \"mesh3d\"}], \"parcoords\": [{\"line\": {\"colorbar\": {\"outlinewidth\": 0, \"ticks\": \"\"}}, \"type\": \"parcoords\"}], \"pie\": [{\"automargin\": true, \"type\": \"pie\"}], \"scatter\": [{\"marker\": {\"colorbar\": {\"outlinewidth\": 0, \"ticks\": \"\"}}, \"type\": \"scatter\"}], \"scatter3d\": [{\"line\": {\"colorbar\": {\"outlinewidth\": 0, \"ticks\": \"\"}}, \"marker\": {\"colorbar\": {\"outlinewidth\": 0, \"ticks\": \"\"}}, \"type\": \"scatter3d\"}], \"scattercarpet\": [{\"marker\": {\"colorbar\": {\"outlinewidth\": 0, \"ticks\": \"\"}}, \"type\": \"scattercarpet\"}], \"scattergeo\": [{\"marker\": {\"colorbar\": {\"outlinewidth\": 0, \"ticks\": \"\"}}, \"type\": \"scattergeo\"}], \"scattergl\": [{\"marker\": {\"colorbar\": {\"outlinewidth\": 0, \"ticks\": \"\"}}, \"type\": \"scattergl\"}], \"scattermapbox\": [{\"marker\": {\"colorbar\": {\"outlinewidth\": 0, \"ticks\": \"\"}}, \"type\": \"scattermapbox\"}], \"scatterpolar\": [{\"marker\": {\"colorbar\": {\"outlinewidth\": 0, \"ticks\": \"\"}}, \"type\": \"scatterpolar\"}], \"scatterpolargl\": [{\"marker\": {\"colorbar\": {\"outlinewidth\": 0, \"ticks\": \"\"}}, \"type\": \"scatterpolargl\"}], \"scatterternary\": [{\"marker\": {\"colorbar\": {\"outlinewidth\": 0, \"ticks\": \"\"}}, \"type\": \"scatterternary\"}], \"surface\": [{\"colorbar\": {\"outlinewidth\": 0, \"ticks\": \"\"}, \"colorscale\": [[0.0, \"#0d0887\"], [0.1111111111111111, \"#46039f\"], [0.2222222222222222, \"#7201a8\"], [0.3333333333333333, \"#9c179e\"], [0.4444444444444444, \"#bd3786\"], [0.5555555555555556, \"#d8576b\"], [0.6666666666666666, \"#ed7953\"], [0.7777777777777778, \"#fb9f3a\"], [0.8888888888888888, \"#fdca26\"], [1.0, \"#f0f921\"]], \"type\": \"surface\"}], \"table\": [{\"cells\": {\"fill\": {\"color\": \"#EBF0F8\"}, \"line\": {\"color\": \"white\"}}, \"header\": {\"fill\": {\"color\": \"#C8D4E3\"}, \"line\": {\"color\": \"white\"}}, \"type\": \"table\"}]}, \"layout\": {\"annotationdefaults\": {\"arrowcolor\": \"#2a3f5f\", \"arrowhead\": 0, \"arrowwidth\": 1}, \"autotypenumbers\": \"strict\", \"coloraxis\": {\"colorbar\": {\"outlinewidth\": 0, \"ticks\": \"\"}}, \"colorscale\": {\"diverging\": [[0, \"#8e0152\"], [0.1, \"#c51b7d\"], [0.2, \"#de77ae\"], [0.3, \"#f1b6da\"], [0.4, \"#fde0ef\"], [0.5, \"#f7f7f7\"], [0.6, \"#e6f5d0\"], [0.7, \"#b8e186\"], [0.8, \"#7fbc41\"], [0.9, \"#4d9221\"], [1, \"#276419\"]], \"sequential\": [[0.0, \"#0d0887\"], [0.1111111111111111, \"#46039f\"], [0.2222222222222222, \"#7201a8\"], [0.3333333333333333, \"#9c179e\"], [0.4444444444444444, \"#bd3786\"], [0.5555555555555556, \"#d8576b\"], [0.6666666666666666, \"#ed7953\"], [0.7777777777777778, \"#fb9f3a\"], [0.8888888888888888, \"#fdca26\"], [1.0, \"#f0f921\"]], \"sequentialminus\": [[0.0, \"#0d0887\"], [0.1111111111111111, \"#46039f\"], [0.2222222222222222, \"#7201a8\"], [0.3333333333333333, \"#9c179e\"], [0.4444444444444444, \"#bd3786\"], [0.5555555555555556, \"#d8576b\"], [0.6666666666666666, \"#ed7953\"], [0.7777777777777778, \"#fb9f3a\"], [0.8888888888888888, \"#fdca26\"], [1.0, \"#f0f921\"]]}, \"colorway\": [\"#636efa\", \"#EF553B\", \"#00cc96\", \"#ab63fa\", \"#FFA15A\", \"#19d3f3\", \"#FF6692\", \"#B6E880\", \"#FF97FF\", \"#FECB52\"], \"font\": {\"color\": \"#2a3f5f\"}, \"geo\": {\"bgcolor\": \"white\", \"lakecolor\": \"white\", \"landcolor\": \"#E5ECF6\", \"showlakes\": true, \"showland\": true, \"subunitcolor\": \"white\"}, \"hoverlabel\": {\"align\": \"left\"}, \"hovermode\": \"closest\", \"mapbox\": {\"style\": \"light\"}, \"paper_bgcolor\": \"white\", \"plot_bgcolor\": \"#E5ECF6\", \"polar\": {\"angularaxis\": {\"gridcolor\": \"white\", \"linecolor\": \"white\", \"ticks\": \"\"}, \"bgcolor\": \"#E5ECF6\", \"radialaxis\": {\"gridcolor\": \"white\", \"linecolor\": \"white\", \"ticks\": \"\"}}, \"scene\": {\"xaxis\": {\"backgroundcolor\": \"#E5ECF6\", \"gridcolor\": \"white\", \"gridwidth\": 2, \"linecolor\": \"white\", \"showbackground\": true, \"ticks\": \"\", \"zerolinecolor\": \"white\"}, \"yaxis\": {\"backgroundcolor\": \"#E5ECF6\", \"gridcolor\": \"white\", \"gridwidth\": 2, \"linecolor\": \"white\", \"showbackground\": true, \"ticks\": \"\", \"zerolinecolor\": \"white\"}, \"zaxis\": {\"backgroundcolor\": \"#E5ECF6\", \"gridcolor\": \"white\", \"gridwidth\": 2, \"linecolor\": \"white\", \"showbackground\": true, \"ticks\": \"\", \"zerolinecolor\": \"white\"}}, \"shapedefaults\": {\"line\": {\"color\": \"#2a3f5f\"}}, \"ternary\": {\"aaxis\": {\"gridcolor\": \"white\", \"linecolor\": \"white\", \"ticks\": \"\"}, \"baxis\": {\"gridcolor\": \"white\", \"linecolor\": \"white\", \"ticks\": \"\"}, \"bgcolor\": \"#E5ECF6\", \"caxis\": {\"gridcolor\": \"white\", \"linecolor\": \"white\", \"ticks\": \"\"}}, \"title\": {\"x\": 0.05}, \"xaxis\": {\"automargin\": true, \"gridcolor\": \"white\", \"linecolor\": \"white\", \"ticks\": \"\", \"title\": {\"standoff\": 15}, \"zerolinecolor\": \"white\", \"zerolinewidth\": 2}, \"yaxis\": {\"automargin\": true, \"gridcolor\": \"white\", \"linecolor\": \"white\", \"ticks\": \"\", \"title\": {\"standoff\": 15}, \"zerolinecolor\": \"white\", \"zerolinewidth\": 2}}}, \"title\": {\"font\": {\"family\": \"Arial\", \"size\": 25}, \"text\": \"Sector:TechnologyGHG Emissions Intensity\", \"x\": 0.5}, \"width\": 500, \"xaxis\": {\"autorange\": \"reversed\", \"type\": \"log\"}, \"yaxis\": {\"type\": \"log\"}},                        {\"displaylogo\": false, \"responsive\": true}                    ).then(function(){\n                            \nvar gd = document.getElementById('74751db4-8daa-40ec-9f0c-f65b5922845b');\nvar x = new MutationObserver(function (mutations, observer) {{\n        var display = window.getComputedStyle(gd).display;\n        if (!display || display === 'none') {{\n            console.log([gd, 'removed!']);\n            Plotly.purge(gd);\n            observer.disconnect();\n        }}\n}});\n\n// Listen for the removal of the full notebook cells\nvar notebookContainer = gd.closest('#notebook-container');\nif (notebookContainer) {{\n    x.observe(notebookContainer, {childList: true});\n}}\n\n// Listen for the clearing of the current output cell\nvar outputEl = gd.closest('.output');\nif (outputEl) {{\n    x.observe(outputEl, {childList: true});\n}}\n\n                        })                };                });            </script>        </div>"
     },
     "metadata": {}
    }
   ],
   "source": [
    "# Add dropdown\n",
    "\"\"\"\n",
    "fig.update_layout(\n",
    "    updatemenus=[\n",
    "        dict(\n",
    "            type = \"buttons\",\n",
    "            direction = \"left\",\n",
    "            buttons=list([\n",
    "                dict(\n",
    "                    args=[\"mode\", \"markers\", indexes],\n",
    "                    label=\"Hide names\",\n",
    "                    method=\"restyle\"\n",
    "                ),\n",
    "                dict(\n",
    "                    args=[\"mode\", \"markers+text\", indexes],\n",
    "                    label=\"Show names\",\n",
    "                    method=\"restyle\"\n",
    "                )\n",
    "            ]),\n",
    "            pad={\"r\": 10, \"t\": 10},\n",
    "            showactive=True,\n",
    "            x=1.0,\n",
    "            xanchor=\"left\",\n",
    "            y=1.25,\n",
    "            yanchor=\"top\"\n",
    "        ),\n",
    "    ]\n",
    ")\n",
    "\"\"\"\n",
    "offline.iplot(fig, config = config)\n"
   ]
  },
  {
   "cell_type": "code",
   "execution_count": 22,
   "metadata": {},
   "outputs": [
    {
     "output_type": "execute_result",
     "data": {
      "text/plain": [
       "'../django_project/static/django_project/images/html_exports/bubble_intensity_3M.html'"
      ]
     },
     "metadata": {},
     "execution_count": 22
    }
   ],
   "source": [
    "name_fig = \"bubble_intensity_{}\".format(corp_name)\n",
    "fig.write_image(\"../django_project/static/django_project/images/charts/{}.svg\".format(name_fig), scale=3, height = 300)\n",
    "plot(fig, config=config, filename = '../django_project/static/django_project/images/html_exports/{}.html'.format(name_fig), auto_open=False)"
   ]
  },
  {
   "cell_type": "code",
   "execution_count": null,
   "metadata": {},
   "outputs": [],
   "source": []
  },
  {
   "cell_type": "code",
   "execution_count": null,
   "metadata": {},
   "outputs": [],
   "source": []
  },
  {
   "cell_type": "code",
   "execution_count": null,
   "metadata": {},
   "outputs": [],
   "source": []
  },
  {
   "cell_type": "code",
   "execution_count": null,
   "metadata": {},
   "outputs": [],
   "source": []
  }
 ],
 "metadata": {
  "kernelspec": {
   "name": "python3",
   "display_name": "Python 3.6.13 64-bit ('cnext': conda)"
  },
  "language_info": {
   "codemirror_mode": {
    "name": "ipython",
    "version": 3
   },
   "file_extension": ".py",
   "mimetype": "text/x-python",
   "name": "python",
   "nbconvert_exporter": "python",
   "pygments_lexer": "ipython3",
   "version": "3.6.13"
  },
  "interpreter": {
   "hash": "2763097f05fa0e79020cf579cd98f61c1a12f2eb3c0b21888a5c169647c48c37"
  }
 },
 "nbformat": 4,
 "nbformat_minor": 4
}