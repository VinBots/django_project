{
 "cells": [
  {
   "cell_type": "markdown",
   "metadata": {},
   "source": [
    "# Chart generations Notebook"
   ]
  },
  {
   "cell_type": "markdown",
   "metadata": {},
   "source": [
    "## Import Libraries"
   ]
  },
  {
   "cell_type": "code",
   "execution_count": 1,
   "metadata": {},
   "outputs": [],
   "source": [
    "import pandas as pd\n",
    "import plotly.graph_objs as go\n",
    "import plotly.offline as offline\n",
    "import os\n",
    "import numpy as np\n",
    "from plotly.offline import plot"
   ]
  },
  {
   "cell_type": "code",
   "execution_count": 2,
   "metadata": {},
   "outputs": [
    {
     "data": {
      "text/html": [
       "        <script type=\"text/javascript\">\n",
       "        window.PlotlyConfig = {MathJaxConfig: 'local'};\n",
       "        if (window.MathJax) {MathJax.Hub.Config({SVG: {font: \"STIX-Web\"}});}\n",
       "        if (typeof require !== 'undefined') {\n",
       "        require.undef(\"plotly\");\n",
       "        requirejs.config({\n",
       "            paths: {\n",
       "                'plotly': ['https://cdn.plot.ly/plotly-latest.min']\n",
       "            }\n",
       "        });\n",
       "        require(['plotly'], function(Plotly) {\n",
       "            window._Plotly = Plotly;\n",
       "        });\n",
       "        }\n",
       "        </script>\n",
       "        "
      ]
     },
     "metadata": {},
     "output_type": "display_data"
    }
   ],
   "source": [
    "offline.init_notebook_mode(connected=True)"
   ]
  },
  {
   "cell_type": "markdown",
   "metadata": {},
   "source": [
    "## Bubble Chart for Emissions Intensity\n"
   ]
  },
  {
   "cell_type": "code",
   "execution_count": 3,
   "metadata": {},
   "outputs": [],
   "source": [
    "corp_name = \"Alphabet Inc. / Google\""
   ]
  },
  {
   "cell_type": "markdown",
   "metadata": {},
   "source": [
    "# Step 1: Set up the data sources"
   ]
  },
  {
   "cell_type": "code",
   "execution_count": 4,
   "metadata": {},
   "outputs": [],
   "source": [
    "XLSX_PATH = os.path.join ('../django_project/static/django_project', 'data', 'sp100_data.xlsx')\n",
    "COLS_TO_USE = {\n",
    "    'companies':['company_id', 'company_name'],\n",
    "    'GHG19':['company_id', 'gross_total_scope1', 'gross_loc_scope2', 'gross_mkt_scope2'],\n",
    "    'grouping':['company_id', 'Sector1'],\n",
    "    'financials':['company_id', 'Revenue']\n",
    "}\n"
   ]
  },
  {
   "cell_type": "markdown",
   "metadata": {},
   "source": [
    "# Step 2: Merge the tables"
   ]
  },
  {
   "cell_type": "code",
   "execution_count": 5,
   "metadata": {},
   "outputs": [],
   "source": [
    "all_df = []\n",
    "for sheetname, cols in COLS_TO_USE.items():\n",
    "    all_df.append(pd.read_excel(\n",
    "        XLSX_PATH, \n",
    "        sheet_name = sheetname,\n",
    "        engine = 'openpyxl', \n",
    "        usecols = cols\n",
    "        ))\n",
    "#all_data.to_pickle (os.path.join ('..','data_frame.pickle'))"
   ]
  },
  {
   "cell_type": "code",
   "execution_count": 6,
   "metadata": {},
   "outputs": [],
   "source": [
    "merged_df = all_df[0]\n",
    "for i in range(len(COLS_TO_USE) - 1):\n",
    "    merged_df = pd.merge(\n",
    "        left = merged_df,\n",
    "        right = all_df[i+1],\n",
    "        how=\"left\",\n",
    "        on=\"company_id\"\n",
    "    )"
   ]
  },
  {
   "cell_type": "code",
   "execution_count": 7,
   "metadata": {},
   "outputs": [
    {
     "data": {
      "text/html": [
       "<div>\n",
       "<style scoped>\n",
       "    .dataframe tbody tr th:only-of-type {\n",
       "        vertical-align: middle;\n",
       "    }\n",
       "\n",
       "    .dataframe tbody tr th {\n",
       "        vertical-align: top;\n",
       "    }\n",
       "\n",
       "    .dataframe thead th {\n",
       "        text-align: right;\n",
       "    }\n",
       "</style>\n",
       "<table border=\"1\" class=\"dataframe\">\n",
       "  <thead>\n",
       "    <tr style=\"text-align: right;\">\n",
       "      <th></th>\n",
       "      <th>company_id</th>\n",
       "      <th>company_name</th>\n",
       "      <th>gross_total_scope1</th>\n",
       "      <th>gross_loc_scope2</th>\n",
       "      <th>gross_mkt_scope2</th>\n",
       "      <th>Sector1</th>\n",
       "      <th>Revenue</th>\n",
       "    </tr>\n",
       "  </thead>\n",
       "  <tbody>\n",
       "    <tr>\n",
       "      <th>0</th>\n",
       "      <td>1</td>\n",
       "      <td>3M</td>\n",
       "      <td>4050000</td>\n",
       "      <td>1780000</td>\n",
       "      <td>1320000</td>\n",
       "      <td>Industrials</td>\n",
       "      <td>3.213600e+10</td>\n",
       "    </tr>\n",
       "    <tr>\n",
       "      <th>1</th>\n",
       "      <td>2</td>\n",
       "      <td>Abbott Laboratories</td>\n",
       "      <td>533000</td>\n",
       "      <td>518000</td>\n",
       "      <td>439000</td>\n",
       "      <td>Healthcare</td>\n",
       "      <td>3.190400e+10</td>\n",
       "    </tr>\n",
       "    <tr>\n",
       "      <th>2</th>\n",
       "      <td>3</td>\n",
       "      <td>AbbVie Inc.</td>\n",
       "      <td>314421</td>\n",
       "      <td>308204</td>\n",
       "      <td>249777</td>\n",
       "      <td>Healthcare</td>\n",
       "      <td>3.326600e+10</td>\n",
       "    </tr>\n",
       "    <tr>\n",
       "      <th>3</th>\n",
       "      <td>4</td>\n",
       "      <td>Accenture</td>\n",
       "      <td>18923</td>\n",
       "      <td>281489</td>\n",
       "      <td>214680</td>\n",
       "      <td>Technology</td>\n",
       "      <td>4.320000e+10</td>\n",
       "    </tr>\n",
       "    <tr>\n",
       "      <th>4</th>\n",
       "      <td>5</td>\n",
       "      <td>Adobe Inc.</td>\n",
       "      <td>11816</td>\n",
       "      <td>56113</td>\n",
       "      <td>43526</td>\n",
       "      <td>Technology</td>\n",
       "      <td>1.117100e+10</td>\n",
       "    </tr>\n",
       "  </tbody>\n",
       "</table>\n",
       "</div>"
      ],
      "text/plain": [
       "   company_id         company_name gross_total_scope1 gross_loc_scope2  \\\n",
       "0           1                   3M            4050000          1780000   \n",
       "1           2  Abbott Laboratories             533000           518000   \n",
       "2           3          AbbVie Inc.             314421           308204   \n",
       "3           4            Accenture              18923           281489   \n",
       "4           5           Adobe Inc.              11816            56113   \n",
       "\n",
       "  gross_mkt_scope2      Sector1       Revenue  \n",
       "0          1320000  Industrials  3.213600e+10  \n",
       "1           439000   Healthcare  3.190400e+10  \n",
       "2           249777   Healthcare  3.326600e+10  \n",
       "3           214680   Technology  4.320000e+10  \n",
       "4            43526   Technology  1.117100e+10  "
      ]
     },
     "execution_count": 7,
     "metadata": {},
     "output_type": "execute_result"
    }
   ],
   "source": [
    "merged_df.head()"
   ]
  },
  {
   "cell_type": "markdown",
   "metadata": {},
   "source": [
    "# Step 3: Filter the sector"
   ]
  },
  {
   "cell_type": "code",
   "execution_count": 8,
   "metadata": {},
   "outputs": [],
   "source": [
    "a =  merged_df[merged_df['company_name']==corp_name]['Sector1']\n",
    "if len(a) > 0:\n",
    "    sector = a.iloc[0]"
   ]
  },
  {
   "cell_type": "code",
   "execution_count": null,
   "metadata": {},
   "outputs": [],
   "source": []
  },
  {
   "cell_type": "code",
   "execution_count": 9,
   "metadata": {},
   "outputs": [],
   "source": [
    "merged_df_sector = merged_df.loc[merged_df['Sector1']==sector]"
   ]
  },
  {
   "cell_type": "markdown",
   "metadata": {},
   "source": [
    "# Calculate GHG Intensity"
   ]
  },
  {
   "cell_type": "code",
   "execution_count": 10,
   "metadata": {},
   "outputs": [
    {
     "name": "stderr",
     "output_type": "stream",
     "text": [
      "C:\\Users\\vince\\AppData\\Roaming\\Python\\Python36\\site-packages\\ipykernel_launcher.py:7: SettingWithCopyWarning:\n",
      "\n",
      "\n",
      "A value is trying to be set on a copy of a slice from a DataFrame.\n",
      "Try using .loc[row_indexer,col_indexer] = value instead\n",
      "\n",
      "See the caveats in the documentation: https://pandas.pydata.org/pandas-docs/stable/user_guide/indexing.html#returning-a-view-versus-a-copy\n",
      "\n"
     ]
    }
   ],
   "source": [
    "conditions = [\n",
    "    (merged_df_sector['gross_loc_scope2'] > 0) & (merged_df_sector['gross_mkt_scope2'] > 0),\n",
    "    (merged_df_sector['gross_loc_scope2'] == 0),\n",
    "    (merged_df_sector['gross_mkt_scope2'] == 0),\n",
    "]\n",
    "values = ['case1', 'case2', 'case3']\n",
    "merged_df_sector['scope2_cases'] = np.select(conditions, values)\n",
    "#merged_df_sector['scope2'] = np.where(merged_df_sector['gross_loc_scope2']>0, True, False)"
   ]
  },
  {
   "cell_type": "code",
   "execution_count": 11,
   "metadata": {},
   "outputs": [
    {
     "name": "stderr",
     "output_type": "stream",
     "text": [
      "C:\\Users\\vince\\AppData\\Roaming\\Python\\Python36\\site-packages\\ipykernel_launcher.py:7: SettingWithCopyWarning:\n",
      "\n",
      "\n",
      "A value is trying to be set on a copy of a slice from a DataFrame.\n",
      "Try using .loc[row_indexer,col_indexer] = value instead\n",
      "\n",
      "See the caveats in the documentation: https://pandas.pydata.org/pandas-docs/stable/user_guide/indexing.html#returning-a-view-versus-a-copy\n",
      "\n"
     ]
    }
   ],
   "source": [
    "conditions = [\n",
    "    (merged_df_sector['scope2_cases'] == 'case1'),\n",
    "    (merged_df_sector['scope2_cases'] == 'case2'),\n",
    "    (merged_df_sector['scope2_cases'] == 'case3')\n",
    "]\n",
    "values = [merged_df_sector[['gross_loc_scope2','gross_mkt_scope2']].min(axis=1), merged_df_sector['gross_mkt_scope2'], merged_df_sector['gross_loc_scope2']]\n",
    "merged_df_sector['scope2_calc'] = np.select(conditions, values)"
   ]
  },
  {
   "cell_type": "code",
   "execution_count": 12,
   "metadata": {},
   "outputs": [
    {
     "data": {
      "text/html": [
       "<div>\n",
       "<style scoped>\n",
       "    .dataframe tbody tr th:only-of-type {\n",
       "        vertical-align: middle;\n",
       "    }\n",
       "\n",
       "    .dataframe tbody tr th {\n",
       "        vertical-align: top;\n",
       "    }\n",
       "\n",
       "    .dataframe thead th {\n",
       "        text-align: right;\n",
       "    }\n",
       "</style>\n",
       "<table border=\"1\" class=\"dataframe\">\n",
       "  <thead>\n",
       "    <tr style=\"text-align: right;\">\n",
       "      <th></th>\n",
       "      <th>company_id</th>\n",
       "      <th>company_name</th>\n",
       "      <th>gross_total_scope1</th>\n",
       "      <th>gross_loc_scope2</th>\n",
       "      <th>gross_mkt_scope2</th>\n",
       "      <th>Sector1</th>\n",
       "      <th>Revenue</th>\n",
       "      <th>scope2_cases</th>\n",
       "      <th>scope2_calc</th>\n",
       "    </tr>\n",
       "  </thead>\n",
       "  <tbody>\n",
       "    <tr>\n",
       "      <th>6</th>\n",
       "      <td>7</td>\n",
       "      <td>Alphabet Inc. / Google</td>\n",
       "      <td>66686</td>\n",
       "      <td>5116949</td>\n",
       "      <td>794267</td>\n",
       "      <td>Communication Services</td>\n",
       "      <td>1.618570e+11</td>\n",
       "      <td>case1</td>\n",
       "      <td>794267</td>\n",
       "    </tr>\n",
       "    <tr>\n",
       "      <th>14</th>\n",
       "      <td>15</td>\n",
       "      <td>AT&amp;T Inc.</td>\n",
       "      <td>990955</td>\n",
       "      <td>6015122</td>\n",
       "      <td>5534088</td>\n",
       "      <td>Communication Services</td>\n",
       "      <td>1.812000e+11</td>\n",
       "      <td>case1</td>\n",
       "      <td>5.53409e+06</td>\n",
       "    </tr>\n",
       "    <tr>\n",
       "      <th>30</th>\n",
       "      <td>31</td>\n",
       "      <td>Comcast</td>\n",
       "      <td>498455</td>\n",
       "      <td>1568717</td>\n",
       "      <td>1496771</td>\n",
       "      <td>Communication Services</td>\n",
       "      <td>1.089420e+11</td>\n",
       "      <td>case1</td>\n",
       "      <td>1.49677e+06</td>\n",
       "    </tr>\n",
       "    <tr>\n",
       "      <th>89</th>\n",
       "      <td>90</td>\n",
       "      <td>The Walt Disney Company</td>\n",
       "      <td>855073</td>\n",
       "      <td>1010307</td>\n",
       "      <td>931544</td>\n",
       "      <td>Communication Services</td>\n",
       "      <td>6.957000e+10</td>\n",
       "      <td>case1</td>\n",
       "      <td>931544</td>\n",
       "    </tr>\n",
       "    <tr>\n",
       "      <th>95</th>\n",
       "      <td>96</td>\n",
       "      <td>Verizon Communications</td>\n",
       "      <td>358753</td>\n",
       "      <td>4006874</td>\n",
       "      <td>3982613</td>\n",
       "      <td>Communication Services</td>\n",
       "      <td>1.318600e+11</td>\n",
       "      <td>case1</td>\n",
       "      <td>3.98261e+06</td>\n",
       "    </tr>\n",
       "  </tbody>\n",
       "</table>\n",
       "</div>"
      ],
      "text/plain": [
       "    company_id             company_name gross_total_scope1 gross_loc_scope2  \\\n",
       "6            7   Alphabet Inc. / Google              66686          5116949   \n",
       "14          15                AT&T Inc.             990955          6015122   \n",
       "30          31                  Comcast             498455          1568717   \n",
       "89          90  The Walt Disney Company             855073          1010307   \n",
       "95          96   Verizon Communications             358753          4006874   \n",
       "\n",
       "   gross_mkt_scope2                 Sector1       Revenue scope2_cases  \\\n",
       "6            794267  Communication Services  1.618570e+11        case1   \n",
       "14          5534088  Communication Services  1.812000e+11        case1   \n",
       "30          1496771  Communication Services  1.089420e+11        case1   \n",
       "89           931544  Communication Services  6.957000e+10        case1   \n",
       "95          3982613  Communication Services  1.318600e+11        case1   \n",
       "\n",
       "    scope2_calc  \n",
       "6        794267  \n",
       "14  5.53409e+06  \n",
       "30  1.49677e+06  \n",
       "89       931544  \n",
       "95  3.98261e+06  "
      ]
     },
     "execution_count": 12,
     "metadata": {},
     "output_type": "execute_result"
    }
   ],
   "source": [
    "merged_df_sector"
   ]
  },
  {
   "cell_type": "code",
   "execution_count": null,
   "metadata": {},
   "outputs": [],
   "source": []
  },
  {
   "cell_type": "code",
   "execution_count": 13,
   "metadata": {},
   "outputs": [],
   "source": [
    "merged_df_sector = merged_df_sector.assign(scope1_plus_scope2= (merged_df_sector['gross_total_scope1'] + merged_df_sector['scope2_calc']))"
   ]
  },
  {
   "cell_type": "code",
   "execution_count": 14,
   "metadata": {},
   "outputs": [
    {
     "data": {
      "text/html": [
       "<div>\n",
       "<style scoped>\n",
       "    .dataframe tbody tr th:only-of-type {\n",
       "        vertical-align: middle;\n",
       "    }\n",
       "\n",
       "    .dataframe tbody tr th {\n",
       "        vertical-align: top;\n",
       "    }\n",
       "\n",
       "    .dataframe thead th {\n",
       "        text-align: right;\n",
       "    }\n",
       "</style>\n",
       "<table border=\"1\" class=\"dataframe\">\n",
       "  <thead>\n",
       "    <tr style=\"text-align: right;\">\n",
       "      <th></th>\n",
       "      <th>company_id</th>\n",
       "      <th>company_name</th>\n",
       "      <th>gross_total_scope1</th>\n",
       "      <th>gross_loc_scope2</th>\n",
       "      <th>gross_mkt_scope2</th>\n",
       "      <th>Sector1</th>\n",
       "      <th>Revenue</th>\n",
       "      <th>scope2_cases</th>\n",
       "      <th>scope2_calc</th>\n",
       "      <th>scope1_plus_scope2</th>\n",
       "      <th>intensity</th>\n",
       "    </tr>\n",
       "  </thead>\n",
       "  <tbody>\n",
       "    <tr>\n",
       "      <th>6</th>\n",
       "      <td>7</td>\n",
       "      <td>Alphabet Inc. / Google</td>\n",
       "      <td>66686</td>\n",
       "      <td>5116949</td>\n",
       "      <td>794267</td>\n",
       "      <td>Communication Services</td>\n",
       "      <td>1.618570e+11</td>\n",
       "      <td>case1</td>\n",
       "      <td>794267</td>\n",
       "      <td>860953</td>\n",
       "      <td>5.31922e-06</td>\n",
       "    </tr>\n",
       "    <tr>\n",
       "      <th>14</th>\n",
       "      <td>15</td>\n",
       "      <td>AT&amp;T Inc.</td>\n",
       "      <td>990955</td>\n",
       "      <td>6015122</td>\n",
       "      <td>5534088</td>\n",
       "      <td>Communication Services</td>\n",
       "      <td>1.812000e+11</td>\n",
       "      <td>case1</td>\n",
       "      <td>5.53409e+06</td>\n",
       "      <td>6.52504e+06</td>\n",
       "      <td>3.60102e-05</td>\n",
       "    </tr>\n",
       "    <tr>\n",
       "      <th>30</th>\n",
       "      <td>31</td>\n",
       "      <td>Comcast</td>\n",
       "      <td>498455</td>\n",
       "      <td>1568717</td>\n",
       "      <td>1496771</td>\n",
       "      <td>Communication Services</td>\n",
       "      <td>1.089420e+11</td>\n",
       "      <td>case1</td>\n",
       "      <td>1.49677e+06</td>\n",
       "      <td>1.99523e+06</td>\n",
       "      <td>1.83146e-05</td>\n",
       "    </tr>\n",
       "    <tr>\n",
       "      <th>89</th>\n",
       "      <td>90</td>\n",
       "      <td>The Walt Disney Company</td>\n",
       "      <td>855073</td>\n",
       "      <td>1010307</td>\n",
       "      <td>931544</td>\n",
       "      <td>Communication Services</td>\n",
       "      <td>6.957000e+10</td>\n",
       "      <td>case1</td>\n",
       "      <td>931544</td>\n",
       "      <td>1.78662e+06</td>\n",
       "      <td>2.56809e-05</td>\n",
       "    </tr>\n",
       "    <tr>\n",
       "      <th>95</th>\n",
       "      <td>96</td>\n",
       "      <td>Verizon Communications</td>\n",
       "      <td>358753</td>\n",
       "      <td>4006874</td>\n",
       "      <td>3982613</td>\n",
       "      <td>Communication Services</td>\n",
       "      <td>1.318600e+11</td>\n",
       "      <td>case1</td>\n",
       "      <td>3.98261e+06</td>\n",
       "      <td>4.34137e+06</td>\n",
       "      <td>3.29241e-05</td>\n",
       "    </tr>\n",
       "  </tbody>\n",
       "</table>\n",
       "</div>"
      ],
      "text/plain": [
       "    company_id             company_name gross_total_scope1 gross_loc_scope2  \\\n",
       "6            7   Alphabet Inc. / Google              66686          5116949   \n",
       "14          15                AT&T Inc.             990955          6015122   \n",
       "30          31                  Comcast             498455          1568717   \n",
       "89          90  The Walt Disney Company             855073          1010307   \n",
       "95          96   Verizon Communications             358753          4006874   \n",
       "\n",
       "   gross_mkt_scope2                 Sector1       Revenue scope2_cases  \\\n",
       "6            794267  Communication Services  1.618570e+11        case1   \n",
       "14          5534088  Communication Services  1.812000e+11        case1   \n",
       "30          1496771  Communication Services  1.089420e+11        case1   \n",
       "89           931544  Communication Services  6.957000e+10        case1   \n",
       "95          3982613  Communication Services  1.318600e+11        case1   \n",
       "\n",
       "    scope2_calc scope1_plus_scope2    intensity  \n",
       "6        794267             860953  5.31922e-06  \n",
       "14  5.53409e+06        6.52504e+06  3.60102e-05  \n",
       "30  1.49677e+06        1.99523e+06  1.83146e-05  \n",
       "89       931544        1.78662e+06  2.56809e-05  \n",
       "95  3.98261e+06        4.34137e+06  3.29241e-05  "
      ]
     },
     "execution_count": 14,
     "metadata": {},
     "output_type": "execute_result"
    }
   ],
   "source": [
    "merged_df_sector.assign(intensity=merged_df_sector['scope1_plus_scope2'] / merged_df_sector['Revenue'])"
   ]
  },
  {
   "cell_type": "markdown",
   "metadata": {},
   "source": [
    "# Fetch specific values for the selected company"
   ]
  },
  {
   "cell_type": "code",
   "execution_count": 15,
   "metadata": {},
   "outputs": [],
   "source": [
    "corp_x = merged_df_sector[merged_df_sector['company_name']==corp_name]['scope1_plus_scope2'].iloc[0]\n",
    "corp_y = merged_df_sector[merged_df_sector['company_name']==corp_name]['Revenue'].iloc[0]"
   ]
  },
  {
   "cell_type": "markdown",
   "metadata": {},
   "source": [
    "# Fetch data series for the bubble chart data"
   ]
  },
  {
   "cell_type": "code",
   "execution_count": 16,
   "metadata": {},
   "outputs": [],
   "source": [
    "x0 = merged_df_sector['scope1_plus_scope2']\n",
    "y0 = merged_df_sector['Revenue']\n"
   ]
  },
  {
   "cell_type": "code",
   "execution_count": 17,
   "metadata": {},
   "outputs": [
    {
     "data": {
      "text/plain": [
       "'\\nupper_left_ann = dict (xref=\"x domain\",\\n                       yref=\"paper\",\\n                       x=0.10,\\n                       y=1.10,\\n                       text=\"<b>Corporate Behemoths</b> <br> High Revenue, High Emissions\",\\n                       showarrow = False,\\n                       bgcolor = \\'blue\\',\\n                       font = {\\'color\\':\\'white\\'},\\n                       opacity = 0.5\\n                      )\\nupper_right_ann = dict (xref=\"x domain\",\\n                       yref=\"paper\",\\n                       x=0.90,\\n                       y=1.10,\\n                       text=\"<b>Sustainability Leaders</b> <br> High Revenue, Low Emissions\",\\n                       showarrow = False,\\n                       bgcolor = \\'blue\\',\\n                       font = {\\'color\\':\\'white\\'},\\n                       opacity = 0.5\\n                       )\\nlower_right_ann = dict (xref=\"x domain\",\\n                       yref=\"paper\",\\n                       x=0.90,\\n                       y=-0.15,\\n                       text=\"<b>Small Players</b> <br> Low Revenue, Low Emissions\",\\n                       showarrow = False,\\n                       bgcolor = \\'blue\\',\\n                       font = {\\'color\\':\\'white\\'},\\n                       opacity = 0.5\\n                       )\\nlower_left_ann = dict (xref=\"x domain\",\\n                       yref=\"paper\",\\n                       x=0.10,\\n                       y=-0.15,\\n                       text=\"<b>Worst Offenders</b> <br> Low Revenue, High Emissions\",\\n                       showarrow = False,\\n                      bgcolor = \\'blue\\',\\n                       font = {\\'color\\':\\'white\\'},\\n                       opacity = 0.5\\n                      )\\n'"
      ]
     },
     "execution_count": 17,
     "metadata": {},
     "output_type": "execute_result"
    }
   ],
   "source": [
    "\"\"\"\n",
    "upper_left_ann = dict (xref=\"x domain\",\n",
    "                       yref=\"paper\",\n",
    "                       x=0.10,\n",
    "                       y=1.10,\n",
    "                       text=\"<b>Corporate Behemoths</b> <br> High Revenue, High Emissions\",\n",
    "                       showarrow = False,\n",
    "                       bgcolor = 'blue',\n",
    "                       font = {'color':'white'},\n",
    "                       opacity = 0.5\n",
    "                      )\n",
    "upper_right_ann = dict (xref=\"x domain\",\n",
    "                       yref=\"paper\",\n",
    "                       x=0.90,\n",
    "                       y=1.10,\n",
    "                       text=\"<b>Sustainability Leaders</b> <br> High Revenue, Low Emissions\",\n",
    "                       showarrow = False,\n",
    "                       bgcolor = 'blue',\n",
    "                       font = {'color':'white'},\n",
    "                       opacity = 0.5\n",
    "                       )\n",
    "lower_right_ann = dict (xref=\"x domain\",\n",
    "                       yref=\"paper\",\n",
    "                       x=0.90,\n",
    "                       y=-0.15,\n",
    "                       text=\"<b>Small Players</b> <br> Low Revenue, Low Emissions\",\n",
    "                       showarrow = False,\n",
    "                       bgcolor = 'blue',\n",
    "                       font = {'color':'white'},\n",
    "                       opacity = 0.5\n",
    "                       )\n",
    "lower_left_ann = dict (xref=\"x domain\",\n",
    "                       yref=\"paper\",\n",
    "                       x=0.10,\n",
    "                       y=-0.15,\n",
    "                       text=\"<b>Worst Offenders</b> <br> Low Revenue, High Emissions\",\n",
    "                       showarrow = False,\n",
    "                      bgcolor = 'blue',\n",
    "                       font = {'color':'white'},\n",
    "                       opacity = 0.5\n",
    "                      )\n",
    "\"\"\""
   ]
  },
  {
   "cell_type": "code",
   "execution_count": 54,
   "metadata": {},
   "outputs": [],
   "source": [
    "layout = go.Layout (\n",
    "    title = '<b>GHG Emissions vs. Revenue</b><br>Sector: ' + sector,\n",
    "    title_x = 0.5,\n",
    "    titlefont = dict(\n",
    "        family = 'Arial',\n",
    "        size = 16),\n",
    "    plot_bgcolor = 'antiquewhite',\n",
    "    xaxis =  dict(\n",
    "        autorange = \"reversed\",\n",
    "        type = 'log',\n",
    "        title = '<i>high</i>----------<b>Scope1+2 Emissions</b>----------<i>low</i>'),\n",
    "    yaxis = dict(\n",
    "        type = 'log',\n",
    "        title = 'Revenue'),\n",
    "    #annotations = [upper_left_ann, upper_right_ann, lower_left_ann, lower_right_ann]\n",
    ")"
   ]
  },
  {
   "cell_type": "code",
   "execution_count": 55,
   "metadata": {},
   "outputs": [],
   "source": [
    "x_median_x = [x0.min(), x0.max()]\n",
    "y_median_x = [y0.median(), y0.median()]\n",
    "x_median_y = [x0.median(), x0.median()]\n",
    "y_median_y = [y0.min(), y0.max()]"
   ]
  },
  {
   "cell_type": "code",
   "execution_count": 56,
   "metadata": {},
   "outputs": [],
   "source": [
    "index_corp = merged_df_sector.loc[merged_df_sector['company_name'] == corp_name].index\n",
    "# Delete these row indexes from dataFrame\n",
    "merged_df_sector.drop(index_corp , inplace=True)"
   ]
  },
  {
   "cell_type": "code",
   "execution_count": 57,
   "metadata": {},
   "outputs": [
    {
     "data": {
      "text/html": [
       "<div>\n",
       "<style scoped>\n",
       "    .dataframe tbody tr th:only-of-type {\n",
       "        vertical-align: middle;\n",
       "    }\n",
       "\n",
       "    .dataframe tbody tr th {\n",
       "        vertical-align: top;\n",
       "    }\n",
       "\n",
       "    .dataframe thead th {\n",
       "        text-align: right;\n",
       "    }\n",
       "</style>\n",
       "<table border=\"1\" class=\"dataframe\">\n",
       "  <thead>\n",
       "    <tr style=\"text-align: right;\">\n",
       "      <th></th>\n",
       "      <th>company_id</th>\n",
       "      <th>company_name</th>\n",
       "      <th>gross_total_scope1</th>\n",
       "      <th>gross_loc_scope2</th>\n",
       "      <th>gross_mkt_scope2</th>\n",
       "      <th>Sector1</th>\n",
       "      <th>Revenue</th>\n",
       "      <th>scope2_cases</th>\n",
       "      <th>scope2_calc</th>\n",
       "      <th>scope1_plus_scope2</th>\n",
       "    </tr>\n",
       "  </thead>\n",
       "  <tbody>\n",
       "    <tr>\n",
       "      <th>14</th>\n",
       "      <td>15</td>\n",
       "      <td>AT&amp;T Inc.</td>\n",
       "      <td>990955</td>\n",
       "      <td>6015122</td>\n",
       "      <td>5534088</td>\n",
       "      <td>Communication Services</td>\n",
       "      <td>1.812000e+11</td>\n",
       "      <td>case1</td>\n",
       "      <td>5.53409e+06</td>\n",
       "      <td>6.52504e+06</td>\n",
       "    </tr>\n",
       "    <tr>\n",
       "      <th>30</th>\n",
       "      <td>31</td>\n",
       "      <td>Comcast</td>\n",
       "      <td>498455</td>\n",
       "      <td>1568717</td>\n",
       "      <td>1496771</td>\n",
       "      <td>Communication Services</td>\n",
       "      <td>1.089420e+11</td>\n",
       "      <td>case1</td>\n",
       "      <td>1.49677e+06</td>\n",
       "      <td>1.99523e+06</td>\n",
       "    </tr>\n",
       "    <tr>\n",
       "      <th>89</th>\n",
       "      <td>90</td>\n",
       "      <td>The Walt Disney Company</td>\n",
       "      <td>855073</td>\n",
       "      <td>1010307</td>\n",
       "      <td>931544</td>\n",
       "      <td>Communication Services</td>\n",
       "      <td>6.957000e+10</td>\n",
       "      <td>case1</td>\n",
       "      <td>931544</td>\n",
       "      <td>1.78662e+06</td>\n",
       "    </tr>\n",
       "    <tr>\n",
       "      <th>95</th>\n",
       "      <td>96</td>\n",
       "      <td>Verizon Communications</td>\n",
       "      <td>358753</td>\n",
       "      <td>4006874</td>\n",
       "      <td>3982613</td>\n",
       "      <td>Communication Services</td>\n",
       "      <td>1.318600e+11</td>\n",
       "      <td>case1</td>\n",
       "      <td>3.98261e+06</td>\n",
       "      <td>4.34137e+06</td>\n",
       "    </tr>\n",
       "  </tbody>\n",
       "</table>\n",
       "</div>"
      ],
      "text/plain": [
       "    company_id             company_name gross_total_scope1 gross_loc_scope2  \\\n",
       "14          15                AT&T Inc.             990955          6015122   \n",
       "30          31                  Comcast             498455          1568717   \n",
       "89          90  The Walt Disney Company             855073          1010307   \n",
       "95          96   Verizon Communications             358753          4006874   \n",
       "\n",
       "   gross_mkt_scope2                 Sector1       Revenue scope2_cases  \\\n",
       "14          5534088  Communication Services  1.812000e+11        case1   \n",
       "30          1496771  Communication Services  1.089420e+11        case1   \n",
       "89           931544  Communication Services  6.957000e+10        case1   \n",
       "95          3982613  Communication Services  1.318600e+11        case1   \n",
       "\n",
       "    scope2_calc scope1_plus_scope2  \n",
       "14  5.53409e+06        6.52504e+06  \n",
       "30  1.49677e+06        1.99523e+06  \n",
       "89       931544        1.78662e+06  \n",
       "95  3.98261e+06        4.34137e+06  "
      ]
     },
     "execution_count": 57,
     "metadata": {},
     "output_type": "execute_result"
    }
   ],
   "source": [
    "merged_df_sector"
   ]
  },
  {
   "cell_type": "code",
   "execution_count": 58,
   "metadata": {},
   "outputs": [
    {
     "data": {
      "text/plain": [
       "Int64Index([], dtype='int64')"
      ]
     },
     "execution_count": 58,
     "metadata": {},
     "output_type": "execute_result"
    }
   ],
   "source": [
    "index_corp"
   ]
  },
  {
   "cell_type": "code",
   "execution_count": 59,
   "metadata": {
    "scrolled": true
   },
   "outputs": [],
   "source": [
    "trace1 = go.Scatter(x=x_median_y, \n",
    "                    y=y_median_y, \n",
    "                    showlegend = False, \n",
    "                    name='Median y',\n",
    "                    mode = \"lines\",\n",
    "                    line = dict(color='gray', \n",
    "                                width=2, \n",
    "                                dash='dash'))\n",
    "\n",
    "trace2 = go.Scatter(x=x_median_x, \n",
    "                         y=y_median_x, \n",
    "                         showlegend = False, \n",
    "                         name='Median x', \n",
    "                         mode = \"lines\",\n",
    "                         line = {'color':'gray', \n",
    "                                 'width':2, \n",
    "                                 'dash':'dash'}\n",
    "                        )\n",
    "\n",
    "trace3 = go.Scatter(\n",
    "    x=merged_df_sector['scope1_plus_scope2'], \n",
    "    y=merged_df_sector['Revenue'],\n",
    "    showlegend = False,\n",
    "    name=\"benchmark\", \n",
    "    text=merged_df_sector['company_name'],\n",
    "    mode = 'markers+text',\n",
    "    line = {'color':'black'}, \n",
    "    marker = {\n",
    "        'color': '#488f31',\n",
    "        'opacity': 0.4,\n",
    "        'size':12\n",
    "    },\n",
    "    textposition='top center'\n",
    "    )\n",
    "trace4 = go.Scatter(\n",
    "    x=[corp_x], \n",
    "    y=[corp_y],\n",
    "    showlegend = False,\n",
    "    name=corp_name, \n",
    "    text= corp_name,\n",
    "    textfont=dict(\n",
    "        size=12,\n",
    "        color=\"#de425b\"),\n",
    "    mode = 'markers+text',\n",
    "    line = {'color':'#de425b'}, \n",
    "    marker = {\n",
    "        'color': '#de425b',\n",
    "        'opacity': 1,\n",
    "        'size':20\n",
    "    },\n",
    "    textposition='top center'\n",
    "    )\n",
    "\n",
    "fig = go.Figure(data = [trace1, trace2, trace3, trace4], \n",
    "                layout = layout)\n",
    "                \n",
    "fig.update_layout(\n",
    "    autosize=False,\n",
    "    width=500,\n",
    "    height=500,\n",
    "    margin=dict(\n",
    "        l=50,\n",
    "        r=50,\n",
    "        b=50,\n",
    "        t=80,\n",
    "        pad=4\n",
    "    ),\n",
    "    paper_bgcolor=\"#bad0af\",\n",
    "    plot_bgcolor = '#f1f1f1',\n",
    ")\n",
    "config = {'displaylogo': False}\n"
   ]
  },
  {
   "cell_type": "code",
   "execution_count": 60,
   "metadata": {},
   "outputs": [
    {
     "data": {
      "application/vnd.plotly.v1+json": {
       "config": {
        "displaylogo": false,
        "linkText": "Export to plot.ly",
        "plotlyServerURL": "https://plot.ly",
        "showLink": false
       },
       "data": [
        {
         "line": {
          "color": "gray",
          "dash": "dash",
          "width": 2
         },
         "mode": "lines",
         "name": "Median y",
         "showlegend": false,
         "type": "scatter",
         "x": [
          1995226,
          1995226
         ],
         "y": [
          69570000000,
          181200000000
         ]
        },
        {
         "line": {
          "color": "gray",
          "dash": "dash",
          "width": 2
         },
         "mode": "lines",
         "name": "Median x",
         "showlegend": false,
         "type": "scatter",
         "x": [
          860953,
          6525043
         ],
         "y": [
          131860000000,
          131860000000
         ]
        },
        {
         "line": {
          "color": "black"
         },
         "marker": {
          "color": "#488f31",
          "opacity": 0.4,
          "size": 12
         },
         "mode": "markers+text",
         "name": "benchmark",
         "showlegend": false,
         "text": [
          "AT&T Inc.",
          "Comcast",
          "The Walt Disney Company",
          "Verizon Communications"
         ],
         "textposition": "top center",
         "type": "scatter",
         "x": [
          6525043,
          1995226,
          1786617,
          4341366
         ],
         "y": [
          181200000000,
          108942000000,
          69570000000,
          131860000000
         ]
        },
        {
         "line": {
          "color": "#de425b"
         },
         "marker": {
          "color": "#de425b",
          "opacity": 1,
          "size": 20
         },
         "mode": "markers+text",
         "name": "Alphabet Inc. / Google",
         "showlegend": false,
         "text": "Alphabet Inc. / Google",
         "textfont": {
          "color": "#de425b",
          "size": 12
         },
         "textposition": "top center",
         "type": "scatter",
         "x": [
          860953
         ],
         "y": [
          161857000000
         ]
        }
       ],
       "layout": {
        "autosize": false,
        "height": 500,
        "margin": {
         "b": 50,
         "l": 50,
         "pad": 4,
         "r": 50,
         "t": 80
        },
        "paper_bgcolor": "#bad0af",
        "plot_bgcolor": "#f1f1f1",
        "template": {
         "data": {
          "bar": [
           {
            "error_x": {
             "color": "#2a3f5f"
            },
            "error_y": {
             "color": "#2a3f5f"
            },
            "marker": {
             "line": {
              "color": "#E5ECF6",
              "width": 0.5
             }
            },
            "type": "bar"
           }
          ],
          "barpolar": [
           {
            "marker": {
             "line": {
              "color": "#E5ECF6",
              "width": 0.5
             }
            },
            "type": "barpolar"
           }
          ],
          "carpet": [
           {
            "aaxis": {
             "endlinecolor": "#2a3f5f",
             "gridcolor": "white",
             "linecolor": "white",
             "minorgridcolor": "white",
             "startlinecolor": "#2a3f5f"
            },
            "baxis": {
             "endlinecolor": "#2a3f5f",
             "gridcolor": "white",
             "linecolor": "white",
             "minorgridcolor": "white",
             "startlinecolor": "#2a3f5f"
            },
            "type": "carpet"
           }
          ],
          "choropleth": [
           {
            "colorbar": {
             "outlinewidth": 0,
             "ticks": ""
            },
            "type": "choropleth"
           }
          ],
          "contour": [
           {
            "colorbar": {
             "outlinewidth": 0,
             "ticks": ""
            },
            "colorscale": [
             [
              0,
              "#0d0887"
             ],
             [
              0.1111111111111111,
              "#46039f"
             ],
             [
              0.2222222222222222,
              "#7201a8"
             ],
             [
              0.3333333333333333,
              "#9c179e"
             ],
             [
              0.4444444444444444,
              "#bd3786"
             ],
             [
              0.5555555555555556,
              "#d8576b"
             ],
             [
              0.6666666666666666,
              "#ed7953"
             ],
             [
              0.7777777777777778,
              "#fb9f3a"
             ],
             [
              0.8888888888888888,
              "#fdca26"
             ],
             [
              1,
              "#f0f921"
             ]
            ],
            "type": "contour"
           }
          ],
          "contourcarpet": [
           {
            "colorbar": {
             "outlinewidth": 0,
             "ticks": ""
            },
            "type": "contourcarpet"
           }
          ],
          "heatmap": [
           {
            "colorbar": {
             "outlinewidth": 0,
             "ticks": ""
            },
            "colorscale": [
             [
              0,
              "#0d0887"
             ],
             [
              0.1111111111111111,
              "#46039f"
             ],
             [
              0.2222222222222222,
              "#7201a8"
             ],
             [
              0.3333333333333333,
              "#9c179e"
             ],
             [
              0.4444444444444444,
              "#bd3786"
             ],
             [
              0.5555555555555556,
              "#d8576b"
             ],
             [
              0.6666666666666666,
              "#ed7953"
             ],
             [
              0.7777777777777778,
              "#fb9f3a"
             ],
             [
              0.8888888888888888,
              "#fdca26"
             ],
             [
              1,
              "#f0f921"
             ]
            ],
            "type": "heatmap"
           }
          ],
          "heatmapgl": [
           {
            "colorbar": {
             "outlinewidth": 0,
             "ticks": ""
            },
            "colorscale": [
             [
              0,
              "#0d0887"
             ],
             [
              0.1111111111111111,
              "#46039f"
             ],
             [
              0.2222222222222222,
              "#7201a8"
             ],
             [
              0.3333333333333333,
              "#9c179e"
             ],
             [
              0.4444444444444444,
              "#bd3786"
             ],
             [
              0.5555555555555556,
              "#d8576b"
             ],
             [
              0.6666666666666666,
              "#ed7953"
             ],
             [
              0.7777777777777778,
              "#fb9f3a"
             ],
             [
              0.8888888888888888,
              "#fdca26"
             ],
             [
              1,
              "#f0f921"
             ]
            ],
            "type": "heatmapgl"
           }
          ],
          "histogram": [
           {
            "marker": {
             "colorbar": {
              "outlinewidth": 0,
              "ticks": ""
             }
            },
            "type": "histogram"
           }
          ],
          "histogram2d": [
           {
            "colorbar": {
             "outlinewidth": 0,
             "ticks": ""
            },
            "colorscale": [
             [
              0,
              "#0d0887"
             ],
             [
              0.1111111111111111,
              "#46039f"
             ],
             [
              0.2222222222222222,
              "#7201a8"
             ],
             [
              0.3333333333333333,
              "#9c179e"
             ],
             [
              0.4444444444444444,
              "#bd3786"
             ],
             [
              0.5555555555555556,
              "#d8576b"
             ],
             [
              0.6666666666666666,
              "#ed7953"
             ],
             [
              0.7777777777777778,
              "#fb9f3a"
             ],
             [
              0.8888888888888888,
              "#fdca26"
             ],
             [
              1,
              "#f0f921"
             ]
            ],
            "type": "histogram2d"
           }
          ],
          "histogram2dcontour": [
           {
            "colorbar": {
             "outlinewidth": 0,
             "ticks": ""
            },
            "colorscale": [
             [
              0,
              "#0d0887"
             ],
             [
              0.1111111111111111,
              "#46039f"
             ],
             [
              0.2222222222222222,
              "#7201a8"
             ],
             [
              0.3333333333333333,
              "#9c179e"
             ],
             [
              0.4444444444444444,
              "#bd3786"
             ],
             [
              0.5555555555555556,
              "#d8576b"
             ],
             [
              0.6666666666666666,
              "#ed7953"
             ],
             [
              0.7777777777777778,
              "#fb9f3a"
             ],
             [
              0.8888888888888888,
              "#fdca26"
             ],
             [
              1,
              "#f0f921"
             ]
            ],
            "type": "histogram2dcontour"
           }
          ],
          "mesh3d": [
           {
            "colorbar": {
             "outlinewidth": 0,
             "ticks": ""
            },
            "type": "mesh3d"
           }
          ],
          "parcoords": [
           {
            "line": {
             "colorbar": {
              "outlinewidth": 0,
              "ticks": ""
             }
            },
            "type": "parcoords"
           }
          ],
          "pie": [
           {
            "automargin": true,
            "type": "pie"
           }
          ],
          "scatter": [
           {
            "marker": {
             "colorbar": {
              "outlinewidth": 0,
              "ticks": ""
             }
            },
            "type": "scatter"
           }
          ],
          "scatter3d": [
           {
            "line": {
             "colorbar": {
              "outlinewidth": 0,
              "ticks": ""
             }
            },
            "marker": {
             "colorbar": {
              "outlinewidth": 0,
              "ticks": ""
             }
            },
            "type": "scatter3d"
           }
          ],
          "scattercarpet": [
           {
            "marker": {
             "colorbar": {
              "outlinewidth": 0,
              "ticks": ""
             }
            },
            "type": "scattercarpet"
           }
          ],
          "scattergeo": [
           {
            "marker": {
             "colorbar": {
              "outlinewidth": 0,
              "ticks": ""
             }
            },
            "type": "scattergeo"
           }
          ],
          "scattergl": [
           {
            "marker": {
             "colorbar": {
              "outlinewidth": 0,
              "ticks": ""
             }
            },
            "type": "scattergl"
           }
          ],
          "scattermapbox": [
           {
            "marker": {
             "colorbar": {
              "outlinewidth": 0,
              "ticks": ""
             }
            },
            "type": "scattermapbox"
           }
          ],
          "scatterpolar": [
           {
            "marker": {
             "colorbar": {
              "outlinewidth": 0,
              "ticks": ""
             }
            },
            "type": "scatterpolar"
           }
          ],
          "scatterpolargl": [
           {
            "marker": {
             "colorbar": {
              "outlinewidth": 0,
              "ticks": ""
             }
            },
            "type": "scatterpolargl"
           }
          ],
          "scatterternary": [
           {
            "marker": {
             "colorbar": {
              "outlinewidth": 0,
              "ticks": ""
             }
            },
            "type": "scatterternary"
           }
          ],
          "surface": [
           {
            "colorbar": {
             "outlinewidth": 0,
             "ticks": ""
            },
            "colorscale": [
             [
              0,
              "#0d0887"
             ],
             [
              0.1111111111111111,
              "#46039f"
             ],
             [
              0.2222222222222222,
              "#7201a8"
             ],
             [
              0.3333333333333333,
              "#9c179e"
             ],
             [
              0.4444444444444444,
              "#bd3786"
             ],
             [
              0.5555555555555556,
              "#d8576b"
             ],
             [
              0.6666666666666666,
              "#ed7953"
             ],
             [
              0.7777777777777778,
              "#fb9f3a"
             ],
             [
              0.8888888888888888,
              "#fdca26"
             ],
             [
              1,
              "#f0f921"
             ]
            ],
            "type": "surface"
           }
          ],
          "table": [
           {
            "cells": {
             "fill": {
              "color": "#EBF0F8"
             },
             "line": {
              "color": "white"
             }
            },
            "header": {
             "fill": {
              "color": "#C8D4E3"
             },
             "line": {
              "color": "white"
             }
            },
            "type": "table"
           }
          ]
         },
         "layout": {
          "annotationdefaults": {
           "arrowcolor": "#2a3f5f",
           "arrowhead": 0,
           "arrowwidth": 1
          },
          "autotypenumbers": "strict",
          "coloraxis": {
           "colorbar": {
            "outlinewidth": 0,
            "ticks": ""
           }
          },
          "colorscale": {
           "diverging": [
            [
             0,
             "#8e0152"
            ],
            [
             0.1,
             "#c51b7d"
            ],
            [
             0.2,
             "#de77ae"
            ],
            [
             0.3,
             "#f1b6da"
            ],
            [
             0.4,
             "#fde0ef"
            ],
            [
             0.5,
             "#f7f7f7"
            ],
            [
             0.6,
             "#e6f5d0"
            ],
            [
             0.7,
             "#b8e186"
            ],
            [
             0.8,
             "#7fbc41"
            ],
            [
             0.9,
             "#4d9221"
            ],
            [
             1,
             "#276419"
            ]
           ],
           "sequential": [
            [
             0,
             "#0d0887"
            ],
            [
             0.1111111111111111,
             "#46039f"
            ],
            [
             0.2222222222222222,
             "#7201a8"
            ],
            [
             0.3333333333333333,
             "#9c179e"
            ],
            [
             0.4444444444444444,
             "#bd3786"
            ],
            [
             0.5555555555555556,
             "#d8576b"
            ],
            [
             0.6666666666666666,
             "#ed7953"
            ],
            [
             0.7777777777777778,
             "#fb9f3a"
            ],
            [
             0.8888888888888888,
             "#fdca26"
            ],
            [
             1,
             "#f0f921"
            ]
           ],
           "sequentialminus": [
            [
             0,
             "#0d0887"
            ],
            [
             0.1111111111111111,
             "#46039f"
            ],
            [
             0.2222222222222222,
             "#7201a8"
            ],
            [
             0.3333333333333333,
             "#9c179e"
            ],
            [
             0.4444444444444444,
             "#bd3786"
            ],
            [
             0.5555555555555556,
             "#d8576b"
            ],
            [
             0.6666666666666666,
             "#ed7953"
            ],
            [
             0.7777777777777778,
             "#fb9f3a"
            ],
            [
             0.8888888888888888,
             "#fdca26"
            ],
            [
             1,
             "#f0f921"
            ]
           ]
          },
          "colorway": [
           "#636efa",
           "#EF553B",
           "#00cc96",
           "#ab63fa",
           "#FFA15A",
           "#19d3f3",
           "#FF6692",
           "#B6E880",
           "#FF97FF",
           "#FECB52"
          ],
          "font": {
           "color": "#2a3f5f"
          },
          "geo": {
           "bgcolor": "white",
           "lakecolor": "white",
           "landcolor": "#E5ECF6",
           "showlakes": true,
           "showland": true,
           "subunitcolor": "white"
          },
          "hoverlabel": {
           "align": "left"
          },
          "hovermode": "closest",
          "mapbox": {
           "style": "light"
          },
          "paper_bgcolor": "white",
          "plot_bgcolor": "#E5ECF6",
          "polar": {
           "angularaxis": {
            "gridcolor": "white",
            "linecolor": "white",
            "ticks": ""
           },
           "bgcolor": "#E5ECF6",
           "radialaxis": {
            "gridcolor": "white",
            "linecolor": "white",
            "ticks": ""
           }
          },
          "scene": {
           "xaxis": {
            "backgroundcolor": "#E5ECF6",
            "gridcolor": "white",
            "gridwidth": 2,
            "linecolor": "white",
            "showbackground": true,
            "ticks": "",
            "zerolinecolor": "white"
           },
           "yaxis": {
            "backgroundcolor": "#E5ECF6",
            "gridcolor": "white",
            "gridwidth": 2,
            "linecolor": "white",
            "showbackground": true,
            "ticks": "",
            "zerolinecolor": "white"
           },
           "zaxis": {
            "backgroundcolor": "#E5ECF6",
            "gridcolor": "white",
            "gridwidth": 2,
            "linecolor": "white",
            "showbackground": true,
            "ticks": "",
            "zerolinecolor": "white"
           }
          },
          "shapedefaults": {
           "line": {
            "color": "#2a3f5f"
           }
          },
          "ternary": {
           "aaxis": {
            "gridcolor": "white",
            "linecolor": "white",
            "ticks": ""
           },
           "baxis": {
            "gridcolor": "white",
            "linecolor": "white",
            "ticks": ""
           },
           "bgcolor": "#E5ECF6",
           "caxis": {
            "gridcolor": "white",
            "linecolor": "white",
            "ticks": ""
           }
          },
          "title": {
           "x": 0.05
          },
          "xaxis": {
           "automargin": true,
           "gridcolor": "white",
           "linecolor": "white",
           "ticks": "",
           "title": {
            "standoff": 15
           },
           "zerolinecolor": "white",
           "zerolinewidth": 2
          },
          "yaxis": {
           "automargin": true,
           "gridcolor": "white",
           "linecolor": "white",
           "ticks": "",
           "title": {
            "standoff": 15
           },
           "zerolinecolor": "white",
           "zerolinewidth": 2
          }
         }
        },
        "title": {
         "font": {
          "family": "Arial",
          "size": 16
         },
         "text": "<b>GHG Emissions vs. Revenue</b><br>Sector: Communication Services",
         "x": 0.5
        },
        "width": 500,
        "xaxis": {
         "autorange": "reversed",
         "title": {
          "text": "<i>high</i>----------<b>Scope1+2 Emissions</b>----------<i>low</i>"
         },
         "type": "log"
        },
        "yaxis": {
         "title": {
          "text": "Revenue"
         },
         "type": "log"
        }
       }
      },
      "text/html": [
       "<div>                            <div id=\"64d7e8f9-471c-40bd-82df-09aca4fea0b5\" class=\"plotly-graph-div\" style=\"height:500px; width:500px;\"></div>            <script type=\"text/javascript\">                require([\"plotly\"], function(Plotly) {                    window.PLOTLYENV=window.PLOTLYENV || {};                                    if (document.getElementById(\"64d7e8f9-471c-40bd-82df-09aca4fea0b5\")) {                    Plotly.newPlot(                        \"64d7e8f9-471c-40bd-82df-09aca4fea0b5\",                        [{\"line\": {\"color\": \"gray\", \"dash\": \"dash\", \"width\": 2}, \"mode\": \"lines\", \"name\": \"Median y\", \"showlegend\": false, \"type\": \"scatter\", \"x\": [1995226.0, 1995226.0], \"y\": [69570000000.0, 181200000000.0]}, {\"line\": {\"color\": \"gray\", \"dash\": \"dash\", \"width\": 2}, \"mode\": \"lines\", \"name\": \"Median x\", \"showlegend\": false, \"type\": \"scatter\", \"x\": [860953.0, 6525043.0], \"y\": [131860000000.0, 131860000000.0]}, {\"line\": {\"color\": \"black\"}, \"marker\": {\"color\": \"#488f31\", \"opacity\": 0.4, \"size\": 12}, \"mode\": \"markers+text\", \"name\": \"benchmark\", \"showlegend\": false, \"text\": [\"AT&T Inc.\", \"Comcast\", \"The Walt Disney Company\", \"Verizon Communications\"], \"textposition\": \"top center\", \"type\": \"scatter\", \"x\": [6525043.0, 1995226.0, 1786617.0, 4341366.0], \"y\": [181200000000.0, 108942000000.0, 69570000000.0, 131860000000.0]}, {\"line\": {\"color\": \"#de425b\"}, \"marker\": {\"color\": \"#de425b\", \"opacity\": 1, \"size\": 20}, \"mode\": \"markers+text\", \"name\": \"Alphabet Inc. / Google\", \"showlegend\": false, \"text\": \"Alphabet Inc. / Google\", \"textfont\": {\"color\": \"#de425b\", \"size\": 12}, \"textposition\": \"top center\", \"type\": \"scatter\", \"x\": [860953.0], \"y\": [161857000000.0]}],                        {\"autosize\": false, \"height\": 500, \"margin\": {\"b\": 50, \"l\": 50, \"pad\": 4, \"r\": 50, \"t\": 80}, \"paper_bgcolor\": \"#bad0af\", \"plot_bgcolor\": \"#f1f1f1\", \"template\": {\"data\": {\"bar\": [{\"error_x\": {\"color\": \"#2a3f5f\"}, \"error_y\": {\"color\": \"#2a3f5f\"}, \"marker\": {\"line\": {\"color\": \"#E5ECF6\", \"width\": 0.5}}, \"type\": \"bar\"}], \"barpolar\": [{\"marker\": {\"line\": {\"color\": \"#E5ECF6\", \"width\": 0.5}}, \"type\": \"barpolar\"}], \"carpet\": [{\"aaxis\": {\"endlinecolor\": \"#2a3f5f\", \"gridcolor\": \"white\", \"linecolor\": \"white\", \"minorgridcolor\": \"white\", \"startlinecolor\": \"#2a3f5f\"}, \"baxis\": {\"endlinecolor\": \"#2a3f5f\", \"gridcolor\": \"white\", \"linecolor\": \"white\", \"minorgridcolor\": \"white\", \"startlinecolor\": \"#2a3f5f\"}, \"type\": \"carpet\"}], \"choropleth\": [{\"colorbar\": {\"outlinewidth\": 0, \"ticks\": \"\"}, \"type\": \"choropleth\"}], \"contour\": [{\"colorbar\": {\"outlinewidth\": 0, \"ticks\": \"\"}, \"colorscale\": [[0.0, \"#0d0887\"], [0.1111111111111111, \"#46039f\"], [0.2222222222222222, \"#7201a8\"], [0.3333333333333333, \"#9c179e\"], [0.4444444444444444, \"#bd3786\"], [0.5555555555555556, \"#d8576b\"], [0.6666666666666666, \"#ed7953\"], [0.7777777777777778, \"#fb9f3a\"], [0.8888888888888888, \"#fdca26\"], [1.0, \"#f0f921\"]], \"type\": \"contour\"}], \"contourcarpet\": [{\"colorbar\": {\"outlinewidth\": 0, \"ticks\": \"\"}, \"type\": \"contourcarpet\"}], \"heatmap\": [{\"colorbar\": {\"outlinewidth\": 0, \"ticks\": \"\"}, \"colorscale\": [[0.0, \"#0d0887\"], [0.1111111111111111, \"#46039f\"], [0.2222222222222222, \"#7201a8\"], [0.3333333333333333, \"#9c179e\"], [0.4444444444444444, \"#bd3786\"], [0.5555555555555556, \"#d8576b\"], [0.6666666666666666, \"#ed7953\"], [0.7777777777777778, \"#fb9f3a\"], [0.8888888888888888, \"#fdca26\"], [1.0, \"#f0f921\"]], \"type\": \"heatmap\"}], \"heatmapgl\": [{\"colorbar\": {\"outlinewidth\": 0, \"ticks\": \"\"}, \"colorscale\": [[0.0, \"#0d0887\"], [0.1111111111111111, \"#46039f\"], [0.2222222222222222, \"#7201a8\"], [0.3333333333333333, \"#9c179e\"], [0.4444444444444444, \"#bd3786\"], [0.5555555555555556, \"#d8576b\"], [0.6666666666666666, \"#ed7953\"], [0.7777777777777778, \"#fb9f3a\"], [0.8888888888888888, \"#fdca26\"], [1.0, \"#f0f921\"]], \"type\": \"heatmapgl\"}], \"histogram\": [{\"marker\": {\"colorbar\": {\"outlinewidth\": 0, \"ticks\": \"\"}}, \"type\": \"histogram\"}], \"histogram2d\": [{\"colorbar\": {\"outlinewidth\": 0, \"ticks\": \"\"}, \"colorscale\": [[0.0, \"#0d0887\"], [0.1111111111111111, \"#46039f\"], [0.2222222222222222, \"#7201a8\"], [0.3333333333333333, \"#9c179e\"], [0.4444444444444444, \"#bd3786\"], [0.5555555555555556, \"#d8576b\"], [0.6666666666666666, \"#ed7953\"], [0.7777777777777778, \"#fb9f3a\"], [0.8888888888888888, \"#fdca26\"], [1.0, \"#f0f921\"]], \"type\": \"histogram2d\"}], \"histogram2dcontour\": [{\"colorbar\": {\"outlinewidth\": 0, \"ticks\": \"\"}, \"colorscale\": [[0.0, \"#0d0887\"], [0.1111111111111111, \"#46039f\"], [0.2222222222222222, \"#7201a8\"], [0.3333333333333333, \"#9c179e\"], [0.4444444444444444, \"#bd3786\"], [0.5555555555555556, \"#d8576b\"], [0.6666666666666666, \"#ed7953\"], [0.7777777777777778, \"#fb9f3a\"], [0.8888888888888888, \"#fdca26\"], [1.0, \"#f0f921\"]], \"type\": \"histogram2dcontour\"}], \"mesh3d\": [{\"colorbar\": {\"outlinewidth\": 0, \"ticks\": \"\"}, \"type\": \"mesh3d\"}], \"parcoords\": [{\"line\": {\"colorbar\": {\"outlinewidth\": 0, \"ticks\": \"\"}}, \"type\": \"parcoords\"}], \"pie\": [{\"automargin\": true, \"type\": \"pie\"}], \"scatter\": [{\"marker\": {\"colorbar\": {\"outlinewidth\": 0, \"ticks\": \"\"}}, \"type\": \"scatter\"}], \"scatter3d\": [{\"line\": {\"colorbar\": {\"outlinewidth\": 0, \"ticks\": \"\"}}, \"marker\": {\"colorbar\": {\"outlinewidth\": 0, \"ticks\": \"\"}}, \"type\": \"scatter3d\"}], \"scattercarpet\": [{\"marker\": {\"colorbar\": {\"outlinewidth\": 0, \"ticks\": \"\"}}, \"type\": \"scattercarpet\"}], \"scattergeo\": [{\"marker\": {\"colorbar\": {\"outlinewidth\": 0, \"ticks\": \"\"}}, \"type\": \"scattergeo\"}], \"scattergl\": [{\"marker\": {\"colorbar\": {\"outlinewidth\": 0, \"ticks\": \"\"}}, \"type\": \"scattergl\"}], \"scattermapbox\": [{\"marker\": {\"colorbar\": {\"outlinewidth\": 0, \"ticks\": \"\"}}, \"type\": \"scattermapbox\"}], \"scatterpolar\": [{\"marker\": {\"colorbar\": {\"outlinewidth\": 0, \"ticks\": \"\"}}, \"type\": \"scatterpolar\"}], \"scatterpolargl\": [{\"marker\": {\"colorbar\": {\"outlinewidth\": 0, \"ticks\": \"\"}}, \"type\": \"scatterpolargl\"}], \"scatterternary\": [{\"marker\": {\"colorbar\": {\"outlinewidth\": 0, \"ticks\": \"\"}}, \"type\": \"scatterternary\"}], \"surface\": [{\"colorbar\": {\"outlinewidth\": 0, \"ticks\": \"\"}, \"colorscale\": [[0.0, \"#0d0887\"], [0.1111111111111111, \"#46039f\"], [0.2222222222222222, \"#7201a8\"], [0.3333333333333333, \"#9c179e\"], [0.4444444444444444, \"#bd3786\"], [0.5555555555555556, \"#d8576b\"], [0.6666666666666666, \"#ed7953\"], [0.7777777777777778, \"#fb9f3a\"], [0.8888888888888888, \"#fdca26\"], [1.0, \"#f0f921\"]], \"type\": \"surface\"}], \"table\": [{\"cells\": {\"fill\": {\"color\": \"#EBF0F8\"}, \"line\": {\"color\": \"white\"}}, \"header\": {\"fill\": {\"color\": \"#C8D4E3\"}, \"line\": {\"color\": \"white\"}}, \"type\": \"table\"}]}, \"layout\": {\"annotationdefaults\": {\"arrowcolor\": \"#2a3f5f\", \"arrowhead\": 0, \"arrowwidth\": 1}, \"autotypenumbers\": \"strict\", \"coloraxis\": {\"colorbar\": {\"outlinewidth\": 0, \"ticks\": \"\"}}, \"colorscale\": {\"diverging\": [[0, \"#8e0152\"], [0.1, \"#c51b7d\"], [0.2, \"#de77ae\"], [0.3, \"#f1b6da\"], [0.4, \"#fde0ef\"], [0.5, \"#f7f7f7\"], [0.6, \"#e6f5d0\"], [0.7, \"#b8e186\"], [0.8, \"#7fbc41\"], [0.9, \"#4d9221\"], [1, \"#276419\"]], \"sequential\": [[0.0, \"#0d0887\"], [0.1111111111111111, \"#46039f\"], [0.2222222222222222, \"#7201a8\"], [0.3333333333333333, \"#9c179e\"], [0.4444444444444444, \"#bd3786\"], [0.5555555555555556, \"#d8576b\"], [0.6666666666666666, \"#ed7953\"], [0.7777777777777778, \"#fb9f3a\"], [0.8888888888888888, \"#fdca26\"], [1.0, \"#f0f921\"]], \"sequentialminus\": [[0.0, \"#0d0887\"], [0.1111111111111111, \"#46039f\"], [0.2222222222222222, \"#7201a8\"], [0.3333333333333333, \"#9c179e\"], [0.4444444444444444, \"#bd3786\"], [0.5555555555555556, \"#d8576b\"], [0.6666666666666666, \"#ed7953\"], [0.7777777777777778, \"#fb9f3a\"], [0.8888888888888888, \"#fdca26\"], [1.0, \"#f0f921\"]]}, \"colorway\": [\"#636efa\", \"#EF553B\", \"#00cc96\", \"#ab63fa\", \"#FFA15A\", \"#19d3f3\", \"#FF6692\", \"#B6E880\", \"#FF97FF\", \"#FECB52\"], \"font\": {\"color\": \"#2a3f5f\"}, \"geo\": {\"bgcolor\": \"white\", \"lakecolor\": \"white\", \"landcolor\": \"#E5ECF6\", \"showlakes\": true, \"showland\": true, \"subunitcolor\": \"white\"}, \"hoverlabel\": {\"align\": \"left\"}, \"hovermode\": \"closest\", \"mapbox\": {\"style\": \"light\"}, \"paper_bgcolor\": \"white\", \"plot_bgcolor\": \"#E5ECF6\", \"polar\": {\"angularaxis\": {\"gridcolor\": \"white\", \"linecolor\": \"white\", \"ticks\": \"\"}, \"bgcolor\": \"#E5ECF6\", \"radialaxis\": {\"gridcolor\": \"white\", \"linecolor\": \"white\", \"ticks\": \"\"}}, \"scene\": {\"xaxis\": {\"backgroundcolor\": \"#E5ECF6\", \"gridcolor\": \"white\", \"gridwidth\": 2, \"linecolor\": \"white\", \"showbackground\": true, \"ticks\": \"\", \"zerolinecolor\": \"white\"}, \"yaxis\": {\"backgroundcolor\": \"#E5ECF6\", \"gridcolor\": \"white\", \"gridwidth\": 2, \"linecolor\": \"white\", \"showbackground\": true, \"ticks\": \"\", \"zerolinecolor\": \"white\"}, \"zaxis\": {\"backgroundcolor\": \"#E5ECF6\", \"gridcolor\": \"white\", \"gridwidth\": 2, \"linecolor\": \"white\", \"showbackground\": true, \"ticks\": \"\", \"zerolinecolor\": \"white\"}}, \"shapedefaults\": {\"line\": {\"color\": \"#2a3f5f\"}}, \"ternary\": {\"aaxis\": {\"gridcolor\": \"white\", \"linecolor\": \"white\", \"ticks\": \"\"}, \"baxis\": {\"gridcolor\": \"white\", \"linecolor\": \"white\", \"ticks\": \"\"}, \"bgcolor\": \"#E5ECF6\", \"caxis\": {\"gridcolor\": \"white\", \"linecolor\": \"white\", \"ticks\": \"\"}}, \"title\": {\"x\": 0.05}, \"xaxis\": {\"automargin\": true, \"gridcolor\": \"white\", \"linecolor\": \"white\", \"ticks\": \"\", \"title\": {\"standoff\": 15}, \"zerolinecolor\": \"white\", \"zerolinewidth\": 2}, \"yaxis\": {\"automargin\": true, \"gridcolor\": \"white\", \"linecolor\": \"white\", \"ticks\": \"\", \"title\": {\"standoff\": 15}, \"zerolinecolor\": \"white\", \"zerolinewidth\": 2}}}, \"title\": {\"font\": {\"family\": \"Arial\", \"size\": 16}, \"text\": \"<b>GHG Emissions vs. Revenue</b><br>Sector: Communication Services\", \"x\": 0.5}, \"width\": 500, \"xaxis\": {\"autorange\": \"reversed\", \"title\": {\"text\": \"<i>high</i>----------<b>Scope1+2 Emissions</b>----------<i>low</i>\"}, \"type\": \"log\"}, \"yaxis\": {\"title\": {\"text\": \"Revenue\"}, \"type\": \"log\"}},                        {\"displaylogo\": false, \"responsive\": true}                    ).then(function(){\n",
       "                            \n",
       "var gd = document.getElementById('64d7e8f9-471c-40bd-82df-09aca4fea0b5');\n",
       "var x = new MutationObserver(function (mutations, observer) {{\n",
       "        var display = window.getComputedStyle(gd).display;\n",
       "        if (!display || display === 'none') {{\n",
       "            console.log([gd, 'removed!']);\n",
       "            Plotly.purge(gd);\n",
       "            observer.disconnect();\n",
       "        }}\n",
       "}});\n",
       "\n",
       "// Listen for the removal of the full notebook cells\n",
       "var notebookContainer = gd.closest('#notebook-container');\n",
       "if (notebookContainer) {{\n",
       "    x.observe(notebookContainer, {childList: true});\n",
       "}}\n",
       "\n",
       "// Listen for the clearing of the current output cell\n",
       "var outputEl = gd.closest('.output');\n",
       "if (outputEl) {{\n",
       "    x.observe(outputEl, {childList: true});\n",
       "}}\n",
       "\n",
       "                        })                };                });            </script>        </div>"
      ]
     },
     "metadata": {},
     "output_type": "display_data"
    }
   ],
   "source": [
    "offline.iplot(fig, config = config)"
   ]
  },
  {
   "cell_type": "code",
   "execution_count": 32,
   "metadata": {},
   "outputs": [
    {
     "ename": "FileNotFoundError",
     "evalue": "[Errno 2] No such file or directory: '../django_project/static/django_project/images/charts/bubble_intensity_Alphabet Inc. / Google.svg'",
     "output_type": "error",
     "traceback": [
      "\u001b[1;31m---------------------------------------------------------------------------\u001b[0m",
      "\u001b[1;31mFileNotFoundError\u001b[0m                         Traceback (most recent call last)",
      "\u001b[1;32m<ipython-input-32-e5709b82b5ba>\u001b[0m in \u001b[0;36m<module>\u001b[1;34m\u001b[0m\n\u001b[0;32m      1\u001b[0m \u001b[0mname_fig\u001b[0m \u001b[1;33m=\u001b[0m \u001b[1;34m\"bubble_intensity_{}\"\u001b[0m\u001b[1;33m.\u001b[0m\u001b[0mformat\u001b[0m\u001b[1;33m(\u001b[0m\u001b[0mcorp_name\u001b[0m\u001b[1;33m)\u001b[0m\u001b[1;33m\u001b[0m\u001b[1;33m\u001b[0m\u001b[0m\n\u001b[1;32m----> 2\u001b[1;33m \u001b[0mfig\u001b[0m\u001b[1;33m.\u001b[0m\u001b[0mwrite_image\u001b[0m\u001b[1;33m(\u001b[0m\u001b[1;34m\"../django_project/static/django_project/images/charts/{}.svg\"\u001b[0m\u001b[1;33m.\u001b[0m\u001b[0mformat\u001b[0m\u001b[1;33m(\u001b[0m\u001b[0mname_fig\u001b[0m\u001b[1;33m)\u001b[0m\u001b[1;33m,\u001b[0m \u001b[0mscale\u001b[0m\u001b[1;33m=\u001b[0m\u001b[1;36m3\u001b[0m\u001b[1;33m,\u001b[0m \u001b[0mheight\u001b[0m \u001b[1;33m=\u001b[0m \u001b[1;36m300\u001b[0m\u001b[1;33m)\u001b[0m\u001b[1;33m\u001b[0m\u001b[1;33m\u001b[0m\u001b[0m\n\u001b[0m\u001b[0;32m      3\u001b[0m \u001b[0mplot\u001b[0m\u001b[1;33m(\u001b[0m\u001b[0mfig\u001b[0m\u001b[1;33m,\u001b[0m \u001b[0mconfig\u001b[0m\u001b[1;33m=\u001b[0m\u001b[0mconfig\u001b[0m\u001b[1;33m,\u001b[0m \u001b[0mfilename\u001b[0m \u001b[1;33m=\u001b[0m \u001b[1;34m'../django_project/static/django_project/images/html_exports/{}.html'\u001b[0m\u001b[1;33m.\u001b[0m\u001b[0mformat\u001b[0m\u001b[1;33m(\u001b[0m\u001b[0mname_fig\u001b[0m\u001b[1;33m)\u001b[0m\u001b[1;33m,\u001b[0m \u001b[0mauto_open\u001b[0m\u001b[1;33m=\u001b[0m\u001b[1;32mFalse\u001b[0m\u001b[1;33m)\u001b[0m\u001b[1;33m\u001b[0m\u001b[1;33m\u001b[0m\u001b[0m\n",
      "\u001b[1;32m~\\anaconda3\\envs\\cnext\\lib\\site-packages\\plotly\\basedatatypes.py\u001b[0m in \u001b[0;36mwrite_image\u001b[1;34m(self, *args, **kwargs)\u001b[0m\n\u001b[0;32m   3804\u001b[0m         \u001b[1;32mimport\u001b[0m \u001b[0mplotly\u001b[0m\u001b[1;33m.\u001b[0m\u001b[0mio\u001b[0m \u001b[1;32mas\u001b[0m \u001b[0mpio\u001b[0m\u001b[1;33m\u001b[0m\u001b[1;33m\u001b[0m\u001b[0m\n\u001b[0;32m   3805\u001b[0m \u001b[1;33m\u001b[0m\u001b[0m\n\u001b[1;32m-> 3806\u001b[1;33m         \u001b[1;32mreturn\u001b[0m \u001b[0mpio\u001b[0m\u001b[1;33m.\u001b[0m\u001b[0mwrite_image\u001b[0m\u001b[1;33m(\u001b[0m\u001b[0mself\u001b[0m\u001b[1;33m,\u001b[0m \u001b[1;33m*\u001b[0m\u001b[0margs\u001b[0m\u001b[1;33m,\u001b[0m \u001b[1;33m**\u001b[0m\u001b[0mkwargs\u001b[0m\u001b[1;33m)\u001b[0m\u001b[1;33m\u001b[0m\u001b[1;33m\u001b[0m\u001b[0m\n\u001b[0m\u001b[0;32m   3807\u001b[0m \u001b[1;33m\u001b[0m\u001b[0m\n\u001b[0;32m   3808\u001b[0m     \u001b[1;31m# Static helpers\u001b[0m\u001b[1;33m\u001b[0m\u001b[1;33m\u001b[0m\u001b[1;33m\u001b[0m\u001b[0m\n",
      "\u001b[1;32m~\\anaconda3\\envs\\cnext\\lib\\site-packages\\plotly\\io\\_kaleido.py\u001b[0m in \u001b[0;36mwrite_image\u001b[1;34m(fig, file, format, scale, width, height, validate, engine)\u001b[0m\n\u001b[0;32m    256\u001b[0m     \u001b[1;31m# ---------\u001b[0m\u001b[1;33m\u001b[0m\u001b[1;33m\u001b[0m\u001b[1;33m\u001b[0m\u001b[0m\n\u001b[0;32m    257\u001b[0m     \u001b[1;32mif\u001b[0m \u001b[0mfile_is_str\u001b[0m\u001b[1;33m:\u001b[0m\u001b[1;33m\u001b[0m\u001b[1;33m\u001b[0m\u001b[0m\n\u001b[1;32m--> 258\u001b[1;33m         \u001b[1;32mwith\u001b[0m \u001b[0mopen\u001b[0m\u001b[1;33m(\u001b[0m\u001b[0mfile\u001b[0m\u001b[1;33m,\u001b[0m \u001b[1;34m\"wb\"\u001b[0m\u001b[1;33m)\u001b[0m \u001b[1;32mas\u001b[0m \u001b[0mf\u001b[0m\u001b[1;33m:\u001b[0m\u001b[1;33m\u001b[0m\u001b[1;33m\u001b[0m\u001b[0m\n\u001b[0m\u001b[0;32m    259\u001b[0m             \u001b[0mf\u001b[0m\u001b[1;33m.\u001b[0m\u001b[0mwrite\u001b[0m\u001b[1;33m(\u001b[0m\u001b[0mimg_data\u001b[0m\u001b[1;33m)\u001b[0m\u001b[1;33m\u001b[0m\u001b[1;33m\u001b[0m\u001b[0m\n\u001b[0;32m    260\u001b[0m     \u001b[1;32melse\u001b[0m\u001b[1;33m:\u001b[0m\u001b[1;33m\u001b[0m\u001b[1;33m\u001b[0m\u001b[0m\n",
      "\u001b[1;31mFileNotFoundError\u001b[0m: [Errno 2] No such file or directory: '../django_project/static/django_project/images/charts/bubble_intensity_Alphabet Inc. / Google.svg'"
     ]
    }
   ],
   "source": [
    "name_fig = \"bubble_intensity_{}\".format(corp_name)\n",
    "fig.write_image(\"../django_project/static/django_project/images/charts/{}.svg\".format(name_fig), scale=3, height = 300)\n",
    "plot(fig, config=config, filename = '../django_project/static/django_project/images/html_exports/{}.html'.format(name_fig), auto_open=False)"
   ]
  },
  {
   "cell_type": "code",
   "execution_count": null,
   "metadata": {},
   "outputs": [],
   "source": []
  },
  {
   "cell_type": "code",
   "execution_count": null,
   "metadata": {},
   "outputs": [],
   "source": []
  },
  {
   "cell_type": "code",
   "execution_count": null,
   "metadata": {},
   "outputs": [],
   "source": []
  },
  {
   "cell_type": "code",
   "execution_count": null,
   "metadata": {},
   "outputs": [],
   "source": []
  }
 ],
 "metadata": {
  "interpreter": {
   "hash": "2763097f05fa0e79020cf579cd98f61c1a12f2eb3c0b21888a5c169647c48c37"
  },
  "kernelspec": {
   "display_name": "cnext",
   "language": "python",
   "name": "cnext"
  },
  "language_info": {
   "codemirror_mode": {
    "name": "ipython",
    "version": 3
   },
   "file_extension": ".py",
   "mimetype": "text/x-python",
   "name": "python",
   "nbconvert_exporter": "python",
   "pygments_lexer": "ipython3",
   "version": "3.6.13"
  }
 },
 "nbformat": 4,
 "nbformat_minor": 4
}
